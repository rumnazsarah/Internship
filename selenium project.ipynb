{
 "cells": [
  {
   "cell_type": "code",
   "execution_count": 1,
   "id": "949ea1a2",
   "metadata": {},
   "outputs": [],
   "source": [
    "import selenium\n",
    "from selenium import webdriver\n",
    "import pandas as pd\n",
    "import warnings\n",
    "warnings.filterwarnings(\"ignore\")"
   ]
  },
  {
   "cell_type": "code",
   "execution_count": 249,
   "id": "a52aeaff",
   "metadata": {},
   "outputs": [],
   "source": [
    "driver=webdriver.Chrome(r'C:/Users/Dell/Downloads/chromedriver_win32 (1)/chromedriver.exe')"
   ]
  },
  {
   "cell_type": "code",
   "execution_count": 4,
   "id": "ab4bfb64",
   "metadata": {},
   "outputs": [],
   "source": [
    "#1. Write a python program to scrape data for\"Data Analyst\" job position in \"Bangalore\" location. You have to scrape the job-title, job-location, company-name and experience-required. You have to scrape the first 10 jobs data.\n",
    "#using monster.com for this because naukri.com is not accessible from my server.\n",
    "#not scraping experience-required data because that is not present in the page. The only information that you have on the job cards are the job titles, location and company name and the time when the post was made.\n",
    "\n",
    "url='https://www.monster.com/'\n",
    "driver.get(url)"
   ]
  },
  {
   "cell_type": "code",
   "execution_count": 5,
   "id": "a9ea9844",
   "metadata": {},
   "outputs": [
    {
     "data": {
      "text/plain": [
       "<selenium.webdriver.remote.webelement.WebElement (session=\"8c2247f171f7c97df400e0a059a992dd\", element=\"dff06c24-c700-41eb-995e-82cbee181685\")>"
      ]
     },
     "execution_count": 5,
     "metadata": {},
     "output_type": "execute_result"
    }
   ],
   "source": [
    "search_job=driver.find_element_by_xpath(\"/html/body/div[1]/div[1]/main/section[1]/div/div/div/div[1]/div/div/div/div/div[1]/div[2]/form/div/div[1]/div/div/div[2]/input\")\n",
    "search_job"
   ]
  },
  {
   "cell_type": "code",
   "execution_count": 6,
   "id": "6276deaf",
   "metadata": {},
   "outputs": [],
   "source": [
    "search_job.send_keys(\"Data Analyst\")"
   ]
  },
  {
   "cell_type": "code",
   "execution_count": 7,
   "id": "82143a68",
   "metadata": {},
   "outputs": [
    {
     "data": {
      "text/plain": [
       "<selenium.webdriver.remote.webelement.WebElement (session=\"8c2247f171f7c97df400e0a059a992dd\", element=\"129e643e-16d5-4b90-b8b8-5e53a5e03b18\")>"
      ]
     },
     "execution_count": 7,
     "metadata": {},
     "output_type": "execute_result"
    }
   ],
   "source": [
    "search_locn=driver.find_element_by_xpath('/html/body/div[1]/div[1]/main/section[1]/div/div/div/div[1]/div/div/div/div/div[1]/div[2]/form/div/div[2]/div/div/div[2]/input')\n",
    "search_locn"
   ]
  },
  {
   "cell_type": "code",
   "execution_count": 8,
   "id": "e9ebddbb",
   "metadata": {},
   "outputs": [],
   "source": [
    "search_locn.send_keys(\"Bangalore\")"
   ]
  },
  {
   "cell_type": "code",
   "execution_count": 9,
   "id": "240325e8",
   "metadata": {},
   "outputs": [
    {
     "data": {
      "text/plain": [
       "<selenium.webdriver.remote.webelement.WebElement (session=\"8c2247f171f7c97df400e0a059a992dd\", element=\"acfb691a-38a3-42f2-a43a-920ca0b62219\")>"
      ]
     },
     "execution_count": 9,
     "metadata": {},
     "output_type": "execute_result"
    }
   ],
   "source": [
    "search_btn=driver.find_element_by_xpath('/html/body/div[1]/div[1]/main/section[1]/div/div/div/div[1]/div/div/div/div/div[1]/div[2]/form/div/div[2]/button/span[1]')\n",
    "search_btn"
   ]
  },
  {
   "cell_type": "code",
   "execution_count": 10,
   "id": "5fc86409",
   "metadata": {},
   "outputs": [],
   "source": [
    "search_btn.click()"
   ]
  },
  {
   "cell_type": "code",
   "execution_count": 67,
   "id": "3f7158fa",
   "metadata": {},
   "outputs": [],
   "source": [
    "job_titles=driver.find_elements_by_class_name('hwZGwa')"
   ]
  },
  {
   "cell_type": "code",
   "execution_count": null,
   "id": "3411bab0",
   "metadata": {},
   "outputs": [],
   "source": []
  },
  {
   "cell_type": "code",
   "execution_count": null,
   "id": "a0ce291e",
   "metadata": {},
   "outputs": [],
   "source": []
  },
  {
   "cell_type": "code",
   "execution_count": null,
   "id": "5a8f781c",
   "metadata": {},
   "outputs": [],
   "source": []
  },
  {
   "cell_type": "code",
   "execution_count": 68,
   "id": "1fd8bac4",
   "metadata": {},
   "outputs": [
    {
     "data": {
      "text/plain": [
       "[<selenium.webdriver.remote.webelement.WebElement (session=\"8c2247f171f7c97df400e0a059a992dd\", element=\"b78937f9-7cc9-4bf2-8cae-5bd496aab6b1\")>,\n",
       " <selenium.webdriver.remote.webelement.WebElement (session=\"8c2247f171f7c97df400e0a059a992dd\", element=\"1416ea37-d43c-4aec-83e4-9c411ed48271\")>]"
      ]
     },
     "execution_count": 68,
     "metadata": {},
     "output_type": "execute_result"
    }
   ],
   "source": [
    "job_titles[0:2]"
   ]
  },
  {
   "cell_type": "code",
   "execution_count": 69,
   "id": "7dd7fa1e",
   "metadata": {},
   "outputs": [
    {
     "data": {
      "text/plain": [
       "18"
      ]
     },
     "execution_count": 69,
     "metadata": {},
     "output_type": "execute_result"
    }
   ],
   "source": [
    "len(job_titles)"
   ]
  },
  {
   "cell_type": "code",
   "execution_count": null,
   "id": "d30b1039",
   "metadata": {},
   "outputs": [],
   "source": []
  },
  {
   "cell_type": "code",
   "execution_count": 118,
   "id": "71b3b1e3",
   "metadata": {},
   "outputs": [],
   "source": [
    "job_title=[]\n",
    "\n",
    "for i in job_titles:\n",
    "    job_title.append(i.text)\n",
    "    \n",
    "title=job_title[0:10]"
   ]
  },
  {
   "cell_type": "code",
   "execution_count": 119,
   "id": "69144cc8",
   "metadata": {},
   "outputs": [
    {
     "data": {
      "text/plain": [
       "['Data Scientist',\n",
       " 'Data Scientist',\n",
       " 'Junior Data Analyst',\n",
       " 'Data Analyst - Tableau',\n",
       " 'Junior Data Analyst',\n",
       " 'Data Analyst',\n",
       " 'Data Analyst (Qlik Sense)',\n",
       " 'Data Analyst',\n",
       " 'Data Analyst-2100036009',\n",
       " 'Data Analyst']"
      ]
     },
     "execution_count": 119,
     "metadata": {},
     "output_type": "execute_result"
    }
   ],
   "source": [
    "title"
   ]
  },
  {
   "cell_type": "code",
   "execution_count": null,
   "id": "75b4ff15",
   "metadata": {},
   "outputs": [],
   "source": []
  },
  {
   "cell_type": "code",
   "execution_count": 104,
   "id": "0549e665",
   "metadata": {},
   "outputs": [],
   "source": [
    "job_locations=driver.find_elements_by_class_name('ejlalk')\n"
   ]
  },
  {
   "cell_type": "code",
   "execution_count": 106,
   "id": "ff9d4d50",
   "metadata": {},
   "outputs": [
    {
     "data": {
      "text/plain": [
       "[<selenium.webdriver.remote.webelement.WebElement (session=\"8c2247f171f7c97df400e0a059a992dd\", element=\"f4d53cac-8fbb-442a-88f4-6d0e4e6ec75a\")>,\n",
       " <selenium.webdriver.remote.webelement.WebElement (session=\"8c2247f171f7c97df400e0a059a992dd\", element=\"fe2dca4a-555d-4b37-aab9-3cd38615afc2\")>,\n",
       " <selenium.webdriver.remote.webelement.WebElement (session=\"8c2247f171f7c97df400e0a059a992dd\", element=\"29ba5c25-471b-4c1f-beb6-fd4653eb3839\")>,\n",
       " <selenium.webdriver.remote.webelement.WebElement (session=\"8c2247f171f7c97df400e0a059a992dd\", element=\"ee9de5b9-3520-4c1e-8da1-92526dec24bc\")>,\n",
       " <selenium.webdriver.remote.webelement.WebElement (session=\"8c2247f171f7c97df400e0a059a992dd\", element=\"bd6b32a5-4d4e-4cde-97c7-ec383d68e67e\")>,\n",
       " <selenium.webdriver.remote.webelement.WebElement (session=\"8c2247f171f7c97df400e0a059a992dd\", element=\"2556407b-0ad1-4d0b-b732-a509615b74cf\")>,\n",
       " <selenium.webdriver.remote.webelement.WebElement (session=\"8c2247f171f7c97df400e0a059a992dd\", element=\"4d3686ba-5ea9-45ac-86d7-b943b53a4f85\")>,\n",
       " <selenium.webdriver.remote.webelement.WebElement (session=\"8c2247f171f7c97df400e0a059a992dd\", element=\"1d4fa9d9-5d73-4640-b5c3-c8ac8fde2ff1\")>,\n",
       " <selenium.webdriver.remote.webelement.WebElement (session=\"8c2247f171f7c97df400e0a059a992dd\", element=\"1438ea1a-39ab-4899-b1ed-b66cb95dcae5\")>,\n",
       " <selenium.webdriver.remote.webelement.WebElement (session=\"8c2247f171f7c97df400e0a059a992dd\", element=\"a9b5d6da-2b39-4afd-b13b-f8d1595f1dbc\")>,\n",
       " <selenium.webdriver.remote.webelement.WebElement (session=\"8c2247f171f7c97df400e0a059a992dd\", element=\"3288f4cd-5166-4954-be4a-ea67753bdbb1\")>,\n",
       " <selenium.webdriver.remote.webelement.WebElement (session=\"8c2247f171f7c97df400e0a059a992dd\", element=\"10ed503b-d03a-4528-a7f8-d74f1f7e9028\")>,\n",
       " <selenium.webdriver.remote.webelement.WebElement (session=\"8c2247f171f7c97df400e0a059a992dd\", element=\"7506b951-63ac-4143-ab27-6128fad420d3\")>,\n",
       " <selenium.webdriver.remote.webelement.WebElement (session=\"8c2247f171f7c97df400e0a059a992dd\", element=\"4adcdb6f-0c2f-42a5-ba6a-5b1247cbefc2\")>,\n",
       " <selenium.webdriver.remote.webelement.WebElement (session=\"8c2247f171f7c97df400e0a059a992dd\", element=\"fab52d9f-3c96-4ff8-ba43-04d52f12764a\")>,\n",
       " <selenium.webdriver.remote.webelement.WebElement (session=\"8c2247f171f7c97df400e0a059a992dd\", element=\"66421135-2151-46e7-b3f4-c28799c72dc4\")>,\n",
       " <selenium.webdriver.remote.webelement.WebElement (session=\"8c2247f171f7c97df400e0a059a992dd\", element=\"b708133d-a9c8-4edf-93b8-8dcb18c3b29c\")>,\n",
       " <selenium.webdriver.remote.webelement.WebElement (session=\"8c2247f171f7c97df400e0a059a992dd\", element=\"3d935b05-7a9c-40bc-9ea7-b22b20cf82dd\")>,\n",
       " <selenium.webdriver.remote.webelement.WebElement (session=\"8c2247f171f7c97df400e0a059a992dd\", element=\"69849412-2d0c-404b-9677-a636292adac9\")>,\n",
       " <selenium.webdriver.remote.webelement.WebElement (session=\"8c2247f171f7c97df400e0a059a992dd\", element=\"0ac933b7-7d6c-48d0-9b64-5ab6ac53f1c6\")>,\n",
       " <selenium.webdriver.remote.webelement.WebElement (session=\"8c2247f171f7c97df400e0a059a992dd\", element=\"9e3e7292-0526-41e6-b76e-95782cd64fc9\")>,\n",
       " <selenium.webdriver.remote.webelement.WebElement (session=\"8c2247f171f7c97df400e0a059a992dd\", element=\"bc546e39-e2d9-412a-aba9-3d99602eed75\")>,\n",
       " <selenium.webdriver.remote.webelement.WebElement (session=\"8c2247f171f7c97df400e0a059a992dd\", element=\"d9e79192-c06d-494c-a81a-09e06acdbe6c\")>,\n",
       " <selenium.webdriver.remote.webelement.WebElement (session=\"8c2247f171f7c97df400e0a059a992dd\", element=\"f702a9fb-7759-4827-a7bb-8cb86c3b11c2\")>,\n",
       " <selenium.webdriver.remote.webelement.WebElement (session=\"8c2247f171f7c97df400e0a059a992dd\", element=\"b3f980ba-2497-4f04-b3ba-d49c0573cbe9\")>,\n",
       " <selenium.webdriver.remote.webelement.WebElement (session=\"8c2247f171f7c97df400e0a059a992dd\", element=\"32275941-7496-4818-b540-8c2623e7250c\")>,\n",
       " <selenium.webdriver.remote.webelement.WebElement (session=\"8c2247f171f7c97df400e0a059a992dd\", element=\"dee53259-363c-4b53-9b6e-b7314e9665ef\")>,\n",
       " <selenium.webdriver.remote.webelement.WebElement (session=\"8c2247f171f7c97df400e0a059a992dd\", element=\"4f2cda4a-f6dd-4ecb-81b4-98dbe38ea1fd\")>,\n",
       " <selenium.webdriver.remote.webelement.WebElement (session=\"8c2247f171f7c97df400e0a059a992dd\", element=\"608c4c87-3ae9-47f1-a207-feee5ffb6ce1\")>,\n",
       " <selenium.webdriver.remote.webelement.WebElement (session=\"8c2247f171f7c97df400e0a059a992dd\", element=\"e6b8a7f3-eae9-4002-b0ef-3a099b8521d4\")>,\n",
       " <selenium.webdriver.remote.webelement.WebElement (session=\"8c2247f171f7c97df400e0a059a992dd\", element=\"81d2795b-a2b8-4d1a-b9a3-f4405875079f\")>,\n",
       " <selenium.webdriver.remote.webelement.WebElement (session=\"8c2247f171f7c97df400e0a059a992dd\", element=\"b5e212d3-999a-45bc-ad99-e8cfddb8bd2c\")>,\n",
       " <selenium.webdriver.remote.webelement.WebElement (session=\"8c2247f171f7c97df400e0a059a992dd\", element=\"be7103da-19b4-4329-bef1-3643a634dc4c\")>,\n",
       " <selenium.webdriver.remote.webelement.WebElement (session=\"8c2247f171f7c97df400e0a059a992dd\", element=\"a7c5c288-d9a6-4585-9186-dcfae364af66\")>,\n",
       " <selenium.webdriver.remote.webelement.WebElement (session=\"8c2247f171f7c97df400e0a059a992dd\", element=\"9ed21617-4814-4d08-bd66-317136e52684\")>,\n",
       " <selenium.webdriver.remote.webelement.WebElement (session=\"8c2247f171f7c97df400e0a059a992dd\", element=\"a4bb6c73-0db9-43a1-81c7-3dd872dbeecc\")>,\n",
       " <selenium.webdriver.remote.webelement.WebElement (session=\"8c2247f171f7c97df400e0a059a992dd\", element=\"922a5777-b3d5-4225-9dc6-ec966719b05d\")>,\n",
       " <selenium.webdriver.remote.webelement.WebElement (session=\"8c2247f171f7c97df400e0a059a992dd\", element=\"2a3c5fa0-02de-45dd-98b0-667234c6c27a\")>,\n",
       " <selenium.webdriver.remote.webelement.WebElement (session=\"8c2247f171f7c97df400e0a059a992dd\", element=\"bbbd755e-5ef2-4c22-b2ff-9a4e45d4c4af\")>,\n",
       " <selenium.webdriver.remote.webelement.WebElement (session=\"8c2247f171f7c97df400e0a059a992dd\", element=\"9fb14bc2-c855-4db1-b09f-d44963a0b824\")>,\n",
       " <selenium.webdriver.remote.webelement.WebElement (session=\"8c2247f171f7c97df400e0a059a992dd\", element=\"37a59527-2ee2-48a5-bde4-923fa3826fff\")>,\n",
       " <selenium.webdriver.remote.webelement.WebElement (session=\"8c2247f171f7c97df400e0a059a992dd\", element=\"91e841ff-fdf4-45e8-b643-df91f130a234\")>,\n",
       " <selenium.webdriver.remote.webelement.WebElement (session=\"8c2247f171f7c97df400e0a059a992dd\", element=\"d014e756-9f05-4895-a676-3db3baad9fbd\")>,\n",
       " <selenium.webdriver.remote.webelement.WebElement (session=\"8c2247f171f7c97df400e0a059a992dd\", element=\"52595d55-cccd-4b62-9513-f57dfa5783ae\")>,\n",
       " <selenium.webdriver.remote.webelement.WebElement (session=\"8c2247f171f7c97df400e0a059a992dd\", element=\"3fab836f-226e-4ae6-97be-5e8e09549b36\")>,\n",
       " <selenium.webdriver.remote.webelement.WebElement (session=\"8c2247f171f7c97df400e0a059a992dd\", element=\"adb5115d-06b8-4352-af36-fe71b3e64886\")>,\n",
       " <selenium.webdriver.remote.webelement.WebElement (session=\"8c2247f171f7c97df400e0a059a992dd\", element=\"0fc9193b-9789-461b-adc6-a225438e1584\")>,\n",
       " <selenium.webdriver.remote.webelement.WebElement (session=\"8c2247f171f7c97df400e0a059a992dd\", element=\"83b36c6a-dc37-43c0-b404-592283eb66a3\")>,\n",
       " <selenium.webdriver.remote.webelement.WebElement (session=\"8c2247f171f7c97df400e0a059a992dd\", element=\"837e9c8e-e274-4ffb-af95-3567c3363461\")>,\n",
       " <selenium.webdriver.remote.webelement.WebElement (session=\"8c2247f171f7c97df400e0a059a992dd\", element=\"4096f15a-7a1a-43be-9c57-4222d6d0675b\")>,\n",
       " <selenium.webdriver.remote.webelement.WebElement (session=\"8c2247f171f7c97df400e0a059a992dd\", element=\"52b9b394-767c-4cd5-b858-c3b2e6e7bde1\")>,\n",
       " <selenium.webdriver.remote.webelement.WebElement (session=\"8c2247f171f7c97df400e0a059a992dd\", element=\"d5108cc1-2523-4d30-99ea-5355d0400f71\")>,\n",
       " <selenium.webdriver.remote.webelement.WebElement (session=\"8c2247f171f7c97df400e0a059a992dd\", element=\"c919499b-39ae-4320-8c26-491aff89b343\")>,\n",
       " <selenium.webdriver.remote.webelement.WebElement (session=\"8c2247f171f7c97df400e0a059a992dd\", element=\"e3b6ab76-6622-4fd5-bf11-ebee1feaa5e4\")>]"
      ]
     },
     "execution_count": 106,
     "metadata": {},
     "output_type": "execute_result"
    }
   ],
   "source": [
    "job_locations"
   ]
  },
  {
   "cell_type": "code",
   "execution_count": 107,
   "id": "280e67a0",
   "metadata": {},
   "outputs": [
    {
     "data": {
      "text/plain": [
       "54"
      ]
     },
     "execution_count": 107,
     "metadata": {},
     "output_type": "execute_result"
    }
   ],
   "source": [
    "len(job_locations)"
   ]
  },
  {
   "cell_type": "code",
   "execution_count": 120,
   "id": "0a96658e",
   "metadata": {},
   "outputs": [],
   "source": [
    "job_location=[]\n",
    "\n",
    "for i in job_locations:\n",
    "    job_location.append(i.text)\n",
    "    \n",
    "job_loc=job_location[::2][0:10]\n",
    "    "
   ]
  },
  {
   "cell_type": "code",
   "execution_count": 121,
   "id": "26a8c83d",
   "metadata": {},
   "outputs": [
    {
     "data": {
      "text/plain": [
       "['Magadi, Karnataka',\n",
       " 'Dod Ballapur, Karnataka',\n",
       " 'Bengaluru, KT',\n",
       " 'Bengaluru, KT',\n",
       " 'Bengaluru, Karnataka',\n",
       " 'Bengaluru, Karnataka',\n",
       " 'Bangalore, KA',\n",
       " 'Bangalore, KT',\n",
       " 'Bangalore',\n",
       " 'Bengaluru']"
      ]
     },
     "execution_count": 121,
     "metadata": {},
     "output_type": "execute_result"
    }
   ],
   "source": [
    "job_loc"
   ]
  },
  {
   "cell_type": "code",
   "execution_count": null,
   "id": "17942fe8",
   "metadata": {},
   "outputs": [],
   "source": []
  },
  {
   "cell_type": "code",
   "execution_count": 112,
   "id": "79a3048a",
   "metadata": {
    "collapsed": true
   },
   "outputs": [
    {
     "data": {
      "text/plain": [
       "[<selenium.webdriver.remote.webelement.WebElement (session=\"8c2247f171f7c97df400e0a059a992dd\", element=\"a3eca462-0b21-4566-b428-f87cfd63c46f\")>,\n",
       " <selenium.webdriver.remote.webelement.WebElement (session=\"8c2247f171f7c97df400e0a059a992dd\", element=\"e1636aa0-6df1-490f-9e42-b66816301de2\")>,\n",
       " <selenium.webdriver.remote.webelement.WebElement (session=\"8c2247f171f7c97df400e0a059a992dd\", element=\"fe7c8f6a-d57e-4d4e-a1e5-a6c47f199aea\")>,\n",
       " <selenium.webdriver.remote.webelement.WebElement (session=\"8c2247f171f7c97df400e0a059a992dd\", element=\"c91d9be2-e99b-4690-a37c-77867d16e6c1\")>,\n",
       " <selenium.webdriver.remote.webelement.WebElement (session=\"8c2247f171f7c97df400e0a059a992dd\", element=\"a5226d8e-868f-448a-82fe-579e8937be99\")>,\n",
       " <selenium.webdriver.remote.webelement.WebElement (session=\"8c2247f171f7c97df400e0a059a992dd\", element=\"9c9cb3f7-759e-4173-bc54-dec90b645a9d\")>,\n",
       " <selenium.webdriver.remote.webelement.WebElement (session=\"8c2247f171f7c97df400e0a059a992dd\", element=\"e5378ece-2525-4e04-a808-cf5b7c752705\")>,\n",
       " <selenium.webdriver.remote.webelement.WebElement (session=\"8c2247f171f7c97df400e0a059a992dd\", element=\"e2f1c404-f488-4949-a9ea-6bed28dfa3e7\")>,\n",
       " <selenium.webdriver.remote.webelement.WebElement (session=\"8c2247f171f7c97df400e0a059a992dd\", element=\"b18357d9-aa50-49e6-92f7-605865676745\")>,\n",
       " <selenium.webdriver.remote.webelement.WebElement (session=\"8c2247f171f7c97df400e0a059a992dd\", element=\"c792ff0e-2355-4fc5-a7b0-b9f6b5bbf086\")>,\n",
       " <selenium.webdriver.remote.webelement.WebElement (session=\"8c2247f171f7c97df400e0a059a992dd\", element=\"99304000-805f-46f9-90cf-6fd78d64736e\")>,\n",
       " <selenium.webdriver.remote.webelement.WebElement (session=\"8c2247f171f7c97df400e0a059a992dd\", element=\"b08fcd63-e7f9-477a-9113-2e21188dcaeb\")>,\n",
       " <selenium.webdriver.remote.webelement.WebElement (session=\"8c2247f171f7c97df400e0a059a992dd\", element=\"4773b14d-d19c-4ecb-877f-2ccc8ec7d9e0\")>,\n",
       " <selenium.webdriver.remote.webelement.WebElement (session=\"8c2247f171f7c97df400e0a059a992dd\", element=\"332c1db9-55c2-4e4e-9f11-df99716d36f9\")>,\n",
       " <selenium.webdriver.remote.webelement.WebElement (session=\"8c2247f171f7c97df400e0a059a992dd\", element=\"54aa95db-003a-4a52-91f1-8f8556ca3377\")>,\n",
       " <selenium.webdriver.remote.webelement.WebElement (session=\"8c2247f171f7c97df400e0a059a992dd\", element=\"a715746a-6463-4c95-948d-f07bd428eaaa\")>,\n",
       " <selenium.webdriver.remote.webelement.WebElement (session=\"8c2247f171f7c97df400e0a059a992dd\", element=\"26671c7d-2afc-49ce-87f1-2f4f4deb6981\")>,\n",
       " <selenium.webdriver.remote.webelement.WebElement (session=\"8c2247f171f7c97df400e0a059a992dd\", element=\"8499e483-0365-48fb-b899-d3ae1a936678\")>,\n",
       " <selenium.webdriver.remote.webelement.WebElement (session=\"8c2247f171f7c97df400e0a059a992dd\", element=\"0999ced3-01bf-4003-a6f9-bb7c11898244\")>,\n",
       " <selenium.webdriver.remote.webelement.WebElement (session=\"8c2247f171f7c97df400e0a059a992dd\", element=\"d5fbdfee-6abb-490a-a7d3-d667debefa5c\")>,\n",
       " <selenium.webdriver.remote.webelement.WebElement (session=\"8c2247f171f7c97df400e0a059a992dd\", element=\"9ce562a0-c53d-4899-9fbb-b62f1c295770\")>,\n",
       " <selenium.webdriver.remote.webelement.WebElement (session=\"8c2247f171f7c97df400e0a059a992dd\", element=\"d316b60b-c783-4146-8900-e92e8fb0af21\")>,\n",
       " <selenium.webdriver.remote.webelement.WebElement (session=\"8c2247f171f7c97df400e0a059a992dd\", element=\"4254d1be-e28a-49ee-8967-56822ab22007\")>,\n",
       " <selenium.webdriver.remote.webelement.WebElement (session=\"8c2247f171f7c97df400e0a059a992dd\", element=\"f56ec28b-3345-467c-9f06-b8ae7d82d9a4\")>,\n",
       " <selenium.webdriver.remote.webelement.WebElement (session=\"8c2247f171f7c97df400e0a059a992dd\", element=\"63e1714e-2d7b-4f3d-b8e3-91f97d3a343d\")>,\n",
       " <selenium.webdriver.remote.webelement.WebElement (session=\"8c2247f171f7c97df400e0a059a992dd\", element=\"8c1133f3-ba4f-41c9-af8c-82f79d7c4056\")>,\n",
       " <selenium.webdriver.remote.webelement.WebElement (session=\"8c2247f171f7c97df400e0a059a992dd\", element=\"2b26849b-76c4-4edc-99ea-af567f2043bc\")>]"
      ]
     },
     "execution_count": 112,
     "metadata": {},
     "output_type": "execute_result"
    }
   ],
   "source": [
    "company_names=driver.find_elements_by_class_name('iYiJvS')\n",
    "company_names"
   ]
  },
  {
   "cell_type": "code",
   "execution_count": 113,
   "id": "7023c8a1",
   "metadata": {},
   "outputs": [
    {
     "data": {
      "text/plain": [
       "27"
      ]
     },
     "execution_count": 113,
     "metadata": {},
     "output_type": "execute_result"
    }
   ],
   "source": [
    "len(company_names)"
   ]
  },
  {
   "cell_type": "code",
   "execution_count": 122,
   "id": "469186aa",
   "metadata": {},
   "outputs": [
    {
     "data": {
      "text/plain": [
       "['KAS',\n",
       " 'KAS',\n",
       " 'Millennium',\n",
       " 'Apptio',\n",
       " 'EDGE10 Group',\n",
       " 'Portcast',\n",
       " 'Qlik',\n",
       " 'ConcertAI',\n",
       " 'Standard Chartered Bank',\n",
       " \"BYJU'S\"]"
      ]
     },
     "execution_count": 122,
     "metadata": {},
     "output_type": "execute_result"
    }
   ],
   "source": [
    "comp_names=[]\n",
    "\n",
    "for i in company_names:\n",
    "    comp_names.append(i.text)\n",
    "    \n",
    "comp_name=comp_names[0:10]\n",
    "comp_name"
   ]
  },
  {
   "cell_type": "code",
   "execution_count": null,
   "id": "a47e6b73",
   "metadata": {},
   "outputs": [],
   "source": []
  },
  {
   "cell_type": "code",
   "execution_count": 123,
   "id": "25594ad2",
   "metadata": {},
   "outputs": [
    {
     "data": {
      "text/plain": [
       "(10, 10, 10)"
      ]
     },
     "execution_count": 123,
     "metadata": {},
     "output_type": "execute_result"
    }
   ],
   "source": [
    "len(title),len(job_loc),len(comp_name)"
   ]
  },
  {
   "cell_type": "code",
   "execution_count": 124,
   "id": "4e3986ba",
   "metadata": {},
   "outputs": [
    {
     "data": {
      "text/html": [
       "<div>\n",
       "<style scoped>\n",
       "    .dataframe tbody tr th:only-of-type {\n",
       "        vertical-align: middle;\n",
       "    }\n",
       "\n",
       "    .dataframe tbody tr th {\n",
       "        vertical-align: top;\n",
       "    }\n",
       "\n",
       "    .dataframe thead th {\n",
       "        text-align: right;\n",
       "    }\n",
       "</style>\n",
       "<table border=\"1\" class=\"dataframe\">\n",
       "  <thead>\n",
       "    <tr style=\"text-align: right;\">\n",
       "      <th></th>\n",
       "      <th>Job Title</th>\n",
       "      <th>Job Location</th>\n",
       "      <th>Company Name</th>\n",
       "    </tr>\n",
       "  </thead>\n",
       "  <tbody>\n",
       "    <tr>\n",
       "      <th>0</th>\n",
       "      <td>Data Scientist</td>\n",
       "      <td>Magadi, Karnataka</td>\n",
       "      <td>KAS</td>\n",
       "    </tr>\n",
       "    <tr>\n",
       "      <th>1</th>\n",
       "      <td>Data Scientist</td>\n",
       "      <td>Dod Ballapur, Karnataka</td>\n",
       "      <td>KAS</td>\n",
       "    </tr>\n",
       "    <tr>\n",
       "      <th>2</th>\n",
       "      <td>Junior Data Analyst</td>\n",
       "      <td>Bengaluru, KT</td>\n",
       "      <td>Millennium</td>\n",
       "    </tr>\n",
       "    <tr>\n",
       "      <th>3</th>\n",
       "      <td>Data Analyst - Tableau</td>\n",
       "      <td>Bengaluru, KT</td>\n",
       "      <td>Apptio</td>\n",
       "    </tr>\n",
       "    <tr>\n",
       "      <th>4</th>\n",
       "      <td>Junior Data Analyst</td>\n",
       "      <td>Bengaluru, Karnataka</td>\n",
       "      <td>EDGE10 Group</td>\n",
       "    </tr>\n",
       "    <tr>\n",
       "      <th>5</th>\n",
       "      <td>Data Analyst</td>\n",
       "      <td>Bengaluru, Karnataka</td>\n",
       "      <td>Portcast</td>\n",
       "    </tr>\n",
       "    <tr>\n",
       "      <th>6</th>\n",
       "      <td>Data Analyst (Qlik Sense)</td>\n",
       "      <td>Bangalore, KA</td>\n",
       "      <td>Qlik</td>\n",
       "    </tr>\n",
       "    <tr>\n",
       "      <th>7</th>\n",
       "      <td>Data Analyst</td>\n",
       "      <td>Bangalore, KT</td>\n",
       "      <td>ConcertAI</td>\n",
       "    </tr>\n",
       "    <tr>\n",
       "      <th>8</th>\n",
       "      <td>Data Analyst-2100036009</td>\n",
       "      <td>Bangalore</td>\n",
       "      <td>Standard Chartered Bank</td>\n",
       "    </tr>\n",
       "    <tr>\n",
       "      <th>9</th>\n",
       "      <td>Data Analyst</td>\n",
       "      <td>Bengaluru</td>\n",
       "      <td>BYJU'S</td>\n",
       "    </tr>\n",
       "  </tbody>\n",
       "</table>\n",
       "</div>"
      ],
      "text/plain": [
       "                   Job Title             Job Location             Company Name\n",
       "0             Data Scientist        Magadi, Karnataka                      KAS\n",
       "1             Data Scientist  Dod Ballapur, Karnataka                      KAS\n",
       "2        Junior Data Analyst            Bengaluru, KT               Millennium\n",
       "3     Data Analyst - Tableau            Bengaluru, KT                   Apptio\n",
       "4        Junior Data Analyst     Bengaluru, Karnataka             EDGE10 Group\n",
       "5               Data Analyst     Bengaluru, Karnataka                 Portcast\n",
       "6  Data Analyst (Qlik Sense)            Bangalore, KA                     Qlik\n",
       "7               Data Analyst            Bangalore, KT                ConcertAI\n",
       "8    Data Analyst-2100036009                Bangalore  Standard Chartered Bank\n",
       "9               Data Analyst                Bengaluru                   BYJU'S"
      ]
     },
     "execution_count": 124,
     "metadata": {},
     "output_type": "execute_result"
    }
   ],
   "source": [
    "jobs=pd.DataFrame()\n",
    "jobs['Job Title']=title\n",
    "jobs['Job Location']=job_loc\n",
    "jobs['Company Name']=comp_name\n",
    "\n",
    "jobs"
   ]
  },
  {
   "cell_type": "code",
   "execution_count": 135,
   "id": "acdc38d8",
   "metadata": {},
   "outputs": [],
   "source": [
    "driver=webdriver.Chrome(r'C:/Users/Dell/Downloads/chromedriver_win32 (1)/chromedriver.exe')"
   ]
  },
  {
   "cell_type": "code",
   "execution_count": 137,
   "id": "293b32d8",
   "metadata": {},
   "outputs": [],
   "source": [
    "#2. Write a python program to scrape the data for \"Data Scientist\" job position in \"Bangalore\" location. You have to scrape the job-title, job-location and company-name. You have to scrape first 10 jobs data.\n",
    "#using monster.com because naukri.com is inaccessible from my server.\n",
    "\n",
    "url1='https://www.monster.com/'\n",
    "driver.get(url1)"
   ]
  },
  {
   "cell_type": "code",
   "execution_count": 138,
   "id": "7302d063",
   "metadata": {},
   "outputs": [
    {
     "data": {
      "text/plain": [
       "<selenium.webdriver.remote.webelement.WebElement (session=\"2604badba463e40eed99645a36a2bde1\", element=\"4811767e-3c7b-4a88-931b-5b97113c9803\")>"
      ]
     },
     "execution_count": 138,
     "metadata": {},
     "output_type": "execute_result"
    }
   ],
   "source": [
    "search_job1=driver.find_element_by_xpath(\"/html/body/div[1]/div[1]/main/section[1]/div/div/div/div[1]/div/div/div/div/div[1]/div[2]/form/div/div[1]/div/div/div[2]/input\")\n",
    "search_job1"
   ]
  },
  {
   "cell_type": "code",
   "execution_count": 139,
   "id": "7e488f6c",
   "metadata": {},
   "outputs": [],
   "source": [
    "search_job1.send_keys(\"Data Scientist\")"
   ]
  },
  {
   "cell_type": "code",
   "execution_count": 140,
   "id": "394e0a35",
   "metadata": {},
   "outputs": [
    {
     "data": {
      "text/plain": [
       "<selenium.webdriver.remote.webelement.WebElement (session=\"2604badba463e40eed99645a36a2bde1\", element=\"34e16805-d342-4656-9db9-dc87d0d54196\")>"
      ]
     },
     "execution_count": 140,
     "metadata": {},
     "output_type": "execute_result"
    }
   ],
   "source": [
    "search_locn1=driver.find_element_by_xpath('/html/body/div[1]/div[1]/main/section[1]/div/div/div/div[1]/div/div/div/div/div[1]/div[2]/form/div/div[2]/div/div/div[2]/input')\n",
    "search_locn1"
   ]
  },
  {
   "cell_type": "code",
   "execution_count": 141,
   "id": "a85542ea",
   "metadata": {},
   "outputs": [],
   "source": [
    "search_locn1.send_keys(\"Bangalore\")"
   ]
  },
  {
   "cell_type": "code",
   "execution_count": 142,
   "id": "2d080d90",
   "metadata": {},
   "outputs": [
    {
     "data": {
      "text/plain": [
       "<selenium.webdriver.remote.webelement.WebElement (session=\"2604badba463e40eed99645a36a2bde1\", element=\"d1f0e113-d1e5-4a6f-af56-da2cc36fad1d\")>"
      ]
     },
     "execution_count": 142,
     "metadata": {},
     "output_type": "execute_result"
    }
   ],
   "source": [
    "search_btn1=driver.find_element_by_xpath('/html/body/div[1]/div[1]/main/section[1]/div/div/div/div[1]/div/div/div/div/div[1]/div[2]/form/div/div[2]/button/span[1]')\n",
    "search_btn1"
   ]
  },
  {
   "cell_type": "code",
   "execution_count": 143,
   "id": "bf630952",
   "metadata": {},
   "outputs": [],
   "source": [
    "search_btn1.click()"
   ]
  },
  {
   "cell_type": "code",
   "execution_count": 150,
   "id": "1be083e2",
   "metadata": {},
   "outputs": [],
   "source": [
    "dsjob_title=driver.find_elements_by_class_name('hwZGwa')"
   ]
  },
  {
   "cell_type": "code",
   "execution_count": null,
   "id": "7ca0d12d",
   "metadata": {},
   "outputs": [],
   "source": []
  },
  {
   "cell_type": "code",
   "execution_count": null,
   "id": "90330e95",
   "metadata": {},
   "outputs": [],
   "source": []
  },
  {
   "cell_type": "code",
   "execution_count": 151,
   "id": "e4782eb6",
   "metadata": {
    "collapsed": true
   },
   "outputs": [
    {
     "data": {
      "text/plain": [
       "[<selenium.webdriver.remote.webelement.WebElement (session=\"2604badba463e40eed99645a36a2bde1\", element=\"76c723e5-e9ba-49fa-85cb-19791d009949\")>,\n",
       " <selenium.webdriver.remote.webelement.WebElement (session=\"2604badba463e40eed99645a36a2bde1\", element=\"6f17277f-862c-461c-a12c-58c869aac8c0\")>,\n",
       " <selenium.webdriver.remote.webelement.WebElement (session=\"2604badba463e40eed99645a36a2bde1\", element=\"89d47fca-31ee-4392-9a6f-37450bd4647d\")>,\n",
       " <selenium.webdriver.remote.webelement.WebElement (session=\"2604badba463e40eed99645a36a2bde1\", element=\"eca3a929-a654-4530-acba-4121178de82d\")>,\n",
       " <selenium.webdriver.remote.webelement.WebElement (session=\"2604badba463e40eed99645a36a2bde1\", element=\"5d2e543f-4084-46b4-84fc-b97d58995163\")>,\n",
       " <selenium.webdriver.remote.webelement.WebElement (session=\"2604badba463e40eed99645a36a2bde1\", element=\"e9ef5642-bfa7-4fac-9b81-85a5e1b68e5c\")>,\n",
       " <selenium.webdriver.remote.webelement.WebElement (session=\"2604badba463e40eed99645a36a2bde1\", element=\"c628ed08-b7a8-4cda-9d3e-36ff39cc60ab\")>,\n",
       " <selenium.webdriver.remote.webelement.WebElement (session=\"2604badba463e40eed99645a36a2bde1\", element=\"c5a5a616-26f2-44de-aaa7-ccce42b513d4\")>,\n",
       " <selenium.webdriver.remote.webelement.WebElement (session=\"2604badba463e40eed99645a36a2bde1\", element=\"0da920d9-8edf-4da9-b82c-d2e1f4f75a58\")>,\n",
       " <selenium.webdriver.remote.webelement.WebElement (session=\"2604badba463e40eed99645a36a2bde1\", element=\"b134719e-8b85-4764-9985-872cabb56e61\")>,\n",
       " <selenium.webdriver.remote.webelement.WebElement (session=\"2604badba463e40eed99645a36a2bde1\", element=\"f949cc30-cf9c-4bbe-a0ba-2e2605488c43\")>,\n",
       " <selenium.webdriver.remote.webelement.WebElement (session=\"2604badba463e40eed99645a36a2bde1\", element=\"f3ce40fa-ac05-4339-b140-4ae586d0f47c\")>,\n",
       " <selenium.webdriver.remote.webelement.WebElement (session=\"2604badba463e40eed99645a36a2bde1\", element=\"40a85787-c519-49ab-b194-82998bd59f9d\")>,\n",
       " <selenium.webdriver.remote.webelement.WebElement (session=\"2604badba463e40eed99645a36a2bde1\", element=\"23246eb9-97e3-493c-a770-1ffd096a01d8\")>,\n",
       " <selenium.webdriver.remote.webelement.WebElement (session=\"2604badba463e40eed99645a36a2bde1\", element=\"e9f0899a-1c67-4593-90a9-342cbb2675de\")>,\n",
       " <selenium.webdriver.remote.webelement.WebElement (session=\"2604badba463e40eed99645a36a2bde1\", element=\"68299f72-b309-4ec0-8d01-7e44b2980923\")>,\n",
       " <selenium.webdriver.remote.webelement.WebElement (session=\"2604badba463e40eed99645a36a2bde1\", element=\"2606dc70-bb23-4471-8e0d-622f217f196b\")>,\n",
       " <selenium.webdriver.remote.webelement.WebElement (session=\"2604badba463e40eed99645a36a2bde1\", element=\"345dbe28-6728-4eae-aa44-09f7f65d440d\")>]"
      ]
     },
     "execution_count": 151,
     "metadata": {},
     "output_type": "execute_result"
    }
   ],
   "source": [
    "dsjob_title"
   ]
  },
  {
   "cell_type": "code",
   "execution_count": 152,
   "id": "b529abd7",
   "metadata": {},
   "outputs": [
    {
     "data": {
      "text/plain": [
       "18"
      ]
     },
     "execution_count": 152,
     "metadata": {},
     "output_type": "execute_result"
    }
   ],
   "source": [
    "len(dsjob_title)"
   ]
  },
  {
   "cell_type": "code",
   "execution_count": 155,
   "id": "6ec7d336",
   "metadata": {},
   "outputs": [],
   "source": [
    "dsjob_titles=[]\n",
    "\n",
    "for i in dsjob_title:\n",
    "    dsjob_titles.append(i.text)\n",
    "    \n",
    "dstitle=dsjob_titles[0:10]"
   ]
  },
  {
   "cell_type": "code",
   "execution_count": 156,
   "id": "316b2f05",
   "metadata": {},
   "outputs": [
    {
     "data": {
      "text/plain": [
       "['Data Scientist',\n",
       " 'Data Scientist',\n",
       " 'Machine Learning - Software Engineer',\n",
       " 'Machine Learning - Software Engineer',\n",
       " 'Data Scientist',\n",
       " 'Senior Data Scientist',\n",
       " 'Sr. Data Scientist',\n",
       " 'Data Scientist',\n",
       " 'Data Scientist - GoFood',\n",
       " 'Senior Data Scientist']"
      ]
     },
     "execution_count": 156,
     "metadata": {},
     "output_type": "execute_result"
    }
   ],
   "source": [
    "dstitle"
   ]
  },
  {
   "cell_type": "code",
   "execution_count": 160,
   "id": "d946fa76",
   "metadata": {
    "collapsed": true
   },
   "outputs": [
    {
     "data": {
      "text/plain": [
       "[<selenium.webdriver.remote.webelement.WebElement (session=\"2604badba463e40eed99645a36a2bde1\", element=\"e8139554-477b-4f85-a5da-30ea932db1db\")>,\n",
       " <selenium.webdriver.remote.webelement.WebElement (session=\"2604badba463e40eed99645a36a2bde1\", element=\"e05302f7-0e56-48b3-802b-510e576a459f\")>,\n",
       " <selenium.webdriver.remote.webelement.WebElement (session=\"2604badba463e40eed99645a36a2bde1\", element=\"0326738d-195d-46b1-8e68-b541fb757c04\")>,\n",
       " <selenium.webdriver.remote.webelement.WebElement (session=\"2604badba463e40eed99645a36a2bde1\", element=\"fa8c5d27-087f-4c1a-a9cb-2d7fcf24d6f6\")>,\n",
       " <selenium.webdriver.remote.webelement.WebElement (session=\"2604badba463e40eed99645a36a2bde1\", element=\"73ddb5de-6846-4d0d-98bb-15d0d6e4ccd7\")>,\n",
       " <selenium.webdriver.remote.webelement.WebElement (session=\"2604badba463e40eed99645a36a2bde1\", element=\"f0df84c0-f45c-47ba-b9eb-bc32f09bc22a\")>,\n",
       " <selenium.webdriver.remote.webelement.WebElement (session=\"2604badba463e40eed99645a36a2bde1\", element=\"98949bc9-e3a8-4a16-92f1-cbed1b61b876\")>,\n",
       " <selenium.webdriver.remote.webelement.WebElement (session=\"2604badba463e40eed99645a36a2bde1\", element=\"02da38d1-bcc8-43e0-a0bf-07659f97269b\")>,\n",
       " <selenium.webdriver.remote.webelement.WebElement (session=\"2604badba463e40eed99645a36a2bde1\", element=\"0c76ebef-5bb7-4a42-9f52-46c484a313e2\")>,\n",
       " <selenium.webdriver.remote.webelement.WebElement (session=\"2604badba463e40eed99645a36a2bde1\", element=\"725ae35e-9441-4b96-a468-2f44f3676fac\")>,\n",
       " <selenium.webdriver.remote.webelement.WebElement (session=\"2604badba463e40eed99645a36a2bde1\", element=\"e7240ce0-89c2-4c62-ad18-c6265e8620cb\")>,\n",
       " <selenium.webdriver.remote.webelement.WebElement (session=\"2604badba463e40eed99645a36a2bde1\", element=\"a798f211-bbd3-44d5-a1c6-c87bd77971b0\")>,\n",
       " <selenium.webdriver.remote.webelement.WebElement (session=\"2604badba463e40eed99645a36a2bde1\", element=\"8e0d7a60-5c7b-4afe-9d45-80d90a1b6a67\")>,\n",
       " <selenium.webdriver.remote.webelement.WebElement (session=\"2604badba463e40eed99645a36a2bde1\", element=\"db91b7b3-907b-47c1-b6a3-78d8ab0f4430\")>,\n",
       " <selenium.webdriver.remote.webelement.WebElement (session=\"2604badba463e40eed99645a36a2bde1\", element=\"f1821fcf-d2f4-4782-a29c-608b771e0368\")>,\n",
       " <selenium.webdriver.remote.webelement.WebElement (session=\"2604badba463e40eed99645a36a2bde1\", element=\"29eae9e8-6fd8-462e-a445-ac11eba522ed\")>,\n",
       " <selenium.webdriver.remote.webelement.WebElement (session=\"2604badba463e40eed99645a36a2bde1\", element=\"198edf26-2981-4b64-b4fe-d26a4d7b02b4\")>,\n",
       " <selenium.webdriver.remote.webelement.WebElement (session=\"2604badba463e40eed99645a36a2bde1\", element=\"92cd85b4-54dc-4074-93be-3e2c8abcf2ac\")>,\n",
       " <selenium.webdriver.remote.webelement.WebElement (session=\"2604badba463e40eed99645a36a2bde1\", element=\"ad8e52e1-a992-4217-ba6d-867656e5302f\")>,\n",
       " <selenium.webdriver.remote.webelement.WebElement (session=\"2604badba463e40eed99645a36a2bde1\", element=\"ee6b5f20-9ac3-4739-af11-1b46062093f4\")>,\n",
       " <selenium.webdriver.remote.webelement.WebElement (session=\"2604badba463e40eed99645a36a2bde1\", element=\"6a56bd0c-e96d-4158-a877-73969bf030ee\")>,\n",
       " <selenium.webdriver.remote.webelement.WebElement (session=\"2604badba463e40eed99645a36a2bde1\", element=\"e3675d8e-a839-4678-a6e8-784f712c2c1f\")>,\n",
       " <selenium.webdriver.remote.webelement.WebElement (session=\"2604badba463e40eed99645a36a2bde1\", element=\"844aa626-ea73-40c7-98bc-b72b2d96efb9\")>,\n",
       " <selenium.webdriver.remote.webelement.WebElement (session=\"2604badba463e40eed99645a36a2bde1\", element=\"df2b1d66-f08e-4cd7-9cf4-ba54a43f29bf\")>,\n",
       " <selenium.webdriver.remote.webelement.WebElement (session=\"2604badba463e40eed99645a36a2bde1\", element=\"9a6b906c-109d-499a-aced-98c90c832975\")>,\n",
       " <selenium.webdriver.remote.webelement.WebElement (session=\"2604badba463e40eed99645a36a2bde1\", element=\"67a2c156-1a14-4d9d-bc90-76c17722a40f\")>,\n",
       " <selenium.webdriver.remote.webelement.WebElement (session=\"2604badba463e40eed99645a36a2bde1\", element=\"715ce42d-4c1c-4189-8437-04acaec34faf\")>,\n",
       " <selenium.webdriver.remote.webelement.WebElement (session=\"2604badba463e40eed99645a36a2bde1\", element=\"3bf68f64-b298-4cfd-aed0-88b9497ec4ff\")>,\n",
       " <selenium.webdriver.remote.webelement.WebElement (session=\"2604badba463e40eed99645a36a2bde1\", element=\"6a2b1b38-abca-44ed-952a-114c4ec6d807\")>,\n",
       " <selenium.webdriver.remote.webelement.WebElement (session=\"2604badba463e40eed99645a36a2bde1\", element=\"ebeef225-c86b-4f8c-b855-d8743c0260b1\")>,\n",
       " <selenium.webdriver.remote.webelement.WebElement (session=\"2604badba463e40eed99645a36a2bde1\", element=\"dd8d3888-1301-4430-bf27-da21d587c0c2\")>,\n",
       " <selenium.webdriver.remote.webelement.WebElement (session=\"2604badba463e40eed99645a36a2bde1\", element=\"23083d89-92f2-44a0-85e0-9b0a323c8dc5\")>,\n",
       " <selenium.webdriver.remote.webelement.WebElement (session=\"2604badba463e40eed99645a36a2bde1\", element=\"c0b241c6-aa66-44d8-8808-3cbb4c99102f\")>,\n",
       " <selenium.webdriver.remote.webelement.WebElement (session=\"2604badba463e40eed99645a36a2bde1\", element=\"bcc31c88-0e8f-4334-b15e-c1db746d3d00\")>,\n",
       " <selenium.webdriver.remote.webelement.WebElement (session=\"2604badba463e40eed99645a36a2bde1\", element=\"a441e3a0-daa2-422d-ad43-8c26dbfb9ffc\")>,\n",
       " <selenium.webdriver.remote.webelement.WebElement (session=\"2604badba463e40eed99645a36a2bde1\", element=\"bcc26415-4719-4e59-b6a3-1830a13e8e0c\")>]"
      ]
     },
     "execution_count": 160,
     "metadata": {},
     "output_type": "execute_result"
    }
   ],
   "source": [
    "dsjob_location=driver.find_elements_by_class_name('ejlalk')\n",
    "dsjob_location"
   ]
  },
  {
   "cell_type": "code",
   "execution_count": 161,
   "id": "50f27ad8",
   "metadata": {},
   "outputs": [
    {
     "data": {
      "text/plain": [
       "36"
      ]
     },
     "execution_count": 161,
     "metadata": {},
     "output_type": "execute_result"
    }
   ],
   "source": [
    "len(dsjob_location)"
   ]
  },
  {
   "cell_type": "code",
   "execution_count": 164,
   "id": "627b772c",
   "metadata": {},
   "outputs": [],
   "source": [
    "dsjob_locations=[]\n",
    "\n",
    "for i in dsjob_location:\n",
    "    dsjob_locations.append(i.text)\n",
    "    \n",
    "dsjob_loc=dsjob_locations[::2] [0:10]\n",
    "    "
   ]
  },
  {
   "cell_type": "code",
   "execution_count": 165,
   "id": "d8032421",
   "metadata": {},
   "outputs": [
    {
     "data": {
      "text/plain": [
       "['Magadi, Karnataka',\n",
       " 'Devanhalli, Karnataka',\n",
       " 'Dod Ballapur, Karnataka',\n",
       " 'Anekal, Karnataka',\n",
       " 'Bangalore, Karnataka',\n",
       " 'Bengaluru, KA',\n",
       " 'Bangalore, KT',\n",
       " 'Bangalore',\n",
       " 'Bengaluru',\n",
       " 'Bengaluru, Karnataka']"
      ]
     },
     "execution_count": 165,
     "metadata": {},
     "output_type": "execute_result"
    }
   ],
   "source": [
    "dsjob_loc"
   ]
  },
  {
   "cell_type": "code",
   "execution_count": 167,
   "id": "2c1d7d44",
   "metadata": {
    "collapsed": true
   },
   "outputs": [
    {
     "data": {
      "text/plain": [
       "[<selenium.webdriver.remote.webelement.WebElement (session=\"2604badba463e40eed99645a36a2bde1\", element=\"e1a90712-4c21-460b-96f4-6cdbf8d8a424\")>,\n",
       " <selenium.webdriver.remote.webelement.WebElement (session=\"2604badba463e40eed99645a36a2bde1\", element=\"055de232-fcf1-40ee-9ba8-33db9eb781cd\")>,\n",
       " <selenium.webdriver.remote.webelement.WebElement (session=\"2604badba463e40eed99645a36a2bde1\", element=\"e5137ab4-d54b-4ed3-8dd7-d26c323013b4\")>,\n",
       " <selenium.webdriver.remote.webelement.WebElement (session=\"2604badba463e40eed99645a36a2bde1\", element=\"b2cc64ff-3bec-48db-9a7f-9edea91d874a\")>,\n",
       " <selenium.webdriver.remote.webelement.WebElement (session=\"2604badba463e40eed99645a36a2bde1\", element=\"2ac3c550-9993-4087-8005-061d1387c3d2\")>,\n",
       " <selenium.webdriver.remote.webelement.WebElement (session=\"2604badba463e40eed99645a36a2bde1\", element=\"8b3ee477-d7f2-45c5-a975-cc55495958be\")>,\n",
       " <selenium.webdriver.remote.webelement.WebElement (session=\"2604badba463e40eed99645a36a2bde1\", element=\"171b4de9-6379-484b-9664-2806136eab62\")>,\n",
       " <selenium.webdriver.remote.webelement.WebElement (session=\"2604badba463e40eed99645a36a2bde1\", element=\"fe8858db-8ec6-4284-a48a-003892d85dbb\")>,\n",
       " <selenium.webdriver.remote.webelement.WebElement (session=\"2604badba463e40eed99645a36a2bde1\", element=\"304e9080-28cd-43fd-8f56-366ae406edbd\")>,\n",
       " <selenium.webdriver.remote.webelement.WebElement (session=\"2604badba463e40eed99645a36a2bde1\", element=\"fdd01d75-bd4a-4ddc-afc8-62d2a59b96e4\")>,\n",
       " <selenium.webdriver.remote.webelement.WebElement (session=\"2604badba463e40eed99645a36a2bde1\", element=\"fa062cf1-f96b-484e-a18f-2ea5e8feefef\")>,\n",
       " <selenium.webdriver.remote.webelement.WebElement (session=\"2604badba463e40eed99645a36a2bde1\", element=\"3006de71-47ce-4787-bb63-e276eb92c085\")>,\n",
       " <selenium.webdriver.remote.webelement.WebElement (session=\"2604badba463e40eed99645a36a2bde1\", element=\"59f66cad-814f-41cb-bc96-cfb481c06bf9\")>,\n",
       " <selenium.webdriver.remote.webelement.WebElement (session=\"2604badba463e40eed99645a36a2bde1\", element=\"f5bb5868-1a96-4e14-876d-9ff65d99d264\")>,\n",
       " <selenium.webdriver.remote.webelement.WebElement (session=\"2604badba463e40eed99645a36a2bde1\", element=\"2e198042-4664-4bb6-a96d-129102b67552\")>,\n",
       " <selenium.webdriver.remote.webelement.WebElement (session=\"2604badba463e40eed99645a36a2bde1\", element=\"0a8e54a5-846b-41f2-a94f-35e40da815f1\")>,\n",
       " <selenium.webdriver.remote.webelement.WebElement (session=\"2604badba463e40eed99645a36a2bde1\", element=\"f86c1969-b152-4e19-9d51-8813347ac6da\")>,\n",
       " <selenium.webdriver.remote.webelement.WebElement (session=\"2604badba463e40eed99645a36a2bde1\", element=\"d206be2e-f2b5-4e77-8a39-8c9c7ad61308\")>]"
      ]
     },
     "execution_count": 167,
     "metadata": {},
     "output_type": "execute_result"
    }
   ],
   "source": [
    "dscompany=driver.find_elements_by_class_name('iYiJvS')\n",
    "dscompany"
   ]
  },
  {
   "cell_type": "code",
   "execution_count": 168,
   "id": "8838a3f5",
   "metadata": {},
   "outputs": [
    {
     "data": {
      "text/plain": [
       "18"
      ]
     },
     "execution_count": 168,
     "metadata": {},
     "output_type": "execute_result"
    }
   ],
   "source": [
    "len(dscompany)"
   ]
  },
  {
   "cell_type": "code",
   "execution_count": 169,
   "id": "f66e6682",
   "metadata": {
    "collapsed": true
   },
   "outputs": [
    {
     "data": {
      "text/plain": [
       "['KAS',\n",
       " 'KAS',\n",
       " '7-Eleven',\n",
       " '7-Eleven',\n",
       " 'Kimberly-Clark Corporation',\n",
       " 'Talentify',\n",
       " 'Philips Lighting',\n",
       " 'Encora',\n",
       " 'Gojek',\n",
       " 'Entropik Tech']"
      ]
     },
     "execution_count": 169,
     "metadata": {},
     "output_type": "execute_result"
    }
   ],
   "source": [
    "dscomp_names=[]\n",
    "\n",
    "for i in dscompany:\n",
    "    dscomp_names.append(i.text)\n",
    "    \n",
    "dscomp_names=dscomp_names[0:10]\n",
    "dscomp_names"
   ]
  },
  {
   "cell_type": "code",
   "execution_count": 171,
   "id": "82373e7a",
   "metadata": {},
   "outputs": [
    {
     "data": {
      "text/plain": [
       "(10, 10, 10)"
      ]
     },
     "execution_count": 171,
     "metadata": {},
     "output_type": "execute_result"
    }
   ],
   "source": [
    "len(dstitle),len(dsjob_loc),len(dscomp_names)"
   ]
  },
  {
   "cell_type": "code",
   "execution_count": 173,
   "id": "a2cd37d5",
   "metadata": {},
   "outputs": [
    {
     "data": {
      "text/html": [
       "<div>\n",
       "<style scoped>\n",
       "    .dataframe tbody tr th:only-of-type {\n",
       "        vertical-align: middle;\n",
       "    }\n",
       "\n",
       "    .dataframe tbody tr th {\n",
       "        vertical-align: top;\n",
       "    }\n",
       "\n",
       "    .dataframe thead th {\n",
       "        text-align: right;\n",
       "    }\n",
       "</style>\n",
       "<table border=\"1\" class=\"dataframe\">\n",
       "  <thead>\n",
       "    <tr style=\"text-align: right;\">\n",
       "      <th></th>\n",
       "      <th>Job Title</th>\n",
       "      <th>Job Location</th>\n",
       "      <th>Company Name</th>\n",
       "    </tr>\n",
       "  </thead>\n",
       "  <tbody>\n",
       "    <tr>\n",
       "      <th>0</th>\n",
       "      <td>Data Scientist</td>\n",
       "      <td>Magadi, Karnataka</td>\n",
       "      <td>KAS</td>\n",
       "    </tr>\n",
       "    <tr>\n",
       "      <th>1</th>\n",
       "      <td>Data Scientist</td>\n",
       "      <td>Devanhalli, Karnataka</td>\n",
       "      <td>KAS</td>\n",
       "    </tr>\n",
       "    <tr>\n",
       "      <th>2</th>\n",
       "      <td>Machine Learning - Software Engineer</td>\n",
       "      <td>Dod Ballapur, Karnataka</td>\n",
       "      <td>7-Eleven</td>\n",
       "    </tr>\n",
       "    <tr>\n",
       "      <th>3</th>\n",
       "      <td>Machine Learning - Software Engineer</td>\n",
       "      <td>Anekal, Karnataka</td>\n",
       "      <td>7-Eleven</td>\n",
       "    </tr>\n",
       "    <tr>\n",
       "      <th>4</th>\n",
       "      <td>Data Scientist</td>\n",
       "      <td>Bangalore, Karnataka</td>\n",
       "      <td>Kimberly-Clark Corporation</td>\n",
       "    </tr>\n",
       "    <tr>\n",
       "      <th>5</th>\n",
       "      <td>Senior Data Scientist</td>\n",
       "      <td>Bengaluru, KA</td>\n",
       "      <td>Talentify</td>\n",
       "    </tr>\n",
       "    <tr>\n",
       "      <th>6</th>\n",
       "      <td>Sr. Data Scientist</td>\n",
       "      <td>Bangalore, KT</td>\n",
       "      <td>Philips Lighting</td>\n",
       "    </tr>\n",
       "    <tr>\n",
       "      <th>7</th>\n",
       "      <td>Data Scientist</td>\n",
       "      <td>Bangalore</td>\n",
       "      <td>Encora</td>\n",
       "    </tr>\n",
       "    <tr>\n",
       "      <th>8</th>\n",
       "      <td>Data Scientist - GoFood</td>\n",
       "      <td>Bengaluru</td>\n",
       "      <td>Gojek</td>\n",
       "    </tr>\n",
       "    <tr>\n",
       "      <th>9</th>\n",
       "      <td>Senior Data Scientist</td>\n",
       "      <td>Bengaluru, Karnataka</td>\n",
       "      <td>Entropik Tech</td>\n",
       "    </tr>\n",
       "  </tbody>\n",
       "</table>\n",
       "</div>"
      ],
      "text/plain": [
       "                              Job Title             Job Location  \\\n",
       "0                        Data Scientist        Magadi, Karnataka   \n",
       "1                        Data Scientist    Devanhalli, Karnataka   \n",
       "2  Machine Learning - Software Engineer  Dod Ballapur, Karnataka   \n",
       "3  Machine Learning - Software Engineer        Anekal, Karnataka   \n",
       "4                        Data Scientist     Bangalore, Karnataka   \n",
       "5                 Senior Data Scientist            Bengaluru, KA   \n",
       "6                    Sr. Data Scientist            Bangalore, KT   \n",
       "7                        Data Scientist                Bangalore   \n",
       "8               Data Scientist - GoFood                Bengaluru   \n",
       "9                 Senior Data Scientist     Bengaluru, Karnataka   \n",
       "\n",
       "                 Company Name  \n",
       "0                         KAS  \n",
       "1                         KAS  \n",
       "2                    7-Eleven  \n",
       "3                    7-Eleven  \n",
       "4  Kimberly-Clark Corporation  \n",
       "5                   Talentify  \n",
       "6            Philips Lighting  \n",
       "7                      Encora  \n",
       "8                       Gojek  \n",
       "9               Entropik Tech  "
      ]
     },
     "execution_count": 173,
     "metadata": {},
     "output_type": "execute_result"
    }
   ],
   "source": [
    "dsjobs=pd.DataFrame()\n",
    "dsjobs['Job Title']=dstitle\n",
    "dsjobs['Job Location']=dsjob_loc\n",
    "dsjobs['Company Name']=dscomp_names\n",
    "\n",
    "dsjobs"
   ]
  },
  {
   "cell_type": "code",
   "execution_count": null,
   "id": "8bd96d09",
   "metadata": {},
   "outputs": [],
   "source": [
    "#3. "
   ]
  },
  {
   "cell_type": "code",
   "execution_count": 174,
   "id": "031c8497",
   "metadata": {},
   "outputs": [],
   "source": [
    "#4."
   ]
  },
  {
   "cell_type": "code",
   "execution_count": 3,
   "id": "f770d0a5",
   "metadata": {},
   "outputs": [],
   "source": [
    "driver=webdriver.Chrome(r'C:/Users/Dell/Downloads/chromedriver_win32 (1)/chromedriver.exe')"
   ]
  },
  {
   "cell_type": "code",
   "execution_count": 4,
   "id": "86d578cd",
   "metadata": {},
   "outputs": [],
   "source": [
    "url3='https://www.flipkart.com'\n",
    "driver.get(url3)"
   ]
  },
  {
   "cell_type": "code",
   "execution_count": 5,
   "id": "e7ed342e",
   "metadata": {},
   "outputs": [],
   "source": [
    "try:\n",
    "    ad_cross=driver.find_element_by_class_name('_2doB4z')\n",
    "    ad_cross.click()\n",
    "except:\n",
    "    print('No element with this class name.Skipping!')"
   ]
  },
  {
   "cell_type": "code",
   "execution_count": 6,
   "id": "86897e5a",
   "metadata": {},
   "outputs": [
    {
     "data": {
      "text/plain": [
       "<selenium.webdriver.remote.webelement.WebElement (session=\"c363c1c0f880ec3581f97b61472ac9ed\", element=\"4ab21487-485d-4951-8402-5692a6aa72bb\")>"
      ]
     },
     "execution_count": 6,
     "metadata": {},
     "output_type": "execute_result"
    }
   ],
   "source": [
    "search_product1=driver.find_element_by_xpath('/html/body/div[1]/div/div[1]/div[1]/div[2]/div[2]/form/div/div/input')\n",
    "search_product1"
   ]
  },
  {
   "cell_type": "code",
   "execution_count": 7,
   "id": "1f558d38",
   "metadata": {},
   "outputs": [],
   "source": [
    "search_product1.send_keys('sunglasses')"
   ]
  },
  {
   "cell_type": "code",
   "execution_count": 8,
   "id": "e0ee606b",
   "metadata": {},
   "outputs": [
    {
     "data": {
      "text/plain": [
       "<selenium.webdriver.remote.webelement.WebElement (session=\"c363c1c0f880ec3581f97b61472ac9ed\", element=\"8d27cb1c-d189-4373-918f-3f05fc0357ed\")>"
      ]
     },
     "execution_count": 8,
     "metadata": {},
     "output_type": "execute_result"
    }
   ],
   "source": [
    "search_btn1=driver.find_element_by_xpath('/html/body/div[1]/div/div[1]/div[1]/div[2]/div[2]/form/div/button')\n",
    "search_btn1"
   ]
  },
  {
   "cell_type": "code",
   "execution_count": 9,
   "id": "5dcd6807",
   "metadata": {},
   "outputs": [],
   "source": [
    "search_btn1.click()"
   ]
  },
  {
   "cell_type": "code",
   "execution_count": 16,
   "id": "f385acdf",
   "metadata": {
    "collapsed": true
   },
   "outputs": [
    {
     "data": {
      "text/plain": [
       "[<selenium.webdriver.remote.webelement.WebElement (session=\"c363c1c0f880ec3581f97b61472ac9ed\", element=\"b4a6478d-e4d0-451a-af37-7733c5069042\")>,\n",
       " <selenium.webdriver.remote.webelement.WebElement (session=\"c363c1c0f880ec3581f97b61472ac9ed\", element=\"3fe1bb42-901b-4bb6-b0c7-8ba57db0ddc3\")>,\n",
       " <selenium.webdriver.remote.webelement.WebElement (session=\"c363c1c0f880ec3581f97b61472ac9ed\", element=\"ac8428a7-f925-42d8-8c4a-4d138e1a361a\")>,\n",
       " <selenium.webdriver.remote.webelement.WebElement (session=\"c363c1c0f880ec3581f97b61472ac9ed\", element=\"ee0ab295-7ca7-44bd-834c-b33b42ee4ebc\")>,\n",
       " <selenium.webdriver.remote.webelement.WebElement (session=\"c363c1c0f880ec3581f97b61472ac9ed\", element=\"ca2004b8-fcff-4d59-9127-3d81a2e3a67a\")>,\n",
       " <selenium.webdriver.remote.webelement.WebElement (session=\"c363c1c0f880ec3581f97b61472ac9ed\", element=\"0d4ad11c-18c4-4196-b471-9fe252370840\")>,\n",
       " <selenium.webdriver.remote.webelement.WebElement (session=\"c363c1c0f880ec3581f97b61472ac9ed\", element=\"0bedb783-0389-457b-b145-b758c27199ba\")>,\n",
       " <selenium.webdriver.remote.webelement.WebElement (session=\"c363c1c0f880ec3581f97b61472ac9ed\", element=\"4252c222-a6ab-4ca2-9fff-d48a923c107f\")>,\n",
       " <selenium.webdriver.remote.webelement.WebElement (session=\"c363c1c0f880ec3581f97b61472ac9ed\", element=\"f8b12f96-b479-45ba-bfee-036528bf8310\")>,\n",
       " <selenium.webdriver.remote.webelement.WebElement (session=\"c363c1c0f880ec3581f97b61472ac9ed\", element=\"a588cb67-152e-4afa-accd-8dbcc63bb4ee\")>,\n",
       " <selenium.webdriver.remote.webelement.WebElement (session=\"c363c1c0f880ec3581f97b61472ac9ed\", element=\"c8cdb29d-e05e-47cd-bf7d-79ab454b5912\")>,\n",
       " <selenium.webdriver.remote.webelement.WebElement (session=\"c363c1c0f880ec3581f97b61472ac9ed\", element=\"b5b7c7d3-e272-4093-b7c0-bc48b9a7f75c\")>,\n",
       " <selenium.webdriver.remote.webelement.WebElement (session=\"c363c1c0f880ec3581f97b61472ac9ed\", element=\"66172d13-9f7e-4247-9201-3d63ac6910d2\")>,\n",
       " <selenium.webdriver.remote.webelement.WebElement (session=\"c363c1c0f880ec3581f97b61472ac9ed\", element=\"4f390f1f-f2bc-4073-bb94-9e4c7116c7ed\")>,\n",
       " <selenium.webdriver.remote.webelement.WebElement (session=\"c363c1c0f880ec3581f97b61472ac9ed\", element=\"c2a0aafa-da9b-4e59-8fb4-018dcd8576d9\")>,\n",
       " <selenium.webdriver.remote.webelement.WebElement (session=\"c363c1c0f880ec3581f97b61472ac9ed\", element=\"e8261eef-44dc-417f-99c6-74bb337450f9\")>,\n",
       " <selenium.webdriver.remote.webelement.WebElement (session=\"c363c1c0f880ec3581f97b61472ac9ed\", element=\"0b360232-d104-4c72-a602-81adceb7656c\")>,\n",
       " <selenium.webdriver.remote.webelement.WebElement (session=\"c363c1c0f880ec3581f97b61472ac9ed\", element=\"cc98ab9e-3777-4206-a64d-620597e6ccb4\")>,\n",
       " <selenium.webdriver.remote.webelement.WebElement (session=\"c363c1c0f880ec3581f97b61472ac9ed\", element=\"de38be40-8136-44bd-bfb7-bfd74c9ec6b8\")>,\n",
       " <selenium.webdriver.remote.webelement.WebElement (session=\"c363c1c0f880ec3581f97b61472ac9ed\", element=\"0b805d45-0461-4a83-80c6-094eb5d09b73\")>,\n",
       " <selenium.webdriver.remote.webelement.WebElement (session=\"c363c1c0f880ec3581f97b61472ac9ed\", element=\"f2605fa2-41f0-4de0-afdb-8fb732d7af72\")>,\n",
       " <selenium.webdriver.remote.webelement.WebElement (session=\"c363c1c0f880ec3581f97b61472ac9ed\", element=\"4e9158fa-f9ec-4edb-b896-c2c64b50c5ff\")>,\n",
       " <selenium.webdriver.remote.webelement.WebElement (session=\"c363c1c0f880ec3581f97b61472ac9ed\", element=\"f7669de8-421d-422d-9612-2e942eae8572\")>,\n",
       " <selenium.webdriver.remote.webelement.WebElement (session=\"c363c1c0f880ec3581f97b61472ac9ed\", element=\"02196eb0-440d-4758-9148-8b14fd641075\")>,\n",
       " <selenium.webdriver.remote.webelement.WebElement (session=\"c363c1c0f880ec3581f97b61472ac9ed\", element=\"1d9eb6cf-2b85-4a7e-8cda-d1ece5964314\")>,\n",
       " <selenium.webdriver.remote.webelement.WebElement (session=\"c363c1c0f880ec3581f97b61472ac9ed\", element=\"ff79e61a-acab-47eb-a48f-1a44eee85711\")>,\n",
       " <selenium.webdriver.remote.webelement.WebElement (session=\"c363c1c0f880ec3581f97b61472ac9ed\", element=\"a219c150-89e6-46c5-9015-7a5dfe4f7300\")>,\n",
       " <selenium.webdriver.remote.webelement.WebElement (session=\"c363c1c0f880ec3581f97b61472ac9ed\", element=\"be70a65e-c306-4084-bd44-e66437aa5073\")>,\n",
       " <selenium.webdriver.remote.webelement.WebElement (session=\"c363c1c0f880ec3581f97b61472ac9ed\", element=\"06445726-b2b1-4c3d-8465-d13b17702280\")>,\n",
       " <selenium.webdriver.remote.webelement.WebElement (session=\"c363c1c0f880ec3581f97b61472ac9ed\", element=\"74b4fb00-1373-4a01-bd46-e847e27b8cbc\")>,\n",
       " <selenium.webdriver.remote.webelement.WebElement (session=\"c363c1c0f880ec3581f97b61472ac9ed\", element=\"a334dc1c-ca71-4e2f-9cf3-85be68705efa\")>,\n",
       " <selenium.webdriver.remote.webelement.WebElement (session=\"c363c1c0f880ec3581f97b61472ac9ed\", element=\"ace5c2dc-2903-4582-a037-5920f2926053\")>,\n",
       " <selenium.webdriver.remote.webelement.WebElement (session=\"c363c1c0f880ec3581f97b61472ac9ed\", element=\"4e49e22f-b433-4d32-b6b5-86e7db001037\")>,\n",
       " <selenium.webdriver.remote.webelement.WebElement (session=\"c363c1c0f880ec3581f97b61472ac9ed\", element=\"8efc662a-307f-4132-b862-d80954849cbc\")>,\n",
       " <selenium.webdriver.remote.webelement.WebElement (session=\"c363c1c0f880ec3581f97b61472ac9ed\", element=\"8135c906-028a-4b08-9767-c57f9ba06abc\")>,\n",
       " <selenium.webdriver.remote.webelement.WebElement (session=\"c363c1c0f880ec3581f97b61472ac9ed\", element=\"e8781b77-4cac-4768-859a-a08af8539027\")>,\n",
       " <selenium.webdriver.remote.webelement.WebElement (session=\"c363c1c0f880ec3581f97b61472ac9ed\", element=\"fb7f8a91-c965-48bd-9ee5-5d831af666b7\")>,\n",
       " <selenium.webdriver.remote.webelement.WebElement (session=\"c363c1c0f880ec3581f97b61472ac9ed\", element=\"9a2d16c2-6194-404c-bc0c-3a8921ae7029\")>,\n",
       " <selenium.webdriver.remote.webelement.WebElement (session=\"c363c1c0f880ec3581f97b61472ac9ed\", element=\"f7e63cc4-32eb-4487-9a40-503442bae259\")>,\n",
       " <selenium.webdriver.remote.webelement.WebElement (session=\"c363c1c0f880ec3581f97b61472ac9ed\", element=\"a9aab7bd-0354-43bd-83cb-4d848f471636\")>]"
      ]
     },
     "execution_count": 16,
     "metadata": {},
     "output_type": "execute_result"
    }
   ],
   "source": [
    "sgs_brands=driver.find_elements_by_class_name('_2WkVRV')\n",
    "sgs_brands"
   ]
  },
  {
   "cell_type": "code",
   "execution_count": null,
   "id": "2ffd8a4b",
   "metadata": {},
   "outputs": [],
   "source": []
  },
  {
   "cell_type": "code",
   "execution_count": 14,
   "id": "7fe852d6",
   "metadata": {},
   "outputs": [
    {
     "data": {
      "text/plain": [
       "'Ray-Ban'"
      ]
     },
     "execution_count": 14,
     "metadata": {},
     "output_type": "execute_result"
    }
   ],
   "source": [
    "sgs_brands=driver.find_element_by_class_name('_2WkVRV')\n",
    "sgs_brands.text"
   ]
  },
  {
   "cell_type": "code",
   "execution_count": 17,
   "id": "41165ee7",
   "metadata": {
    "collapsed": true
   },
   "outputs": [
    {
     "data": {
      "text/plain": [
       "['Ray-Ban',\n",
       " 'Ray-Ban',\n",
       " 'SRPM',\n",
       " 'SUNBEE',\n",
       " 'ROZZETTA CRAFT',\n",
       " 'PIRASO',\n",
       " 'Elligator',\n",
       " 'Ray-Ban',\n",
       " 'DEIXELS',\n",
       " 'Fastrack',\n",
       " 'New Specs',\n",
       " 'Ray-Ban',\n",
       " 'PIRASO',\n",
       " 'SHAAH COLLECTIONS',\n",
       " 'PIRASO',\n",
       " 'ROZZETTA CRAFT',\n",
       " 'GANSTA',\n",
       " 'Lee Topper',\n",
       " 'PIRASO',\n",
       " 'VINCENT CHASE',\n",
       " 'Lee Topper',\n",
       " 'Silver Kartz',\n",
       " 'kingsunglasses',\n",
       " 'povty',\n",
       " 'PHENOMENAL',\n",
       " 'kingsunglasses',\n",
       " 'ROYAL SON',\n",
       " 'Ray-Ban',\n",
       " 'kingsunglasses',\n",
       " 'SUNBEE',\n",
       " 'SRPM',\n",
       " 'VINCENT CHASE',\n",
       " 'Fastrack',\n",
       " 'GANSTA',\n",
       " 'Elligator',\n",
       " 'VILLAIN',\n",
       " 'Singco India',\n",
       " 'PIRASO',\n",
       " 'kingsunglasses',\n",
       " 'Ray-Ban']"
      ]
     },
     "execution_count": 17,
     "metadata": {},
     "output_type": "execute_result"
    }
   ],
   "source": [
    "brands_sunglass=[]\n",
    "\n",
    "for i in sgs_brands:\n",
    "    brands_sunglass.append(i.text)\n",
    "    \n",
    "brands_sunglass[0:40]"
   ]
  },
  {
   "cell_type": "code",
   "execution_count": 222,
   "id": "adf49efd",
   "metadata": {},
   "outputs": [
    {
     "data": {
      "text/plain": [
       "40"
      ]
     },
     "execution_count": 222,
     "metadata": {},
     "output_type": "execute_result"
    }
   ],
   "source": [
    "len(sgs_brands)"
   ]
  },
  {
   "cell_type": "code",
   "execution_count": 19,
   "id": "f0e70afb",
   "metadata": {},
   "outputs": [
    {
     "data": {
      "text/plain": [
       "<selenium.webdriver.remote.webelement.WebElement (session=\"c363c1c0f880ec3581f97b61472ac9ed\", element=\"dcbf1cd1-3845-4e66-8d03-eb0f26358ebf\")>"
      ]
     },
     "execution_count": 19,
     "metadata": {},
     "output_type": "execute_result"
    }
   ],
   "source": [
    "sgs_des_sing=driver.find_element_by_class_name('IRpwTa')\n",
    "sgs_des_sing"
   ]
  },
  {
   "cell_type": "code",
   "execution_count": null,
   "id": "49d1b534",
   "metadata": {},
   "outputs": [],
   "source": []
  },
  {
   "cell_type": "code",
   "execution_count": 20,
   "id": "20d47a55",
   "metadata": {},
   "outputs": [
    {
     "data": {
      "text/plain": [
       "'UV Protection Rectangular Sunglasses (Free Size)'"
      ]
     },
     "execution_count": 20,
     "metadata": {},
     "output_type": "execute_result"
    }
   ],
   "source": [
    "sgs_des_sing.text"
   ]
  },
  {
   "cell_type": "code",
   "execution_count": null,
   "id": "ddbb28b6",
   "metadata": {},
   "outputs": [],
   "source": []
  },
  {
   "cell_type": "code",
   "execution_count": null,
   "id": "7fe77bb9",
   "metadata": {},
   "outputs": [],
   "source": []
  },
  {
   "cell_type": "code",
   "execution_count": 18,
   "id": "dea58699",
   "metadata": {
    "collapsed": true
   },
   "outputs": [
    {
     "data": {
      "text/plain": [
       "[<selenium.webdriver.remote.webelement.WebElement (session=\"c363c1c0f880ec3581f97b61472ac9ed\", element=\"dcbf1cd1-3845-4e66-8d03-eb0f26358ebf\")>,\n",
       " <selenium.webdriver.remote.webelement.WebElement (session=\"c363c1c0f880ec3581f97b61472ac9ed\", element=\"3426dc4a-7957-4dbf-aa55-8f1c4dc08901\")>,\n",
       " <selenium.webdriver.remote.webelement.WebElement (session=\"c363c1c0f880ec3581f97b61472ac9ed\", element=\"2b13a0c7-cb6c-41de-b87f-edbea903c989\")>,\n",
       " <selenium.webdriver.remote.webelement.WebElement (session=\"c363c1c0f880ec3581f97b61472ac9ed\", element=\"5809182e-831f-4903-90fe-42ea52729892\")>,\n",
       " <selenium.webdriver.remote.webelement.WebElement (session=\"c363c1c0f880ec3581f97b61472ac9ed\", element=\"2bc85de5-feb5-4a59-a325-a80f551715e8\")>,\n",
       " <selenium.webdriver.remote.webelement.WebElement (session=\"c363c1c0f880ec3581f97b61472ac9ed\", element=\"0696a98c-df92-46fc-b5cb-ed08795e5a9c\")>,\n",
       " <selenium.webdriver.remote.webelement.WebElement (session=\"c363c1c0f880ec3581f97b61472ac9ed\", element=\"b8ac63a4-43ca-4122-ab31-8fd0ea27f688\")>,\n",
       " <selenium.webdriver.remote.webelement.WebElement (session=\"c363c1c0f880ec3581f97b61472ac9ed\", element=\"25bddc9e-0ee1-4d9d-94e8-7f9dfa2e3e65\")>,\n",
       " <selenium.webdriver.remote.webelement.WebElement (session=\"c363c1c0f880ec3581f97b61472ac9ed\", element=\"47277153-b6e8-48bc-a6ca-0dab1f1a4cde\")>,\n",
       " <selenium.webdriver.remote.webelement.WebElement (session=\"c363c1c0f880ec3581f97b61472ac9ed\", element=\"2ee3c707-48c6-4bc0-b295-1dc48dff7cf9\")>,\n",
       " <selenium.webdriver.remote.webelement.WebElement (session=\"c363c1c0f880ec3581f97b61472ac9ed\", element=\"66514d01-499d-4a03-af5a-417eda2b44fa\")>,\n",
       " <selenium.webdriver.remote.webelement.WebElement (session=\"c363c1c0f880ec3581f97b61472ac9ed\", element=\"fa02fc56-9aae-4508-847a-6ca1d3ffef7d\")>,\n",
       " <selenium.webdriver.remote.webelement.WebElement (session=\"c363c1c0f880ec3581f97b61472ac9ed\", element=\"64d8c250-f37e-40b5-a920-881b95d467c9\")>,\n",
       " <selenium.webdriver.remote.webelement.WebElement (session=\"c363c1c0f880ec3581f97b61472ac9ed\", element=\"8a537c3a-49d5-44b1-9b82-2b3104245412\")>,\n",
       " <selenium.webdriver.remote.webelement.WebElement (session=\"c363c1c0f880ec3581f97b61472ac9ed\", element=\"bb0d47f9-beb4-472f-9009-cac5f83febdb\")>,\n",
       " <selenium.webdriver.remote.webelement.WebElement (session=\"c363c1c0f880ec3581f97b61472ac9ed\", element=\"a33c0962-ab50-4ece-a8d9-998fabe8f711\")>,\n",
       " <selenium.webdriver.remote.webelement.WebElement (session=\"c363c1c0f880ec3581f97b61472ac9ed\", element=\"4b8bb7eb-f1a4-4d70-bc51-79074ddfa515\")>,\n",
       " <selenium.webdriver.remote.webelement.WebElement (session=\"c363c1c0f880ec3581f97b61472ac9ed\", element=\"7fdd7c46-3ca4-49f3-86bc-cd836e202a6a\")>,\n",
       " <selenium.webdriver.remote.webelement.WebElement (session=\"c363c1c0f880ec3581f97b61472ac9ed\", element=\"d0219318-7eec-4899-ab45-f58a64704235\")>,\n",
       " <selenium.webdriver.remote.webelement.WebElement (session=\"c363c1c0f880ec3581f97b61472ac9ed\", element=\"8d3a1f2c-82d0-498a-a273-77882678eeb4\")>,\n",
       " <selenium.webdriver.remote.webelement.WebElement (session=\"c363c1c0f880ec3581f97b61472ac9ed\", element=\"7e717137-45c0-472c-a896-de9cdd66a705\")>,\n",
       " <selenium.webdriver.remote.webelement.WebElement (session=\"c363c1c0f880ec3581f97b61472ac9ed\", element=\"6c2023eb-fda6-4b28-863f-158cd855d27a\")>,\n",
       " <selenium.webdriver.remote.webelement.WebElement (session=\"c363c1c0f880ec3581f97b61472ac9ed\", element=\"b6c7ec36-c9eb-49e4-9198-d3bfec14425b\")>,\n",
       " <selenium.webdriver.remote.webelement.WebElement (session=\"c363c1c0f880ec3581f97b61472ac9ed\", element=\"b47f9c2a-607e-4572-9964-d4ce3911f4f4\")>,\n",
       " <selenium.webdriver.remote.webelement.WebElement (session=\"c363c1c0f880ec3581f97b61472ac9ed\", element=\"16453343-c7b7-4968-9041-7000a9c190f2\")>,\n",
       " <selenium.webdriver.remote.webelement.WebElement (session=\"c363c1c0f880ec3581f97b61472ac9ed\", element=\"b74d9e73-3435-46ec-9ca5-0f239c70958d\")>,\n",
       " <selenium.webdriver.remote.webelement.WebElement (session=\"c363c1c0f880ec3581f97b61472ac9ed\", element=\"821ae21a-928e-4d93-83e6-bb312028ddec\")>,\n",
       " <selenium.webdriver.remote.webelement.WebElement (session=\"c363c1c0f880ec3581f97b61472ac9ed\", element=\"cb2c2597-1f87-499b-989d-7f0f21759239\")>,\n",
       " <selenium.webdriver.remote.webelement.WebElement (session=\"c363c1c0f880ec3581f97b61472ac9ed\", element=\"d2f844fe-2dcd-4d9a-852e-82cfc42e05c0\")>,\n",
       " <selenium.webdriver.remote.webelement.WebElement (session=\"c363c1c0f880ec3581f97b61472ac9ed\", element=\"e25e272e-ba7e-4b87-b2da-de34f4912e22\")>,\n",
       " <selenium.webdriver.remote.webelement.WebElement (session=\"c363c1c0f880ec3581f97b61472ac9ed\", element=\"e974e355-6bb5-4004-a30c-e22012d2b1d8\")>,\n",
       " <selenium.webdriver.remote.webelement.WebElement (session=\"c363c1c0f880ec3581f97b61472ac9ed\", element=\"f746e5a5-c958-4444-9cae-250f679b8791\")>,\n",
       " <selenium.webdriver.remote.webelement.WebElement (session=\"c363c1c0f880ec3581f97b61472ac9ed\", element=\"84b227e3-2ef1-4a30-9cc7-73bad2123f2c\")>,\n",
       " <selenium.webdriver.remote.webelement.WebElement (session=\"c363c1c0f880ec3581f97b61472ac9ed\", element=\"c225d1da-e24d-480c-962f-7080e58c0afb\")>,\n",
       " <selenium.webdriver.remote.webelement.WebElement (session=\"c363c1c0f880ec3581f97b61472ac9ed\", element=\"d27c490f-8575-45db-9092-4057050532f2\")>,\n",
       " <selenium.webdriver.remote.webelement.WebElement (session=\"c363c1c0f880ec3581f97b61472ac9ed\", element=\"229ff474-e46b-4a3c-a3fe-c99872676a3c\")>,\n",
       " <selenium.webdriver.remote.webelement.WebElement (session=\"c363c1c0f880ec3581f97b61472ac9ed\", element=\"c790a683-2ca5-4e06-91f5-5497d565b4eb\")>,\n",
       " <selenium.webdriver.remote.webelement.WebElement (session=\"c363c1c0f880ec3581f97b61472ac9ed\", element=\"024e9049-595c-4df0-8cfa-c580fdc43b20\")>,\n",
       " <selenium.webdriver.remote.webelement.WebElement (session=\"c363c1c0f880ec3581f97b61472ac9ed\", element=\"e855a2ec-664d-41fb-b1cd-695a7bb26831\")>,\n",
       " <selenium.webdriver.remote.webelement.WebElement (session=\"c363c1c0f880ec3581f97b61472ac9ed\", element=\"e9edb0bd-7b95-4d10-82a0-51d15dd5a983\")>]"
      ]
     },
     "execution_count": 18,
     "metadata": {},
     "output_type": "execute_result"
    }
   ],
   "source": [
    "sgs_description=driver.find_elements_by_class_name('IRpwTa')\n",
    "sgs_description"
   ]
  },
  {
   "cell_type": "code",
   "execution_count": 242,
   "id": "1f21655d",
   "metadata": {},
   "outputs": [
    {
     "data": {
      "text/plain": [
       "40"
      ]
     },
     "execution_count": 242,
     "metadata": {},
     "output_type": "execute_result"
    }
   ],
   "source": [
    "len(sgs_description)"
   ]
  },
  {
   "cell_type": "code",
   "execution_count": 21,
   "id": "5b14ca0b",
   "metadata": {
    "collapsed": true
   },
   "outputs": [
    {
     "data": {
      "text/plain": [
       "['UV Protection Rectangular Sunglasses (Free Size)',\n",
       " 'UV Protection Round Sunglasses (50)',\n",
       " 'UV Protection Wayfarer Sunglasses (50)',\n",
       " 'UV Protection, Polarized Wayfarer Sunglasses (Free Size...',\n",
       " 'Polarized, Night Vision, Riding Glasses Sports, Wrap-ar...',\n",
       " 'UV Protection Aviator Sunglasses (54)',\n",
       " 'UV Protection Round Sunglasses (54)',\n",
       " 'Gradient Round Sunglasses (54)',\n",
       " 'UV Protection Aviator, Wayfarer Sunglasses (Free Size)',\n",
       " 'UV Protection Rectangular Sunglasses (Free Size)',\n",
       " 'UV Protection Rectangular Sunglasses (Free Size)',\n",
       " 'Polarized Aviator Sunglasses (58)',\n",
       " 'UV Protection Aviator Sunglasses (54)',\n",
       " 'UV Protection, Polarized, Mirrored Rectangular Sunglass...',\n",
       " 'UV Protection Wayfarer Sunglasses (55)',\n",
       " 'UV Protection, Gradient Rectangular Sunglasses (Free Si...',\n",
       " 'UV Protection, Riding Glasses Wayfarer Sunglasses (53)',\n",
       " 'Riding Glasses Wrap-around Sunglasses (Free Size)',\n",
       " 'UV Protection Aviator Sunglasses (54)',\n",
       " 'by Lenskart Polarized, UV Protection Round Sunglasses (...',\n",
       " 'UV Protection Rectangular Sunglasses (Free Size)',\n",
       " 'UV Protection Wayfarer Sunglasses (Free Size)',\n",
       " 'UV Protection, Riding Glasses, Mirrored Wayfarer Sungla...',\n",
       " 'UV Protection Retro Square Sunglasses (Free Size)',\n",
       " 'UV Protection Retro Square Sunglasses (53)',\n",
       " 'Mirrored, UV Protection Wayfarer Sunglasses (Free Size)',\n",
       " 'Mirrored Aviator Sunglasses (55)',\n",
       " 'UV Protection Wayfarer Sunglasses (55)',\n",
       " 'UV Protection Round Sunglasses (54)',\n",
       " 'UV Protection, Polarized, Mirrored Round Sunglasses (Fr...',\n",
       " 'UV Protection Wayfarer Sunglasses (53)',\n",
       " 'by Lenskart Polarized, UV Protection Wayfarer Sunglasse...',\n",
       " 'UV Protection Wayfarer Sunglasses (Free Size)',\n",
       " 'UV Protection Aviator Sunglasses (57)',\n",
       " 'UV Protection Round Sunglasses (53)',\n",
       " 'Others Wayfarer Sunglasses (Free Size)',\n",
       " 'Riding Glasses, UV Protection, Others Aviator Sunglasse...',\n",
       " 'UV Protection Wayfarer Sunglasses (32)',\n",
       " 'UV Protection Round Sunglasses (Free Size)',\n",
       " 'UV Protection Wayfarer Sunglasses (56)']"
      ]
     },
     "execution_count": 21,
     "metadata": {},
     "output_type": "execute_result"
    }
   ],
   "source": [
    "desc_sunglass=[]\n",
    "\n",
    "for i in sgs_description:\n",
    "    desc_sunglass.append(i.text)\n",
    "    \n",
    "desc_sunglass[0:40]"
   ]
  },
  {
   "cell_type": "code",
   "execution_count": 22,
   "id": "bcd4801a",
   "metadata": {
    "collapsed": true
   },
   "outputs": [
    {
     "data": {
      "text/plain": [
       "[<selenium.webdriver.remote.webelement.WebElement (session=\"c363c1c0f880ec3581f97b61472ac9ed\", element=\"1d09317b-997e-4165-8a3f-ef1b4b2e1ea5\")>,\n",
       " <selenium.webdriver.remote.webelement.WebElement (session=\"c363c1c0f880ec3581f97b61472ac9ed\", element=\"1ce97ade-1606-4278-b1c9-c46363a047c4\")>,\n",
       " <selenium.webdriver.remote.webelement.WebElement (session=\"c363c1c0f880ec3581f97b61472ac9ed\", element=\"fe7c4066-075c-4979-a93d-4059a824e934\")>,\n",
       " <selenium.webdriver.remote.webelement.WebElement (session=\"c363c1c0f880ec3581f97b61472ac9ed\", element=\"fcc7d02a-c147-462e-961d-01acddb34a84\")>,\n",
       " <selenium.webdriver.remote.webelement.WebElement (session=\"c363c1c0f880ec3581f97b61472ac9ed\", element=\"b773c671-9e85-4fb2-9aa7-a0ff32d6458d\")>,\n",
       " <selenium.webdriver.remote.webelement.WebElement (session=\"c363c1c0f880ec3581f97b61472ac9ed\", element=\"1840a433-3e78-49c6-b9f7-b1fd66ef42d2\")>,\n",
       " <selenium.webdriver.remote.webelement.WebElement (session=\"c363c1c0f880ec3581f97b61472ac9ed\", element=\"c0c86828-da4a-486e-8996-0c71e78d1399\")>,\n",
       " <selenium.webdriver.remote.webelement.WebElement (session=\"c363c1c0f880ec3581f97b61472ac9ed\", element=\"61240925-ec72-47a5-8d5e-4d4674a21575\")>,\n",
       " <selenium.webdriver.remote.webelement.WebElement (session=\"c363c1c0f880ec3581f97b61472ac9ed\", element=\"cc846a93-39a8-4346-9723-b52c10c22fcf\")>,\n",
       " <selenium.webdriver.remote.webelement.WebElement (session=\"c363c1c0f880ec3581f97b61472ac9ed\", element=\"b1772480-d8e0-41ba-adb9-a1a79a341c2b\")>,\n",
       " <selenium.webdriver.remote.webelement.WebElement (session=\"c363c1c0f880ec3581f97b61472ac9ed\", element=\"0198abaa-aa8f-49bf-8a14-6754b3dd4199\")>,\n",
       " <selenium.webdriver.remote.webelement.WebElement (session=\"c363c1c0f880ec3581f97b61472ac9ed\", element=\"29c6ff55-ce39-49c6-81df-0c33845f9028\")>,\n",
       " <selenium.webdriver.remote.webelement.WebElement (session=\"c363c1c0f880ec3581f97b61472ac9ed\", element=\"92cb06a9-ba4f-4d32-b80c-9cb40109e719\")>,\n",
       " <selenium.webdriver.remote.webelement.WebElement (session=\"c363c1c0f880ec3581f97b61472ac9ed\", element=\"ef8e5d99-8216-4aa4-a5e6-32358230ecea\")>,\n",
       " <selenium.webdriver.remote.webelement.WebElement (session=\"c363c1c0f880ec3581f97b61472ac9ed\", element=\"d081a284-91dc-4901-94e0-4e3b0f111a62\")>,\n",
       " <selenium.webdriver.remote.webelement.WebElement (session=\"c363c1c0f880ec3581f97b61472ac9ed\", element=\"e9e712a9-d7db-4ff2-b05d-ee01ccb551e7\")>,\n",
       " <selenium.webdriver.remote.webelement.WebElement (session=\"c363c1c0f880ec3581f97b61472ac9ed\", element=\"7dfde4ef-0010-4215-ad56-a879bcaa6074\")>,\n",
       " <selenium.webdriver.remote.webelement.WebElement (session=\"c363c1c0f880ec3581f97b61472ac9ed\", element=\"008493d9-7bd7-452f-b162-35a7aabaaa60\")>,\n",
       " <selenium.webdriver.remote.webelement.WebElement (session=\"c363c1c0f880ec3581f97b61472ac9ed\", element=\"52d73000-9d77-4cb2-835f-9f75ffa58de0\")>,\n",
       " <selenium.webdriver.remote.webelement.WebElement (session=\"c363c1c0f880ec3581f97b61472ac9ed\", element=\"94bc321f-3cc7-4b17-b966-9b57d4baa255\")>,\n",
       " <selenium.webdriver.remote.webelement.WebElement (session=\"c363c1c0f880ec3581f97b61472ac9ed\", element=\"8e4d854f-18fa-46ea-b3f7-e29c7409ae51\")>,\n",
       " <selenium.webdriver.remote.webelement.WebElement (session=\"c363c1c0f880ec3581f97b61472ac9ed\", element=\"2bd88775-f821-45c6-b512-a25db4f8bc93\")>,\n",
       " <selenium.webdriver.remote.webelement.WebElement (session=\"c363c1c0f880ec3581f97b61472ac9ed\", element=\"102c8e4d-60fb-4428-b515-ecf6b82965b1\")>,\n",
       " <selenium.webdriver.remote.webelement.WebElement (session=\"c363c1c0f880ec3581f97b61472ac9ed\", element=\"20b06566-c8f3-4853-bce9-f7943a45f936\")>,\n",
       " <selenium.webdriver.remote.webelement.WebElement (session=\"c363c1c0f880ec3581f97b61472ac9ed\", element=\"a8aed55c-cb01-493c-9c66-fa493303bbe4\")>,\n",
       " <selenium.webdriver.remote.webelement.WebElement (session=\"c363c1c0f880ec3581f97b61472ac9ed\", element=\"5cd19a54-cc86-4e42-850e-4a79affe116d\")>,\n",
       " <selenium.webdriver.remote.webelement.WebElement (session=\"c363c1c0f880ec3581f97b61472ac9ed\", element=\"a5c50212-dba7-4ad7-987d-599003a75005\")>,\n",
       " <selenium.webdriver.remote.webelement.WebElement (session=\"c363c1c0f880ec3581f97b61472ac9ed\", element=\"fc625094-5324-4291-b32c-6bd3c1d9912f\")>,\n",
       " <selenium.webdriver.remote.webelement.WebElement (session=\"c363c1c0f880ec3581f97b61472ac9ed\", element=\"865485df-b967-45b0-8f59-68980102c1f7\")>,\n",
       " <selenium.webdriver.remote.webelement.WebElement (session=\"c363c1c0f880ec3581f97b61472ac9ed\", element=\"ec9bda5a-3525-4064-9b10-b5259937338e\")>,\n",
       " <selenium.webdriver.remote.webelement.WebElement (session=\"c363c1c0f880ec3581f97b61472ac9ed\", element=\"241b0b85-5d22-4a3b-9e2b-cac31e018703\")>,\n",
       " <selenium.webdriver.remote.webelement.WebElement (session=\"c363c1c0f880ec3581f97b61472ac9ed\", element=\"679d800f-b611-485e-ab83-83c8ede83231\")>,\n",
       " <selenium.webdriver.remote.webelement.WebElement (session=\"c363c1c0f880ec3581f97b61472ac9ed\", element=\"7ea0ea52-2310-4c5a-996b-00b4408b44b5\")>,\n",
       " <selenium.webdriver.remote.webelement.WebElement (session=\"c363c1c0f880ec3581f97b61472ac9ed\", element=\"478d5dfe-97df-49ed-bf06-21898d67612a\")>,\n",
       " <selenium.webdriver.remote.webelement.WebElement (session=\"c363c1c0f880ec3581f97b61472ac9ed\", element=\"037d5e9a-ec08-4fd2-96f7-fedd6a652498\")>,\n",
       " <selenium.webdriver.remote.webelement.WebElement (session=\"c363c1c0f880ec3581f97b61472ac9ed\", element=\"d8c8b980-994a-4f15-bde7-363f3bff30cd\")>,\n",
       " <selenium.webdriver.remote.webelement.WebElement (session=\"c363c1c0f880ec3581f97b61472ac9ed\", element=\"eef03f33-267e-473e-8da4-dd98e1457a03\")>,\n",
       " <selenium.webdriver.remote.webelement.WebElement (session=\"c363c1c0f880ec3581f97b61472ac9ed\", element=\"9ab54b90-185d-4531-9a96-060387a0c430\")>,\n",
       " <selenium.webdriver.remote.webelement.WebElement (session=\"c363c1c0f880ec3581f97b61472ac9ed\", element=\"1e0c0c4e-2520-45f3-84ca-59a61555bb3b\")>,\n",
       " <selenium.webdriver.remote.webelement.WebElement (session=\"c363c1c0f880ec3581f97b61472ac9ed\", element=\"11b4a597-fc86-48b3-afd6-f1f0d4c83acb\")>,\n",
       " <selenium.webdriver.remote.webelement.WebElement (session=\"c363c1c0f880ec3581f97b61472ac9ed\", element=\"8290e4d0-938f-4c92-82b7-1f91be85e3db\")>,\n",
       " <selenium.webdriver.remote.webelement.WebElement (session=\"c363c1c0f880ec3581f97b61472ac9ed\", element=\"cc6b3380-afc4-45ba-88bc-ab8a83bcf46d\")>,\n",
       " <selenium.webdriver.remote.webelement.WebElement (session=\"c363c1c0f880ec3581f97b61472ac9ed\", element=\"584bee57-2a1f-487a-9537-5e66140ee195\")>,\n",
       " <selenium.webdriver.remote.webelement.WebElement (session=\"c363c1c0f880ec3581f97b61472ac9ed\", element=\"9a8723e5-7f72-4d18-b45d-3c4104ce638c\")>,\n",
       " <selenium.webdriver.remote.webelement.WebElement (session=\"c363c1c0f880ec3581f97b61472ac9ed\", element=\"761f3d70-5406-4cbf-a120-3202b7e01782\")>]"
      ]
     },
     "execution_count": 22,
     "metadata": {},
     "output_type": "execute_result"
    }
   ],
   "source": [
    "sgs_price=driver.find_elements_by_class_name('_30jeq3')\n",
    "sgs_price"
   ]
  },
  {
   "cell_type": "code",
   "execution_count": 23,
   "id": "5395ef84",
   "metadata": {},
   "outputs": [
    {
     "data": {
      "text/plain": [
       "<selenium.webdriver.remote.webelement.WebElement (session=\"c363c1c0f880ec3581f97b61472ac9ed\", element=\"1d09317b-997e-4165-8a3f-ef1b4b2e1ea5\")>"
      ]
     },
     "execution_count": 23,
     "metadata": {},
     "output_type": "execute_result"
    }
   ],
   "source": [
    "sgs_price_sing=driver.find_element_by_class_name('_30jeq3')\n",
    "sgs_price_sing"
   ]
  },
  {
   "cell_type": "code",
   "execution_count": null,
   "id": "fee1df9b",
   "metadata": {},
   "outputs": [],
   "source": []
  },
  {
   "cell_type": "code",
   "execution_count": 24,
   "id": "58183e88",
   "metadata": {},
   "outputs": [
    {
     "data": {
      "text/plain": [
       "'₹3,479'"
      ]
     },
     "execution_count": 24,
     "metadata": {},
     "output_type": "execute_result"
    }
   ],
   "source": [
    "sgs_price_sing.text"
   ]
  },
  {
   "cell_type": "code",
   "execution_count": 192,
   "id": "1153b408",
   "metadata": {},
   "outputs": [
    {
     "data": {
      "text/plain": [
       "45"
      ]
     },
     "execution_count": 192,
     "metadata": {},
     "output_type": "execute_result"
    }
   ],
   "source": [
    "len(sgs_price)"
   ]
  },
  {
   "cell_type": "code",
   "execution_count": 35,
   "id": "7d6d22c5",
   "metadata": {},
   "outputs": [],
   "source": [
    "price_sunglass=[]\n",
    "\n",
    "for i in sgs_price:\n",
    "    price_sunglass.append(i.text)\n",
    "    \n",
    "prc_sunglass=price_sunglass[0:40]"
   ]
  },
  {
   "cell_type": "code",
   "execution_count": null,
   "id": "14343636",
   "metadata": {},
   "outputs": [],
   "source": []
  },
  {
   "cell_type": "code",
   "execution_count": 26,
   "id": "06e20f66",
   "metadata": {
    "collapsed": true
   },
   "outputs": [
    {
     "data": {
      "text/plain": [
       "[<selenium.webdriver.remote.webelement.WebElement (session=\"c363c1c0f880ec3581f97b61472ac9ed\", element=\"a8d2c25b-3fb5-4fbd-9912-4864d77d5621\")>,\n",
       " <selenium.webdriver.remote.webelement.WebElement (session=\"c363c1c0f880ec3581f97b61472ac9ed\", element=\"43ec9c82-ea94-4729-a5d4-ce26bb2ddf98\")>,\n",
       " <selenium.webdriver.remote.webelement.WebElement (session=\"c363c1c0f880ec3581f97b61472ac9ed\", element=\"3cca12e8-2e1b-4b60-b5de-5f140a5dee4f\")>,\n",
       " <selenium.webdriver.remote.webelement.WebElement (session=\"c363c1c0f880ec3581f97b61472ac9ed\", element=\"21bf5e3f-6df0-4d6f-918a-b6d7750ce3d0\")>,\n",
       " <selenium.webdriver.remote.webelement.WebElement (session=\"c363c1c0f880ec3581f97b61472ac9ed\", element=\"7c6f415c-055a-411a-bdaa-f37376a49bb2\")>,\n",
       " <selenium.webdriver.remote.webelement.WebElement (session=\"c363c1c0f880ec3581f97b61472ac9ed\", element=\"7e44339d-0659-47e4-ae1b-f2b6cf41df11\")>,\n",
       " <selenium.webdriver.remote.webelement.WebElement (session=\"c363c1c0f880ec3581f97b61472ac9ed\", element=\"17b829a5-dfcd-4855-b717-cc3e8366c9b6\")>,\n",
       " <selenium.webdriver.remote.webelement.WebElement (session=\"c363c1c0f880ec3581f97b61472ac9ed\", element=\"0b6f7356-feb1-4242-9b18-b62182b785e9\")>,\n",
       " <selenium.webdriver.remote.webelement.WebElement (session=\"c363c1c0f880ec3581f97b61472ac9ed\", element=\"dc8d9161-31aa-4a63-9cc6-5aa20bb4c28e\")>,\n",
       " <selenium.webdriver.remote.webelement.WebElement (session=\"c363c1c0f880ec3581f97b61472ac9ed\", element=\"7571a26e-079f-4677-9527-ceef71a0eb0c\")>,\n",
       " <selenium.webdriver.remote.webelement.WebElement (session=\"c363c1c0f880ec3581f97b61472ac9ed\", element=\"a1261477-fa26-47ba-b288-68715748640d\")>,\n",
       " <selenium.webdriver.remote.webelement.WebElement (session=\"c363c1c0f880ec3581f97b61472ac9ed\", element=\"c79f14be-8e8c-4f95-b6c3-49510ad476fc\")>,\n",
       " <selenium.webdriver.remote.webelement.WebElement (session=\"c363c1c0f880ec3581f97b61472ac9ed\", element=\"62e90fd2-7156-47be-846d-61e2f23cc051\")>,\n",
       " <selenium.webdriver.remote.webelement.WebElement (session=\"c363c1c0f880ec3581f97b61472ac9ed\", element=\"97128708-4f5a-4299-8a4f-b1f608ed59ab\")>,\n",
       " <selenium.webdriver.remote.webelement.WebElement (session=\"c363c1c0f880ec3581f97b61472ac9ed\", element=\"1d1f646d-19f4-4330-b363-5362f3f52e1d\")>,\n",
       " <selenium.webdriver.remote.webelement.WebElement (session=\"c363c1c0f880ec3581f97b61472ac9ed\", element=\"0cb773bd-7a6a-4447-a9e5-d85e13da5e4f\")>,\n",
       " <selenium.webdriver.remote.webelement.WebElement (session=\"c363c1c0f880ec3581f97b61472ac9ed\", element=\"5c970897-66da-4519-8899-f76a31ec7657\")>,\n",
       " <selenium.webdriver.remote.webelement.WebElement (session=\"c363c1c0f880ec3581f97b61472ac9ed\", element=\"7d0dc88e-70de-4b5d-8832-b3ee24fab196\")>,\n",
       " <selenium.webdriver.remote.webelement.WebElement (session=\"c363c1c0f880ec3581f97b61472ac9ed\", element=\"33388f7b-9de1-417b-8fcf-83710e36d65f\")>,\n",
       " <selenium.webdriver.remote.webelement.WebElement (session=\"c363c1c0f880ec3581f97b61472ac9ed\", element=\"bb96f4aa-8040-4df4-b2b7-ded6f7c685ae\")>,\n",
       " <selenium.webdriver.remote.webelement.WebElement (session=\"c363c1c0f880ec3581f97b61472ac9ed\", element=\"fea4f64d-1fd7-4cf9-b422-ef6bdad27e5e\")>,\n",
       " <selenium.webdriver.remote.webelement.WebElement (session=\"c363c1c0f880ec3581f97b61472ac9ed\", element=\"4532b05a-357a-4b96-aa43-e0148615cb46\")>,\n",
       " <selenium.webdriver.remote.webelement.WebElement (session=\"c363c1c0f880ec3581f97b61472ac9ed\", element=\"c4872812-0957-427c-b6e9-c68fc0b825da\")>,\n",
       " <selenium.webdriver.remote.webelement.WebElement (session=\"c363c1c0f880ec3581f97b61472ac9ed\", element=\"9c48567f-e1ea-447f-a58c-52ebcdfce1b2\")>,\n",
       " <selenium.webdriver.remote.webelement.WebElement (session=\"c363c1c0f880ec3581f97b61472ac9ed\", element=\"7925f611-1933-4ba8-8c88-31a4f22e9c1b\")>,\n",
       " <selenium.webdriver.remote.webelement.WebElement (session=\"c363c1c0f880ec3581f97b61472ac9ed\", element=\"338a283b-b84b-4cf9-9e5b-7e327ed7a099\")>,\n",
       " <selenium.webdriver.remote.webelement.WebElement (session=\"c363c1c0f880ec3581f97b61472ac9ed\", element=\"a9d5714a-0cd4-430f-a952-8526e925459f\")>,\n",
       " <selenium.webdriver.remote.webelement.WebElement (session=\"c363c1c0f880ec3581f97b61472ac9ed\", element=\"4e6a035c-9de1-48d8-9117-f0ed421ab91e\")>,\n",
       " <selenium.webdriver.remote.webelement.WebElement (session=\"c363c1c0f880ec3581f97b61472ac9ed\", element=\"94f7352e-df89-4fa6-b67c-7a0ec51c2903\")>,\n",
       " <selenium.webdriver.remote.webelement.WebElement (session=\"c363c1c0f880ec3581f97b61472ac9ed\", element=\"f9bdfb30-4914-4623-a8b6-e8e5a6f59a96\")>,\n",
       " <selenium.webdriver.remote.webelement.WebElement (session=\"c363c1c0f880ec3581f97b61472ac9ed\", element=\"e3afe435-8e73-4c45-9511-a174b7cc363b\")>,\n",
       " <selenium.webdriver.remote.webelement.WebElement (session=\"c363c1c0f880ec3581f97b61472ac9ed\", element=\"c9bc40c4-3c11-4bca-bdc2-88f1f432225f\")>,\n",
       " <selenium.webdriver.remote.webelement.WebElement (session=\"c363c1c0f880ec3581f97b61472ac9ed\", element=\"602857ac-6f18-48a4-b77a-ed6d7c3877f0\")>,\n",
       " <selenium.webdriver.remote.webelement.WebElement (session=\"c363c1c0f880ec3581f97b61472ac9ed\", element=\"cf0d44b3-9f8b-4202-a913-b4df27d53784\")>,\n",
       " <selenium.webdriver.remote.webelement.WebElement (session=\"c363c1c0f880ec3581f97b61472ac9ed\", element=\"c1ed13a2-6a81-4156-bc8d-288401841e15\")>,\n",
       " <selenium.webdriver.remote.webelement.WebElement (session=\"c363c1c0f880ec3581f97b61472ac9ed\", element=\"8fd639e0-d9b1-47f6-a67b-d196a173f1f2\")>,\n",
       " <selenium.webdriver.remote.webelement.WebElement (session=\"c363c1c0f880ec3581f97b61472ac9ed\", element=\"61a3c214-75c3-492e-bd53-be98ad2da1cb\")>,\n",
       " <selenium.webdriver.remote.webelement.WebElement (session=\"c363c1c0f880ec3581f97b61472ac9ed\", element=\"baf462a9-56e1-4d40-9d37-e3c99d022fb8\")>,\n",
       " <selenium.webdriver.remote.webelement.WebElement (session=\"c363c1c0f880ec3581f97b61472ac9ed\", element=\"0fb0a5f8-a870-4cf9-9631-98d408c82158\")>,\n",
       " <selenium.webdriver.remote.webelement.WebElement (session=\"c363c1c0f880ec3581f97b61472ac9ed\", element=\"c16b0785-093b-437c-aaa6-9ea66b6f4ac0\")>,\n",
       " <selenium.webdriver.remote.webelement.WebElement (session=\"c363c1c0f880ec3581f97b61472ac9ed\", element=\"8afe4ee2-482f-4b36-a400-f24dd0bdaccf\")>,\n",
       " <selenium.webdriver.remote.webelement.WebElement (session=\"c363c1c0f880ec3581f97b61472ac9ed\", element=\"51384391-6608-4ed7-9754-959233905dcd\")>,\n",
       " <selenium.webdriver.remote.webelement.WebElement (session=\"c363c1c0f880ec3581f97b61472ac9ed\", element=\"788bb8b4-7c30-47cf-a78c-d5c57093a297\")>,\n",
       " <selenium.webdriver.remote.webelement.WebElement (session=\"c363c1c0f880ec3581f97b61472ac9ed\", element=\"4de82bc7-91d3-470f-ac35-8a96d28c3fc8\")>,\n",
       " <selenium.webdriver.remote.webelement.WebElement (session=\"c363c1c0f880ec3581f97b61472ac9ed\", element=\"65ee22c3-950d-4618-952b-4ada2def956b\")>]"
      ]
     },
     "execution_count": 26,
     "metadata": {},
     "output_type": "execute_result"
    }
   ],
   "source": [
    "sgs_discount=driver.find_elements_by_class_name('_3Ay6Sb')\n",
    "sgs_discount"
   ]
  },
  {
   "cell_type": "code",
   "execution_count": 277,
   "id": "9bb5c40e",
   "metadata": {},
   "outputs": [
    {
     "data": {
      "text/plain": [
       "45"
      ]
     },
     "execution_count": 277,
     "metadata": {},
     "output_type": "execute_result"
    }
   ],
   "source": [
    "len(sgs_discount)"
   ]
  },
  {
   "cell_type": "code",
   "execution_count": 27,
   "id": "8e1b02fa",
   "metadata": {},
   "outputs": [
    {
     "data": {
      "text/plain": [
       "<selenium.webdriver.remote.webelement.WebElement (session=\"c363c1c0f880ec3581f97b61472ac9ed\", element=\"a8d2c25b-3fb5-4fbd-9912-4864d77d5621\")>"
      ]
     },
     "execution_count": 27,
     "metadata": {},
     "output_type": "execute_result"
    }
   ],
   "source": [
    "sgs_discount_sing=driver.find_element_by_class_name('_3Ay6Sb')\n",
    "sgs_discount_sing"
   ]
  },
  {
   "cell_type": "code",
   "execution_count": 28,
   "id": "76dbf441",
   "metadata": {},
   "outputs": [
    {
     "data": {
      "text/plain": [
       "'37% off'"
      ]
     },
     "execution_count": 28,
     "metadata": {},
     "output_type": "execute_result"
    }
   ],
   "source": [
    "sgs_discount_sing.text"
   ]
  },
  {
   "cell_type": "code",
   "execution_count": 33,
   "id": "4aab5cc9",
   "metadata": {},
   "outputs": [],
   "source": [
    "discount_sunglass=[]\n",
    "\n",
    "for i in sgs_discount:\n",
    "    discount_sunglass.append(i.text)\n",
    "    \n",
    "disc_sunglass=discount_sunglass[0:40]"
   ]
  },
  {
   "cell_type": "code",
   "execution_count": null,
   "id": "7b35927b",
   "metadata": {},
   "outputs": [],
   "source": []
  },
  {
   "cell_type": "code",
   "execution_count": 36,
   "id": "0be67403",
   "metadata": {},
   "outputs": [
    {
     "data": {
      "text/plain": [
       "(40, 40, 40, 40)"
      ]
     },
     "execution_count": 36,
     "metadata": {},
     "output_type": "execute_result"
    }
   ],
   "source": [
    "len(brands_sunglass),len(desc_sunglass),len(prc_sunglass),len(disc_sunglass)"
   ]
  },
  {
   "cell_type": "code",
   "execution_count": 38,
   "id": "96891c7a",
   "metadata": {},
   "outputs": [
    {
     "data": {
      "text/html": [
       "<div>\n",
       "<style scoped>\n",
       "    .dataframe tbody tr th:only-of-type {\n",
       "        vertical-align: middle;\n",
       "    }\n",
       "\n",
       "    .dataframe tbody tr th {\n",
       "        vertical-align: top;\n",
       "    }\n",
       "\n",
       "    .dataframe thead th {\n",
       "        text-align: right;\n",
       "    }\n",
       "</style>\n",
       "<table border=\"1\" class=\"dataframe\">\n",
       "  <thead>\n",
       "    <tr style=\"text-align: right;\">\n",
       "      <th></th>\n",
       "      <th>Brand Name</th>\n",
       "      <th>Product Description</th>\n",
       "      <th>Price</th>\n",
       "      <th>Discount</th>\n",
       "    </tr>\n",
       "  </thead>\n",
       "  <tbody>\n",
       "    <tr>\n",
       "      <th>0</th>\n",
       "      <td>Ray-Ban</td>\n",
       "      <td>UV Protection Rectangular Sunglasses (Free Size)</td>\n",
       "      <td>₹3,479</td>\n",
       "      <td>37% off</td>\n",
       "    </tr>\n",
       "    <tr>\n",
       "      <th>1</th>\n",
       "      <td>Ray-Ban</td>\n",
       "      <td>UV Protection Round Sunglasses (50)</td>\n",
       "      <td>₹6,649</td>\n",
       "      <td>10% off</td>\n",
       "    </tr>\n",
       "    <tr>\n",
       "      <th>2</th>\n",
       "      <td>SRPM</td>\n",
       "      <td>UV Protection Wayfarer Sunglasses (50)</td>\n",
       "      <td>₹198</td>\n",
       "      <td>85% off</td>\n",
       "    </tr>\n",
       "    <tr>\n",
       "      <th>3</th>\n",
       "      <td>SUNBEE</td>\n",
       "      <td>UV Protection, Polarized Wayfarer Sunglasses (...</td>\n",
       "      <td>₹253</td>\n",
       "      <td>81% off</td>\n",
       "    </tr>\n",
       "    <tr>\n",
       "      <th>4</th>\n",
       "      <td>ROZZETTA CRAFT</td>\n",
       "      <td>Polarized, Night Vision, Riding Glasses Sports...</td>\n",
       "      <td>₹474</td>\n",
       "      <td>76% off</td>\n",
       "    </tr>\n",
       "    <tr>\n",
       "      <th>5</th>\n",
       "      <td>PIRASO</td>\n",
       "      <td>UV Protection Aviator Sunglasses (54)</td>\n",
       "      <td>₹229</td>\n",
       "      <td>86% off</td>\n",
       "    </tr>\n",
       "    <tr>\n",
       "      <th>6</th>\n",
       "      <td>Elligator</td>\n",
       "      <td>UV Protection Round Sunglasses (54)</td>\n",
       "      <td>₹258</td>\n",
       "      <td>90% off</td>\n",
       "    </tr>\n",
       "    <tr>\n",
       "      <th>7</th>\n",
       "      <td>Ray-Ban</td>\n",
       "      <td>Gradient Round Sunglasses (54)</td>\n",
       "      <td>₹8,089</td>\n",
       "      <td>10% off</td>\n",
       "    </tr>\n",
       "    <tr>\n",
       "      <th>8</th>\n",
       "      <td>DEIXELS</td>\n",
       "      <td>UV Protection Aviator, Wayfarer Sunglasses (Fr...</td>\n",
       "      <td>₹202</td>\n",
       "      <td>83% off</td>\n",
       "    </tr>\n",
       "    <tr>\n",
       "      <th>9</th>\n",
       "      <td>Fastrack</td>\n",
       "      <td>UV Protection Rectangular Sunglasses (Free Size)</td>\n",
       "      <td>₹679</td>\n",
       "      <td>15% off</td>\n",
       "    </tr>\n",
       "    <tr>\n",
       "      <th>10</th>\n",
       "      <td>New Specs</td>\n",
       "      <td>UV Protection Rectangular Sunglasses (Free Size)</td>\n",
       "      <td>₹232</td>\n",
       "      <td>91% off</td>\n",
       "    </tr>\n",
       "    <tr>\n",
       "      <th>11</th>\n",
       "      <td>Ray-Ban</td>\n",
       "      <td>Polarized Aviator Sunglasses (58)</td>\n",
       "      <td>₹8,449</td>\n",
       "      <td>10% off</td>\n",
       "    </tr>\n",
       "    <tr>\n",
       "      <th>12</th>\n",
       "      <td>PIRASO</td>\n",
       "      <td>UV Protection Aviator Sunglasses (54)</td>\n",
       "      <td>₹225</td>\n",
       "      <td>86% off</td>\n",
       "    </tr>\n",
       "    <tr>\n",
       "      <th>13</th>\n",
       "      <td>SHAAH COLLECTIONS</td>\n",
       "      <td>UV Protection, Polarized, Mirrored Rectangular...</td>\n",
       "      <td>₹165</td>\n",
       "      <td>90% off</td>\n",
       "    </tr>\n",
       "    <tr>\n",
       "      <th>14</th>\n",
       "      <td>PIRASO</td>\n",
       "      <td>UV Protection Wayfarer Sunglasses (55)</td>\n",
       "      <td>₹225</td>\n",
       "      <td>86% off</td>\n",
       "    </tr>\n",
       "    <tr>\n",
       "      <th>15</th>\n",
       "      <td>ROZZETTA CRAFT</td>\n",
       "      <td>UV Protection, Gradient Rectangular Sunglasses...</td>\n",
       "      <td>₹426</td>\n",
       "      <td>79% off</td>\n",
       "    </tr>\n",
       "    <tr>\n",
       "      <th>16</th>\n",
       "      <td>GANSTA</td>\n",
       "      <td>UV Protection, Riding Glasses Wayfarer Sunglas...</td>\n",
       "      <td>₹198</td>\n",
       "      <td>89% off</td>\n",
       "    </tr>\n",
       "    <tr>\n",
       "      <th>17</th>\n",
       "      <td>Lee Topper</td>\n",
       "      <td>Riding Glasses Wrap-around Sunglasses (Free Size)</td>\n",
       "      <td>₹275</td>\n",
       "      <td>89% off</td>\n",
       "    </tr>\n",
       "    <tr>\n",
       "      <th>18</th>\n",
       "      <td>PIRASO</td>\n",
       "      <td>UV Protection Aviator Sunglasses (54)</td>\n",
       "      <td>₹225</td>\n",
       "      <td>86% off</td>\n",
       "    </tr>\n",
       "    <tr>\n",
       "      <th>19</th>\n",
       "      <td>VINCENT CHASE</td>\n",
       "      <td>by Lenskart Polarized, UV Protection Round Sun...</td>\n",
       "      <td>₹799</td>\n",
       "      <td>68% off</td>\n",
       "    </tr>\n",
       "    <tr>\n",
       "      <th>20</th>\n",
       "      <td>Lee Topper</td>\n",
       "      <td>UV Protection Rectangular Sunglasses (Free Size)</td>\n",
       "      <td>₹199</td>\n",
       "      <td>80% off</td>\n",
       "    </tr>\n",
       "    <tr>\n",
       "      <th>21</th>\n",
       "      <td>Silver Kartz</td>\n",
       "      <td>UV Protection Wayfarer Sunglasses (Free Size)</td>\n",
       "      <td>₹246</td>\n",
       "      <td>84% off</td>\n",
       "    </tr>\n",
       "    <tr>\n",
       "      <th>22</th>\n",
       "      <td>kingsunglasses</td>\n",
       "      <td>UV Protection, Riding Glasses, Mirrored Wayfar...</td>\n",
       "      <td>₹184</td>\n",
       "      <td>85% off</td>\n",
       "    </tr>\n",
       "    <tr>\n",
       "      <th>23</th>\n",
       "      <td>povty</td>\n",
       "      <td>UV Protection Retro Square Sunglasses (Free Size)</td>\n",
       "      <td>₹299</td>\n",
       "      <td>70% off</td>\n",
       "    </tr>\n",
       "    <tr>\n",
       "      <th>24</th>\n",
       "      <td>PHENOMENAL</td>\n",
       "      <td>UV Protection Retro Square Sunglasses (53)</td>\n",
       "      <td>₹289</td>\n",
       "      <td>71% off</td>\n",
       "    </tr>\n",
       "    <tr>\n",
       "      <th>25</th>\n",
       "      <td>kingsunglasses</td>\n",
       "      <td>Mirrored, UV Protection Wayfarer Sunglasses (F...</td>\n",
       "      <td>₹239</td>\n",
       "      <td>88% off</td>\n",
       "    </tr>\n",
       "    <tr>\n",
       "      <th>26</th>\n",
       "      <td>ROYAL SON</td>\n",
       "      <td>Mirrored Aviator Sunglasses (55)</td>\n",
       "      <td>₹379</td>\n",
       "      <td>75% off</td>\n",
       "    </tr>\n",
       "    <tr>\n",
       "      <th>27</th>\n",
       "      <td>Ray-Ban</td>\n",
       "      <td>UV Protection Wayfarer Sunglasses (55)</td>\n",
       "      <td>₹7,599</td>\n",
       "      <td>15% off</td>\n",
       "    </tr>\n",
       "    <tr>\n",
       "      <th>28</th>\n",
       "      <td>kingsunglasses</td>\n",
       "      <td>UV Protection Round Sunglasses (54)</td>\n",
       "      <td>₹186</td>\n",
       "      <td>81% off</td>\n",
       "    </tr>\n",
       "    <tr>\n",
       "      <th>29</th>\n",
       "      <td>SUNBEE</td>\n",
       "      <td>UV Protection, Polarized, Mirrored Round Sungl...</td>\n",
       "      <td>₹284</td>\n",
       "      <td>83% off</td>\n",
       "    </tr>\n",
       "    <tr>\n",
       "      <th>30</th>\n",
       "      <td>SRPM</td>\n",
       "      <td>UV Protection Wayfarer Sunglasses (53)</td>\n",
       "      <td>₹220</td>\n",
       "      <td>78% off</td>\n",
       "    </tr>\n",
       "    <tr>\n",
       "      <th>31</th>\n",
       "      <td>VINCENT CHASE</td>\n",
       "      <td>by Lenskart Polarized, UV Protection Wayfarer ...</td>\n",
       "      <td>₹799</td>\n",
       "      <td>68% off</td>\n",
       "    </tr>\n",
       "    <tr>\n",
       "      <th>32</th>\n",
       "      <td>Fastrack</td>\n",
       "      <td>UV Protection Wayfarer Sunglasses (Free Size)</td>\n",
       "      <td>₹639</td>\n",
       "      <td>20% off</td>\n",
       "    </tr>\n",
       "    <tr>\n",
       "      <th>33</th>\n",
       "      <td>GANSTA</td>\n",
       "      <td>UV Protection Aviator Sunglasses (57)</td>\n",
       "      <td>₹284</td>\n",
       "      <td>86% off</td>\n",
       "    </tr>\n",
       "    <tr>\n",
       "      <th>34</th>\n",
       "      <td>Elligator</td>\n",
       "      <td>UV Protection Round Sunglasses (53)</td>\n",
       "      <td>₹189</td>\n",
       "      <td>81% off</td>\n",
       "    </tr>\n",
       "    <tr>\n",
       "      <th>35</th>\n",
       "      <td>VILLAIN</td>\n",
       "      <td>Others Wayfarer Sunglasses (Free Size)</td>\n",
       "      <td>₹522</td>\n",
       "      <td>48% off</td>\n",
       "    </tr>\n",
       "    <tr>\n",
       "      <th>36</th>\n",
       "      <td>Singco India</td>\n",
       "      <td>Riding Glasses, UV Protection, Others Aviator ...</td>\n",
       "      <td>₹208</td>\n",
       "      <td>86% off</td>\n",
       "    </tr>\n",
       "    <tr>\n",
       "      <th>37</th>\n",
       "      <td>PIRASO</td>\n",
       "      <td>UV Protection Wayfarer Sunglasses (32)</td>\n",
       "      <td>₹225</td>\n",
       "      <td>86% off</td>\n",
       "    </tr>\n",
       "    <tr>\n",
       "      <th>38</th>\n",
       "      <td>kingsunglasses</td>\n",
       "      <td>UV Protection Round Sunglasses (Free Size)</td>\n",
       "      <td>₹289</td>\n",
       "      <td>82% off</td>\n",
       "    </tr>\n",
       "    <tr>\n",
       "      <th>39</th>\n",
       "      <td>Ray-Ban</td>\n",
       "      <td>UV Protection Wayfarer Sunglasses (56)</td>\n",
       "      <td>₹5,029</td>\n",
       "      <td>10% off</td>\n",
       "    </tr>\n",
       "  </tbody>\n",
       "</table>\n",
       "</div>"
      ],
      "text/plain": [
       "           Brand Name                                Product Description  \\\n",
       "0             Ray-Ban   UV Protection Rectangular Sunglasses (Free Size)   \n",
       "1             Ray-Ban                UV Protection Round Sunglasses (50)   \n",
       "2                SRPM             UV Protection Wayfarer Sunglasses (50)   \n",
       "3              SUNBEE  UV Protection, Polarized Wayfarer Sunglasses (...   \n",
       "4      ROZZETTA CRAFT  Polarized, Night Vision, Riding Glasses Sports...   \n",
       "5              PIRASO              UV Protection Aviator Sunglasses (54)   \n",
       "6           Elligator                UV Protection Round Sunglasses (54)   \n",
       "7             Ray-Ban                     Gradient Round Sunglasses (54)   \n",
       "8             DEIXELS  UV Protection Aviator, Wayfarer Sunglasses (Fr...   \n",
       "9            Fastrack   UV Protection Rectangular Sunglasses (Free Size)   \n",
       "10          New Specs   UV Protection Rectangular Sunglasses (Free Size)   \n",
       "11            Ray-Ban                  Polarized Aviator Sunglasses (58)   \n",
       "12             PIRASO              UV Protection Aviator Sunglasses (54)   \n",
       "13  SHAAH COLLECTIONS  UV Protection, Polarized, Mirrored Rectangular...   \n",
       "14             PIRASO             UV Protection Wayfarer Sunglasses (55)   \n",
       "15     ROZZETTA CRAFT  UV Protection, Gradient Rectangular Sunglasses...   \n",
       "16             GANSTA  UV Protection, Riding Glasses Wayfarer Sunglas...   \n",
       "17         Lee Topper  Riding Glasses Wrap-around Sunglasses (Free Size)   \n",
       "18             PIRASO              UV Protection Aviator Sunglasses (54)   \n",
       "19      VINCENT CHASE  by Lenskart Polarized, UV Protection Round Sun...   \n",
       "20         Lee Topper   UV Protection Rectangular Sunglasses (Free Size)   \n",
       "21       Silver Kartz      UV Protection Wayfarer Sunglasses (Free Size)   \n",
       "22     kingsunglasses  UV Protection, Riding Glasses, Mirrored Wayfar...   \n",
       "23              povty  UV Protection Retro Square Sunglasses (Free Size)   \n",
       "24         PHENOMENAL         UV Protection Retro Square Sunglasses (53)   \n",
       "25     kingsunglasses  Mirrored, UV Protection Wayfarer Sunglasses (F...   \n",
       "26          ROYAL SON                   Mirrored Aviator Sunglasses (55)   \n",
       "27            Ray-Ban             UV Protection Wayfarer Sunglasses (55)   \n",
       "28     kingsunglasses                UV Protection Round Sunglasses (54)   \n",
       "29             SUNBEE  UV Protection, Polarized, Mirrored Round Sungl...   \n",
       "30               SRPM             UV Protection Wayfarer Sunglasses (53)   \n",
       "31      VINCENT CHASE  by Lenskart Polarized, UV Protection Wayfarer ...   \n",
       "32           Fastrack      UV Protection Wayfarer Sunglasses (Free Size)   \n",
       "33             GANSTA              UV Protection Aviator Sunglasses (57)   \n",
       "34          Elligator                UV Protection Round Sunglasses (53)   \n",
       "35            VILLAIN             Others Wayfarer Sunglasses (Free Size)   \n",
       "36       Singco India  Riding Glasses, UV Protection, Others Aviator ...   \n",
       "37             PIRASO             UV Protection Wayfarer Sunglasses (32)   \n",
       "38     kingsunglasses         UV Protection Round Sunglasses (Free Size)   \n",
       "39            Ray-Ban             UV Protection Wayfarer Sunglasses (56)   \n",
       "\n",
       "     Price Discount  \n",
       "0   ₹3,479  37% off  \n",
       "1   ₹6,649  10% off  \n",
       "2     ₹198  85% off  \n",
       "3     ₹253  81% off  \n",
       "4     ₹474  76% off  \n",
       "5     ₹229  86% off  \n",
       "6     ₹258  90% off  \n",
       "7   ₹8,089  10% off  \n",
       "8     ₹202  83% off  \n",
       "9     ₹679  15% off  \n",
       "10    ₹232  91% off  \n",
       "11  ₹8,449  10% off  \n",
       "12    ₹225  86% off  \n",
       "13    ₹165  90% off  \n",
       "14    ₹225  86% off  \n",
       "15    ₹426  79% off  \n",
       "16    ₹198  89% off  \n",
       "17    ₹275  89% off  \n",
       "18    ₹225  86% off  \n",
       "19    ₹799  68% off  \n",
       "20    ₹199  80% off  \n",
       "21    ₹246  84% off  \n",
       "22    ₹184  85% off  \n",
       "23    ₹299  70% off  \n",
       "24    ₹289  71% off  \n",
       "25    ₹239  88% off  \n",
       "26    ₹379  75% off  \n",
       "27  ₹7,599  15% off  \n",
       "28    ₹186  81% off  \n",
       "29    ₹284  83% off  \n",
       "30    ₹220  78% off  \n",
       "31    ₹799  68% off  \n",
       "32    ₹639  20% off  \n",
       "33    ₹284  86% off  \n",
       "34    ₹189  81% off  \n",
       "35    ₹522  48% off  \n",
       "36    ₹208  86% off  \n",
       "37    ₹225  86% off  \n",
       "38    ₹289  82% off  \n",
       "39  ₹5,029  10% off  "
      ]
     },
     "execution_count": 38,
     "metadata": {},
     "output_type": "execute_result"
    }
   ],
   "source": [
    "page1data=pd.DataFrame()\n",
    "page1data['Brand Name']=brands_sunglass\n",
    "page1data['Product Description']=desc_sunglass\n",
    "page1data['Price']=prc_sunglass\n",
    "page1data['Discount']=disc_sunglass\n",
    "\n",
    "page1data"
   ]
  },
  {
   "cell_type": "code",
   "execution_count": 39,
   "id": "e8611332",
   "metadata": {},
   "outputs": [
    {
     "data": {
      "text/plain": [
       "<selenium.webdriver.remote.webelement.WebElement (session=\"c363c1c0f880ec3581f97b61472ac9ed\", element=\"df57017d-6b0c-4743-9266-5db62d451dc8\")>"
      ]
     },
     "execution_count": 39,
     "metadata": {},
     "output_type": "execute_result"
    }
   ],
   "source": [
    "page2=driver.find_element_by_xpath('/html/body/div[1]/div/div[3]/div[1]/div[2]/div[12]/div/div/nav/a[2]')\n",
    "page2"
   ]
  },
  {
   "cell_type": "code",
   "execution_count": 40,
   "id": "c1f22e10",
   "metadata": {},
   "outputs": [],
   "source": [
    "page2.click()"
   ]
  },
  {
   "cell_type": "code",
   "execution_count": 43,
   "id": "c6ddda78",
   "metadata": {
    "collapsed": true
   },
   "outputs": [
    {
     "data": {
      "text/plain": [
       "[<selenium.webdriver.remote.webelement.WebElement (session=\"c363c1c0f880ec3581f97b61472ac9ed\", element=\"099f7c4e-4d48-4d25-9895-f45ef3352e85\")>,\n",
       " <selenium.webdriver.remote.webelement.WebElement (session=\"c363c1c0f880ec3581f97b61472ac9ed\", element=\"f7a43c30-8c15-44de-b27e-ae589fe91969\")>,\n",
       " <selenium.webdriver.remote.webelement.WebElement (session=\"c363c1c0f880ec3581f97b61472ac9ed\", element=\"26c074c6-dad6-4136-a544-3a0d123244c4\")>,\n",
       " <selenium.webdriver.remote.webelement.WebElement (session=\"c363c1c0f880ec3581f97b61472ac9ed\", element=\"a2da06ab-47ca-4470-9eec-182db33a99af\")>,\n",
       " <selenium.webdriver.remote.webelement.WebElement (session=\"c363c1c0f880ec3581f97b61472ac9ed\", element=\"6d36d27c-de61-4bb9-9a22-9f62bf6c1177\")>,\n",
       " <selenium.webdriver.remote.webelement.WebElement (session=\"c363c1c0f880ec3581f97b61472ac9ed\", element=\"b573bdc8-6878-4589-805d-d317d23f83b0\")>,\n",
       " <selenium.webdriver.remote.webelement.WebElement (session=\"c363c1c0f880ec3581f97b61472ac9ed\", element=\"83f0048a-0f4b-4977-b201-d598b48bdce0\")>,\n",
       " <selenium.webdriver.remote.webelement.WebElement (session=\"c363c1c0f880ec3581f97b61472ac9ed\", element=\"319fcc17-7f43-45f4-8742-17be1ea68f34\")>,\n",
       " <selenium.webdriver.remote.webelement.WebElement (session=\"c363c1c0f880ec3581f97b61472ac9ed\", element=\"8726883e-7b75-4f70-9044-f370d33c6d2b\")>,\n",
       " <selenium.webdriver.remote.webelement.WebElement (session=\"c363c1c0f880ec3581f97b61472ac9ed\", element=\"8e76d2f5-8258-40ff-829f-580f86b37bcf\")>,\n",
       " <selenium.webdriver.remote.webelement.WebElement (session=\"c363c1c0f880ec3581f97b61472ac9ed\", element=\"7926d80b-c6ce-450d-9691-94dedff5b972\")>,\n",
       " <selenium.webdriver.remote.webelement.WebElement (session=\"c363c1c0f880ec3581f97b61472ac9ed\", element=\"dbfdf31c-5c7e-4436-b501-ecfd6c00f4a5\")>,\n",
       " <selenium.webdriver.remote.webelement.WebElement (session=\"c363c1c0f880ec3581f97b61472ac9ed\", element=\"aa50dcb6-32a7-4dee-bb67-214c2357d5ae\")>,\n",
       " <selenium.webdriver.remote.webelement.WebElement (session=\"c363c1c0f880ec3581f97b61472ac9ed\", element=\"f0d4d29b-ec2c-48d0-97a6-1c6277332654\")>,\n",
       " <selenium.webdriver.remote.webelement.WebElement (session=\"c363c1c0f880ec3581f97b61472ac9ed\", element=\"a237f48e-b9d5-4556-92cb-e7d7b644067a\")>,\n",
       " <selenium.webdriver.remote.webelement.WebElement (session=\"c363c1c0f880ec3581f97b61472ac9ed\", element=\"bfd4aeaf-6389-4ea2-86f3-6bbe227da508\")>,\n",
       " <selenium.webdriver.remote.webelement.WebElement (session=\"c363c1c0f880ec3581f97b61472ac9ed\", element=\"9f60cb67-1e51-42a7-8c55-d9d79b4ebd19\")>,\n",
       " <selenium.webdriver.remote.webelement.WebElement (session=\"c363c1c0f880ec3581f97b61472ac9ed\", element=\"63da4526-ae7a-4e6c-ad20-86a3eb4dd8ad\")>,\n",
       " <selenium.webdriver.remote.webelement.WebElement (session=\"c363c1c0f880ec3581f97b61472ac9ed\", element=\"27b51eca-da01-44c8-9952-b44cce73df0d\")>,\n",
       " <selenium.webdriver.remote.webelement.WebElement (session=\"c363c1c0f880ec3581f97b61472ac9ed\", element=\"5be6f28b-87b7-4857-aac8-ec8a31b97719\")>,\n",
       " <selenium.webdriver.remote.webelement.WebElement (session=\"c363c1c0f880ec3581f97b61472ac9ed\", element=\"62510418-442d-453b-b7fb-3903226eff74\")>,\n",
       " <selenium.webdriver.remote.webelement.WebElement (session=\"c363c1c0f880ec3581f97b61472ac9ed\", element=\"ee8559e5-383d-4da9-93a8-15f5e28be04b\")>,\n",
       " <selenium.webdriver.remote.webelement.WebElement (session=\"c363c1c0f880ec3581f97b61472ac9ed\", element=\"9b7f328b-4952-4d3d-a4ab-f11b9c05e668\")>,\n",
       " <selenium.webdriver.remote.webelement.WebElement (session=\"c363c1c0f880ec3581f97b61472ac9ed\", element=\"d496012c-9cbb-47e0-af9e-16b79b00fdc8\")>,\n",
       " <selenium.webdriver.remote.webelement.WebElement (session=\"c363c1c0f880ec3581f97b61472ac9ed\", element=\"1f401ce4-ad84-43a0-83e6-651e4a5fa37b\")>,\n",
       " <selenium.webdriver.remote.webelement.WebElement (session=\"c363c1c0f880ec3581f97b61472ac9ed\", element=\"558dea5e-09e6-46f3-bf14-5b1fc2644b2a\")>,\n",
       " <selenium.webdriver.remote.webelement.WebElement (session=\"c363c1c0f880ec3581f97b61472ac9ed\", element=\"0ffdb8dd-dadd-4da5-af97-037d5a4c9f37\")>,\n",
       " <selenium.webdriver.remote.webelement.WebElement (session=\"c363c1c0f880ec3581f97b61472ac9ed\", element=\"71996c50-9df0-4f27-a589-07f7869786e3\")>,\n",
       " <selenium.webdriver.remote.webelement.WebElement (session=\"c363c1c0f880ec3581f97b61472ac9ed\", element=\"784adb03-2c0b-4069-8873-b1eb104ecf05\")>,\n",
       " <selenium.webdriver.remote.webelement.WebElement (session=\"c363c1c0f880ec3581f97b61472ac9ed\", element=\"7e69db80-869d-4388-95ab-3228bef0cd36\")>,\n",
       " <selenium.webdriver.remote.webelement.WebElement (session=\"c363c1c0f880ec3581f97b61472ac9ed\", element=\"de3ff05f-51a7-482b-ae1d-cbe35cc6d2cb\")>,\n",
       " <selenium.webdriver.remote.webelement.WebElement (session=\"c363c1c0f880ec3581f97b61472ac9ed\", element=\"6a016924-6832-474e-804d-bcb33ee1f409\")>,\n",
       " <selenium.webdriver.remote.webelement.WebElement (session=\"c363c1c0f880ec3581f97b61472ac9ed\", element=\"85eefce8-0ebe-4fd4-8bf6-f123a833db49\")>,\n",
       " <selenium.webdriver.remote.webelement.WebElement (session=\"c363c1c0f880ec3581f97b61472ac9ed\", element=\"787341f5-4e30-45e1-8640-a58a64a833ad\")>,\n",
       " <selenium.webdriver.remote.webelement.WebElement (session=\"c363c1c0f880ec3581f97b61472ac9ed\", element=\"cae55ca3-2d50-4f25-9570-5a26b25c1dac\")>,\n",
       " <selenium.webdriver.remote.webelement.WebElement (session=\"c363c1c0f880ec3581f97b61472ac9ed\", element=\"dc4bf09d-6b09-478e-9639-50ac2eb171c9\")>,\n",
       " <selenium.webdriver.remote.webelement.WebElement (session=\"c363c1c0f880ec3581f97b61472ac9ed\", element=\"71cdd5e6-c8b2-483b-bee7-1f4a3114a290\")>,\n",
       " <selenium.webdriver.remote.webelement.WebElement (session=\"c363c1c0f880ec3581f97b61472ac9ed\", element=\"3dd4cbb8-b673-43a1-b4c7-66d2cab51702\")>,\n",
       " <selenium.webdriver.remote.webelement.WebElement (session=\"c363c1c0f880ec3581f97b61472ac9ed\", element=\"678e90d9-ce84-4fbb-b834-6892d8423ad1\")>,\n",
       " <selenium.webdriver.remote.webelement.WebElement (session=\"c363c1c0f880ec3581f97b61472ac9ed\", element=\"ff4094c8-42b5-4f34-8999-cadd483c01e1\")>]"
      ]
     },
     "execution_count": 43,
     "metadata": {},
     "output_type": "execute_result"
    }
   ],
   "source": [
    "sgs_brandsp2=driver.find_elements_by_class_name('_2WkVRV')\n",
    "sgs_brandsp2"
   ]
  },
  {
   "cell_type": "code",
   "execution_count": 41,
   "id": "87855192",
   "metadata": {},
   "outputs": [
    {
     "data": {
      "text/plain": [
       "<selenium.webdriver.remote.webelement.WebElement (session=\"c363c1c0f880ec3581f97b61472ac9ed\", element=\"099f7c4e-4d48-4d25-9895-f45ef3352e85\")>"
      ]
     },
     "execution_count": 41,
     "metadata": {},
     "output_type": "execute_result"
    }
   ],
   "source": [
    "sgs_brandsp2sing=driver.find_element_by_class_name('_2WkVRV')\n",
    "sgs_brandsp2sing"
   ]
  },
  {
   "cell_type": "code",
   "execution_count": 42,
   "id": "4a4f51b1",
   "metadata": {},
   "outputs": [
    {
     "data": {
      "text/plain": [
       "'PIRASO'"
      ]
     },
     "execution_count": 42,
     "metadata": {},
     "output_type": "execute_result"
    }
   ],
   "source": [
    "sgs_brandsp2sing.text"
   ]
  },
  {
   "cell_type": "code",
   "execution_count": 44,
   "id": "3cce9eec",
   "metadata": {},
   "outputs": [
    {
     "data": {
      "text/plain": [
       "40"
      ]
     },
     "execution_count": 44,
     "metadata": {},
     "output_type": "execute_result"
    }
   ],
   "source": [
    "len(sgs_brandsp2)"
   ]
  },
  {
   "cell_type": "code",
   "execution_count": 45,
   "id": "b21c74a6",
   "metadata": {
    "collapsed": true
   },
   "outputs": [
    {
     "data": {
      "text/plain": [
       "['PIRASO',\n",
       " 'kingsunglasses',\n",
       " 'SHAAH COLLECTIONS',\n",
       " 'Ray-Ban',\n",
       " 'ROYAL SON',\n",
       " 'Fastrack',\n",
       " 'NuVew',\n",
       " 'Ray-Ban',\n",
       " 'SHAAH COLLECTIONS',\n",
       " 'ROZZETTA CRAFT',\n",
       " 'SUNBEE',\n",
       " 'Ray-Ban',\n",
       " 'SRPM',\n",
       " 'kingsunglasses',\n",
       " 'Silver Kartz',\n",
       " 'VINCENT CHASE',\n",
       " 'SRPM',\n",
       " 'PIRASO',\n",
       " 'kingsunglasses',\n",
       " 'Ray-Ban',\n",
       " 'IDEE',\n",
       " 'Lee Topper',\n",
       " 'ROZZETTA CRAFT',\n",
       " 'ROZZETTA CRAFT',\n",
       " 'New Specs',\n",
       " 'PHENOMENAL',\n",
       " 'New Specs',\n",
       " 'ROZZETTA CRAFT',\n",
       " 'ROYAL SON',\n",
       " 'New Specs',\n",
       " 'ROYAL SON',\n",
       " 'VINCENT CHASE',\n",
       " 'Elligator',\n",
       " 'PHENOMENAL',\n",
       " 'ROZZETTA CRAFT',\n",
       " 'povty',\n",
       " 'hipe',\n",
       " 'hipe',\n",
       " 'SUNBEE',\n",
       " 'VINCENT CHASE']"
      ]
     },
     "execution_count": 45,
     "metadata": {},
     "output_type": "execute_result"
    }
   ],
   "source": [
    "brandsp2_sunglass=[]\n",
    "\n",
    "for i in sgs_brandsp2:\n",
    "    brandsp2_sunglass.append(i.text)\n",
    "    \n",
    "brandsp2_sunglass[0:40]"
   ]
  },
  {
   "cell_type": "code",
   "execution_count": 50,
   "id": "fc155dc2",
   "metadata": {
    "collapsed": true
   },
   "outputs": [
    {
     "data": {
      "text/plain": [
       "[<selenium.webdriver.remote.webelement.WebElement (session=\"c363c1c0f880ec3581f97b61472ac9ed\", element=\"6b0e23fa-853d-48b9-8a0d-159f4f451518\")>,\n",
       " <selenium.webdriver.remote.webelement.WebElement (session=\"c363c1c0f880ec3581f97b61472ac9ed\", element=\"2dfd75a2-8ac1-46fa-8643-69f2e2ebd468\")>,\n",
       " <selenium.webdriver.remote.webelement.WebElement (session=\"c363c1c0f880ec3581f97b61472ac9ed\", element=\"58e17029-e1ee-40cb-a658-19ba132c55e3\")>,\n",
       " <selenium.webdriver.remote.webelement.WebElement (session=\"c363c1c0f880ec3581f97b61472ac9ed\", element=\"9d663139-8182-4c2a-b6af-4492cbea66d8\")>,\n",
       " <selenium.webdriver.remote.webelement.WebElement (session=\"c363c1c0f880ec3581f97b61472ac9ed\", element=\"a6649e25-4758-45b7-8d3a-08c9702ccd9b\")>,\n",
       " <selenium.webdriver.remote.webelement.WebElement (session=\"c363c1c0f880ec3581f97b61472ac9ed\", element=\"b9a3d8ba-fe7b-4aca-8737-549efc063ff2\")>,\n",
       " <selenium.webdriver.remote.webelement.WebElement (session=\"c363c1c0f880ec3581f97b61472ac9ed\", element=\"fe017ed9-5afb-40ef-b5e1-b3f4d274f156\")>,\n",
       " <selenium.webdriver.remote.webelement.WebElement (session=\"c363c1c0f880ec3581f97b61472ac9ed\", element=\"c26595ab-fa71-4024-83fc-d40187c57712\")>,\n",
       " <selenium.webdriver.remote.webelement.WebElement (session=\"c363c1c0f880ec3581f97b61472ac9ed\", element=\"2e8af1b0-2d88-4212-af6f-c7702e6e7cf1\")>,\n",
       " <selenium.webdriver.remote.webelement.WebElement (session=\"c363c1c0f880ec3581f97b61472ac9ed\", element=\"28abbc37-9cef-4942-8c2a-d615408b59b0\")>,\n",
       " <selenium.webdriver.remote.webelement.WebElement (session=\"c363c1c0f880ec3581f97b61472ac9ed\", element=\"8af05575-1073-48dc-b2bb-23238e11c6a2\")>,\n",
       " <selenium.webdriver.remote.webelement.WebElement (session=\"c363c1c0f880ec3581f97b61472ac9ed\", element=\"75918c5e-b033-445f-87cd-640c91b2a5c7\")>,\n",
       " <selenium.webdriver.remote.webelement.WebElement (session=\"c363c1c0f880ec3581f97b61472ac9ed\", element=\"db031f44-12c9-4321-8489-171265c45bd4\")>,\n",
       " <selenium.webdriver.remote.webelement.WebElement (session=\"c363c1c0f880ec3581f97b61472ac9ed\", element=\"cbfb96bd-636e-4775-84af-b7e86f8ecacd\")>,\n",
       " <selenium.webdriver.remote.webelement.WebElement (session=\"c363c1c0f880ec3581f97b61472ac9ed\", element=\"1b93272d-e3f9-4151-923b-a3195362e2d0\")>,\n",
       " <selenium.webdriver.remote.webelement.WebElement (session=\"c363c1c0f880ec3581f97b61472ac9ed\", element=\"a3c1ed48-84a2-4f6f-9dfa-bed7d4f11d45\")>,\n",
       " <selenium.webdriver.remote.webelement.WebElement (session=\"c363c1c0f880ec3581f97b61472ac9ed\", element=\"0e666456-ea44-4d7a-a5ce-d71b8f128d6f\")>,\n",
       " <selenium.webdriver.remote.webelement.WebElement (session=\"c363c1c0f880ec3581f97b61472ac9ed\", element=\"7dc505a2-e785-4ea0-a025-2c5cf30ad0ee\")>,\n",
       " <selenium.webdriver.remote.webelement.WebElement (session=\"c363c1c0f880ec3581f97b61472ac9ed\", element=\"a4523afc-6ed3-4e27-be53-a5a02530287e\")>,\n",
       " <selenium.webdriver.remote.webelement.WebElement (session=\"c363c1c0f880ec3581f97b61472ac9ed\", element=\"7b903173-1cdc-4607-88d7-9acea44ab100\")>,\n",
       " <selenium.webdriver.remote.webelement.WebElement (session=\"c363c1c0f880ec3581f97b61472ac9ed\", element=\"85fb859f-f279-4609-a31c-24736874c55b\")>,\n",
       " <selenium.webdriver.remote.webelement.WebElement (session=\"c363c1c0f880ec3581f97b61472ac9ed\", element=\"3abd4f85-076f-4336-a5bb-186c28be7605\")>,\n",
       " <selenium.webdriver.remote.webelement.WebElement (session=\"c363c1c0f880ec3581f97b61472ac9ed\", element=\"2d456cf4-e940-407a-bedc-8b3992af1ab1\")>,\n",
       " <selenium.webdriver.remote.webelement.WebElement (session=\"c363c1c0f880ec3581f97b61472ac9ed\", element=\"c2fdfa80-2b9b-4cb5-af09-3055a9a2dd50\")>,\n",
       " <selenium.webdriver.remote.webelement.WebElement (session=\"c363c1c0f880ec3581f97b61472ac9ed\", element=\"e4d88f54-8bfd-4638-8653-b19ea8385956\")>,\n",
       " <selenium.webdriver.remote.webelement.WebElement (session=\"c363c1c0f880ec3581f97b61472ac9ed\", element=\"608dc6d5-e9de-402e-bc5a-cbe121c307a1\")>,\n",
       " <selenium.webdriver.remote.webelement.WebElement (session=\"c363c1c0f880ec3581f97b61472ac9ed\", element=\"c45c7f6d-e6f9-44b8-833c-e60d0975f747\")>,\n",
       " <selenium.webdriver.remote.webelement.WebElement (session=\"c363c1c0f880ec3581f97b61472ac9ed\", element=\"a13f2d87-174b-4669-b3e8-830c6e9c4e53\")>,\n",
       " <selenium.webdriver.remote.webelement.WebElement (session=\"c363c1c0f880ec3581f97b61472ac9ed\", element=\"d3cd66bb-2a76-4ed7-b271-6f757efc8b37\")>,\n",
       " <selenium.webdriver.remote.webelement.WebElement (session=\"c363c1c0f880ec3581f97b61472ac9ed\", element=\"7689daf3-43cf-4679-add8-59abf5445280\")>,\n",
       " <selenium.webdriver.remote.webelement.WebElement (session=\"c363c1c0f880ec3581f97b61472ac9ed\", element=\"e19a308a-031e-4500-849c-64f98b747c96\")>,\n",
       " <selenium.webdriver.remote.webelement.WebElement (session=\"c363c1c0f880ec3581f97b61472ac9ed\", element=\"97543c47-5eda-4ee0-b1fe-7422064e65d2\")>,\n",
       " <selenium.webdriver.remote.webelement.WebElement (session=\"c363c1c0f880ec3581f97b61472ac9ed\", element=\"f0d8b51c-02d8-41f2-af90-62fa7b307eb1\")>,\n",
       " <selenium.webdriver.remote.webelement.WebElement (session=\"c363c1c0f880ec3581f97b61472ac9ed\", element=\"b1de0b8a-5865-4b46-a0fc-536409bc894f\")>,\n",
       " <selenium.webdriver.remote.webelement.WebElement (session=\"c363c1c0f880ec3581f97b61472ac9ed\", element=\"2a9ba751-e295-4c83-a0c2-640e932af8fd\")>,\n",
       " <selenium.webdriver.remote.webelement.WebElement (session=\"c363c1c0f880ec3581f97b61472ac9ed\", element=\"4fda4a49-4ffe-412c-822d-2471d45e4f54\")>,\n",
       " <selenium.webdriver.remote.webelement.WebElement (session=\"c363c1c0f880ec3581f97b61472ac9ed\", element=\"d0942c26-fcb3-4fce-83c2-91e33c5c32b4\")>,\n",
       " <selenium.webdriver.remote.webelement.WebElement (session=\"c363c1c0f880ec3581f97b61472ac9ed\", element=\"7b94627c-868a-4734-988a-8836a2143a0a\")>,\n",
       " <selenium.webdriver.remote.webelement.WebElement (session=\"c363c1c0f880ec3581f97b61472ac9ed\", element=\"a90e63cf-89b4-442b-9874-f21e5cf82139\")>,\n",
       " <selenium.webdriver.remote.webelement.WebElement (session=\"c363c1c0f880ec3581f97b61472ac9ed\", element=\"c4a723ac-0c62-492d-9ff4-32bfa66adc54\")>]"
      ]
     },
     "execution_count": 50,
     "metadata": {},
     "output_type": "execute_result"
    }
   ],
   "source": [
    "sgs_descriptionp2=driver.find_elements_by_class_name('IRpwTa')\n",
    "sgs_descriptionp2"
   ]
  },
  {
   "cell_type": "code",
   "execution_count": 281,
   "id": "2269498a",
   "metadata": {},
   "outputs": [
    {
     "data": {
      "text/plain": [
       "40"
      ]
     },
     "execution_count": 281,
     "metadata": {},
     "output_type": "execute_result"
    }
   ],
   "source": [
    "len(sgs_descriptionp2)"
   ]
  },
  {
   "cell_type": "code",
   "execution_count": 49,
   "id": "af2e8081",
   "metadata": {},
   "outputs": [
    {
     "data": {
      "text/plain": [
       "'UV Protection Aviator Sunglasses (58)'"
      ]
     },
     "execution_count": 49,
     "metadata": {},
     "output_type": "execute_result"
    }
   ],
   "source": [
    "sgs_descriptionp2_sing=driver.find_element_by_class_name('IRpwTa')\n",
    "sgs_descriptionp2_sing.text"
   ]
  },
  {
   "cell_type": "code",
   "execution_count": 51,
   "id": "8b78df63",
   "metadata": {
    "collapsed": true
   },
   "outputs": [
    {
     "data": {
      "text/plain": [
       "['UV Protection Aviator Sunglasses (58)',\n",
       " 'UV Protection Round Sunglasses (Free Size)',\n",
       " 'UV Protection Round Sunglasses (Free Size)',\n",
       " 'UV Protection Rectangular Sunglasses (Free Size)',\n",
       " 'Mirrored Aviator Sunglasses (Free Size)',\n",
       " 'Gradient, UV Protection Wayfarer Sunglasses (Free Size)',\n",
       " 'UV Protection Sports Sunglasses (62)',\n",
       " 'UV Protection Round Sunglasses (50)',\n",
       " 'UV Protection, Polarized, Mirrored Rectangular Sunglass...',\n",
       " 'UV Protection Retro Square Sunglasses (Free Size)',\n",
       " 'UV Protection, Polarized, Mirrored Retro Square Sunglas...',\n",
       " 'Gradient Round Sunglasses (54)',\n",
       " 'Others Wayfarer, Retro Square Sunglasses (50)',\n",
       " 'UV Protection Rectangular Sunglasses (Free Size)',\n",
       " 'UV Protection Aviator Sunglasses (88)',\n",
       " 'by Lenskart Polarized, UV Protection Aviator Sunglasses...',\n",
       " 'Night Vision, UV Protection Round Sunglasses (54)',\n",
       " 'UV Protection Aviator Sunglasses (Free Size)',\n",
       " 'Mirrored, UV Protection Wayfarer, Rectangular Sunglasse...',\n",
       " 'Polarized Aviator Sunglasses (58)',\n",
       " 'UV Protection Rectangular Sunglasses (59)',\n",
       " 'Riding Glasses, Night Vision Wrap-around Sunglasses (Fr...',\n",
       " 'UV Protection, Gradient Rectangular Sunglasses (Free Si...',\n",
       " 'UV Protection, Gradient Rectangular Sunglasses (Free Si...',\n",
       " 'UV Protection, Mirrored Sports Sunglasses (Free Size)',\n",
       " 'UV Protection Clubmaster Sunglasses (Free Size)',\n",
       " 'Mirrored, UV Protection, Riding Glasses, Others Round S...',\n",
       " 'UV Protection, Gradient Retro Square Sunglasses (Free S...',\n",
       " 'UV Protection Rectangular Sunglasses (58)',\n",
       " 'UV Protection Aviator Sunglasses (Free Size)',\n",
       " 'Mirrored Aviator Sunglasses (55)',\n",
       " 'by Lenskart Polarized, UV Protection Round Sunglasses (...',\n",
       " 'UV Protection Wayfarer Sunglasses (53)',\n",
       " 'UV Protection Retro Square Sunglasses (Free Size)',\n",
       " 'UV Protection, Gradient Round Sunglasses (Free Size)',\n",
       " 'UV Protection Retro Square Sunglasses (Free Size)',\n",
       " 'UV Protection, Gradient, Mirrored, Riding Glasses Aviat...',\n",
       " 'Mirrored, UV Protection, Gradient Round Sunglasses (55)',\n",
       " 'UV Protection, Polarized, Mirrored Wayfarer Sunglasses ...',\n",
       " 'by Lenskart Polarized, UV Protection Wayfarer Sunglasse...']"
      ]
     },
     "execution_count": 51,
     "metadata": {},
     "output_type": "execute_result"
    }
   ],
   "source": [
    "descp2_sunglass=[]\n",
    "\n",
    "for i in sgs_descriptionp2:\n",
    "    descp2_sunglass.append(i.text)\n",
    "    \n",
    "descp2_sunglass[0:40]"
   ]
  },
  {
   "cell_type": "code",
   "execution_count": 53,
   "id": "4e970570",
   "metadata": {
    "collapsed": true
   },
   "outputs": [
    {
     "data": {
      "text/plain": [
       "[<selenium.webdriver.remote.webelement.WebElement (session=\"c363c1c0f880ec3581f97b61472ac9ed\", element=\"13045f52-4602-4bc7-b962-a1453cc84175\")>,\n",
       " <selenium.webdriver.remote.webelement.WebElement (session=\"c363c1c0f880ec3581f97b61472ac9ed\", element=\"acf4937d-da31-47de-879c-fb6e26228e56\")>,\n",
       " <selenium.webdriver.remote.webelement.WebElement (session=\"c363c1c0f880ec3581f97b61472ac9ed\", element=\"057733e5-67a9-4b4b-9e82-4fe5b5ba791f\")>,\n",
       " <selenium.webdriver.remote.webelement.WebElement (session=\"c363c1c0f880ec3581f97b61472ac9ed\", element=\"1b896642-9600-4bd6-9c9e-f9888352c53f\")>,\n",
       " <selenium.webdriver.remote.webelement.WebElement (session=\"c363c1c0f880ec3581f97b61472ac9ed\", element=\"10740e8b-744d-4576-89aa-77d157b751ee\")>,\n",
       " <selenium.webdriver.remote.webelement.WebElement (session=\"c363c1c0f880ec3581f97b61472ac9ed\", element=\"16998adb-007f-4702-8bfc-41085191dc85\")>,\n",
       " <selenium.webdriver.remote.webelement.WebElement (session=\"c363c1c0f880ec3581f97b61472ac9ed\", element=\"d09e726b-7c3c-42ba-a622-6f6a2e89d6ec\")>,\n",
       " <selenium.webdriver.remote.webelement.WebElement (session=\"c363c1c0f880ec3581f97b61472ac9ed\", element=\"830af289-d251-4049-a01b-88ca37a5fecf\")>,\n",
       " <selenium.webdriver.remote.webelement.WebElement (session=\"c363c1c0f880ec3581f97b61472ac9ed\", element=\"168f6db3-14a9-4ee0-aa66-f81edb7b14b5\")>,\n",
       " <selenium.webdriver.remote.webelement.WebElement (session=\"c363c1c0f880ec3581f97b61472ac9ed\", element=\"cd0f8661-9f42-4a01-81d5-4a02f0168880\")>,\n",
       " <selenium.webdriver.remote.webelement.WebElement (session=\"c363c1c0f880ec3581f97b61472ac9ed\", element=\"b1211f7b-4a16-416a-8d75-6561987056d1\")>,\n",
       " <selenium.webdriver.remote.webelement.WebElement (session=\"c363c1c0f880ec3581f97b61472ac9ed\", element=\"efa82777-ad7f-4b2d-b059-b86b0106ad59\")>,\n",
       " <selenium.webdriver.remote.webelement.WebElement (session=\"c363c1c0f880ec3581f97b61472ac9ed\", element=\"4036ad70-0df3-411d-b4d4-cd9e50292987\")>,\n",
       " <selenium.webdriver.remote.webelement.WebElement (session=\"c363c1c0f880ec3581f97b61472ac9ed\", element=\"a4b7504d-62be-4368-b56b-ac5e8aa5f950\")>,\n",
       " <selenium.webdriver.remote.webelement.WebElement (session=\"c363c1c0f880ec3581f97b61472ac9ed\", element=\"accd4e9b-d4c5-4926-918e-0299f44081a0\")>,\n",
       " <selenium.webdriver.remote.webelement.WebElement (session=\"c363c1c0f880ec3581f97b61472ac9ed\", element=\"cbb8d214-c270-477a-ad50-6b556fec0171\")>,\n",
       " <selenium.webdriver.remote.webelement.WebElement (session=\"c363c1c0f880ec3581f97b61472ac9ed\", element=\"11a37493-cf71-4553-8012-73f993f88844\")>,\n",
       " <selenium.webdriver.remote.webelement.WebElement (session=\"c363c1c0f880ec3581f97b61472ac9ed\", element=\"4c13ee48-718f-471f-a41c-8e7adba8b1c5\")>,\n",
       " <selenium.webdriver.remote.webelement.WebElement (session=\"c363c1c0f880ec3581f97b61472ac9ed\", element=\"fe9eabd4-ade1-45fa-803d-c7248bcc1598\")>,\n",
       " <selenium.webdriver.remote.webelement.WebElement (session=\"c363c1c0f880ec3581f97b61472ac9ed\", element=\"1706f2c8-42b9-40e2-b01d-2d0463cd7a3f\")>,\n",
       " <selenium.webdriver.remote.webelement.WebElement (session=\"c363c1c0f880ec3581f97b61472ac9ed\", element=\"08393fd9-cb5b-423a-ada6-229753e6ae2f\")>,\n",
       " <selenium.webdriver.remote.webelement.WebElement (session=\"c363c1c0f880ec3581f97b61472ac9ed\", element=\"f473d2ef-121d-4e82-88fa-ed3f499cec14\")>,\n",
       " <selenium.webdriver.remote.webelement.WebElement (session=\"c363c1c0f880ec3581f97b61472ac9ed\", element=\"6edcaaf3-91fc-40a4-b387-685d82501bc2\")>,\n",
       " <selenium.webdriver.remote.webelement.WebElement (session=\"c363c1c0f880ec3581f97b61472ac9ed\", element=\"cb92624a-7514-472b-948a-98e69ccd08b4\")>,\n",
       " <selenium.webdriver.remote.webelement.WebElement (session=\"c363c1c0f880ec3581f97b61472ac9ed\", element=\"d422b823-e776-41e6-be21-1bf5652e1902\")>,\n",
       " <selenium.webdriver.remote.webelement.WebElement (session=\"c363c1c0f880ec3581f97b61472ac9ed\", element=\"f59d44a8-a8c3-4e71-8fab-563c179c6f17\")>,\n",
       " <selenium.webdriver.remote.webelement.WebElement (session=\"c363c1c0f880ec3581f97b61472ac9ed\", element=\"91299ff1-129e-4d80-860f-9336c19f0439\")>,\n",
       " <selenium.webdriver.remote.webelement.WebElement (session=\"c363c1c0f880ec3581f97b61472ac9ed\", element=\"aab8c3b5-e158-44a0-8789-a1d5ab6b21ed\")>,\n",
       " <selenium.webdriver.remote.webelement.WebElement (session=\"c363c1c0f880ec3581f97b61472ac9ed\", element=\"b1a5a04a-b619-45ab-8d29-1416f769b335\")>,\n",
       " <selenium.webdriver.remote.webelement.WebElement (session=\"c363c1c0f880ec3581f97b61472ac9ed\", element=\"da1ac61d-36c0-4e76-b75b-dcc0d4a19ca6\")>,\n",
       " <selenium.webdriver.remote.webelement.WebElement (session=\"c363c1c0f880ec3581f97b61472ac9ed\", element=\"cff3272f-66f4-432d-aca1-00b03249bf21\")>,\n",
       " <selenium.webdriver.remote.webelement.WebElement (session=\"c363c1c0f880ec3581f97b61472ac9ed\", element=\"cb562a89-bdfb-46a0-9720-db13b52cde47\")>,\n",
       " <selenium.webdriver.remote.webelement.WebElement (session=\"c363c1c0f880ec3581f97b61472ac9ed\", element=\"95f6b9cc-a2ba-41c6-aea8-7dafa3d197ee\")>,\n",
       " <selenium.webdriver.remote.webelement.WebElement (session=\"c363c1c0f880ec3581f97b61472ac9ed\", element=\"0deb50dc-26a0-4580-a287-1830559ec102\")>,\n",
       " <selenium.webdriver.remote.webelement.WebElement (session=\"c363c1c0f880ec3581f97b61472ac9ed\", element=\"c73b222e-1e15-4a0f-8b8f-638f051695a5\")>,\n",
       " <selenium.webdriver.remote.webelement.WebElement (session=\"c363c1c0f880ec3581f97b61472ac9ed\", element=\"20384b7f-4f3d-4288-891e-ab482a8e1a6c\")>,\n",
       " <selenium.webdriver.remote.webelement.WebElement (session=\"c363c1c0f880ec3581f97b61472ac9ed\", element=\"6014bb96-f0b4-4aca-b6af-63a6277d0a21\")>,\n",
       " <selenium.webdriver.remote.webelement.WebElement (session=\"c363c1c0f880ec3581f97b61472ac9ed\", element=\"b85c1648-9501-4aaa-8585-d9a042a8824e\")>,\n",
       " <selenium.webdriver.remote.webelement.WebElement (session=\"c363c1c0f880ec3581f97b61472ac9ed\", element=\"6fd2962a-efa3-46f9-8d2e-de98a70d181f\")>,\n",
       " <selenium.webdriver.remote.webelement.WebElement (session=\"c363c1c0f880ec3581f97b61472ac9ed\", element=\"6f4fd456-0d68-48c2-b749-18e211257801\")>,\n",
       " <selenium.webdriver.remote.webelement.WebElement (session=\"c363c1c0f880ec3581f97b61472ac9ed\", element=\"8290e4d0-938f-4c92-82b7-1f91be85e3db\")>,\n",
       " <selenium.webdriver.remote.webelement.WebElement (session=\"c363c1c0f880ec3581f97b61472ac9ed\", element=\"cc6b3380-afc4-45ba-88bc-ab8a83bcf46d\")>,\n",
       " <selenium.webdriver.remote.webelement.WebElement (session=\"c363c1c0f880ec3581f97b61472ac9ed\", element=\"584bee57-2a1f-487a-9537-5e66140ee195\")>,\n",
       " <selenium.webdriver.remote.webelement.WebElement (session=\"c363c1c0f880ec3581f97b61472ac9ed\", element=\"9a8723e5-7f72-4d18-b45d-3c4104ce638c\")>,\n",
       " <selenium.webdriver.remote.webelement.WebElement (session=\"c363c1c0f880ec3581f97b61472ac9ed\", element=\"761f3d70-5406-4cbf-a120-3202b7e01782\")>]"
      ]
     },
     "execution_count": 53,
     "metadata": {},
     "output_type": "execute_result"
    }
   ],
   "source": [
    "sgs_pricep2=driver.find_elements_by_class_name('_30jeq3')\n",
    "sgs_pricep2"
   ]
  },
  {
   "cell_type": "code",
   "execution_count": null,
   "id": "c8b5dc96",
   "metadata": {},
   "outputs": [],
   "source": []
  },
  {
   "cell_type": "code",
   "execution_count": 52,
   "id": "93bb6cd3",
   "metadata": {},
   "outputs": [
    {
     "data": {
      "text/plain": [
       "'₹349'"
      ]
     },
     "execution_count": 52,
     "metadata": {},
     "output_type": "execute_result"
    }
   ],
   "source": [
    "sgs_pricep2_sing=driver.find_element_by_class_name('_30jeq3')\n",
    "sgs_pricep2_sing.text"
   ]
  },
  {
   "cell_type": "code",
   "execution_count": null,
   "id": "ad14baef",
   "metadata": {},
   "outputs": [],
   "source": []
  },
  {
   "cell_type": "code",
   "execution_count": 54,
   "id": "3c6b9fed",
   "metadata": {},
   "outputs": [
    {
     "data": {
      "text/plain": [
       "45"
      ]
     },
     "execution_count": 54,
     "metadata": {},
     "output_type": "execute_result"
    }
   ],
   "source": [
    "len(sgs_pricep2)"
   ]
  },
  {
   "cell_type": "code",
   "execution_count": 55,
   "id": "4f5a8da0",
   "metadata": {},
   "outputs": [],
   "source": [
    "pricep2_sunglass=[]\n",
    "\n",
    "for i in sgs_pricep2:\n",
    "    pricep2_sunglass.append(i.text)\n",
    "    \n",
    "price_p2=pricep2_sunglass[0:40]"
   ]
  },
  {
   "cell_type": "code",
   "execution_count": 56,
   "id": "12dd8574",
   "metadata": {},
   "outputs": [
    {
     "data": {
      "text/plain": [
       "'87% off'"
      ]
     },
     "execution_count": 56,
     "metadata": {},
     "output_type": "execute_result"
    }
   ],
   "source": [
    "sgs_discountp2_sing=driver.find_element_by_class_name('_3Ay6Sb')\n",
    "sgs_discountp2_sing.text"
   ]
  },
  {
   "cell_type": "code",
   "execution_count": null,
   "id": "1d6e9265",
   "metadata": {},
   "outputs": [],
   "source": []
  },
  {
   "cell_type": "code",
   "execution_count": 57,
   "id": "2d4517c9",
   "metadata": {
    "collapsed": true
   },
   "outputs": [
    {
     "data": {
      "text/plain": [
       "[<selenium.webdriver.remote.webelement.WebElement (session=\"c363c1c0f880ec3581f97b61472ac9ed\", element=\"fb3ffd73-937f-46b7-8dc4-7df0ba23d478\")>,\n",
       " <selenium.webdriver.remote.webelement.WebElement (session=\"c363c1c0f880ec3581f97b61472ac9ed\", element=\"223591ad-9e3e-432e-9fd9-f028b185e3bf\")>,\n",
       " <selenium.webdriver.remote.webelement.WebElement (session=\"c363c1c0f880ec3581f97b61472ac9ed\", element=\"fa7b1222-fb07-48b1-a8ae-822a3b852419\")>,\n",
       " <selenium.webdriver.remote.webelement.WebElement (session=\"c363c1c0f880ec3581f97b61472ac9ed\", element=\"017cad7d-1bb2-4c5d-89c9-50ea83fe04e0\")>,\n",
       " <selenium.webdriver.remote.webelement.WebElement (session=\"c363c1c0f880ec3581f97b61472ac9ed\", element=\"324c42bd-1416-4f33-b356-a9c34ba0f753\")>,\n",
       " <selenium.webdriver.remote.webelement.WebElement (session=\"c363c1c0f880ec3581f97b61472ac9ed\", element=\"23435f62-6f3d-4942-9fd9-c26a72c80c53\")>,\n",
       " <selenium.webdriver.remote.webelement.WebElement (session=\"c363c1c0f880ec3581f97b61472ac9ed\", element=\"f7b02f06-6059-43f5-b8b0-551ae49c96e0\")>,\n",
       " <selenium.webdriver.remote.webelement.WebElement (session=\"c363c1c0f880ec3581f97b61472ac9ed\", element=\"429c364c-6676-48e5-9165-4de6ef9085c8\")>,\n",
       " <selenium.webdriver.remote.webelement.WebElement (session=\"c363c1c0f880ec3581f97b61472ac9ed\", element=\"4a2704dc-d5cd-403c-8911-5c79e476ca78\")>,\n",
       " <selenium.webdriver.remote.webelement.WebElement (session=\"c363c1c0f880ec3581f97b61472ac9ed\", element=\"e4d3ff94-ba21-47b4-91bd-cb718c7f7b89\")>,\n",
       " <selenium.webdriver.remote.webelement.WebElement (session=\"c363c1c0f880ec3581f97b61472ac9ed\", element=\"ab56d353-bfef-41fc-bc9e-43d13c392946\")>,\n",
       " <selenium.webdriver.remote.webelement.WebElement (session=\"c363c1c0f880ec3581f97b61472ac9ed\", element=\"4d028105-b161-4fbf-9053-9fb98118b70b\")>,\n",
       " <selenium.webdriver.remote.webelement.WebElement (session=\"c363c1c0f880ec3581f97b61472ac9ed\", element=\"d1e848a6-5b50-41dc-926a-521e7d00e855\")>,\n",
       " <selenium.webdriver.remote.webelement.WebElement (session=\"c363c1c0f880ec3581f97b61472ac9ed\", element=\"8950da57-6c86-4884-a96e-d99b004de22b\")>,\n",
       " <selenium.webdriver.remote.webelement.WebElement (session=\"c363c1c0f880ec3581f97b61472ac9ed\", element=\"0d571332-7862-4a9a-ac0a-971f9e98e4a0\")>,\n",
       " <selenium.webdriver.remote.webelement.WebElement (session=\"c363c1c0f880ec3581f97b61472ac9ed\", element=\"34816635-ad4e-4089-8b15-50bfd7f21377\")>,\n",
       " <selenium.webdriver.remote.webelement.WebElement (session=\"c363c1c0f880ec3581f97b61472ac9ed\", element=\"fc8bb800-e2b9-4adb-810b-afa9ac3ac2fc\")>,\n",
       " <selenium.webdriver.remote.webelement.WebElement (session=\"c363c1c0f880ec3581f97b61472ac9ed\", element=\"ec489c0d-4da8-485e-a01e-bfd88e20309a\")>,\n",
       " <selenium.webdriver.remote.webelement.WebElement (session=\"c363c1c0f880ec3581f97b61472ac9ed\", element=\"da97b4d1-b974-41b0-8e95-ee6c7109641c\")>,\n",
       " <selenium.webdriver.remote.webelement.WebElement (session=\"c363c1c0f880ec3581f97b61472ac9ed\", element=\"4501a6b1-f68f-42dd-bb9d-d52b9bd91903\")>,\n",
       " <selenium.webdriver.remote.webelement.WebElement (session=\"c363c1c0f880ec3581f97b61472ac9ed\", element=\"5b288deb-bba8-4f78-bd18-7d45b2e454b5\")>,\n",
       " <selenium.webdriver.remote.webelement.WebElement (session=\"c363c1c0f880ec3581f97b61472ac9ed\", element=\"bda7c22b-6d51-4af6-b6c4-a1c824318e2c\")>,\n",
       " <selenium.webdriver.remote.webelement.WebElement (session=\"c363c1c0f880ec3581f97b61472ac9ed\", element=\"582ffbb7-3a16-4441-881b-bf80284ca3d1\")>,\n",
       " <selenium.webdriver.remote.webelement.WebElement (session=\"c363c1c0f880ec3581f97b61472ac9ed\", element=\"1924eaed-c7e7-4352-8072-7b43741c5de4\")>,\n",
       " <selenium.webdriver.remote.webelement.WebElement (session=\"c363c1c0f880ec3581f97b61472ac9ed\", element=\"794f2fa9-d72c-4db4-8ef8-7bed14892234\")>,\n",
       " <selenium.webdriver.remote.webelement.WebElement (session=\"c363c1c0f880ec3581f97b61472ac9ed\", element=\"2aedd87a-c301-4451-8cf3-054f91a8e83a\")>,\n",
       " <selenium.webdriver.remote.webelement.WebElement (session=\"c363c1c0f880ec3581f97b61472ac9ed\", element=\"1e792d06-c958-4964-980c-ce2f563383b4\")>,\n",
       " <selenium.webdriver.remote.webelement.WebElement (session=\"c363c1c0f880ec3581f97b61472ac9ed\", element=\"a1c77f8e-6247-4e12-98e9-15b1c2ac7c54\")>,\n",
       " <selenium.webdriver.remote.webelement.WebElement (session=\"c363c1c0f880ec3581f97b61472ac9ed\", element=\"506bd43d-1725-49e4-837e-1e4c717b5c35\")>,\n",
       " <selenium.webdriver.remote.webelement.WebElement (session=\"c363c1c0f880ec3581f97b61472ac9ed\", element=\"b0eb0af4-4b99-4a5b-bbba-72c36d01a553\")>,\n",
       " <selenium.webdriver.remote.webelement.WebElement (session=\"c363c1c0f880ec3581f97b61472ac9ed\", element=\"044f8950-1fd6-48a1-90d3-07bbc6b8bf3e\")>,\n",
       " <selenium.webdriver.remote.webelement.WebElement (session=\"c363c1c0f880ec3581f97b61472ac9ed\", element=\"994244d4-be9e-4050-9ad1-5a10177b5cc9\")>,\n",
       " <selenium.webdriver.remote.webelement.WebElement (session=\"c363c1c0f880ec3581f97b61472ac9ed\", element=\"ad61a420-5967-4875-88bf-34e979a0b4f0\")>,\n",
       " <selenium.webdriver.remote.webelement.WebElement (session=\"c363c1c0f880ec3581f97b61472ac9ed\", element=\"eb5705fe-8cfe-4c8d-9016-b84379d624e5\")>,\n",
       " <selenium.webdriver.remote.webelement.WebElement (session=\"c363c1c0f880ec3581f97b61472ac9ed\", element=\"8dbe37e4-a6a7-492a-b2c1-dbcba97dd00a\")>,\n",
       " <selenium.webdriver.remote.webelement.WebElement (session=\"c363c1c0f880ec3581f97b61472ac9ed\", element=\"81ab38ea-75bc-4d8e-b1d3-2a271cb4d81f\")>,\n",
       " <selenium.webdriver.remote.webelement.WebElement (session=\"c363c1c0f880ec3581f97b61472ac9ed\", element=\"ccf67271-6e5a-4db3-8996-2df92d7bc417\")>,\n",
       " <selenium.webdriver.remote.webelement.WebElement (session=\"c363c1c0f880ec3581f97b61472ac9ed\", element=\"aab3ea5d-e1bb-482f-93f2-23fb6c72df05\")>,\n",
       " <selenium.webdriver.remote.webelement.WebElement (session=\"c363c1c0f880ec3581f97b61472ac9ed\", element=\"96aedf67-01ab-4ee3-8c62-92db2c316c05\")>,\n",
       " <selenium.webdriver.remote.webelement.WebElement (session=\"c363c1c0f880ec3581f97b61472ac9ed\", element=\"109b03ba-a9c9-45fd-a61f-4e2c4c8bc690\")>,\n",
       " <selenium.webdriver.remote.webelement.WebElement (session=\"c363c1c0f880ec3581f97b61472ac9ed\", element=\"8afe4ee2-482f-4b36-a400-f24dd0bdaccf\")>,\n",
       " <selenium.webdriver.remote.webelement.WebElement (session=\"c363c1c0f880ec3581f97b61472ac9ed\", element=\"51384391-6608-4ed7-9754-959233905dcd\")>,\n",
       " <selenium.webdriver.remote.webelement.WebElement (session=\"c363c1c0f880ec3581f97b61472ac9ed\", element=\"788bb8b4-7c30-47cf-a78c-d5c57093a297\")>,\n",
       " <selenium.webdriver.remote.webelement.WebElement (session=\"c363c1c0f880ec3581f97b61472ac9ed\", element=\"4de82bc7-91d3-470f-ac35-8a96d28c3fc8\")>,\n",
       " <selenium.webdriver.remote.webelement.WebElement (session=\"c363c1c0f880ec3581f97b61472ac9ed\", element=\"65ee22c3-950d-4618-952b-4ada2def956b\")>]"
      ]
     },
     "execution_count": 57,
     "metadata": {},
     "output_type": "execute_result"
    }
   ],
   "source": [
    "sgs_discountp2=driver.find_elements_by_class_name('_3Ay6Sb')\n",
    "sgs_discountp2"
   ]
  },
  {
   "cell_type": "code",
   "execution_count": null,
   "id": "e379e6fc",
   "metadata": {},
   "outputs": [],
   "source": []
  },
  {
   "cell_type": "code",
   "execution_count": 58,
   "id": "7521a4f1",
   "metadata": {},
   "outputs": [
    {
     "data": {
      "text/plain": [
       "45"
      ]
     },
     "execution_count": 58,
     "metadata": {},
     "output_type": "execute_result"
    }
   ],
   "source": [
    "len(sgs_discountp2)"
   ]
  },
  {
   "cell_type": "code",
   "execution_count": 59,
   "id": "ffac3fe7",
   "metadata": {},
   "outputs": [],
   "source": [
    "discountp2_sunglass=[]\n",
    "\n",
    "for i in sgs_discountp2:\n",
    "    discountp2_sunglass.append(i.text)\n",
    "    \n",
    "discount_p2=discountp2_sunglass[0:40]"
   ]
  },
  {
   "cell_type": "code",
   "execution_count": 60,
   "id": "69c44aba",
   "metadata": {},
   "outputs": [
    {
     "data": {
      "text/plain": [
       "(40, 40, 40, 40)"
      ]
     },
     "execution_count": 60,
     "metadata": {},
     "output_type": "execute_result"
    }
   ],
   "source": [
    "len(brandsp2_sunglass),len(descp2_sunglass),len(price_p2),len(discount_p2)"
   ]
  },
  {
   "cell_type": "code",
   "execution_count": 61,
   "id": "1243fb95",
   "metadata": {
    "collapsed": true
   },
   "outputs": [
    {
     "data": {
      "text/html": [
       "<div>\n",
       "<style scoped>\n",
       "    .dataframe tbody tr th:only-of-type {\n",
       "        vertical-align: middle;\n",
       "    }\n",
       "\n",
       "    .dataframe tbody tr th {\n",
       "        vertical-align: top;\n",
       "    }\n",
       "\n",
       "    .dataframe thead th {\n",
       "        text-align: right;\n",
       "    }\n",
       "</style>\n",
       "<table border=\"1\" class=\"dataframe\">\n",
       "  <thead>\n",
       "    <tr style=\"text-align: right;\">\n",
       "      <th></th>\n",
       "      <th>Brand Name</th>\n",
       "      <th>Product Description</th>\n",
       "      <th>Price</th>\n",
       "      <th>Discount</th>\n",
       "    </tr>\n",
       "  </thead>\n",
       "  <tbody>\n",
       "    <tr>\n",
       "      <th>0</th>\n",
       "      <td>PIRASO</td>\n",
       "      <td>UV Protection Aviator Sunglasses (58)</td>\n",
       "      <td>₹349</td>\n",
       "      <td>87% off</td>\n",
       "    </tr>\n",
       "    <tr>\n",
       "      <th>1</th>\n",
       "      <td>kingsunglasses</td>\n",
       "      <td>UV Protection Round Sunglasses (Free Size)</td>\n",
       "      <td>₹289</td>\n",
       "      <td>82% off</td>\n",
       "    </tr>\n",
       "    <tr>\n",
       "      <th>2</th>\n",
       "      <td>SHAAH COLLECTIONS</td>\n",
       "      <td>UV Protection Round Sunglasses (Free Size)</td>\n",
       "      <td>₹284</td>\n",
       "      <td>83% off</td>\n",
       "    </tr>\n",
       "    <tr>\n",
       "      <th>3</th>\n",
       "      <td>Ray-Ban</td>\n",
       "      <td>UV Protection Rectangular Sunglasses (Free Size)</td>\n",
       "      <td>₹3,479</td>\n",
       "      <td>37% off</td>\n",
       "    </tr>\n",
       "    <tr>\n",
       "      <th>4</th>\n",
       "      <td>ROYAL SON</td>\n",
       "      <td>Mirrored Aviator Sunglasses (Free Size)</td>\n",
       "      <td>₹379</td>\n",
       "      <td>75% off</td>\n",
       "    </tr>\n",
       "    <tr>\n",
       "      <th>5</th>\n",
       "      <td>Fastrack</td>\n",
       "      <td>Gradient, UV Protection Wayfarer Sunglasses (F...</td>\n",
       "      <td>₹709</td>\n",
       "      <td>21% off</td>\n",
       "    </tr>\n",
       "    <tr>\n",
       "      <th>6</th>\n",
       "      <td>NuVew</td>\n",
       "      <td>UV Protection Sports Sunglasses (62)</td>\n",
       "      <td>₹327</td>\n",
       "      <td>74% off</td>\n",
       "    </tr>\n",
       "    <tr>\n",
       "      <th>7</th>\n",
       "      <td>Ray-Ban</td>\n",
       "      <td>UV Protection Round Sunglasses (50)</td>\n",
       "      <td>₹6,649</td>\n",
       "      <td>10% off</td>\n",
       "    </tr>\n",
       "    <tr>\n",
       "      <th>8</th>\n",
       "      <td>SHAAH COLLECTIONS</td>\n",
       "      <td>UV Protection, Polarized, Mirrored Rectangular...</td>\n",
       "      <td>₹181</td>\n",
       "      <td>82% off</td>\n",
       "    </tr>\n",
       "    <tr>\n",
       "      <th>9</th>\n",
       "      <td>ROZZETTA CRAFT</td>\n",
       "      <td>UV Protection Retro Square Sunglasses (Free Size)</td>\n",
       "      <td>₹474</td>\n",
       "      <td>79% off</td>\n",
       "    </tr>\n",
       "    <tr>\n",
       "      <th>10</th>\n",
       "      <td>SUNBEE</td>\n",
       "      <td>UV Protection, Polarized, Mirrored Retro Squar...</td>\n",
       "      <td>₹230</td>\n",
       "      <td>82% off</td>\n",
       "    </tr>\n",
       "    <tr>\n",
       "      <th>11</th>\n",
       "      <td>Ray-Ban</td>\n",
       "      <td>Gradient Round Sunglasses (54)</td>\n",
       "      <td>₹8,089</td>\n",
       "      <td>10% off</td>\n",
       "    </tr>\n",
       "    <tr>\n",
       "      <th>12</th>\n",
       "      <td>SRPM</td>\n",
       "      <td>Others Wayfarer, Retro Square Sunglasses (50)</td>\n",
       "      <td>₹178</td>\n",
       "      <td>82% off</td>\n",
       "    </tr>\n",
       "    <tr>\n",
       "      <th>13</th>\n",
       "      <td>kingsunglasses</td>\n",
       "      <td>UV Protection Rectangular Sunglasses (Free Size)</td>\n",
       "      <td>₹180</td>\n",
       "      <td>84% off</td>\n",
       "    </tr>\n",
       "    <tr>\n",
       "      <th>14</th>\n",
       "      <td>Silver Kartz</td>\n",
       "      <td>UV Protection Aviator Sunglasses (88)</td>\n",
       "      <td>₹255</td>\n",
       "      <td>79% off</td>\n",
       "    </tr>\n",
       "    <tr>\n",
       "      <th>15</th>\n",
       "      <td>VINCENT CHASE</td>\n",
       "      <td>by Lenskart Polarized, UV Protection Aviator S...</td>\n",
       "      <td>₹980</td>\n",
       "      <td>51% off</td>\n",
       "    </tr>\n",
       "    <tr>\n",
       "      <th>16</th>\n",
       "      <td>SRPM</td>\n",
       "      <td>Night Vision, UV Protection Round Sunglasses (54)</td>\n",
       "      <td>₹199</td>\n",
       "      <td>80% off</td>\n",
       "    </tr>\n",
       "    <tr>\n",
       "      <th>17</th>\n",
       "      <td>PIRASO</td>\n",
       "      <td>UV Protection Aviator Sunglasses (Free Size)</td>\n",
       "      <td>₹299</td>\n",
       "      <td>81% off</td>\n",
       "    </tr>\n",
       "    <tr>\n",
       "      <th>18</th>\n",
       "      <td>kingsunglasses</td>\n",
       "      <td>Mirrored, UV Protection Wayfarer, Rectangular ...</td>\n",
       "      <td>₹258</td>\n",
       "      <td>87% off</td>\n",
       "    </tr>\n",
       "    <tr>\n",
       "      <th>19</th>\n",
       "      <td>Ray-Ban</td>\n",
       "      <td>Polarized Aviator Sunglasses (58)</td>\n",
       "      <td>₹8,449</td>\n",
       "      <td>10% off</td>\n",
       "    </tr>\n",
       "    <tr>\n",
       "      <th>20</th>\n",
       "      <td>IDEE</td>\n",
       "      <td>UV Protection Rectangular Sunglasses (59)</td>\n",
       "      <td>₹1,009</td>\n",
       "      <td>59% off</td>\n",
       "    </tr>\n",
       "    <tr>\n",
       "      <th>21</th>\n",
       "      <td>Lee Topper</td>\n",
       "      <td>Riding Glasses, Night Vision Wrap-around Sungl...</td>\n",
       "      <td>₹276</td>\n",
       "      <td>89% off</td>\n",
       "    </tr>\n",
       "    <tr>\n",
       "      <th>22</th>\n",
       "      <td>ROZZETTA CRAFT</td>\n",
       "      <td>UV Protection, Gradient Rectangular Sunglasses...</td>\n",
       "      <td>₹379</td>\n",
       "      <td>81% off</td>\n",
       "    </tr>\n",
       "    <tr>\n",
       "      <th>23</th>\n",
       "      <td>ROZZETTA CRAFT</td>\n",
       "      <td>UV Protection, Gradient Rectangular Sunglasses...</td>\n",
       "      <td>₹426</td>\n",
       "      <td>79% off</td>\n",
       "    </tr>\n",
       "    <tr>\n",
       "      <th>24</th>\n",
       "      <td>New Specs</td>\n",
       "      <td>UV Protection, Mirrored Sports Sunglasses (Fre...</td>\n",
       "      <td>₹155</td>\n",
       "      <td>88% off</td>\n",
       "    </tr>\n",
       "    <tr>\n",
       "      <th>25</th>\n",
       "      <td>PHENOMENAL</td>\n",
       "      <td>UV Protection Clubmaster Sunglasses (Free Size)</td>\n",
       "      <td>₹307</td>\n",
       "      <td>85% off</td>\n",
       "    </tr>\n",
       "    <tr>\n",
       "      <th>26</th>\n",
       "      <td>New Specs</td>\n",
       "      <td>Mirrored, UV Protection, Riding Glasses, Other...</td>\n",
       "      <td>₹263</td>\n",
       "      <td>81% off</td>\n",
       "    </tr>\n",
       "    <tr>\n",
       "      <th>27</th>\n",
       "      <td>ROZZETTA CRAFT</td>\n",
       "      <td>UV Protection, Gradient Retro Square Sunglasse...</td>\n",
       "      <td>₹307</td>\n",
       "      <td>85% off</td>\n",
       "    </tr>\n",
       "    <tr>\n",
       "      <th>28</th>\n",
       "      <td>ROYAL SON</td>\n",
       "      <td>UV Protection Rectangular Sunglasses (58)</td>\n",
       "      <td>₹474</td>\n",
       "      <td>68% off</td>\n",
       "    </tr>\n",
       "    <tr>\n",
       "      <th>29</th>\n",
       "      <td>New Specs</td>\n",
       "      <td>UV Protection Aviator Sunglasses (Free Size)</td>\n",
       "      <td>₹183</td>\n",
       "      <td>89% off</td>\n",
       "    </tr>\n",
       "    <tr>\n",
       "      <th>30</th>\n",
       "      <td>ROYAL SON</td>\n",
       "      <td>Mirrored Aviator Sunglasses (55)</td>\n",
       "      <td>₹379</td>\n",
       "      <td>75% off</td>\n",
       "    </tr>\n",
       "    <tr>\n",
       "      <th>31</th>\n",
       "      <td>VINCENT CHASE</td>\n",
       "      <td>by Lenskart Polarized, UV Protection Round Sun...</td>\n",
       "      <td>₹799</td>\n",
       "      <td>68% off</td>\n",
       "    </tr>\n",
       "    <tr>\n",
       "      <th>32</th>\n",
       "      <td>Elligator</td>\n",
       "      <td>UV Protection Wayfarer Sunglasses (53)</td>\n",
       "      <td>₹176</td>\n",
       "      <td>88% off</td>\n",
       "    </tr>\n",
       "    <tr>\n",
       "      <th>33</th>\n",
       "      <td>PHENOMENAL</td>\n",
       "      <td>UV Protection Retro Square Sunglasses (Free Size)</td>\n",
       "      <td>₹328</td>\n",
       "      <td>84% off</td>\n",
       "    </tr>\n",
       "    <tr>\n",
       "      <th>34</th>\n",
       "      <td>ROZZETTA CRAFT</td>\n",
       "      <td>UV Protection, Gradient Round Sunglasses (Free...</td>\n",
       "      <td>₹342</td>\n",
       "      <td>83% off</td>\n",
       "    </tr>\n",
       "    <tr>\n",
       "      <th>35</th>\n",
       "      <td>povty</td>\n",
       "      <td>UV Protection Retro Square Sunglasses (Free Size)</td>\n",
       "      <td>₹299</td>\n",
       "      <td>70% off</td>\n",
       "    </tr>\n",
       "    <tr>\n",
       "      <th>36</th>\n",
       "      <td>hipe</td>\n",
       "      <td>UV Protection, Gradient, Mirrored, Riding Glas...</td>\n",
       "      <td>₹198</td>\n",
       "      <td>80% off</td>\n",
       "    </tr>\n",
       "    <tr>\n",
       "      <th>37</th>\n",
       "      <td>hipe</td>\n",
       "      <td>Mirrored, UV Protection, Gradient Round Sungla...</td>\n",
       "      <td>₹179</td>\n",
       "      <td>88% off</td>\n",
       "    </tr>\n",
       "    <tr>\n",
       "      <th>38</th>\n",
       "      <td>SUNBEE</td>\n",
       "      <td>UV Protection, Polarized, Mirrored Wayfarer Su...</td>\n",
       "      <td>₹253</td>\n",
       "      <td>81% off</td>\n",
       "    </tr>\n",
       "    <tr>\n",
       "      <th>39</th>\n",
       "      <td>VINCENT CHASE</td>\n",
       "      <td>by Lenskart Polarized, UV Protection Wayfarer ...</td>\n",
       "      <td>₹799</td>\n",
       "      <td>68% off</td>\n",
       "    </tr>\n",
       "  </tbody>\n",
       "</table>\n",
       "</div>"
      ],
      "text/plain": [
       "           Brand Name                                Product Description  \\\n",
       "0              PIRASO              UV Protection Aviator Sunglasses (58)   \n",
       "1      kingsunglasses         UV Protection Round Sunglasses (Free Size)   \n",
       "2   SHAAH COLLECTIONS         UV Protection Round Sunglasses (Free Size)   \n",
       "3             Ray-Ban   UV Protection Rectangular Sunglasses (Free Size)   \n",
       "4           ROYAL SON            Mirrored Aviator Sunglasses (Free Size)   \n",
       "5            Fastrack  Gradient, UV Protection Wayfarer Sunglasses (F...   \n",
       "6               NuVew               UV Protection Sports Sunglasses (62)   \n",
       "7             Ray-Ban                UV Protection Round Sunglasses (50)   \n",
       "8   SHAAH COLLECTIONS  UV Protection, Polarized, Mirrored Rectangular...   \n",
       "9      ROZZETTA CRAFT  UV Protection Retro Square Sunglasses (Free Size)   \n",
       "10             SUNBEE  UV Protection, Polarized, Mirrored Retro Squar...   \n",
       "11            Ray-Ban                     Gradient Round Sunglasses (54)   \n",
       "12               SRPM      Others Wayfarer, Retro Square Sunglasses (50)   \n",
       "13     kingsunglasses   UV Protection Rectangular Sunglasses (Free Size)   \n",
       "14       Silver Kartz              UV Protection Aviator Sunglasses (88)   \n",
       "15      VINCENT CHASE  by Lenskart Polarized, UV Protection Aviator S...   \n",
       "16               SRPM  Night Vision, UV Protection Round Sunglasses (54)   \n",
       "17             PIRASO       UV Protection Aviator Sunglasses (Free Size)   \n",
       "18     kingsunglasses  Mirrored, UV Protection Wayfarer, Rectangular ...   \n",
       "19            Ray-Ban                  Polarized Aviator Sunglasses (58)   \n",
       "20               IDEE          UV Protection Rectangular Sunglasses (59)   \n",
       "21         Lee Topper  Riding Glasses, Night Vision Wrap-around Sungl...   \n",
       "22     ROZZETTA CRAFT  UV Protection, Gradient Rectangular Sunglasses...   \n",
       "23     ROZZETTA CRAFT  UV Protection, Gradient Rectangular Sunglasses...   \n",
       "24          New Specs  UV Protection, Mirrored Sports Sunglasses (Fre...   \n",
       "25         PHENOMENAL    UV Protection Clubmaster Sunglasses (Free Size)   \n",
       "26          New Specs  Mirrored, UV Protection, Riding Glasses, Other...   \n",
       "27     ROZZETTA CRAFT  UV Protection, Gradient Retro Square Sunglasse...   \n",
       "28          ROYAL SON          UV Protection Rectangular Sunglasses (58)   \n",
       "29          New Specs       UV Protection Aviator Sunglasses (Free Size)   \n",
       "30          ROYAL SON                   Mirrored Aviator Sunglasses (55)   \n",
       "31      VINCENT CHASE  by Lenskart Polarized, UV Protection Round Sun...   \n",
       "32          Elligator             UV Protection Wayfarer Sunglasses (53)   \n",
       "33         PHENOMENAL  UV Protection Retro Square Sunglasses (Free Size)   \n",
       "34     ROZZETTA CRAFT  UV Protection, Gradient Round Sunglasses (Free...   \n",
       "35              povty  UV Protection Retro Square Sunglasses (Free Size)   \n",
       "36               hipe  UV Protection, Gradient, Mirrored, Riding Glas...   \n",
       "37               hipe  Mirrored, UV Protection, Gradient Round Sungla...   \n",
       "38             SUNBEE  UV Protection, Polarized, Mirrored Wayfarer Su...   \n",
       "39      VINCENT CHASE  by Lenskart Polarized, UV Protection Wayfarer ...   \n",
       "\n",
       "     Price Discount  \n",
       "0     ₹349  87% off  \n",
       "1     ₹289  82% off  \n",
       "2     ₹284  83% off  \n",
       "3   ₹3,479  37% off  \n",
       "4     ₹379  75% off  \n",
       "5     ₹709  21% off  \n",
       "6     ₹327  74% off  \n",
       "7   ₹6,649  10% off  \n",
       "8     ₹181  82% off  \n",
       "9     ₹474  79% off  \n",
       "10    ₹230  82% off  \n",
       "11  ₹8,089  10% off  \n",
       "12    ₹178  82% off  \n",
       "13    ₹180  84% off  \n",
       "14    ₹255  79% off  \n",
       "15    ₹980  51% off  \n",
       "16    ₹199  80% off  \n",
       "17    ₹299  81% off  \n",
       "18    ₹258  87% off  \n",
       "19  ₹8,449  10% off  \n",
       "20  ₹1,009  59% off  \n",
       "21    ₹276  89% off  \n",
       "22    ₹379  81% off  \n",
       "23    ₹426  79% off  \n",
       "24    ₹155  88% off  \n",
       "25    ₹307  85% off  \n",
       "26    ₹263  81% off  \n",
       "27    ₹307  85% off  \n",
       "28    ₹474  68% off  \n",
       "29    ₹183  89% off  \n",
       "30    ₹379  75% off  \n",
       "31    ₹799  68% off  \n",
       "32    ₹176  88% off  \n",
       "33    ₹328  84% off  \n",
       "34    ₹342  83% off  \n",
       "35    ₹299  70% off  \n",
       "36    ₹198  80% off  \n",
       "37    ₹179  88% off  \n",
       "38    ₹253  81% off  \n",
       "39    ₹799  68% off  "
      ]
     },
     "execution_count": 61,
     "metadata": {},
     "output_type": "execute_result"
    }
   ],
   "source": [
    "page2data=pd.DataFrame()\n",
    "page2data['Brand Name']=brandsp2_sunglass\n",
    "page2data['Product Description']=descp2_sunglass\n",
    "page2data['Price']=price_p2\n",
    "page2data['Discount']=discount_p2\n",
    "\n",
    "page2data"
   ]
  },
  {
   "cell_type": "code",
   "execution_count": null,
   "id": "16963d94",
   "metadata": {},
   "outputs": [],
   "source": []
  },
  {
   "cell_type": "code",
   "execution_count": 62,
   "id": "e88b5294",
   "metadata": {},
   "outputs": [
    {
     "data": {
      "text/plain": [
       "<selenium.webdriver.remote.webelement.WebElement (session=\"c363c1c0f880ec3581f97b61472ac9ed\", element=\"1e69057b-3c26-457c-a50f-7f5a0e099f9a\")>"
      ]
     },
     "execution_count": 62,
     "metadata": {},
     "output_type": "execute_result"
    }
   ],
   "source": [
    "page3=driver.find_element_by_xpath('/html/body/div[1]/div/div[3]/div[1]/div[2]/div[12]/div/div/nav/a[4]')\n",
    "page3"
   ]
  },
  {
   "cell_type": "code",
   "execution_count": 63,
   "id": "546c806d",
   "metadata": {},
   "outputs": [],
   "source": [
    "page3.click()"
   ]
  },
  {
   "cell_type": "code",
   "execution_count": 64,
   "id": "f3a692f4",
   "metadata": {},
   "outputs": [
    {
     "data": {
      "text/plain": [
       "'PIRASO'"
      ]
     },
     "execution_count": 64,
     "metadata": {},
     "output_type": "execute_result"
    }
   ],
   "source": [
    "sgs_brandsp3_sing=driver.find_element_by_class_name('_2WkVRV')\n",
    "sgs_brandsp3_sing.text"
   ]
  },
  {
   "cell_type": "code",
   "execution_count": 65,
   "id": "9a8b19ce",
   "metadata": {
    "collapsed": true
   },
   "outputs": [
    {
     "data": {
      "text/plain": [
       "[<selenium.webdriver.remote.webelement.WebElement (session=\"c363c1c0f880ec3581f97b61472ac9ed\", element=\"9f5341dd-6f50-453b-b9a8-24c823b8eb26\")>,\n",
       " <selenium.webdriver.remote.webelement.WebElement (session=\"c363c1c0f880ec3581f97b61472ac9ed\", element=\"9b2838f6-3531-477c-86df-b858cc4db61a\")>,\n",
       " <selenium.webdriver.remote.webelement.WebElement (session=\"c363c1c0f880ec3581f97b61472ac9ed\", element=\"4b845d94-c381-4400-a1ae-dff788e56e74\")>,\n",
       " <selenium.webdriver.remote.webelement.WebElement (session=\"c363c1c0f880ec3581f97b61472ac9ed\", element=\"97372098-cac7-47e4-8c44-5bb61d8c2eea\")>,\n",
       " <selenium.webdriver.remote.webelement.WebElement (session=\"c363c1c0f880ec3581f97b61472ac9ed\", element=\"68f59235-8f9f-46c4-a419-bd8bb7c14fe0\")>,\n",
       " <selenium.webdriver.remote.webelement.WebElement (session=\"c363c1c0f880ec3581f97b61472ac9ed\", element=\"d0ba43a3-498b-4095-9aa6-ec2286ddef03\")>,\n",
       " <selenium.webdriver.remote.webelement.WebElement (session=\"c363c1c0f880ec3581f97b61472ac9ed\", element=\"2c8b15e6-b20b-4318-b481-0dee2ff3ba39\")>,\n",
       " <selenium.webdriver.remote.webelement.WebElement (session=\"c363c1c0f880ec3581f97b61472ac9ed\", element=\"1de135de-89f6-4d5d-83de-a9639527926a\")>,\n",
       " <selenium.webdriver.remote.webelement.WebElement (session=\"c363c1c0f880ec3581f97b61472ac9ed\", element=\"75517f77-94a5-4034-8393-8e96f2493f77\")>,\n",
       " <selenium.webdriver.remote.webelement.WebElement (session=\"c363c1c0f880ec3581f97b61472ac9ed\", element=\"3fddf332-2b51-4a14-86c2-c0cc2748422d\")>,\n",
       " <selenium.webdriver.remote.webelement.WebElement (session=\"c363c1c0f880ec3581f97b61472ac9ed\", element=\"578e2e1d-42f3-4763-8d41-78619afbe6c8\")>,\n",
       " <selenium.webdriver.remote.webelement.WebElement (session=\"c363c1c0f880ec3581f97b61472ac9ed\", element=\"a63e2d77-0fa8-4b6c-8703-96e481186fc7\")>,\n",
       " <selenium.webdriver.remote.webelement.WebElement (session=\"c363c1c0f880ec3581f97b61472ac9ed\", element=\"1acbe4e3-62c4-4885-8e37-d84f379050ed\")>,\n",
       " <selenium.webdriver.remote.webelement.WebElement (session=\"c363c1c0f880ec3581f97b61472ac9ed\", element=\"3e25d7dd-0b32-41f3-bb74-111ac987be12\")>,\n",
       " <selenium.webdriver.remote.webelement.WebElement (session=\"c363c1c0f880ec3581f97b61472ac9ed\", element=\"e5215aab-f35f-4039-81ef-32a376f8bf88\")>,\n",
       " <selenium.webdriver.remote.webelement.WebElement (session=\"c363c1c0f880ec3581f97b61472ac9ed\", element=\"b4b49f7c-841b-44d9-a1e9-2326d1b0d964\")>,\n",
       " <selenium.webdriver.remote.webelement.WebElement (session=\"c363c1c0f880ec3581f97b61472ac9ed\", element=\"edbf65c4-c985-4489-a2e3-d04d8554d6be\")>,\n",
       " <selenium.webdriver.remote.webelement.WebElement (session=\"c363c1c0f880ec3581f97b61472ac9ed\", element=\"e7af182f-c329-47b2-bcfb-0f57a0af80e0\")>,\n",
       " <selenium.webdriver.remote.webelement.WebElement (session=\"c363c1c0f880ec3581f97b61472ac9ed\", element=\"0a1118ed-5173-4e55-8b30-3a835f5f2f43\")>,\n",
       " <selenium.webdriver.remote.webelement.WebElement (session=\"c363c1c0f880ec3581f97b61472ac9ed\", element=\"650ed709-d4c1-40f3-836d-b0043baac76d\")>,\n",
       " <selenium.webdriver.remote.webelement.WebElement (session=\"c363c1c0f880ec3581f97b61472ac9ed\", element=\"1b02086e-429d-458d-a4ea-1cf4f477db3d\")>,\n",
       " <selenium.webdriver.remote.webelement.WebElement (session=\"c363c1c0f880ec3581f97b61472ac9ed\", element=\"baa43cf1-463a-486b-a706-7c60582a9d8c\")>,\n",
       " <selenium.webdriver.remote.webelement.WebElement (session=\"c363c1c0f880ec3581f97b61472ac9ed\", element=\"db25db33-1f2b-4161-ae74-1bbcf5ec89c0\")>,\n",
       " <selenium.webdriver.remote.webelement.WebElement (session=\"c363c1c0f880ec3581f97b61472ac9ed\", element=\"a98fa9ed-5a33-4642-9066-935ec25713df\")>,\n",
       " <selenium.webdriver.remote.webelement.WebElement (session=\"c363c1c0f880ec3581f97b61472ac9ed\", element=\"7d15a06b-468f-48d0-b1ab-6c7a372e842e\")>,\n",
       " <selenium.webdriver.remote.webelement.WebElement (session=\"c363c1c0f880ec3581f97b61472ac9ed\", element=\"1dddc750-f30e-49f3-8002-b904e937a0af\")>,\n",
       " <selenium.webdriver.remote.webelement.WebElement (session=\"c363c1c0f880ec3581f97b61472ac9ed\", element=\"97c1e039-9d70-4551-b10e-ce50d230c1fc\")>,\n",
       " <selenium.webdriver.remote.webelement.WebElement (session=\"c363c1c0f880ec3581f97b61472ac9ed\", element=\"e28c902f-21bf-4e65-bab1-9bccb1ace67d\")>,\n",
       " <selenium.webdriver.remote.webelement.WebElement (session=\"c363c1c0f880ec3581f97b61472ac9ed\", element=\"f790f738-14d9-4580-93e0-bacae19cc3fc\")>,\n",
       " <selenium.webdriver.remote.webelement.WebElement (session=\"c363c1c0f880ec3581f97b61472ac9ed\", element=\"22f0b541-2224-464d-a854-07c4d89c3709\")>,\n",
       " <selenium.webdriver.remote.webelement.WebElement (session=\"c363c1c0f880ec3581f97b61472ac9ed\", element=\"ff16a8b0-ff3e-4f15-adf4-b16c9cd9df5e\")>,\n",
       " <selenium.webdriver.remote.webelement.WebElement (session=\"c363c1c0f880ec3581f97b61472ac9ed\", element=\"cf49cfae-b1b3-4083-85cb-634288d22e09\")>,\n",
       " <selenium.webdriver.remote.webelement.WebElement (session=\"c363c1c0f880ec3581f97b61472ac9ed\", element=\"8bb53bd6-1879-4c82-b864-7723eb2262ef\")>,\n",
       " <selenium.webdriver.remote.webelement.WebElement (session=\"c363c1c0f880ec3581f97b61472ac9ed\", element=\"3591cc23-662d-4c0f-a533-ebe96d7244c7\")>,\n",
       " <selenium.webdriver.remote.webelement.WebElement (session=\"c363c1c0f880ec3581f97b61472ac9ed\", element=\"1c85f5f0-a9c3-48eb-835b-ee6eb4f9dfa5\")>,\n",
       " <selenium.webdriver.remote.webelement.WebElement (session=\"c363c1c0f880ec3581f97b61472ac9ed\", element=\"b527df53-f878-46ce-8154-bb4b0f5c4085\")>,\n",
       " <selenium.webdriver.remote.webelement.WebElement (session=\"c363c1c0f880ec3581f97b61472ac9ed\", element=\"ec7fb10f-72f7-4e58-8c7e-6d84f9172d83\")>,\n",
       " <selenium.webdriver.remote.webelement.WebElement (session=\"c363c1c0f880ec3581f97b61472ac9ed\", element=\"084a332f-7ee5-49f9-b843-520a3491865f\")>,\n",
       " <selenium.webdriver.remote.webelement.WebElement (session=\"c363c1c0f880ec3581f97b61472ac9ed\", element=\"7463b074-1bae-4dc8-856f-32872731e49c\")>,\n",
       " <selenium.webdriver.remote.webelement.WebElement (session=\"c363c1c0f880ec3581f97b61472ac9ed\", element=\"121c2b7b-6050-466d-8079-a210ab8cbfa6\")>]"
      ]
     },
     "execution_count": 65,
     "metadata": {},
     "output_type": "execute_result"
    }
   ],
   "source": [
    "sgs_brandsp3=driver.find_elements_by_class_name('_2WkVRV')\n",
    "sgs_brandsp3"
   ]
  },
  {
   "cell_type": "code",
   "execution_count": 71,
   "id": "ee82ac4f",
   "metadata": {},
   "outputs": [
    {
     "data": {
      "text/plain": [
       "40"
      ]
     },
     "execution_count": 71,
     "metadata": {},
     "output_type": "execute_result"
    }
   ],
   "source": [
    "len(sgs_brandsp3)"
   ]
  },
  {
   "cell_type": "code",
   "execution_count": 85,
   "id": "6d39506d",
   "metadata": {},
   "outputs": [],
   "source": [
    "brandsp3=[]\n",
    "\n",
    "for i in sgs_brandsp3:\n",
    "    brandsp3.append(i.text)\n",
    "    \n",
    "brands_p3=brandsp3[0:20]"
   ]
  },
  {
   "cell_type": "code",
   "execution_count": null,
   "id": "df3de366",
   "metadata": {},
   "outputs": [],
   "source": []
  },
  {
   "cell_type": "code",
   "execution_count": null,
   "id": "c83702d6",
   "metadata": {},
   "outputs": [],
   "source": []
  },
  {
   "cell_type": "code",
   "execution_count": 67,
   "id": "a0cf6847",
   "metadata": {},
   "outputs": [
    {
     "data": {
      "text/plain": [
       "'Mirrored Aviator Sunglasses (32)'"
      ]
     },
     "execution_count": 67,
     "metadata": {},
     "output_type": "execute_result"
    }
   ],
   "source": [
    "sgs_descriptionp3_sing=driver.find_element_by_class_name('IRpwTa')\n",
    "sgs_descriptionp3_sing.text"
   ]
  },
  {
   "cell_type": "code",
   "execution_count": 68,
   "id": "d0ba9739",
   "metadata": {
    "collapsed": true
   },
   "outputs": [
    {
     "data": {
      "text/plain": [
       "[<selenium.webdriver.remote.webelement.WebElement (session=\"c363c1c0f880ec3581f97b61472ac9ed\", element=\"add7cf13-5cda-4839-bb5a-d65563def214\")>,\n",
       " <selenium.webdriver.remote.webelement.WebElement (session=\"c363c1c0f880ec3581f97b61472ac9ed\", element=\"64dc752e-2c87-4073-9c47-be3cdae2491e\")>,\n",
       " <selenium.webdriver.remote.webelement.WebElement (session=\"c363c1c0f880ec3581f97b61472ac9ed\", element=\"e0f8f3e8-cf02-45f7-a05d-2632eb314c55\")>,\n",
       " <selenium.webdriver.remote.webelement.WebElement (session=\"c363c1c0f880ec3581f97b61472ac9ed\", element=\"4af05248-40bd-44a3-a3a6-832f4f6e74b6\")>,\n",
       " <selenium.webdriver.remote.webelement.WebElement (session=\"c363c1c0f880ec3581f97b61472ac9ed\", element=\"9382072d-a2a8-4bf1-8ea0-200f748b55c8\")>,\n",
       " <selenium.webdriver.remote.webelement.WebElement (session=\"c363c1c0f880ec3581f97b61472ac9ed\", element=\"3ae6d79d-2534-48ae-9dd2-1a4f3c8ae811\")>,\n",
       " <selenium.webdriver.remote.webelement.WebElement (session=\"c363c1c0f880ec3581f97b61472ac9ed\", element=\"ccc9b33c-f824-4bc1-8d1b-603d422deb40\")>,\n",
       " <selenium.webdriver.remote.webelement.WebElement (session=\"c363c1c0f880ec3581f97b61472ac9ed\", element=\"679f771c-ecf3-4d33-9681-346066ff41c8\")>,\n",
       " <selenium.webdriver.remote.webelement.WebElement (session=\"c363c1c0f880ec3581f97b61472ac9ed\", element=\"e1f50324-6214-4b19-a4b4-e021ed6112e2\")>,\n",
       " <selenium.webdriver.remote.webelement.WebElement (session=\"c363c1c0f880ec3581f97b61472ac9ed\", element=\"14564bd3-de18-49a9-9f9c-ec8ce47169f4\")>,\n",
       " <selenium.webdriver.remote.webelement.WebElement (session=\"c363c1c0f880ec3581f97b61472ac9ed\", element=\"43dfc8b7-412c-44b0-9912-1b8bae40d32d\")>,\n",
       " <selenium.webdriver.remote.webelement.WebElement (session=\"c363c1c0f880ec3581f97b61472ac9ed\", element=\"a2da173d-0203-4112-a9af-2e3188982d02\")>,\n",
       " <selenium.webdriver.remote.webelement.WebElement (session=\"c363c1c0f880ec3581f97b61472ac9ed\", element=\"d75e4ce7-081f-41de-a202-962a72c34a16\")>,\n",
       " <selenium.webdriver.remote.webelement.WebElement (session=\"c363c1c0f880ec3581f97b61472ac9ed\", element=\"830c049f-dfe9-4137-ab57-76d833684696\")>,\n",
       " <selenium.webdriver.remote.webelement.WebElement (session=\"c363c1c0f880ec3581f97b61472ac9ed\", element=\"7bc0bd56-7683-486a-a2ea-9e9c6773d527\")>,\n",
       " <selenium.webdriver.remote.webelement.WebElement (session=\"c363c1c0f880ec3581f97b61472ac9ed\", element=\"1902c7bd-ccd3-4e87-9008-95b4a015230f\")>,\n",
       " <selenium.webdriver.remote.webelement.WebElement (session=\"c363c1c0f880ec3581f97b61472ac9ed\", element=\"ce965fa0-ce5e-4d61-9390-9a0d1bc2aee2\")>,\n",
       " <selenium.webdriver.remote.webelement.WebElement (session=\"c363c1c0f880ec3581f97b61472ac9ed\", element=\"ea01d0c1-583c-4128-bfd2-52fe1e254c7c\")>,\n",
       " <selenium.webdriver.remote.webelement.WebElement (session=\"c363c1c0f880ec3581f97b61472ac9ed\", element=\"69048941-eb2f-41b3-ace2-4acaf68a56a0\")>,\n",
       " <selenium.webdriver.remote.webelement.WebElement (session=\"c363c1c0f880ec3581f97b61472ac9ed\", element=\"a9d2b18f-b86f-41f7-9193-c8c63b54e8e9\")>,\n",
       " <selenium.webdriver.remote.webelement.WebElement (session=\"c363c1c0f880ec3581f97b61472ac9ed\", element=\"dfa928cb-90e8-4d74-afaf-e8b32f97743e\")>,\n",
       " <selenium.webdriver.remote.webelement.WebElement (session=\"c363c1c0f880ec3581f97b61472ac9ed\", element=\"cfbe2460-407d-451e-8e4f-6052b999248d\")>,\n",
       " <selenium.webdriver.remote.webelement.WebElement (session=\"c363c1c0f880ec3581f97b61472ac9ed\", element=\"03171a26-8b42-4739-9af7-c7c5f633f69c\")>,\n",
       " <selenium.webdriver.remote.webelement.WebElement (session=\"c363c1c0f880ec3581f97b61472ac9ed\", element=\"814d4429-9e36-4345-9aec-b4d6552a9dc1\")>,\n",
       " <selenium.webdriver.remote.webelement.WebElement (session=\"c363c1c0f880ec3581f97b61472ac9ed\", element=\"0c751764-95cb-4b37-bf9f-ad43bd4342c3\")>,\n",
       " <selenium.webdriver.remote.webelement.WebElement (session=\"c363c1c0f880ec3581f97b61472ac9ed\", element=\"df6f3e31-0f47-439b-839e-5dfe02da2710\")>,\n",
       " <selenium.webdriver.remote.webelement.WebElement (session=\"c363c1c0f880ec3581f97b61472ac9ed\", element=\"8f65707c-5453-4f17-b1af-1b2ddb46dfab\")>,\n",
       " <selenium.webdriver.remote.webelement.WebElement (session=\"c363c1c0f880ec3581f97b61472ac9ed\", element=\"c1a72e3d-7a10-4415-86e6-40b6e2ddc1e4\")>,\n",
       " <selenium.webdriver.remote.webelement.WebElement (session=\"c363c1c0f880ec3581f97b61472ac9ed\", element=\"53b98026-3c95-4306-9bc9-643ca12431a3\")>,\n",
       " <selenium.webdriver.remote.webelement.WebElement (session=\"c363c1c0f880ec3581f97b61472ac9ed\", element=\"26a5c38e-d357-4c73-bb7e-fd00751037f2\")>,\n",
       " <selenium.webdriver.remote.webelement.WebElement (session=\"c363c1c0f880ec3581f97b61472ac9ed\", element=\"c2dda183-2edc-4b9e-9cc7-b775832a823e\")>,\n",
       " <selenium.webdriver.remote.webelement.WebElement (session=\"c363c1c0f880ec3581f97b61472ac9ed\", element=\"777f5c2c-2e7c-4dc7-b602-6f4da877b58c\")>,\n",
       " <selenium.webdriver.remote.webelement.WebElement (session=\"c363c1c0f880ec3581f97b61472ac9ed\", element=\"4d733a2e-1048-4685-af7f-693ab2fc9075\")>,\n",
       " <selenium.webdriver.remote.webelement.WebElement (session=\"c363c1c0f880ec3581f97b61472ac9ed\", element=\"0a5458f4-d223-4c36-9972-eb9b7843c736\")>,\n",
       " <selenium.webdriver.remote.webelement.WebElement (session=\"c363c1c0f880ec3581f97b61472ac9ed\", element=\"5e6b2132-58fb-4ad4-8d84-1af6ecf663b9\")>,\n",
       " <selenium.webdriver.remote.webelement.WebElement (session=\"c363c1c0f880ec3581f97b61472ac9ed\", element=\"ac99c727-a186-4a5e-988e-9332a139c3c9\")>,\n",
       " <selenium.webdriver.remote.webelement.WebElement (session=\"c363c1c0f880ec3581f97b61472ac9ed\", element=\"0fecdf17-2cbe-40f0-986e-2e2eb28bec01\")>,\n",
       " <selenium.webdriver.remote.webelement.WebElement (session=\"c363c1c0f880ec3581f97b61472ac9ed\", element=\"20404547-4951-445d-b529-9ed958da2d36\")>,\n",
       " <selenium.webdriver.remote.webelement.WebElement (session=\"c363c1c0f880ec3581f97b61472ac9ed\", element=\"14156602-be24-46d0-b0c2-726b79888302\")>,\n",
       " <selenium.webdriver.remote.webelement.WebElement (session=\"c363c1c0f880ec3581f97b61472ac9ed\", element=\"61a55f4d-d6b1-4239-9f36-4c1f00530b73\")>]"
      ]
     },
     "execution_count": 68,
     "metadata": {},
     "output_type": "execute_result"
    }
   ],
   "source": [
    "sgs_descriptionp3=driver.find_elements_by_class_name('IRpwTa')\n",
    "sgs_descriptionp3"
   ]
  },
  {
   "cell_type": "code",
   "execution_count": 73,
   "id": "ea9fa9a0",
   "metadata": {},
   "outputs": [
    {
     "data": {
      "text/plain": [
       "40"
      ]
     },
     "execution_count": 73,
     "metadata": {},
     "output_type": "execute_result"
    }
   ],
   "source": [
    "len(sgs_descriptionp3)"
   ]
  },
  {
   "cell_type": "code",
   "execution_count": 86,
   "id": "4397f042",
   "metadata": {},
   "outputs": [],
   "source": [
    "descp3=[]\n",
    "\n",
    "for i in sgs_descriptionp3:\n",
    "    descp3.append(i.text)\n",
    "    \n",
    "desc_p3=descp3[0:20]"
   ]
  },
  {
   "cell_type": "code",
   "execution_count": null,
   "id": "8a5280b7",
   "metadata": {},
   "outputs": [],
   "source": []
  },
  {
   "cell_type": "code",
   "execution_count": null,
   "id": "ada3b789",
   "metadata": {},
   "outputs": [],
   "source": []
  },
  {
   "cell_type": "code",
   "execution_count": null,
   "id": "e0f967e5",
   "metadata": {},
   "outputs": [],
   "source": []
  },
  {
   "cell_type": "code",
   "execution_count": 69,
   "id": "1fde3c41",
   "metadata": {},
   "outputs": [
    {
     "data": {
      "text/plain": [
       "'₹199'"
      ]
     },
     "execution_count": 69,
     "metadata": {},
     "output_type": "execute_result"
    }
   ],
   "source": [
    "sgs_pricep3_sing=driver.find_element_by_class_name('_30jeq3')\n",
    "sgs_pricep3_sing.text"
   ]
  },
  {
   "cell_type": "code",
   "execution_count": 70,
   "id": "109ebff9",
   "metadata": {
    "collapsed": true
   },
   "outputs": [
    {
     "data": {
      "text/plain": [
       "[<selenium.webdriver.remote.webelement.WebElement (session=\"c363c1c0f880ec3581f97b61472ac9ed\", element=\"d869b870-3500-4d63-a349-6c55950c49e8\")>,\n",
       " <selenium.webdriver.remote.webelement.WebElement (session=\"c363c1c0f880ec3581f97b61472ac9ed\", element=\"6c42902d-2198-4f66-b506-ff5ff0858ac6\")>,\n",
       " <selenium.webdriver.remote.webelement.WebElement (session=\"c363c1c0f880ec3581f97b61472ac9ed\", element=\"bf5dfc99-b70a-4f90-a0fd-c6e8e5b8f738\")>,\n",
       " <selenium.webdriver.remote.webelement.WebElement (session=\"c363c1c0f880ec3581f97b61472ac9ed\", element=\"a8fc33cf-538a-4673-bb45-20869aba0a35\")>,\n",
       " <selenium.webdriver.remote.webelement.WebElement (session=\"c363c1c0f880ec3581f97b61472ac9ed\", element=\"60e274c8-e5ba-4b0d-bc2f-9cf3db35cb38\")>,\n",
       " <selenium.webdriver.remote.webelement.WebElement (session=\"c363c1c0f880ec3581f97b61472ac9ed\", element=\"acb61553-d661-41b4-84f3-1bd2a35d10e6\")>,\n",
       " <selenium.webdriver.remote.webelement.WebElement (session=\"c363c1c0f880ec3581f97b61472ac9ed\", element=\"ae38dd70-1845-4c0e-ab5f-5d8c9361a20f\")>,\n",
       " <selenium.webdriver.remote.webelement.WebElement (session=\"c363c1c0f880ec3581f97b61472ac9ed\", element=\"dff2f766-ad5d-45f8-b063-ff65dcaa0c62\")>,\n",
       " <selenium.webdriver.remote.webelement.WebElement (session=\"c363c1c0f880ec3581f97b61472ac9ed\", element=\"1de6093c-b180-4c12-8700-16df46842480\")>,\n",
       " <selenium.webdriver.remote.webelement.WebElement (session=\"c363c1c0f880ec3581f97b61472ac9ed\", element=\"887b6c09-bf16-4ae4-adcb-538173d031b6\")>,\n",
       " <selenium.webdriver.remote.webelement.WebElement (session=\"c363c1c0f880ec3581f97b61472ac9ed\", element=\"003f761e-1b81-4fbc-bffc-6b92894567d7\")>,\n",
       " <selenium.webdriver.remote.webelement.WebElement (session=\"c363c1c0f880ec3581f97b61472ac9ed\", element=\"4cd8c6dd-87ec-4a45-afad-e93af625b4b2\")>,\n",
       " <selenium.webdriver.remote.webelement.WebElement (session=\"c363c1c0f880ec3581f97b61472ac9ed\", element=\"f480da71-c0f5-4cf7-933c-3e59bc8a62e0\")>,\n",
       " <selenium.webdriver.remote.webelement.WebElement (session=\"c363c1c0f880ec3581f97b61472ac9ed\", element=\"ac6e23cb-0568-4d80-a104-4e2b127dc5f5\")>,\n",
       " <selenium.webdriver.remote.webelement.WebElement (session=\"c363c1c0f880ec3581f97b61472ac9ed\", element=\"404ea0d6-46ce-452e-b6f3-068c66ca5485\")>,\n",
       " <selenium.webdriver.remote.webelement.WebElement (session=\"c363c1c0f880ec3581f97b61472ac9ed\", element=\"725a63cf-d4c4-4433-b383-c42378e9be12\")>,\n",
       " <selenium.webdriver.remote.webelement.WebElement (session=\"c363c1c0f880ec3581f97b61472ac9ed\", element=\"cb83fffc-0c34-48d8-8fcb-8f1d00f5230e\")>,\n",
       " <selenium.webdriver.remote.webelement.WebElement (session=\"c363c1c0f880ec3581f97b61472ac9ed\", element=\"c5fed758-4d6d-44a0-8e5f-e8f44a5afaba\")>,\n",
       " <selenium.webdriver.remote.webelement.WebElement (session=\"c363c1c0f880ec3581f97b61472ac9ed\", element=\"26d8625f-1d9a-4a27-9198-72370a8f46d7\")>,\n",
       " <selenium.webdriver.remote.webelement.WebElement (session=\"c363c1c0f880ec3581f97b61472ac9ed\", element=\"49e4c0d2-a96d-43b0-8a03-17bfae2a8b27\")>,\n",
       " <selenium.webdriver.remote.webelement.WebElement (session=\"c363c1c0f880ec3581f97b61472ac9ed\", element=\"a8bd0ee4-2a08-421b-a8db-7d71621e2ec4\")>,\n",
       " <selenium.webdriver.remote.webelement.WebElement (session=\"c363c1c0f880ec3581f97b61472ac9ed\", element=\"c56be6f8-e580-4f60-b275-b7745735fb2f\")>,\n",
       " <selenium.webdriver.remote.webelement.WebElement (session=\"c363c1c0f880ec3581f97b61472ac9ed\", element=\"15cbdcc7-1635-4171-b7b2-cd93abe69fbc\")>,\n",
       " <selenium.webdriver.remote.webelement.WebElement (session=\"c363c1c0f880ec3581f97b61472ac9ed\", element=\"c168b276-648e-4aae-8ebe-b32afd3537e8\")>,\n",
       " <selenium.webdriver.remote.webelement.WebElement (session=\"c363c1c0f880ec3581f97b61472ac9ed\", element=\"8b5f1174-2f80-4466-8754-3e48f7de395b\")>,\n",
       " <selenium.webdriver.remote.webelement.WebElement (session=\"c363c1c0f880ec3581f97b61472ac9ed\", element=\"5b1c4724-198e-4a1e-be53-7efbddb65c67\")>,\n",
       " <selenium.webdriver.remote.webelement.WebElement (session=\"c363c1c0f880ec3581f97b61472ac9ed\", element=\"e29450c4-c6c0-4a12-b0dc-e9e2e6ebff41\")>,\n",
       " <selenium.webdriver.remote.webelement.WebElement (session=\"c363c1c0f880ec3581f97b61472ac9ed\", element=\"68e4c8c2-6c65-450e-b59c-973dda3bc9c2\")>,\n",
       " <selenium.webdriver.remote.webelement.WebElement (session=\"c363c1c0f880ec3581f97b61472ac9ed\", element=\"3b2e57e1-0541-4587-8c3b-863d801a02fb\")>,\n",
       " <selenium.webdriver.remote.webelement.WebElement (session=\"c363c1c0f880ec3581f97b61472ac9ed\", element=\"94ab4f24-8612-4cde-8cdd-db61abfdd9f2\")>,\n",
       " <selenium.webdriver.remote.webelement.WebElement (session=\"c363c1c0f880ec3581f97b61472ac9ed\", element=\"8ec925c3-c92b-4b2f-8487-0fbf97d715b9\")>,\n",
       " <selenium.webdriver.remote.webelement.WebElement (session=\"c363c1c0f880ec3581f97b61472ac9ed\", element=\"becadcac-82e6-49a2-af92-d62c5af8a82f\")>,\n",
       " <selenium.webdriver.remote.webelement.WebElement (session=\"c363c1c0f880ec3581f97b61472ac9ed\", element=\"a3670435-d48b-4ac8-9e27-6916a97c39ab\")>,\n",
       " <selenium.webdriver.remote.webelement.WebElement (session=\"c363c1c0f880ec3581f97b61472ac9ed\", element=\"51ad7878-c514-49c1-88fe-9eb0c54ac1e1\")>,\n",
       " <selenium.webdriver.remote.webelement.WebElement (session=\"c363c1c0f880ec3581f97b61472ac9ed\", element=\"22c2b441-5345-44e7-8067-8c95dc2f65ac\")>,\n",
       " <selenium.webdriver.remote.webelement.WebElement (session=\"c363c1c0f880ec3581f97b61472ac9ed\", element=\"9bc0d575-c191-4c94-8eb9-b6aa63779095\")>,\n",
       " <selenium.webdriver.remote.webelement.WebElement (session=\"c363c1c0f880ec3581f97b61472ac9ed\", element=\"74512ea9-20fe-4384-aa1d-a12acc0bf788\")>,\n",
       " <selenium.webdriver.remote.webelement.WebElement (session=\"c363c1c0f880ec3581f97b61472ac9ed\", element=\"cdbfdec8-612d-49b2-afcf-b24325ccb65f\")>,\n",
       " <selenium.webdriver.remote.webelement.WebElement (session=\"c363c1c0f880ec3581f97b61472ac9ed\", element=\"d0d2bd94-ba75-46dd-81f9-5d01be2c411b\")>,\n",
       " <selenium.webdriver.remote.webelement.WebElement (session=\"c363c1c0f880ec3581f97b61472ac9ed\", element=\"aa6a9c65-5608-4bf7-8ff7-6a89d3646f62\")>,\n",
       " <selenium.webdriver.remote.webelement.WebElement (session=\"c363c1c0f880ec3581f97b61472ac9ed\", element=\"8290e4d0-938f-4c92-82b7-1f91be85e3db\")>,\n",
       " <selenium.webdriver.remote.webelement.WebElement (session=\"c363c1c0f880ec3581f97b61472ac9ed\", element=\"cc6b3380-afc4-45ba-88bc-ab8a83bcf46d\")>,\n",
       " <selenium.webdriver.remote.webelement.WebElement (session=\"c363c1c0f880ec3581f97b61472ac9ed\", element=\"584bee57-2a1f-487a-9537-5e66140ee195\")>,\n",
       " <selenium.webdriver.remote.webelement.WebElement (session=\"c363c1c0f880ec3581f97b61472ac9ed\", element=\"9a8723e5-7f72-4d18-b45d-3c4104ce638c\")>,\n",
       " <selenium.webdriver.remote.webelement.WebElement (session=\"c363c1c0f880ec3581f97b61472ac9ed\", element=\"761f3d70-5406-4cbf-a120-3202b7e01782\")>]"
      ]
     },
     "execution_count": 70,
     "metadata": {},
     "output_type": "execute_result"
    }
   ],
   "source": [
    "sgs_pricep3=driver.find_elements_by_class_name('_30jeq3')\n",
    "sgs_pricep3"
   ]
  },
  {
   "cell_type": "code",
   "execution_count": 76,
   "id": "0f28bfaf",
   "metadata": {},
   "outputs": [
    {
     "data": {
      "text/plain": [
       "45"
      ]
     },
     "execution_count": 76,
     "metadata": {},
     "output_type": "execute_result"
    }
   ],
   "source": [
    "len(sgs_pricep3)"
   ]
  },
  {
   "cell_type": "code",
   "execution_count": 87,
   "id": "d667bb7d",
   "metadata": {},
   "outputs": [],
   "source": [
    "pricep3=[]\n",
    "\n",
    "for i in sgs_pricep3:\n",
    "    pricep3.append(i.text)\n",
    "    \n",
    "price_p3=pricep3[0:20]"
   ]
  },
  {
   "cell_type": "code",
   "execution_count": null,
   "id": "38cb2b8c",
   "metadata": {},
   "outputs": [],
   "source": []
  },
  {
   "cell_type": "code",
   "execution_count": 77,
   "id": "2173f664",
   "metadata": {},
   "outputs": [
    {
     "data": {
      "text/plain": [
       "'88% off'"
      ]
     },
     "execution_count": 77,
     "metadata": {},
     "output_type": "execute_result"
    }
   ],
   "source": [
    "sgs_discountp3_sing=driver.find_element_by_class_name('_3Ay6Sb')\n",
    "sgs_discountp3_sing.text"
   ]
  },
  {
   "cell_type": "code",
   "execution_count": 78,
   "id": "1b46799c",
   "metadata": {
    "collapsed": true
   },
   "outputs": [
    {
     "data": {
      "text/plain": [
       "[<selenium.webdriver.remote.webelement.WebElement (session=\"c363c1c0f880ec3581f97b61472ac9ed\", element=\"d6f735f2-c33e-4f32-a84a-4223d1fad72f\")>,\n",
       " <selenium.webdriver.remote.webelement.WebElement (session=\"c363c1c0f880ec3581f97b61472ac9ed\", element=\"d2e521ef-e461-45e9-92ec-cf26b13460f2\")>,\n",
       " <selenium.webdriver.remote.webelement.WebElement (session=\"c363c1c0f880ec3581f97b61472ac9ed\", element=\"1353887e-254d-4166-919d-995b4590cf8b\")>,\n",
       " <selenium.webdriver.remote.webelement.WebElement (session=\"c363c1c0f880ec3581f97b61472ac9ed\", element=\"dd674b44-4b2c-45f2-8535-010a047e5029\")>,\n",
       " <selenium.webdriver.remote.webelement.WebElement (session=\"c363c1c0f880ec3581f97b61472ac9ed\", element=\"23fb74f1-27d9-41bc-a913-c5326ff9fa17\")>,\n",
       " <selenium.webdriver.remote.webelement.WebElement (session=\"c363c1c0f880ec3581f97b61472ac9ed\", element=\"26a0a52e-bb3c-4eaf-8eb8-1899c1951eae\")>,\n",
       " <selenium.webdriver.remote.webelement.WebElement (session=\"c363c1c0f880ec3581f97b61472ac9ed\", element=\"7e250f6a-6967-4726-a2d8-121f7eadddaa\")>,\n",
       " <selenium.webdriver.remote.webelement.WebElement (session=\"c363c1c0f880ec3581f97b61472ac9ed\", element=\"06ad28d1-b6a0-47ed-9781-696bddaab608\")>,\n",
       " <selenium.webdriver.remote.webelement.WebElement (session=\"c363c1c0f880ec3581f97b61472ac9ed\", element=\"b95b9c16-e48d-4a61-9511-2baa3763b0c8\")>,\n",
       " <selenium.webdriver.remote.webelement.WebElement (session=\"c363c1c0f880ec3581f97b61472ac9ed\", element=\"b1ae2fc4-b1d1-44f4-9e2f-12304fa9ddc9\")>,\n",
       " <selenium.webdriver.remote.webelement.WebElement (session=\"c363c1c0f880ec3581f97b61472ac9ed\", element=\"4622fac5-693d-4f68-ac92-acfcdaab5648\")>,\n",
       " <selenium.webdriver.remote.webelement.WebElement (session=\"c363c1c0f880ec3581f97b61472ac9ed\", element=\"6458d8f9-d695-4267-b35e-3f1fd2ae3699\")>,\n",
       " <selenium.webdriver.remote.webelement.WebElement (session=\"c363c1c0f880ec3581f97b61472ac9ed\", element=\"1138c797-912b-4b53-8252-05c8b83a9a94\")>,\n",
       " <selenium.webdriver.remote.webelement.WebElement (session=\"c363c1c0f880ec3581f97b61472ac9ed\", element=\"9a5236e6-9a7a-4c09-b301-462bffd14a8d\")>,\n",
       " <selenium.webdriver.remote.webelement.WebElement (session=\"c363c1c0f880ec3581f97b61472ac9ed\", element=\"b3f4e643-2ce3-4646-8838-46d98545a868\")>,\n",
       " <selenium.webdriver.remote.webelement.WebElement (session=\"c363c1c0f880ec3581f97b61472ac9ed\", element=\"14150bc2-8dae-464f-b52c-f5361fe369ac\")>,\n",
       " <selenium.webdriver.remote.webelement.WebElement (session=\"c363c1c0f880ec3581f97b61472ac9ed\", element=\"4c75ea7d-3e15-4974-8354-34477ca53aa7\")>,\n",
       " <selenium.webdriver.remote.webelement.WebElement (session=\"c363c1c0f880ec3581f97b61472ac9ed\", element=\"243ade91-5bee-4fc5-834d-b510f47d5aba\")>,\n",
       " <selenium.webdriver.remote.webelement.WebElement (session=\"c363c1c0f880ec3581f97b61472ac9ed\", element=\"2c297095-bfda-4f14-ac0c-965cac17a54d\")>,\n",
       " <selenium.webdriver.remote.webelement.WebElement (session=\"c363c1c0f880ec3581f97b61472ac9ed\", element=\"b9f70963-f9fb-475b-918f-1286760cf068\")>,\n",
       " <selenium.webdriver.remote.webelement.WebElement (session=\"c363c1c0f880ec3581f97b61472ac9ed\", element=\"0bdba2dd-7327-4507-8316-b0315d4f822b\")>,\n",
       " <selenium.webdriver.remote.webelement.WebElement (session=\"c363c1c0f880ec3581f97b61472ac9ed\", element=\"88e75e75-475f-4f15-8358-b2143bc5b6f6\")>,\n",
       " <selenium.webdriver.remote.webelement.WebElement (session=\"c363c1c0f880ec3581f97b61472ac9ed\", element=\"ed7be815-b863-4978-8962-d8f8f2d8020d\")>,\n",
       " <selenium.webdriver.remote.webelement.WebElement (session=\"c363c1c0f880ec3581f97b61472ac9ed\", element=\"1ab11329-3bc0-4839-a9d2-a2c31bbbe6e0\")>,\n",
       " <selenium.webdriver.remote.webelement.WebElement (session=\"c363c1c0f880ec3581f97b61472ac9ed\", element=\"be246349-f2f5-4e22-b665-d47977b2a30d\")>,\n",
       " <selenium.webdriver.remote.webelement.WebElement (session=\"c363c1c0f880ec3581f97b61472ac9ed\", element=\"353456b9-20d9-4f00-bb53-49424f6131b3\")>,\n",
       " <selenium.webdriver.remote.webelement.WebElement (session=\"c363c1c0f880ec3581f97b61472ac9ed\", element=\"34bf5ae4-6133-4ae0-b504-0e9e3c824840\")>,\n",
       " <selenium.webdriver.remote.webelement.WebElement (session=\"c363c1c0f880ec3581f97b61472ac9ed\", element=\"8985f315-1df8-432c-bedd-7104672ce091\")>,\n",
       " <selenium.webdriver.remote.webelement.WebElement (session=\"c363c1c0f880ec3581f97b61472ac9ed\", element=\"85eac78a-7736-4e0c-b38a-c4e8c905a1c4\")>,\n",
       " <selenium.webdriver.remote.webelement.WebElement (session=\"c363c1c0f880ec3581f97b61472ac9ed\", element=\"9ab13e05-7177-4a0e-aabe-828968a7c78b\")>,\n",
       " <selenium.webdriver.remote.webelement.WebElement (session=\"c363c1c0f880ec3581f97b61472ac9ed\", element=\"9181eb46-b413-4182-bcb2-eece6c6d3292\")>,\n",
       " <selenium.webdriver.remote.webelement.WebElement (session=\"c363c1c0f880ec3581f97b61472ac9ed\", element=\"622f8336-a065-43ff-a07c-93381f3f541b\")>,\n",
       " <selenium.webdriver.remote.webelement.WebElement (session=\"c363c1c0f880ec3581f97b61472ac9ed\", element=\"c0e4dfb9-facc-4681-baf2-8974cbbe25d8\")>,\n",
       " <selenium.webdriver.remote.webelement.WebElement (session=\"c363c1c0f880ec3581f97b61472ac9ed\", element=\"6a2c8d05-19e3-4118-9485-bab227cf21d8\")>,\n",
       " <selenium.webdriver.remote.webelement.WebElement (session=\"c363c1c0f880ec3581f97b61472ac9ed\", element=\"608c04ee-5d5b-49b6-b0ad-78f19fda7343\")>,\n",
       " <selenium.webdriver.remote.webelement.WebElement (session=\"c363c1c0f880ec3581f97b61472ac9ed\", element=\"3bd8cfd1-0e0d-4d9e-8346-a978d26ff96f\")>,\n",
       " <selenium.webdriver.remote.webelement.WebElement (session=\"c363c1c0f880ec3581f97b61472ac9ed\", element=\"c4bd3c0b-af4c-4455-9bef-68950e8809e9\")>,\n",
       " <selenium.webdriver.remote.webelement.WebElement (session=\"c363c1c0f880ec3581f97b61472ac9ed\", element=\"9eec4ba7-6da8-4664-adf5-ed7727308592\")>,\n",
       " <selenium.webdriver.remote.webelement.WebElement (session=\"c363c1c0f880ec3581f97b61472ac9ed\", element=\"ce12a843-f34e-432a-bcc3-871de8318090\")>,\n",
       " <selenium.webdriver.remote.webelement.WebElement (session=\"c363c1c0f880ec3581f97b61472ac9ed\", element=\"e8593c19-9fa4-4b53-9ea7-d41825e6d32c\")>,\n",
       " <selenium.webdriver.remote.webelement.WebElement (session=\"c363c1c0f880ec3581f97b61472ac9ed\", element=\"8afe4ee2-482f-4b36-a400-f24dd0bdaccf\")>,\n",
       " <selenium.webdriver.remote.webelement.WebElement (session=\"c363c1c0f880ec3581f97b61472ac9ed\", element=\"51384391-6608-4ed7-9754-959233905dcd\")>,\n",
       " <selenium.webdriver.remote.webelement.WebElement (session=\"c363c1c0f880ec3581f97b61472ac9ed\", element=\"788bb8b4-7c30-47cf-a78c-d5c57093a297\")>,\n",
       " <selenium.webdriver.remote.webelement.WebElement (session=\"c363c1c0f880ec3581f97b61472ac9ed\", element=\"4de82bc7-91d3-470f-ac35-8a96d28c3fc8\")>,\n",
       " <selenium.webdriver.remote.webelement.WebElement (session=\"c363c1c0f880ec3581f97b61472ac9ed\", element=\"65ee22c3-950d-4618-952b-4ada2def956b\")>]"
      ]
     },
     "execution_count": 78,
     "metadata": {},
     "output_type": "execute_result"
    }
   ],
   "source": [
    "sgs_discountp3=driver.find_elements_by_class_name('_3Ay6Sb')\n",
    "sgs_discountp3"
   ]
  },
  {
   "cell_type": "code",
   "execution_count": 79,
   "id": "d98eb566",
   "metadata": {},
   "outputs": [
    {
     "data": {
      "text/plain": [
       "45"
      ]
     },
     "execution_count": 79,
     "metadata": {},
     "output_type": "execute_result"
    }
   ],
   "source": [
    "len(sgs_discountp3)"
   ]
  },
  {
   "cell_type": "code",
   "execution_count": 88,
   "id": "fb571b26",
   "metadata": {},
   "outputs": [],
   "source": [
    "discountp3=[]\n",
    "\n",
    "for i in sgs_discountp3:\n",
    "    discountp3.append(i.text)\n",
    "    \n",
    "discount_p3=discountp3[0:20]"
   ]
  },
  {
   "cell_type": "code",
   "execution_count": null,
   "id": "4b942913",
   "metadata": {},
   "outputs": [],
   "source": []
  },
  {
   "cell_type": "code",
   "execution_count": 89,
   "id": "2a771706",
   "metadata": {},
   "outputs": [
    {
     "data": {
      "text/plain": [
       "(20, 20, 20, 20)"
      ]
     },
     "execution_count": 89,
     "metadata": {},
     "output_type": "execute_result"
    }
   ],
   "source": [
    "len(brands_p3),len(desc_p3),len(price_p3),len(discount_p3)"
   ]
  },
  {
   "cell_type": "code",
   "execution_count": null,
   "id": "a5e2ea0a",
   "metadata": {},
   "outputs": [],
   "source": []
  },
  {
   "cell_type": "code",
   "execution_count": 90,
   "id": "1c6fffee",
   "metadata": {},
   "outputs": [
    {
     "data": {
      "text/html": [
       "<div>\n",
       "<style scoped>\n",
       "    .dataframe tbody tr th:only-of-type {\n",
       "        vertical-align: middle;\n",
       "    }\n",
       "\n",
       "    .dataframe tbody tr th {\n",
       "        vertical-align: top;\n",
       "    }\n",
       "\n",
       "    .dataframe thead th {\n",
       "        text-align: right;\n",
       "    }\n",
       "</style>\n",
       "<table border=\"1\" class=\"dataframe\">\n",
       "  <thead>\n",
       "    <tr style=\"text-align: right;\">\n",
       "      <th></th>\n",
       "      <th>Brand Name</th>\n",
       "      <th>Product Description</th>\n",
       "      <th>Price</th>\n",
       "      <th>Discount</th>\n",
       "    </tr>\n",
       "  </thead>\n",
       "  <tbody>\n",
       "    <tr>\n",
       "      <th>0</th>\n",
       "      <td>PIRASO</td>\n",
       "      <td>Mirrored Aviator Sunglasses (32)</td>\n",
       "      <td>₹199</td>\n",
       "      <td>88% off</td>\n",
       "    </tr>\n",
       "    <tr>\n",
       "      <th>1</th>\n",
       "      <td>hipe</td>\n",
       "      <td>UV Protection Sports Sunglasses (Free Size)</td>\n",
       "      <td>₹258</td>\n",
       "      <td>86% off</td>\n",
       "    </tr>\n",
       "    <tr>\n",
       "      <th>2</th>\n",
       "      <td>Fastrack</td>\n",
       "      <td>UV Protection Wayfarer Sunglasses (Free Size)</td>\n",
       "      <td>₹639</td>\n",
       "      <td>20% off</td>\n",
       "    </tr>\n",
       "    <tr>\n",
       "      <th>3</th>\n",
       "      <td>Lee Topper</td>\n",
       "      <td>UV Protection, Riding Glasses Retro Square, Sp...</td>\n",
       "      <td>₹375</td>\n",
       "      <td>71% off</td>\n",
       "    </tr>\n",
       "    <tr>\n",
       "      <th>4</th>\n",
       "      <td>Singco India</td>\n",
       "      <td>Gradient, Toughened Glass Lens, UV Protection ...</td>\n",
       "      <td>₹597</td>\n",
       "      <td>80% off</td>\n",
       "    </tr>\n",
       "    <tr>\n",
       "      <th>5</th>\n",
       "      <td>Fastrack</td>\n",
       "      <td>UV Protection Shield Sunglasses (Free Size)</td>\n",
       "      <td>₹721</td>\n",
       "      <td>20% off</td>\n",
       "    </tr>\n",
       "    <tr>\n",
       "      <th>6</th>\n",
       "      <td>Elligator</td>\n",
       "      <td>UV Protection Aviator Sunglasses (55)</td>\n",
       "      <td>₹293</td>\n",
       "      <td>85% off</td>\n",
       "    </tr>\n",
       "    <tr>\n",
       "      <th>7</th>\n",
       "      <td>Fastrack</td>\n",
       "      <td>Polarized Retro Square Sunglasses (Free Size)</td>\n",
       "      <td>₹639</td>\n",
       "      <td>20% off</td>\n",
       "    </tr>\n",
       "    <tr>\n",
       "      <th>8</th>\n",
       "      <td>Rich Club</td>\n",
       "      <td>Polarized Round Sunglasses (48)</td>\n",
       "      <td>₹175</td>\n",
       "      <td>65% off</td>\n",
       "    </tr>\n",
       "    <tr>\n",
       "      <th>9</th>\n",
       "      <td>kingsunglasses</td>\n",
       "      <td>Mirrored, UV Protection Aviator Sunglasses (56)</td>\n",
       "      <td>₹219</td>\n",
       "      <td>83% off</td>\n",
       "    </tr>\n",
       "    <tr>\n",
       "      <th>10</th>\n",
       "      <td>PHENOMENAL</td>\n",
       "      <td>UV Protection, Mirrored Retro Square Sunglasse...</td>\n",
       "      <td>₹317</td>\n",
       "      <td>84% off</td>\n",
       "    </tr>\n",
       "    <tr>\n",
       "      <th>11</th>\n",
       "      <td>ROYAL SON</td>\n",
       "      <td>Polarized Rectangular Sunglasses (60)</td>\n",
       "      <td>₹664</td>\n",
       "      <td>67% off</td>\n",
       "    </tr>\n",
       "    <tr>\n",
       "      <th>12</th>\n",
       "      <td>ROZZETTA CRAFT</td>\n",
       "      <td>UV Protection Aviator Sunglasses (62)</td>\n",
       "      <td>₹616</td>\n",
       "      <td>76% off</td>\n",
       "    </tr>\n",
       "    <tr>\n",
       "      <th>13</th>\n",
       "      <td>Fastrack</td>\n",
       "      <td>UV Protection Aviator Sunglasses (58)</td>\n",
       "      <td>₹1,229</td>\n",
       "      <td>5% off</td>\n",
       "    </tr>\n",
       "    <tr>\n",
       "      <th>14</th>\n",
       "      <td>kingsunglasses</td>\n",
       "      <td>UV Protection, Mirrored Round Sunglasses (Free...</td>\n",
       "      <td>₹239</td>\n",
       "      <td>84% off</td>\n",
       "    </tr>\n",
       "    <tr>\n",
       "      <th>15</th>\n",
       "      <td>Elligator</td>\n",
       "      <td>UV Protection Round Sunglasses (50)</td>\n",
       "      <td>₹269</td>\n",
       "      <td>87% off</td>\n",
       "    </tr>\n",
       "    <tr>\n",
       "      <th>16</th>\n",
       "      <td>DEIXELS</td>\n",
       "      <td>UV Protection Wayfarer Sunglasses (Free Size)</td>\n",
       "      <td>₹199</td>\n",
       "      <td>60% off</td>\n",
       "    </tr>\n",
       "    <tr>\n",
       "      <th>17</th>\n",
       "      <td>Fastrack</td>\n",
       "      <td>UV Protection Wayfarer Sunglasses (55)</td>\n",
       "      <td>₹759</td>\n",
       "      <td>5% off</td>\n",
       "    </tr>\n",
       "    <tr>\n",
       "      <th>18</th>\n",
       "      <td>PHENOMENAL</td>\n",
       "      <td>UV Protection, Mirrored Retro Square Sunglasse...</td>\n",
       "      <td>₹317</td>\n",
       "      <td>84% off</td>\n",
       "    </tr>\n",
       "    <tr>\n",
       "      <th>19</th>\n",
       "      <td>Singco India</td>\n",
       "      <td>Mirrored, Riding Glasses, Others Sports Sungla...</td>\n",
       "      <td>₹194</td>\n",
       "      <td>87% off</td>\n",
       "    </tr>\n",
       "  </tbody>\n",
       "</table>\n",
       "</div>"
      ],
      "text/plain": [
       "        Brand Name                                Product Description   Price  \\\n",
       "0           PIRASO                   Mirrored Aviator Sunglasses (32)    ₹199   \n",
       "1             hipe        UV Protection Sports Sunglasses (Free Size)    ₹258   \n",
       "2         Fastrack      UV Protection Wayfarer Sunglasses (Free Size)    ₹639   \n",
       "3       Lee Topper  UV Protection, Riding Glasses Retro Square, Sp...    ₹375   \n",
       "4     Singco India  Gradient, Toughened Glass Lens, UV Protection ...    ₹597   \n",
       "5         Fastrack        UV Protection Shield Sunglasses (Free Size)    ₹721   \n",
       "6        Elligator              UV Protection Aviator Sunglasses (55)    ₹293   \n",
       "7         Fastrack      Polarized Retro Square Sunglasses (Free Size)    ₹639   \n",
       "8        Rich Club                    Polarized Round Sunglasses (48)    ₹175   \n",
       "9   kingsunglasses    Mirrored, UV Protection Aviator Sunglasses (56)    ₹219   \n",
       "10      PHENOMENAL  UV Protection, Mirrored Retro Square Sunglasse...    ₹317   \n",
       "11       ROYAL SON              Polarized Rectangular Sunglasses (60)    ₹664   \n",
       "12  ROZZETTA CRAFT              UV Protection Aviator Sunglasses (62)    ₹616   \n",
       "13        Fastrack              UV Protection Aviator Sunglasses (58)  ₹1,229   \n",
       "14  kingsunglasses  UV Protection, Mirrored Round Sunglasses (Free...    ₹239   \n",
       "15       Elligator                UV Protection Round Sunglasses (50)    ₹269   \n",
       "16         DEIXELS      UV Protection Wayfarer Sunglasses (Free Size)    ₹199   \n",
       "17        Fastrack             UV Protection Wayfarer Sunglasses (55)    ₹759   \n",
       "18      PHENOMENAL  UV Protection, Mirrored Retro Square Sunglasse...    ₹317   \n",
       "19    Singco India  Mirrored, Riding Glasses, Others Sports Sungla...    ₹194   \n",
       "\n",
       "   Discount  \n",
       "0   88% off  \n",
       "1   86% off  \n",
       "2   20% off  \n",
       "3   71% off  \n",
       "4   80% off  \n",
       "5   20% off  \n",
       "6   85% off  \n",
       "7   20% off  \n",
       "8   65% off  \n",
       "9   83% off  \n",
       "10  84% off  \n",
       "11  67% off  \n",
       "12  76% off  \n",
       "13   5% off  \n",
       "14  84% off  \n",
       "15  87% off  \n",
       "16  60% off  \n",
       "17   5% off  \n",
       "18  84% off  \n",
       "19  87% off  "
      ]
     },
     "execution_count": 90,
     "metadata": {},
     "output_type": "execute_result"
    }
   ],
   "source": [
    "page3data=pd.DataFrame()\n",
    "page3data['Brand Name']=brands_p3\n",
    "page3data['Product Description']=desc_p3\n",
    "page3data['Price']=price_p3\n",
    "page3data['Discount']=discount_p3\n",
    "\n",
    "page3data"
   ]
  },
  {
   "cell_type": "code",
   "execution_count": 91,
   "id": "0a6b25fc",
   "metadata": {},
   "outputs": [],
   "source": [
    "pagedata=page1data.append(page2data)"
   ]
  },
  {
   "cell_type": "code",
   "execution_count": 92,
   "id": "44b9b640",
   "metadata": {},
   "outputs": [],
   "source": [
    "sunglasses_df=pagedata.append(page3data)"
   ]
  },
  {
   "cell_type": "code",
   "execution_count": 93,
   "id": "ed959c75",
   "metadata": {},
   "outputs": [
    {
     "data": {
      "text/html": [
       "<div>\n",
       "<style scoped>\n",
       "    .dataframe tbody tr th:only-of-type {\n",
       "        vertical-align: middle;\n",
       "    }\n",
       "\n",
       "    .dataframe tbody tr th {\n",
       "        vertical-align: top;\n",
       "    }\n",
       "\n",
       "    .dataframe thead th {\n",
       "        text-align: right;\n",
       "    }\n",
       "</style>\n",
       "<table border=\"1\" class=\"dataframe\">\n",
       "  <thead>\n",
       "    <tr style=\"text-align: right;\">\n",
       "      <th></th>\n",
       "      <th>Brand Name</th>\n",
       "      <th>Product Description</th>\n",
       "      <th>Price</th>\n",
       "      <th>Discount</th>\n",
       "    </tr>\n",
       "  </thead>\n",
       "  <tbody>\n",
       "    <tr>\n",
       "      <th>0</th>\n",
       "      <td>Ray-Ban</td>\n",
       "      <td>UV Protection Rectangular Sunglasses (Free Size)</td>\n",
       "      <td>₹3,479</td>\n",
       "      <td>37% off</td>\n",
       "    </tr>\n",
       "    <tr>\n",
       "      <th>1</th>\n",
       "      <td>Ray-Ban</td>\n",
       "      <td>UV Protection Round Sunglasses (50)</td>\n",
       "      <td>₹6,649</td>\n",
       "      <td>10% off</td>\n",
       "    </tr>\n",
       "    <tr>\n",
       "      <th>2</th>\n",
       "      <td>SRPM</td>\n",
       "      <td>UV Protection Wayfarer Sunglasses (50)</td>\n",
       "      <td>₹198</td>\n",
       "      <td>85% off</td>\n",
       "    </tr>\n",
       "    <tr>\n",
       "      <th>3</th>\n",
       "      <td>SUNBEE</td>\n",
       "      <td>UV Protection, Polarized Wayfarer Sunglasses (...</td>\n",
       "      <td>₹253</td>\n",
       "      <td>81% off</td>\n",
       "    </tr>\n",
       "    <tr>\n",
       "      <th>4</th>\n",
       "      <td>ROZZETTA CRAFT</td>\n",
       "      <td>Polarized, Night Vision, Riding Glasses Sports...</td>\n",
       "      <td>₹474</td>\n",
       "      <td>76% off</td>\n",
       "    </tr>\n",
       "    <tr>\n",
       "      <th>...</th>\n",
       "      <td>...</td>\n",
       "      <td>...</td>\n",
       "      <td>...</td>\n",
       "      <td>...</td>\n",
       "    </tr>\n",
       "    <tr>\n",
       "      <th>15</th>\n",
       "      <td>Elligator</td>\n",
       "      <td>UV Protection Round Sunglasses (50)</td>\n",
       "      <td>₹269</td>\n",
       "      <td>87% off</td>\n",
       "    </tr>\n",
       "    <tr>\n",
       "      <th>16</th>\n",
       "      <td>DEIXELS</td>\n",
       "      <td>UV Protection Wayfarer Sunglasses (Free Size)</td>\n",
       "      <td>₹199</td>\n",
       "      <td>60% off</td>\n",
       "    </tr>\n",
       "    <tr>\n",
       "      <th>17</th>\n",
       "      <td>Fastrack</td>\n",
       "      <td>UV Protection Wayfarer Sunglasses (55)</td>\n",
       "      <td>₹759</td>\n",
       "      <td>5% off</td>\n",
       "    </tr>\n",
       "    <tr>\n",
       "      <th>18</th>\n",
       "      <td>PHENOMENAL</td>\n",
       "      <td>UV Protection, Mirrored Retro Square Sunglasse...</td>\n",
       "      <td>₹317</td>\n",
       "      <td>84% off</td>\n",
       "    </tr>\n",
       "    <tr>\n",
       "      <th>19</th>\n",
       "      <td>Singco India</td>\n",
       "      <td>Mirrored, Riding Glasses, Others Sports Sungla...</td>\n",
       "      <td>₹194</td>\n",
       "      <td>87% off</td>\n",
       "    </tr>\n",
       "  </tbody>\n",
       "</table>\n",
       "<p>100 rows × 4 columns</p>\n",
       "</div>"
      ],
      "text/plain": [
       "        Brand Name                                Product Description   Price  \\\n",
       "0          Ray-Ban   UV Protection Rectangular Sunglasses (Free Size)  ₹3,479   \n",
       "1          Ray-Ban                UV Protection Round Sunglasses (50)  ₹6,649   \n",
       "2             SRPM             UV Protection Wayfarer Sunglasses (50)    ₹198   \n",
       "3           SUNBEE  UV Protection, Polarized Wayfarer Sunglasses (...    ₹253   \n",
       "4   ROZZETTA CRAFT  Polarized, Night Vision, Riding Glasses Sports...    ₹474   \n",
       "..             ...                                                ...     ...   \n",
       "15       Elligator                UV Protection Round Sunglasses (50)    ₹269   \n",
       "16         DEIXELS      UV Protection Wayfarer Sunglasses (Free Size)    ₹199   \n",
       "17        Fastrack             UV Protection Wayfarer Sunglasses (55)    ₹759   \n",
       "18      PHENOMENAL  UV Protection, Mirrored Retro Square Sunglasse...    ₹317   \n",
       "19    Singco India  Mirrored, Riding Glasses, Others Sports Sungla...    ₹194   \n",
       "\n",
       "   Discount  \n",
       "0   37% off  \n",
       "1   10% off  \n",
       "2   85% off  \n",
       "3   81% off  \n",
       "4   76% off  \n",
       "..      ...  \n",
       "15  87% off  \n",
       "16  60% off  \n",
       "17   5% off  \n",
       "18  84% off  \n",
       "19  87% off  \n",
       "\n",
       "[100 rows x 4 columns]"
      ]
     },
     "execution_count": 93,
     "metadata": {},
     "output_type": "execute_result"
    }
   ],
   "source": [
    "sunglasses_df"
   ]
  },
  {
   "cell_type": "code",
   "execution_count": 94,
   "id": "e2b51220",
   "metadata": {},
   "outputs": [
    {
     "data": {
      "text/html": [
       "<div>\n",
       "<style scoped>\n",
       "    .dataframe tbody tr th:only-of-type {\n",
       "        vertical-align: middle;\n",
       "    }\n",
       "\n",
       "    .dataframe tbody tr th {\n",
       "        vertical-align: top;\n",
       "    }\n",
       "\n",
       "    .dataframe thead th {\n",
       "        text-align: right;\n",
       "    }\n",
       "</style>\n",
       "<table border=\"1\" class=\"dataframe\">\n",
       "  <thead>\n",
       "    <tr style=\"text-align: right;\">\n",
       "      <th></th>\n",
       "      <th>Brand Name</th>\n",
       "      <th>Product Description</th>\n",
       "      <th>Price</th>\n",
       "      <th>Discount</th>\n",
       "    </tr>\n",
       "  </thead>\n",
       "  <tbody>\n",
       "    <tr>\n",
       "      <th>0</th>\n",
       "      <td>Ray-Ban</td>\n",
       "      <td>UV Protection Rectangular Sunglasses (Free Size)</td>\n",
       "      <td>₹3,479</td>\n",
       "      <td>37% off</td>\n",
       "    </tr>\n",
       "    <tr>\n",
       "      <th>1</th>\n",
       "      <td>Ray-Ban</td>\n",
       "      <td>UV Protection Round Sunglasses (50)</td>\n",
       "      <td>₹6,649</td>\n",
       "      <td>10% off</td>\n",
       "    </tr>\n",
       "    <tr>\n",
       "      <th>2</th>\n",
       "      <td>SRPM</td>\n",
       "      <td>UV Protection Wayfarer Sunglasses (50)</td>\n",
       "      <td>₹198</td>\n",
       "      <td>85% off</td>\n",
       "    </tr>\n",
       "    <tr>\n",
       "      <th>3</th>\n",
       "      <td>SUNBEE</td>\n",
       "      <td>UV Protection, Polarized Wayfarer Sunglasses (...</td>\n",
       "      <td>₹253</td>\n",
       "      <td>81% off</td>\n",
       "    </tr>\n",
       "    <tr>\n",
       "      <th>4</th>\n",
       "      <td>ROZZETTA CRAFT</td>\n",
       "      <td>Polarized, Night Vision, Riding Glasses Sports...</td>\n",
       "      <td>₹474</td>\n",
       "      <td>76% off</td>\n",
       "    </tr>\n",
       "    <tr>\n",
       "      <th>5</th>\n",
       "      <td>PIRASO</td>\n",
       "      <td>UV Protection Aviator Sunglasses (54)</td>\n",
       "      <td>₹229</td>\n",
       "      <td>86% off</td>\n",
       "    </tr>\n",
       "    <tr>\n",
       "      <th>6</th>\n",
       "      <td>Elligator</td>\n",
       "      <td>UV Protection Round Sunglasses (54)</td>\n",
       "      <td>₹258</td>\n",
       "      <td>90% off</td>\n",
       "    </tr>\n",
       "    <tr>\n",
       "      <th>7</th>\n",
       "      <td>Ray-Ban</td>\n",
       "      <td>Gradient Round Sunglasses (54)</td>\n",
       "      <td>₹8,089</td>\n",
       "      <td>10% off</td>\n",
       "    </tr>\n",
       "    <tr>\n",
       "      <th>8</th>\n",
       "      <td>DEIXELS</td>\n",
       "      <td>UV Protection Aviator, Wayfarer Sunglasses (Fr...</td>\n",
       "      <td>₹202</td>\n",
       "      <td>83% off</td>\n",
       "    </tr>\n",
       "    <tr>\n",
       "      <th>9</th>\n",
       "      <td>Fastrack</td>\n",
       "      <td>UV Protection Rectangular Sunglasses (Free Size)</td>\n",
       "      <td>₹679</td>\n",
       "      <td>15% off</td>\n",
       "    </tr>\n",
       "    <tr>\n",
       "      <th>10</th>\n",
       "      <td>New Specs</td>\n",
       "      <td>UV Protection Rectangular Sunglasses (Free Size)</td>\n",
       "      <td>₹232</td>\n",
       "      <td>91% off</td>\n",
       "    </tr>\n",
       "    <tr>\n",
       "      <th>11</th>\n",
       "      <td>Ray-Ban</td>\n",
       "      <td>Polarized Aviator Sunglasses (58)</td>\n",
       "      <td>₹8,449</td>\n",
       "      <td>10% off</td>\n",
       "    </tr>\n",
       "    <tr>\n",
       "      <th>12</th>\n",
       "      <td>PIRASO</td>\n",
       "      <td>UV Protection Aviator Sunglasses (54)</td>\n",
       "      <td>₹225</td>\n",
       "      <td>86% off</td>\n",
       "    </tr>\n",
       "    <tr>\n",
       "      <th>13</th>\n",
       "      <td>SHAAH COLLECTIONS</td>\n",
       "      <td>UV Protection, Polarized, Mirrored Rectangular...</td>\n",
       "      <td>₹165</td>\n",
       "      <td>90% off</td>\n",
       "    </tr>\n",
       "    <tr>\n",
       "      <th>14</th>\n",
       "      <td>PIRASO</td>\n",
       "      <td>UV Protection Wayfarer Sunglasses (55)</td>\n",
       "      <td>₹225</td>\n",
       "      <td>86% off</td>\n",
       "    </tr>\n",
       "    <tr>\n",
       "      <th>15</th>\n",
       "      <td>ROZZETTA CRAFT</td>\n",
       "      <td>UV Protection, Gradient Rectangular Sunglasses...</td>\n",
       "      <td>₹426</td>\n",
       "      <td>79% off</td>\n",
       "    </tr>\n",
       "    <tr>\n",
       "      <th>16</th>\n",
       "      <td>GANSTA</td>\n",
       "      <td>UV Protection, Riding Glasses Wayfarer Sunglas...</td>\n",
       "      <td>₹198</td>\n",
       "      <td>89% off</td>\n",
       "    </tr>\n",
       "    <tr>\n",
       "      <th>17</th>\n",
       "      <td>Lee Topper</td>\n",
       "      <td>Riding Glasses Wrap-around Sunglasses (Free Size)</td>\n",
       "      <td>₹275</td>\n",
       "      <td>89% off</td>\n",
       "    </tr>\n",
       "    <tr>\n",
       "      <th>18</th>\n",
       "      <td>PIRASO</td>\n",
       "      <td>UV Protection Aviator Sunglasses (54)</td>\n",
       "      <td>₹225</td>\n",
       "      <td>86% off</td>\n",
       "    </tr>\n",
       "    <tr>\n",
       "      <th>19</th>\n",
       "      <td>VINCENT CHASE</td>\n",
       "      <td>by Lenskart Polarized, UV Protection Round Sun...</td>\n",
       "      <td>₹799</td>\n",
       "      <td>68% off</td>\n",
       "    </tr>\n",
       "    <tr>\n",
       "      <th>20</th>\n",
       "      <td>Lee Topper</td>\n",
       "      <td>UV Protection Rectangular Sunglasses (Free Size)</td>\n",
       "      <td>₹199</td>\n",
       "      <td>80% off</td>\n",
       "    </tr>\n",
       "    <tr>\n",
       "      <th>21</th>\n",
       "      <td>Silver Kartz</td>\n",
       "      <td>UV Protection Wayfarer Sunglasses (Free Size)</td>\n",
       "      <td>₹246</td>\n",
       "      <td>84% off</td>\n",
       "    </tr>\n",
       "    <tr>\n",
       "      <th>22</th>\n",
       "      <td>kingsunglasses</td>\n",
       "      <td>UV Protection, Riding Glasses, Mirrored Wayfar...</td>\n",
       "      <td>₹184</td>\n",
       "      <td>85% off</td>\n",
       "    </tr>\n",
       "    <tr>\n",
       "      <th>23</th>\n",
       "      <td>povty</td>\n",
       "      <td>UV Protection Retro Square Sunglasses (Free Size)</td>\n",
       "      <td>₹299</td>\n",
       "      <td>70% off</td>\n",
       "    </tr>\n",
       "    <tr>\n",
       "      <th>24</th>\n",
       "      <td>PHENOMENAL</td>\n",
       "      <td>UV Protection Retro Square Sunglasses (53)</td>\n",
       "      <td>₹289</td>\n",
       "      <td>71% off</td>\n",
       "    </tr>\n",
       "    <tr>\n",
       "      <th>25</th>\n",
       "      <td>kingsunglasses</td>\n",
       "      <td>Mirrored, UV Protection Wayfarer Sunglasses (F...</td>\n",
       "      <td>₹239</td>\n",
       "      <td>88% off</td>\n",
       "    </tr>\n",
       "    <tr>\n",
       "      <th>26</th>\n",
       "      <td>ROYAL SON</td>\n",
       "      <td>Mirrored Aviator Sunglasses (55)</td>\n",
       "      <td>₹379</td>\n",
       "      <td>75% off</td>\n",
       "    </tr>\n",
       "    <tr>\n",
       "      <th>27</th>\n",
       "      <td>Ray-Ban</td>\n",
       "      <td>UV Protection Wayfarer Sunglasses (55)</td>\n",
       "      <td>₹7,599</td>\n",
       "      <td>15% off</td>\n",
       "    </tr>\n",
       "    <tr>\n",
       "      <th>28</th>\n",
       "      <td>kingsunglasses</td>\n",
       "      <td>UV Protection Round Sunglasses (54)</td>\n",
       "      <td>₹186</td>\n",
       "      <td>81% off</td>\n",
       "    </tr>\n",
       "    <tr>\n",
       "      <th>29</th>\n",
       "      <td>SUNBEE</td>\n",
       "      <td>UV Protection, Polarized, Mirrored Round Sungl...</td>\n",
       "      <td>₹284</td>\n",
       "      <td>83% off</td>\n",
       "    </tr>\n",
       "    <tr>\n",
       "      <th>30</th>\n",
       "      <td>SRPM</td>\n",
       "      <td>UV Protection Wayfarer Sunglasses (53)</td>\n",
       "      <td>₹220</td>\n",
       "      <td>78% off</td>\n",
       "    </tr>\n",
       "    <tr>\n",
       "      <th>31</th>\n",
       "      <td>VINCENT CHASE</td>\n",
       "      <td>by Lenskart Polarized, UV Protection Wayfarer ...</td>\n",
       "      <td>₹799</td>\n",
       "      <td>68% off</td>\n",
       "    </tr>\n",
       "    <tr>\n",
       "      <th>32</th>\n",
       "      <td>Fastrack</td>\n",
       "      <td>UV Protection Wayfarer Sunglasses (Free Size)</td>\n",
       "      <td>₹639</td>\n",
       "      <td>20% off</td>\n",
       "    </tr>\n",
       "    <tr>\n",
       "      <th>33</th>\n",
       "      <td>GANSTA</td>\n",
       "      <td>UV Protection Aviator Sunglasses (57)</td>\n",
       "      <td>₹284</td>\n",
       "      <td>86% off</td>\n",
       "    </tr>\n",
       "    <tr>\n",
       "      <th>34</th>\n",
       "      <td>Elligator</td>\n",
       "      <td>UV Protection Round Sunglasses (53)</td>\n",
       "      <td>₹189</td>\n",
       "      <td>81% off</td>\n",
       "    </tr>\n",
       "    <tr>\n",
       "      <th>35</th>\n",
       "      <td>VILLAIN</td>\n",
       "      <td>Others Wayfarer Sunglasses (Free Size)</td>\n",
       "      <td>₹522</td>\n",
       "      <td>48% off</td>\n",
       "    </tr>\n",
       "    <tr>\n",
       "      <th>36</th>\n",
       "      <td>Singco India</td>\n",
       "      <td>Riding Glasses, UV Protection, Others Aviator ...</td>\n",
       "      <td>₹208</td>\n",
       "      <td>86% off</td>\n",
       "    </tr>\n",
       "    <tr>\n",
       "      <th>37</th>\n",
       "      <td>PIRASO</td>\n",
       "      <td>UV Protection Wayfarer Sunglasses (32)</td>\n",
       "      <td>₹225</td>\n",
       "      <td>86% off</td>\n",
       "    </tr>\n",
       "    <tr>\n",
       "      <th>38</th>\n",
       "      <td>kingsunglasses</td>\n",
       "      <td>UV Protection Round Sunglasses (Free Size)</td>\n",
       "      <td>₹289</td>\n",
       "      <td>82% off</td>\n",
       "    </tr>\n",
       "    <tr>\n",
       "      <th>39</th>\n",
       "      <td>Ray-Ban</td>\n",
       "      <td>UV Protection Wayfarer Sunglasses (56)</td>\n",
       "      <td>₹5,029</td>\n",
       "      <td>10% off</td>\n",
       "    </tr>\n",
       "    <tr>\n",
       "      <th>0</th>\n",
       "      <td>PIRASO</td>\n",
       "      <td>UV Protection Aviator Sunglasses (58)</td>\n",
       "      <td>₹349</td>\n",
       "      <td>87% off</td>\n",
       "    </tr>\n",
       "    <tr>\n",
       "      <th>1</th>\n",
       "      <td>kingsunglasses</td>\n",
       "      <td>UV Protection Round Sunglasses (Free Size)</td>\n",
       "      <td>₹289</td>\n",
       "      <td>82% off</td>\n",
       "    </tr>\n",
       "    <tr>\n",
       "      <th>2</th>\n",
       "      <td>SHAAH COLLECTIONS</td>\n",
       "      <td>UV Protection Round Sunglasses (Free Size)</td>\n",
       "      <td>₹284</td>\n",
       "      <td>83% off</td>\n",
       "    </tr>\n",
       "    <tr>\n",
       "      <th>3</th>\n",
       "      <td>Ray-Ban</td>\n",
       "      <td>UV Protection Rectangular Sunglasses (Free Size)</td>\n",
       "      <td>₹3,479</td>\n",
       "      <td>37% off</td>\n",
       "    </tr>\n",
       "    <tr>\n",
       "      <th>4</th>\n",
       "      <td>ROYAL SON</td>\n",
       "      <td>Mirrored Aviator Sunglasses (Free Size)</td>\n",
       "      <td>₹379</td>\n",
       "      <td>75% off</td>\n",
       "    </tr>\n",
       "    <tr>\n",
       "      <th>5</th>\n",
       "      <td>Fastrack</td>\n",
       "      <td>Gradient, UV Protection Wayfarer Sunglasses (F...</td>\n",
       "      <td>₹709</td>\n",
       "      <td>21% off</td>\n",
       "    </tr>\n",
       "    <tr>\n",
       "      <th>6</th>\n",
       "      <td>NuVew</td>\n",
       "      <td>UV Protection Sports Sunglasses (62)</td>\n",
       "      <td>₹327</td>\n",
       "      <td>74% off</td>\n",
       "    </tr>\n",
       "    <tr>\n",
       "      <th>7</th>\n",
       "      <td>Ray-Ban</td>\n",
       "      <td>UV Protection Round Sunglasses (50)</td>\n",
       "      <td>₹6,649</td>\n",
       "      <td>10% off</td>\n",
       "    </tr>\n",
       "    <tr>\n",
       "      <th>8</th>\n",
       "      <td>SHAAH COLLECTIONS</td>\n",
       "      <td>UV Protection, Polarized, Mirrored Rectangular...</td>\n",
       "      <td>₹181</td>\n",
       "      <td>82% off</td>\n",
       "    </tr>\n",
       "    <tr>\n",
       "      <th>9</th>\n",
       "      <td>ROZZETTA CRAFT</td>\n",
       "      <td>UV Protection Retro Square Sunglasses (Free Size)</td>\n",
       "      <td>₹474</td>\n",
       "      <td>79% off</td>\n",
       "    </tr>\n",
       "    <tr>\n",
       "      <th>10</th>\n",
       "      <td>SUNBEE</td>\n",
       "      <td>UV Protection, Polarized, Mirrored Retro Squar...</td>\n",
       "      <td>₹230</td>\n",
       "      <td>82% off</td>\n",
       "    </tr>\n",
       "    <tr>\n",
       "      <th>11</th>\n",
       "      <td>Ray-Ban</td>\n",
       "      <td>Gradient Round Sunglasses (54)</td>\n",
       "      <td>₹8,089</td>\n",
       "      <td>10% off</td>\n",
       "    </tr>\n",
       "    <tr>\n",
       "      <th>12</th>\n",
       "      <td>SRPM</td>\n",
       "      <td>Others Wayfarer, Retro Square Sunglasses (50)</td>\n",
       "      <td>₹178</td>\n",
       "      <td>82% off</td>\n",
       "    </tr>\n",
       "    <tr>\n",
       "      <th>13</th>\n",
       "      <td>kingsunglasses</td>\n",
       "      <td>UV Protection Rectangular Sunglasses (Free Size)</td>\n",
       "      <td>₹180</td>\n",
       "      <td>84% off</td>\n",
       "    </tr>\n",
       "    <tr>\n",
       "      <th>14</th>\n",
       "      <td>Silver Kartz</td>\n",
       "      <td>UV Protection Aviator Sunglasses (88)</td>\n",
       "      <td>₹255</td>\n",
       "      <td>79% off</td>\n",
       "    </tr>\n",
       "    <tr>\n",
       "      <th>15</th>\n",
       "      <td>VINCENT CHASE</td>\n",
       "      <td>by Lenskart Polarized, UV Protection Aviator S...</td>\n",
       "      <td>₹980</td>\n",
       "      <td>51% off</td>\n",
       "    </tr>\n",
       "    <tr>\n",
       "      <th>16</th>\n",
       "      <td>SRPM</td>\n",
       "      <td>Night Vision, UV Protection Round Sunglasses (54)</td>\n",
       "      <td>₹199</td>\n",
       "      <td>80% off</td>\n",
       "    </tr>\n",
       "    <tr>\n",
       "      <th>17</th>\n",
       "      <td>PIRASO</td>\n",
       "      <td>UV Protection Aviator Sunglasses (Free Size)</td>\n",
       "      <td>₹299</td>\n",
       "      <td>81% off</td>\n",
       "    </tr>\n",
       "    <tr>\n",
       "      <th>18</th>\n",
       "      <td>kingsunglasses</td>\n",
       "      <td>Mirrored, UV Protection Wayfarer, Rectangular ...</td>\n",
       "      <td>₹258</td>\n",
       "      <td>87% off</td>\n",
       "    </tr>\n",
       "    <tr>\n",
       "      <th>19</th>\n",
       "      <td>Ray-Ban</td>\n",
       "      <td>Polarized Aviator Sunglasses (58)</td>\n",
       "      <td>₹8,449</td>\n",
       "      <td>10% off</td>\n",
       "    </tr>\n",
       "    <tr>\n",
       "      <th>20</th>\n",
       "      <td>IDEE</td>\n",
       "      <td>UV Protection Rectangular Sunglasses (59)</td>\n",
       "      <td>₹1,009</td>\n",
       "      <td>59% off</td>\n",
       "    </tr>\n",
       "    <tr>\n",
       "      <th>21</th>\n",
       "      <td>Lee Topper</td>\n",
       "      <td>Riding Glasses, Night Vision Wrap-around Sungl...</td>\n",
       "      <td>₹276</td>\n",
       "      <td>89% off</td>\n",
       "    </tr>\n",
       "    <tr>\n",
       "      <th>22</th>\n",
       "      <td>ROZZETTA CRAFT</td>\n",
       "      <td>UV Protection, Gradient Rectangular Sunglasses...</td>\n",
       "      <td>₹379</td>\n",
       "      <td>81% off</td>\n",
       "    </tr>\n",
       "    <tr>\n",
       "      <th>23</th>\n",
       "      <td>ROZZETTA CRAFT</td>\n",
       "      <td>UV Protection, Gradient Rectangular Sunglasses...</td>\n",
       "      <td>₹426</td>\n",
       "      <td>79% off</td>\n",
       "    </tr>\n",
       "    <tr>\n",
       "      <th>24</th>\n",
       "      <td>New Specs</td>\n",
       "      <td>UV Protection, Mirrored Sports Sunglasses (Fre...</td>\n",
       "      <td>₹155</td>\n",
       "      <td>88% off</td>\n",
       "    </tr>\n",
       "    <tr>\n",
       "      <th>25</th>\n",
       "      <td>PHENOMENAL</td>\n",
       "      <td>UV Protection Clubmaster Sunglasses (Free Size)</td>\n",
       "      <td>₹307</td>\n",
       "      <td>85% off</td>\n",
       "    </tr>\n",
       "    <tr>\n",
       "      <th>26</th>\n",
       "      <td>New Specs</td>\n",
       "      <td>Mirrored, UV Protection, Riding Glasses, Other...</td>\n",
       "      <td>₹263</td>\n",
       "      <td>81% off</td>\n",
       "    </tr>\n",
       "    <tr>\n",
       "      <th>27</th>\n",
       "      <td>ROZZETTA CRAFT</td>\n",
       "      <td>UV Protection, Gradient Retro Square Sunglasse...</td>\n",
       "      <td>₹307</td>\n",
       "      <td>85% off</td>\n",
       "    </tr>\n",
       "    <tr>\n",
       "      <th>28</th>\n",
       "      <td>ROYAL SON</td>\n",
       "      <td>UV Protection Rectangular Sunglasses (58)</td>\n",
       "      <td>₹474</td>\n",
       "      <td>68% off</td>\n",
       "    </tr>\n",
       "    <tr>\n",
       "      <th>29</th>\n",
       "      <td>New Specs</td>\n",
       "      <td>UV Protection Aviator Sunglasses (Free Size)</td>\n",
       "      <td>₹183</td>\n",
       "      <td>89% off</td>\n",
       "    </tr>\n",
       "    <tr>\n",
       "      <th>30</th>\n",
       "      <td>ROYAL SON</td>\n",
       "      <td>Mirrored Aviator Sunglasses (55)</td>\n",
       "      <td>₹379</td>\n",
       "      <td>75% off</td>\n",
       "    </tr>\n",
       "    <tr>\n",
       "      <th>31</th>\n",
       "      <td>VINCENT CHASE</td>\n",
       "      <td>by Lenskart Polarized, UV Protection Round Sun...</td>\n",
       "      <td>₹799</td>\n",
       "      <td>68% off</td>\n",
       "    </tr>\n",
       "    <tr>\n",
       "      <th>32</th>\n",
       "      <td>Elligator</td>\n",
       "      <td>UV Protection Wayfarer Sunglasses (53)</td>\n",
       "      <td>₹176</td>\n",
       "      <td>88% off</td>\n",
       "    </tr>\n",
       "    <tr>\n",
       "      <th>33</th>\n",
       "      <td>PHENOMENAL</td>\n",
       "      <td>UV Protection Retro Square Sunglasses (Free Size)</td>\n",
       "      <td>₹328</td>\n",
       "      <td>84% off</td>\n",
       "    </tr>\n",
       "    <tr>\n",
       "      <th>34</th>\n",
       "      <td>ROZZETTA CRAFT</td>\n",
       "      <td>UV Protection, Gradient Round Sunglasses (Free...</td>\n",
       "      <td>₹342</td>\n",
       "      <td>83% off</td>\n",
       "    </tr>\n",
       "    <tr>\n",
       "      <th>35</th>\n",
       "      <td>povty</td>\n",
       "      <td>UV Protection Retro Square Sunglasses (Free Size)</td>\n",
       "      <td>₹299</td>\n",
       "      <td>70% off</td>\n",
       "    </tr>\n",
       "    <tr>\n",
       "      <th>36</th>\n",
       "      <td>hipe</td>\n",
       "      <td>UV Protection, Gradient, Mirrored, Riding Glas...</td>\n",
       "      <td>₹198</td>\n",
       "      <td>80% off</td>\n",
       "    </tr>\n",
       "    <tr>\n",
       "      <th>37</th>\n",
       "      <td>hipe</td>\n",
       "      <td>Mirrored, UV Protection, Gradient Round Sungla...</td>\n",
       "      <td>₹179</td>\n",
       "      <td>88% off</td>\n",
       "    </tr>\n",
       "    <tr>\n",
       "      <th>38</th>\n",
       "      <td>SUNBEE</td>\n",
       "      <td>UV Protection, Polarized, Mirrored Wayfarer Su...</td>\n",
       "      <td>₹253</td>\n",
       "      <td>81% off</td>\n",
       "    </tr>\n",
       "    <tr>\n",
       "      <th>39</th>\n",
       "      <td>VINCENT CHASE</td>\n",
       "      <td>by Lenskart Polarized, UV Protection Wayfarer ...</td>\n",
       "      <td>₹799</td>\n",
       "      <td>68% off</td>\n",
       "    </tr>\n",
       "    <tr>\n",
       "      <th>0</th>\n",
       "      <td>PIRASO</td>\n",
       "      <td>Mirrored Aviator Sunglasses (32)</td>\n",
       "      <td>₹199</td>\n",
       "      <td>88% off</td>\n",
       "    </tr>\n",
       "    <tr>\n",
       "      <th>1</th>\n",
       "      <td>hipe</td>\n",
       "      <td>UV Protection Sports Sunglasses (Free Size)</td>\n",
       "      <td>₹258</td>\n",
       "      <td>86% off</td>\n",
       "    </tr>\n",
       "    <tr>\n",
       "      <th>2</th>\n",
       "      <td>Fastrack</td>\n",
       "      <td>UV Protection Wayfarer Sunglasses (Free Size)</td>\n",
       "      <td>₹639</td>\n",
       "      <td>20% off</td>\n",
       "    </tr>\n",
       "    <tr>\n",
       "      <th>3</th>\n",
       "      <td>Lee Topper</td>\n",
       "      <td>UV Protection, Riding Glasses Retro Square, Sp...</td>\n",
       "      <td>₹375</td>\n",
       "      <td>71% off</td>\n",
       "    </tr>\n",
       "    <tr>\n",
       "      <th>4</th>\n",
       "      <td>Singco India</td>\n",
       "      <td>Gradient, Toughened Glass Lens, UV Protection ...</td>\n",
       "      <td>₹597</td>\n",
       "      <td>80% off</td>\n",
       "    </tr>\n",
       "    <tr>\n",
       "      <th>5</th>\n",
       "      <td>Fastrack</td>\n",
       "      <td>UV Protection Shield Sunglasses (Free Size)</td>\n",
       "      <td>₹721</td>\n",
       "      <td>20% off</td>\n",
       "    </tr>\n",
       "    <tr>\n",
       "      <th>6</th>\n",
       "      <td>Elligator</td>\n",
       "      <td>UV Protection Aviator Sunglasses (55)</td>\n",
       "      <td>₹293</td>\n",
       "      <td>85% off</td>\n",
       "    </tr>\n",
       "    <tr>\n",
       "      <th>7</th>\n",
       "      <td>Fastrack</td>\n",
       "      <td>Polarized Retro Square Sunglasses (Free Size)</td>\n",
       "      <td>₹639</td>\n",
       "      <td>20% off</td>\n",
       "    </tr>\n",
       "    <tr>\n",
       "      <th>8</th>\n",
       "      <td>Rich Club</td>\n",
       "      <td>Polarized Round Sunglasses (48)</td>\n",
       "      <td>₹175</td>\n",
       "      <td>65% off</td>\n",
       "    </tr>\n",
       "    <tr>\n",
       "      <th>9</th>\n",
       "      <td>kingsunglasses</td>\n",
       "      <td>Mirrored, UV Protection Aviator Sunglasses (56)</td>\n",
       "      <td>₹219</td>\n",
       "      <td>83% off</td>\n",
       "    </tr>\n",
       "    <tr>\n",
       "      <th>10</th>\n",
       "      <td>PHENOMENAL</td>\n",
       "      <td>UV Protection, Mirrored Retro Square Sunglasse...</td>\n",
       "      <td>₹317</td>\n",
       "      <td>84% off</td>\n",
       "    </tr>\n",
       "    <tr>\n",
       "      <th>11</th>\n",
       "      <td>ROYAL SON</td>\n",
       "      <td>Polarized Rectangular Sunglasses (60)</td>\n",
       "      <td>₹664</td>\n",
       "      <td>67% off</td>\n",
       "    </tr>\n",
       "    <tr>\n",
       "      <th>12</th>\n",
       "      <td>ROZZETTA CRAFT</td>\n",
       "      <td>UV Protection Aviator Sunglasses (62)</td>\n",
       "      <td>₹616</td>\n",
       "      <td>76% off</td>\n",
       "    </tr>\n",
       "    <tr>\n",
       "      <th>13</th>\n",
       "      <td>Fastrack</td>\n",
       "      <td>UV Protection Aviator Sunglasses (58)</td>\n",
       "      <td>₹1,229</td>\n",
       "      <td>5% off</td>\n",
       "    </tr>\n",
       "    <tr>\n",
       "      <th>14</th>\n",
       "      <td>kingsunglasses</td>\n",
       "      <td>UV Protection, Mirrored Round Sunglasses (Free...</td>\n",
       "      <td>₹239</td>\n",
       "      <td>84% off</td>\n",
       "    </tr>\n",
       "    <tr>\n",
       "      <th>15</th>\n",
       "      <td>Elligator</td>\n",
       "      <td>UV Protection Round Sunglasses (50)</td>\n",
       "      <td>₹269</td>\n",
       "      <td>87% off</td>\n",
       "    </tr>\n",
       "    <tr>\n",
       "      <th>16</th>\n",
       "      <td>DEIXELS</td>\n",
       "      <td>UV Protection Wayfarer Sunglasses (Free Size)</td>\n",
       "      <td>₹199</td>\n",
       "      <td>60% off</td>\n",
       "    </tr>\n",
       "    <tr>\n",
       "      <th>17</th>\n",
       "      <td>Fastrack</td>\n",
       "      <td>UV Protection Wayfarer Sunglasses (55)</td>\n",
       "      <td>₹759</td>\n",
       "      <td>5% off</td>\n",
       "    </tr>\n",
       "    <tr>\n",
       "      <th>18</th>\n",
       "      <td>PHENOMENAL</td>\n",
       "      <td>UV Protection, Mirrored Retro Square Sunglasse...</td>\n",
       "      <td>₹317</td>\n",
       "      <td>84% off</td>\n",
       "    </tr>\n",
       "    <tr>\n",
       "      <th>19</th>\n",
       "      <td>Singco India</td>\n",
       "      <td>Mirrored, Riding Glasses, Others Sports Sungla...</td>\n",
       "      <td>₹194</td>\n",
       "      <td>87% off</td>\n",
       "    </tr>\n",
       "  </tbody>\n",
       "</table>\n",
       "</div>"
      ],
      "text/plain": [
       "           Brand Name                                Product Description  \\\n",
       "0             Ray-Ban   UV Protection Rectangular Sunglasses (Free Size)   \n",
       "1             Ray-Ban                UV Protection Round Sunglasses (50)   \n",
       "2                SRPM             UV Protection Wayfarer Sunglasses (50)   \n",
       "3              SUNBEE  UV Protection, Polarized Wayfarer Sunglasses (...   \n",
       "4      ROZZETTA CRAFT  Polarized, Night Vision, Riding Glasses Sports...   \n",
       "5              PIRASO              UV Protection Aviator Sunglasses (54)   \n",
       "6           Elligator                UV Protection Round Sunglasses (54)   \n",
       "7             Ray-Ban                     Gradient Round Sunglasses (54)   \n",
       "8             DEIXELS  UV Protection Aviator, Wayfarer Sunglasses (Fr...   \n",
       "9            Fastrack   UV Protection Rectangular Sunglasses (Free Size)   \n",
       "10          New Specs   UV Protection Rectangular Sunglasses (Free Size)   \n",
       "11            Ray-Ban                  Polarized Aviator Sunglasses (58)   \n",
       "12             PIRASO              UV Protection Aviator Sunglasses (54)   \n",
       "13  SHAAH COLLECTIONS  UV Protection, Polarized, Mirrored Rectangular...   \n",
       "14             PIRASO             UV Protection Wayfarer Sunglasses (55)   \n",
       "15     ROZZETTA CRAFT  UV Protection, Gradient Rectangular Sunglasses...   \n",
       "16             GANSTA  UV Protection, Riding Glasses Wayfarer Sunglas...   \n",
       "17         Lee Topper  Riding Glasses Wrap-around Sunglasses (Free Size)   \n",
       "18             PIRASO              UV Protection Aviator Sunglasses (54)   \n",
       "19      VINCENT CHASE  by Lenskart Polarized, UV Protection Round Sun...   \n",
       "20         Lee Topper   UV Protection Rectangular Sunglasses (Free Size)   \n",
       "21       Silver Kartz      UV Protection Wayfarer Sunglasses (Free Size)   \n",
       "22     kingsunglasses  UV Protection, Riding Glasses, Mirrored Wayfar...   \n",
       "23              povty  UV Protection Retro Square Sunglasses (Free Size)   \n",
       "24         PHENOMENAL         UV Protection Retro Square Sunglasses (53)   \n",
       "25     kingsunglasses  Mirrored, UV Protection Wayfarer Sunglasses (F...   \n",
       "26          ROYAL SON                   Mirrored Aviator Sunglasses (55)   \n",
       "27            Ray-Ban             UV Protection Wayfarer Sunglasses (55)   \n",
       "28     kingsunglasses                UV Protection Round Sunglasses (54)   \n",
       "29             SUNBEE  UV Protection, Polarized, Mirrored Round Sungl...   \n",
       "30               SRPM             UV Protection Wayfarer Sunglasses (53)   \n",
       "31      VINCENT CHASE  by Lenskart Polarized, UV Protection Wayfarer ...   \n",
       "32           Fastrack      UV Protection Wayfarer Sunglasses (Free Size)   \n",
       "33             GANSTA              UV Protection Aviator Sunglasses (57)   \n",
       "34          Elligator                UV Protection Round Sunglasses (53)   \n",
       "35            VILLAIN             Others Wayfarer Sunglasses (Free Size)   \n",
       "36       Singco India  Riding Glasses, UV Protection, Others Aviator ...   \n",
       "37             PIRASO             UV Protection Wayfarer Sunglasses (32)   \n",
       "38     kingsunglasses         UV Protection Round Sunglasses (Free Size)   \n",
       "39            Ray-Ban             UV Protection Wayfarer Sunglasses (56)   \n",
       "0              PIRASO              UV Protection Aviator Sunglasses (58)   \n",
       "1      kingsunglasses         UV Protection Round Sunglasses (Free Size)   \n",
       "2   SHAAH COLLECTIONS         UV Protection Round Sunglasses (Free Size)   \n",
       "3             Ray-Ban   UV Protection Rectangular Sunglasses (Free Size)   \n",
       "4           ROYAL SON            Mirrored Aviator Sunglasses (Free Size)   \n",
       "5            Fastrack  Gradient, UV Protection Wayfarer Sunglasses (F...   \n",
       "6               NuVew               UV Protection Sports Sunglasses (62)   \n",
       "7             Ray-Ban                UV Protection Round Sunglasses (50)   \n",
       "8   SHAAH COLLECTIONS  UV Protection, Polarized, Mirrored Rectangular...   \n",
       "9      ROZZETTA CRAFT  UV Protection Retro Square Sunglasses (Free Size)   \n",
       "10             SUNBEE  UV Protection, Polarized, Mirrored Retro Squar...   \n",
       "11            Ray-Ban                     Gradient Round Sunglasses (54)   \n",
       "12               SRPM      Others Wayfarer, Retro Square Sunglasses (50)   \n",
       "13     kingsunglasses   UV Protection Rectangular Sunglasses (Free Size)   \n",
       "14       Silver Kartz              UV Protection Aviator Sunglasses (88)   \n",
       "15      VINCENT CHASE  by Lenskart Polarized, UV Protection Aviator S...   \n",
       "16               SRPM  Night Vision, UV Protection Round Sunglasses (54)   \n",
       "17             PIRASO       UV Protection Aviator Sunglasses (Free Size)   \n",
       "18     kingsunglasses  Mirrored, UV Protection Wayfarer, Rectangular ...   \n",
       "19            Ray-Ban                  Polarized Aviator Sunglasses (58)   \n",
       "20               IDEE          UV Protection Rectangular Sunglasses (59)   \n",
       "21         Lee Topper  Riding Glasses, Night Vision Wrap-around Sungl...   \n",
       "22     ROZZETTA CRAFT  UV Protection, Gradient Rectangular Sunglasses...   \n",
       "23     ROZZETTA CRAFT  UV Protection, Gradient Rectangular Sunglasses...   \n",
       "24          New Specs  UV Protection, Mirrored Sports Sunglasses (Fre...   \n",
       "25         PHENOMENAL    UV Protection Clubmaster Sunglasses (Free Size)   \n",
       "26          New Specs  Mirrored, UV Protection, Riding Glasses, Other...   \n",
       "27     ROZZETTA CRAFT  UV Protection, Gradient Retro Square Sunglasse...   \n",
       "28          ROYAL SON          UV Protection Rectangular Sunglasses (58)   \n",
       "29          New Specs       UV Protection Aviator Sunglasses (Free Size)   \n",
       "30          ROYAL SON                   Mirrored Aviator Sunglasses (55)   \n",
       "31      VINCENT CHASE  by Lenskart Polarized, UV Protection Round Sun...   \n",
       "32          Elligator             UV Protection Wayfarer Sunglasses (53)   \n",
       "33         PHENOMENAL  UV Protection Retro Square Sunglasses (Free Size)   \n",
       "34     ROZZETTA CRAFT  UV Protection, Gradient Round Sunglasses (Free...   \n",
       "35              povty  UV Protection Retro Square Sunglasses (Free Size)   \n",
       "36               hipe  UV Protection, Gradient, Mirrored, Riding Glas...   \n",
       "37               hipe  Mirrored, UV Protection, Gradient Round Sungla...   \n",
       "38             SUNBEE  UV Protection, Polarized, Mirrored Wayfarer Su...   \n",
       "39      VINCENT CHASE  by Lenskart Polarized, UV Protection Wayfarer ...   \n",
       "0              PIRASO                   Mirrored Aviator Sunglasses (32)   \n",
       "1                hipe        UV Protection Sports Sunglasses (Free Size)   \n",
       "2            Fastrack      UV Protection Wayfarer Sunglasses (Free Size)   \n",
       "3          Lee Topper  UV Protection, Riding Glasses Retro Square, Sp...   \n",
       "4        Singco India  Gradient, Toughened Glass Lens, UV Protection ...   \n",
       "5            Fastrack        UV Protection Shield Sunglasses (Free Size)   \n",
       "6           Elligator              UV Protection Aviator Sunglasses (55)   \n",
       "7            Fastrack      Polarized Retro Square Sunglasses (Free Size)   \n",
       "8           Rich Club                    Polarized Round Sunglasses (48)   \n",
       "9      kingsunglasses    Mirrored, UV Protection Aviator Sunglasses (56)   \n",
       "10         PHENOMENAL  UV Protection, Mirrored Retro Square Sunglasse...   \n",
       "11          ROYAL SON              Polarized Rectangular Sunglasses (60)   \n",
       "12     ROZZETTA CRAFT              UV Protection Aviator Sunglasses (62)   \n",
       "13           Fastrack              UV Protection Aviator Sunglasses (58)   \n",
       "14     kingsunglasses  UV Protection, Mirrored Round Sunglasses (Free...   \n",
       "15          Elligator                UV Protection Round Sunglasses (50)   \n",
       "16            DEIXELS      UV Protection Wayfarer Sunglasses (Free Size)   \n",
       "17           Fastrack             UV Protection Wayfarer Sunglasses (55)   \n",
       "18         PHENOMENAL  UV Protection, Mirrored Retro Square Sunglasse...   \n",
       "19       Singco India  Mirrored, Riding Glasses, Others Sports Sungla...   \n",
       "\n",
       "     Price Discount  \n",
       "0   ₹3,479  37% off  \n",
       "1   ₹6,649  10% off  \n",
       "2     ₹198  85% off  \n",
       "3     ₹253  81% off  \n",
       "4     ₹474  76% off  \n",
       "5     ₹229  86% off  \n",
       "6     ₹258  90% off  \n",
       "7   ₹8,089  10% off  \n",
       "8     ₹202  83% off  \n",
       "9     ₹679  15% off  \n",
       "10    ₹232  91% off  \n",
       "11  ₹8,449  10% off  \n",
       "12    ₹225  86% off  \n",
       "13    ₹165  90% off  \n",
       "14    ₹225  86% off  \n",
       "15    ₹426  79% off  \n",
       "16    ₹198  89% off  \n",
       "17    ₹275  89% off  \n",
       "18    ₹225  86% off  \n",
       "19    ₹799  68% off  \n",
       "20    ₹199  80% off  \n",
       "21    ₹246  84% off  \n",
       "22    ₹184  85% off  \n",
       "23    ₹299  70% off  \n",
       "24    ₹289  71% off  \n",
       "25    ₹239  88% off  \n",
       "26    ₹379  75% off  \n",
       "27  ₹7,599  15% off  \n",
       "28    ₹186  81% off  \n",
       "29    ₹284  83% off  \n",
       "30    ₹220  78% off  \n",
       "31    ₹799  68% off  \n",
       "32    ₹639  20% off  \n",
       "33    ₹284  86% off  \n",
       "34    ₹189  81% off  \n",
       "35    ₹522  48% off  \n",
       "36    ₹208  86% off  \n",
       "37    ₹225  86% off  \n",
       "38    ₹289  82% off  \n",
       "39  ₹5,029  10% off  \n",
       "0     ₹349  87% off  \n",
       "1     ₹289  82% off  \n",
       "2     ₹284  83% off  \n",
       "3   ₹3,479  37% off  \n",
       "4     ₹379  75% off  \n",
       "5     ₹709  21% off  \n",
       "6     ₹327  74% off  \n",
       "7   ₹6,649  10% off  \n",
       "8     ₹181  82% off  \n",
       "9     ₹474  79% off  \n",
       "10    ₹230  82% off  \n",
       "11  ₹8,089  10% off  \n",
       "12    ₹178  82% off  \n",
       "13    ₹180  84% off  \n",
       "14    ₹255  79% off  \n",
       "15    ₹980  51% off  \n",
       "16    ₹199  80% off  \n",
       "17    ₹299  81% off  \n",
       "18    ₹258  87% off  \n",
       "19  ₹8,449  10% off  \n",
       "20  ₹1,009  59% off  \n",
       "21    ₹276  89% off  \n",
       "22    ₹379  81% off  \n",
       "23    ₹426  79% off  \n",
       "24    ₹155  88% off  \n",
       "25    ₹307  85% off  \n",
       "26    ₹263  81% off  \n",
       "27    ₹307  85% off  \n",
       "28    ₹474  68% off  \n",
       "29    ₹183  89% off  \n",
       "30    ₹379  75% off  \n",
       "31    ₹799  68% off  \n",
       "32    ₹176  88% off  \n",
       "33    ₹328  84% off  \n",
       "34    ₹342  83% off  \n",
       "35    ₹299  70% off  \n",
       "36    ₹198  80% off  \n",
       "37    ₹179  88% off  \n",
       "38    ₹253  81% off  \n",
       "39    ₹799  68% off  \n",
       "0     ₹199  88% off  \n",
       "1     ₹258  86% off  \n",
       "2     ₹639  20% off  \n",
       "3     ₹375  71% off  \n",
       "4     ₹597  80% off  \n",
       "5     ₹721  20% off  \n",
       "6     ₹293  85% off  \n",
       "7     ₹639  20% off  \n",
       "8     ₹175  65% off  \n",
       "9     ₹219  83% off  \n",
       "10    ₹317  84% off  \n",
       "11    ₹664  67% off  \n",
       "12    ₹616  76% off  \n",
       "13  ₹1,229   5% off  \n",
       "14    ₹239  84% off  \n",
       "15    ₹269  87% off  \n",
       "16    ₹199  60% off  \n",
       "17    ₹759   5% off  \n",
       "18    ₹317  84% off  \n",
       "19    ₹194  87% off  "
      ]
     },
     "execution_count": 94,
     "metadata": {},
     "output_type": "execute_result"
    }
   ],
   "source": [
    "pd.set_option(\"display.max_rows\",None,\"display.max_columns\",None)\n",
    "\n",
    "sunglasses_df"
   ]
  },
  {
   "cell_type": "code",
   "execution_count": 96,
   "id": "034e9458",
   "metadata": {},
   "outputs": [
    {
     "ename": "NameError",
     "evalue": "name 'set_index' is not defined",
     "output_type": "error",
     "traceback": [
      "\u001b[1;31m---------------------------------------------------------------------------\u001b[0m",
      "\u001b[1;31mNameError\u001b[0m                                 Traceback (most recent call last)",
      "\u001b[1;32m<ipython-input-96-eac81e2cd715>\u001b[0m in \u001b[0;36m<module>\u001b[1;34m\u001b[0m\n\u001b[1;32m----> 1\u001b[1;33m \u001b[0msunglasses_df\u001b[0m\u001b[1;33m=\u001b[0m\u001b[0mset_index\u001b[0m\u001b[1;33m(\u001b[0m\u001b[0minplace\u001b[0m\u001b[1;33m=\u001b[0m\u001b[1;32mTrue\u001b[0m\u001b[1;33m)\u001b[0m\u001b[1;33m\u001b[0m\u001b[1;33m\u001b[0m\u001b[0m\n\u001b[0m",
      "\u001b[1;31mNameError\u001b[0m: name 'set_index' is not defined"
     ]
    }
   ],
   "source": []
  },
  {
   "cell_type": "code",
   "execution_count": 98,
   "id": "9af0bb54",
   "metadata": {},
   "outputs": [],
   "source": [
    "sunglasses_df.index=sunglasses_df.index+1"
   ]
  },
  {
   "cell_type": "code",
   "execution_count": 99,
   "id": "9aafc18d",
   "metadata": {},
   "outputs": [
    {
     "data": {
      "text/html": [
       "<div>\n",
       "<style scoped>\n",
       "    .dataframe tbody tr th:only-of-type {\n",
       "        vertical-align: middle;\n",
       "    }\n",
       "\n",
       "    .dataframe tbody tr th {\n",
       "        vertical-align: top;\n",
       "    }\n",
       "\n",
       "    .dataframe thead th {\n",
       "        text-align: right;\n",
       "    }\n",
       "</style>\n",
       "<table border=\"1\" class=\"dataframe\">\n",
       "  <thead>\n",
       "    <tr style=\"text-align: right;\">\n",
       "      <th></th>\n",
       "      <th>Brand Name</th>\n",
       "      <th>Product Description</th>\n",
       "      <th>Price</th>\n",
       "      <th>Discount</th>\n",
       "    </tr>\n",
       "  </thead>\n",
       "  <tbody>\n",
       "    <tr>\n",
       "      <th>1</th>\n",
       "      <td>Ray-Ban</td>\n",
       "      <td>UV Protection Rectangular Sunglasses (Free Size)</td>\n",
       "      <td>₹3,479</td>\n",
       "      <td>37% off</td>\n",
       "    </tr>\n",
       "    <tr>\n",
       "      <th>2</th>\n",
       "      <td>Ray-Ban</td>\n",
       "      <td>UV Protection Round Sunglasses (50)</td>\n",
       "      <td>₹6,649</td>\n",
       "      <td>10% off</td>\n",
       "    </tr>\n",
       "    <tr>\n",
       "      <th>3</th>\n",
       "      <td>SRPM</td>\n",
       "      <td>UV Protection Wayfarer Sunglasses (50)</td>\n",
       "      <td>₹198</td>\n",
       "      <td>85% off</td>\n",
       "    </tr>\n",
       "    <tr>\n",
       "      <th>4</th>\n",
       "      <td>SUNBEE</td>\n",
       "      <td>UV Protection, Polarized Wayfarer Sunglasses (...</td>\n",
       "      <td>₹253</td>\n",
       "      <td>81% off</td>\n",
       "    </tr>\n",
       "    <tr>\n",
       "      <th>5</th>\n",
       "      <td>ROZZETTA CRAFT</td>\n",
       "      <td>Polarized, Night Vision, Riding Glasses Sports...</td>\n",
       "      <td>₹474</td>\n",
       "      <td>76% off</td>\n",
       "    </tr>\n",
       "    <tr>\n",
       "      <th>6</th>\n",
       "      <td>PIRASO</td>\n",
       "      <td>UV Protection Aviator Sunglasses (54)</td>\n",
       "      <td>₹229</td>\n",
       "      <td>86% off</td>\n",
       "    </tr>\n",
       "    <tr>\n",
       "      <th>7</th>\n",
       "      <td>Elligator</td>\n",
       "      <td>UV Protection Round Sunglasses (54)</td>\n",
       "      <td>₹258</td>\n",
       "      <td>90% off</td>\n",
       "    </tr>\n",
       "    <tr>\n",
       "      <th>8</th>\n",
       "      <td>Ray-Ban</td>\n",
       "      <td>Gradient Round Sunglasses (54)</td>\n",
       "      <td>₹8,089</td>\n",
       "      <td>10% off</td>\n",
       "    </tr>\n",
       "    <tr>\n",
       "      <th>9</th>\n",
       "      <td>DEIXELS</td>\n",
       "      <td>UV Protection Aviator, Wayfarer Sunglasses (Fr...</td>\n",
       "      <td>₹202</td>\n",
       "      <td>83% off</td>\n",
       "    </tr>\n",
       "    <tr>\n",
       "      <th>10</th>\n",
       "      <td>Fastrack</td>\n",
       "      <td>UV Protection Rectangular Sunglasses (Free Size)</td>\n",
       "      <td>₹679</td>\n",
       "      <td>15% off</td>\n",
       "    </tr>\n",
       "    <tr>\n",
       "      <th>11</th>\n",
       "      <td>New Specs</td>\n",
       "      <td>UV Protection Rectangular Sunglasses (Free Size)</td>\n",
       "      <td>₹232</td>\n",
       "      <td>91% off</td>\n",
       "    </tr>\n",
       "    <tr>\n",
       "      <th>12</th>\n",
       "      <td>Ray-Ban</td>\n",
       "      <td>Polarized Aviator Sunglasses (58)</td>\n",
       "      <td>₹8,449</td>\n",
       "      <td>10% off</td>\n",
       "    </tr>\n",
       "    <tr>\n",
       "      <th>13</th>\n",
       "      <td>PIRASO</td>\n",
       "      <td>UV Protection Aviator Sunglasses (54)</td>\n",
       "      <td>₹225</td>\n",
       "      <td>86% off</td>\n",
       "    </tr>\n",
       "    <tr>\n",
       "      <th>14</th>\n",
       "      <td>SHAAH COLLECTIONS</td>\n",
       "      <td>UV Protection, Polarized, Mirrored Rectangular...</td>\n",
       "      <td>₹165</td>\n",
       "      <td>90% off</td>\n",
       "    </tr>\n",
       "    <tr>\n",
       "      <th>15</th>\n",
       "      <td>PIRASO</td>\n",
       "      <td>UV Protection Wayfarer Sunglasses (55)</td>\n",
       "      <td>₹225</td>\n",
       "      <td>86% off</td>\n",
       "    </tr>\n",
       "    <tr>\n",
       "      <th>16</th>\n",
       "      <td>ROZZETTA CRAFT</td>\n",
       "      <td>UV Protection, Gradient Rectangular Sunglasses...</td>\n",
       "      <td>₹426</td>\n",
       "      <td>79% off</td>\n",
       "    </tr>\n",
       "    <tr>\n",
       "      <th>17</th>\n",
       "      <td>GANSTA</td>\n",
       "      <td>UV Protection, Riding Glasses Wayfarer Sunglas...</td>\n",
       "      <td>₹198</td>\n",
       "      <td>89% off</td>\n",
       "    </tr>\n",
       "    <tr>\n",
       "      <th>18</th>\n",
       "      <td>Lee Topper</td>\n",
       "      <td>Riding Glasses Wrap-around Sunglasses (Free Size)</td>\n",
       "      <td>₹275</td>\n",
       "      <td>89% off</td>\n",
       "    </tr>\n",
       "    <tr>\n",
       "      <th>19</th>\n",
       "      <td>PIRASO</td>\n",
       "      <td>UV Protection Aviator Sunglasses (54)</td>\n",
       "      <td>₹225</td>\n",
       "      <td>86% off</td>\n",
       "    </tr>\n",
       "    <tr>\n",
       "      <th>20</th>\n",
       "      <td>VINCENT CHASE</td>\n",
       "      <td>by Lenskart Polarized, UV Protection Round Sun...</td>\n",
       "      <td>₹799</td>\n",
       "      <td>68% off</td>\n",
       "    </tr>\n",
       "    <tr>\n",
       "      <th>21</th>\n",
       "      <td>Lee Topper</td>\n",
       "      <td>UV Protection Rectangular Sunglasses (Free Size)</td>\n",
       "      <td>₹199</td>\n",
       "      <td>80% off</td>\n",
       "    </tr>\n",
       "    <tr>\n",
       "      <th>22</th>\n",
       "      <td>Silver Kartz</td>\n",
       "      <td>UV Protection Wayfarer Sunglasses (Free Size)</td>\n",
       "      <td>₹246</td>\n",
       "      <td>84% off</td>\n",
       "    </tr>\n",
       "    <tr>\n",
       "      <th>23</th>\n",
       "      <td>kingsunglasses</td>\n",
       "      <td>UV Protection, Riding Glasses, Mirrored Wayfar...</td>\n",
       "      <td>₹184</td>\n",
       "      <td>85% off</td>\n",
       "    </tr>\n",
       "    <tr>\n",
       "      <th>24</th>\n",
       "      <td>povty</td>\n",
       "      <td>UV Protection Retro Square Sunglasses (Free Size)</td>\n",
       "      <td>₹299</td>\n",
       "      <td>70% off</td>\n",
       "    </tr>\n",
       "    <tr>\n",
       "      <th>25</th>\n",
       "      <td>PHENOMENAL</td>\n",
       "      <td>UV Protection Retro Square Sunglasses (53)</td>\n",
       "      <td>₹289</td>\n",
       "      <td>71% off</td>\n",
       "    </tr>\n",
       "    <tr>\n",
       "      <th>26</th>\n",
       "      <td>kingsunglasses</td>\n",
       "      <td>Mirrored, UV Protection Wayfarer Sunglasses (F...</td>\n",
       "      <td>₹239</td>\n",
       "      <td>88% off</td>\n",
       "    </tr>\n",
       "    <tr>\n",
       "      <th>27</th>\n",
       "      <td>ROYAL SON</td>\n",
       "      <td>Mirrored Aviator Sunglasses (55)</td>\n",
       "      <td>₹379</td>\n",
       "      <td>75% off</td>\n",
       "    </tr>\n",
       "    <tr>\n",
       "      <th>28</th>\n",
       "      <td>Ray-Ban</td>\n",
       "      <td>UV Protection Wayfarer Sunglasses (55)</td>\n",
       "      <td>₹7,599</td>\n",
       "      <td>15% off</td>\n",
       "    </tr>\n",
       "    <tr>\n",
       "      <th>29</th>\n",
       "      <td>kingsunglasses</td>\n",
       "      <td>UV Protection Round Sunglasses (54)</td>\n",
       "      <td>₹186</td>\n",
       "      <td>81% off</td>\n",
       "    </tr>\n",
       "    <tr>\n",
       "      <th>30</th>\n",
       "      <td>SUNBEE</td>\n",
       "      <td>UV Protection, Polarized, Mirrored Round Sungl...</td>\n",
       "      <td>₹284</td>\n",
       "      <td>83% off</td>\n",
       "    </tr>\n",
       "    <tr>\n",
       "      <th>31</th>\n",
       "      <td>SRPM</td>\n",
       "      <td>UV Protection Wayfarer Sunglasses (53)</td>\n",
       "      <td>₹220</td>\n",
       "      <td>78% off</td>\n",
       "    </tr>\n",
       "    <tr>\n",
       "      <th>32</th>\n",
       "      <td>VINCENT CHASE</td>\n",
       "      <td>by Lenskart Polarized, UV Protection Wayfarer ...</td>\n",
       "      <td>₹799</td>\n",
       "      <td>68% off</td>\n",
       "    </tr>\n",
       "    <tr>\n",
       "      <th>33</th>\n",
       "      <td>Fastrack</td>\n",
       "      <td>UV Protection Wayfarer Sunglasses (Free Size)</td>\n",
       "      <td>₹639</td>\n",
       "      <td>20% off</td>\n",
       "    </tr>\n",
       "    <tr>\n",
       "      <th>34</th>\n",
       "      <td>GANSTA</td>\n",
       "      <td>UV Protection Aviator Sunglasses (57)</td>\n",
       "      <td>₹284</td>\n",
       "      <td>86% off</td>\n",
       "    </tr>\n",
       "    <tr>\n",
       "      <th>35</th>\n",
       "      <td>Elligator</td>\n",
       "      <td>UV Protection Round Sunglasses (53)</td>\n",
       "      <td>₹189</td>\n",
       "      <td>81% off</td>\n",
       "    </tr>\n",
       "    <tr>\n",
       "      <th>36</th>\n",
       "      <td>VILLAIN</td>\n",
       "      <td>Others Wayfarer Sunglasses (Free Size)</td>\n",
       "      <td>₹522</td>\n",
       "      <td>48% off</td>\n",
       "    </tr>\n",
       "    <tr>\n",
       "      <th>37</th>\n",
       "      <td>Singco India</td>\n",
       "      <td>Riding Glasses, UV Protection, Others Aviator ...</td>\n",
       "      <td>₹208</td>\n",
       "      <td>86% off</td>\n",
       "    </tr>\n",
       "    <tr>\n",
       "      <th>38</th>\n",
       "      <td>PIRASO</td>\n",
       "      <td>UV Protection Wayfarer Sunglasses (32)</td>\n",
       "      <td>₹225</td>\n",
       "      <td>86% off</td>\n",
       "    </tr>\n",
       "    <tr>\n",
       "      <th>39</th>\n",
       "      <td>kingsunglasses</td>\n",
       "      <td>UV Protection Round Sunglasses (Free Size)</td>\n",
       "      <td>₹289</td>\n",
       "      <td>82% off</td>\n",
       "    </tr>\n",
       "    <tr>\n",
       "      <th>40</th>\n",
       "      <td>Ray-Ban</td>\n",
       "      <td>UV Protection Wayfarer Sunglasses (56)</td>\n",
       "      <td>₹5,029</td>\n",
       "      <td>10% off</td>\n",
       "    </tr>\n",
       "    <tr>\n",
       "      <th>1</th>\n",
       "      <td>PIRASO</td>\n",
       "      <td>UV Protection Aviator Sunglasses (58)</td>\n",
       "      <td>₹349</td>\n",
       "      <td>87% off</td>\n",
       "    </tr>\n",
       "    <tr>\n",
       "      <th>2</th>\n",
       "      <td>kingsunglasses</td>\n",
       "      <td>UV Protection Round Sunglasses (Free Size)</td>\n",
       "      <td>₹289</td>\n",
       "      <td>82% off</td>\n",
       "    </tr>\n",
       "    <tr>\n",
       "      <th>3</th>\n",
       "      <td>SHAAH COLLECTIONS</td>\n",
       "      <td>UV Protection Round Sunglasses (Free Size)</td>\n",
       "      <td>₹284</td>\n",
       "      <td>83% off</td>\n",
       "    </tr>\n",
       "    <tr>\n",
       "      <th>4</th>\n",
       "      <td>Ray-Ban</td>\n",
       "      <td>UV Protection Rectangular Sunglasses (Free Size)</td>\n",
       "      <td>₹3,479</td>\n",
       "      <td>37% off</td>\n",
       "    </tr>\n",
       "    <tr>\n",
       "      <th>5</th>\n",
       "      <td>ROYAL SON</td>\n",
       "      <td>Mirrored Aviator Sunglasses (Free Size)</td>\n",
       "      <td>₹379</td>\n",
       "      <td>75% off</td>\n",
       "    </tr>\n",
       "    <tr>\n",
       "      <th>6</th>\n",
       "      <td>Fastrack</td>\n",
       "      <td>Gradient, UV Protection Wayfarer Sunglasses (F...</td>\n",
       "      <td>₹709</td>\n",
       "      <td>21% off</td>\n",
       "    </tr>\n",
       "    <tr>\n",
       "      <th>7</th>\n",
       "      <td>NuVew</td>\n",
       "      <td>UV Protection Sports Sunglasses (62)</td>\n",
       "      <td>₹327</td>\n",
       "      <td>74% off</td>\n",
       "    </tr>\n",
       "    <tr>\n",
       "      <th>8</th>\n",
       "      <td>Ray-Ban</td>\n",
       "      <td>UV Protection Round Sunglasses (50)</td>\n",
       "      <td>₹6,649</td>\n",
       "      <td>10% off</td>\n",
       "    </tr>\n",
       "    <tr>\n",
       "      <th>9</th>\n",
       "      <td>SHAAH COLLECTIONS</td>\n",
       "      <td>UV Protection, Polarized, Mirrored Rectangular...</td>\n",
       "      <td>₹181</td>\n",
       "      <td>82% off</td>\n",
       "    </tr>\n",
       "    <tr>\n",
       "      <th>10</th>\n",
       "      <td>ROZZETTA CRAFT</td>\n",
       "      <td>UV Protection Retro Square Sunglasses (Free Size)</td>\n",
       "      <td>₹474</td>\n",
       "      <td>79% off</td>\n",
       "    </tr>\n",
       "    <tr>\n",
       "      <th>11</th>\n",
       "      <td>SUNBEE</td>\n",
       "      <td>UV Protection, Polarized, Mirrored Retro Squar...</td>\n",
       "      <td>₹230</td>\n",
       "      <td>82% off</td>\n",
       "    </tr>\n",
       "    <tr>\n",
       "      <th>12</th>\n",
       "      <td>Ray-Ban</td>\n",
       "      <td>Gradient Round Sunglasses (54)</td>\n",
       "      <td>₹8,089</td>\n",
       "      <td>10% off</td>\n",
       "    </tr>\n",
       "    <tr>\n",
       "      <th>13</th>\n",
       "      <td>SRPM</td>\n",
       "      <td>Others Wayfarer, Retro Square Sunglasses (50)</td>\n",
       "      <td>₹178</td>\n",
       "      <td>82% off</td>\n",
       "    </tr>\n",
       "    <tr>\n",
       "      <th>14</th>\n",
       "      <td>kingsunglasses</td>\n",
       "      <td>UV Protection Rectangular Sunglasses (Free Size)</td>\n",
       "      <td>₹180</td>\n",
       "      <td>84% off</td>\n",
       "    </tr>\n",
       "    <tr>\n",
       "      <th>15</th>\n",
       "      <td>Silver Kartz</td>\n",
       "      <td>UV Protection Aviator Sunglasses (88)</td>\n",
       "      <td>₹255</td>\n",
       "      <td>79% off</td>\n",
       "    </tr>\n",
       "    <tr>\n",
       "      <th>16</th>\n",
       "      <td>VINCENT CHASE</td>\n",
       "      <td>by Lenskart Polarized, UV Protection Aviator S...</td>\n",
       "      <td>₹980</td>\n",
       "      <td>51% off</td>\n",
       "    </tr>\n",
       "    <tr>\n",
       "      <th>17</th>\n",
       "      <td>SRPM</td>\n",
       "      <td>Night Vision, UV Protection Round Sunglasses (54)</td>\n",
       "      <td>₹199</td>\n",
       "      <td>80% off</td>\n",
       "    </tr>\n",
       "    <tr>\n",
       "      <th>18</th>\n",
       "      <td>PIRASO</td>\n",
       "      <td>UV Protection Aviator Sunglasses (Free Size)</td>\n",
       "      <td>₹299</td>\n",
       "      <td>81% off</td>\n",
       "    </tr>\n",
       "    <tr>\n",
       "      <th>19</th>\n",
       "      <td>kingsunglasses</td>\n",
       "      <td>Mirrored, UV Protection Wayfarer, Rectangular ...</td>\n",
       "      <td>₹258</td>\n",
       "      <td>87% off</td>\n",
       "    </tr>\n",
       "    <tr>\n",
       "      <th>20</th>\n",
       "      <td>Ray-Ban</td>\n",
       "      <td>Polarized Aviator Sunglasses (58)</td>\n",
       "      <td>₹8,449</td>\n",
       "      <td>10% off</td>\n",
       "    </tr>\n",
       "    <tr>\n",
       "      <th>21</th>\n",
       "      <td>IDEE</td>\n",
       "      <td>UV Protection Rectangular Sunglasses (59)</td>\n",
       "      <td>₹1,009</td>\n",
       "      <td>59% off</td>\n",
       "    </tr>\n",
       "    <tr>\n",
       "      <th>22</th>\n",
       "      <td>Lee Topper</td>\n",
       "      <td>Riding Glasses, Night Vision Wrap-around Sungl...</td>\n",
       "      <td>₹276</td>\n",
       "      <td>89% off</td>\n",
       "    </tr>\n",
       "    <tr>\n",
       "      <th>23</th>\n",
       "      <td>ROZZETTA CRAFT</td>\n",
       "      <td>UV Protection, Gradient Rectangular Sunglasses...</td>\n",
       "      <td>₹379</td>\n",
       "      <td>81% off</td>\n",
       "    </tr>\n",
       "    <tr>\n",
       "      <th>24</th>\n",
       "      <td>ROZZETTA CRAFT</td>\n",
       "      <td>UV Protection, Gradient Rectangular Sunglasses...</td>\n",
       "      <td>₹426</td>\n",
       "      <td>79% off</td>\n",
       "    </tr>\n",
       "    <tr>\n",
       "      <th>25</th>\n",
       "      <td>New Specs</td>\n",
       "      <td>UV Protection, Mirrored Sports Sunglasses (Fre...</td>\n",
       "      <td>₹155</td>\n",
       "      <td>88% off</td>\n",
       "    </tr>\n",
       "    <tr>\n",
       "      <th>26</th>\n",
       "      <td>PHENOMENAL</td>\n",
       "      <td>UV Protection Clubmaster Sunglasses (Free Size)</td>\n",
       "      <td>₹307</td>\n",
       "      <td>85% off</td>\n",
       "    </tr>\n",
       "    <tr>\n",
       "      <th>27</th>\n",
       "      <td>New Specs</td>\n",
       "      <td>Mirrored, UV Protection, Riding Glasses, Other...</td>\n",
       "      <td>₹263</td>\n",
       "      <td>81% off</td>\n",
       "    </tr>\n",
       "    <tr>\n",
       "      <th>28</th>\n",
       "      <td>ROZZETTA CRAFT</td>\n",
       "      <td>UV Protection, Gradient Retro Square Sunglasse...</td>\n",
       "      <td>₹307</td>\n",
       "      <td>85% off</td>\n",
       "    </tr>\n",
       "    <tr>\n",
       "      <th>29</th>\n",
       "      <td>ROYAL SON</td>\n",
       "      <td>UV Protection Rectangular Sunglasses (58)</td>\n",
       "      <td>₹474</td>\n",
       "      <td>68% off</td>\n",
       "    </tr>\n",
       "    <tr>\n",
       "      <th>30</th>\n",
       "      <td>New Specs</td>\n",
       "      <td>UV Protection Aviator Sunglasses (Free Size)</td>\n",
       "      <td>₹183</td>\n",
       "      <td>89% off</td>\n",
       "    </tr>\n",
       "    <tr>\n",
       "      <th>31</th>\n",
       "      <td>ROYAL SON</td>\n",
       "      <td>Mirrored Aviator Sunglasses (55)</td>\n",
       "      <td>₹379</td>\n",
       "      <td>75% off</td>\n",
       "    </tr>\n",
       "    <tr>\n",
       "      <th>32</th>\n",
       "      <td>VINCENT CHASE</td>\n",
       "      <td>by Lenskart Polarized, UV Protection Round Sun...</td>\n",
       "      <td>₹799</td>\n",
       "      <td>68% off</td>\n",
       "    </tr>\n",
       "    <tr>\n",
       "      <th>33</th>\n",
       "      <td>Elligator</td>\n",
       "      <td>UV Protection Wayfarer Sunglasses (53)</td>\n",
       "      <td>₹176</td>\n",
       "      <td>88% off</td>\n",
       "    </tr>\n",
       "    <tr>\n",
       "      <th>34</th>\n",
       "      <td>PHENOMENAL</td>\n",
       "      <td>UV Protection Retro Square Sunglasses (Free Size)</td>\n",
       "      <td>₹328</td>\n",
       "      <td>84% off</td>\n",
       "    </tr>\n",
       "    <tr>\n",
       "      <th>35</th>\n",
       "      <td>ROZZETTA CRAFT</td>\n",
       "      <td>UV Protection, Gradient Round Sunglasses (Free...</td>\n",
       "      <td>₹342</td>\n",
       "      <td>83% off</td>\n",
       "    </tr>\n",
       "    <tr>\n",
       "      <th>36</th>\n",
       "      <td>povty</td>\n",
       "      <td>UV Protection Retro Square Sunglasses (Free Size)</td>\n",
       "      <td>₹299</td>\n",
       "      <td>70% off</td>\n",
       "    </tr>\n",
       "    <tr>\n",
       "      <th>37</th>\n",
       "      <td>hipe</td>\n",
       "      <td>UV Protection, Gradient, Mirrored, Riding Glas...</td>\n",
       "      <td>₹198</td>\n",
       "      <td>80% off</td>\n",
       "    </tr>\n",
       "    <tr>\n",
       "      <th>38</th>\n",
       "      <td>hipe</td>\n",
       "      <td>Mirrored, UV Protection, Gradient Round Sungla...</td>\n",
       "      <td>₹179</td>\n",
       "      <td>88% off</td>\n",
       "    </tr>\n",
       "    <tr>\n",
       "      <th>39</th>\n",
       "      <td>SUNBEE</td>\n",
       "      <td>UV Protection, Polarized, Mirrored Wayfarer Su...</td>\n",
       "      <td>₹253</td>\n",
       "      <td>81% off</td>\n",
       "    </tr>\n",
       "    <tr>\n",
       "      <th>40</th>\n",
       "      <td>VINCENT CHASE</td>\n",
       "      <td>by Lenskart Polarized, UV Protection Wayfarer ...</td>\n",
       "      <td>₹799</td>\n",
       "      <td>68% off</td>\n",
       "    </tr>\n",
       "    <tr>\n",
       "      <th>1</th>\n",
       "      <td>PIRASO</td>\n",
       "      <td>Mirrored Aviator Sunglasses (32)</td>\n",
       "      <td>₹199</td>\n",
       "      <td>88% off</td>\n",
       "    </tr>\n",
       "    <tr>\n",
       "      <th>2</th>\n",
       "      <td>hipe</td>\n",
       "      <td>UV Protection Sports Sunglasses (Free Size)</td>\n",
       "      <td>₹258</td>\n",
       "      <td>86% off</td>\n",
       "    </tr>\n",
       "    <tr>\n",
       "      <th>3</th>\n",
       "      <td>Fastrack</td>\n",
       "      <td>UV Protection Wayfarer Sunglasses (Free Size)</td>\n",
       "      <td>₹639</td>\n",
       "      <td>20% off</td>\n",
       "    </tr>\n",
       "    <tr>\n",
       "      <th>4</th>\n",
       "      <td>Lee Topper</td>\n",
       "      <td>UV Protection, Riding Glasses Retro Square, Sp...</td>\n",
       "      <td>₹375</td>\n",
       "      <td>71% off</td>\n",
       "    </tr>\n",
       "    <tr>\n",
       "      <th>5</th>\n",
       "      <td>Singco India</td>\n",
       "      <td>Gradient, Toughened Glass Lens, UV Protection ...</td>\n",
       "      <td>₹597</td>\n",
       "      <td>80% off</td>\n",
       "    </tr>\n",
       "    <tr>\n",
       "      <th>6</th>\n",
       "      <td>Fastrack</td>\n",
       "      <td>UV Protection Shield Sunglasses (Free Size)</td>\n",
       "      <td>₹721</td>\n",
       "      <td>20% off</td>\n",
       "    </tr>\n",
       "    <tr>\n",
       "      <th>7</th>\n",
       "      <td>Elligator</td>\n",
       "      <td>UV Protection Aviator Sunglasses (55)</td>\n",
       "      <td>₹293</td>\n",
       "      <td>85% off</td>\n",
       "    </tr>\n",
       "    <tr>\n",
       "      <th>8</th>\n",
       "      <td>Fastrack</td>\n",
       "      <td>Polarized Retro Square Sunglasses (Free Size)</td>\n",
       "      <td>₹639</td>\n",
       "      <td>20% off</td>\n",
       "    </tr>\n",
       "    <tr>\n",
       "      <th>9</th>\n",
       "      <td>Rich Club</td>\n",
       "      <td>Polarized Round Sunglasses (48)</td>\n",
       "      <td>₹175</td>\n",
       "      <td>65% off</td>\n",
       "    </tr>\n",
       "    <tr>\n",
       "      <th>10</th>\n",
       "      <td>kingsunglasses</td>\n",
       "      <td>Mirrored, UV Protection Aviator Sunglasses (56)</td>\n",
       "      <td>₹219</td>\n",
       "      <td>83% off</td>\n",
       "    </tr>\n",
       "    <tr>\n",
       "      <th>11</th>\n",
       "      <td>PHENOMENAL</td>\n",
       "      <td>UV Protection, Mirrored Retro Square Sunglasse...</td>\n",
       "      <td>₹317</td>\n",
       "      <td>84% off</td>\n",
       "    </tr>\n",
       "    <tr>\n",
       "      <th>12</th>\n",
       "      <td>ROYAL SON</td>\n",
       "      <td>Polarized Rectangular Sunglasses (60)</td>\n",
       "      <td>₹664</td>\n",
       "      <td>67% off</td>\n",
       "    </tr>\n",
       "    <tr>\n",
       "      <th>13</th>\n",
       "      <td>ROZZETTA CRAFT</td>\n",
       "      <td>UV Protection Aviator Sunglasses (62)</td>\n",
       "      <td>₹616</td>\n",
       "      <td>76% off</td>\n",
       "    </tr>\n",
       "    <tr>\n",
       "      <th>14</th>\n",
       "      <td>Fastrack</td>\n",
       "      <td>UV Protection Aviator Sunglasses (58)</td>\n",
       "      <td>₹1,229</td>\n",
       "      <td>5% off</td>\n",
       "    </tr>\n",
       "    <tr>\n",
       "      <th>15</th>\n",
       "      <td>kingsunglasses</td>\n",
       "      <td>UV Protection, Mirrored Round Sunglasses (Free...</td>\n",
       "      <td>₹239</td>\n",
       "      <td>84% off</td>\n",
       "    </tr>\n",
       "    <tr>\n",
       "      <th>16</th>\n",
       "      <td>Elligator</td>\n",
       "      <td>UV Protection Round Sunglasses (50)</td>\n",
       "      <td>₹269</td>\n",
       "      <td>87% off</td>\n",
       "    </tr>\n",
       "    <tr>\n",
       "      <th>17</th>\n",
       "      <td>DEIXELS</td>\n",
       "      <td>UV Protection Wayfarer Sunglasses (Free Size)</td>\n",
       "      <td>₹199</td>\n",
       "      <td>60% off</td>\n",
       "    </tr>\n",
       "    <tr>\n",
       "      <th>18</th>\n",
       "      <td>Fastrack</td>\n",
       "      <td>UV Protection Wayfarer Sunglasses (55)</td>\n",
       "      <td>₹759</td>\n",
       "      <td>5% off</td>\n",
       "    </tr>\n",
       "    <tr>\n",
       "      <th>19</th>\n",
       "      <td>PHENOMENAL</td>\n",
       "      <td>UV Protection, Mirrored Retro Square Sunglasse...</td>\n",
       "      <td>₹317</td>\n",
       "      <td>84% off</td>\n",
       "    </tr>\n",
       "    <tr>\n",
       "      <th>20</th>\n",
       "      <td>Singco India</td>\n",
       "      <td>Mirrored, Riding Glasses, Others Sports Sungla...</td>\n",
       "      <td>₹194</td>\n",
       "      <td>87% off</td>\n",
       "    </tr>\n",
       "  </tbody>\n",
       "</table>\n",
       "</div>"
      ],
      "text/plain": [
       "           Brand Name                                Product Description  \\\n",
       "1             Ray-Ban   UV Protection Rectangular Sunglasses (Free Size)   \n",
       "2             Ray-Ban                UV Protection Round Sunglasses (50)   \n",
       "3                SRPM             UV Protection Wayfarer Sunglasses (50)   \n",
       "4              SUNBEE  UV Protection, Polarized Wayfarer Sunglasses (...   \n",
       "5      ROZZETTA CRAFT  Polarized, Night Vision, Riding Glasses Sports...   \n",
       "6              PIRASO              UV Protection Aviator Sunglasses (54)   \n",
       "7           Elligator                UV Protection Round Sunglasses (54)   \n",
       "8             Ray-Ban                     Gradient Round Sunglasses (54)   \n",
       "9             DEIXELS  UV Protection Aviator, Wayfarer Sunglasses (Fr...   \n",
       "10           Fastrack   UV Protection Rectangular Sunglasses (Free Size)   \n",
       "11          New Specs   UV Protection Rectangular Sunglasses (Free Size)   \n",
       "12            Ray-Ban                  Polarized Aviator Sunglasses (58)   \n",
       "13             PIRASO              UV Protection Aviator Sunglasses (54)   \n",
       "14  SHAAH COLLECTIONS  UV Protection, Polarized, Mirrored Rectangular...   \n",
       "15             PIRASO             UV Protection Wayfarer Sunglasses (55)   \n",
       "16     ROZZETTA CRAFT  UV Protection, Gradient Rectangular Sunglasses...   \n",
       "17             GANSTA  UV Protection, Riding Glasses Wayfarer Sunglas...   \n",
       "18         Lee Topper  Riding Glasses Wrap-around Sunglasses (Free Size)   \n",
       "19             PIRASO              UV Protection Aviator Sunglasses (54)   \n",
       "20      VINCENT CHASE  by Lenskart Polarized, UV Protection Round Sun...   \n",
       "21         Lee Topper   UV Protection Rectangular Sunglasses (Free Size)   \n",
       "22       Silver Kartz      UV Protection Wayfarer Sunglasses (Free Size)   \n",
       "23     kingsunglasses  UV Protection, Riding Glasses, Mirrored Wayfar...   \n",
       "24              povty  UV Protection Retro Square Sunglasses (Free Size)   \n",
       "25         PHENOMENAL         UV Protection Retro Square Sunglasses (53)   \n",
       "26     kingsunglasses  Mirrored, UV Protection Wayfarer Sunglasses (F...   \n",
       "27          ROYAL SON                   Mirrored Aviator Sunglasses (55)   \n",
       "28            Ray-Ban             UV Protection Wayfarer Sunglasses (55)   \n",
       "29     kingsunglasses                UV Protection Round Sunglasses (54)   \n",
       "30             SUNBEE  UV Protection, Polarized, Mirrored Round Sungl...   \n",
       "31               SRPM             UV Protection Wayfarer Sunglasses (53)   \n",
       "32      VINCENT CHASE  by Lenskart Polarized, UV Protection Wayfarer ...   \n",
       "33           Fastrack      UV Protection Wayfarer Sunglasses (Free Size)   \n",
       "34             GANSTA              UV Protection Aviator Sunglasses (57)   \n",
       "35          Elligator                UV Protection Round Sunglasses (53)   \n",
       "36            VILLAIN             Others Wayfarer Sunglasses (Free Size)   \n",
       "37       Singco India  Riding Glasses, UV Protection, Others Aviator ...   \n",
       "38             PIRASO             UV Protection Wayfarer Sunglasses (32)   \n",
       "39     kingsunglasses         UV Protection Round Sunglasses (Free Size)   \n",
       "40            Ray-Ban             UV Protection Wayfarer Sunglasses (56)   \n",
       "1              PIRASO              UV Protection Aviator Sunglasses (58)   \n",
       "2      kingsunglasses         UV Protection Round Sunglasses (Free Size)   \n",
       "3   SHAAH COLLECTIONS         UV Protection Round Sunglasses (Free Size)   \n",
       "4             Ray-Ban   UV Protection Rectangular Sunglasses (Free Size)   \n",
       "5           ROYAL SON            Mirrored Aviator Sunglasses (Free Size)   \n",
       "6            Fastrack  Gradient, UV Protection Wayfarer Sunglasses (F...   \n",
       "7               NuVew               UV Protection Sports Sunglasses (62)   \n",
       "8             Ray-Ban                UV Protection Round Sunglasses (50)   \n",
       "9   SHAAH COLLECTIONS  UV Protection, Polarized, Mirrored Rectangular...   \n",
       "10     ROZZETTA CRAFT  UV Protection Retro Square Sunglasses (Free Size)   \n",
       "11             SUNBEE  UV Protection, Polarized, Mirrored Retro Squar...   \n",
       "12            Ray-Ban                     Gradient Round Sunglasses (54)   \n",
       "13               SRPM      Others Wayfarer, Retro Square Sunglasses (50)   \n",
       "14     kingsunglasses   UV Protection Rectangular Sunglasses (Free Size)   \n",
       "15       Silver Kartz              UV Protection Aviator Sunglasses (88)   \n",
       "16      VINCENT CHASE  by Lenskart Polarized, UV Protection Aviator S...   \n",
       "17               SRPM  Night Vision, UV Protection Round Sunglasses (54)   \n",
       "18             PIRASO       UV Protection Aviator Sunglasses (Free Size)   \n",
       "19     kingsunglasses  Mirrored, UV Protection Wayfarer, Rectangular ...   \n",
       "20            Ray-Ban                  Polarized Aviator Sunglasses (58)   \n",
       "21               IDEE          UV Protection Rectangular Sunglasses (59)   \n",
       "22         Lee Topper  Riding Glasses, Night Vision Wrap-around Sungl...   \n",
       "23     ROZZETTA CRAFT  UV Protection, Gradient Rectangular Sunglasses...   \n",
       "24     ROZZETTA CRAFT  UV Protection, Gradient Rectangular Sunglasses...   \n",
       "25          New Specs  UV Protection, Mirrored Sports Sunglasses (Fre...   \n",
       "26         PHENOMENAL    UV Protection Clubmaster Sunglasses (Free Size)   \n",
       "27          New Specs  Mirrored, UV Protection, Riding Glasses, Other...   \n",
       "28     ROZZETTA CRAFT  UV Protection, Gradient Retro Square Sunglasse...   \n",
       "29          ROYAL SON          UV Protection Rectangular Sunglasses (58)   \n",
       "30          New Specs       UV Protection Aviator Sunglasses (Free Size)   \n",
       "31          ROYAL SON                   Mirrored Aviator Sunglasses (55)   \n",
       "32      VINCENT CHASE  by Lenskart Polarized, UV Protection Round Sun...   \n",
       "33          Elligator             UV Protection Wayfarer Sunglasses (53)   \n",
       "34         PHENOMENAL  UV Protection Retro Square Sunglasses (Free Size)   \n",
       "35     ROZZETTA CRAFT  UV Protection, Gradient Round Sunglasses (Free...   \n",
       "36              povty  UV Protection Retro Square Sunglasses (Free Size)   \n",
       "37               hipe  UV Protection, Gradient, Mirrored, Riding Glas...   \n",
       "38               hipe  Mirrored, UV Protection, Gradient Round Sungla...   \n",
       "39             SUNBEE  UV Protection, Polarized, Mirrored Wayfarer Su...   \n",
       "40      VINCENT CHASE  by Lenskart Polarized, UV Protection Wayfarer ...   \n",
       "1              PIRASO                   Mirrored Aviator Sunglasses (32)   \n",
       "2                hipe        UV Protection Sports Sunglasses (Free Size)   \n",
       "3            Fastrack      UV Protection Wayfarer Sunglasses (Free Size)   \n",
       "4          Lee Topper  UV Protection, Riding Glasses Retro Square, Sp...   \n",
       "5        Singco India  Gradient, Toughened Glass Lens, UV Protection ...   \n",
       "6            Fastrack        UV Protection Shield Sunglasses (Free Size)   \n",
       "7           Elligator              UV Protection Aviator Sunglasses (55)   \n",
       "8            Fastrack      Polarized Retro Square Sunglasses (Free Size)   \n",
       "9           Rich Club                    Polarized Round Sunglasses (48)   \n",
       "10     kingsunglasses    Mirrored, UV Protection Aviator Sunglasses (56)   \n",
       "11         PHENOMENAL  UV Protection, Mirrored Retro Square Sunglasse...   \n",
       "12          ROYAL SON              Polarized Rectangular Sunglasses (60)   \n",
       "13     ROZZETTA CRAFT              UV Protection Aviator Sunglasses (62)   \n",
       "14           Fastrack              UV Protection Aviator Sunglasses (58)   \n",
       "15     kingsunglasses  UV Protection, Mirrored Round Sunglasses (Free...   \n",
       "16          Elligator                UV Protection Round Sunglasses (50)   \n",
       "17            DEIXELS      UV Protection Wayfarer Sunglasses (Free Size)   \n",
       "18           Fastrack             UV Protection Wayfarer Sunglasses (55)   \n",
       "19         PHENOMENAL  UV Protection, Mirrored Retro Square Sunglasse...   \n",
       "20       Singco India  Mirrored, Riding Glasses, Others Sports Sungla...   \n",
       "\n",
       "     Price Discount  \n",
       "1   ₹3,479  37% off  \n",
       "2   ₹6,649  10% off  \n",
       "3     ₹198  85% off  \n",
       "4     ₹253  81% off  \n",
       "5     ₹474  76% off  \n",
       "6     ₹229  86% off  \n",
       "7     ₹258  90% off  \n",
       "8   ₹8,089  10% off  \n",
       "9     ₹202  83% off  \n",
       "10    ₹679  15% off  \n",
       "11    ₹232  91% off  \n",
       "12  ₹8,449  10% off  \n",
       "13    ₹225  86% off  \n",
       "14    ₹165  90% off  \n",
       "15    ₹225  86% off  \n",
       "16    ₹426  79% off  \n",
       "17    ₹198  89% off  \n",
       "18    ₹275  89% off  \n",
       "19    ₹225  86% off  \n",
       "20    ₹799  68% off  \n",
       "21    ₹199  80% off  \n",
       "22    ₹246  84% off  \n",
       "23    ₹184  85% off  \n",
       "24    ₹299  70% off  \n",
       "25    ₹289  71% off  \n",
       "26    ₹239  88% off  \n",
       "27    ₹379  75% off  \n",
       "28  ₹7,599  15% off  \n",
       "29    ₹186  81% off  \n",
       "30    ₹284  83% off  \n",
       "31    ₹220  78% off  \n",
       "32    ₹799  68% off  \n",
       "33    ₹639  20% off  \n",
       "34    ₹284  86% off  \n",
       "35    ₹189  81% off  \n",
       "36    ₹522  48% off  \n",
       "37    ₹208  86% off  \n",
       "38    ₹225  86% off  \n",
       "39    ₹289  82% off  \n",
       "40  ₹5,029  10% off  \n",
       "1     ₹349  87% off  \n",
       "2     ₹289  82% off  \n",
       "3     ₹284  83% off  \n",
       "4   ₹3,479  37% off  \n",
       "5     ₹379  75% off  \n",
       "6     ₹709  21% off  \n",
       "7     ₹327  74% off  \n",
       "8   ₹6,649  10% off  \n",
       "9     ₹181  82% off  \n",
       "10    ₹474  79% off  \n",
       "11    ₹230  82% off  \n",
       "12  ₹8,089  10% off  \n",
       "13    ₹178  82% off  \n",
       "14    ₹180  84% off  \n",
       "15    ₹255  79% off  \n",
       "16    ₹980  51% off  \n",
       "17    ₹199  80% off  \n",
       "18    ₹299  81% off  \n",
       "19    ₹258  87% off  \n",
       "20  ₹8,449  10% off  \n",
       "21  ₹1,009  59% off  \n",
       "22    ₹276  89% off  \n",
       "23    ₹379  81% off  \n",
       "24    ₹426  79% off  \n",
       "25    ₹155  88% off  \n",
       "26    ₹307  85% off  \n",
       "27    ₹263  81% off  \n",
       "28    ₹307  85% off  \n",
       "29    ₹474  68% off  \n",
       "30    ₹183  89% off  \n",
       "31    ₹379  75% off  \n",
       "32    ₹799  68% off  \n",
       "33    ₹176  88% off  \n",
       "34    ₹328  84% off  \n",
       "35    ₹342  83% off  \n",
       "36    ₹299  70% off  \n",
       "37    ₹198  80% off  \n",
       "38    ₹179  88% off  \n",
       "39    ₹253  81% off  \n",
       "40    ₹799  68% off  \n",
       "1     ₹199  88% off  \n",
       "2     ₹258  86% off  \n",
       "3     ₹639  20% off  \n",
       "4     ₹375  71% off  \n",
       "5     ₹597  80% off  \n",
       "6     ₹721  20% off  \n",
       "7     ₹293  85% off  \n",
       "8     ₹639  20% off  \n",
       "9     ₹175  65% off  \n",
       "10    ₹219  83% off  \n",
       "11    ₹317  84% off  \n",
       "12    ₹664  67% off  \n",
       "13    ₹616  76% off  \n",
       "14  ₹1,229   5% off  \n",
       "15    ₹239  84% off  \n",
       "16    ₹269  87% off  \n",
       "17    ₹199  60% off  \n",
       "18    ₹759   5% off  \n",
       "19    ₹317  84% off  \n",
       "20    ₹194  87% off  "
      ]
     },
     "execution_count": 99,
     "metadata": {},
     "output_type": "execute_result"
    }
   ],
   "source": [
    "sunglasses_df"
   ]
  },
  {
   "cell_type": "code",
   "execution_count": 3,
   "id": "937fe017",
   "metadata": {},
   "outputs": [],
   "source": [
    "#5. Scrape 100 reviews data from flipkart.com for iphone11 phone. "
   ]
  },
  {
   "cell_type": "code",
   "execution_count": 68,
   "id": "9b7c1cc9",
   "metadata": {},
   "outputs": [],
   "source": [
    "url5='https://www.flipkart.com/apple-iphone-11-black-64-gb-includes-%20earpods-power-%20adapter/p/itm0f37c2240b217?pid=MOBFKCTSVZAXUHGR&lid=LSTMOBFKC%20TSVZAXUHGREPBFGI&marketplace'\n",
    "driver.get(url5)"
   ]
  },
  {
   "cell_type": "code",
   "execution_count": 69,
   "id": "caab5205",
   "metadata": {},
   "outputs": [],
   "source": [
    "driver.execute_script(\"window.scrollBy(0,1000)\",\"\")"
   ]
  },
  {
   "cell_type": "code",
   "execution_count": 70,
   "id": "648ae772",
   "metadata": {},
   "outputs": [],
   "source": [
    "driver.execute_script(\"window.scrollBy(0,1000)\",\"\")"
   ]
  },
  {
   "cell_type": "code",
   "execution_count": null,
   "id": "8baf36f5",
   "metadata": {},
   "outputs": [],
   "source": []
  },
  {
   "cell_type": "code",
   "execution_count": 73,
   "id": "41a5007e",
   "metadata": {},
   "outputs": [],
   "source": [
    "driver.execute_script(\"window.scrollBy(0,500)\",\"\")"
   ]
  },
  {
   "cell_type": "code",
   "execution_count": 59,
   "id": "c93a1d0c",
   "metadata": {},
   "outputs": [],
   "source": [
    "backtotop=driver.find_element_by_class_name('HL5oOQ')"
   ]
  },
  {
   "cell_type": "code",
   "execution_count": 60,
   "id": "a5d4def1",
   "metadata": {},
   "outputs": [
    {
     "data": {
      "text/plain": [
       "<selenium.webdriver.remote.webelement.WebElement (session=\"0ea9a436c215285b6ee5cd0bb48ac095\", element=\"d42c137e-ff09-4343-9f3c-98f165119fab\")>"
      ]
     },
     "execution_count": 60,
     "metadata": {},
     "output_type": "execute_result"
    }
   ],
   "source": [
    "backtotop"
   ]
  },
  {
   "cell_type": "code",
   "execution_count": 61,
   "id": "45bec4b0",
   "metadata": {},
   "outputs": [],
   "source": [
    "backtotop.click()"
   ]
  },
  {
   "cell_type": "code",
   "execution_count": null,
   "id": "ec6df982",
   "metadata": {},
   "outputs": [],
   "source": []
  },
  {
   "cell_type": "code",
   "execution_count": null,
   "id": "83b275a3",
   "metadata": {},
   "outputs": [],
   "source": []
  },
  {
   "cell_type": "code",
   "execution_count": 21,
   "id": "3f1a8508",
   "metadata": {},
   "outputs": [],
   "source": [
    "driver.execute_script(\"window.scrollBy(0,2000)\",\"\")"
   ]
  },
  {
   "cell_type": "code",
   "execution_count": 22,
   "id": "58f3eb25",
   "metadata": {},
   "outputs": [
    {
     "data": {
      "text/plain": [
       "[<selenium.webdriver.remote.webelement.WebElement (session=\"dabcad8b346501455d86a856a7479d7e\", element=\"96f81958-77fe-4df4-8f48-1fdbc71d7a9f\")>,\n",
       " <selenium.webdriver.remote.webelement.WebElement (session=\"dabcad8b346501455d86a856a7479d7e\", element=\"61847a0c-d6fa-4617-9e25-6372cbd9e790\")>,\n",
       " <selenium.webdriver.remote.webelement.WebElement (session=\"dabcad8b346501455d86a856a7479d7e\", element=\"cf60ad04-b70a-45a6-9c4e-322b0b0ccff7\")>,\n",
       " <selenium.webdriver.remote.webelement.WebElement (session=\"dabcad8b346501455d86a856a7479d7e\", element=\"522ee2e0-9c8e-4fa2-a128-1cb08fc1f2d9\")>,\n",
       " <selenium.webdriver.remote.webelement.WebElement (session=\"dabcad8b346501455d86a856a7479d7e\", element=\"c6850236-6e18-4089-a514-0e07f7989c25\")>,\n",
       " <selenium.webdriver.remote.webelement.WebElement (session=\"dabcad8b346501455d86a856a7479d7e\", element=\"52289d2e-5c98-4434-a5c0-1070c3027e3b\")>,\n",
       " <selenium.webdriver.remote.webelement.WebElement (session=\"dabcad8b346501455d86a856a7479d7e\", element=\"e13e6907-9ebc-46f9-a306-e6773776dde6\")>,\n",
       " <selenium.webdriver.remote.webelement.WebElement (session=\"dabcad8b346501455d86a856a7479d7e\", element=\"f85e8113-b5c4-482d-94d0-ca658eec8e42\")>,\n",
       " <selenium.webdriver.remote.webelement.WebElement (session=\"dabcad8b346501455d86a856a7479d7e\", element=\"6b8e7210-82a7-44a2-814b-c73ea8d7d3ad\")>,\n",
       " <selenium.webdriver.remote.webelement.WebElement (session=\"dabcad8b346501455d86a856a7479d7e\", element=\"1a8bfb22-744c-403a-8e85-f894a6858fd7\")>]"
      ]
     },
     "execution_count": 22,
     "metadata": {},
     "output_type": "execute_result"
    }
   ],
   "source": [
    "rating=driver.find_elements_by_class_name('_1BLPMq')\n",
    "rating"
   ]
  },
  {
   "cell_type": "code",
   "execution_count": 23,
   "id": "bd9b89b1",
   "metadata": {},
   "outputs": [
    {
     "data": {
      "text/plain": [
       "10"
      ]
     },
     "execution_count": 23,
     "metadata": {},
     "output_type": "execute_result"
    }
   ],
   "source": [
    "len(rating)"
   ]
  },
  {
   "cell_type": "code",
   "execution_count": 24,
   "id": "f268931b",
   "metadata": {},
   "outputs": [],
   "source": [
    "driver.execute_script(\"window.scrollBy(0,1000)\",\"\")"
   ]
  },
  {
   "cell_type": "code",
   "execution_count": 79,
   "id": "4b95c4c6",
   "metadata": {},
   "outputs": [
    {
     "data": {
      "text/plain": [
       "<selenium.webdriver.remote.webelement.WebElement (session=\"518dcfdbb077e78ea1f64cc6cbeb0e14\", element=\"2cc33d53-8a68-4c24-8c52-20012f68e42c\")>"
      ]
     },
     "execution_count": 79,
     "metadata": {},
     "output_type": "execute_result"
    }
   ],
   "source": [
    "more_reviews=driver.find_element_by_xpath('/html/body/div[1]/div/div[3]/div[1]/div[2]/div[8]/div/div/div[5]/div/a/div')\n",
    "more_reviews"
   ]
  },
  {
   "cell_type": "code",
   "execution_count": 80,
   "id": "7fd2f151",
   "metadata": {},
   "outputs": [],
   "source": [
    "more_reviews.click()"
   ]
  },
  {
   "cell_type": "code",
   "execution_count": 81,
   "id": "acd3d417",
   "metadata": {
    "collapsed": true
   },
   "outputs": [
    {
     "data": {
      "text/plain": [
       "[<selenium.webdriver.remote.webelement.WebElement (session=\"518dcfdbb077e78ea1f64cc6cbeb0e14\", element=\"cf6a9835-af3a-4b33-a0bc-e48a72076ac2\")>,\n",
       " <selenium.webdriver.remote.webelement.WebElement (session=\"518dcfdbb077e78ea1f64cc6cbeb0e14\", element=\"6387395e-e6ae-4599-9e92-099f2457dcbe\")>,\n",
       " <selenium.webdriver.remote.webelement.WebElement (session=\"518dcfdbb077e78ea1f64cc6cbeb0e14\", element=\"0c5d1cdd-0197-4ca6-beb0-7588d82df317\")>,\n",
       " <selenium.webdriver.remote.webelement.WebElement (session=\"518dcfdbb077e78ea1f64cc6cbeb0e14\", element=\"45293d92-27d7-4dd7-9469-9e8d4fc6986f\")>,\n",
       " <selenium.webdriver.remote.webelement.WebElement (session=\"518dcfdbb077e78ea1f64cc6cbeb0e14\", element=\"818c1a1f-801d-4794-8efc-2c8a46f1bcd5\")>,\n",
       " <selenium.webdriver.remote.webelement.WebElement (session=\"518dcfdbb077e78ea1f64cc6cbeb0e14\", element=\"505754ee-5a1b-4682-9aa6-fe5dc919b7c2\")>,\n",
       " <selenium.webdriver.remote.webelement.WebElement (session=\"518dcfdbb077e78ea1f64cc6cbeb0e14\", element=\"8fbdbd0c-7f35-4699-a653-46ccced0739e\")>,\n",
       " <selenium.webdriver.remote.webelement.WebElement (session=\"518dcfdbb077e78ea1f64cc6cbeb0e14\", element=\"223b162c-7b4c-4412-86f4-e6807d2f3c9c\")>,\n",
       " <selenium.webdriver.remote.webelement.WebElement (session=\"518dcfdbb077e78ea1f64cc6cbeb0e14\", element=\"4952cf7c-eda1-4c77-938d-cb9c1de24acc\")>,\n",
       " <selenium.webdriver.remote.webelement.WebElement (session=\"518dcfdbb077e78ea1f64cc6cbeb0e14\", element=\"56ba29fe-74f7-4c35-929a-274d0f4353db\")>]"
      ]
     },
     "execution_count": 81,
     "metadata": {},
     "output_type": "execute_result"
    }
   ],
   "source": [
    "rating=driver.find_elements_by_class_name('_1BLPMq')\n",
    "rating"
   ]
  },
  {
   "cell_type": "code",
   "execution_count": null,
   "id": "31aff32a",
   "metadata": {},
   "outputs": [],
   "source": []
  },
  {
   "cell_type": "code",
   "execution_count": 82,
   "id": "cedf944f",
   "metadata": {},
   "outputs": [
    {
     "data": {
      "text/plain": [
       "10"
      ]
     },
     "execution_count": 82,
     "metadata": {},
     "output_type": "execute_result"
    }
   ],
   "source": [
    "len(rating)"
   ]
  },
  {
   "cell_type": "code",
   "execution_count": null,
   "id": "bb15194c",
   "metadata": {},
   "outputs": [],
   "source": []
  },
  {
   "cell_type": "code",
   "execution_count": 83,
   "id": "13cfda59",
   "metadata": {},
   "outputs": [
    {
     "data": {
      "text/plain": [
       "['5', '5', '5', '5', '5', '5', '5', '4', '5', '5']"
      ]
     },
     "execution_count": 83,
     "metadata": {},
     "output_type": "execute_result"
    }
   ],
   "source": [
    "ratings_1=[]\n",
    "\n",
    "for i in rating:\n",
    "    ratings_1.append(i.text)\n",
    "    \n",
    "ratings_1[0:10]"
   ]
  },
  {
   "cell_type": "code",
   "execution_count": 85,
   "id": "0e7f1588",
   "metadata": {
    "collapsed": true
   },
   "outputs": [
    {
     "data": {
      "text/plain": [
       "[<selenium.webdriver.remote.webelement.WebElement (session=\"518dcfdbb077e78ea1f64cc6cbeb0e14\", element=\"d007b250-8635-4cb4-9ecc-5b26fc7e4377\")>,\n",
       " <selenium.webdriver.remote.webelement.WebElement (session=\"518dcfdbb077e78ea1f64cc6cbeb0e14\", element=\"89ea0f5a-6b09-4bf8-ac70-ce9df3ce1a7c\")>,\n",
       " <selenium.webdriver.remote.webelement.WebElement (session=\"518dcfdbb077e78ea1f64cc6cbeb0e14\", element=\"8fe678dd-8e32-465f-ad63-6f411d1e08ec\")>,\n",
       " <selenium.webdriver.remote.webelement.WebElement (session=\"518dcfdbb077e78ea1f64cc6cbeb0e14\", element=\"5e9defc1-c7f3-40f9-9961-d16450c97f38\")>,\n",
       " <selenium.webdriver.remote.webelement.WebElement (session=\"518dcfdbb077e78ea1f64cc6cbeb0e14\", element=\"73bb65fc-746d-4241-bd54-ab83cf445eaf\")>,\n",
       " <selenium.webdriver.remote.webelement.WebElement (session=\"518dcfdbb077e78ea1f64cc6cbeb0e14\", element=\"f13adcc1-4139-47b8-af15-8dfd9fa845d8\")>,\n",
       " <selenium.webdriver.remote.webelement.WebElement (session=\"518dcfdbb077e78ea1f64cc6cbeb0e14\", element=\"b12d8f57-b856-482c-9f05-bffb3afd1c28\")>,\n",
       " <selenium.webdriver.remote.webelement.WebElement (session=\"518dcfdbb077e78ea1f64cc6cbeb0e14\", element=\"68769f60-ef33-4e54-ad5e-83c9df0c2da2\")>,\n",
       " <selenium.webdriver.remote.webelement.WebElement (session=\"518dcfdbb077e78ea1f64cc6cbeb0e14\", element=\"1b6c0c73-3734-4685-b692-d3dfbd4d125a\")>,\n",
       " <selenium.webdriver.remote.webelement.WebElement (session=\"518dcfdbb077e78ea1f64cc6cbeb0e14\", element=\"ca179d50-aa58-4535-b696-cde4cc93f730\")>]"
      ]
     },
     "execution_count": 85,
     "metadata": {},
     "output_type": "execute_result"
    }
   ],
   "source": [
    "comment=driver.find_elements_by_class_name('_2-N8zT')\n",
    "comment"
   ]
  },
  {
   "cell_type": "code",
   "execution_count": 86,
   "id": "20c4a71e",
   "metadata": {},
   "outputs": [
    {
     "data": {
      "text/plain": [
       "10"
      ]
     },
     "execution_count": 86,
     "metadata": {},
     "output_type": "execute_result"
    }
   ],
   "source": [
    "len(comment)"
   ]
  },
  {
   "cell_type": "code",
   "execution_count": 87,
   "id": "b6498edc",
   "metadata": {
    "collapsed": true
   },
   "outputs": [
    {
     "data": {
      "text/plain": [
       "['Brilliant',\n",
       " 'Simply awesome',\n",
       " 'Best in the market!',\n",
       " 'Perfect product!',\n",
       " 'Fabulous!',\n",
       " 'Worth every penny',\n",
       " 'Great product',\n",
       " 'Good choice',\n",
       " 'Worth every penny',\n",
       " 'Highly recommended']"
      ]
     },
     "execution_count": 87,
     "metadata": {},
     "output_type": "execute_result"
    }
   ],
   "source": [
    "comments_1=[]\n",
    "\n",
    "for i in comment:\n",
    "    comments_1.append(i.text)\n",
    "    \n",
    "comments_1[0:10]"
   ]
  },
  {
   "cell_type": "code",
   "execution_count": 88,
   "id": "959f5962",
   "metadata": {
    "collapsed": true
   },
   "outputs": [
    {
     "data": {
      "text/plain": [
       "[<selenium.webdriver.remote.webelement.WebElement (session=\"518dcfdbb077e78ea1f64cc6cbeb0e14\", element=\"978808df-cce0-4b86-b2db-f97be538c1e4\")>,\n",
       " <selenium.webdriver.remote.webelement.WebElement (session=\"518dcfdbb077e78ea1f64cc6cbeb0e14\", element=\"646b9f2b-536c-4e9e-8331-3b55cebe96b7\")>,\n",
       " <selenium.webdriver.remote.webelement.WebElement (session=\"518dcfdbb077e78ea1f64cc6cbeb0e14\", element=\"1e18ecbb-146d-4216-8f10-8766a64484b0\")>,\n",
       " <selenium.webdriver.remote.webelement.WebElement (session=\"518dcfdbb077e78ea1f64cc6cbeb0e14\", element=\"3445c435-9e57-4265-a52b-56dab9ef09ef\")>,\n",
       " <selenium.webdriver.remote.webelement.WebElement (session=\"518dcfdbb077e78ea1f64cc6cbeb0e14\", element=\"e1c52947-44f5-4619-bf70-569a495bba32\")>,\n",
       " <selenium.webdriver.remote.webelement.WebElement (session=\"518dcfdbb077e78ea1f64cc6cbeb0e14\", element=\"e8de7f1d-dbce-48db-becf-018cce205b54\")>,\n",
       " <selenium.webdriver.remote.webelement.WebElement (session=\"518dcfdbb077e78ea1f64cc6cbeb0e14\", element=\"7a6fda2b-ad37-4828-bad7-2af62bc5d37d\")>,\n",
       " <selenium.webdriver.remote.webelement.WebElement (session=\"518dcfdbb077e78ea1f64cc6cbeb0e14\", element=\"f4ee7be1-4be1-46f8-937c-811e0038af25\")>,\n",
       " <selenium.webdriver.remote.webelement.WebElement (session=\"518dcfdbb077e78ea1f64cc6cbeb0e14\", element=\"5112caf5-83b5-4e1f-8456-7306b750e2d1\")>,\n",
       " <selenium.webdriver.remote.webelement.WebElement (session=\"518dcfdbb077e78ea1f64cc6cbeb0e14\", element=\"836be402-392f-443b-9b0a-5b085b988308\")>]"
      ]
     },
     "execution_count": 88,
     "metadata": {},
     "output_type": "execute_result"
    }
   ],
   "source": [
    "review=driver.find_elements_by_class_name('t-ZTKy')\n",
    "review"
   ]
  },
  {
   "cell_type": "code",
   "execution_count": 89,
   "id": "cd1e4301",
   "metadata": {},
   "outputs": [
    {
     "data": {
      "text/plain": [
       "10"
      ]
     },
     "execution_count": 89,
     "metadata": {},
     "output_type": "execute_result"
    }
   ],
   "source": [
    "len(review)"
   ]
  },
  {
   "cell_type": "code",
   "execution_count": 90,
   "id": "b0f3be1d",
   "metadata": {
    "collapsed": true
   },
   "outputs": [
    {
     "data": {
      "text/plain": [
       "['The Best Phone for the Money\\n\\nThe iPhone 11 offers superb cameras, a more durable design and excellent battery life for an affordable price.\\n\\nCompelling ultra-wide camera\\nNew Night mode is excellent\\nLong battery life',\n",
       " 'Really satisfied with the Product I received... It’s totally genuine and the packaging was also really good so if ur planning to buy just go for it.',\n",
       " 'Great iPhone very snappy experience as apple kind. Upgraded from iPhone 7.\\nPros\\n-Camera top class\\n- Battery top performed\\n-Chipset no need to say as apple kind\\n-Security as you expect from apple\\n- Display super bright industry leading colour\\naccuracy and super responsive\\n-Build quality as expect from apple sturdy\\npremium durable beautiful stylish.\\n-Os most stable os in smartphone industry\\n\\nCons\\n-No 5G\\n-Display is not based on OLED technology\\n-Charger headphones and 1 apple stic...\\nREAD MORE',\n",
       " 'Amazing phone with great cameras and better battery which gives you the best performance. I just love the camera .',\n",
       " 'This is my first iOS phone. I am very happy with this product. Very much satisfied with this. I love this phone.',\n",
       " 'Previously I was using one plus 3t it was a great phone\\nAnd then I decided to upgrade I am stuck between Samsung s10 plus or iPhone 11\\nI have seen the specs and everything were good except the display it’s somewhere between 720-1080 and it’s not even an amoled it’s an LCD display\\nBut I decided to go with iPhone because I have never used an IOS device I have Been an android user from the past 9 years I ordered IPhone 11 (128gb) product red\\nMy experience after using 3 weeks\\n1. The delivery ...\\nREAD MORE',\n",
       " 'Amazing Powerful and Durable Gadget.\\n\\nI’m am very happy with the camera picture quality, Amazing face id unlocked in dark room, Strong battery with perfect screen size as you can carry easily in pocket. This is my third iPhone.\\n\\nI shifted from android Samsung Note series to iPhone because of the strong build quality and peace of mind for next 3-4 years.\\n\\nDon’t think to much just go for it and I suggest you to go for minimum 128gb variant or more 256gb.\\n\\nI’ve attached my puppy pics and no fi...\\nREAD MORE',\n",
       " 'So far it’s been an AMAZING experience coming back to iOS after nearly a decade but it’s not as versatile as android though phone is sturdy dropped it accidentally a couple of times and nothing happened fortunately camera is awesome',\n",
       " 'i11 is worthy to buy, too much happy with the product. Thank u flipkart I received the item on time..loved it..',\n",
       " 'What a camera .....just awesome ..you can feel this iPhone just awesome . Good for gaming also ...try pubg in hd it’s just wow']"
      ]
     },
     "execution_count": 90,
     "metadata": {},
     "output_type": "execute_result"
    }
   ],
   "source": [
    "reviews_1=[]\n",
    "\n",
    "for i in review:\n",
    "    reviews_1.append(i.text)\n",
    "    \n",
    "reviews_1[0:10]"
   ]
  },
  {
   "cell_type": "code",
   "execution_count": null,
   "id": "8142bf28",
   "metadata": {},
   "outputs": [],
   "source": []
  },
  {
   "cell_type": "code",
   "execution_count": null,
   "id": "e2190dd0",
   "metadata": {},
   "outputs": [],
   "source": []
  },
  {
   "cell_type": "code",
   "execution_count": 91,
   "id": "5e346b5b",
   "metadata": {
    "collapsed": true
   },
   "outputs": [
    {
     "data": {
      "text/html": [
       "<div>\n",
       "<style scoped>\n",
       "    .dataframe tbody tr th:only-of-type {\n",
       "        vertical-align: middle;\n",
       "    }\n",
       "\n",
       "    .dataframe tbody tr th {\n",
       "        vertical-align: top;\n",
       "    }\n",
       "\n",
       "    .dataframe thead th {\n",
       "        text-align: right;\n",
       "    }\n",
       "</style>\n",
       "<table border=\"1\" class=\"dataframe\">\n",
       "  <thead>\n",
       "    <tr style=\"text-align: right;\">\n",
       "      <th></th>\n",
       "      <th>Rating</th>\n",
       "      <th>Review Summary</th>\n",
       "      <th>Full Review</th>\n",
       "    </tr>\n",
       "  </thead>\n",
       "  <tbody>\n",
       "    <tr>\n",
       "      <th>0</th>\n",
       "      <td>5</td>\n",
       "      <td>Brilliant</td>\n",
       "      <td>The Best Phone for the Money\\n\\nThe iPhone 11 ...</td>\n",
       "    </tr>\n",
       "    <tr>\n",
       "      <th>1</th>\n",
       "      <td>5</td>\n",
       "      <td>Simply awesome</td>\n",
       "      <td>Really satisfied with the Product I received.....</td>\n",
       "    </tr>\n",
       "    <tr>\n",
       "      <th>2</th>\n",
       "      <td>5</td>\n",
       "      <td>Best in the market!</td>\n",
       "      <td>Great iPhone very snappy experience as apple k...</td>\n",
       "    </tr>\n",
       "    <tr>\n",
       "      <th>3</th>\n",
       "      <td>5</td>\n",
       "      <td>Perfect product!</td>\n",
       "      <td>Amazing phone with great cameras and better ba...</td>\n",
       "    </tr>\n",
       "    <tr>\n",
       "      <th>4</th>\n",
       "      <td>5</td>\n",
       "      <td>Fabulous!</td>\n",
       "      <td>This is my first iOS phone. I am very happy wi...</td>\n",
       "    </tr>\n",
       "    <tr>\n",
       "      <th>5</th>\n",
       "      <td>5</td>\n",
       "      <td>Worth every penny</td>\n",
       "      <td>Previously I was using one plus 3t it was a gr...</td>\n",
       "    </tr>\n",
       "    <tr>\n",
       "      <th>6</th>\n",
       "      <td>5</td>\n",
       "      <td>Great product</td>\n",
       "      <td>Amazing Powerful and Durable Gadget.\\n\\nI’m am...</td>\n",
       "    </tr>\n",
       "    <tr>\n",
       "      <th>7</th>\n",
       "      <td>4</td>\n",
       "      <td>Good choice</td>\n",
       "      <td>So far it’s been an AMAZING experience coming ...</td>\n",
       "    </tr>\n",
       "    <tr>\n",
       "      <th>8</th>\n",
       "      <td>5</td>\n",
       "      <td>Worth every penny</td>\n",
       "      <td>i11 is worthy to buy, too much happy with the ...</td>\n",
       "    </tr>\n",
       "    <tr>\n",
       "      <th>9</th>\n",
       "      <td>5</td>\n",
       "      <td>Highly recommended</td>\n",
       "      <td>What a camera .....just awesome ..you can feel...</td>\n",
       "    </tr>\n",
       "  </tbody>\n",
       "</table>\n",
       "</div>"
      ],
      "text/plain": [
       "  Rating       Review Summary  \\\n",
       "0      5            Brilliant   \n",
       "1      5       Simply awesome   \n",
       "2      5  Best in the market!   \n",
       "3      5     Perfect product!   \n",
       "4      5            Fabulous!   \n",
       "5      5    Worth every penny   \n",
       "6      5        Great product   \n",
       "7      4          Good choice   \n",
       "8      5    Worth every penny   \n",
       "9      5   Highly recommended   \n",
       "\n",
       "                                         Full Review  \n",
       "0  The Best Phone for the Money\\n\\nThe iPhone 11 ...  \n",
       "1  Really satisfied with the Product I received.....  \n",
       "2  Great iPhone very snappy experience as apple k...  \n",
       "3  Amazing phone with great cameras and better ba...  \n",
       "4  This is my first iOS phone. I am very happy wi...  \n",
       "5  Previously I was using one plus 3t it was a gr...  \n",
       "6  Amazing Powerful and Durable Gadget.\\n\\nI’m am...  \n",
       "7  So far it’s been an AMAZING experience coming ...  \n",
       "8  i11 is worthy to buy, too much happy with the ...  \n",
       "9  What a camera .....just awesome ..you can feel...  "
      ]
     },
     "execution_count": 91,
     "metadata": {},
     "output_type": "execute_result"
    }
   ],
   "source": [
    "iphonerev=pd.DataFrame()\n",
    "iphonerev['Rating']=ratings_1\n",
    "iphonerev['Review Summary']=comments_1\n",
    "iphonerev['Full Review']=reviews_1\n",
    "\n",
    "iphonerev"
   ]
  },
  {
   "cell_type": "code",
   "execution_count": null,
   "id": "5941341a",
   "metadata": {},
   "outputs": [],
   "source": []
  },
  {
   "cell_type": "code",
   "execution_count": 92,
   "id": "2f2be40a",
   "metadata": {},
   "outputs": [],
   "source": [
    "driver.execute_script(\"window.scrollBy(0,1000)\",\"\")"
   ]
  },
  {
   "cell_type": "code",
   "execution_count": null,
   "id": "ee59f7ab",
   "metadata": {},
   "outputs": [],
   "source": []
  },
  {
   "cell_type": "code",
   "execution_count": 94,
   "id": "915d5ec2",
   "metadata": {},
   "outputs": [],
   "source": [
    "driver.execute_script(\"window.scrollBy(0,1000)\",\"\")"
   ]
  },
  {
   "cell_type": "code",
   "execution_count": 95,
   "id": "13b6fbb1",
   "metadata": {},
   "outputs": [
    {
     "data": {
      "text/plain": [
       "<selenium.webdriver.remote.webelement.WebElement (session=\"518dcfdbb077e78ea1f64cc6cbeb0e14\", element=\"461c583d-5158-453f-b765-341a194a5478\")>"
      ]
     },
     "execution_count": 95,
     "metadata": {},
     "output_type": "execute_result"
    }
   ],
   "source": [
    "page2=driver.find_element_by_xpath('/html/body/div[1]/div/div[3]/div/div/div[2]/div[13]/div/div/nav/a[2]')\n",
    "page2"
   ]
  },
  {
   "cell_type": "code",
   "execution_count": 96,
   "id": "f62c7889",
   "metadata": {},
   "outputs": [],
   "source": [
    "page2.click()"
   ]
  },
  {
   "cell_type": "code",
   "execution_count": 97,
   "id": "61b2154b",
   "metadata": {
    "collapsed": true
   },
   "outputs": [
    {
     "data": {
      "text/plain": [
       "[<selenium.webdriver.remote.webelement.WebElement (session=\"518dcfdbb077e78ea1f64cc6cbeb0e14\", element=\"502ce134-36fd-4a19-9c16-e6aefae608c7\")>,\n",
       " <selenium.webdriver.remote.webelement.WebElement (session=\"518dcfdbb077e78ea1f64cc6cbeb0e14\", element=\"3ee2f531-07bb-45a5-9563-25aa8d1b95ce\")>,\n",
       " <selenium.webdriver.remote.webelement.WebElement (session=\"518dcfdbb077e78ea1f64cc6cbeb0e14\", element=\"ed6d9a06-d066-4514-a3f3-ff9c406222c8\")>,\n",
       " <selenium.webdriver.remote.webelement.WebElement (session=\"518dcfdbb077e78ea1f64cc6cbeb0e14\", element=\"06762585-4701-47ad-a736-93cf05329063\")>,\n",
       " <selenium.webdriver.remote.webelement.WebElement (session=\"518dcfdbb077e78ea1f64cc6cbeb0e14\", element=\"d9881505-e7cd-4925-a1ad-a0ed84657bb6\")>,\n",
       " <selenium.webdriver.remote.webelement.WebElement (session=\"518dcfdbb077e78ea1f64cc6cbeb0e14\", element=\"8bea78fa-41bc-49e9-a87d-681e03159943\")>,\n",
       " <selenium.webdriver.remote.webelement.WebElement (session=\"518dcfdbb077e78ea1f64cc6cbeb0e14\", element=\"66b8d0f6-655a-4569-933a-67afc78bce34\")>,\n",
       " <selenium.webdriver.remote.webelement.WebElement (session=\"518dcfdbb077e78ea1f64cc6cbeb0e14\", element=\"c12305d1-e3e0-44b2-a6f0-a625ec3fdbc5\")>,\n",
       " <selenium.webdriver.remote.webelement.WebElement (session=\"518dcfdbb077e78ea1f64cc6cbeb0e14\", element=\"93852791-d032-4973-9178-17510486964b\")>,\n",
       " <selenium.webdriver.remote.webelement.WebElement (session=\"518dcfdbb077e78ea1f64cc6cbeb0e14\", element=\"93864637-f110-45ca-b2ef-774b110697a0\")>]"
      ]
     },
     "execution_count": 97,
     "metadata": {},
     "output_type": "execute_result"
    }
   ],
   "source": [
    "rating2=driver.find_elements_by_class_name('_1BLPMq')\n",
    "rating2"
   ]
  },
  {
   "cell_type": "code",
   "execution_count": 98,
   "id": "d31681a1",
   "metadata": {},
   "outputs": [
    {
     "data": {
      "text/plain": [
       "10"
      ]
     },
     "execution_count": 98,
     "metadata": {},
     "output_type": "execute_result"
    }
   ],
   "source": [
    "len(rating2)"
   ]
  },
  {
   "cell_type": "code",
   "execution_count": 99,
   "id": "9f3c3b96",
   "metadata": {},
   "outputs": [
    {
     "data": {
      "text/plain": [
       "['5', '5', '5', '5', '5', '5', '5', '5', '5', '5']"
      ]
     },
     "execution_count": 99,
     "metadata": {},
     "output_type": "execute_result"
    }
   ],
   "source": [
    "ratings_2=[]\n",
    "\n",
    "for i in rating2:\n",
    "    ratings_2.append(i.text)\n",
    "    \n",
    "ratings_2[0:10]"
   ]
  },
  {
   "cell_type": "code",
   "execution_count": 100,
   "id": "91a861b5",
   "metadata": {
    "collapsed": true
   },
   "outputs": [
    {
     "data": {
      "text/plain": [
       "[<selenium.webdriver.remote.webelement.WebElement (session=\"518dcfdbb077e78ea1f64cc6cbeb0e14\", element=\"6fe3f869-7899-449b-a0ff-292addd4e352\")>,\n",
       " <selenium.webdriver.remote.webelement.WebElement (session=\"518dcfdbb077e78ea1f64cc6cbeb0e14\", element=\"e25ae01c-f02b-41fc-9ffb-77deb85d4377\")>,\n",
       " <selenium.webdriver.remote.webelement.WebElement (session=\"518dcfdbb077e78ea1f64cc6cbeb0e14\", element=\"44c52df8-0f46-41be-8a8c-da12fd7c3f68\")>,\n",
       " <selenium.webdriver.remote.webelement.WebElement (session=\"518dcfdbb077e78ea1f64cc6cbeb0e14\", element=\"9edf6bfb-b681-40ad-b439-f4439b7bf982\")>,\n",
       " <selenium.webdriver.remote.webelement.WebElement (session=\"518dcfdbb077e78ea1f64cc6cbeb0e14\", element=\"6ac954b6-a779-4a95-9f1c-45694f4c3798\")>,\n",
       " <selenium.webdriver.remote.webelement.WebElement (session=\"518dcfdbb077e78ea1f64cc6cbeb0e14\", element=\"cff6203c-8087-4f83-a276-00f9bf896b82\")>,\n",
       " <selenium.webdriver.remote.webelement.WebElement (session=\"518dcfdbb077e78ea1f64cc6cbeb0e14\", element=\"07c81430-8c11-4b27-bbdf-1090f7e1d371\")>,\n",
       " <selenium.webdriver.remote.webelement.WebElement (session=\"518dcfdbb077e78ea1f64cc6cbeb0e14\", element=\"a8496785-c030-4b47-9493-2fb54279d099\")>,\n",
       " <selenium.webdriver.remote.webelement.WebElement (session=\"518dcfdbb077e78ea1f64cc6cbeb0e14\", element=\"f079ae8b-3c1d-407f-9cdf-fa66125e47ca\")>,\n",
       " <selenium.webdriver.remote.webelement.WebElement (session=\"518dcfdbb077e78ea1f64cc6cbeb0e14\", element=\"4c01e68c-481e-47a8-9b4d-e10040bf1453\")>]"
      ]
     },
     "execution_count": 100,
     "metadata": {},
     "output_type": "execute_result"
    }
   ],
   "source": [
    "comment2=driver.find_elements_by_class_name('_2-N8zT')\n",
    "comment2"
   ]
  },
  {
   "cell_type": "code",
   "execution_count": 102,
   "id": "d8d17c9b",
   "metadata": {},
   "outputs": [
    {
     "data": {
      "text/plain": [
       "10"
      ]
     },
     "execution_count": 102,
     "metadata": {},
     "output_type": "execute_result"
    }
   ],
   "source": [
    "len(comment2)"
   ]
  },
  {
   "cell_type": "code",
   "execution_count": 103,
   "id": "d6c0c4ba",
   "metadata": {
    "collapsed": true
   },
   "outputs": [
    {
     "data": {
      "text/plain": [
       "['Highly recommended',\n",
       " 'Perfect product!',\n",
       " 'Perfect product!',\n",
       " 'Highly recommended',\n",
       " 'Perfect product!',\n",
       " 'Worth every penny',\n",
       " 'Classy product',\n",
       " 'Worth every penny',\n",
       " 'Wonderful',\n",
       " 'Terrific']"
      ]
     },
     "execution_count": 103,
     "metadata": {},
     "output_type": "execute_result"
    }
   ],
   "source": [
    "comments_2=[]\n",
    "\n",
    "for i in comment2:\n",
    "    comments_2.append(i.text)\n",
    "    \n",
    "comments_2[0:10]"
   ]
  },
  {
   "cell_type": "code",
   "execution_count": 104,
   "id": "f67c8d0b",
   "metadata": {
    "collapsed": true
   },
   "outputs": [
    {
     "data": {
      "text/plain": [
       "[<selenium.webdriver.remote.webelement.WebElement (session=\"518dcfdbb077e78ea1f64cc6cbeb0e14\", element=\"022cf2b0-efcf-480d-8cf4-52aa968b1c4c\")>,\n",
       " <selenium.webdriver.remote.webelement.WebElement (session=\"518dcfdbb077e78ea1f64cc6cbeb0e14\", element=\"ababcdd7-1a2d-4974-9209-7fb19edb8633\")>,\n",
       " <selenium.webdriver.remote.webelement.WebElement (session=\"518dcfdbb077e78ea1f64cc6cbeb0e14\", element=\"5a998913-20b4-4542-bbe1-0de5a4d899e1\")>,\n",
       " <selenium.webdriver.remote.webelement.WebElement (session=\"518dcfdbb077e78ea1f64cc6cbeb0e14\", element=\"7f31248e-b52c-463e-b8ac-0977233facc3\")>,\n",
       " <selenium.webdriver.remote.webelement.WebElement (session=\"518dcfdbb077e78ea1f64cc6cbeb0e14\", element=\"551ac09e-d53a-422f-b158-fa5e063be470\")>,\n",
       " <selenium.webdriver.remote.webelement.WebElement (session=\"518dcfdbb077e78ea1f64cc6cbeb0e14\", element=\"0282f0db-3ce8-4486-b13a-e87d62010f4f\")>,\n",
       " <selenium.webdriver.remote.webelement.WebElement (session=\"518dcfdbb077e78ea1f64cc6cbeb0e14\", element=\"c087bf08-facd-4808-9510-bb336c404c1d\")>,\n",
       " <selenium.webdriver.remote.webelement.WebElement (session=\"518dcfdbb077e78ea1f64cc6cbeb0e14\", element=\"a5c1b1fa-3299-48c7-9a21-4460a4f9ba8f\")>,\n",
       " <selenium.webdriver.remote.webelement.WebElement (session=\"518dcfdbb077e78ea1f64cc6cbeb0e14\", element=\"67cbbad0-f876-4b22-8e7d-df6cabdfd4b0\")>,\n",
       " <selenium.webdriver.remote.webelement.WebElement (session=\"518dcfdbb077e78ea1f64cc6cbeb0e14\", element=\"77989e1e-e5e2-40ba-80de-7ad9cdd51098\")>]"
      ]
     },
     "execution_count": 104,
     "metadata": {},
     "output_type": "execute_result"
    }
   ],
   "source": [
    "review2=driver.find_elements_by_class_name('t-ZTKy')\n",
    "review2"
   ]
  },
  {
   "cell_type": "code",
   "execution_count": 105,
   "id": "a1125cdf",
   "metadata": {},
   "outputs": [
    {
     "data": {
      "text/plain": [
       "10"
      ]
     },
     "execution_count": 105,
     "metadata": {},
     "output_type": "execute_result"
    }
   ],
   "source": [
    "len(review2)"
   ]
  },
  {
   "cell_type": "code",
   "execution_count": 106,
   "id": "12043e94",
   "metadata": {
    "collapsed": true
   },
   "outputs": [
    {
     "data": {
      "text/plain": [
       "['iphone 11 is a very good phone to buy only if you can compromise for the display. The display on this is device is pretty good but you can get other options with better displays in this price segment.\\nIf you can survive with an HD+ LCD panel with thicker bezels and a notch up top then this is a very good phone for you.\\nCameras are awesome, battery backup excellent, great performance and a decent premium look. Good job Apple !',\n",
       " 'It’s a must buy who is looking for an upgrade from previous generation of iPhones. If you are using XR then still you can hold on for sometime and upgrade to 2020 model else this phone is a must buy . Camera quality is amazing and wide angle is something to count upon. Performance wise it’s amazing and feels premium while holding in hand. So a big YES for this device. Go for 128 GB variant as the 4K videos will occupy lots of space and the storage can get over very quickly. Try to buy it with...\\nREAD MORE',\n",
       " 'Value for money❤️❤️\\nIts awesome mobile phone in the world ...\\nDisplay was very good and bright ..\\nTrust me freinds you r never regret after Buying..\\nJust go for it....\\nI love this phone and i switch to iphone x to 11',\n",
       " \"It's my first time to use iOS phone and I am loving my upgradation 😍😍 I love the color, I love the assebility of the phone....I need to learn more about its functionality, but as far as I have seen, it's quite easy and it has a lot of functions to work on, specially if you are a content writer or a blogger you get a lot of content creation platforms and they are really amazing.\\n\\nThis phone not only for good quality photography but a lot of other task too.😍💯\",\n",
       " \"Iphone is just awesome.. battery backup is very very nice.. continuously for 10 hours we can use it.camera is just awesome.. display is just fab.i love it alot..i had to wait 15 days for it as i pre ordered it..overalll it's worth the price..these all images are clicked by my iPhone..and i love it.\",\n",
       " 'Best budget Iphone till date ❤️ go for it guys without second thought. Let me explain you guys about Camera, Display, battery, and performance.\\n\\nCamera: at this price range there is no comparison of camera, you’ll love the picture quality as well as video quality. I am a Vlogger I wanted an iPhone with 4k video by front camera and I got this phone and I am more than happy 😃\\n\\nBattery: I use this phone roughly as I am active social media person and I have a youtube channel. so the battery ba...\\nREAD MORE',\n",
       " 'Totally in love with this ❤ the camera quality is amazing just love it 😘😘😘 itsss dammnnnnnn amazing... Must buy iPhone 11 this is my best experience ever ☀👌👌🧡🧡🧡🧡🧡 thanku apple ❤',\n",
       " 'It’s been almost a month since I have been using this phone. I upgraded from an iPhone 8. The main issue with my 8 was battery and this phone is just awesome when it comes to battery. It lasts a day and a half for me with my regular use , internet connected always with 4g\\nCan’t move forward without saying this. Battery of this phone is a life saver when I am traveling or at work when I don’t get the option to charge\\nCamera is superb. Front cam selfies and back cam photos are just awesome.\\n...\\nREAD MORE',\n",
       " 'This is my first ever I phone. Before this I was using my google nexus 5. But moving from android to iOS is a great experience. It’s worth at this price. I will highly recommend it if you want to move to iOS. The best part of this phone is it’s camera and it’s battery life. This two things have won my heart. I loved it. Happy to have it in my hand. Still exploring its features. And can’t forget to mention Flipkart service. Very prompt service and fast delivery.',\n",
       " 'Really worth of money. i just love it. It is the best phone ever.']"
      ]
     },
     "execution_count": 106,
     "metadata": {},
     "output_type": "execute_result"
    }
   ],
   "source": [
    "reviews_2=[]\n",
    "\n",
    "for i in review2:\n",
    "    reviews_2.append(i.text)\n",
    "    \n",
    "reviews_2"
   ]
  },
  {
   "cell_type": "code",
   "execution_count": 107,
   "id": "7d11eb97",
   "metadata": {},
   "outputs": [
    {
     "data": {
      "text/plain": [
       "10"
      ]
     },
     "execution_count": 107,
     "metadata": {},
     "output_type": "execute_result"
    }
   ],
   "source": [
    "len(reviews_2)"
   ]
  },
  {
   "cell_type": "code",
   "execution_count": 108,
   "id": "527a0fb6",
   "metadata": {
    "collapsed": true
   },
   "outputs": [
    {
     "data": {
      "text/html": [
       "<div>\n",
       "<style scoped>\n",
       "    .dataframe tbody tr th:only-of-type {\n",
       "        vertical-align: middle;\n",
       "    }\n",
       "\n",
       "    .dataframe tbody tr th {\n",
       "        vertical-align: top;\n",
       "    }\n",
       "\n",
       "    .dataframe thead th {\n",
       "        text-align: right;\n",
       "    }\n",
       "</style>\n",
       "<table border=\"1\" class=\"dataframe\">\n",
       "  <thead>\n",
       "    <tr style=\"text-align: right;\">\n",
       "      <th></th>\n",
       "      <th>Rating</th>\n",
       "      <th>Review Summary</th>\n",
       "      <th>Full Review</th>\n",
       "    </tr>\n",
       "  </thead>\n",
       "  <tbody>\n",
       "    <tr>\n",
       "      <th>0</th>\n",
       "      <td>5</td>\n",
       "      <td>Highly recommended</td>\n",
       "      <td>iphone 11 is a very good phone to buy only if ...</td>\n",
       "    </tr>\n",
       "    <tr>\n",
       "      <th>1</th>\n",
       "      <td>5</td>\n",
       "      <td>Perfect product!</td>\n",
       "      <td>It’s a must buy who is looking for an upgrade ...</td>\n",
       "    </tr>\n",
       "    <tr>\n",
       "      <th>2</th>\n",
       "      <td>5</td>\n",
       "      <td>Perfect product!</td>\n",
       "      <td>Value for money❤️❤️\\nIts awesome mobile phone ...</td>\n",
       "    </tr>\n",
       "    <tr>\n",
       "      <th>3</th>\n",
       "      <td>5</td>\n",
       "      <td>Highly recommended</td>\n",
       "      <td>It's my first time to use iOS phone and I am l...</td>\n",
       "    </tr>\n",
       "    <tr>\n",
       "      <th>4</th>\n",
       "      <td>5</td>\n",
       "      <td>Perfect product!</td>\n",
       "      <td>Iphone is just awesome.. battery backup is ver...</td>\n",
       "    </tr>\n",
       "    <tr>\n",
       "      <th>5</th>\n",
       "      <td>5</td>\n",
       "      <td>Worth every penny</td>\n",
       "      <td>Best budget Iphone till date ❤️ go for it guys...</td>\n",
       "    </tr>\n",
       "    <tr>\n",
       "      <th>6</th>\n",
       "      <td>5</td>\n",
       "      <td>Classy product</td>\n",
       "      <td>Totally in love with this ❤ the camera quality...</td>\n",
       "    </tr>\n",
       "    <tr>\n",
       "      <th>7</th>\n",
       "      <td>5</td>\n",
       "      <td>Worth every penny</td>\n",
       "      <td>It’s been almost a month since I have been usi...</td>\n",
       "    </tr>\n",
       "    <tr>\n",
       "      <th>8</th>\n",
       "      <td>5</td>\n",
       "      <td>Wonderful</td>\n",
       "      <td>This is my first ever I phone. Before this I w...</td>\n",
       "    </tr>\n",
       "    <tr>\n",
       "      <th>9</th>\n",
       "      <td>5</td>\n",
       "      <td>Terrific</td>\n",
       "      <td>Really worth of money. i just love it. It is t...</td>\n",
       "    </tr>\n",
       "  </tbody>\n",
       "</table>\n",
       "</div>"
      ],
      "text/plain": [
       "  Rating      Review Summary  \\\n",
       "0      5  Highly recommended   \n",
       "1      5    Perfect product!   \n",
       "2      5    Perfect product!   \n",
       "3      5  Highly recommended   \n",
       "4      5    Perfect product!   \n",
       "5      5   Worth every penny   \n",
       "6      5      Classy product   \n",
       "7      5   Worth every penny   \n",
       "8      5           Wonderful   \n",
       "9      5            Terrific   \n",
       "\n",
       "                                         Full Review  \n",
       "0  iphone 11 is a very good phone to buy only if ...  \n",
       "1  It’s a must buy who is looking for an upgrade ...  \n",
       "2  Value for money❤️❤️\\nIts awesome mobile phone ...  \n",
       "3  It's my first time to use iOS phone and I am l...  \n",
       "4  Iphone is just awesome.. battery backup is ver...  \n",
       "5  Best budget Iphone till date ❤️ go for it guys...  \n",
       "6  Totally in love with this ❤ the camera quality...  \n",
       "7  It’s been almost a month since I have been usi...  \n",
       "8  This is my first ever I phone. Before this I w...  \n",
       "9  Really worth of money. i just love it. It is t...  "
      ]
     },
     "execution_count": 108,
     "metadata": {},
     "output_type": "execute_result"
    }
   ],
   "source": [
    "iphonerev_2=pd.DataFrame()\n",
    "iphonerev_2['Rating']=ratings_2\n",
    "iphonerev_2['Review Summary']=comments_2\n",
    "iphonerev_2['Full Review']=reviews_2\n",
    "\n",
    "iphonerev_2"
   ]
  },
  {
   "cell_type": "code",
   "execution_count": 111,
   "id": "658dec02",
   "metadata": {},
   "outputs": [],
   "source": [
    "driver.execute_script(\"window.scrollBy(0,1000)\",\"\")"
   ]
  },
  {
   "cell_type": "code",
   "execution_count": 112,
   "id": "3ac29a5a",
   "metadata": {},
   "outputs": [
    {
     "data": {
      "text/plain": [
       "<selenium.webdriver.remote.webelement.WebElement (session=\"518dcfdbb077e78ea1f64cc6cbeb0e14\", element=\"a1c59415-b9ff-41ef-b4a0-d87f747565b6\")>"
      ]
     },
     "execution_count": 112,
     "metadata": {},
     "output_type": "execute_result"
    }
   ],
   "source": [
    "page3=driver.find_element_by_xpath('/html/body/div[1]/div/div[3]/div/div/div[2]/div[13]/div/div/nav/a[4]')\n",
    "page3"
   ]
  },
  {
   "cell_type": "code",
   "execution_count": 113,
   "id": "62eb58ee",
   "metadata": {},
   "outputs": [],
   "source": [
    "page3.click()"
   ]
  },
  {
   "cell_type": "code",
   "execution_count": 114,
   "id": "d5276484",
   "metadata": {
    "collapsed": true
   },
   "outputs": [
    {
     "data": {
      "text/plain": [
       "[<selenium.webdriver.remote.webelement.WebElement (session=\"518dcfdbb077e78ea1f64cc6cbeb0e14\", element=\"fb32664c-514d-4e90-877c-01007855456d\")>,\n",
       " <selenium.webdriver.remote.webelement.WebElement (session=\"518dcfdbb077e78ea1f64cc6cbeb0e14\", element=\"216388c7-20f3-4781-b972-a4ea8a4bb032\")>,\n",
       " <selenium.webdriver.remote.webelement.WebElement (session=\"518dcfdbb077e78ea1f64cc6cbeb0e14\", element=\"b1091c47-cd6e-4333-b174-2091cfd6346e\")>,\n",
       " <selenium.webdriver.remote.webelement.WebElement (session=\"518dcfdbb077e78ea1f64cc6cbeb0e14\", element=\"57b68c36-9b32-4b75-af6f-fd26c0017207\")>,\n",
       " <selenium.webdriver.remote.webelement.WebElement (session=\"518dcfdbb077e78ea1f64cc6cbeb0e14\", element=\"ba58f5c9-8083-47a7-b3ec-b940c1b90e4c\")>,\n",
       " <selenium.webdriver.remote.webelement.WebElement (session=\"518dcfdbb077e78ea1f64cc6cbeb0e14\", element=\"b7354158-8a4c-408d-aa94-400f8fd1f942\")>,\n",
       " <selenium.webdriver.remote.webelement.WebElement (session=\"518dcfdbb077e78ea1f64cc6cbeb0e14\", element=\"cdc93b7f-19c9-4933-830a-c336446a3df5\")>,\n",
       " <selenium.webdriver.remote.webelement.WebElement (session=\"518dcfdbb077e78ea1f64cc6cbeb0e14\", element=\"87a14a6f-a1fa-40b0-be5a-9e433081501d\")>,\n",
       " <selenium.webdriver.remote.webelement.WebElement (session=\"518dcfdbb077e78ea1f64cc6cbeb0e14\", element=\"ab137397-6413-41fd-aefc-47aa15518d6f\")>,\n",
       " <selenium.webdriver.remote.webelement.WebElement (session=\"518dcfdbb077e78ea1f64cc6cbeb0e14\", element=\"6f343872-14b9-48c7-b3a4-362218ea0dfa\")>]"
      ]
     },
     "execution_count": 114,
     "metadata": {},
     "output_type": "execute_result"
    }
   ],
   "source": [
    "rating3=driver.find_elements_by_class_name('_1BLPMq')\n",
    "rating3"
   ]
  },
  {
   "cell_type": "code",
   "execution_count": 115,
   "id": "07d61775",
   "metadata": {},
   "outputs": [
    {
     "data": {
      "text/plain": [
       "10"
      ]
     },
     "execution_count": 115,
     "metadata": {},
     "output_type": "execute_result"
    }
   ],
   "source": [
    "len(rating3)"
   ]
  },
  {
   "cell_type": "code",
   "execution_count": 116,
   "id": "b9fb0d58",
   "metadata": {},
   "outputs": [
    {
     "data": {
      "text/plain": [
       "['5', '4', '5', '5', '5', '4', '5', '5', '5', '5']"
      ]
     },
     "execution_count": 116,
     "metadata": {},
     "output_type": "execute_result"
    }
   ],
   "source": [
    "ratings_3=[]\n",
    "\n",
    "for i in rating3:\n",
    "    ratings_3.append(i.text)\n",
    "    \n",
    "ratings_3[0:10]"
   ]
  },
  {
   "cell_type": "code",
   "execution_count": 117,
   "id": "c258f533",
   "metadata": {
    "collapsed": true
   },
   "outputs": [
    {
     "data": {
      "text/plain": [
       "[<selenium.webdriver.remote.webelement.WebElement (session=\"518dcfdbb077e78ea1f64cc6cbeb0e14\", element=\"5e9149c6-ffb0-425e-bbca-dde6b752a363\")>,\n",
       " <selenium.webdriver.remote.webelement.WebElement (session=\"518dcfdbb077e78ea1f64cc6cbeb0e14\", element=\"6cf8bfbc-e4ea-4500-8314-6f3dad79faa1\")>,\n",
       " <selenium.webdriver.remote.webelement.WebElement (session=\"518dcfdbb077e78ea1f64cc6cbeb0e14\", element=\"1c92b81d-4024-44cc-8f71-394e37cdd2ca\")>,\n",
       " <selenium.webdriver.remote.webelement.WebElement (session=\"518dcfdbb077e78ea1f64cc6cbeb0e14\", element=\"833b59e4-d937-409e-bdf7-72218ccae6ae\")>,\n",
       " <selenium.webdriver.remote.webelement.WebElement (session=\"518dcfdbb077e78ea1f64cc6cbeb0e14\", element=\"641eb9b5-cb1b-4d42-9c0c-44af911966fa\")>,\n",
       " <selenium.webdriver.remote.webelement.WebElement (session=\"518dcfdbb077e78ea1f64cc6cbeb0e14\", element=\"f4c3ffde-9e96-4c09-8be0-4f74e68e4bbe\")>,\n",
       " <selenium.webdriver.remote.webelement.WebElement (session=\"518dcfdbb077e78ea1f64cc6cbeb0e14\", element=\"c4032fed-d491-4e92-b525-c6e6a3a9b611\")>,\n",
       " <selenium.webdriver.remote.webelement.WebElement (session=\"518dcfdbb077e78ea1f64cc6cbeb0e14\", element=\"fcfb1530-545e-4b0b-8c84-aeb9927aa8cf\")>,\n",
       " <selenium.webdriver.remote.webelement.WebElement (session=\"518dcfdbb077e78ea1f64cc6cbeb0e14\", element=\"39e36497-bf8b-4ec7-b4eb-a6f655cb28fa\")>,\n",
       " <selenium.webdriver.remote.webelement.WebElement (session=\"518dcfdbb077e78ea1f64cc6cbeb0e14\", element=\"590b5a32-2c50-406b-a13f-7d1e315df1b2\")>]"
      ]
     },
     "execution_count": 117,
     "metadata": {},
     "output_type": "execute_result"
    }
   ],
   "source": [
    "comment3=driver.find_elements_by_class_name('_2-N8zT')\n",
    "comment3"
   ]
  },
  {
   "cell_type": "code",
   "execution_count": 118,
   "id": "31025115",
   "metadata": {},
   "outputs": [
    {
     "data": {
      "text/plain": [
       "10"
      ]
     },
     "execution_count": 118,
     "metadata": {},
     "output_type": "execute_result"
    }
   ],
   "source": [
    "len(comment3)"
   ]
  },
  {
   "cell_type": "code",
   "execution_count": 119,
   "id": "da7582c8",
   "metadata": {
    "collapsed": true
   },
   "outputs": [
    {
     "data": {
      "text/plain": [
       "['Worth every penny',\n",
       " 'Nice product',\n",
       " 'Perfect product!',\n",
       " 'Classy product',\n",
       " 'Brilliant',\n",
       " 'Good choice',\n",
       " 'Perfect product!',\n",
       " 'Wonderful',\n",
       " 'Terrific purchase',\n",
       " 'Terrific purchase']"
      ]
     },
     "execution_count": 119,
     "metadata": {},
     "output_type": "execute_result"
    }
   ],
   "source": [
    "comments_3=[]\n",
    "\n",
    "for i in comment3:\n",
    "    comments_3.append(i.text)\n",
    "    \n",
    "comments_3[0:10]"
   ]
  },
  {
   "cell_type": "code",
   "execution_count": 120,
   "id": "55ecd209",
   "metadata": {
    "collapsed": true
   },
   "outputs": [
    {
     "data": {
      "text/plain": [
       "[<selenium.webdriver.remote.webelement.WebElement (session=\"518dcfdbb077e78ea1f64cc6cbeb0e14\", element=\"f4f5b25b-e988-4a64-a049-1409e402c916\")>,\n",
       " <selenium.webdriver.remote.webelement.WebElement (session=\"518dcfdbb077e78ea1f64cc6cbeb0e14\", element=\"1d857f3d-bc64-4296-b08a-ff0f05455c3f\")>,\n",
       " <selenium.webdriver.remote.webelement.WebElement (session=\"518dcfdbb077e78ea1f64cc6cbeb0e14\", element=\"2c03901f-4a32-4787-9e31-000c1764c63d\")>,\n",
       " <selenium.webdriver.remote.webelement.WebElement (session=\"518dcfdbb077e78ea1f64cc6cbeb0e14\", element=\"2ab28cab-facb-4d70-93cd-3712dc9b86b3\")>,\n",
       " <selenium.webdriver.remote.webelement.WebElement (session=\"518dcfdbb077e78ea1f64cc6cbeb0e14\", element=\"b281509f-178d-4d31-9ed2-22a5448b4c65\")>,\n",
       " <selenium.webdriver.remote.webelement.WebElement (session=\"518dcfdbb077e78ea1f64cc6cbeb0e14\", element=\"bbc1af1e-f214-442a-b9fc-07ea8d177f69\")>,\n",
       " <selenium.webdriver.remote.webelement.WebElement (session=\"518dcfdbb077e78ea1f64cc6cbeb0e14\", element=\"ab18b8f6-f896-4807-b30e-f84346e40a4b\")>,\n",
       " <selenium.webdriver.remote.webelement.WebElement (session=\"518dcfdbb077e78ea1f64cc6cbeb0e14\", element=\"c2837ca0-df39-4cee-b5dd-c49ec7c7f961\")>,\n",
       " <selenium.webdriver.remote.webelement.WebElement (session=\"518dcfdbb077e78ea1f64cc6cbeb0e14\", element=\"e91db6bf-e263-4345-b47e-cadf4c5e117b\")>,\n",
       " <selenium.webdriver.remote.webelement.WebElement (session=\"518dcfdbb077e78ea1f64cc6cbeb0e14\", element=\"c58e18e9-3452-4b30-9c86-b69060792a84\")>]"
      ]
     },
     "execution_count": 120,
     "metadata": {},
     "output_type": "execute_result"
    }
   ],
   "source": [
    "review3=driver.find_elements_by_class_name('t-ZTKy')\n",
    "review3"
   ]
  },
  {
   "cell_type": "code",
   "execution_count": 121,
   "id": "ab139858",
   "metadata": {},
   "outputs": [
    {
     "data": {
      "text/plain": [
       "10"
      ]
     },
     "execution_count": 121,
     "metadata": {},
     "output_type": "execute_result"
    }
   ],
   "source": [
    "len(review3)"
   ]
  },
  {
   "cell_type": "code",
   "execution_count": 122,
   "id": "02186872",
   "metadata": {
    "collapsed": true
   },
   "outputs": [
    {
     "data": {
      "text/plain": [
       "['Smooth like butter, camera like fantabulous, sound is crystal clear & its red color is damn attractive, i am just loving it. Must buy if you love photography.\\n\\nLucky to get it in sale, thank you Flipkart.',\n",
       " 'Awesome Phone. Slightly high price but worth. Better than iPhone XR.\\nCamera is superb and wide angle camera is very clear.\\n12MP selfie camera is also very good.\\nA13 Chip gives a very good and smooth performance.',\n",
       " 'Battery backup is extraordinary, camera is decent & performance offered by A13 bionic is awsome. The display is good in practical usage like the visibility of display is very good in direct sun light compare to pro models. Iam extremely satisfied for the money I spent.',\n",
       " 'Superb Product !!!\\nA big and worthy upgrade from mi 3S to iphone 11 .\\nTotally loved it !',\n",
       " 'I have migrated from OP 7pro... and trust me, iPhone 11 is totally worth it.. following are the reasons:-\\n1)there is ABSOLUTELY NO ISSUE WITH THE DISPLAY... its crisp, sharp and I found it to be much much better than OP7 pro. Netflix, Prime video all run crisply... you won’t miss a thing. True Tone works flawlessly...the display brightness is perfect. OP have not calibrated their screens properly.\\n2) iPhone 11 series have really good cameras... others have spoken in depth about them.\\n3) bat...\\nREAD MORE',\n",
       " 'Looking so good 👍 😍 super 👌 stylish 😎 phone\\nClean box 📦 good 👍 delivery 👌 fast delivery\\nOriginal box Original iphone 📱 👌 😍😍😍',\n",
       " 'After 1 month use I found camera quality best compared to my previous Samsung note 10+.Display not good as note 10 also charging too slow.Apple should add fast charger like 11 plus and pro.Best phone for daily use',\n",
       " 'I just directly switch from iphone 6s to iphone 11 .The best premium smartphone I recommend to everyone. Excellent quality and colors the iphone have in 11 series.\\nCamera quality is just awesome and the major feel when we hold in our hands. The sound quality and volume is also higher then the previous models.\\nI will recommend to buy iphone 11 instead of pro models , there is nothing much difference as this model contains everything which fulfill our needs.\\n\\nOnly one thing that I dislike abo...\\nREAD MORE',\n",
       " 'Upgraded from iphone 6 to 11 best phone for iphone users battery is much better than other iphones camera is awesome love to use it.camera is so clear in night.',\n",
       " 'The built quality is not very premium.\\nThe battery back is great .\\nThe LCD panel is not so sharp but the brightness level is very High .\\nCamera is super duper awesome.\\nThe red colour which people think is bright is actually very soothing and excellent colour to choose from .\\nThe A13 Bionic chip is really a flagship processor and can beat any phone which even has 12 gb ram .\\nCamera module is very great and looks very stylish.']"
      ]
     },
     "execution_count": 122,
     "metadata": {},
     "output_type": "execute_result"
    }
   ],
   "source": [
    "reviews_3=[]\n",
    "\n",
    "for i in review3:\n",
    "    reviews_3.append(i.text)\n",
    "    \n",
    "reviews_3[0:10]"
   ]
  },
  {
   "cell_type": "code",
   "execution_count": 123,
   "id": "9becfce6",
   "metadata": {
    "collapsed": true
   },
   "outputs": [
    {
     "data": {
      "text/html": [
       "<div>\n",
       "<style scoped>\n",
       "    .dataframe tbody tr th:only-of-type {\n",
       "        vertical-align: middle;\n",
       "    }\n",
       "\n",
       "    .dataframe tbody tr th {\n",
       "        vertical-align: top;\n",
       "    }\n",
       "\n",
       "    .dataframe thead th {\n",
       "        text-align: right;\n",
       "    }\n",
       "</style>\n",
       "<table border=\"1\" class=\"dataframe\">\n",
       "  <thead>\n",
       "    <tr style=\"text-align: right;\">\n",
       "      <th></th>\n",
       "      <th>Rating</th>\n",
       "      <th>Review Summary</th>\n",
       "      <th>Full Review</th>\n",
       "    </tr>\n",
       "  </thead>\n",
       "  <tbody>\n",
       "    <tr>\n",
       "      <th>0</th>\n",
       "      <td>5</td>\n",
       "      <td>Worth every penny</td>\n",
       "      <td>Smooth like butter, camera like fantabulous, s...</td>\n",
       "    </tr>\n",
       "    <tr>\n",
       "      <th>1</th>\n",
       "      <td>4</td>\n",
       "      <td>Nice product</td>\n",
       "      <td>Awesome Phone. Slightly high price but worth. ...</td>\n",
       "    </tr>\n",
       "    <tr>\n",
       "      <th>2</th>\n",
       "      <td>5</td>\n",
       "      <td>Perfect product!</td>\n",
       "      <td>Battery backup is extraordinary, camera is dec...</td>\n",
       "    </tr>\n",
       "    <tr>\n",
       "      <th>3</th>\n",
       "      <td>5</td>\n",
       "      <td>Classy product</td>\n",
       "      <td>Superb Product !!!\\nA big and worthy upgrade f...</td>\n",
       "    </tr>\n",
       "    <tr>\n",
       "      <th>4</th>\n",
       "      <td>5</td>\n",
       "      <td>Brilliant</td>\n",
       "      <td>I have migrated from OP 7pro... and trust me, ...</td>\n",
       "    </tr>\n",
       "    <tr>\n",
       "      <th>5</th>\n",
       "      <td>4</td>\n",
       "      <td>Good choice</td>\n",
       "      <td>Looking so good 👍 😍 super 👌 stylish 😎 phone\\nC...</td>\n",
       "    </tr>\n",
       "    <tr>\n",
       "      <th>6</th>\n",
       "      <td>5</td>\n",
       "      <td>Perfect product!</td>\n",
       "      <td>After 1 month use I found camera quality best ...</td>\n",
       "    </tr>\n",
       "    <tr>\n",
       "      <th>7</th>\n",
       "      <td>5</td>\n",
       "      <td>Wonderful</td>\n",
       "      <td>I just directly switch from iphone 6s to iphon...</td>\n",
       "    </tr>\n",
       "    <tr>\n",
       "      <th>8</th>\n",
       "      <td>5</td>\n",
       "      <td>Terrific purchase</td>\n",
       "      <td>Upgraded from iphone 6 to 11 best phone for ip...</td>\n",
       "    </tr>\n",
       "    <tr>\n",
       "      <th>9</th>\n",
       "      <td>5</td>\n",
       "      <td>Terrific purchase</td>\n",
       "      <td>The built quality is not very premium.\\nThe ba...</td>\n",
       "    </tr>\n",
       "  </tbody>\n",
       "</table>\n",
       "</div>"
      ],
      "text/plain": [
       "  Rating     Review Summary                                        Full Review\n",
       "0      5  Worth every penny  Smooth like butter, camera like fantabulous, s...\n",
       "1      4       Nice product  Awesome Phone. Slightly high price but worth. ...\n",
       "2      5   Perfect product!  Battery backup is extraordinary, camera is dec...\n",
       "3      5     Classy product  Superb Product !!!\\nA big and worthy upgrade f...\n",
       "4      5          Brilliant  I have migrated from OP 7pro... and trust me, ...\n",
       "5      4        Good choice  Looking so good 👍 😍 super 👌 stylish 😎 phone\\nC...\n",
       "6      5   Perfect product!  After 1 month use I found camera quality best ...\n",
       "7      5          Wonderful  I just directly switch from iphone 6s to iphon...\n",
       "8      5  Terrific purchase  Upgraded from iphone 6 to 11 best phone for ip...\n",
       "9      5  Terrific purchase  The built quality is not very premium.\\nThe ba..."
      ]
     },
     "execution_count": 123,
     "metadata": {},
     "output_type": "execute_result"
    }
   ],
   "source": [
    "iphonerev_3=pd.DataFrame()\n",
    "iphonerev_3['Rating']=ratings_3\n",
    "iphonerev_3['Review Summary']=comments_3\n",
    "iphonerev_3['Full Review']=reviews_3\n",
    "\n",
    "iphonerev_3"
   ]
  },
  {
   "cell_type": "code",
   "execution_count": 126,
   "id": "42934465",
   "metadata": {},
   "outputs": [],
   "source": [
    "driver.execute_script(\"window.scrollBy(0,1000)\",\"\")"
   ]
  },
  {
   "cell_type": "code",
   "execution_count": 127,
   "id": "cab33b40",
   "metadata": {},
   "outputs": [
    {
     "data": {
      "text/plain": [
       "<selenium.webdriver.remote.webelement.WebElement (session=\"518dcfdbb077e78ea1f64cc6cbeb0e14\", element=\"f4da195f-61b5-4f63-ba79-0f52895c97a1\")>"
      ]
     },
     "execution_count": 127,
     "metadata": {},
     "output_type": "execute_result"
    }
   ],
   "source": [
    "page4=driver.find_element_by_xpath('/html/body/div[1]/div/div[3]/div/div/div[2]/div[13]/div/div/nav/a[5]')\n",
    "page4"
   ]
  },
  {
   "cell_type": "code",
   "execution_count": 128,
   "id": "b0d5ecd1",
   "metadata": {},
   "outputs": [],
   "source": [
    "page4.click()"
   ]
  },
  {
   "cell_type": "code",
   "execution_count": 129,
   "id": "218e950e",
   "metadata": {
    "collapsed": true
   },
   "outputs": [
    {
     "data": {
      "text/plain": [
       "[<selenium.webdriver.remote.webelement.WebElement (session=\"518dcfdbb077e78ea1f64cc6cbeb0e14\", element=\"d414af72-cbe4-476d-a620-8923afe8fa9f\")>,\n",
       " <selenium.webdriver.remote.webelement.WebElement (session=\"518dcfdbb077e78ea1f64cc6cbeb0e14\", element=\"f6fd956e-01cb-4221-b4b3-9070ef9ee426\")>,\n",
       " <selenium.webdriver.remote.webelement.WebElement (session=\"518dcfdbb077e78ea1f64cc6cbeb0e14\", element=\"4d57f9d9-dd70-4121-8ec7-49d51b77e4ff\")>,\n",
       " <selenium.webdriver.remote.webelement.WebElement (session=\"518dcfdbb077e78ea1f64cc6cbeb0e14\", element=\"d08982cb-24b7-46bc-a2f8-e776762055ad\")>,\n",
       " <selenium.webdriver.remote.webelement.WebElement (session=\"518dcfdbb077e78ea1f64cc6cbeb0e14\", element=\"2576494f-3021-4b90-b215-a1897e917bf0\")>,\n",
       " <selenium.webdriver.remote.webelement.WebElement (session=\"518dcfdbb077e78ea1f64cc6cbeb0e14\", element=\"be9ac626-4c53-4361-b9d9-77cbecca7e9c\")>,\n",
       " <selenium.webdriver.remote.webelement.WebElement (session=\"518dcfdbb077e78ea1f64cc6cbeb0e14\", element=\"180d459a-a761-4c80-9cf8-a5e55f4a0f9e\")>,\n",
       " <selenium.webdriver.remote.webelement.WebElement (session=\"518dcfdbb077e78ea1f64cc6cbeb0e14\", element=\"e45a1af3-0687-4e8c-bc2f-d81da45fecad\")>,\n",
       " <selenium.webdriver.remote.webelement.WebElement (session=\"518dcfdbb077e78ea1f64cc6cbeb0e14\", element=\"e1f5784e-e653-4e75-b1e4-5679bf357941\")>,\n",
       " <selenium.webdriver.remote.webelement.WebElement (session=\"518dcfdbb077e78ea1f64cc6cbeb0e14\", element=\"2dd22be8-171a-45eb-b1cd-17e98bfc61a0\")>]"
      ]
     },
     "execution_count": 129,
     "metadata": {},
     "output_type": "execute_result"
    }
   ],
   "source": [
    "rating4=driver.find_elements_by_class_name('_1BLPMq')\n",
    "rating4"
   ]
  },
  {
   "cell_type": "code",
   "execution_count": 130,
   "id": "b60ac160",
   "metadata": {},
   "outputs": [
    {
     "data": {
      "text/plain": [
       "10"
      ]
     },
     "execution_count": 130,
     "metadata": {},
     "output_type": "execute_result"
    }
   ],
   "source": [
    "len(rating4)"
   ]
  },
  {
   "cell_type": "code",
   "execution_count": 131,
   "id": "9a9d201e",
   "metadata": {},
   "outputs": [
    {
     "data": {
      "text/plain": [
       "['5', '4', '1', '5', '5', '5', '5', '5', '5', '5']"
      ]
     },
     "execution_count": 131,
     "metadata": {},
     "output_type": "execute_result"
    }
   ],
   "source": [
    "ratings_4=[]\n",
    "\n",
    "for i in rating4:\n",
    "    ratings_4.append(i.text)\n",
    "    \n",
    "ratings_4[0:10]"
   ]
  },
  {
   "cell_type": "code",
   "execution_count": 132,
   "id": "31a94b0d",
   "metadata": {
    "collapsed": true
   },
   "outputs": [
    {
     "data": {
      "text/plain": [
       "[<selenium.webdriver.remote.webelement.WebElement (session=\"518dcfdbb077e78ea1f64cc6cbeb0e14\", element=\"0b0684a2-a3c9-448e-a82b-1869d5c5451d\")>,\n",
       " <selenium.webdriver.remote.webelement.WebElement (session=\"518dcfdbb077e78ea1f64cc6cbeb0e14\", element=\"9e94b82a-29f2-4214-8581-1bb3797e8db6\")>,\n",
       " <selenium.webdriver.remote.webelement.WebElement (session=\"518dcfdbb077e78ea1f64cc6cbeb0e14\", element=\"80cab20b-2eec-4250-bc07-d038e8dc49f9\")>,\n",
       " <selenium.webdriver.remote.webelement.WebElement (session=\"518dcfdbb077e78ea1f64cc6cbeb0e14\", element=\"851f54c3-8a7b-4663-96a0-0e5fafcbaae8\")>,\n",
       " <selenium.webdriver.remote.webelement.WebElement (session=\"518dcfdbb077e78ea1f64cc6cbeb0e14\", element=\"e70c8699-cbbe-4782-9b78-360f42f6d788\")>,\n",
       " <selenium.webdriver.remote.webelement.WebElement (session=\"518dcfdbb077e78ea1f64cc6cbeb0e14\", element=\"60490bdb-95bc-421d-82a1-e102d50c936f\")>,\n",
       " <selenium.webdriver.remote.webelement.WebElement (session=\"518dcfdbb077e78ea1f64cc6cbeb0e14\", element=\"6d5fa7f1-cf09-4174-9508-6120e3d7c3e0\")>,\n",
       " <selenium.webdriver.remote.webelement.WebElement (session=\"518dcfdbb077e78ea1f64cc6cbeb0e14\", element=\"5d1bc47b-d080-401d-94a1-a80c5d43ea2d\")>,\n",
       " <selenium.webdriver.remote.webelement.WebElement (session=\"518dcfdbb077e78ea1f64cc6cbeb0e14\", element=\"14a2b6b7-5112-4b28-a4ef-3e936da2df61\")>,\n",
       " <selenium.webdriver.remote.webelement.WebElement (session=\"518dcfdbb077e78ea1f64cc6cbeb0e14\", element=\"fc052a55-1b8a-4181-a6ac-fd2fae59ab40\")>]"
      ]
     },
     "execution_count": 132,
     "metadata": {},
     "output_type": "execute_result"
    }
   ],
   "source": [
    "comment4=driver.find_elements_by_class_name('_2-N8zT')\n",
    "comment4"
   ]
  },
  {
   "cell_type": "code",
   "execution_count": 133,
   "id": "2836fe92",
   "metadata": {},
   "outputs": [
    {
     "data": {
      "text/plain": [
       "10"
      ]
     },
     "execution_count": 133,
     "metadata": {},
     "output_type": "execute_result"
    }
   ],
   "source": [
    "len(comment4)"
   ]
  },
  {
   "cell_type": "code",
   "execution_count": 138,
   "id": "02f7cc96",
   "metadata": {
    "collapsed": true
   },
   "outputs": [
    {
     "data": {
      "text/plain": [
       "['Simply awesome',\n",
       " 'Good quality product',\n",
       " 'Very poor',\n",
       " 'Perfect product!',\n",
       " 'Classy product',\n",
       " 'Fabulous!',\n",
       " 'Perfect product!',\n",
       " 'Must buy!',\n",
       " 'Mind-blowing purchase',\n",
       " 'Must buy!']"
      ]
     },
     "execution_count": 138,
     "metadata": {},
     "output_type": "execute_result"
    }
   ],
   "source": [
    "comments_4=[]\n",
    "    \n",
    "for i in comment4: \n",
    "    comments_4.append(i.text)\n",
    "        \n",
    "comments_4[0:10]"
   ]
  },
  {
   "cell_type": "code",
   "execution_count": 139,
   "id": "45541ec4",
   "metadata": {
    "collapsed": true
   },
   "outputs": [
    {
     "data": {
      "text/plain": [
       "[<selenium.webdriver.remote.webelement.WebElement (session=\"518dcfdbb077e78ea1f64cc6cbeb0e14\", element=\"96392643-8298-4a06-8d97-75b300a500c5\")>,\n",
       " <selenium.webdriver.remote.webelement.WebElement (session=\"518dcfdbb077e78ea1f64cc6cbeb0e14\", element=\"d78b5620-d775-4b58-940c-49af34b2bae6\")>,\n",
       " <selenium.webdriver.remote.webelement.WebElement (session=\"518dcfdbb077e78ea1f64cc6cbeb0e14\", element=\"1c83e5ed-cb9f-478d-b7e6-ef279ba48f20\")>,\n",
       " <selenium.webdriver.remote.webelement.WebElement (session=\"518dcfdbb077e78ea1f64cc6cbeb0e14\", element=\"b3ea46b0-d4e0-4783-b66e-477cd9d9be6d\")>,\n",
       " <selenium.webdriver.remote.webelement.WebElement (session=\"518dcfdbb077e78ea1f64cc6cbeb0e14\", element=\"4a237fc4-82f5-420c-b4c7-f393d2e87609\")>,\n",
       " <selenium.webdriver.remote.webelement.WebElement (session=\"518dcfdbb077e78ea1f64cc6cbeb0e14\", element=\"a18462e8-010b-4069-bdd4-fb71db7d31a9\")>,\n",
       " <selenium.webdriver.remote.webelement.WebElement (session=\"518dcfdbb077e78ea1f64cc6cbeb0e14\", element=\"a228bac4-b679-4e6f-ac7a-cf57bc45e64d\")>,\n",
       " <selenium.webdriver.remote.webelement.WebElement (session=\"518dcfdbb077e78ea1f64cc6cbeb0e14\", element=\"2419e446-7e64-40f8-a8ee-38dea594c110\")>,\n",
       " <selenium.webdriver.remote.webelement.WebElement (session=\"518dcfdbb077e78ea1f64cc6cbeb0e14\", element=\"ae66b841-3ea7-4deb-a2e3-f4b9d8e492d5\")>,\n",
       " <selenium.webdriver.remote.webelement.WebElement (session=\"518dcfdbb077e78ea1f64cc6cbeb0e14\", element=\"6bdad850-ef4b-4d94-b9d8-7a46085982c9\")>]"
      ]
     },
     "execution_count": 139,
     "metadata": {},
     "output_type": "execute_result"
    }
   ],
   "source": [
    "review4=driver.find_elements_by_class_name('t-ZTKy')\n",
    "review4"
   ]
  },
  {
   "cell_type": "code",
   "execution_count": 140,
   "id": "c76e0d12",
   "metadata": {},
   "outputs": [
    {
     "data": {
      "text/plain": [
       "10"
      ]
     },
     "execution_count": 140,
     "metadata": {},
     "output_type": "execute_result"
    }
   ],
   "source": [
    "len(review4)"
   ]
  },
  {
   "cell_type": "code",
   "execution_count": 141,
   "id": "ce3e7898",
   "metadata": {
    "collapsed": true
   },
   "outputs": [
    {
     "data": {
      "text/plain": [
       "['Really good actually this is my first apple product am using its really awesome performance wise excellent. Am really happy with this iphone11',\n",
       " 'it is very good at performance. Camera is best like before and very smooth response even in water. Don’t buy 12 mini buy iPhone 11 , it is far better than 12 mini believe me ! Have a nice day \\uf8ff ☺️',\n",
       " 'Reviewing again after 5 months. At the beginning the battery and performance was good but it degraded soon. Also I was facing heating issues. The mobile will heat up like a stove sometimes. You cannot even play Pubg even in low settings properly, performance is not a problem but heating is. Also if you play that game for 10 mins the brightness will be automatically down due to over heating even when the auto brightness is set to off. This will not be solved even if u manually increase the bri...\\nREAD MORE',\n",
       " 'In love with this iphone great performance,camera ,battery everything. Go for it have a uncompareble battery backup, no doubts in iPhone camera here You can see the picture which is shot on my iPhone In love with this iphone great performance,camera ,battery everything. Go for it have a uncompareble battery backup, no doubts in iPhone camera here You can see the picture which is shot on my iPhone In love with this iphone great performance,camera ,battery everything. Go for it have a uncompare...\\nREAD MORE',\n",
       " 'We are on apple ecosystem for almost eight years now with couple of iPads and iPhones, including Xr.\\n\\nBought iPhone 11 as a gift to my daughter who loves it. We chose for a purple coloured one. Believe me it is gorgeous and towards the lighter shade. Dazzling and brilliant!\\n\\nThe phone is great and does excellent RAM management like any other Apple device.\\n\\nThe screen, though a LCD and lesser ppi as compared to other flagship phones of competitor brands, is a delight to watch with perfect re...\\nREAD MORE',\n",
       " 'Everything is perfect pictures come out so clearly and at first I wasn’t sure when I got it then when I started to use it and get the hang of it it was amazing!! I can’t wait to see what the next future phones will be like. The screen display on this bad boy are unbelievable they are so clear and never fail me. The performance is super cool there is a lot of cool features as well I like this phone because I feel that it is easy to use and one of my favorite things about this phone is the Face...\\nREAD MORE',\n",
       " 'It is just awesome mobile for this price from Apple,\\n\\nAfter 10 days review\\n\\nBattery enough for 1 day even 24*7 Internet will be on and mostly internet usage\\n\\nCamera is just awesome cool , android 64 MP is equal to this just 12 MP\\n\\nA13 Bionic chip will give more high performance without hanging\\n\\nAudio stereo speakers will give Dolby atoms sound with crystal clear\\n\\nVideo recording is like cinematic shots of every sec can be a 4K 60fps. Just awesome this phone\\niPhone 11 loved one',\n",
       " 'Best Apple iPhone that i have bought at a very reasonable price, camera quality is next level just awesome n of superior quality android phones not even close(RIP) to that and also battery is really good but packaging by Flipkart of iPhone was very poor of such a expensive product, firstly im bit worried about the quality of product if i purchased it through online how was the product but i think now this was mine best decision to bought it through Flipkart online because i got genuine Apple...\\nREAD MORE',\n",
       " 'Best Quality Product OF iPhone Series , Sound Quality & Camera quality is very awesome, Battery Life is very Sufficient for 24 hr Backup With Full Internet Access , I love this this Product too much , It is very fast & making me Very fast in all my daily Routine\\nHighlights;\\n1.Camera: 5 STAR\\n2.Video Recording: 5 star\\n3.Night mODE sHOOTING & Camera:4 star\\n4. Audio Quality: Awesome\\n5. Battery : 5 Star\\n6. Touch:5 Star\\n7. Processor: Very Fast\\nThe M...\\nREAD MORE',\n",
       " 'I rate this product 5* as it has got amazing user experience with the best performing A13 bionic processor. The screen responds and graphics rendering is top notch. With casual gaming and internet browsing, the battery lasts for approx. 1 day. Camera is very good. You will fall in love with the portrait mode. You can call me a loyal Apple customer or whatever but I won’t stop praising the products and overall experience. That user experience matters and is worth every penny you pay.\\n\\nBelow ar...\\nREAD MORE']"
      ]
     },
     "execution_count": 141,
     "metadata": {},
     "output_type": "execute_result"
    }
   ],
   "source": [
    "reviews_4=[]\n",
    "\n",
    "for i in review4:\n",
    "    reviews_4.append(i.text)\n",
    "\n",
    "reviews_4[0:10]"
   ]
  },
  {
   "cell_type": "code",
   "execution_count": 142,
   "id": "c6f272f3",
   "metadata": {
    "collapsed": true
   },
   "outputs": [
    {
     "data": {
      "text/html": [
       "<div>\n",
       "<style scoped>\n",
       "    .dataframe tbody tr th:only-of-type {\n",
       "        vertical-align: middle;\n",
       "    }\n",
       "\n",
       "    .dataframe tbody tr th {\n",
       "        vertical-align: top;\n",
       "    }\n",
       "\n",
       "    .dataframe thead th {\n",
       "        text-align: right;\n",
       "    }\n",
       "</style>\n",
       "<table border=\"1\" class=\"dataframe\">\n",
       "  <thead>\n",
       "    <tr style=\"text-align: right;\">\n",
       "      <th></th>\n",
       "      <th>Rating</th>\n",
       "      <th>Review Summary</th>\n",
       "      <th>Full Review</th>\n",
       "    </tr>\n",
       "  </thead>\n",
       "  <tbody>\n",
       "    <tr>\n",
       "      <th>0</th>\n",
       "      <td>5</td>\n",
       "      <td>Simply awesome</td>\n",
       "      <td>Really good actually this is my first apple pr...</td>\n",
       "    </tr>\n",
       "    <tr>\n",
       "      <th>1</th>\n",
       "      <td>4</td>\n",
       "      <td>Good quality product</td>\n",
       "      <td>it is very good at performance. Camera is best...</td>\n",
       "    </tr>\n",
       "    <tr>\n",
       "      <th>2</th>\n",
       "      <td>1</td>\n",
       "      <td>Very poor</td>\n",
       "      <td>Reviewing again after 5 months. At the beginni...</td>\n",
       "    </tr>\n",
       "    <tr>\n",
       "      <th>3</th>\n",
       "      <td>5</td>\n",
       "      <td>Perfect product!</td>\n",
       "      <td>In love with this iphone great performance,cam...</td>\n",
       "    </tr>\n",
       "    <tr>\n",
       "      <th>4</th>\n",
       "      <td>5</td>\n",
       "      <td>Classy product</td>\n",
       "      <td>We are on apple ecosystem for almost eight yea...</td>\n",
       "    </tr>\n",
       "    <tr>\n",
       "      <th>5</th>\n",
       "      <td>5</td>\n",
       "      <td>Fabulous!</td>\n",
       "      <td>Everything is perfect pictures come out so cle...</td>\n",
       "    </tr>\n",
       "    <tr>\n",
       "      <th>6</th>\n",
       "      <td>5</td>\n",
       "      <td>Perfect product!</td>\n",
       "      <td>It is just awesome mobile for this price from ...</td>\n",
       "    </tr>\n",
       "    <tr>\n",
       "      <th>7</th>\n",
       "      <td>5</td>\n",
       "      <td>Must buy!</td>\n",
       "      <td>Best Apple iPhone that i have bought at a very...</td>\n",
       "    </tr>\n",
       "    <tr>\n",
       "      <th>8</th>\n",
       "      <td>5</td>\n",
       "      <td>Mind-blowing purchase</td>\n",
       "      <td>Best Quality Product OF iPhone Series , Sound ...</td>\n",
       "    </tr>\n",
       "    <tr>\n",
       "      <th>9</th>\n",
       "      <td>5</td>\n",
       "      <td>Must buy!</td>\n",
       "      <td>I rate this product 5* as it has got amazing u...</td>\n",
       "    </tr>\n",
       "  </tbody>\n",
       "</table>\n",
       "</div>"
      ],
      "text/plain": [
       "  Rating         Review Summary  \\\n",
       "0      5         Simply awesome   \n",
       "1      4   Good quality product   \n",
       "2      1              Very poor   \n",
       "3      5       Perfect product!   \n",
       "4      5         Classy product   \n",
       "5      5              Fabulous!   \n",
       "6      5       Perfect product!   \n",
       "7      5              Must buy!   \n",
       "8      5  Mind-blowing purchase   \n",
       "9      5              Must buy!   \n",
       "\n",
       "                                         Full Review  \n",
       "0  Really good actually this is my first apple pr...  \n",
       "1  it is very good at performance. Camera is best...  \n",
       "2  Reviewing again after 5 months. At the beginni...  \n",
       "3  In love with this iphone great performance,cam...  \n",
       "4  We are on apple ecosystem for almost eight yea...  \n",
       "5  Everything is perfect pictures come out so cle...  \n",
       "6  It is just awesome mobile for this price from ...  \n",
       "7  Best Apple iPhone that i have bought at a very...  \n",
       "8  Best Quality Product OF iPhone Series , Sound ...  \n",
       "9  I rate this product 5* as it has got amazing u...  "
      ]
     },
     "execution_count": 142,
     "metadata": {},
     "output_type": "execute_result"
    }
   ],
   "source": [
    "iphonerev_4=pd.DataFrame()\n",
    "iphonerev_4['Rating']=ratings_4\n",
    "iphonerev_4['Review Summary']=comments_4\n",
    "iphonerev_4['Full Review']=reviews_4\n",
    "\n",
    "iphonerev_4"
   ]
  },
  {
   "cell_type": "code",
   "execution_count": 145,
   "id": "28236e7c",
   "metadata": {},
   "outputs": [],
   "source": [
    "driver.execute_script(\"window.scrollBy(0,1000)\",\"\")"
   ]
  },
  {
   "cell_type": "code",
   "execution_count": 146,
   "id": "b29fd393",
   "metadata": {},
   "outputs": [
    {
     "data": {
      "text/plain": [
       "<selenium.webdriver.remote.webelement.WebElement (session=\"518dcfdbb077e78ea1f64cc6cbeb0e14\", element=\"47d7c115-6d91-4bb1-9a47-670b24b7e1bf\")>"
      ]
     },
     "execution_count": 146,
     "metadata": {},
     "output_type": "execute_result"
    }
   ],
   "source": [
    "page5=driver.find_element_by_xpath('/html/body/div[1]/div/div[3]/div/div/div[2]/div[13]/div/div/nav/a[6]')\n",
    "page5"
   ]
  },
  {
   "cell_type": "code",
   "execution_count": 147,
   "id": "ff20811c",
   "metadata": {},
   "outputs": [],
   "source": [
    "page5.click()"
   ]
  },
  {
   "cell_type": "code",
   "execution_count": 148,
   "id": "8d1b694a",
   "metadata": {
    "collapsed": true
   },
   "outputs": [
    {
     "data": {
      "text/plain": [
       "[<selenium.webdriver.remote.webelement.WebElement (session=\"518dcfdbb077e78ea1f64cc6cbeb0e14\", element=\"48997778-f07a-4b94-a602-6c2a0db2e734\")>,\n",
       " <selenium.webdriver.remote.webelement.WebElement (session=\"518dcfdbb077e78ea1f64cc6cbeb0e14\", element=\"349f7388-6d1b-4241-99cf-cb9953499e57\")>,\n",
       " <selenium.webdriver.remote.webelement.WebElement (session=\"518dcfdbb077e78ea1f64cc6cbeb0e14\", element=\"df19c9e8-ee4f-43d6-bd25-e48614e7ecc4\")>,\n",
       " <selenium.webdriver.remote.webelement.WebElement (session=\"518dcfdbb077e78ea1f64cc6cbeb0e14\", element=\"8a5f5588-69ab-4d81-8a97-8f95a36f68d3\")>,\n",
       " <selenium.webdriver.remote.webelement.WebElement (session=\"518dcfdbb077e78ea1f64cc6cbeb0e14\", element=\"099f44c2-e76a-45b4-969b-54d4c186c2ef\")>,\n",
       " <selenium.webdriver.remote.webelement.WebElement (session=\"518dcfdbb077e78ea1f64cc6cbeb0e14\", element=\"c54ef7ff-a768-4ae6-808a-c48d806c5e1d\")>,\n",
       " <selenium.webdriver.remote.webelement.WebElement (session=\"518dcfdbb077e78ea1f64cc6cbeb0e14\", element=\"700c5c9e-b9da-4dcf-b37f-ca50d9216653\")>,\n",
       " <selenium.webdriver.remote.webelement.WebElement (session=\"518dcfdbb077e78ea1f64cc6cbeb0e14\", element=\"c07d551b-6be1-4d3a-b84f-bfa898a6f885\")>,\n",
       " <selenium.webdriver.remote.webelement.WebElement (session=\"518dcfdbb077e78ea1f64cc6cbeb0e14\", element=\"d6fc2766-6a2b-4a01-a48f-fe51a05bc074\")>,\n",
       " <selenium.webdriver.remote.webelement.WebElement (session=\"518dcfdbb077e78ea1f64cc6cbeb0e14\", element=\"fe2c5104-8d06-4a26-8c8e-63fb13ce8d2c\")>]"
      ]
     },
     "execution_count": 148,
     "metadata": {},
     "output_type": "execute_result"
    }
   ],
   "source": [
    "rating5=driver.find_elements_by_class_name('_1BLPMq')\n",
    "rating5"
   ]
  },
  {
   "cell_type": "markdown",
   "id": "5e4978f5",
   "metadata": {},
   "source": [
    "##### "
   ]
  },
  {
   "cell_type": "code",
   "execution_count": 149,
   "id": "07c9c372",
   "metadata": {},
   "outputs": [
    {
     "data": {
      "text/plain": [
       "10"
      ]
     },
     "execution_count": 149,
     "metadata": {},
     "output_type": "execute_result"
    }
   ],
   "source": [
    "len(rating5)"
   ]
  },
  {
   "cell_type": "code",
   "execution_count": 150,
   "id": "9d5caa72",
   "metadata": {},
   "outputs": [
    {
     "data": {
      "text/plain": [
       "['5', '4', '5', '5', '5', '4', '5', '5', '5', '5']"
      ]
     },
     "execution_count": 150,
     "metadata": {},
     "output_type": "execute_result"
    }
   ],
   "source": [
    "ratings_5=[]\n",
    "\n",
    "for i in rating5:\n",
    "    ratings_5.append(i.text)\n",
    "    \n",
    "ratings_5[0:10]"
   ]
  },
  {
   "cell_type": "code",
   "execution_count": 151,
   "id": "e1f27ff9",
   "metadata": {
    "collapsed": true
   },
   "outputs": [
    {
     "data": {
      "text/plain": [
       "[<selenium.webdriver.remote.webelement.WebElement (session=\"518dcfdbb077e78ea1f64cc6cbeb0e14\", element=\"986bcea1-38bb-4740-8ef3-1e39b39d64bc\")>,\n",
       " <selenium.webdriver.remote.webelement.WebElement (session=\"518dcfdbb077e78ea1f64cc6cbeb0e14\", element=\"c8c9fbe4-601f-4329-a9a6-2c783c2de8dc\")>,\n",
       " <selenium.webdriver.remote.webelement.WebElement (session=\"518dcfdbb077e78ea1f64cc6cbeb0e14\", element=\"d8569c8f-4745-4fb2-85ad-41e7c846600d\")>,\n",
       " <selenium.webdriver.remote.webelement.WebElement (session=\"518dcfdbb077e78ea1f64cc6cbeb0e14\", element=\"a5bd7cab-e397-4842-8ff5-453abd528444\")>,\n",
       " <selenium.webdriver.remote.webelement.WebElement (session=\"518dcfdbb077e78ea1f64cc6cbeb0e14\", element=\"766fe87e-4ad8-42e7-a66b-235fc5c7a30c\")>,\n",
       " <selenium.webdriver.remote.webelement.WebElement (session=\"518dcfdbb077e78ea1f64cc6cbeb0e14\", element=\"2473b902-f35a-4f29-a8b6-ee0200d117d9\")>,\n",
       " <selenium.webdriver.remote.webelement.WebElement (session=\"518dcfdbb077e78ea1f64cc6cbeb0e14\", element=\"9a86e8b5-a32e-4e03-a2da-d44d702bd0b6\")>,\n",
       " <selenium.webdriver.remote.webelement.WebElement (session=\"518dcfdbb077e78ea1f64cc6cbeb0e14\", element=\"de8a7d42-a27e-4284-a829-ce6bd346d7eb\")>,\n",
       " <selenium.webdriver.remote.webelement.WebElement (session=\"518dcfdbb077e78ea1f64cc6cbeb0e14\", element=\"51ee3ab3-9ba0-4db3-ae95-6b3dafe4bb7a\")>,\n",
       " <selenium.webdriver.remote.webelement.WebElement (session=\"518dcfdbb077e78ea1f64cc6cbeb0e14\", element=\"f4403e71-be7b-4287-972a-71aea9579317\")>]"
      ]
     },
     "execution_count": 151,
     "metadata": {},
     "output_type": "execute_result"
    }
   ],
   "source": [
    "comment5=driver.find_elements_by_class_name('_2-N8zT')\n",
    "comment5"
   ]
  },
  {
   "cell_type": "code",
   "execution_count": 152,
   "id": "7637d3c8",
   "metadata": {},
   "outputs": [
    {
     "data": {
      "text/plain": [
       "10"
      ]
     },
     "execution_count": 152,
     "metadata": {},
     "output_type": "execute_result"
    }
   ],
   "source": [
    "len(comment5)"
   ]
  },
  {
   "cell_type": "code",
   "execution_count": 153,
   "id": "7adbcd27",
   "metadata": {
    "collapsed": true
   },
   "outputs": [
    {
     "data": {
      "text/plain": [
       "['Great product',\n",
       " 'Very Good',\n",
       " 'Wonderful',\n",
       " 'Classy product',\n",
       " 'Awesome',\n",
       " 'Pretty good',\n",
       " 'Awesome',\n",
       " 'Classy product',\n",
       " 'Awesome',\n",
       " 'Perfect product!']"
      ]
     },
     "execution_count": 153,
     "metadata": {},
     "output_type": "execute_result"
    }
   ],
   "source": [
    "comments_5=[]\n",
    "\n",
    "for i in comment5:\n",
    "    comments_5.append(i.text)\n",
    "    \n",
    "comments_5[0:10]"
   ]
  },
  {
   "cell_type": "code",
   "execution_count": 154,
   "id": "d0d626c6",
   "metadata": {
    "collapsed": true
   },
   "outputs": [
    {
     "data": {
      "text/plain": [
       "[<selenium.webdriver.remote.webelement.WebElement (session=\"518dcfdbb077e78ea1f64cc6cbeb0e14\", element=\"63429e4f-f483-4b38-a71f-79c00b67307d\")>,\n",
       " <selenium.webdriver.remote.webelement.WebElement (session=\"518dcfdbb077e78ea1f64cc6cbeb0e14\", element=\"ea7a162e-c2e2-49e5-9875-4bad27a9c1f2\")>,\n",
       " <selenium.webdriver.remote.webelement.WebElement (session=\"518dcfdbb077e78ea1f64cc6cbeb0e14\", element=\"d8881e24-f169-4fae-8f3c-15de9585d6ce\")>,\n",
       " <selenium.webdriver.remote.webelement.WebElement (session=\"518dcfdbb077e78ea1f64cc6cbeb0e14\", element=\"73f5bb27-b205-4b40-b245-2b4e2e640c3b\")>,\n",
       " <selenium.webdriver.remote.webelement.WebElement (session=\"518dcfdbb077e78ea1f64cc6cbeb0e14\", element=\"8323da17-cb10-4d20-9acc-4e2b39e9b859\")>,\n",
       " <selenium.webdriver.remote.webelement.WebElement (session=\"518dcfdbb077e78ea1f64cc6cbeb0e14\", element=\"7f8f373b-8c33-4a9d-af9c-89a47cca6261\")>,\n",
       " <selenium.webdriver.remote.webelement.WebElement (session=\"518dcfdbb077e78ea1f64cc6cbeb0e14\", element=\"ba3f134c-0031-4f80-8c49-d3839629d886\")>,\n",
       " <selenium.webdriver.remote.webelement.WebElement (session=\"518dcfdbb077e78ea1f64cc6cbeb0e14\", element=\"8192b0bf-bbbf-40e7-98a1-fed456eb7530\")>,\n",
       " <selenium.webdriver.remote.webelement.WebElement (session=\"518dcfdbb077e78ea1f64cc6cbeb0e14\", element=\"16c2be54-830a-4df8-a4cc-c41203dc5658\")>,\n",
       " <selenium.webdriver.remote.webelement.WebElement (session=\"518dcfdbb077e78ea1f64cc6cbeb0e14\", element=\"43dbb6ec-469b-4c64-8013-94e05d9f445b\")>]"
      ]
     },
     "execution_count": 154,
     "metadata": {},
     "output_type": "execute_result"
    }
   ],
   "source": [
    "review5=driver.find_elements_by_class_name('t-ZTKy')\n",
    "review5"
   ]
  },
  {
   "cell_type": "code",
   "execution_count": 155,
   "id": "825d44ac",
   "metadata": {},
   "outputs": [
    {
     "data": {
      "text/plain": [
       "10"
      ]
     },
     "execution_count": 155,
     "metadata": {},
     "output_type": "execute_result"
    }
   ],
   "source": [
    "len(review5)"
   ]
  },
  {
   "cell_type": "code",
   "execution_count": 156,
   "id": "b1edecab",
   "metadata": {
    "collapsed": true
   },
   "outputs": [
    {
     "data": {
      "text/plain": [
       "[\"Again back to apple iphone after a gap of 2-3 years. It's pleasure to use iOS and the quality product by Apple. Iphone 11 still works like a beast in 2021 also. It really capable of doing day to day usage as well as hard core gaming. Battery is awesome. I'm really too much satisfied with it. Apart fto the very gorgious IPS LCD (AMOLED will be better) everything is mind boggling. Iphone💕.\",\n",
       " 'impressive super phone and best in class camera ,sound and face unlock is super fast just see and phone is unlock and fast in daily apps use',\n",
       " 'Super and marvellous phone look very cute and nice sound. I love this phone i think white is good colur.Excellent camer 5*😍😘♥️♥️',\n",
       " 'Well while switching from android to iOS the first thing you need to be careful about is that you will loose all your whatsapp chat backups as both are different operating systems. Camera clarity is awesome and though being an lcd screen clarity and resolution is good. Battery backup is also good unlike previous gen iPhone. So far the experience is good will Padre after a few months of usage.\\n\\nP.S the black is more of a dark grey shade and not jet black',\n",
       " 'Very excited to have this phone. This phone has the real power unlike the android phones having SD 855 . The battery life is very good and the camera quality is excellent as comapred to redmi and other phones except google pixel. I M enjoying every single bit of it. Would recommed only if you have the budget.',\n",
       " 'I was using Iphone 6s and also Oneplus 6t. Both mobiles were perfectly alright in Photos, gaming, and smooth interface . My 6s mobile getting battery issue. thought upgrade to 11. Really like this mobile of its Internal storage (compare to 6s) , camera and its touch feeling. Its a worth buying mobile for me.',\n",
       " 'I am using this phone for 5 days and its one of the best camera out there ❤️ the screen is not oled and i am coming from iphone xs so its little bit not up to the mark i would say\\nBut overall value for money💕😍the battery back up is far better than my iphone xs and its worth in my apple ecosystem💫❤️if u are an apple User and have the eco system then go for it❤️though i will be getting the new iphone but its pretty good💫',\n",
       " 'Best and amazing product.....phone looks so premium.... battary is also good as expected .... Wide angle camera is so addictive ...if you are a IOS lover....then this phone will be the best choice for you all!!💯🔥',\n",
       " 'Always love the apple products, upgraded from old iPhone 6S plus to this after having my first baby. I just love to click baby’s photos with it. Overall I just love this phone. Battery back up is okay, sound quality is good. Haven’t tested yet waterproof yet. Only one thing I hate is apple could have given charger & headphones in box.',\n",
       " 'Value for money\\n5 star rating\\nExcellent camera\\nBattery backup full day in single charge.\\n\\nTougher and water resistant design, glossy back.\\nThe screen has excellent brightness and contrast.\\nApple A13 Bionic is the fastest smartphone chip on the planet.\\nExcellent battery life, fast charging support.\\nStereo speakers with great quality.']"
      ]
     },
     "execution_count": 156,
     "metadata": {},
     "output_type": "execute_result"
    }
   ],
   "source": [
    "reviews_5=[]\n",
    "\n",
    "for i in review5:\n",
    "    reviews_5.append(i.text)\n",
    "    \n",
    "reviews_5[0:10]"
   ]
  },
  {
   "cell_type": "code",
   "execution_count": 157,
   "id": "53c5f9b0",
   "metadata": {
    "collapsed": true
   },
   "outputs": [
    {
     "data": {
      "text/html": [
       "<div>\n",
       "<style scoped>\n",
       "    .dataframe tbody tr th:only-of-type {\n",
       "        vertical-align: middle;\n",
       "    }\n",
       "\n",
       "    .dataframe tbody tr th {\n",
       "        vertical-align: top;\n",
       "    }\n",
       "\n",
       "    .dataframe thead th {\n",
       "        text-align: right;\n",
       "    }\n",
       "</style>\n",
       "<table border=\"1\" class=\"dataframe\">\n",
       "  <thead>\n",
       "    <tr style=\"text-align: right;\">\n",
       "      <th></th>\n",
       "      <th>Rating</th>\n",
       "      <th>Review Summary</th>\n",
       "      <th>Full Review</th>\n",
       "    </tr>\n",
       "  </thead>\n",
       "  <tbody>\n",
       "    <tr>\n",
       "      <th>0</th>\n",
       "      <td>5</td>\n",
       "      <td>Great product</td>\n",
       "      <td>Again back to apple iphone after a gap of 2-3 ...</td>\n",
       "    </tr>\n",
       "    <tr>\n",
       "      <th>1</th>\n",
       "      <td>4</td>\n",
       "      <td>Very Good</td>\n",
       "      <td>impressive super phone and best in class camer...</td>\n",
       "    </tr>\n",
       "    <tr>\n",
       "      <th>2</th>\n",
       "      <td>5</td>\n",
       "      <td>Wonderful</td>\n",
       "      <td>Super and marvellous phone look very cute and ...</td>\n",
       "    </tr>\n",
       "    <tr>\n",
       "      <th>3</th>\n",
       "      <td>5</td>\n",
       "      <td>Classy product</td>\n",
       "      <td>Well while switching from android to iOS the f...</td>\n",
       "    </tr>\n",
       "    <tr>\n",
       "      <th>4</th>\n",
       "      <td>5</td>\n",
       "      <td>Awesome</td>\n",
       "      <td>Very excited to have this phone. This phone ha...</td>\n",
       "    </tr>\n",
       "    <tr>\n",
       "      <th>5</th>\n",
       "      <td>4</td>\n",
       "      <td>Pretty good</td>\n",
       "      <td>I was using Iphone 6s and also Oneplus 6t. Bot...</td>\n",
       "    </tr>\n",
       "    <tr>\n",
       "      <th>6</th>\n",
       "      <td>5</td>\n",
       "      <td>Awesome</td>\n",
       "      <td>I am using this phone for 5 days and its one o...</td>\n",
       "    </tr>\n",
       "    <tr>\n",
       "      <th>7</th>\n",
       "      <td>5</td>\n",
       "      <td>Classy product</td>\n",
       "      <td>Best and amazing product.....phone looks so pr...</td>\n",
       "    </tr>\n",
       "    <tr>\n",
       "      <th>8</th>\n",
       "      <td>5</td>\n",
       "      <td>Awesome</td>\n",
       "      <td>Always love the apple products, upgraded from ...</td>\n",
       "    </tr>\n",
       "    <tr>\n",
       "      <th>9</th>\n",
       "      <td>5</td>\n",
       "      <td>Perfect product!</td>\n",
       "      <td>Value for money\\n5 star rating\\nExcellent came...</td>\n",
       "    </tr>\n",
       "  </tbody>\n",
       "</table>\n",
       "</div>"
      ],
      "text/plain": [
       "  Rating    Review Summary                                        Full Review\n",
       "0      5     Great product  Again back to apple iphone after a gap of 2-3 ...\n",
       "1      4         Very Good  impressive super phone and best in class camer...\n",
       "2      5         Wonderful  Super and marvellous phone look very cute and ...\n",
       "3      5    Classy product  Well while switching from android to iOS the f...\n",
       "4      5           Awesome  Very excited to have this phone. This phone ha...\n",
       "5      4       Pretty good  I was using Iphone 6s and also Oneplus 6t. Bot...\n",
       "6      5           Awesome  I am using this phone for 5 days and its one o...\n",
       "7      5    Classy product  Best and amazing product.....phone looks so pr...\n",
       "8      5           Awesome  Always love the apple products, upgraded from ...\n",
       "9      5  Perfect product!  Value for money\\n5 star rating\\nExcellent came..."
      ]
     },
     "execution_count": 157,
     "metadata": {},
     "output_type": "execute_result"
    }
   ],
   "source": [
    "iphonerev_5=pd.DataFrame()\n",
    "iphonerev_5['Rating']=ratings_5\n",
    "iphonerev_5['Review Summary']=comments_5\n",
    "iphonerev_5['Full Review']=reviews_5\n",
    "\n",
    "iphonerev_5"
   ]
  },
  {
   "cell_type": "code",
   "execution_count": 160,
   "id": "3da8ecc2",
   "metadata": {},
   "outputs": [],
   "source": [
    "driver.execute_script(\"window.scrollBy(0,1000)\",\"\")"
   ]
  },
  {
   "cell_type": "code",
   "execution_count": 161,
   "id": "9e135e5c",
   "metadata": {},
   "outputs": [
    {
     "data": {
      "text/plain": [
       "<selenium.webdriver.remote.webelement.WebElement (session=\"518dcfdbb077e78ea1f64cc6cbeb0e14\", element=\"a7327697-a3c2-4199-bc70-19a4c8dda5a3\")>"
      ]
     },
     "execution_count": 161,
     "metadata": {},
     "output_type": "execute_result"
    }
   ],
   "source": [
    "page6=driver.find_element_by_xpath('/html/body/div[1]/div/div[3]/div/div/div[2]/div[13]/div/div/nav/a[7]')\n",
    "page6"
   ]
  },
  {
   "cell_type": "code",
   "execution_count": 162,
   "id": "b3e294db",
   "metadata": {},
   "outputs": [],
   "source": [
    "page6.click()"
   ]
  },
  {
   "cell_type": "code",
   "execution_count": 163,
   "id": "121ed4b1",
   "metadata": {
    "collapsed": true
   },
   "outputs": [
    {
     "data": {
      "text/plain": [
       "[<selenium.webdriver.remote.webelement.WebElement (session=\"518dcfdbb077e78ea1f64cc6cbeb0e14\", element=\"2d172247-e27d-4209-972c-b6cedc214a5a\")>,\n",
       " <selenium.webdriver.remote.webelement.WebElement (session=\"518dcfdbb077e78ea1f64cc6cbeb0e14\", element=\"5de5684e-428c-4e0a-bbd1-1e661160c3c5\")>,\n",
       " <selenium.webdriver.remote.webelement.WebElement (session=\"518dcfdbb077e78ea1f64cc6cbeb0e14\", element=\"f460bee5-0513-42d5-a5a0-bac84c349dba\")>,\n",
       " <selenium.webdriver.remote.webelement.WebElement (session=\"518dcfdbb077e78ea1f64cc6cbeb0e14\", element=\"c64680f1-52b1-4e4d-8d1d-487023ebf743\")>,\n",
       " <selenium.webdriver.remote.webelement.WebElement (session=\"518dcfdbb077e78ea1f64cc6cbeb0e14\", element=\"f1f90c3a-155e-48f9-9bed-cc5f6f6d1f85\")>,\n",
       " <selenium.webdriver.remote.webelement.WebElement (session=\"518dcfdbb077e78ea1f64cc6cbeb0e14\", element=\"da2cc99a-4a7a-4e3f-9c7f-a6938d996f1a\")>,\n",
       " <selenium.webdriver.remote.webelement.WebElement (session=\"518dcfdbb077e78ea1f64cc6cbeb0e14\", element=\"d9ed5a09-710c-4d56-a0eb-26231376306f\")>,\n",
       " <selenium.webdriver.remote.webelement.WebElement (session=\"518dcfdbb077e78ea1f64cc6cbeb0e14\", element=\"04d9c666-182b-4899-b404-8cd7d2c39d7f\")>,\n",
       " <selenium.webdriver.remote.webelement.WebElement (session=\"518dcfdbb077e78ea1f64cc6cbeb0e14\", element=\"3f078199-3f70-45bc-8610-8d0db1cb5405\")>,\n",
       " <selenium.webdriver.remote.webelement.WebElement (session=\"518dcfdbb077e78ea1f64cc6cbeb0e14\", element=\"a4559bea-1c8f-4b3c-b5df-7e336304cf20\")>]"
      ]
     },
     "execution_count": 163,
     "metadata": {},
     "output_type": "execute_result"
    }
   ],
   "source": [
    "rating6=driver.find_elements_by_class_name('_1BLPMq')\n",
    "rating6"
   ]
  },
  {
   "cell_type": "code",
   "execution_count": 164,
   "id": "abf450ca",
   "metadata": {},
   "outputs": [
    {
     "data": {
      "text/plain": [
       "10"
      ]
     },
     "execution_count": 164,
     "metadata": {},
     "output_type": "execute_result"
    }
   ],
   "source": [
    "len(rating6)"
   ]
  },
  {
   "cell_type": "code",
   "execution_count": 165,
   "id": "b835458f",
   "metadata": {},
   "outputs": [
    {
     "data": {
      "text/plain": [
       "['5', '1', '5', '5', '4', '5', '5', '4', '5', '5']"
      ]
     },
     "execution_count": 165,
     "metadata": {},
     "output_type": "execute_result"
    }
   ],
   "source": [
    "ratings_6=[]\n",
    "\n",
    "for i in rating6:\n",
    "    ratings_6.append(i.text)\n",
    "    \n",
    "ratings_6[0:10]"
   ]
  },
  {
   "cell_type": "code",
   "execution_count": 166,
   "id": "c7203bd2",
   "metadata": {
    "collapsed": true
   },
   "outputs": [
    {
     "data": {
      "text/plain": [
       "[<selenium.webdriver.remote.webelement.WebElement (session=\"518dcfdbb077e78ea1f64cc6cbeb0e14\", element=\"0ea6fb26-0f51-4de2-ba97-ebacc51e99da\")>,\n",
       " <selenium.webdriver.remote.webelement.WebElement (session=\"518dcfdbb077e78ea1f64cc6cbeb0e14\", element=\"3d6a8e85-3581-438d-a77f-1afe5d1e7c9b\")>,\n",
       " <selenium.webdriver.remote.webelement.WebElement (session=\"518dcfdbb077e78ea1f64cc6cbeb0e14\", element=\"0ea56caf-0187-419a-b208-35cda07c1897\")>,\n",
       " <selenium.webdriver.remote.webelement.WebElement (session=\"518dcfdbb077e78ea1f64cc6cbeb0e14\", element=\"63730f94-d0e0-4ec3-a227-06f1985cdea5\")>,\n",
       " <selenium.webdriver.remote.webelement.WebElement (session=\"518dcfdbb077e78ea1f64cc6cbeb0e14\", element=\"583ce086-3cfb-4ac4-bb8f-fa65a3aa3091\")>,\n",
       " <selenium.webdriver.remote.webelement.WebElement (session=\"518dcfdbb077e78ea1f64cc6cbeb0e14\", element=\"b934ce8c-c485-4976-9b49-1aa0958fb2ab\")>,\n",
       " <selenium.webdriver.remote.webelement.WebElement (session=\"518dcfdbb077e78ea1f64cc6cbeb0e14\", element=\"61817163-a1bc-4f69-bb99-37b4e08db69f\")>,\n",
       " <selenium.webdriver.remote.webelement.WebElement (session=\"518dcfdbb077e78ea1f64cc6cbeb0e14\", element=\"6b97cb4e-fb19-4a7e-bd2d-472ec6f0ff1f\")>,\n",
       " <selenium.webdriver.remote.webelement.WebElement (session=\"518dcfdbb077e78ea1f64cc6cbeb0e14\", element=\"69daf1d8-0443-4c2c-bc03-9700918c4d0f\")>,\n",
       " <selenium.webdriver.remote.webelement.WebElement (session=\"518dcfdbb077e78ea1f64cc6cbeb0e14\", element=\"4a33617a-3c43-4c69-9253-d723de8e6775\")>]"
      ]
     },
     "execution_count": 166,
     "metadata": {},
     "output_type": "execute_result"
    }
   ],
   "source": [
    "comment6=driver.find_elements_by_class_name('_2-N8zT')\n",
    "comment6"
   ]
  },
  {
   "cell_type": "code",
   "execution_count": 167,
   "id": "5fff55d4",
   "metadata": {},
   "outputs": [
    {
     "data": {
      "text/plain": [
       "10"
      ]
     },
     "execution_count": 167,
     "metadata": {},
     "output_type": "execute_result"
    }
   ],
   "source": [
    "len(comment6)"
   ]
  },
  {
   "cell_type": "code",
   "execution_count": 168,
   "id": "4420e362",
   "metadata": {},
   "outputs": [
    {
     "data": {
      "text/plain": [
       "['Highly recommended',\n",
       " 'Very poor',\n",
       " 'Fabulous!',\n",
       " 'Excellent',\n",
       " 'Value-for-money',\n",
       " 'Best in the market!',\n",
       " 'Brilliant',\n",
       " 'Good quality product',\n",
       " 'Best in the market!',\n",
       " 'Awesome']"
      ]
     },
     "execution_count": 168,
     "metadata": {},
     "output_type": "execute_result"
    }
   ],
   "source": [
    "comments_6=[]\n",
    "\n",
    "for i in comment6:\n",
    "    comments_6.append(i.text)\n",
    "    \n",
    "comments_6[0:10]"
   ]
  },
  {
   "cell_type": "code",
   "execution_count": 169,
   "id": "1ab54655",
   "metadata": {
    "collapsed": true
   },
   "outputs": [
    {
     "data": {
      "text/plain": [
       "[<selenium.webdriver.remote.webelement.WebElement (session=\"518dcfdbb077e78ea1f64cc6cbeb0e14\", element=\"3e6d921e-896b-43a0-bf03-1d26c4c9e8e6\")>,\n",
       " <selenium.webdriver.remote.webelement.WebElement (session=\"518dcfdbb077e78ea1f64cc6cbeb0e14\", element=\"fc55832e-63dc-4343-b133-2372d8bba91c\")>,\n",
       " <selenium.webdriver.remote.webelement.WebElement (session=\"518dcfdbb077e78ea1f64cc6cbeb0e14\", element=\"c37d2261-4706-4cf3-8e13-a50cc97594b2\")>,\n",
       " <selenium.webdriver.remote.webelement.WebElement (session=\"518dcfdbb077e78ea1f64cc6cbeb0e14\", element=\"c06d0705-e52e-4347-a2e1-4fe3e8cdff90\")>,\n",
       " <selenium.webdriver.remote.webelement.WebElement (session=\"518dcfdbb077e78ea1f64cc6cbeb0e14\", element=\"54f06d29-815e-4424-a63f-c9ddeb6c80e9\")>,\n",
       " <selenium.webdriver.remote.webelement.WebElement (session=\"518dcfdbb077e78ea1f64cc6cbeb0e14\", element=\"cac40b67-a156-4e01-ba48-b0170f940881\")>,\n",
       " <selenium.webdriver.remote.webelement.WebElement (session=\"518dcfdbb077e78ea1f64cc6cbeb0e14\", element=\"41d95bc2-32ee-4272-8b77-8b9c5de65fb5\")>,\n",
       " <selenium.webdriver.remote.webelement.WebElement (session=\"518dcfdbb077e78ea1f64cc6cbeb0e14\", element=\"fd423cfb-2067-479b-aee9-bca48b9bd0f0\")>,\n",
       " <selenium.webdriver.remote.webelement.WebElement (session=\"518dcfdbb077e78ea1f64cc6cbeb0e14\", element=\"3a9a60cb-e5cd-42c8-9a7d-a826f08a959b\")>,\n",
       " <selenium.webdriver.remote.webelement.WebElement (session=\"518dcfdbb077e78ea1f64cc6cbeb0e14\", element=\"42342976-6f11-40bf-802e-0ae9097b1ca2\")>]"
      ]
     },
     "execution_count": 169,
     "metadata": {},
     "output_type": "execute_result"
    }
   ],
   "source": [
    "review6=driver.find_elements_by_class_name('t-ZTKy')\n",
    "review6"
   ]
  },
  {
   "cell_type": "code",
   "execution_count": 170,
   "id": "e6b1e4ff",
   "metadata": {},
   "outputs": [
    {
     "data": {
      "text/plain": [
       "10"
      ]
     },
     "execution_count": 170,
     "metadata": {},
     "output_type": "execute_result"
    }
   ],
   "source": [
    "len(review6)"
   ]
  },
  {
   "cell_type": "code",
   "execution_count": 171,
   "id": "79b79423",
   "metadata": {
    "collapsed": true
   },
   "outputs": [
    {
     "data": {
      "text/plain": [
       "['Thanks Flipkart For this amazing deal! I had a dream of owning a iphone since i had known about.\\nIm very happy with my purchase & it is totally worth it.\\nAmazing experience all over !!\\n\\nAnyone who’s thinking of buying it in 2021, i would simply say go for it without any second thoughts ❤️',\n",
       " 'Please DONT buy from here,\\n\\nI purchased Apple iPhone 11. with an exchange of IPhone 7, the exchange did not go well, iPhone 7 had a small scratch out side screen which i could never identify till date, but the FLIPKART person could, so he reduced 50% from exchange rate. I decided not to trade in, but paid money.\\n\\niPhone 11 Detail Below\\n---------------------------------------------\\nIt came with no charging, then i have put for charging, it took lot of time for charging, the phone also showe...\\nREAD MORE',\n",
       " 'awesome phone to have. it has got many smart features apart from mind blowing looks, camera, display, battery and sound. have fallen in love with this phone. must buy phone if you have got enough money. thanks to flipkart and apple of course..',\n",
       " 'Its a fabulous mobile look awesome performance unbeaten camera like dslr battery good i think this is a beast of mobile',\n",
       " \"Just got this iphone 11\\nAnd it is most powerful mobile phone I have used ever\\n\\nSo,go for it if you want a phone with best specification like camera,battery backup,display, A13 bionic chip\\n\\nThat's my review about this phone but yours can be differ from me....\",\n",
       " \"The best all rounder iphone. Flipkart is doing a great job. They're delivery services are blazing fast. I got delivery on the same day. Genuine Apple Product. Working great. Talking about review There's no need of review for iphones. They're simply the best.\",\n",
       " 'Amazing phone and on great deal I received with super fast delivery by Flipkart...',\n",
       " \"I'm switching this phone to oppo reno 10x zoom\\nIt's really impressive\\nRarely I'm missing smooth display touch response like oppo reno but\\nI really loved it.\\nCamera really impressive\",\n",
       " 'Damn this phone is a blast . Upgraded from android to ios and is a duperb experience. Battery backup is top notch and display also pretty good',\n",
       " 'I dreamt about this day from a long time.... Getting an iPhone with my own money.... Super happy and worth spending every penny']"
      ]
     },
     "execution_count": 171,
     "metadata": {},
     "output_type": "execute_result"
    }
   ],
   "source": [
    "reviews_6=[]\n",
    "\n",
    "for i in review6:\n",
    "    reviews_6.append(i.text)\n",
    "    \n",
    "reviews_6[0:10]"
   ]
  },
  {
   "cell_type": "code",
   "execution_count": 172,
   "id": "c5bfa500",
   "metadata": {
    "collapsed": true
   },
   "outputs": [
    {
     "data": {
      "text/html": [
       "<div>\n",
       "<style scoped>\n",
       "    .dataframe tbody tr th:only-of-type {\n",
       "        vertical-align: middle;\n",
       "    }\n",
       "\n",
       "    .dataframe tbody tr th {\n",
       "        vertical-align: top;\n",
       "    }\n",
       "\n",
       "    .dataframe thead th {\n",
       "        text-align: right;\n",
       "    }\n",
       "</style>\n",
       "<table border=\"1\" class=\"dataframe\">\n",
       "  <thead>\n",
       "    <tr style=\"text-align: right;\">\n",
       "      <th></th>\n",
       "      <th>Rating</th>\n",
       "      <th>Review Summary</th>\n",
       "      <th>Full Review</th>\n",
       "    </tr>\n",
       "  </thead>\n",
       "  <tbody>\n",
       "    <tr>\n",
       "      <th>0</th>\n",
       "      <td>5</td>\n",
       "      <td>Highly recommended</td>\n",
       "      <td>Thanks Flipkart For this amazing deal! I had a...</td>\n",
       "    </tr>\n",
       "    <tr>\n",
       "      <th>1</th>\n",
       "      <td>1</td>\n",
       "      <td>Very poor</td>\n",
       "      <td>Please DONT buy from here,\\n\\nI purchased Appl...</td>\n",
       "    </tr>\n",
       "    <tr>\n",
       "      <th>2</th>\n",
       "      <td>5</td>\n",
       "      <td>Fabulous!</td>\n",
       "      <td>awesome phone to have. it has got many smart f...</td>\n",
       "    </tr>\n",
       "    <tr>\n",
       "      <th>3</th>\n",
       "      <td>5</td>\n",
       "      <td>Excellent</td>\n",
       "      <td>Its a fabulous mobile look awesome performance...</td>\n",
       "    </tr>\n",
       "    <tr>\n",
       "      <th>4</th>\n",
       "      <td>4</td>\n",
       "      <td>Value-for-money</td>\n",
       "      <td>Just got this iphone 11\\nAnd it is most powerf...</td>\n",
       "    </tr>\n",
       "    <tr>\n",
       "      <th>5</th>\n",
       "      <td>5</td>\n",
       "      <td>Best in the market!</td>\n",
       "      <td>The best all rounder iphone. Flipkart is doing...</td>\n",
       "    </tr>\n",
       "    <tr>\n",
       "      <th>6</th>\n",
       "      <td>5</td>\n",
       "      <td>Brilliant</td>\n",
       "      <td>Amazing phone and on great deal I received wit...</td>\n",
       "    </tr>\n",
       "    <tr>\n",
       "      <th>7</th>\n",
       "      <td>4</td>\n",
       "      <td>Good quality product</td>\n",
       "      <td>I'm switching this phone to oppo reno 10x zoom...</td>\n",
       "    </tr>\n",
       "    <tr>\n",
       "      <th>8</th>\n",
       "      <td>5</td>\n",
       "      <td>Best in the market!</td>\n",
       "      <td>Damn this phone is a blast . Upgraded from and...</td>\n",
       "    </tr>\n",
       "    <tr>\n",
       "      <th>9</th>\n",
       "      <td>5</td>\n",
       "      <td>Awesome</td>\n",
       "      <td>I dreamt about this day from a long time.... G...</td>\n",
       "    </tr>\n",
       "  </tbody>\n",
       "</table>\n",
       "</div>"
      ],
      "text/plain": [
       "  Rating        Review Summary  \\\n",
       "0      5    Highly recommended   \n",
       "1      1             Very poor   \n",
       "2      5             Fabulous!   \n",
       "3      5             Excellent   \n",
       "4      4       Value-for-money   \n",
       "5      5   Best in the market!   \n",
       "6      5             Brilliant   \n",
       "7      4  Good quality product   \n",
       "8      5   Best in the market!   \n",
       "9      5               Awesome   \n",
       "\n",
       "                                         Full Review  \n",
       "0  Thanks Flipkart For this amazing deal! I had a...  \n",
       "1  Please DONT buy from here,\\n\\nI purchased Appl...  \n",
       "2  awesome phone to have. it has got many smart f...  \n",
       "3  Its a fabulous mobile look awesome performance...  \n",
       "4  Just got this iphone 11\\nAnd it is most powerf...  \n",
       "5  The best all rounder iphone. Flipkart is doing...  \n",
       "6  Amazing phone and on great deal I received wit...  \n",
       "7  I'm switching this phone to oppo reno 10x zoom...  \n",
       "8  Damn this phone is a blast . Upgraded from and...  \n",
       "9  I dreamt about this day from a long time.... G...  "
      ]
     },
     "execution_count": 172,
     "metadata": {},
     "output_type": "execute_result"
    }
   ],
   "source": [
    "iphonerev_6=pd.DataFrame()\n",
    "iphonerev_6['Rating']=ratings_6\n",
    "iphonerev_6['Review Summary']=comments_6\n",
    "iphonerev_6['Full Review']=reviews_6\n",
    "\n",
    "iphonerev_6"
   ]
  },
  {
   "cell_type": "code",
   "execution_count": 175,
   "id": "469bd2a8",
   "metadata": {},
   "outputs": [],
   "source": [
    "driver.execute_script(\"window.scrollBy(0,1000)\",\"\")"
   ]
  },
  {
   "cell_type": "code",
   "execution_count": 176,
   "id": "942c9ea7",
   "metadata": {},
   "outputs": [
    {
     "data": {
      "text/plain": [
       "<selenium.webdriver.remote.webelement.WebElement (session=\"518dcfdbb077e78ea1f64cc6cbeb0e14\", element=\"5dc6b006-9079-43fa-8025-52a07449a53f\")>"
      ]
     },
     "execution_count": 176,
     "metadata": {},
     "output_type": "execute_result"
    }
   ],
   "source": [
    "page7=driver.find_element_by_xpath('/html/body/div[1]/div/div[3]/div/div/div[2]/div[13]/div/div/nav/a[7]')\n",
    "page7"
   ]
  },
  {
   "cell_type": "code",
   "execution_count": 177,
   "id": "20a21c54",
   "metadata": {},
   "outputs": [],
   "source": [
    "page7.click()"
   ]
  },
  {
   "cell_type": "code",
   "execution_count": 178,
   "id": "9dbc92d8",
   "metadata": {
    "collapsed": true
   },
   "outputs": [
    {
     "data": {
      "text/plain": [
       "[<selenium.webdriver.remote.webelement.WebElement (session=\"518dcfdbb077e78ea1f64cc6cbeb0e14\", element=\"f1132803-0c26-4f88-b13d-6e7e59313f95\")>,\n",
       " <selenium.webdriver.remote.webelement.WebElement (session=\"518dcfdbb077e78ea1f64cc6cbeb0e14\", element=\"266da848-783f-4a69-9730-46442946be15\")>,\n",
       " <selenium.webdriver.remote.webelement.WebElement (session=\"518dcfdbb077e78ea1f64cc6cbeb0e14\", element=\"77a5f5b7-94fd-4030-a92d-01be2c455237\")>,\n",
       " <selenium.webdriver.remote.webelement.WebElement (session=\"518dcfdbb077e78ea1f64cc6cbeb0e14\", element=\"b980a609-5905-4114-b963-c8d2bea19c17\")>,\n",
       " <selenium.webdriver.remote.webelement.WebElement (session=\"518dcfdbb077e78ea1f64cc6cbeb0e14\", element=\"9a7248d0-541e-48c6-b71e-d36116f930df\")>,\n",
       " <selenium.webdriver.remote.webelement.WebElement (session=\"518dcfdbb077e78ea1f64cc6cbeb0e14\", element=\"7f34f710-7ac4-4fe0-846d-ccf0f1b993db\")>,\n",
       " <selenium.webdriver.remote.webelement.WebElement (session=\"518dcfdbb077e78ea1f64cc6cbeb0e14\", element=\"e67f0783-0602-4958-8abc-04f22ceaec67\")>,\n",
       " <selenium.webdriver.remote.webelement.WebElement (session=\"518dcfdbb077e78ea1f64cc6cbeb0e14\", element=\"d8cf80d9-22c8-4248-8ad9-75598143cb71\")>,\n",
       " <selenium.webdriver.remote.webelement.WebElement (session=\"518dcfdbb077e78ea1f64cc6cbeb0e14\", element=\"fb7e83b5-1358-4023-af3e-c80c983692f1\")>,\n",
       " <selenium.webdriver.remote.webelement.WebElement (session=\"518dcfdbb077e78ea1f64cc6cbeb0e14\", element=\"26ad96e9-f2de-4c61-b57d-f3ebc65d4941\")>]"
      ]
     },
     "execution_count": 178,
     "metadata": {},
     "output_type": "execute_result"
    }
   ],
   "source": [
    "rating7=driver.find_elements_by_class_name('_1BLPMq')\n",
    "rating7"
   ]
  },
  {
   "cell_type": "code",
   "execution_count": 179,
   "id": "54339457",
   "metadata": {},
   "outputs": [
    {
     "data": {
      "text/plain": [
       "10"
      ]
     },
     "execution_count": 179,
     "metadata": {},
     "output_type": "execute_result"
    }
   ],
   "source": [
    "len(rating7)"
   ]
  },
  {
   "cell_type": "code",
   "execution_count": 180,
   "id": "9089ef8e",
   "metadata": {},
   "outputs": [
    {
     "data": {
      "text/plain": [
       "['4', '1', '5', '5', '5', '5', '5', '5', '5', '5']"
      ]
     },
     "execution_count": 180,
     "metadata": {},
     "output_type": "execute_result"
    }
   ],
   "source": [
    "ratings_7=[]\n",
    "\n",
    "for i in rating7:\n",
    "    ratings_7.append(i.text)\n",
    "    \n",
    "ratings_7[0:10]"
   ]
  },
  {
   "cell_type": "code",
   "execution_count": 181,
   "id": "4da814e3",
   "metadata": {
    "collapsed": true
   },
   "outputs": [
    {
     "data": {
      "text/plain": [
       "[<selenium.webdriver.remote.webelement.WebElement (session=\"518dcfdbb077e78ea1f64cc6cbeb0e14\", element=\"9ec01f53-e337-438a-9f3b-ed6044415060\")>,\n",
       " <selenium.webdriver.remote.webelement.WebElement (session=\"518dcfdbb077e78ea1f64cc6cbeb0e14\", element=\"b9192e87-a1ca-4ba8-957a-b60dc4fdca02\")>,\n",
       " <selenium.webdriver.remote.webelement.WebElement (session=\"518dcfdbb077e78ea1f64cc6cbeb0e14\", element=\"ffc356e8-a96e-49a5-a76f-da6515179694\")>,\n",
       " <selenium.webdriver.remote.webelement.WebElement (session=\"518dcfdbb077e78ea1f64cc6cbeb0e14\", element=\"ef94b1c4-fef2-40e5-b4a9-47bec72f9664\")>,\n",
       " <selenium.webdriver.remote.webelement.WebElement (session=\"518dcfdbb077e78ea1f64cc6cbeb0e14\", element=\"0a0751c6-1341-4806-8952-e66fb21826bc\")>,\n",
       " <selenium.webdriver.remote.webelement.WebElement (session=\"518dcfdbb077e78ea1f64cc6cbeb0e14\", element=\"522d67c2-a1c8-4b17-871e-7f011f9f0c4d\")>,\n",
       " <selenium.webdriver.remote.webelement.WebElement (session=\"518dcfdbb077e78ea1f64cc6cbeb0e14\", element=\"fcbdda48-4592-46e2-ad1c-ed69eff76d65\")>,\n",
       " <selenium.webdriver.remote.webelement.WebElement (session=\"518dcfdbb077e78ea1f64cc6cbeb0e14\", element=\"42dfd3ec-d905-4722-9804-69af443ac5fc\")>,\n",
       " <selenium.webdriver.remote.webelement.WebElement (session=\"518dcfdbb077e78ea1f64cc6cbeb0e14\", element=\"ab16cc6a-9cc5-4514-ae88-e19f6c7bd50e\")>,\n",
       " <selenium.webdriver.remote.webelement.WebElement (session=\"518dcfdbb077e78ea1f64cc6cbeb0e14\", element=\"a21feb02-a6de-4a2b-94aa-1925612719f9\")>]"
      ]
     },
     "execution_count": 181,
     "metadata": {},
     "output_type": "execute_result"
    }
   ],
   "source": [
    "comment7=driver.find_elements_by_class_name('_2-N8zT')\n",
    "comment7"
   ]
  },
  {
   "cell_type": "code",
   "execution_count": 182,
   "id": "bc9c8558",
   "metadata": {},
   "outputs": [
    {
     "data": {
      "text/plain": [
       "10"
      ]
     },
     "execution_count": 182,
     "metadata": {},
     "output_type": "execute_result"
    }
   ],
   "source": [
    "len(comment7)"
   ]
  },
  {
   "cell_type": "code",
   "execution_count": 183,
   "id": "10493fea",
   "metadata": {
    "collapsed": true
   },
   "outputs": [
    {
     "data": {
      "text/plain": [
       "['Value-for-money',\n",
       " 'Worthless',\n",
       " 'Super!',\n",
       " 'Simply awesome',\n",
       " 'Just wow!',\n",
       " 'Perfect product!',\n",
       " 'Must buy!',\n",
       " 'Brilliant',\n",
       " 'Simply awesome',\n",
       " 'Fabulous!']"
      ]
     },
     "execution_count": 183,
     "metadata": {},
     "output_type": "execute_result"
    }
   ],
   "source": [
    "comments_7=[]\n",
    "\n",
    "for i in comment7:\n",
    "    comments_7.append(i.text)\n",
    "    \n",
    "comments_7[0:10]"
   ]
  },
  {
   "cell_type": "code",
   "execution_count": 184,
   "id": "0fd681bc",
   "metadata": {
    "collapsed": true
   },
   "outputs": [
    {
     "data": {
      "text/plain": [
       "[<selenium.webdriver.remote.webelement.WebElement (session=\"518dcfdbb077e78ea1f64cc6cbeb0e14\", element=\"427ede1e-5e47-46d0-b608-a7ee54c16621\")>,\n",
       " <selenium.webdriver.remote.webelement.WebElement (session=\"518dcfdbb077e78ea1f64cc6cbeb0e14\", element=\"12c0b034-e67f-49a4-8f65-bb1f1eee8060\")>,\n",
       " <selenium.webdriver.remote.webelement.WebElement (session=\"518dcfdbb077e78ea1f64cc6cbeb0e14\", element=\"11ea9953-f79b-45ea-9719-884029afbeb6\")>,\n",
       " <selenium.webdriver.remote.webelement.WebElement (session=\"518dcfdbb077e78ea1f64cc6cbeb0e14\", element=\"b07960c4-c191-4454-bd76-1412bb9e8cee\")>,\n",
       " <selenium.webdriver.remote.webelement.WebElement (session=\"518dcfdbb077e78ea1f64cc6cbeb0e14\", element=\"f56fee81-dcb0-4380-97ad-5ad02024ca9d\")>,\n",
       " <selenium.webdriver.remote.webelement.WebElement (session=\"518dcfdbb077e78ea1f64cc6cbeb0e14\", element=\"76de46e1-cbed-4280-85af-060d022be37e\")>,\n",
       " <selenium.webdriver.remote.webelement.WebElement (session=\"518dcfdbb077e78ea1f64cc6cbeb0e14\", element=\"c8e5c009-70ce-4f82-b922-8f7ec0fa1f4a\")>,\n",
       " <selenium.webdriver.remote.webelement.WebElement (session=\"518dcfdbb077e78ea1f64cc6cbeb0e14\", element=\"dc07f66b-6286-4ef1-9b94-80d616e7c409\")>,\n",
       " <selenium.webdriver.remote.webelement.WebElement (session=\"518dcfdbb077e78ea1f64cc6cbeb0e14\", element=\"57c6ba66-d4de-44a0-b539-3fa918eef18e\")>,\n",
       " <selenium.webdriver.remote.webelement.WebElement (session=\"518dcfdbb077e78ea1f64cc6cbeb0e14\", element=\"05950ebe-c12f-4a10-a185-d2d5d25e44ef\")>]"
      ]
     },
     "execution_count": 184,
     "metadata": {},
     "output_type": "execute_result"
    }
   ],
   "source": [
    "review7=driver.find_elements_by_class_name('t-ZTKy')\n",
    "review7"
   ]
  },
  {
   "cell_type": "code",
   "execution_count": 185,
   "id": "c78ad837",
   "metadata": {},
   "outputs": [
    {
     "data": {
      "text/plain": [
       "10"
      ]
     },
     "execution_count": 185,
     "metadata": {},
     "output_type": "execute_result"
    }
   ],
   "source": [
    "len(review7)"
   ]
  },
  {
   "cell_type": "code",
   "execution_count": 186,
   "id": "4f54bc6b",
   "metadata": {
    "collapsed": true
   },
   "outputs": [
    {
     "data": {
      "text/plain": [
       "[\"I'm Really happy with the product\\nDelivery was fast as well\\n..it was a gift for my sister and she loved it so much.\",\n",
       " \"Phone is awesome no doubt. But Camera & Display is not great. Performance is mind blowing.\\nBut the phone is heating too much when charging or when you regularly used. It's experience after using 1 week. It's heating extrem when I play PUBG for 30 minutes.\\nGo for iPhone 11 pro or 12. Otherwise go for Android phone you will get much better phone in less price.\",\n",
       " 'Did an upgrade from 6s plus to iphone 11.\\nAo far the experience is well and good. Felt smoother than 6s plus. The camera quality is superb. Battery backup is descent. Not a heavy user, and gets power more than a day. Go for it if you need an alrounder iphone in a competitve price.',\n",
       " 'Excellent camera, good performance, no lag. The lcd display is also good.. but difference come when we watch movie in prime and Netflix, the colours are not vibrant.. as we see in amoled display.. and the charger in box is of 5 watts.. takes more than 3 hours to charge from 0 to 100.. so guys be prepare to buy 18 watts charger . Finally I am an android user, it was my first Iapple phone, I promise u guys the iOS is so smooth.. overall the phone is damn good.... close eyes to buy it.. thanks t...\\nREAD MORE',\n",
       " 'Camera battery and it’s overall performance is good',\n",
       " 'Awesome purchase. Amazing phone with good battery backup. It’s a top notch device. White colour looks amazing. Phone has a few extra feature than iPhone XR. Overall, this is value for money',\n",
       " 'It’s an amazing product from apple and the camera is simply superb. Phone is faster.Night shot is simply superb and detailing and colour differentiation from camera is an added advantage\\n\\nThis review I have written from iPhone 11 only and I am glad to say outside.\\n\\nCons wise if we see HD+ display only, no battery percentage indicator as in older iPhone 8.\\nNo assistive touch control button in it\\nNo oleophobic coating on back panel glass and finger prints are visible but since I bought mint gr...\\nREAD MORE',\n",
       " 'Excellent camera and display touching very nice and smooth very improvement against iPhone XR and new processor is very fast',\n",
       " \"It's very high performances devise i am like the service of flipkart delevary very fast and packing very nice perfect phone\",\n",
       " \"I can say I'm damn impressed with iPhone 11. As they says iPhone 11 have the toughest glass ever in the smartphone which you'll find on the front and back and it's totally smooth. The fit and finish is full apple quality - there's no sense that any cheaping out has happened in the construction. Without saying it's camera features this review won't complete. The iPhone 11 has a dual camera system, consisting of a wide angle len's that's pretty much same as found on the iPhone XR last year, but...\\nREAD MORE\"]"
      ]
     },
     "execution_count": 186,
     "metadata": {},
     "output_type": "execute_result"
    }
   ],
   "source": [
    "reviews_7=[]\n",
    "\n",
    "for i in review7:\n",
    "    reviews_7.append(i.text)\n",
    "    \n",
    "reviews_7[0:10]"
   ]
  },
  {
   "cell_type": "code",
   "execution_count": 187,
   "id": "54a4dbd2",
   "metadata": {
    "collapsed": true
   },
   "outputs": [
    {
     "data": {
      "text/html": [
       "<div>\n",
       "<style scoped>\n",
       "    .dataframe tbody tr th:only-of-type {\n",
       "        vertical-align: middle;\n",
       "    }\n",
       "\n",
       "    .dataframe tbody tr th {\n",
       "        vertical-align: top;\n",
       "    }\n",
       "\n",
       "    .dataframe thead th {\n",
       "        text-align: right;\n",
       "    }\n",
       "</style>\n",
       "<table border=\"1\" class=\"dataframe\">\n",
       "  <thead>\n",
       "    <tr style=\"text-align: right;\">\n",
       "      <th></th>\n",
       "      <th>Rating</th>\n",
       "      <th>Review Summary</th>\n",
       "      <th>Full Review</th>\n",
       "    </tr>\n",
       "  </thead>\n",
       "  <tbody>\n",
       "    <tr>\n",
       "      <th>0</th>\n",
       "      <td>4</td>\n",
       "      <td>Value-for-money</td>\n",
       "      <td>I'm Really happy with the product\\nDelivery wa...</td>\n",
       "    </tr>\n",
       "    <tr>\n",
       "      <th>1</th>\n",
       "      <td>1</td>\n",
       "      <td>Worthless</td>\n",
       "      <td>Phone is awesome no doubt. But Camera &amp; Displa...</td>\n",
       "    </tr>\n",
       "    <tr>\n",
       "      <th>2</th>\n",
       "      <td>5</td>\n",
       "      <td>Super!</td>\n",
       "      <td>Did an upgrade from 6s plus to iphone 11.\\nAo ...</td>\n",
       "    </tr>\n",
       "    <tr>\n",
       "      <th>3</th>\n",
       "      <td>5</td>\n",
       "      <td>Simply awesome</td>\n",
       "      <td>Excellent camera, good performance, no lag. Th...</td>\n",
       "    </tr>\n",
       "    <tr>\n",
       "      <th>4</th>\n",
       "      <td>5</td>\n",
       "      <td>Just wow!</td>\n",
       "      <td>Camera battery and it’s overall performance is...</td>\n",
       "    </tr>\n",
       "    <tr>\n",
       "      <th>5</th>\n",
       "      <td>5</td>\n",
       "      <td>Perfect product!</td>\n",
       "      <td>Awesome purchase. Amazing phone with good batt...</td>\n",
       "    </tr>\n",
       "    <tr>\n",
       "      <th>6</th>\n",
       "      <td>5</td>\n",
       "      <td>Must buy!</td>\n",
       "      <td>It’s an amazing product from apple and the cam...</td>\n",
       "    </tr>\n",
       "    <tr>\n",
       "      <th>7</th>\n",
       "      <td>5</td>\n",
       "      <td>Brilliant</td>\n",
       "      <td>Excellent camera and display touching very nic...</td>\n",
       "    </tr>\n",
       "    <tr>\n",
       "      <th>8</th>\n",
       "      <td>5</td>\n",
       "      <td>Simply awesome</td>\n",
       "      <td>It's very high performances devise i am like t...</td>\n",
       "    </tr>\n",
       "    <tr>\n",
       "      <th>9</th>\n",
       "      <td>5</td>\n",
       "      <td>Fabulous!</td>\n",
       "      <td>I can say I'm damn impressed with iPhone 11. A...</td>\n",
       "    </tr>\n",
       "  </tbody>\n",
       "</table>\n",
       "</div>"
      ],
      "text/plain": [
       "  Rating    Review Summary                                        Full Review\n",
       "0      4   Value-for-money  I'm Really happy with the product\\nDelivery wa...\n",
       "1      1         Worthless  Phone is awesome no doubt. But Camera & Displa...\n",
       "2      5            Super!  Did an upgrade from 6s plus to iphone 11.\\nAo ...\n",
       "3      5    Simply awesome  Excellent camera, good performance, no lag. Th...\n",
       "4      5         Just wow!  Camera battery and it’s overall performance is...\n",
       "5      5  Perfect product!  Awesome purchase. Amazing phone with good batt...\n",
       "6      5         Must buy!  It’s an amazing product from apple and the cam...\n",
       "7      5         Brilliant  Excellent camera and display touching very nic...\n",
       "8      5    Simply awesome  It's very high performances devise i am like t...\n",
       "9      5         Fabulous!  I can say I'm damn impressed with iPhone 11. A..."
      ]
     },
     "execution_count": 187,
     "metadata": {},
     "output_type": "execute_result"
    }
   ],
   "source": [
    "iphonerev_7=pd.DataFrame()\n",
    "iphonerev_7['Rating']=ratings_7\n",
    "iphonerev_7['Review Summary']=comments_7\n",
    "iphonerev_7['Full Review']=reviews_7\n",
    "\n",
    "iphonerev_7"
   ]
  },
  {
   "cell_type": "code",
   "execution_count": 190,
   "id": "40d8c340",
   "metadata": {},
   "outputs": [],
   "source": [
    "driver.execute_script(\"window.scrollBy(0,1000)\",\"\")"
   ]
  },
  {
   "cell_type": "code",
   "execution_count": 191,
   "id": "8d10d6ff",
   "metadata": {},
   "outputs": [
    {
     "data": {
      "text/plain": [
       "<selenium.webdriver.remote.webelement.WebElement (session=\"518dcfdbb077e78ea1f64cc6cbeb0e14\", element=\"651dbb75-408b-4dd3-bfa5-f34eda02c7ce\")>"
      ]
     },
     "execution_count": 191,
     "metadata": {},
     "output_type": "execute_result"
    }
   ],
   "source": [
    "page8=driver.find_element_by_xpath('/html/body/div[1]/div/div[3]/div/div/div[2]/div[13]/div/div/nav/a[7]')\n",
    "page8"
   ]
  },
  {
   "cell_type": "code",
   "execution_count": 192,
   "id": "583fed89",
   "metadata": {},
   "outputs": [],
   "source": [
    "page8.click()"
   ]
  },
  {
   "cell_type": "code",
   "execution_count": 193,
   "id": "d9152242",
   "metadata": {
    "collapsed": true
   },
   "outputs": [
    {
     "data": {
      "text/plain": [
       "[<selenium.webdriver.remote.webelement.WebElement (session=\"518dcfdbb077e78ea1f64cc6cbeb0e14\", element=\"0866194d-4f5b-42ff-ba50-109a1d3162fe\")>,\n",
       " <selenium.webdriver.remote.webelement.WebElement (session=\"518dcfdbb077e78ea1f64cc6cbeb0e14\", element=\"efd05e10-5d36-4f8a-b39a-96c4331b8bf0\")>,\n",
       " <selenium.webdriver.remote.webelement.WebElement (session=\"518dcfdbb077e78ea1f64cc6cbeb0e14\", element=\"400ef761-4097-42b3-a270-aba5f38f5308\")>,\n",
       " <selenium.webdriver.remote.webelement.WebElement (session=\"518dcfdbb077e78ea1f64cc6cbeb0e14\", element=\"dc6cf120-44dc-4141-9614-c21ad1d54796\")>,\n",
       " <selenium.webdriver.remote.webelement.WebElement (session=\"518dcfdbb077e78ea1f64cc6cbeb0e14\", element=\"9ed8027a-9b02-4180-bdd1-60b735117031\")>,\n",
       " <selenium.webdriver.remote.webelement.WebElement (session=\"518dcfdbb077e78ea1f64cc6cbeb0e14\", element=\"030d7105-fd86-4586-8818-701251f99e2d\")>,\n",
       " <selenium.webdriver.remote.webelement.WebElement (session=\"518dcfdbb077e78ea1f64cc6cbeb0e14\", element=\"4ee1ecfc-585c-484b-a06f-95be8bd81f8e\")>,\n",
       " <selenium.webdriver.remote.webelement.WebElement (session=\"518dcfdbb077e78ea1f64cc6cbeb0e14\", element=\"8234994c-ec60-4a36-9e41-6c729fb8dc49\")>,\n",
       " <selenium.webdriver.remote.webelement.WebElement (session=\"518dcfdbb077e78ea1f64cc6cbeb0e14\", element=\"0bbd4801-f6fa-48c0-a405-72a13f995aac\")>,\n",
       " <selenium.webdriver.remote.webelement.WebElement (session=\"518dcfdbb077e78ea1f64cc6cbeb0e14\", element=\"1690cabc-da0e-4a71-983f-0e9958d6d9fb\")>]"
      ]
     },
     "execution_count": 193,
     "metadata": {},
     "output_type": "execute_result"
    }
   ],
   "source": [
    "rating8=driver.find_elements_by_class_name('_1BLPMq')\n",
    "rating8"
   ]
  },
  {
   "cell_type": "code",
   "execution_count": 194,
   "id": "700bc6e7",
   "metadata": {},
   "outputs": [
    {
     "data": {
      "text/plain": [
       "10"
      ]
     },
     "execution_count": 194,
     "metadata": {},
     "output_type": "execute_result"
    }
   ],
   "source": [
    "len(rating8)"
   ]
  },
  {
   "cell_type": "code",
   "execution_count": 195,
   "id": "440d7128",
   "metadata": {},
   "outputs": [
    {
     "data": {
      "text/plain": [
       "['5', '1', '5', '5', '1', '5', '5', '5', '5', '5']"
      ]
     },
     "execution_count": 195,
     "metadata": {},
     "output_type": "execute_result"
    }
   ],
   "source": [
    "ratings_8=[]\n",
    "\n",
    "for i in rating8:\n",
    "    ratings_8.append(i.text)\n",
    "    \n",
    "ratings_8[0:10]"
   ]
  },
  {
   "cell_type": "code",
   "execution_count": 196,
   "id": "ab6d5298",
   "metadata": {
    "collapsed": true
   },
   "outputs": [
    {
     "data": {
      "text/plain": [
       "[<selenium.webdriver.remote.webelement.WebElement (session=\"518dcfdbb077e78ea1f64cc6cbeb0e14\", element=\"595b4d45-1130-43d8-a16b-5a706c4de534\")>,\n",
       " <selenium.webdriver.remote.webelement.WebElement (session=\"518dcfdbb077e78ea1f64cc6cbeb0e14\", element=\"1e2a3c62-bca3-4deb-93e0-e2ebb4d0ec6b\")>,\n",
       " <selenium.webdriver.remote.webelement.WebElement (session=\"518dcfdbb077e78ea1f64cc6cbeb0e14\", element=\"5e359dd1-0bb4-406a-9727-21515d2a7e57\")>,\n",
       " <selenium.webdriver.remote.webelement.WebElement (session=\"518dcfdbb077e78ea1f64cc6cbeb0e14\", element=\"dda6555d-7708-4974-922e-ec04ecde830d\")>,\n",
       " <selenium.webdriver.remote.webelement.WebElement (session=\"518dcfdbb077e78ea1f64cc6cbeb0e14\", element=\"66270289-4459-4571-8405-e698cc9bc7a6\")>,\n",
       " <selenium.webdriver.remote.webelement.WebElement (session=\"518dcfdbb077e78ea1f64cc6cbeb0e14\", element=\"aa5da6eb-deab-4d72-87d7-d6820a277fcd\")>,\n",
       " <selenium.webdriver.remote.webelement.WebElement (session=\"518dcfdbb077e78ea1f64cc6cbeb0e14\", element=\"a02d60da-38c9-4d96-ba38-eac4d2d2b019\")>,\n",
       " <selenium.webdriver.remote.webelement.WebElement (session=\"518dcfdbb077e78ea1f64cc6cbeb0e14\", element=\"7ee700ed-e9de-4d1c-891b-69b90d5dfc41\")>,\n",
       " <selenium.webdriver.remote.webelement.WebElement (session=\"518dcfdbb077e78ea1f64cc6cbeb0e14\", element=\"63e53adc-8a64-4c0b-ab9b-ec7833775110\")>,\n",
       " <selenium.webdriver.remote.webelement.WebElement (session=\"518dcfdbb077e78ea1f64cc6cbeb0e14\", element=\"60f532a8-8aec-4cd7-83a3-fb643fc867e0\")>]"
      ]
     },
     "execution_count": 196,
     "metadata": {},
     "output_type": "execute_result"
    }
   ],
   "source": [
    "comment8=driver.find_elements_by_class_name('_2-N8zT')\n",
    "comment8"
   ]
  },
  {
   "cell_type": "code",
   "execution_count": 197,
   "id": "f16fff72",
   "metadata": {},
   "outputs": [
    {
     "data": {
      "text/plain": [
       "10"
      ]
     },
     "execution_count": 197,
     "metadata": {},
     "output_type": "execute_result"
    }
   ],
   "source": [
    "len(comment8)"
   ]
  },
  {
   "cell_type": "code",
   "execution_count": 198,
   "id": "75358a0b",
   "metadata": {
    "collapsed": true
   },
   "outputs": [
    {
     "data": {
      "text/plain": [
       "['Just wow!',\n",
       " 'Absolute rubbish!',\n",
       " 'Great product',\n",
       " 'Excellent',\n",
       " 'Worthless',\n",
       " 'Mind-blowing purchase',\n",
       " 'Mind-blowing purchase',\n",
       " 'Super!',\n",
       " 'Excellent',\n",
       " 'Wonderful']"
      ]
     },
     "execution_count": 198,
     "metadata": {},
     "output_type": "execute_result"
    }
   ],
   "source": [
    "comments_8=[]\n",
    "\n",
    "for i in comment8:\n",
    "    comments_8.append(i.text)\n",
    "    \n",
    "comments_8[0:10]"
   ]
  },
  {
   "cell_type": "code",
   "execution_count": 199,
   "id": "def6af74",
   "metadata": {
    "collapsed": true
   },
   "outputs": [
    {
     "data": {
      "text/plain": [
       "[<selenium.webdriver.remote.webelement.WebElement (session=\"518dcfdbb077e78ea1f64cc6cbeb0e14\", element=\"b0ea43d3-1194-4ae1-ae72-2d0676289492\")>,\n",
       " <selenium.webdriver.remote.webelement.WebElement (session=\"518dcfdbb077e78ea1f64cc6cbeb0e14\", element=\"c7b2657a-d586-4ab6-afbf-bb03f8b4f7af\")>,\n",
       " <selenium.webdriver.remote.webelement.WebElement (session=\"518dcfdbb077e78ea1f64cc6cbeb0e14\", element=\"190c393b-859c-4575-9f68-d0aee417ad03\")>,\n",
       " <selenium.webdriver.remote.webelement.WebElement (session=\"518dcfdbb077e78ea1f64cc6cbeb0e14\", element=\"1d6dba3a-fe9b-4c45-b7b7-0b45407b0980\")>,\n",
       " <selenium.webdriver.remote.webelement.WebElement (session=\"518dcfdbb077e78ea1f64cc6cbeb0e14\", element=\"ad6ac62f-91c7-44a3-b2db-eb8c4a291f58\")>,\n",
       " <selenium.webdriver.remote.webelement.WebElement (session=\"518dcfdbb077e78ea1f64cc6cbeb0e14\", element=\"a0978904-ab15-4a67-b2e0-f87baf4256a3\")>,\n",
       " <selenium.webdriver.remote.webelement.WebElement (session=\"518dcfdbb077e78ea1f64cc6cbeb0e14\", element=\"f4704e1a-fdec-46be-9901-f0f2c1da8087\")>,\n",
       " <selenium.webdriver.remote.webelement.WebElement (session=\"518dcfdbb077e78ea1f64cc6cbeb0e14\", element=\"980a62eb-ee0f-4fad-a998-5ec48bc217e1\")>,\n",
       " <selenium.webdriver.remote.webelement.WebElement (session=\"518dcfdbb077e78ea1f64cc6cbeb0e14\", element=\"a2b7a21f-86e7-44c7-af50-7ae54ab3cfc2\")>,\n",
       " <selenium.webdriver.remote.webelement.WebElement (session=\"518dcfdbb077e78ea1f64cc6cbeb0e14\", element=\"6cc4aea2-a39b-414d-a1b9-00264244166d\")>]"
      ]
     },
     "execution_count": 199,
     "metadata": {},
     "output_type": "execute_result"
    }
   ],
   "source": [
    "review8=driver.find_elements_by_class_name('t-ZTKy')\n",
    "review8"
   ]
  },
  {
   "cell_type": "code",
   "execution_count": 200,
   "id": "f1a2e9a7",
   "metadata": {},
   "outputs": [
    {
     "data": {
      "text/plain": [
       "10"
      ]
     },
     "execution_count": 200,
     "metadata": {},
     "output_type": "execute_result"
    }
   ],
   "source": [
    "len(review8)"
   ]
  },
  {
   "cell_type": "code",
   "execution_count": 201,
   "id": "ed1270f0",
   "metadata": {
    "collapsed": true
   },
   "outputs": [
    {
     "data": {
      "text/plain": [
       "['Best in class. Battery backup is good especially when you play games like Pubg COD. But it is sort of heavy when you hold in hands. Portrait mode is best to click pictures. Stage light effect is awesome. Try to click photos outside in nature because photos inside home or room will not give you the quality in any phone even in DSLR.',\n",
       " 'Products damage',\n",
       " 'Well you all know the specifications . One of a kind. Best iPhone till date. Many enhancements to the camera app with many options. Love the glass body with matte finish in the lens area on the back. Lovely colours to choose from. Best battery in an iPhone till date, enough to last more than a day in normal usage. I tested my iPhone 11 battery and lasted for than 24 hours after full charge still with 30% battery charge left. Watched movies for some time. Normal usage on calls, browsing, musi...\\nREAD MORE',\n",
       " 'A perfect phone and a good battery super camera and the sound is dynamic overall the phone is perfect for upgrading from lower iPhone model to iPhone 11',\n",
       " 'New Phone worked for 2 weeks. After it gone dead without any reason and unfortunately lockdown hence at repair center for last 2 weeks. There were a exchange offer for old phone but they deducted amount saying one scratch on edge of old phone, infact any phone if u use for 1 month, if u use ring on ur finger it will come. It was not at all visible. The display, battery, performance for the old phone was perfect, still they deducted. With this experience i suggest you to buy phones from author...\\nREAD MORE',\n",
       " 'First thanks to Flipkart for this amazing deal and phone is outstanding. I upgraded from iPhone 7 and this is like very big upgrade. But the packaging was very basic I expected a good packaging as they only wrapped one layer of bubble wrap which I don’t think is enough to protect this expensive phone. And I recommend this phone and seller as well.\\n\\nAnd I’m posting this review after using it for 4 days.',\n",
       " 'This will help you more. See if you are planning to buy iPhone 11. I will say. Yes. But there are some plans I just want to disclose before you buy. 1) If you are an existing iPhone X/XS/XS Max/ XR user, better you guys do not think it to buy. You guys have more or less better gadget. 2) If you are an android user and planning to buy premium phone. I will suggest them to please buy iPhone instead of buying an Android. I bet you will never go back to android after using IOS. Now I want to shar...\\nREAD MORE',\n",
       " 'This is my first ever iPhone.\\nAnd I truly don’t regret switching to IOS from my Android.\\n\\nIt is easily an alternative to a DSLR camera.\\nIf you’re obsessed with photos and videos, just don’t think twice or don’t compare to other androids(Samsung S10 lite or OnePlus 8/8T), as it’s far better from them in every field.\\nComparing will only make you confused.\\n\\nI am getting an average Screen on Time of around 10 hours with 30 percent left. I haven’t let my device discharged below 30 % as it aff...\\nREAD MORE',\n",
       " 'Amazing camera and feel super machine I am not describe my feeling but this is amazing Phone I am so lucky I have this',\n",
       " 'Superfast delivery by Flipkart. Thanks.\\n\\n1. iPhone 11 is a pretty solid phone for the money you are paying.\\n2. All the bad reviews about the display is confusing. It’s not that bad.\\n3. I switched from a Oneplus 7t. I have no complaints about the display quality of iPhone. Yes, it’s not OLED, so, we are missing on the deep blacks. But that’s it. It is a very colour accurate display. Gets adequately bright and I could not find any pixelation.\\n4. Performance is one of the best, if not best, in ...\\nREAD MORE']"
      ]
     },
     "execution_count": 201,
     "metadata": {},
     "output_type": "execute_result"
    }
   ],
   "source": [
    "reviews_8=[]\n",
    "\n",
    "for i in review8:\n",
    "    reviews_8.append(i.text)\n",
    "    \n",
    "reviews_8[0:10]"
   ]
  },
  {
   "cell_type": "code",
   "execution_count": 202,
   "id": "0c1ef209",
   "metadata": {
    "collapsed": true
   },
   "outputs": [
    {
     "data": {
      "text/html": [
       "<div>\n",
       "<style scoped>\n",
       "    .dataframe tbody tr th:only-of-type {\n",
       "        vertical-align: middle;\n",
       "    }\n",
       "\n",
       "    .dataframe tbody tr th {\n",
       "        vertical-align: top;\n",
       "    }\n",
       "\n",
       "    .dataframe thead th {\n",
       "        text-align: right;\n",
       "    }\n",
       "</style>\n",
       "<table border=\"1\" class=\"dataframe\">\n",
       "  <thead>\n",
       "    <tr style=\"text-align: right;\">\n",
       "      <th></th>\n",
       "      <th>Rating</th>\n",
       "      <th>Review Summary</th>\n",
       "      <th>Full Review</th>\n",
       "    </tr>\n",
       "  </thead>\n",
       "  <tbody>\n",
       "    <tr>\n",
       "      <th>0</th>\n",
       "      <td>5</td>\n",
       "      <td>Just wow!</td>\n",
       "      <td>Best in class. Battery backup is good especial...</td>\n",
       "    </tr>\n",
       "    <tr>\n",
       "      <th>1</th>\n",
       "      <td>1</td>\n",
       "      <td>Absolute rubbish!</td>\n",
       "      <td>Products damage</td>\n",
       "    </tr>\n",
       "    <tr>\n",
       "      <th>2</th>\n",
       "      <td>5</td>\n",
       "      <td>Great product</td>\n",
       "      <td>Well you all know the specifications . One of ...</td>\n",
       "    </tr>\n",
       "    <tr>\n",
       "      <th>3</th>\n",
       "      <td>5</td>\n",
       "      <td>Excellent</td>\n",
       "      <td>A perfect phone and a good battery super camer...</td>\n",
       "    </tr>\n",
       "    <tr>\n",
       "      <th>4</th>\n",
       "      <td>1</td>\n",
       "      <td>Worthless</td>\n",
       "      <td>New Phone worked for 2 weeks. After it gone de...</td>\n",
       "    </tr>\n",
       "    <tr>\n",
       "      <th>5</th>\n",
       "      <td>5</td>\n",
       "      <td>Mind-blowing purchase</td>\n",
       "      <td>First thanks to Flipkart for this amazing deal...</td>\n",
       "    </tr>\n",
       "    <tr>\n",
       "      <th>6</th>\n",
       "      <td>5</td>\n",
       "      <td>Mind-blowing purchase</td>\n",
       "      <td>This will help you more. See if you are planni...</td>\n",
       "    </tr>\n",
       "    <tr>\n",
       "      <th>7</th>\n",
       "      <td>5</td>\n",
       "      <td>Super!</td>\n",
       "      <td>This is my first ever iPhone.\\nAnd I truly don...</td>\n",
       "    </tr>\n",
       "    <tr>\n",
       "      <th>8</th>\n",
       "      <td>5</td>\n",
       "      <td>Excellent</td>\n",
       "      <td>Amazing camera and feel super machine I am not...</td>\n",
       "    </tr>\n",
       "    <tr>\n",
       "      <th>9</th>\n",
       "      <td>5</td>\n",
       "      <td>Wonderful</td>\n",
       "      <td>Superfast delivery by Flipkart. Thanks.\\n\\n1. ...</td>\n",
       "    </tr>\n",
       "  </tbody>\n",
       "</table>\n",
       "</div>"
      ],
      "text/plain": [
       "  Rating         Review Summary  \\\n",
       "0      5              Just wow!   \n",
       "1      1      Absolute rubbish!   \n",
       "2      5          Great product   \n",
       "3      5              Excellent   \n",
       "4      1              Worthless   \n",
       "5      5  Mind-blowing purchase   \n",
       "6      5  Mind-blowing purchase   \n",
       "7      5                 Super!   \n",
       "8      5              Excellent   \n",
       "9      5              Wonderful   \n",
       "\n",
       "                                         Full Review  \n",
       "0  Best in class. Battery backup is good especial...  \n",
       "1                                    Products damage  \n",
       "2  Well you all know the specifications . One of ...  \n",
       "3  A perfect phone and a good battery super camer...  \n",
       "4  New Phone worked for 2 weeks. After it gone de...  \n",
       "5  First thanks to Flipkart for this amazing deal...  \n",
       "6  This will help you more. See if you are planni...  \n",
       "7  This is my first ever iPhone.\\nAnd I truly don...  \n",
       "8  Amazing camera and feel super machine I am not...  \n",
       "9  Superfast delivery by Flipkart. Thanks.\\n\\n1. ...  "
      ]
     },
     "execution_count": 202,
     "metadata": {},
     "output_type": "execute_result"
    }
   ],
   "source": [
    "iphonerev_8=pd.DataFrame()\n",
    "iphonerev_8['Rating']=ratings_8\n",
    "iphonerev_8['Review Summary']=comments_8\n",
    "iphonerev_8['Full Review']=reviews_8\n",
    "\n",
    "iphonerev_8"
   ]
  },
  {
   "cell_type": "code",
   "execution_count": 205,
   "id": "aec0089d",
   "metadata": {},
   "outputs": [],
   "source": [
    "driver.execute_script(\"window.scrollBy(0,1000)\",\"\")"
   ]
  },
  {
   "cell_type": "code",
   "execution_count": 206,
   "id": "178bf5fb",
   "metadata": {},
   "outputs": [
    {
     "data": {
      "text/plain": [
       "<selenium.webdriver.remote.webelement.WebElement (session=\"518dcfdbb077e78ea1f64cc6cbeb0e14\", element=\"c0c77eab-bcaf-48ab-a7ef-a042e601b848\")>"
      ]
     },
     "execution_count": 206,
     "metadata": {},
     "output_type": "execute_result"
    }
   ],
   "source": [
    "page9=driver.find_element_by_xpath('/html/body/div[1]/div/div[3]/div/div/div[2]/div[13]/div/div/nav/a[7]')\n",
    "page9"
   ]
  },
  {
   "cell_type": "code",
   "execution_count": 207,
   "id": "38bd3dd0",
   "metadata": {},
   "outputs": [],
   "source": [
    "page9.click()"
   ]
  },
  {
   "cell_type": "code",
   "execution_count": 208,
   "id": "a4d24c36",
   "metadata": {
    "collapsed": true
   },
   "outputs": [
    {
     "data": {
      "text/plain": [
       "[<selenium.webdriver.remote.webelement.WebElement (session=\"518dcfdbb077e78ea1f64cc6cbeb0e14\", element=\"7a5b9dcc-11f8-47a9-8837-66b352c98238\")>,\n",
       " <selenium.webdriver.remote.webelement.WebElement (session=\"518dcfdbb077e78ea1f64cc6cbeb0e14\", element=\"63c1d39b-5029-4ec3-9fa2-1956c436ad21\")>,\n",
       " <selenium.webdriver.remote.webelement.WebElement (session=\"518dcfdbb077e78ea1f64cc6cbeb0e14\", element=\"32260f60-252b-473c-a494-06a9047eb8b7\")>,\n",
       " <selenium.webdriver.remote.webelement.WebElement (session=\"518dcfdbb077e78ea1f64cc6cbeb0e14\", element=\"9ba40971-2918-4833-92d6-875c780c9b19\")>,\n",
       " <selenium.webdriver.remote.webelement.WebElement (session=\"518dcfdbb077e78ea1f64cc6cbeb0e14\", element=\"47c87466-ffe8-4214-953b-55fc207cfc45\")>,\n",
       " <selenium.webdriver.remote.webelement.WebElement (session=\"518dcfdbb077e78ea1f64cc6cbeb0e14\", element=\"689b36d5-7cad-4708-84f5-10c12f638ed7\")>,\n",
       " <selenium.webdriver.remote.webelement.WebElement (session=\"518dcfdbb077e78ea1f64cc6cbeb0e14\", element=\"10015ac6-5e5b-45cf-a4c4-7aff86187284\")>,\n",
       " <selenium.webdriver.remote.webelement.WebElement (session=\"518dcfdbb077e78ea1f64cc6cbeb0e14\", element=\"5ed7a6fd-4fcd-4ae2-8d37-36707c5b3aa5\")>,\n",
       " <selenium.webdriver.remote.webelement.WebElement (session=\"518dcfdbb077e78ea1f64cc6cbeb0e14\", element=\"dcd25248-91bc-457d-9c06-06dca47580a7\")>,\n",
       " <selenium.webdriver.remote.webelement.WebElement (session=\"518dcfdbb077e78ea1f64cc6cbeb0e14\", element=\"089cdedb-edae-4693-8285-206bddd633b3\")>]"
      ]
     },
     "execution_count": 208,
     "metadata": {},
     "output_type": "execute_result"
    }
   ],
   "source": [
    "rating9=driver.find_elements_by_class_name('_1BLPMq')\n",
    "rating9"
   ]
  },
  {
   "cell_type": "code",
   "execution_count": 209,
   "id": "b184d890",
   "metadata": {},
   "outputs": [
    {
     "data": {
      "text/plain": [
       "10"
      ]
     },
     "execution_count": 209,
     "metadata": {},
     "output_type": "execute_result"
    }
   ],
   "source": [
    "len(rating9)"
   ]
  },
  {
   "cell_type": "code",
   "execution_count": 211,
   "id": "354d6208",
   "metadata": {},
   "outputs": [
    {
     "data": {
      "text/plain": [
       "['5', '5', '5', '3', '5', '5', '5', '5', '5', '1']"
      ]
     },
     "execution_count": 211,
     "metadata": {},
     "output_type": "execute_result"
    }
   ],
   "source": [
    "ratings_9=[]\n",
    "\n",
    "for i in rating9:\n",
    "    ratings_9.append(i.text)\n",
    "    \n",
    "ratings_9[0:10]"
   ]
  },
  {
   "cell_type": "code",
   "execution_count": 212,
   "id": "20208f59",
   "metadata": {
    "collapsed": true
   },
   "outputs": [
    {
     "data": {
      "text/plain": [
       "[<selenium.webdriver.remote.webelement.WebElement (session=\"518dcfdbb077e78ea1f64cc6cbeb0e14\", element=\"a75ebe03-b3ad-47fe-a297-b36e4f9769cc\")>,\n",
       " <selenium.webdriver.remote.webelement.WebElement (session=\"518dcfdbb077e78ea1f64cc6cbeb0e14\", element=\"6a322670-6263-476b-a0a7-f54abbbee32a\")>,\n",
       " <selenium.webdriver.remote.webelement.WebElement (session=\"518dcfdbb077e78ea1f64cc6cbeb0e14\", element=\"f9a6b5b1-4e0a-4589-85ad-8353945ad1f2\")>,\n",
       " <selenium.webdriver.remote.webelement.WebElement (session=\"518dcfdbb077e78ea1f64cc6cbeb0e14\", element=\"96f8fe67-a56c-48d3-abf7-f91ff81178ba\")>,\n",
       " <selenium.webdriver.remote.webelement.WebElement (session=\"518dcfdbb077e78ea1f64cc6cbeb0e14\", element=\"e73dd8cd-04c0-4ae7-bc7d-5f1cdbc1e4e8\")>,\n",
       " <selenium.webdriver.remote.webelement.WebElement (session=\"518dcfdbb077e78ea1f64cc6cbeb0e14\", element=\"b2bf3f86-1b5b-4f11-8328-f406e53ee376\")>,\n",
       " <selenium.webdriver.remote.webelement.WebElement (session=\"518dcfdbb077e78ea1f64cc6cbeb0e14\", element=\"52179752-ec69-48f1-a96b-8589784421df\")>,\n",
       " <selenium.webdriver.remote.webelement.WebElement (session=\"518dcfdbb077e78ea1f64cc6cbeb0e14\", element=\"15422e90-1cc2-41a3-9ad4-414b318ebff7\")>,\n",
       " <selenium.webdriver.remote.webelement.WebElement (session=\"518dcfdbb077e78ea1f64cc6cbeb0e14\", element=\"860d7f1c-7bbd-4500-931b-23a234a3f804\")>,\n",
       " <selenium.webdriver.remote.webelement.WebElement (session=\"518dcfdbb077e78ea1f64cc6cbeb0e14\", element=\"32553ea5-ce36-47d9-8a9c-7abdc30d2447\")>]"
      ]
     },
     "execution_count": 212,
     "metadata": {},
     "output_type": "execute_result"
    }
   ],
   "source": [
    "comment9=driver.find_elements_by_class_name('_2-N8zT')\n",
    "comment9"
   ]
  },
  {
   "cell_type": "code",
   "execution_count": 213,
   "id": "fe8edf13",
   "metadata": {},
   "outputs": [
    {
     "data": {
      "text/plain": [
       "10"
      ]
     },
     "execution_count": 213,
     "metadata": {},
     "output_type": "execute_result"
    }
   ],
   "source": [
    "len(comment9)"
   ]
  },
  {
   "cell_type": "code",
   "execution_count": 214,
   "id": "7b3cf746",
   "metadata": {
    "collapsed": true
   },
   "outputs": [
    {
     "data": {
      "text/plain": [
       "['Awesome',\n",
       " 'Perfect product!',\n",
       " 'Terrific purchase',\n",
       " 'Does the job',\n",
       " 'Just wow!',\n",
       " 'Terrific purchase',\n",
       " 'Worth every penny',\n",
       " 'Mind-blowing purchase',\n",
       " 'Excellent',\n",
       " 'Waste of money!']"
      ]
     },
     "execution_count": 214,
     "metadata": {},
     "output_type": "execute_result"
    }
   ],
   "source": [
    "comments_9=[]\n",
    "\n",
    "for i in comment9:\n",
    "    comments_9.append(i.text)\n",
    "    \n",
    "comments_9[0:10]"
   ]
  },
  {
   "cell_type": "code",
   "execution_count": 215,
   "id": "a3004bd9",
   "metadata": {
    "collapsed": true
   },
   "outputs": [
    {
     "data": {
      "text/plain": [
       "[<selenium.webdriver.remote.webelement.WebElement (session=\"518dcfdbb077e78ea1f64cc6cbeb0e14\", element=\"2f04c3c4-bd7b-445f-8c57-88af89c0adf0\")>,\n",
       " <selenium.webdriver.remote.webelement.WebElement (session=\"518dcfdbb077e78ea1f64cc6cbeb0e14\", element=\"7332f4a0-3081-423e-9349-e1a7aefb727c\")>,\n",
       " <selenium.webdriver.remote.webelement.WebElement (session=\"518dcfdbb077e78ea1f64cc6cbeb0e14\", element=\"e45e710d-7c40-4196-8d00-ed251240048b\")>,\n",
       " <selenium.webdriver.remote.webelement.WebElement (session=\"518dcfdbb077e78ea1f64cc6cbeb0e14\", element=\"229664ce-4cb3-4fee-9308-0861766ef9cf\")>,\n",
       " <selenium.webdriver.remote.webelement.WebElement (session=\"518dcfdbb077e78ea1f64cc6cbeb0e14\", element=\"d7804189-d8fb-4300-a1ea-850babe9d6dd\")>,\n",
       " <selenium.webdriver.remote.webelement.WebElement (session=\"518dcfdbb077e78ea1f64cc6cbeb0e14\", element=\"c289b084-d05b-4ff3-85d8-8db9236f5389\")>,\n",
       " <selenium.webdriver.remote.webelement.WebElement (session=\"518dcfdbb077e78ea1f64cc6cbeb0e14\", element=\"92818afb-f0ca-4a8e-9b3f-bba28c8e75b0\")>,\n",
       " <selenium.webdriver.remote.webelement.WebElement (session=\"518dcfdbb077e78ea1f64cc6cbeb0e14\", element=\"f8a0e4a0-ce6e-4071-b9a2-b387c5812d42\")>,\n",
       " <selenium.webdriver.remote.webelement.WebElement (session=\"518dcfdbb077e78ea1f64cc6cbeb0e14\", element=\"cdf7ff12-2be2-4c4c-a7bf-5a51ae31d266\")>,\n",
       " <selenium.webdriver.remote.webelement.WebElement (session=\"518dcfdbb077e78ea1f64cc6cbeb0e14\", element=\"52c61e85-6355-48ce-b417-03be00152b55\")>]"
      ]
     },
     "execution_count": 215,
     "metadata": {},
     "output_type": "execute_result"
    }
   ],
   "source": [
    "review9=driver.find_elements_by_class_name('t-ZTKy')\n",
    "review9"
   ]
  },
  {
   "cell_type": "code",
   "execution_count": 216,
   "id": "03519efb",
   "metadata": {},
   "outputs": [
    {
     "data": {
      "text/plain": [
       "10"
      ]
     },
     "execution_count": 216,
     "metadata": {},
     "output_type": "execute_result"
    }
   ],
   "source": [
    "len(review9)"
   ]
  },
  {
   "cell_type": "code",
   "execution_count": 217,
   "id": "ae3cd00b",
   "metadata": {
    "collapsed": true
   },
   "outputs": [
    {
     "data": {
      "text/plain": [
       "['Can’t beat the software and hardware integration of apple.\\nPerforms like a beast. Great quality camera\\n6-7 hours screen on time which is good. Nothing much to complaint about the screen. Good connectivity speeds.\\nGreat buy and Flipkart’s delivery top notch as usual',\n",
       " 'Worth the money’ starting first from its performance it beats out all phones , second the smoothness of camera is awesome, contrast ratio is much than expected. Price will not matter if u r a quality person, if not other phones are available with better discount',\n",
       " 'Its Very awesome product working and good camera quality and all about best product and also flipkart is very great deal and offer nice price',\n",
       " \"phone is good but in display is 720p lcd in this price range we can get full hd OLED displays with higher refresh rate processor is very good camera is nice but looks kind of oldish in front of todays phone also there's no charging in box had to buy it seperately\",\n",
       " 'Great iphone.\\nI am writing this review after 2 months of usage.\\nCamera is excellent, especially the nightmode\\nDisplay perfect\\nBattery backup awesome\\nSound quality very good\\nOverall Apple gives you a perfect iphone in this range.\\nReally in love with iPhone 11',\n",
       " 'finally an iPhone with very nice battery backup. update from iPhone 7 and happy to have it. camera is not up to the mark in low light but overall a recommended phone if your budget allows 😀',\n",
       " 'iPhone is delivered on time. Display is great u won’t feel that it’s a hd panel. Quality is excellent. Sounds is great it has stereo setup. Camera is good. iOS 14.2 comes in the box. U roughly get 113 gb free if u buy 128 gb. This is my second iPhone and i love it. Value for money.',\n",
       " 'beautiful shining, battery performance is too good.\\nonly the draw back is my expectations not meeted front cam but back cam is superb.',\n",
       " '🤩🤩🤩🤩🤩🤩I loved the Phone.. Every time I pick up the phone it makes me happy... The phone is beast💪💪 and the camera is fabulous 🥰🥰🥰.. I think one of my great purchase from Flipkart.. Thank you Filpkart..',\n",
       " 'Mobile is not getting charge.Mobile cannot be stated']"
      ]
     },
     "execution_count": 217,
     "metadata": {},
     "output_type": "execute_result"
    }
   ],
   "source": [
    "reviews_9=[]\n",
    "\n",
    "for i in review9:\n",
    "    reviews_9.append(i.text)\n",
    "    \n",
    "reviews_9[0:10]"
   ]
  },
  {
   "cell_type": "code",
   "execution_count": 218,
   "id": "ad292c2a",
   "metadata": {
    "collapsed": true
   },
   "outputs": [
    {
     "data": {
      "text/html": [
       "<div>\n",
       "<style scoped>\n",
       "    .dataframe tbody tr th:only-of-type {\n",
       "        vertical-align: middle;\n",
       "    }\n",
       "\n",
       "    .dataframe tbody tr th {\n",
       "        vertical-align: top;\n",
       "    }\n",
       "\n",
       "    .dataframe thead th {\n",
       "        text-align: right;\n",
       "    }\n",
       "</style>\n",
       "<table border=\"1\" class=\"dataframe\">\n",
       "  <thead>\n",
       "    <tr style=\"text-align: right;\">\n",
       "      <th></th>\n",
       "      <th>Rating</th>\n",
       "      <th>Review Summary</th>\n",
       "      <th>Full Review</th>\n",
       "    </tr>\n",
       "  </thead>\n",
       "  <tbody>\n",
       "    <tr>\n",
       "      <th>0</th>\n",
       "      <td>5</td>\n",
       "      <td>Awesome</td>\n",
       "      <td>Can’t beat the software and hardware integrati...</td>\n",
       "    </tr>\n",
       "    <tr>\n",
       "      <th>1</th>\n",
       "      <td>5</td>\n",
       "      <td>Perfect product!</td>\n",
       "      <td>Worth the money’ starting first from its perfo...</td>\n",
       "    </tr>\n",
       "    <tr>\n",
       "      <th>2</th>\n",
       "      <td>5</td>\n",
       "      <td>Terrific purchase</td>\n",
       "      <td>Its Very awesome product working and good came...</td>\n",
       "    </tr>\n",
       "    <tr>\n",
       "      <th>3</th>\n",
       "      <td>3</td>\n",
       "      <td>Does the job</td>\n",
       "      <td>phone is good but in display is 720p lcd in th...</td>\n",
       "    </tr>\n",
       "    <tr>\n",
       "      <th>4</th>\n",
       "      <td>5</td>\n",
       "      <td>Just wow!</td>\n",
       "      <td>Great iphone.\\nI am writing this review after ...</td>\n",
       "    </tr>\n",
       "    <tr>\n",
       "      <th>5</th>\n",
       "      <td>5</td>\n",
       "      <td>Terrific purchase</td>\n",
       "      <td>finally an iPhone with very nice battery backu...</td>\n",
       "    </tr>\n",
       "    <tr>\n",
       "      <th>6</th>\n",
       "      <td>5</td>\n",
       "      <td>Worth every penny</td>\n",
       "      <td>iPhone is delivered on time. Display is great ...</td>\n",
       "    </tr>\n",
       "    <tr>\n",
       "      <th>7</th>\n",
       "      <td>5</td>\n",
       "      <td>Mind-blowing purchase</td>\n",
       "      <td>beautiful shining, battery performance is too ...</td>\n",
       "    </tr>\n",
       "    <tr>\n",
       "      <th>8</th>\n",
       "      <td>5</td>\n",
       "      <td>Excellent</td>\n",
       "      <td>🤩🤩🤩🤩🤩🤩I loved the Phone.. Every time I pick up...</td>\n",
       "    </tr>\n",
       "    <tr>\n",
       "      <th>9</th>\n",
       "      <td>1</td>\n",
       "      <td>Waste of money!</td>\n",
       "      <td>Mobile is not getting charge.Mobile cannot be ...</td>\n",
       "    </tr>\n",
       "  </tbody>\n",
       "</table>\n",
       "</div>"
      ],
      "text/plain": [
       "  Rating         Review Summary  \\\n",
       "0      5                Awesome   \n",
       "1      5       Perfect product!   \n",
       "2      5      Terrific purchase   \n",
       "3      3           Does the job   \n",
       "4      5              Just wow!   \n",
       "5      5      Terrific purchase   \n",
       "6      5      Worth every penny   \n",
       "7      5  Mind-blowing purchase   \n",
       "8      5              Excellent   \n",
       "9      1        Waste of money!   \n",
       "\n",
       "                                         Full Review  \n",
       "0  Can’t beat the software and hardware integrati...  \n",
       "1  Worth the money’ starting first from its perfo...  \n",
       "2  Its Very awesome product working and good came...  \n",
       "3  phone is good but in display is 720p lcd in th...  \n",
       "4  Great iphone.\\nI am writing this review after ...  \n",
       "5  finally an iPhone with very nice battery backu...  \n",
       "6  iPhone is delivered on time. Display is great ...  \n",
       "7  beautiful shining, battery performance is too ...  \n",
       "8  🤩🤩🤩🤩🤩🤩I loved the Phone.. Every time I pick up...  \n",
       "9  Mobile is not getting charge.Mobile cannot be ...  "
      ]
     },
     "execution_count": 218,
     "metadata": {},
     "output_type": "execute_result"
    }
   ],
   "source": [
    "iphonerev_9=pd.DataFrame()\n",
    "iphonerev_9['Rating']=ratings_9\n",
    "iphonerev_9['Review Summary']=comments_9\n",
    "iphonerev_9['Full Review']=reviews_9\n",
    "\n",
    "iphonerev_9"
   ]
  },
  {
   "cell_type": "code",
   "execution_count": 221,
   "id": "82f3c30f",
   "metadata": {},
   "outputs": [],
   "source": [
    "driver.execute_script(\"window.scrollBy(0,1000)\",\"\")"
   ]
  },
  {
   "cell_type": "code",
   "execution_count": 222,
   "id": "243b5f37",
   "metadata": {},
   "outputs": [
    {
     "data": {
      "text/plain": [
       "<selenium.webdriver.remote.webelement.WebElement (session=\"518dcfdbb077e78ea1f64cc6cbeb0e14\", element=\"eeed26d4-ed73-4622-bc51-53a64f2ed2ab\")>"
      ]
     },
     "execution_count": 222,
     "metadata": {},
     "output_type": "execute_result"
    }
   ],
   "source": [
    "page10=driver.find_element_by_xpath('/html/body/div[1]/div/div[3]/div/div/div[2]/div[13]/div/div/nav/a[7]')\n",
    "page10"
   ]
  },
  {
   "cell_type": "code",
   "execution_count": 223,
   "id": "a40f044f",
   "metadata": {},
   "outputs": [],
   "source": [
    "page10.click()"
   ]
  },
  {
   "cell_type": "code",
   "execution_count": 224,
   "id": "e04a2a39",
   "metadata": {
    "collapsed": true
   },
   "outputs": [
    {
     "data": {
      "text/plain": [
       "[<selenium.webdriver.remote.webelement.WebElement (session=\"518dcfdbb077e78ea1f64cc6cbeb0e14\", element=\"22a49c0b-dc2a-42f1-8188-4bc32d8c1cea\")>,\n",
       " <selenium.webdriver.remote.webelement.WebElement (session=\"518dcfdbb077e78ea1f64cc6cbeb0e14\", element=\"9ad71520-721e-4cce-b3fc-2a87cebbe09b\")>,\n",
       " <selenium.webdriver.remote.webelement.WebElement (session=\"518dcfdbb077e78ea1f64cc6cbeb0e14\", element=\"2a049e34-0506-48f1-b81d-1733c8a6a3c0\")>,\n",
       " <selenium.webdriver.remote.webelement.WebElement (session=\"518dcfdbb077e78ea1f64cc6cbeb0e14\", element=\"44951d33-ffa2-4540-8f9b-762d312699cd\")>,\n",
       " <selenium.webdriver.remote.webelement.WebElement (session=\"518dcfdbb077e78ea1f64cc6cbeb0e14\", element=\"a7f9e6d9-3527-49a7-a476-a8ca0353d2c9\")>,\n",
       " <selenium.webdriver.remote.webelement.WebElement (session=\"518dcfdbb077e78ea1f64cc6cbeb0e14\", element=\"fba7189f-4faa-4d53-b018-9bc8d8291f77\")>,\n",
       " <selenium.webdriver.remote.webelement.WebElement (session=\"518dcfdbb077e78ea1f64cc6cbeb0e14\", element=\"1e576c5f-982a-415c-a906-34011e67fe46\")>,\n",
       " <selenium.webdriver.remote.webelement.WebElement (session=\"518dcfdbb077e78ea1f64cc6cbeb0e14\", element=\"39f40540-daf5-4d05-a7a3-d0c235e38b13\")>,\n",
       " <selenium.webdriver.remote.webelement.WebElement (session=\"518dcfdbb077e78ea1f64cc6cbeb0e14\", element=\"e98888a2-7392-44ec-ad86-86abad016223\")>,\n",
       " <selenium.webdriver.remote.webelement.WebElement (session=\"518dcfdbb077e78ea1f64cc6cbeb0e14\", element=\"f63a3d4b-f094-4301-970c-f52230bdb327\")>]"
      ]
     },
     "execution_count": 224,
     "metadata": {},
     "output_type": "execute_result"
    }
   ],
   "source": [
    "rating10=driver.find_elements_by_class_name('_1BLPMq')\n",
    "rating10"
   ]
  },
  {
   "cell_type": "code",
   "execution_count": 225,
   "id": "0f3be5e2",
   "metadata": {},
   "outputs": [
    {
     "data": {
      "text/plain": [
       "10"
      ]
     },
     "execution_count": 225,
     "metadata": {},
     "output_type": "execute_result"
    }
   ],
   "source": [
    "len(rating10)"
   ]
  },
  {
   "cell_type": "code",
   "execution_count": 226,
   "id": "486fe028",
   "metadata": {},
   "outputs": [
    {
     "data": {
      "text/plain": [
       "['5', '5', '5', '5', '5', '5', '5', '5', '5', '4']"
      ]
     },
     "execution_count": 226,
     "metadata": {},
     "output_type": "execute_result"
    }
   ],
   "source": [
    "ratings_10=[]\n",
    "\n",
    "for i in rating10:\n",
    "    ratings_10.append(i.text)\n",
    "    \n",
    "ratings_10[0:10]"
   ]
  },
  {
   "cell_type": "code",
   "execution_count": 227,
   "id": "1bc739f8",
   "metadata": {
    "collapsed": true
   },
   "outputs": [
    {
     "data": {
      "text/plain": [
       "[<selenium.webdriver.remote.webelement.WebElement (session=\"518dcfdbb077e78ea1f64cc6cbeb0e14\", element=\"a96ec397-7fe0-42f8-9cc3-a9744a61a854\")>,\n",
       " <selenium.webdriver.remote.webelement.WebElement (session=\"518dcfdbb077e78ea1f64cc6cbeb0e14\", element=\"f0d66887-7e4d-4be8-bea7-f827336f0778\")>,\n",
       " <selenium.webdriver.remote.webelement.WebElement (session=\"518dcfdbb077e78ea1f64cc6cbeb0e14\", element=\"8e826f07-6c5c-4298-a300-e1952bf406a7\")>,\n",
       " <selenium.webdriver.remote.webelement.WebElement (session=\"518dcfdbb077e78ea1f64cc6cbeb0e14\", element=\"80b50c18-2132-441c-bf53-9b6960784d4d\")>,\n",
       " <selenium.webdriver.remote.webelement.WebElement (session=\"518dcfdbb077e78ea1f64cc6cbeb0e14\", element=\"8339533f-7a61-4dee-8022-3ffa10d93ba8\")>,\n",
       " <selenium.webdriver.remote.webelement.WebElement (session=\"518dcfdbb077e78ea1f64cc6cbeb0e14\", element=\"5005e5db-a8f9-4449-8c70-5b725a851808\")>,\n",
       " <selenium.webdriver.remote.webelement.WebElement (session=\"518dcfdbb077e78ea1f64cc6cbeb0e14\", element=\"0b9b7b67-068a-4901-8cda-0e371b1cc7bc\")>,\n",
       " <selenium.webdriver.remote.webelement.WebElement (session=\"518dcfdbb077e78ea1f64cc6cbeb0e14\", element=\"d59f39b1-a73d-4710-a6db-38129a18499b\")>,\n",
       " <selenium.webdriver.remote.webelement.WebElement (session=\"518dcfdbb077e78ea1f64cc6cbeb0e14\", element=\"8bcf2644-f7c6-4ac0-8f97-e55cf49ad3ee\")>,\n",
       " <selenium.webdriver.remote.webelement.WebElement (session=\"518dcfdbb077e78ea1f64cc6cbeb0e14\", element=\"96760a6a-a40c-4f4a-8f69-2c6d3973f021\")>]"
      ]
     },
     "execution_count": 227,
     "metadata": {},
     "output_type": "execute_result"
    }
   ],
   "source": [
    "comment10=driver.find_elements_by_class_name('_2-N8zT')\n",
    "comment10"
   ]
  },
  {
   "cell_type": "code",
   "execution_count": 228,
   "id": "3ff1b9fd",
   "metadata": {},
   "outputs": [
    {
     "data": {
      "text/plain": [
       "10"
      ]
     },
     "execution_count": 228,
     "metadata": {},
     "output_type": "execute_result"
    }
   ],
   "source": [
    "len(comment10)"
   ]
  },
  {
   "cell_type": "code",
   "execution_count": 229,
   "id": "a665177a",
   "metadata": {
    "collapsed": true
   },
   "outputs": [
    {
     "data": {
      "text/plain": [
       "['Terrific',\n",
       " 'Highly recommended',\n",
       " 'Must buy!',\n",
       " 'Worth every penny',\n",
       " 'Excellent',\n",
       " 'Just wow!',\n",
       " 'Perfect product!',\n",
       " 'Fabulous!',\n",
       " 'Wonderful',\n",
       " 'Nice product']"
      ]
     },
     "execution_count": 229,
     "metadata": {},
     "output_type": "execute_result"
    }
   ],
   "source": [
    "comments_10=[]\n",
    "\n",
    "for i in comment10:\n",
    "    comments_10.append(i.text)\n",
    "    \n",
    "comments_10[0:10]"
   ]
  },
  {
   "cell_type": "code",
   "execution_count": 230,
   "id": "27e15aa6",
   "metadata": {
    "collapsed": true
   },
   "outputs": [
    {
     "data": {
      "text/plain": [
       "[<selenium.webdriver.remote.webelement.WebElement (session=\"518dcfdbb077e78ea1f64cc6cbeb0e14\", element=\"5e16d630-ab15-4b86-9a16-4bcb70086a69\")>,\n",
       " <selenium.webdriver.remote.webelement.WebElement (session=\"518dcfdbb077e78ea1f64cc6cbeb0e14\", element=\"99195588-deec-4a41-8f4e-29c5d8e2209a\")>,\n",
       " <selenium.webdriver.remote.webelement.WebElement (session=\"518dcfdbb077e78ea1f64cc6cbeb0e14\", element=\"48589d97-a1b9-4d71-8dc2-029c72742846\")>,\n",
       " <selenium.webdriver.remote.webelement.WebElement (session=\"518dcfdbb077e78ea1f64cc6cbeb0e14\", element=\"bafd7dc7-62c3-4f97-a4ea-a4ed433c9ff1\")>,\n",
       " <selenium.webdriver.remote.webelement.WebElement (session=\"518dcfdbb077e78ea1f64cc6cbeb0e14\", element=\"63191fcd-da3f-4ac5-bdbc-306f7a8c686b\")>,\n",
       " <selenium.webdriver.remote.webelement.WebElement (session=\"518dcfdbb077e78ea1f64cc6cbeb0e14\", element=\"30c2a290-666c-48f7-94a4-0210762b5fc6\")>,\n",
       " <selenium.webdriver.remote.webelement.WebElement (session=\"518dcfdbb077e78ea1f64cc6cbeb0e14\", element=\"e544ea4b-535c-4bec-bce3-ea0cc9c4c1f1\")>,\n",
       " <selenium.webdriver.remote.webelement.WebElement (session=\"518dcfdbb077e78ea1f64cc6cbeb0e14\", element=\"515bb478-289e-481a-a614-1698e04437b7\")>,\n",
       " <selenium.webdriver.remote.webelement.WebElement (session=\"518dcfdbb077e78ea1f64cc6cbeb0e14\", element=\"46eec8d5-3c9b-44e8-b899-07c4a6d22dff\")>,\n",
       " <selenium.webdriver.remote.webelement.WebElement (session=\"518dcfdbb077e78ea1f64cc6cbeb0e14\", element=\"9b79d2a7-493e-4107-a073-5ee20a9bfe5d\")>]"
      ]
     },
     "execution_count": 230,
     "metadata": {},
     "output_type": "execute_result"
    }
   ],
   "source": [
    "review10=driver.find_elements_by_class_name('t-ZTKy')\n",
    "review10"
   ]
  },
  {
   "cell_type": "code",
   "execution_count": 231,
   "id": "ee60b04e",
   "metadata": {},
   "outputs": [
    {
     "data": {
      "text/plain": [
       "10"
      ]
     },
     "execution_count": 231,
     "metadata": {},
     "output_type": "execute_result"
    }
   ],
   "source": [
    "len(review10)"
   ]
  },
  {
   "cell_type": "code",
   "execution_count": 232,
   "id": "986bcb3b",
   "metadata": {
    "collapsed": true
   },
   "outputs": [
    {
     "data": {
      "text/plain": [
       "[\"I got this beast today. And I must say the picture quality of its camera is awesome. Both the cameras works fine.\\n\\nAs for as the processing is concerned, it runs without any lag. You can play and do whatever you want without a glitch.\\n\\nThe battery runs for a day with medium and high workload.\\n\\nThe display is good and the speakers are working fine.\\n\\nThe earphones doesn't have any base and you can use it for calling mostly.\\n\\nThe charging time is approximately for 90 minutes for full charging...\\nREAD MORE\",\n",
       " 'Amazing camera quality as expected, battery also has very good performance. Display, body, and touch experience is the best I’ve ever had. Sound quality of speakers is more than sufficient. Apple is known for it’s customer friendly security services and I can see it how. The A13 processor is the best in its work. So I would definitely recommend it for everyone who are looking for it, just go for it without delay.\\n\\nThe most amazing thing it the delivery. Flipkart has delivered it in the span ...\\nREAD MORE',\n",
       " 'Dear friends... I want to share my experience with you about this amazing I phone 11....this is my first iPhone and special things about this mobile is it has great camera, battery backup and awesome display.... I mean everything is perfect.loved it 👍👍👍',\n",
       " 'Here is the thing\\n\\nThe only reason why you should buy this phone is for the camera, iOS, and if you have headaches looking at AMOLED display.\\n\\nI’m not an avid gamer but watch a lot of movies on smartphone. However, my migraine attacks increased considerably after using AMOLED Smartphone. That’s why I made a calculated decision to buy iPhone 11. It has the best LCD display and the blacks, though not as natural as an AMOLED, is better than some of the other smartphones.\\n\\nAdding to this the ste...\\nREAD MORE',\n",
       " \"It was amazing experience for me. Honestly i am using iPhone first time so I don't have that much past experience about that. But after using 7 days this mobile i want to give some honest feedback.\\n1- Display 9 out of 10\\n2- Camera 9.5 out of 10\\n3- Battery 7 out of 10\\n4- Performance 9.5 out of 10\\n5- Features & Functions 10 out of 10\\n6- Outer looks and colour 10 out of 10\\nRest i think i will understand after using this for few months.\\nI will highly recommend you guys if you have budget then you...\\nREAD MORE\",\n",
       " 'Not mere a phone , Its more than that for fun and enjoy life. Just grab it. Best luck',\n",
       " 'Nice 👌👌👌👌👌👌',\n",
       " 'MD sufiyan rider Owsm\\nMobile nd battery mast h v good',\n",
       " \"Ok, so after almost 3 years I am again back into Apple Ecosystem. Switching from Android to iOS has just one disadvantage imo, and that's you can't take your WhatsApp data restored to iOS. Everything starts fresh, pretty sad. I am so glad that I chose iPhone 11 over 12. With 5G nowhere in India for at least an year will have an added advantage to iPhone 11. Spending extra 25k just for A14 chipset and OLED display is not a clever choice. Anyways, a fantastic phone with everything fit perfectly...\\nREAD MORE\",\n",
       " \"If you are looking for a premium phone under 55k, this is the one for you.Got the iPhone 11 during the Republic day sale. Performance is top notch in this price range. Camera's do a perfect job in taking good quality photos and videos. Battery backup too is satisfactory. Writing this review after using for a week. Any further observations would be updated.\"]"
      ]
     },
     "execution_count": 232,
     "metadata": {},
     "output_type": "execute_result"
    }
   ],
   "source": [
    "reviews_10=[]\n",
    "\n",
    "for i in review10:\n",
    "    reviews_10.append(i.text)\n",
    "    \n",
    "reviews_10[0:10]"
   ]
  },
  {
   "cell_type": "code",
   "execution_count": 233,
   "id": "62291598",
   "metadata": {
    "collapsed": true
   },
   "outputs": [
    {
     "data": {
      "text/html": [
       "<div>\n",
       "<style scoped>\n",
       "    .dataframe tbody tr th:only-of-type {\n",
       "        vertical-align: middle;\n",
       "    }\n",
       "\n",
       "    .dataframe tbody tr th {\n",
       "        vertical-align: top;\n",
       "    }\n",
       "\n",
       "    .dataframe thead th {\n",
       "        text-align: right;\n",
       "    }\n",
       "</style>\n",
       "<table border=\"1\" class=\"dataframe\">\n",
       "  <thead>\n",
       "    <tr style=\"text-align: right;\">\n",
       "      <th></th>\n",
       "      <th>Rating</th>\n",
       "      <th>Review Summary</th>\n",
       "      <th>Full Review</th>\n",
       "    </tr>\n",
       "  </thead>\n",
       "  <tbody>\n",
       "    <tr>\n",
       "      <th>0</th>\n",
       "      <td>5</td>\n",
       "      <td>Terrific</td>\n",
       "      <td>I got this beast today. And I must say the pic...</td>\n",
       "    </tr>\n",
       "    <tr>\n",
       "      <th>1</th>\n",
       "      <td>5</td>\n",
       "      <td>Highly recommended</td>\n",
       "      <td>Amazing camera quality as expected, battery al...</td>\n",
       "    </tr>\n",
       "    <tr>\n",
       "      <th>2</th>\n",
       "      <td>5</td>\n",
       "      <td>Must buy!</td>\n",
       "      <td>Dear friends... I want to share my experience ...</td>\n",
       "    </tr>\n",
       "    <tr>\n",
       "      <th>3</th>\n",
       "      <td>5</td>\n",
       "      <td>Worth every penny</td>\n",
       "      <td>Here is the thing\\n\\nThe only reason why you s...</td>\n",
       "    </tr>\n",
       "    <tr>\n",
       "      <th>4</th>\n",
       "      <td>5</td>\n",
       "      <td>Excellent</td>\n",
       "      <td>It was amazing experience for me. Honestly i a...</td>\n",
       "    </tr>\n",
       "    <tr>\n",
       "      <th>5</th>\n",
       "      <td>5</td>\n",
       "      <td>Just wow!</td>\n",
       "      <td>Not mere a phone , Its more than that for fun ...</td>\n",
       "    </tr>\n",
       "    <tr>\n",
       "      <th>6</th>\n",
       "      <td>5</td>\n",
       "      <td>Perfect product!</td>\n",
       "      <td>Nice 👌👌👌👌👌👌</td>\n",
       "    </tr>\n",
       "    <tr>\n",
       "      <th>7</th>\n",
       "      <td>5</td>\n",
       "      <td>Fabulous!</td>\n",
       "      <td>MD sufiyan rider Owsm\\nMobile nd battery mast ...</td>\n",
       "    </tr>\n",
       "    <tr>\n",
       "      <th>8</th>\n",
       "      <td>5</td>\n",
       "      <td>Wonderful</td>\n",
       "      <td>Ok, so after almost 3 years I am again back in...</td>\n",
       "    </tr>\n",
       "    <tr>\n",
       "      <th>9</th>\n",
       "      <td>4</td>\n",
       "      <td>Nice product</td>\n",
       "      <td>If you are looking for a premium phone under 5...</td>\n",
       "    </tr>\n",
       "  </tbody>\n",
       "</table>\n",
       "</div>"
      ],
      "text/plain": [
       "  Rating      Review Summary  \\\n",
       "0      5            Terrific   \n",
       "1      5  Highly recommended   \n",
       "2      5           Must buy!   \n",
       "3      5   Worth every penny   \n",
       "4      5           Excellent   \n",
       "5      5           Just wow!   \n",
       "6      5    Perfect product!   \n",
       "7      5           Fabulous!   \n",
       "8      5           Wonderful   \n",
       "9      4        Nice product   \n",
       "\n",
       "                                         Full Review  \n",
       "0  I got this beast today. And I must say the pic...  \n",
       "1  Amazing camera quality as expected, battery al...  \n",
       "2  Dear friends... I want to share my experience ...  \n",
       "3  Here is the thing\\n\\nThe only reason why you s...  \n",
       "4  It was amazing experience for me. Honestly i a...  \n",
       "5  Not mere a phone , Its more than that for fun ...  \n",
       "6                                        Nice 👌👌👌👌👌👌  \n",
       "7  MD sufiyan rider Owsm\\nMobile nd battery mast ...  \n",
       "8  Ok, so after almost 3 years I am again back in...  \n",
       "9  If you are looking for a premium phone under 5...  "
      ]
     },
     "execution_count": 233,
     "metadata": {},
     "output_type": "execute_result"
    }
   ],
   "source": [
    "iphonerev_10=pd.DataFrame()\n",
    "iphonerev_10['Rating']=ratings_10\n",
    "iphonerev_10['Review Summary']=comments_10\n",
    "iphonerev_10['Full Review']=reviews_10\n",
    "\n",
    "iphonerev_10"
   ]
  },
  {
   "cell_type": "code",
   "execution_count": 234,
   "id": "b6f6f708",
   "metadata": {},
   "outputs": [],
   "source": [
    "revdata=iphonerev.append(iphonerev_2)"
   ]
  },
  {
   "cell_type": "code",
   "execution_count": 235,
   "id": "728b40db",
   "metadata": {
    "collapsed": true
   },
   "outputs": [
    {
     "data": {
      "text/html": [
       "<div>\n",
       "<style scoped>\n",
       "    .dataframe tbody tr th:only-of-type {\n",
       "        vertical-align: middle;\n",
       "    }\n",
       "\n",
       "    .dataframe tbody tr th {\n",
       "        vertical-align: top;\n",
       "    }\n",
       "\n",
       "    .dataframe thead th {\n",
       "        text-align: right;\n",
       "    }\n",
       "</style>\n",
       "<table border=\"1\" class=\"dataframe\">\n",
       "  <thead>\n",
       "    <tr style=\"text-align: right;\">\n",
       "      <th></th>\n",
       "      <th>Rating</th>\n",
       "      <th>Review Summary</th>\n",
       "      <th>Full Review</th>\n",
       "    </tr>\n",
       "  </thead>\n",
       "  <tbody>\n",
       "    <tr>\n",
       "      <th>0</th>\n",
       "      <td>5</td>\n",
       "      <td>Brilliant</td>\n",
       "      <td>The Best Phone for the Money\\n\\nThe iPhone 11 ...</td>\n",
       "    </tr>\n",
       "    <tr>\n",
       "      <th>1</th>\n",
       "      <td>5</td>\n",
       "      <td>Simply awesome</td>\n",
       "      <td>Really satisfied with the Product I received.....</td>\n",
       "    </tr>\n",
       "    <tr>\n",
       "      <th>2</th>\n",
       "      <td>5</td>\n",
       "      <td>Best in the market!</td>\n",
       "      <td>Great iPhone very snappy experience as apple k...</td>\n",
       "    </tr>\n",
       "    <tr>\n",
       "      <th>3</th>\n",
       "      <td>5</td>\n",
       "      <td>Perfect product!</td>\n",
       "      <td>Amazing phone with great cameras and better ba...</td>\n",
       "    </tr>\n",
       "    <tr>\n",
       "      <th>4</th>\n",
       "      <td>5</td>\n",
       "      <td>Fabulous!</td>\n",
       "      <td>This is my first iOS phone. I am very happy wi...</td>\n",
       "    </tr>\n",
       "    <tr>\n",
       "      <th>5</th>\n",
       "      <td>5</td>\n",
       "      <td>Worth every penny</td>\n",
       "      <td>Previously I was using one plus 3t it was a gr...</td>\n",
       "    </tr>\n",
       "    <tr>\n",
       "      <th>6</th>\n",
       "      <td>5</td>\n",
       "      <td>Great product</td>\n",
       "      <td>Amazing Powerful and Durable Gadget.\\n\\nI’m am...</td>\n",
       "    </tr>\n",
       "    <tr>\n",
       "      <th>7</th>\n",
       "      <td>4</td>\n",
       "      <td>Good choice</td>\n",
       "      <td>So far it’s been an AMAZING experience coming ...</td>\n",
       "    </tr>\n",
       "    <tr>\n",
       "      <th>8</th>\n",
       "      <td>5</td>\n",
       "      <td>Worth every penny</td>\n",
       "      <td>i11 is worthy to buy, too much happy with the ...</td>\n",
       "    </tr>\n",
       "    <tr>\n",
       "      <th>9</th>\n",
       "      <td>5</td>\n",
       "      <td>Highly recommended</td>\n",
       "      <td>What a camera .....just awesome ..you can feel...</td>\n",
       "    </tr>\n",
       "    <tr>\n",
       "      <th>0</th>\n",
       "      <td>5</td>\n",
       "      <td>Highly recommended</td>\n",
       "      <td>iphone 11 is a very good phone to buy only if ...</td>\n",
       "    </tr>\n",
       "    <tr>\n",
       "      <th>1</th>\n",
       "      <td>5</td>\n",
       "      <td>Perfect product!</td>\n",
       "      <td>It’s a must buy who is looking for an upgrade ...</td>\n",
       "    </tr>\n",
       "    <tr>\n",
       "      <th>2</th>\n",
       "      <td>5</td>\n",
       "      <td>Perfect product!</td>\n",
       "      <td>Value for money❤️❤️\\nIts awesome mobile phone ...</td>\n",
       "    </tr>\n",
       "    <tr>\n",
       "      <th>3</th>\n",
       "      <td>5</td>\n",
       "      <td>Highly recommended</td>\n",
       "      <td>It's my first time to use iOS phone and I am l...</td>\n",
       "    </tr>\n",
       "    <tr>\n",
       "      <th>4</th>\n",
       "      <td>5</td>\n",
       "      <td>Perfect product!</td>\n",
       "      <td>Iphone is just awesome.. battery backup is ver...</td>\n",
       "    </tr>\n",
       "    <tr>\n",
       "      <th>5</th>\n",
       "      <td>5</td>\n",
       "      <td>Worth every penny</td>\n",
       "      <td>Best budget Iphone till date ❤️ go for it guys...</td>\n",
       "    </tr>\n",
       "    <tr>\n",
       "      <th>6</th>\n",
       "      <td>5</td>\n",
       "      <td>Classy product</td>\n",
       "      <td>Totally in love with this ❤ the camera quality...</td>\n",
       "    </tr>\n",
       "    <tr>\n",
       "      <th>7</th>\n",
       "      <td>5</td>\n",
       "      <td>Worth every penny</td>\n",
       "      <td>It’s been almost a month since I have been usi...</td>\n",
       "    </tr>\n",
       "    <tr>\n",
       "      <th>8</th>\n",
       "      <td>5</td>\n",
       "      <td>Wonderful</td>\n",
       "      <td>This is my first ever I phone. Before this I w...</td>\n",
       "    </tr>\n",
       "    <tr>\n",
       "      <th>9</th>\n",
       "      <td>5</td>\n",
       "      <td>Terrific</td>\n",
       "      <td>Really worth of money. i just love it. It is t...</td>\n",
       "    </tr>\n",
       "  </tbody>\n",
       "</table>\n",
       "</div>"
      ],
      "text/plain": [
       "  Rating       Review Summary  \\\n",
       "0      5            Brilliant   \n",
       "1      5       Simply awesome   \n",
       "2      5  Best in the market!   \n",
       "3      5     Perfect product!   \n",
       "4      5            Fabulous!   \n",
       "5      5    Worth every penny   \n",
       "6      5        Great product   \n",
       "7      4          Good choice   \n",
       "8      5    Worth every penny   \n",
       "9      5   Highly recommended   \n",
       "0      5   Highly recommended   \n",
       "1      5     Perfect product!   \n",
       "2      5     Perfect product!   \n",
       "3      5   Highly recommended   \n",
       "4      5     Perfect product!   \n",
       "5      5    Worth every penny   \n",
       "6      5       Classy product   \n",
       "7      5    Worth every penny   \n",
       "8      5            Wonderful   \n",
       "9      5             Terrific   \n",
       "\n",
       "                                         Full Review  \n",
       "0  The Best Phone for the Money\\n\\nThe iPhone 11 ...  \n",
       "1  Really satisfied with the Product I received.....  \n",
       "2  Great iPhone very snappy experience as apple k...  \n",
       "3  Amazing phone with great cameras and better ba...  \n",
       "4  This is my first iOS phone. I am very happy wi...  \n",
       "5  Previously I was using one plus 3t it was a gr...  \n",
       "6  Amazing Powerful and Durable Gadget.\\n\\nI’m am...  \n",
       "7  So far it’s been an AMAZING experience coming ...  \n",
       "8  i11 is worthy to buy, too much happy with the ...  \n",
       "9  What a camera .....just awesome ..you can feel...  \n",
       "0  iphone 11 is a very good phone to buy only if ...  \n",
       "1  It’s a must buy who is looking for an upgrade ...  \n",
       "2  Value for money❤️❤️\\nIts awesome mobile phone ...  \n",
       "3  It's my first time to use iOS phone and I am l...  \n",
       "4  Iphone is just awesome.. battery backup is ver...  \n",
       "5  Best budget Iphone till date ❤️ go for it guys...  \n",
       "6  Totally in love with this ❤ the camera quality...  \n",
       "7  It’s been almost a month since I have been usi...  \n",
       "8  This is my first ever I phone. Before this I w...  \n",
       "9  Really worth of money. i just love it. It is t...  "
      ]
     },
     "execution_count": 235,
     "metadata": {},
     "output_type": "execute_result"
    }
   ],
   "source": [
    "revdata"
   ]
  },
  {
   "cell_type": "code",
   "execution_count": 236,
   "id": "d5231950",
   "metadata": {},
   "outputs": [],
   "source": [
    "review_dt=revdata.append(iphonerev_3)"
   ]
  },
  {
   "cell_type": "code",
   "execution_count": 237,
   "id": "aed93a78",
   "metadata": {},
   "outputs": [],
   "source": [
    "rev_data_4=review_dt.append(iphonerev_4)"
   ]
  },
  {
   "cell_type": "code",
   "execution_count": 239,
   "id": "5f797cd1",
   "metadata": {},
   "outputs": [],
   "source": [
    "rev5data=rev_data_4.append(iphonerev_5)"
   ]
  },
  {
   "cell_type": "code",
   "execution_count": 240,
   "id": "a1b07e54",
   "metadata": {},
   "outputs": [],
   "source": [
    "rev6data=rev5data.append(iphonerev_6)"
   ]
  },
  {
   "cell_type": "code",
   "execution_count": 241,
   "id": "4e8798a2",
   "metadata": {},
   "outputs": [],
   "source": [
    "rev7data=rev6data.append(iphonerev_7)"
   ]
  },
  {
   "cell_type": "code",
   "execution_count": 242,
   "id": "032c566d",
   "metadata": {},
   "outputs": [],
   "source": [
    "rev8data=rev7data.append(iphonerev_8)"
   ]
  },
  {
   "cell_type": "code",
   "execution_count": 243,
   "id": "a3562d4a",
   "metadata": {},
   "outputs": [],
   "source": [
    "rev9data=rev8data.append(iphonerev_9)"
   ]
  },
  {
   "cell_type": "code",
   "execution_count": 244,
   "id": "a97ef770",
   "metadata": {},
   "outputs": [],
   "source": [
    "iphone11_reviews=rev9data.append(iphonerev_10)"
   ]
  },
  {
   "cell_type": "code",
   "execution_count": 246,
   "id": "f339120b",
   "metadata": {},
   "outputs": [
    {
     "data": {
      "text/html": [
       "<div>\n",
       "<style scoped>\n",
       "    .dataframe tbody tr th:only-of-type {\n",
       "        vertical-align: middle;\n",
       "    }\n",
       "\n",
       "    .dataframe tbody tr th {\n",
       "        vertical-align: top;\n",
       "    }\n",
       "\n",
       "    .dataframe thead th {\n",
       "        text-align: right;\n",
       "    }\n",
       "</style>\n",
       "<table border=\"1\" class=\"dataframe\">\n",
       "  <thead>\n",
       "    <tr style=\"text-align: right;\">\n",
       "      <th></th>\n",
       "      <th>Rating</th>\n",
       "      <th>Review Summary</th>\n",
       "      <th>Full Review</th>\n",
       "    </tr>\n",
       "  </thead>\n",
       "  <tbody>\n",
       "    <tr>\n",
       "      <th>0</th>\n",
       "      <td>5</td>\n",
       "      <td>Brilliant</td>\n",
       "      <td>The Best Phone for the Money\\n\\nThe iPhone 11 ...</td>\n",
       "    </tr>\n",
       "    <tr>\n",
       "      <th>1</th>\n",
       "      <td>5</td>\n",
       "      <td>Simply awesome</td>\n",
       "      <td>Really satisfied with the Product I received.....</td>\n",
       "    </tr>\n",
       "    <tr>\n",
       "      <th>2</th>\n",
       "      <td>5</td>\n",
       "      <td>Best in the market!</td>\n",
       "      <td>Great iPhone very snappy experience as apple k...</td>\n",
       "    </tr>\n",
       "    <tr>\n",
       "      <th>3</th>\n",
       "      <td>5</td>\n",
       "      <td>Perfect product!</td>\n",
       "      <td>Amazing phone with great cameras and better ba...</td>\n",
       "    </tr>\n",
       "    <tr>\n",
       "      <th>4</th>\n",
       "      <td>5</td>\n",
       "      <td>Fabulous!</td>\n",
       "      <td>This is my first iOS phone. I am very happy wi...</td>\n",
       "    </tr>\n",
       "    <tr>\n",
       "      <th>...</th>\n",
       "      <td>...</td>\n",
       "      <td>...</td>\n",
       "      <td>...</td>\n",
       "    </tr>\n",
       "    <tr>\n",
       "      <th>5</th>\n",
       "      <td>5</td>\n",
       "      <td>Just wow!</td>\n",
       "      <td>Not mere a phone , Its more than that for fun ...</td>\n",
       "    </tr>\n",
       "    <tr>\n",
       "      <th>6</th>\n",
       "      <td>5</td>\n",
       "      <td>Perfect product!</td>\n",
       "      <td>Nice 👌👌👌👌👌👌</td>\n",
       "    </tr>\n",
       "    <tr>\n",
       "      <th>7</th>\n",
       "      <td>5</td>\n",
       "      <td>Fabulous!</td>\n",
       "      <td>MD sufiyan rider Owsm\\nMobile nd battery mast ...</td>\n",
       "    </tr>\n",
       "    <tr>\n",
       "      <th>8</th>\n",
       "      <td>5</td>\n",
       "      <td>Wonderful</td>\n",
       "      <td>Ok, so after almost 3 years I am again back in...</td>\n",
       "    </tr>\n",
       "    <tr>\n",
       "      <th>9</th>\n",
       "      <td>4</td>\n",
       "      <td>Nice product</td>\n",
       "      <td>If you are looking for a premium phone under 5...</td>\n",
       "    </tr>\n",
       "  </tbody>\n",
       "</table>\n",
       "<p>100 rows × 3 columns</p>\n",
       "</div>"
      ],
      "text/plain": [
       "   Rating       Review Summary  \\\n",
       "0       5            Brilliant   \n",
       "1       5       Simply awesome   \n",
       "2       5  Best in the market!   \n",
       "3       5     Perfect product!   \n",
       "4       5            Fabulous!   \n",
       "..    ...                  ...   \n",
       "5       5            Just wow!   \n",
       "6       5     Perfect product!   \n",
       "7       5            Fabulous!   \n",
       "8       5            Wonderful   \n",
       "9       4         Nice product   \n",
       "\n",
       "                                          Full Review  \n",
       "0   The Best Phone for the Money\\n\\nThe iPhone 11 ...  \n",
       "1   Really satisfied with the Product I received.....  \n",
       "2   Great iPhone very snappy experience as apple k...  \n",
       "3   Amazing phone with great cameras and better ba...  \n",
       "4   This is my first iOS phone. I am very happy wi...  \n",
       "..                                                ...  \n",
       "5   Not mere a phone , Its more than that for fun ...  \n",
       "6                                         Nice 👌👌👌👌👌👌  \n",
       "7   MD sufiyan rider Owsm\\nMobile nd battery mast ...  \n",
       "8   Ok, so after almost 3 years I am again back in...  \n",
       "9   If you are looking for a premium phone under 5...  \n",
       "\n",
       "[100 rows x 3 columns]"
      ]
     },
     "execution_count": 246,
     "metadata": {},
     "output_type": "execute_result"
    }
   ],
   "source": [
    "iphone11_reviews"
   ]
  },
  {
   "cell_type": "code",
   "execution_count": 247,
   "id": "e9cdf34d",
   "metadata": {},
   "outputs": [],
   "source": [
    "#6. Scrape data for first 100 sneakers you find when you visit flipkart.com and search for \"sneakers\" in the search field. You have to scrape 4 attributes for each sneaker:1. Brand, 2. Product Description, 3. Price, 4. Discount"
   ]
  },
  {
   "cell_type": "code",
   "execution_count": 250,
   "id": "c475b752",
   "metadata": {},
   "outputs": [],
   "source": [
    "url6='https://www.flipkart.com/'\n",
    "driver.get(url6)"
   ]
  },
  {
   "cell_type": "code",
   "execution_count": 251,
   "id": "a5775aa7",
   "metadata": {},
   "outputs": [],
   "source": [
    "try:\n",
    "    ad_cross=driver.find_element_by_class_name('_2doB4z')\n",
    "    ad_cross.click()\n",
    "except:\n",
    "    print('No element with this class name.Skipping!')"
   ]
  },
  {
   "cell_type": "code",
   "execution_count": 253,
   "id": "46247d72",
   "metadata": {},
   "outputs": [
    {
     "data": {
      "text/plain": [
       "<selenium.webdriver.remote.webelement.WebElement (session=\"5011d29245dfaa68dee5bbe5f6193285\", element=\"7ebceb28-866e-48cf-979c-2d13cadd24a1\")>"
      ]
     },
     "execution_count": 253,
     "metadata": {},
     "output_type": "execute_result"
    }
   ],
   "source": [
    "search_snks=driver.find_element_by_xpath('/html/body/div[1]/div/div[1]/div[1]/div[2]/div[2]/form/div/div/input')\n",
    "search_snks"
   ]
  },
  {
   "cell_type": "code",
   "execution_count": 254,
   "id": "24c9eade",
   "metadata": {},
   "outputs": [],
   "source": [
    "search_snks.send_keys(\"sneakers\")"
   ]
  },
  {
   "cell_type": "code",
   "execution_count": 256,
   "id": "5f221e29",
   "metadata": {},
   "outputs": [
    {
     "data": {
      "text/plain": [
       "<selenium.webdriver.remote.webelement.WebElement (session=\"5011d29245dfaa68dee5bbe5f6193285\", element=\"61d74276-aa57-4d0c-bd96-8d0c3f91a556\")>"
      ]
     },
     "execution_count": 256,
     "metadata": {},
     "output_type": "execute_result"
    }
   ],
   "source": [
    "search_btn6=driver.find_element_by_xpath('/html/body/div[1]/div/div[1]/div[1]/div[2]/div[2]/form/div/button')\n",
    "search_btn6"
   ]
  },
  {
   "cell_type": "code",
   "execution_count": 257,
   "id": "fb44eda8",
   "metadata": {},
   "outputs": [],
   "source": [
    "search_btn6.click()"
   ]
  },
  {
   "cell_type": "code",
   "execution_count": 258,
   "id": "ded68384",
   "metadata": {
    "collapsed": true
   },
   "outputs": [
    {
     "data": {
      "text/plain": [
       "[<selenium.webdriver.remote.webelement.WebElement (session=\"5011d29245dfaa68dee5bbe5f6193285\", element=\"f19d97f6-6e98-4c00-8635-a2d6ed92a4aa\")>,\n",
       " <selenium.webdriver.remote.webelement.WebElement (session=\"5011d29245dfaa68dee5bbe5f6193285\", element=\"5ac00d57-4aa5-4c88-9ec9-00311652ccc3\")>,\n",
       " <selenium.webdriver.remote.webelement.WebElement (session=\"5011d29245dfaa68dee5bbe5f6193285\", element=\"5754d74f-8dc6-4887-9742-ad7855ed0aec\")>,\n",
       " <selenium.webdriver.remote.webelement.WebElement (session=\"5011d29245dfaa68dee5bbe5f6193285\", element=\"81a1cec7-410e-4185-a190-4016395feb39\")>,\n",
       " <selenium.webdriver.remote.webelement.WebElement (session=\"5011d29245dfaa68dee5bbe5f6193285\", element=\"ee4008fa-73ec-4635-bb4b-50f5d9ece489\")>,\n",
       " <selenium.webdriver.remote.webelement.WebElement (session=\"5011d29245dfaa68dee5bbe5f6193285\", element=\"31af997e-df53-40e2-85b2-474645474383\")>,\n",
       " <selenium.webdriver.remote.webelement.WebElement (session=\"5011d29245dfaa68dee5bbe5f6193285\", element=\"dce71710-12a7-4f35-b21c-bc0f163e2efd\")>,\n",
       " <selenium.webdriver.remote.webelement.WebElement (session=\"5011d29245dfaa68dee5bbe5f6193285\", element=\"2a30bdfe-3242-49b5-acd7-15aae697f1cf\")>,\n",
       " <selenium.webdriver.remote.webelement.WebElement (session=\"5011d29245dfaa68dee5bbe5f6193285\", element=\"d35a0286-6d27-4cd4-a098-63059dcc2a78\")>,\n",
       " <selenium.webdriver.remote.webelement.WebElement (session=\"5011d29245dfaa68dee5bbe5f6193285\", element=\"80fb7847-0489-4497-af56-5fc8867ec970\")>,\n",
       " <selenium.webdriver.remote.webelement.WebElement (session=\"5011d29245dfaa68dee5bbe5f6193285\", element=\"cf09648f-c8d7-4188-ba14-a0fddc704815\")>,\n",
       " <selenium.webdriver.remote.webelement.WebElement (session=\"5011d29245dfaa68dee5bbe5f6193285\", element=\"44c77cfd-ba5e-4a2b-85bd-4302c297936b\")>,\n",
       " <selenium.webdriver.remote.webelement.WebElement (session=\"5011d29245dfaa68dee5bbe5f6193285\", element=\"08db5e7e-f0b6-46f0-9b25-8bfccc2b48bd\")>,\n",
       " <selenium.webdriver.remote.webelement.WebElement (session=\"5011d29245dfaa68dee5bbe5f6193285\", element=\"cbe6b2ce-e31c-47c0-929b-ae8fe0d3dce9\")>,\n",
       " <selenium.webdriver.remote.webelement.WebElement (session=\"5011d29245dfaa68dee5bbe5f6193285\", element=\"64b1435f-d0db-462d-bd23-bf98ff9e6cd7\")>,\n",
       " <selenium.webdriver.remote.webelement.WebElement (session=\"5011d29245dfaa68dee5bbe5f6193285\", element=\"a87d6433-c322-4c19-8e99-9d428fdd62d2\")>,\n",
       " <selenium.webdriver.remote.webelement.WebElement (session=\"5011d29245dfaa68dee5bbe5f6193285\", element=\"443ddec4-0995-43c2-8ecb-71cea15d8598\")>,\n",
       " <selenium.webdriver.remote.webelement.WebElement (session=\"5011d29245dfaa68dee5bbe5f6193285\", element=\"e921c30c-1db4-412f-b50c-ccc3873d3322\")>,\n",
       " <selenium.webdriver.remote.webelement.WebElement (session=\"5011d29245dfaa68dee5bbe5f6193285\", element=\"774fccab-6b58-482e-bb97-3ba4ba5f5f43\")>,\n",
       " <selenium.webdriver.remote.webelement.WebElement (session=\"5011d29245dfaa68dee5bbe5f6193285\", element=\"67111c17-282f-49bb-b429-78a89b9f4bd2\")>,\n",
       " <selenium.webdriver.remote.webelement.WebElement (session=\"5011d29245dfaa68dee5bbe5f6193285\", element=\"8d4e708e-92db-4a84-8f7a-c93efc9afb48\")>,\n",
       " <selenium.webdriver.remote.webelement.WebElement (session=\"5011d29245dfaa68dee5bbe5f6193285\", element=\"9a40be06-0286-40a4-ada2-32753d5c5859\")>,\n",
       " <selenium.webdriver.remote.webelement.WebElement (session=\"5011d29245dfaa68dee5bbe5f6193285\", element=\"152d52cf-016b-4611-bc85-944a353b1578\")>,\n",
       " <selenium.webdriver.remote.webelement.WebElement (session=\"5011d29245dfaa68dee5bbe5f6193285\", element=\"eaca2222-9d79-4eb7-bb8e-0edf2f37a96b\")>,\n",
       " <selenium.webdriver.remote.webelement.WebElement (session=\"5011d29245dfaa68dee5bbe5f6193285\", element=\"cda800da-1b27-4868-b559-6c38a93ca900\")>,\n",
       " <selenium.webdriver.remote.webelement.WebElement (session=\"5011d29245dfaa68dee5bbe5f6193285\", element=\"e4a44d83-4a0e-4a8f-8172-c693f015f191\")>,\n",
       " <selenium.webdriver.remote.webelement.WebElement (session=\"5011d29245dfaa68dee5bbe5f6193285\", element=\"71045ae5-363c-4400-969c-904ac69fddec\")>,\n",
       " <selenium.webdriver.remote.webelement.WebElement (session=\"5011d29245dfaa68dee5bbe5f6193285\", element=\"b131785a-44b9-4bd8-a8cb-982d01c55196\")>,\n",
       " <selenium.webdriver.remote.webelement.WebElement (session=\"5011d29245dfaa68dee5bbe5f6193285\", element=\"df10628e-9404-4546-b081-df82968780b0\")>,\n",
       " <selenium.webdriver.remote.webelement.WebElement (session=\"5011d29245dfaa68dee5bbe5f6193285\", element=\"eaaeb36e-ed00-4f1b-b607-49d91f642072\")>,\n",
       " <selenium.webdriver.remote.webelement.WebElement (session=\"5011d29245dfaa68dee5bbe5f6193285\", element=\"5c4b64ec-701d-43ef-acee-0d88bf06aa7d\")>,\n",
       " <selenium.webdriver.remote.webelement.WebElement (session=\"5011d29245dfaa68dee5bbe5f6193285\", element=\"ac0bc8ff-783f-4131-94b0-7e0252d70d3d\")>,\n",
       " <selenium.webdriver.remote.webelement.WebElement (session=\"5011d29245dfaa68dee5bbe5f6193285\", element=\"fa541877-a6ee-449e-ac01-31cdad583856\")>,\n",
       " <selenium.webdriver.remote.webelement.WebElement (session=\"5011d29245dfaa68dee5bbe5f6193285\", element=\"8dc245ce-0079-4ef3-9a89-28132478a228\")>,\n",
       " <selenium.webdriver.remote.webelement.WebElement (session=\"5011d29245dfaa68dee5bbe5f6193285\", element=\"1e60487b-4241-4094-afeb-8fabf00debf0\")>,\n",
       " <selenium.webdriver.remote.webelement.WebElement (session=\"5011d29245dfaa68dee5bbe5f6193285\", element=\"aea5b95a-77e8-4013-9cc4-b969499178d3\")>,\n",
       " <selenium.webdriver.remote.webelement.WebElement (session=\"5011d29245dfaa68dee5bbe5f6193285\", element=\"6d6629ab-305a-4e54-8814-40d762ca0769\")>,\n",
       " <selenium.webdriver.remote.webelement.WebElement (session=\"5011d29245dfaa68dee5bbe5f6193285\", element=\"cc5291b7-a772-4c99-8b97-2e8d3944ca39\")>,\n",
       " <selenium.webdriver.remote.webelement.WebElement (session=\"5011d29245dfaa68dee5bbe5f6193285\", element=\"f2fa94e6-a2cc-4dc3-a030-b2f71b540b29\")>,\n",
       " <selenium.webdriver.remote.webelement.WebElement (session=\"5011d29245dfaa68dee5bbe5f6193285\", element=\"57412519-af88-435d-a3ba-7e8f18ee82d9\")>]"
      ]
     },
     "execution_count": 258,
     "metadata": {},
     "output_type": "execute_result"
    }
   ],
   "source": [
    "brandp1=driver.find_elements_by_class_name('_2WkVRV')\n",
    "brandp1"
   ]
  },
  {
   "cell_type": "code",
   "execution_count": 259,
   "id": "fca466b3",
   "metadata": {},
   "outputs": [
    {
     "data": {
      "text/plain": [
       "40"
      ]
     },
     "execution_count": 259,
     "metadata": {},
     "output_type": "execute_result"
    }
   ],
   "source": [
    "len(brandp1)"
   ]
  },
  {
   "cell_type": "code",
   "execution_count": 260,
   "id": "160e1d9e",
   "metadata": {
    "collapsed": true
   },
   "outputs": [
    {
     "data": {
      "text/plain": [
       "['HIGHLANDER',\n",
       " 'HIGHLANDER',\n",
       " 'DUNKASTON',\n",
       " 'BRUTON',\n",
       " 'World Wear Footwear',\n",
       " 'Chevit',\n",
       " 'KWIK FIT',\n",
       " 'Echor',\n",
       " 'BRUTON',\n",
       " 'corsac',\n",
       " 'World Wear Footwear',\n",
       " 'RapidBox',\n",
       " 'BRUTON',\n",
       " 'D-SNEAKERZ',\n",
       " 'Magnolia',\n",
       " 'HIGHLANDER',\n",
       " 'BRUTON',\n",
       " 'Shoes Bank',\n",
       " 'URBANBOX',\n",
       " 'HIGHLANDER',\n",
       " 'Labbin',\n",
       " 'Magnolia',\n",
       " 'Kraasa',\n",
       " 'HIGHLANDER',\n",
       " 'TR',\n",
       " 'RapidBox',\n",
       " 'Rzisbo',\n",
       " 'Echor',\n",
       " 'Stefano Rads',\n",
       " 'ASTEROID',\n",
       " 'CLYMB',\n",
       " 'RapidBox',\n",
       " 'Airland',\n",
       " 'SCATCHITE',\n",
       " 'Zsyto',\n",
       " 'HIGHLANDER',\n",
       " 'luxury fashion',\n",
       " 'aadi',\n",
       " 'Chevit',\n",
       " 'EMPTILE']"
      ]
     },
     "execution_count": 260,
     "metadata": {},
     "output_type": "execute_result"
    }
   ],
   "source": [
    "brandsk_1=[]\n",
    "\n",
    "for i in brandp1:\n",
    "    brandsk_1.append(i.text)\n",
    "    \n",
    "brandsk_1[0:40]\n",
    "    "
   ]
  },
  {
   "cell_type": "code",
   "execution_count": 261,
   "id": "d1a780ff",
   "metadata": {
    "collapsed": true
   },
   "outputs": [
    {
     "data": {
      "text/plain": [
       "[<selenium.webdriver.remote.webelement.WebElement (session=\"5011d29245dfaa68dee5bbe5f6193285\", element=\"4f994d97-6c96-4dc7-9ea0-9d86b75ee140\")>,\n",
       " <selenium.webdriver.remote.webelement.WebElement (session=\"5011d29245dfaa68dee5bbe5f6193285\", element=\"21837c81-9365-49cd-8f00-8fc93ef50222\")>,\n",
       " <selenium.webdriver.remote.webelement.WebElement (session=\"5011d29245dfaa68dee5bbe5f6193285\", element=\"79e2896d-cc3a-45a3-aa95-ec8879441abe\")>,\n",
       " <selenium.webdriver.remote.webelement.WebElement (session=\"5011d29245dfaa68dee5bbe5f6193285\", element=\"adcc8e27-6dbe-4a65-b531-5cf558a5e41d\")>,\n",
       " <selenium.webdriver.remote.webelement.WebElement (session=\"5011d29245dfaa68dee5bbe5f6193285\", element=\"4037393b-0f1d-4904-9555-70d56678875e\")>,\n",
       " <selenium.webdriver.remote.webelement.WebElement (session=\"5011d29245dfaa68dee5bbe5f6193285\", element=\"40e7368b-1811-42a3-becf-85613933747b\")>,\n",
       " <selenium.webdriver.remote.webelement.WebElement (session=\"5011d29245dfaa68dee5bbe5f6193285\", element=\"e499899f-1d0d-4514-98e9-5581a9574f59\")>,\n",
       " <selenium.webdriver.remote.webelement.WebElement (session=\"5011d29245dfaa68dee5bbe5f6193285\", element=\"801630e6-bf9c-49d5-842c-c95c93fbca83\")>,\n",
       " <selenium.webdriver.remote.webelement.WebElement (session=\"5011d29245dfaa68dee5bbe5f6193285\", element=\"fa4740ca-4e46-4e21-a718-056fe76377c5\")>,\n",
       " <selenium.webdriver.remote.webelement.WebElement (session=\"5011d29245dfaa68dee5bbe5f6193285\", element=\"19683c25-7094-48ff-8e3b-d93e8f79c5cf\")>,\n",
       " <selenium.webdriver.remote.webelement.WebElement (session=\"5011d29245dfaa68dee5bbe5f6193285\", element=\"efe392df-a47c-4c02-beee-77879b822914\")>,\n",
       " <selenium.webdriver.remote.webelement.WebElement (session=\"5011d29245dfaa68dee5bbe5f6193285\", element=\"93285524-c074-4c04-9925-f1237e5adbbd\")>,\n",
       " <selenium.webdriver.remote.webelement.WebElement (session=\"5011d29245dfaa68dee5bbe5f6193285\", element=\"c29ecda7-8ba4-469f-9a83-48c6d189bce1\")>,\n",
       " <selenium.webdriver.remote.webelement.WebElement (session=\"5011d29245dfaa68dee5bbe5f6193285\", element=\"cae2dcb5-bb1f-4527-a434-521f3f0cfecc\")>,\n",
       " <selenium.webdriver.remote.webelement.WebElement (session=\"5011d29245dfaa68dee5bbe5f6193285\", element=\"0dd44658-0c8e-4fbb-bea3-9c5ce5acd2d8\")>,\n",
       " <selenium.webdriver.remote.webelement.WebElement (session=\"5011d29245dfaa68dee5bbe5f6193285\", element=\"9d1db46a-9a8d-4ce4-8895-b51c50e69ad4\")>,\n",
       " <selenium.webdriver.remote.webelement.WebElement (session=\"5011d29245dfaa68dee5bbe5f6193285\", element=\"62ccabc9-4484-4e93-82e7-6c7e15e0c6ee\")>,\n",
       " <selenium.webdriver.remote.webelement.WebElement (session=\"5011d29245dfaa68dee5bbe5f6193285\", element=\"712c7ddc-f5b4-4526-8db8-96715dc405c6\")>,\n",
       " <selenium.webdriver.remote.webelement.WebElement (session=\"5011d29245dfaa68dee5bbe5f6193285\", element=\"63107533-d48f-494c-8fe9-7bc3a5597de1\")>,\n",
       " <selenium.webdriver.remote.webelement.WebElement (session=\"5011d29245dfaa68dee5bbe5f6193285\", element=\"79b546a5-6e96-45d3-8393-1968d5a22bd8\")>,\n",
       " <selenium.webdriver.remote.webelement.WebElement (session=\"5011d29245dfaa68dee5bbe5f6193285\", element=\"99c4bfa0-0bb4-4782-9886-ab4593613fc8\")>,\n",
       " <selenium.webdriver.remote.webelement.WebElement (session=\"5011d29245dfaa68dee5bbe5f6193285\", element=\"7cf741cb-6743-492a-9eb6-17a303e0b3e7\")>,\n",
       " <selenium.webdriver.remote.webelement.WebElement (session=\"5011d29245dfaa68dee5bbe5f6193285\", element=\"8aade4e6-6956-4149-9a1e-694292368d94\")>,\n",
       " <selenium.webdriver.remote.webelement.WebElement (session=\"5011d29245dfaa68dee5bbe5f6193285\", element=\"7611330f-c11b-47ae-91ca-8bf8a51361f3\")>,\n",
       " <selenium.webdriver.remote.webelement.WebElement (session=\"5011d29245dfaa68dee5bbe5f6193285\", element=\"b7655ad4-b984-4163-a30a-fdbfea4f5824\")>,\n",
       " <selenium.webdriver.remote.webelement.WebElement (session=\"5011d29245dfaa68dee5bbe5f6193285\", element=\"fb9cbc93-86c4-4f88-8d59-812370938016\")>,\n",
       " <selenium.webdriver.remote.webelement.WebElement (session=\"5011d29245dfaa68dee5bbe5f6193285\", element=\"edd46674-5b87-47a9-8e30-01013e47d2bf\")>,\n",
       " <selenium.webdriver.remote.webelement.WebElement (session=\"5011d29245dfaa68dee5bbe5f6193285\", element=\"d8ea01c1-2c93-4bc3-b0d0-904ba2846f9b\")>,\n",
       " <selenium.webdriver.remote.webelement.WebElement (session=\"5011d29245dfaa68dee5bbe5f6193285\", element=\"45f3c3e9-e680-4162-aae1-386b5b83e8a4\")>,\n",
       " <selenium.webdriver.remote.webelement.WebElement (session=\"5011d29245dfaa68dee5bbe5f6193285\", element=\"d0fb254d-1bae-432b-8b14-fc898e386ee1\")>,\n",
       " <selenium.webdriver.remote.webelement.WebElement (session=\"5011d29245dfaa68dee5bbe5f6193285\", element=\"b5b96184-6651-44f3-a71f-0018ddcde143\")>,\n",
       " <selenium.webdriver.remote.webelement.WebElement (session=\"5011d29245dfaa68dee5bbe5f6193285\", element=\"08c29f5f-810f-4bbd-b4ef-430d91170e48\")>,\n",
       " <selenium.webdriver.remote.webelement.WebElement (session=\"5011d29245dfaa68dee5bbe5f6193285\", element=\"3b9e07c6-8eba-4a5a-b47e-96c1c1422c44\")>,\n",
       " <selenium.webdriver.remote.webelement.WebElement (session=\"5011d29245dfaa68dee5bbe5f6193285\", element=\"f08b154d-9b3c-482f-aad9-e8fc2bc480e3\")>,\n",
       " <selenium.webdriver.remote.webelement.WebElement (session=\"5011d29245dfaa68dee5bbe5f6193285\", element=\"a0cef3ed-099b-4adf-85f5-0b07bc784b12\")>,\n",
       " <selenium.webdriver.remote.webelement.WebElement (session=\"5011d29245dfaa68dee5bbe5f6193285\", element=\"88d55294-02a1-4736-8976-2cbeb4443b7a\")>,\n",
       " <selenium.webdriver.remote.webelement.WebElement (session=\"5011d29245dfaa68dee5bbe5f6193285\", element=\"7fc69937-8a2a-4ac6-b0b6-932d85d17ba5\")>,\n",
       " <selenium.webdriver.remote.webelement.WebElement (session=\"5011d29245dfaa68dee5bbe5f6193285\", element=\"c404a0ff-906d-451c-b31b-2b6a404936d9\")>,\n",
       " <selenium.webdriver.remote.webelement.WebElement (session=\"5011d29245dfaa68dee5bbe5f6193285\", element=\"c0fd1150-7881-4239-8597-83137cb6383e\")>,\n",
       " <selenium.webdriver.remote.webelement.WebElement (session=\"5011d29245dfaa68dee5bbe5f6193285\", element=\"b026b126-2232-46e6-b7d7-c9efbc949920\")>]"
      ]
     },
     "execution_count": 261,
     "metadata": {},
     "output_type": "execute_result"
    }
   ],
   "source": [
    "description_skp1=driver.find_elements_by_class_name('IRpwTa')\n",
    "description_skp1"
   ]
  },
  {
   "cell_type": "code",
   "execution_count": 262,
   "id": "8044a336",
   "metadata": {},
   "outputs": [
    {
     "data": {
      "text/plain": [
       "40"
      ]
     },
     "execution_count": 262,
     "metadata": {},
     "output_type": "execute_result"
    }
   ],
   "source": [
    "len(description_skp1)"
   ]
  },
  {
   "cell_type": "code",
   "execution_count": 263,
   "id": "d9a46b74",
   "metadata": {
    "collapsed": true
   },
   "outputs": [
    {
     "data": {
      "text/plain": [
       "['Sneakers For Men',\n",
       " 'Sneakers For Men',\n",
       " 'Sneakers For Men',\n",
       " 'Modern Trendy Sneakers Shoes Sneakers For Men',\n",
       " 'Sneakers For Men',\n",
       " 'Super Stylish & Trendy Combo Pack of 02 Pairs Sneakers ...',\n",
       " 'Kwik FIT casual sneaker shoes and partywear shoes Casua...',\n",
       " \"Men's casual shoe Black sneaker shoe for men Sneakers F...\",\n",
       " 'Sneaker Sneakers For Men',\n",
       " 'STYLISH MENS BLACK AND WHITE SNEAKER Sneakers For Men',\n",
       " '5011-Latest Collection Stylish Casual Loafer Sneakers S...',\n",
       " 'Sneakers For Men',\n",
       " 'Modern & Trendy Collection Combo Pack of 02 Shoes for M...',\n",
       " \"Casual , Partywear Sneakers Shoes For Men's And Boys Wh...\",\n",
       " 'Sneakers For Men',\n",
       " 'Sneakers For Men',\n",
       " 'Lattest Sneakers Shoe Sneakers For Men',\n",
       " \"White Sneaker For Men's/Boy's Sneakers For Men\",\n",
       " 'Sneakers Sneakers For Men',\n",
       " 'Sneakers For Men',\n",
       " 'Sneakers For Men',\n",
       " 'Sneakers For Men',\n",
       " 'Series 7 Sneakers For Men',\n",
       " 'Sneakers For Men',\n",
       " 'Sneakers For Men',\n",
       " 'Sneakers For Men',\n",
       " 'Sneakers For Men',\n",
       " \"Echor Men's Sneakers Fashion Lightweight Running Shoes ...\",\n",
       " 'Classy Sneakers For Men',\n",
       " \"Original Luxury Branded Fashionable Men's Casual Walkin...\",\n",
       " 'Sneakers For Men',\n",
       " 'Sneakers For Men',\n",
       " 'sneaker men red 1258 - 6 Sneakers For Men',\n",
       " 'Sneakers For Men',\n",
       " 'Sneakers For Men',\n",
       " 'Sneakers For Men',\n",
       " 'Sneakers For Men',\n",
       " 'Sneakers For Men',\n",
       " '516 Trendy Star Perfect Sneakers For Men',\n",
       " 'all white heartbeat casual shoe Sneakers For Men']"
      ]
     },
     "execution_count": 263,
     "metadata": {},
     "output_type": "execute_result"
    }
   ],
   "source": [
    "dessk_1=[]\n",
    "\n",
    "for i in description_skp1:\n",
    "    dessk_1.append(i.text)\n",
    "    \n",
    "dessk_1[0:40]"
   ]
  },
  {
   "cell_type": "code",
   "execution_count": 264,
   "id": "3a9d77ce",
   "metadata": {
    "collapsed": true
   },
   "outputs": [
    {
     "data": {
      "text/plain": [
       "[<selenium.webdriver.remote.webelement.WebElement (session=\"5011d29245dfaa68dee5bbe5f6193285\", element=\"7dd477ef-ad41-45a0-ad4d-29c81ff30b93\")>,\n",
       " <selenium.webdriver.remote.webelement.WebElement (session=\"5011d29245dfaa68dee5bbe5f6193285\", element=\"8139e5b7-2213-423a-82f8-9a4dda7612d8\")>,\n",
       " <selenium.webdriver.remote.webelement.WebElement (session=\"5011d29245dfaa68dee5bbe5f6193285\", element=\"ce97d33e-24c1-4681-b50e-22f626b0c1c3\")>,\n",
       " <selenium.webdriver.remote.webelement.WebElement (session=\"5011d29245dfaa68dee5bbe5f6193285\", element=\"3f22d427-db31-4adf-a7a4-b3d19610b7a6\")>,\n",
       " <selenium.webdriver.remote.webelement.WebElement (session=\"5011d29245dfaa68dee5bbe5f6193285\", element=\"5799bf4c-b03e-4e36-b7ee-3ecc7e845afe\")>,\n",
       " <selenium.webdriver.remote.webelement.WebElement (session=\"5011d29245dfaa68dee5bbe5f6193285\", element=\"303e0646-755e-4a7b-9035-1c02d1bf4531\")>,\n",
       " <selenium.webdriver.remote.webelement.WebElement (session=\"5011d29245dfaa68dee5bbe5f6193285\", element=\"86200b22-d625-4b30-a3a9-f72e8b852a65\")>,\n",
       " <selenium.webdriver.remote.webelement.WebElement (session=\"5011d29245dfaa68dee5bbe5f6193285\", element=\"3d9cdae0-3716-48a6-aab0-6d8031307043\")>,\n",
       " <selenium.webdriver.remote.webelement.WebElement (session=\"5011d29245dfaa68dee5bbe5f6193285\", element=\"b9e89311-176f-4ad7-aa9d-fd87533927bb\")>,\n",
       " <selenium.webdriver.remote.webelement.WebElement (session=\"5011d29245dfaa68dee5bbe5f6193285\", element=\"93968ec1-9e8f-4841-ab50-7cb36a66a0f6\")>,\n",
       " <selenium.webdriver.remote.webelement.WebElement (session=\"5011d29245dfaa68dee5bbe5f6193285\", element=\"1fea4f28-9e71-411f-a8cb-af7dca42ae62\")>,\n",
       " <selenium.webdriver.remote.webelement.WebElement (session=\"5011d29245dfaa68dee5bbe5f6193285\", element=\"39d9fab0-cf5d-4aef-8f6c-e56008cd0884\")>,\n",
       " <selenium.webdriver.remote.webelement.WebElement (session=\"5011d29245dfaa68dee5bbe5f6193285\", element=\"7573d3d9-6afa-4fb7-8067-22976d7db77e\")>,\n",
       " <selenium.webdriver.remote.webelement.WebElement (session=\"5011d29245dfaa68dee5bbe5f6193285\", element=\"3a36ee1a-007b-4d96-90e3-798dbac74e62\")>,\n",
       " <selenium.webdriver.remote.webelement.WebElement (session=\"5011d29245dfaa68dee5bbe5f6193285\", element=\"2b00f578-fba6-4ceb-bf6a-5187e18af2fd\")>,\n",
       " <selenium.webdriver.remote.webelement.WebElement (session=\"5011d29245dfaa68dee5bbe5f6193285\", element=\"1c0ac029-1803-470f-8a31-9d534e7f2228\")>,\n",
       " <selenium.webdriver.remote.webelement.WebElement (session=\"5011d29245dfaa68dee5bbe5f6193285\", element=\"0c18dbb6-35b5-4d37-98de-27fbd9326265\")>,\n",
       " <selenium.webdriver.remote.webelement.WebElement (session=\"5011d29245dfaa68dee5bbe5f6193285\", element=\"bffb4c46-24ac-4274-a8d5-ca3fda783f3d\")>,\n",
       " <selenium.webdriver.remote.webelement.WebElement (session=\"5011d29245dfaa68dee5bbe5f6193285\", element=\"7f166976-e0cd-4045-b148-8f4e064dce86\")>,\n",
       " <selenium.webdriver.remote.webelement.WebElement (session=\"5011d29245dfaa68dee5bbe5f6193285\", element=\"cb44b193-b03b-4974-8842-e0c0d150df24\")>,\n",
       " <selenium.webdriver.remote.webelement.WebElement (session=\"5011d29245dfaa68dee5bbe5f6193285\", element=\"87fe0642-ce1a-42ec-bb11-b03ff898a485\")>,\n",
       " <selenium.webdriver.remote.webelement.WebElement (session=\"5011d29245dfaa68dee5bbe5f6193285\", element=\"c7ae13f3-18d9-411b-882f-8c8ce2254aaf\")>,\n",
       " <selenium.webdriver.remote.webelement.WebElement (session=\"5011d29245dfaa68dee5bbe5f6193285\", element=\"3fb65373-2a1b-45af-9480-7eed6be9185a\")>,\n",
       " <selenium.webdriver.remote.webelement.WebElement (session=\"5011d29245dfaa68dee5bbe5f6193285\", element=\"b5b37763-5957-4cd6-9130-8033248897f5\")>,\n",
       " <selenium.webdriver.remote.webelement.WebElement (session=\"5011d29245dfaa68dee5bbe5f6193285\", element=\"6a306d4c-7a6d-442c-aba7-240b9ee7f3bc\")>,\n",
       " <selenium.webdriver.remote.webelement.WebElement (session=\"5011d29245dfaa68dee5bbe5f6193285\", element=\"8c550e2e-3feb-4c73-8a31-c66c4cbeeb8a\")>,\n",
       " <selenium.webdriver.remote.webelement.WebElement (session=\"5011d29245dfaa68dee5bbe5f6193285\", element=\"0c52b4fa-93bc-47ba-8a66-87c389a89a6b\")>,\n",
       " <selenium.webdriver.remote.webelement.WebElement (session=\"5011d29245dfaa68dee5bbe5f6193285\", element=\"58720737-fe25-4393-96c4-5558a730a339\")>,\n",
       " <selenium.webdriver.remote.webelement.WebElement (session=\"5011d29245dfaa68dee5bbe5f6193285\", element=\"8ad67aba-76f7-42fa-9561-a0f3a352a95c\")>,\n",
       " <selenium.webdriver.remote.webelement.WebElement (session=\"5011d29245dfaa68dee5bbe5f6193285\", element=\"498cbe43-43b1-4c51-8260-49b9f6c570e3\")>,\n",
       " <selenium.webdriver.remote.webelement.WebElement (session=\"5011d29245dfaa68dee5bbe5f6193285\", element=\"6cd171de-5968-4aa9-a165-31776f6e262c\")>,\n",
       " <selenium.webdriver.remote.webelement.WebElement (session=\"5011d29245dfaa68dee5bbe5f6193285\", element=\"b248d6fd-39a9-4522-b916-31e2b330be85\")>,\n",
       " <selenium.webdriver.remote.webelement.WebElement (session=\"5011d29245dfaa68dee5bbe5f6193285\", element=\"0886bf95-7e2f-48fc-916b-64c6fb5da673\")>,\n",
       " <selenium.webdriver.remote.webelement.WebElement (session=\"5011d29245dfaa68dee5bbe5f6193285\", element=\"52ae9607-52ea-456c-a88d-cc2761669d61\")>,\n",
       " <selenium.webdriver.remote.webelement.WebElement (session=\"5011d29245dfaa68dee5bbe5f6193285\", element=\"f661a912-b7cd-478a-945a-e5899dbaf75b\")>,\n",
       " <selenium.webdriver.remote.webelement.WebElement (session=\"5011d29245dfaa68dee5bbe5f6193285\", element=\"1490c3be-074d-4145-bc0a-0386c2e4d2db\")>,\n",
       " <selenium.webdriver.remote.webelement.WebElement (session=\"5011d29245dfaa68dee5bbe5f6193285\", element=\"ca1ed0b0-d972-4a88-bdbe-32c1805eb49e\")>,\n",
       " <selenium.webdriver.remote.webelement.WebElement (session=\"5011d29245dfaa68dee5bbe5f6193285\", element=\"44dc18e3-87cd-44af-962d-fc466de7e9ba\")>,\n",
       " <selenium.webdriver.remote.webelement.WebElement (session=\"5011d29245dfaa68dee5bbe5f6193285\", element=\"cbc49434-cb40-418f-bd87-4e73a26d44f9\")>,\n",
       " <selenium.webdriver.remote.webelement.WebElement (session=\"5011d29245dfaa68dee5bbe5f6193285\", element=\"e524a9d5-8daf-4ea7-93ca-1747653265c7\")>,\n",
       " <selenium.webdriver.remote.webelement.WebElement (session=\"5011d29245dfaa68dee5bbe5f6193285\", element=\"cf81633c-9b1f-4510-82cc-abef292804be\")>,\n",
       " <selenium.webdriver.remote.webelement.WebElement (session=\"5011d29245dfaa68dee5bbe5f6193285\", element=\"7945080e-afb2-4dfe-9b21-87e4d477cd02\")>,\n",
       " <selenium.webdriver.remote.webelement.WebElement (session=\"5011d29245dfaa68dee5bbe5f6193285\", element=\"a51d300a-03be-46f1-ad02-bcfdd110a0d3\")>,\n",
       " <selenium.webdriver.remote.webelement.WebElement (session=\"5011d29245dfaa68dee5bbe5f6193285\", element=\"14fbffd1-5a29-4ee2-86aa-8b77c043391e\")>,\n",
       " <selenium.webdriver.remote.webelement.WebElement (session=\"5011d29245dfaa68dee5bbe5f6193285\", element=\"641e6182-5444-4a2e-a9b7-024f43384dee\")>]"
      ]
     },
     "execution_count": 264,
     "metadata": {},
     "output_type": "execute_result"
    }
   ],
   "source": [
    "disc_skp1=driver.find_elements_by_class_name('_3Ay6Sb')\n",
    "disc_skp1"
   ]
  },
  {
   "cell_type": "code",
   "execution_count": 265,
   "id": "024a6f51",
   "metadata": {},
   "outputs": [
    {
     "data": {
      "text/plain": [
       "45"
      ]
     },
     "execution_count": 265,
     "metadata": {},
     "output_type": "execute_result"
    }
   ],
   "source": [
    "len(disc_skp1)"
   ]
  },
  {
   "cell_type": "code",
   "execution_count": 267,
   "id": "48c2666a",
   "metadata": {},
   "outputs": [],
   "source": [
    "discsk_1=[]\n",
    "\n",
    "for i in disc_skp1:\n",
    "    discsk_1.append(i.text)\n",
    "    \n",
    "discountsk_1=discsk_1[0:40]"
   ]
  },
  {
   "cell_type": "code",
   "execution_count": 268,
   "id": "3e9ffddf",
   "metadata": {
    "collapsed": true
   },
   "outputs": [
    {
     "data": {
      "text/plain": [
       "[<selenium.webdriver.remote.webelement.WebElement (session=\"5011d29245dfaa68dee5bbe5f6193285\", element=\"0d7342f3-a023-413b-bf72-028466ebbf8a\")>,\n",
       " <selenium.webdriver.remote.webelement.WebElement (session=\"5011d29245dfaa68dee5bbe5f6193285\", element=\"6a4f1518-1cdb-490d-871b-2d5690f9f254\")>,\n",
       " <selenium.webdriver.remote.webelement.WebElement (session=\"5011d29245dfaa68dee5bbe5f6193285\", element=\"75d39f4d-867c-466e-bfdd-45af6a457840\")>,\n",
       " <selenium.webdriver.remote.webelement.WebElement (session=\"5011d29245dfaa68dee5bbe5f6193285\", element=\"52949bc6-8397-47b0-a929-12dd9c0daa7b\")>,\n",
       " <selenium.webdriver.remote.webelement.WebElement (session=\"5011d29245dfaa68dee5bbe5f6193285\", element=\"53ae5528-eb40-4adb-8719-5a97d7ec1c72\")>,\n",
       " <selenium.webdriver.remote.webelement.WebElement (session=\"5011d29245dfaa68dee5bbe5f6193285\", element=\"10e37450-9672-4914-9156-9e2468d76efd\")>,\n",
       " <selenium.webdriver.remote.webelement.WebElement (session=\"5011d29245dfaa68dee5bbe5f6193285\", element=\"157f02d8-32f0-4b9d-a199-46617be4be66\")>,\n",
       " <selenium.webdriver.remote.webelement.WebElement (session=\"5011d29245dfaa68dee5bbe5f6193285\", element=\"88fc6731-8251-46e5-a1d5-fa1e99060637\")>,\n",
       " <selenium.webdriver.remote.webelement.WebElement (session=\"5011d29245dfaa68dee5bbe5f6193285\", element=\"ecd8dba5-1b15-4181-9787-7a859ab68527\")>,\n",
       " <selenium.webdriver.remote.webelement.WebElement (session=\"5011d29245dfaa68dee5bbe5f6193285\", element=\"b5e5e349-267b-40f0-83aa-a534f0c80ccc\")>,\n",
       " <selenium.webdriver.remote.webelement.WebElement (session=\"5011d29245dfaa68dee5bbe5f6193285\", element=\"b88dcc13-7c74-4a51-b637-9b9e7661930d\")>,\n",
       " <selenium.webdriver.remote.webelement.WebElement (session=\"5011d29245dfaa68dee5bbe5f6193285\", element=\"19805726-cc33-4373-9bac-aa5badbe4b93\")>,\n",
       " <selenium.webdriver.remote.webelement.WebElement (session=\"5011d29245dfaa68dee5bbe5f6193285\", element=\"e99c3a36-c965-48e1-a29c-69fef967f1a3\")>,\n",
       " <selenium.webdriver.remote.webelement.WebElement (session=\"5011d29245dfaa68dee5bbe5f6193285\", element=\"605c8aa6-0179-450e-ab85-170b51c6f6ca\")>,\n",
       " <selenium.webdriver.remote.webelement.WebElement (session=\"5011d29245dfaa68dee5bbe5f6193285\", element=\"dacc9ba8-9d7f-4e44-a2fa-9bde027372fb\")>,\n",
       " <selenium.webdriver.remote.webelement.WebElement (session=\"5011d29245dfaa68dee5bbe5f6193285\", element=\"a40b3423-b89e-422a-b5bf-b1c70c140942\")>,\n",
       " <selenium.webdriver.remote.webelement.WebElement (session=\"5011d29245dfaa68dee5bbe5f6193285\", element=\"f7f86fe0-7e55-4a4f-ab3b-92a7d47aa883\")>,\n",
       " <selenium.webdriver.remote.webelement.WebElement (session=\"5011d29245dfaa68dee5bbe5f6193285\", element=\"ac558225-8811-49a1-957f-85ec39542c10\")>,\n",
       " <selenium.webdriver.remote.webelement.WebElement (session=\"5011d29245dfaa68dee5bbe5f6193285\", element=\"783337c2-2afa-4386-81f2-ee8f5ab1f4b3\")>,\n",
       " <selenium.webdriver.remote.webelement.WebElement (session=\"5011d29245dfaa68dee5bbe5f6193285\", element=\"9c4bf8fc-5f4f-4eb7-8104-1eb2644b5349\")>,\n",
       " <selenium.webdriver.remote.webelement.WebElement (session=\"5011d29245dfaa68dee5bbe5f6193285\", element=\"43384405-dce3-4b7f-ac55-674e7927e23e\")>,\n",
       " <selenium.webdriver.remote.webelement.WebElement (session=\"5011d29245dfaa68dee5bbe5f6193285\", element=\"ca7a3f26-8d4a-45db-9f98-a790cf11747a\")>,\n",
       " <selenium.webdriver.remote.webelement.WebElement (session=\"5011d29245dfaa68dee5bbe5f6193285\", element=\"5cfbfdb9-d225-4401-9ab9-2d3de1c2fa71\")>,\n",
       " <selenium.webdriver.remote.webelement.WebElement (session=\"5011d29245dfaa68dee5bbe5f6193285\", element=\"3cf12117-f766-47c2-b21d-88d37a543067\")>,\n",
       " <selenium.webdriver.remote.webelement.WebElement (session=\"5011d29245dfaa68dee5bbe5f6193285\", element=\"f1afe6c8-d0ed-4397-a181-8123402335dd\")>,\n",
       " <selenium.webdriver.remote.webelement.WebElement (session=\"5011d29245dfaa68dee5bbe5f6193285\", element=\"ebbd4230-09d7-4a09-aece-8af3c7708653\")>,\n",
       " <selenium.webdriver.remote.webelement.WebElement (session=\"5011d29245dfaa68dee5bbe5f6193285\", element=\"7897965e-2f03-41bb-95ec-606116715775\")>,\n",
       " <selenium.webdriver.remote.webelement.WebElement (session=\"5011d29245dfaa68dee5bbe5f6193285\", element=\"12dbcd6d-90e3-400b-9045-354ce0b18931\")>,\n",
       " <selenium.webdriver.remote.webelement.WebElement (session=\"5011d29245dfaa68dee5bbe5f6193285\", element=\"d6be2f47-a685-4847-87fe-8f1ea230806d\")>,\n",
       " <selenium.webdriver.remote.webelement.WebElement (session=\"5011d29245dfaa68dee5bbe5f6193285\", element=\"e1599b3f-e4e6-4cca-8e09-62f20374e54e\")>,\n",
       " <selenium.webdriver.remote.webelement.WebElement (session=\"5011d29245dfaa68dee5bbe5f6193285\", element=\"fd6b6da0-2915-44d1-8c8d-b210601e28ff\")>,\n",
       " <selenium.webdriver.remote.webelement.WebElement (session=\"5011d29245dfaa68dee5bbe5f6193285\", element=\"ff172e99-6590-4b24-ae70-8599d0698b3d\")>,\n",
       " <selenium.webdriver.remote.webelement.WebElement (session=\"5011d29245dfaa68dee5bbe5f6193285\", element=\"9234729b-8c84-4809-890d-5e13761481c8\")>,\n",
       " <selenium.webdriver.remote.webelement.WebElement (session=\"5011d29245dfaa68dee5bbe5f6193285\", element=\"4b39b66c-b25e-4a93-b88d-72d7c3b6c606\")>,\n",
       " <selenium.webdriver.remote.webelement.WebElement (session=\"5011d29245dfaa68dee5bbe5f6193285\", element=\"7a7d2650-9f76-4a6f-9062-48b61bf9412c\")>,\n",
       " <selenium.webdriver.remote.webelement.WebElement (session=\"5011d29245dfaa68dee5bbe5f6193285\", element=\"94c99332-a9d3-4a9c-aa32-50b21ccd13aa\")>,\n",
       " <selenium.webdriver.remote.webelement.WebElement (session=\"5011d29245dfaa68dee5bbe5f6193285\", element=\"4a2bebff-6318-47a9-b4da-c541ec7488b1\")>,\n",
       " <selenium.webdriver.remote.webelement.WebElement (session=\"5011d29245dfaa68dee5bbe5f6193285\", element=\"28e2f244-0867-4069-a9ee-7115bedce08a\")>,\n",
       " <selenium.webdriver.remote.webelement.WebElement (session=\"5011d29245dfaa68dee5bbe5f6193285\", element=\"8e7a6938-4386-43d4-bbd0-5c67d619d248\")>,\n",
       " <selenium.webdriver.remote.webelement.WebElement (session=\"5011d29245dfaa68dee5bbe5f6193285\", element=\"cd0b4246-ab1d-43b8-9d01-fffa86b3cd50\")>,\n",
       " <selenium.webdriver.remote.webelement.WebElement (session=\"5011d29245dfaa68dee5bbe5f6193285\", element=\"9ad5a15d-35f2-4aa5-b695-a97d9bd6b176\")>,\n",
       " <selenium.webdriver.remote.webelement.WebElement (session=\"5011d29245dfaa68dee5bbe5f6193285\", element=\"0f86b77a-9a16-4dc2-8ac1-68047fad1f59\")>,\n",
       " <selenium.webdriver.remote.webelement.WebElement (session=\"5011d29245dfaa68dee5bbe5f6193285\", element=\"0154a89e-7827-4976-a234-d8ef9d17f48d\")>,\n",
       " <selenium.webdriver.remote.webelement.WebElement (session=\"5011d29245dfaa68dee5bbe5f6193285\", element=\"a038334d-e7de-4097-9d13-a488b519c48a\")>,\n",
       " <selenium.webdriver.remote.webelement.WebElement (session=\"5011d29245dfaa68dee5bbe5f6193285\", element=\"e8b40ca1-46fe-42cd-979a-e3887abf2053\")>]"
      ]
     },
     "execution_count": 268,
     "metadata": {},
     "output_type": "execute_result"
    }
   ],
   "source": [
    "price_skp1=driver.find_elements_by_class_name('_30jeq3')\n",
    "price_skp1"
   ]
  },
  {
   "cell_type": "code",
   "execution_count": 269,
   "id": "1cba4c35",
   "metadata": {},
   "outputs": [
    {
     "data": {
      "text/plain": [
       "45"
      ]
     },
     "execution_count": 269,
     "metadata": {},
     "output_type": "execute_result"
    }
   ],
   "source": [
    "len(price_skp1)"
   ]
  },
  {
   "cell_type": "code",
   "execution_count": 270,
   "id": "3e4ac54c",
   "metadata": {},
   "outputs": [],
   "source": [
    "price_sk_1=[]\n",
    "\n",
    "for i in price_skp1:\n",
    "    price_sk_1.append(i.text)\n",
    "    \n",
    "pricesk_1=price_sk_1[0:40]"
   ]
  },
  {
   "cell_type": "code",
   "execution_count": 272,
   "id": "945f0cc6",
   "metadata": {
    "collapsed": true
   },
   "outputs": [
    {
     "data": {
      "text/html": [
       "<div>\n",
       "<style scoped>\n",
       "    .dataframe tbody tr th:only-of-type {\n",
       "        vertical-align: middle;\n",
       "    }\n",
       "\n",
       "    .dataframe tbody tr th {\n",
       "        vertical-align: top;\n",
       "    }\n",
       "\n",
       "    .dataframe thead th {\n",
       "        text-align: right;\n",
       "    }\n",
       "</style>\n",
       "<table border=\"1\" class=\"dataframe\">\n",
       "  <thead>\n",
       "    <tr style=\"text-align: right;\">\n",
       "      <th></th>\n",
       "      <th>Brand</th>\n",
       "      <th>Product Description</th>\n",
       "      <th>Discount</th>\n",
       "      <th>Price</th>\n",
       "    </tr>\n",
       "  </thead>\n",
       "  <tbody>\n",
       "    <tr>\n",
       "      <th>0</th>\n",
       "      <td>HIGHLANDER</td>\n",
       "      <td>Sneakers For Men</td>\n",
       "      <td>50% off</td>\n",
       "      <td>₹995</td>\n",
       "    </tr>\n",
       "    <tr>\n",
       "      <th>1</th>\n",
       "      <td>HIGHLANDER</td>\n",
       "      <td>Sneakers For Men</td>\n",
       "      <td>39% off</td>\n",
       "      <td>₹719</td>\n",
       "    </tr>\n",
       "    <tr>\n",
       "      <th>2</th>\n",
       "      <td>DUNKASTON</td>\n",
       "      <td>Sneakers For Men</td>\n",
       "      <td>77% off</td>\n",
       "      <td>₹343</td>\n",
       "    </tr>\n",
       "    <tr>\n",
       "      <th>3</th>\n",
       "      <td>BRUTON</td>\n",
       "      <td>Modern Trendy Sneakers Shoes Sneakers For Men</td>\n",
       "      <td>80% off</td>\n",
       "      <td>₹259</td>\n",
       "    </tr>\n",
       "    <tr>\n",
       "      <th>4</th>\n",
       "      <td>World Wear Footwear</td>\n",
       "      <td>Sneakers For Men</td>\n",
       "      <td>60% off</td>\n",
       "      <td>₹199</td>\n",
       "    </tr>\n",
       "    <tr>\n",
       "      <th>5</th>\n",
       "      <td>Chevit</td>\n",
       "      <td>Super Stylish &amp; Trendy Combo Pack of 02 Pairs ...</td>\n",
       "      <td>59% off</td>\n",
       "      <td>₹649</td>\n",
       "    </tr>\n",
       "    <tr>\n",
       "      <th>6</th>\n",
       "      <td>KWIK FIT</td>\n",
       "      <td>Kwik FIT casual sneaker shoes and partywear sh...</td>\n",
       "      <td>80% off</td>\n",
       "      <td>₹399</td>\n",
       "    </tr>\n",
       "    <tr>\n",
       "      <th>7</th>\n",
       "      <td>Echor</td>\n",
       "      <td>Men's casual shoe Black sneaker shoe for men S...</td>\n",
       "      <td>66% off</td>\n",
       "      <td>₹499</td>\n",
       "    </tr>\n",
       "    <tr>\n",
       "      <th>8</th>\n",
       "      <td>BRUTON</td>\n",
       "      <td>Sneaker Sneakers For Men</td>\n",
       "      <td>76% off</td>\n",
       "      <td>₹299</td>\n",
       "    </tr>\n",
       "    <tr>\n",
       "      <th>9</th>\n",
       "      <td>corsac</td>\n",
       "      <td>STYLISH MENS BLACK AND WHITE SNEAKER Sneakers ...</td>\n",
       "      <td>70% off</td>\n",
       "      <td>₹449</td>\n",
       "    </tr>\n",
       "    <tr>\n",
       "      <th>10</th>\n",
       "      <td>World Wear Footwear</td>\n",
       "      <td>5011-Latest Collection Stylish Casual Loafer S...</td>\n",
       "      <td>60% off</td>\n",
       "      <td>₹199</td>\n",
       "    </tr>\n",
       "    <tr>\n",
       "      <th>11</th>\n",
       "      <td>RapidBox</td>\n",
       "      <td>Sneakers For Men</td>\n",
       "      <td>35% off</td>\n",
       "      <td>₹640</td>\n",
       "    </tr>\n",
       "    <tr>\n",
       "      <th>12</th>\n",
       "      <td>BRUTON</td>\n",
       "      <td>Modern &amp; Trendy Collection Combo Pack of 02 Sh...</td>\n",
       "      <td>81% off</td>\n",
       "      <td>₹471</td>\n",
       "    </tr>\n",
       "    <tr>\n",
       "      <th>13</th>\n",
       "      <td>D-SNEAKERZ</td>\n",
       "      <td>Casual , Partywear Sneakers Shoes For Men's An...</td>\n",
       "      <td>54% off</td>\n",
       "      <td>₹299</td>\n",
       "    </tr>\n",
       "    <tr>\n",
       "      <th>14</th>\n",
       "      <td>Magnolia</td>\n",
       "      <td>Sneakers For Men</td>\n",
       "      <td>55% off</td>\n",
       "      <td>₹448</td>\n",
       "    </tr>\n",
       "    <tr>\n",
       "      <th>15</th>\n",
       "      <td>HIGHLANDER</td>\n",
       "      <td>Sneakers For Men</td>\n",
       "      <td>39% off</td>\n",
       "      <td>₹719</td>\n",
       "    </tr>\n",
       "    <tr>\n",
       "      <th>16</th>\n",
       "      <td>BRUTON</td>\n",
       "      <td>Lattest Sneakers Shoe Sneakers For Men</td>\n",
       "      <td>76% off</td>\n",
       "      <td>₹299</td>\n",
       "    </tr>\n",
       "    <tr>\n",
       "      <th>17</th>\n",
       "      <td>Shoes Bank</td>\n",
       "      <td>White Sneaker For Men's/Boy's Sneakers For Men</td>\n",
       "      <td>70% off</td>\n",
       "      <td>₹298</td>\n",
       "    </tr>\n",
       "    <tr>\n",
       "      <th>18</th>\n",
       "      <td>URBANBOX</td>\n",
       "      <td>Sneakers Sneakers For Men</td>\n",
       "      <td>80% off</td>\n",
       "      <td>₹198</td>\n",
       "    </tr>\n",
       "    <tr>\n",
       "      <th>19</th>\n",
       "      <td>HIGHLANDER</td>\n",
       "      <td>Sneakers For Men</td>\n",
       "      <td>39% off</td>\n",
       "      <td>₹719</td>\n",
       "    </tr>\n",
       "    <tr>\n",
       "      <th>20</th>\n",
       "      <td>Labbin</td>\n",
       "      <td>Sneakers For Men</td>\n",
       "      <td>50% off</td>\n",
       "      <td>₹499</td>\n",
       "    </tr>\n",
       "    <tr>\n",
       "      <th>21</th>\n",
       "      <td>Magnolia</td>\n",
       "      <td>Sneakers For Men</td>\n",
       "      <td>55% off</td>\n",
       "      <td>₹448</td>\n",
       "    </tr>\n",
       "    <tr>\n",
       "      <th>22</th>\n",
       "      <td>Kraasa</td>\n",
       "      <td>Series 7 Sneakers For Men</td>\n",
       "      <td>55% off</td>\n",
       "      <td>₹444</td>\n",
       "    </tr>\n",
       "    <tr>\n",
       "      <th>23</th>\n",
       "      <td>HIGHLANDER</td>\n",
       "      <td>Sneakers For Men</td>\n",
       "      <td>50% off</td>\n",
       "      <td>₹995</td>\n",
       "    </tr>\n",
       "    <tr>\n",
       "      <th>24</th>\n",
       "      <td>TR</td>\n",
       "      <td>Sneakers For Men</td>\n",
       "      <td>63% off</td>\n",
       "      <td>₹360</td>\n",
       "    </tr>\n",
       "    <tr>\n",
       "      <th>25</th>\n",
       "      <td>RapidBox</td>\n",
       "      <td>Sneakers For Men</td>\n",
       "      <td>31% off</td>\n",
       "      <td>₹680</td>\n",
       "    </tr>\n",
       "    <tr>\n",
       "      <th>26</th>\n",
       "      <td>Rzisbo</td>\n",
       "      <td>Sneakers For Men</td>\n",
       "      <td>50% off</td>\n",
       "      <td>₹494</td>\n",
       "    </tr>\n",
       "    <tr>\n",
       "      <th>27</th>\n",
       "      <td>Echor</td>\n",
       "      <td>Echor Men's Sneakers Fashion Lightweight Runni...</td>\n",
       "      <td>66% off</td>\n",
       "      <td>₹499</td>\n",
       "    </tr>\n",
       "    <tr>\n",
       "      <th>28</th>\n",
       "      <td>Stefano Rads</td>\n",
       "      <td>Classy Sneakers For Men</td>\n",
       "      <td>65% off</td>\n",
       "      <td>₹240</td>\n",
       "    </tr>\n",
       "    <tr>\n",
       "      <th>29</th>\n",
       "      <td>ASTEROID</td>\n",
       "      <td>Original Luxury Branded Fashionable Men's Casu...</td>\n",
       "      <td>76% off</td>\n",
       "      <td>₹474</td>\n",
       "    </tr>\n",
       "    <tr>\n",
       "      <th>30</th>\n",
       "      <td>CLYMB</td>\n",
       "      <td>Sneakers For Men</td>\n",
       "      <td>58% off</td>\n",
       "      <td>₹616</td>\n",
       "    </tr>\n",
       "    <tr>\n",
       "      <th>31</th>\n",
       "      <td>RapidBox</td>\n",
       "      <td>Sneakers For Men</td>\n",
       "      <td>36% off</td>\n",
       "      <td>₹630</td>\n",
       "    </tr>\n",
       "    <tr>\n",
       "      <th>32</th>\n",
       "      <td>Airland</td>\n",
       "      <td>sneaker men red 1258 - 6 Sneakers For Men</td>\n",
       "      <td>60% off</td>\n",
       "      <td>₹198</td>\n",
       "    </tr>\n",
       "    <tr>\n",
       "      <th>33</th>\n",
       "      <td>SCATCHITE</td>\n",
       "      <td>Sneakers For Men</td>\n",
       "      <td>60% off</td>\n",
       "      <td>₹398</td>\n",
       "    </tr>\n",
       "    <tr>\n",
       "      <th>34</th>\n",
       "      <td>Zsyto</td>\n",
       "      <td>Sneakers For Men</td>\n",
       "      <td>76% off</td>\n",
       "      <td>₹311</td>\n",
       "    </tr>\n",
       "    <tr>\n",
       "      <th>35</th>\n",
       "      <td>HIGHLANDER</td>\n",
       "      <td>Sneakers For Men</td>\n",
       "      <td>60% off</td>\n",
       "      <td>₹796</td>\n",
       "    </tr>\n",
       "    <tr>\n",
       "      <th>36</th>\n",
       "      <td>luxury fashion</td>\n",
       "      <td>Sneakers For Men</td>\n",
       "      <td>75% off</td>\n",
       "      <td>₹489</td>\n",
       "    </tr>\n",
       "    <tr>\n",
       "      <th>37</th>\n",
       "      <td>aadi</td>\n",
       "      <td>Sneakers For Men</td>\n",
       "      <td>64% off</td>\n",
       "      <td>₹359</td>\n",
       "    </tr>\n",
       "    <tr>\n",
       "      <th>38</th>\n",
       "      <td>Chevit</td>\n",
       "      <td>516 Trendy Star Perfect Sneakers For Men</td>\n",
       "      <td>67% off</td>\n",
       "      <td>₹259</td>\n",
       "    </tr>\n",
       "    <tr>\n",
       "      <th>39</th>\n",
       "      <td>EMPTILE</td>\n",
       "      <td>all white heartbeat casual shoe Sneakers For Men</td>\n",
       "      <td>60% off</td>\n",
       "      <td>₹397</td>\n",
       "    </tr>\n",
       "  </tbody>\n",
       "</table>\n",
       "</div>"
      ],
      "text/plain": [
       "                  Brand                                Product Description  \\\n",
       "0            HIGHLANDER                                   Sneakers For Men   \n",
       "1            HIGHLANDER                                   Sneakers For Men   \n",
       "2             DUNKASTON                                   Sneakers For Men   \n",
       "3                BRUTON      Modern Trendy Sneakers Shoes Sneakers For Men   \n",
       "4   World Wear Footwear                                   Sneakers For Men   \n",
       "5                Chevit  Super Stylish & Trendy Combo Pack of 02 Pairs ...   \n",
       "6              KWIK FIT  Kwik FIT casual sneaker shoes and partywear sh...   \n",
       "7                 Echor  Men's casual shoe Black sneaker shoe for men S...   \n",
       "8                BRUTON                           Sneaker Sneakers For Men   \n",
       "9                corsac  STYLISH MENS BLACK AND WHITE SNEAKER Sneakers ...   \n",
       "10  World Wear Footwear  5011-Latest Collection Stylish Casual Loafer S...   \n",
       "11             RapidBox                                   Sneakers For Men   \n",
       "12               BRUTON  Modern & Trendy Collection Combo Pack of 02 Sh...   \n",
       "13           D-SNEAKERZ  Casual , Partywear Sneakers Shoes For Men's An...   \n",
       "14             Magnolia                                   Sneakers For Men   \n",
       "15           HIGHLANDER                                   Sneakers For Men   \n",
       "16               BRUTON             Lattest Sneakers Shoe Sneakers For Men   \n",
       "17           Shoes Bank     White Sneaker For Men's/Boy's Sneakers For Men   \n",
       "18             URBANBOX                          Sneakers Sneakers For Men   \n",
       "19           HIGHLANDER                                   Sneakers For Men   \n",
       "20               Labbin                                   Sneakers For Men   \n",
       "21             Magnolia                                   Sneakers For Men   \n",
       "22               Kraasa                          Series 7 Sneakers For Men   \n",
       "23           HIGHLANDER                                   Sneakers For Men   \n",
       "24                   TR                                   Sneakers For Men   \n",
       "25             RapidBox                                   Sneakers For Men   \n",
       "26               Rzisbo                                   Sneakers For Men   \n",
       "27                Echor  Echor Men's Sneakers Fashion Lightweight Runni...   \n",
       "28         Stefano Rads                            Classy Sneakers For Men   \n",
       "29             ASTEROID  Original Luxury Branded Fashionable Men's Casu...   \n",
       "30                CLYMB                                   Sneakers For Men   \n",
       "31             RapidBox                                   Sneakers For Men   \n",
       "32              Airland          sneaker men red 1258 - 6 Sneakers For Men   \n",
       "33            SCATCHITE                                   Sneakers For Men   \n",
       "34                Zsyto                                   Sneakers For Men   \n",
       "35           HIGHLANDER                                   Sneakers For Men   \n",
       "36       luxury fashion                                   Sneakers For Men   \n",
       "37                 aadi                                   Sneakers For Men   \n",
       "38               Chevit           516 Trendy Star Perfect Sneakers For Men   \n",
       "39              EMPTILE   all white heartbeat casual shoe Sneakers For Men   \n",
       "\n",
       "   Discount Price  \n",
       "0   50% off  ₹995  \n",
       "1   39% off  ₹719  \n",
       "2   77% off  ₹343  \n",
       "3   80% off  ₹259  \n",
       "4   60% off  ₹199  \n",
       "5   59% off  ₹649  \n",
       "6   80% off  ₹399  \n",
       "7   66% off  ₹499  \n",
       "8   76% off  ₹299  \n",
       "9   70% off  ₹449  \n",
       "10  60% off  ₹199  \n",
       "11  35% off  ₹640  \n",
       "12  81% off  ₹471  \n",
       "13  54% off  ₹299  \n",
       "14  55% off  ₹448  \n",
       "15  39% off  ₹719  \n",
       "16  76% off  ₹299  \n",
       "17  70% off  ₹298  \n",
       "18  80% off  ₹198  \n",
       "19  39% off  ₹719  \n",
       "20  50% off  ₹499  \n",
       "21  55% off  ₹448  \n",
       "22  55% off  ₹444  \n",
       "23  50% off  ₹995  \n",
       "24  63% off  ₹360  \n",
       "25  31% off  ₹680  \n",
       "26  50% off  ₹494  \n",
       "27  66% off  ₹499  \n",
       "28  65% off  ₹240  \n",
       "29  76% off  ₹474  \n",
       "30  58% off  ₹616  \n",
       "31  36% off  ₹630  \n",
       "32  60% off  ₹198  \n",
       "33  60% off  ₹398  \n",
       "34  76% off  ₹311  \n",
       "35  60% off  ₹796  \n",
       "36  75% off  ₹489  \n",
       "37  64% off  ₹359  \n",
       "38  67% off  ₹259  \n",
       "39  60% off  ₹397  "
      ]
     },
     "execution_count": 272,
     "metadata": {},
     "output_type": "execute_result"
    }
   ],
   "source": [
    "sneakers1data=pd.DataFrame()\n",
    "sneakers1data['Brand']=brandsk_1\n",
    "sneakers1data['Product Description']=dessk_1\n",
    "sneakers1data['Discount']=discountsk_1\n",
    "sneakers1data['Price']=pricesk_1\n",
    "\n",
    "sneakers1data"
   ]
  },
  {
   "cell_type": "code",
   "execution_count": 275,
   "id": "210650fd",
   "metadata": {},
   "outputs": [],
   "source": [
    "driver.execute_script(\"window.scrollBy(0,1000)\",\"\")"
   ]
  },
  {
   "cell_type": "code",
   "execution_count": 276,
   "id": "538ee323",
   "metadata": {},
   "outputs": [
    {
     "data": {
      "text/plain": [
       "<selenium.webdriver.remote.webelement.WebElement (session=\"5011d29245dfaa68dee5bbe5f6193285\", element=\"780ce681-79d1-4b58-8ee5-4d9d3a266b32\")>"
      ]
     },
     "execution_count": 276,
     "metadata": {},
     "output_type": "execute_result"
    }
   ],
   "source": [
    "sneakers_page2=driver.find_element_by_xpath('/html/body/div[1]/div/div[3]/div[1]/div[2]/div[12]/div/div/nav/a[2]')\n",
    "sneakers_page2"
   ]
  },
  {
   "cell_type": "code",
   "execution_count": 277,
   "id": "e30af86b",
   "metadata": {},
   "outputs": [],
   "source": [
    "sneakers_page2.click()"
   ]
  },
  {
   "cell_type": "code",
   "execution_count": 278,
   "id": "4556d325",
   "metadata": {
    "collapsed": true
   },
   "outputs": [
    {
     "data": {
      "text/plain": [
       "[<selenium.webdriver.remote.webelement.WebElement (session=\"5011d29245dfaa68dee5bbe5f6193285\", element=\"994033dc-cce2-474d-ad09-c45f430d5561\")>,\n",
       " <selenium.webdriver.remote.webelement.WebElement (session=\"5011d29245dfaa68dee5bbe5f6193285\", element=\"ee994a6b-81fb-4fc6-8a5a-9d6d50769c97\")>,\n",
       " <selenium.webdriver.remote.webelement.WebElement (session=\"5011d29245dfaa68dee5bbe5f6193285\", element=\"3e66cc8d-a50d-4b89-9c40-0077d0823a21\")>,\n",
       " <selenium.webdriver.remote.webelement.WebElement (session=\"5011d29245dfaa68dee5bbe5f6193285\", element=\"4df83233-c122-4420-b525-15745bb4ed2a\")>,\n",
       " <selenium.webdriver.remote.webelement.WebElement (session=\"5011d29245dfaa68dee5bbe5f6193285\", element=\"d11912d9-cf3b-447d-8cdf-149de815b207\")>,\n",
       " <selenium.webdriver.remote.webelement.WebElement (session=\"5011d29245dfaa68dee5bbe5f6193285\", element=\"3eb5e13c-f177-4232-aaea-7242a9e563e5\")>,\n",
       " <selenium.webdriver.remote.webelement.WebElement (session=\"5011d29245dfaa68dee5bbe5f6193285\", element=\"50ce6e95-e260-4eb8-93cc-9858e367b329\")>,\n",
       " <selenium.webdriver.remote.webelement.WebElement (session=\"5011d29245dfaa68dee5bbe5f6193285\", element=\"85deac9a-e24b-4934-be26-fdf6e28a53d1\")>,\n",
       " <selenium.webdriver.remote.webelement.WebElement (session=\"5011d29245dfaa68dee5bbe5f6193285\", element=\"5c46d377-ad3d-41ef-8f83-d9b135e195f2\")>,\n",
       " <selenium.webdriver.remote.webelement.WebElement (session=\"5011d29245dfaa68dee5bbe5f6193285\", element=\"9639bbd1-8db6-47b5-9920-16e39571f2d5\")>,\n",
       " <selenium.webdriver.remote.webelement.WebElement (session=\"5011d29245dfaa68dee5bbe5f6193285\", element=\"6dcefa27-7e12-4e2b-b300-de645437d357\")>,\n",
       " <selenium.webdriver.remote.webelement.WebElement (session=\"5011d29245dfaa68dee5bbe5f6193285\", element=\"a9a85844-3733-4dcf-b0bc-05a22f286df6\")>,\n",
       " <selenium.webdriver.remote.webelement.WebElement (session=\"5011d29245dfaa68dee5bbe5f6193285\", element=\"90b7877a-284f-4436-afdd-8d962ee07842\")>,\n",
       " <selenium.webdriver.remote.webelement.WebElement (session=\"5011d29245dfaa68dee5bbe5f6193285\", element=\"a5713bf7-f219-4b6a-bd37-a07e4eaaf03e\")>,\n",
       " <selenium.webdriver.remote.webelement.WebElement (session=\"5011d29245dfaa68dee5bbe5f6193285\", element=\"83519ec4-3721-4ae3-88b5-ca959174fb8c\")>,\n",
       " <selenium.webdriver.remote.webelement.WebElement (session=\"5011d29245dfaa68dee5bbe5f6193285\", element=\"b8af0808-1601-4cc5-b691-bea45fb9ce0b\")>,\n",
       " <selenium.webdriver.remote.webelement.WebElement (session=\"5011d29245dfaa68dee5bbe5f6193285\", element=\"4222ea79-cfe1-4ccd-a2b6-3afe8f01c4a6\")>,\n",
       " <selenium.webdriver.remote.webelement.WebElement (session=\"5011d29245dfaa68dee5bbe5f6193285\", element=\"3bceba36-c15c-47ac-9537-95626cb239f2\")>,\n",
       " <selenium.webdriver.remote.webelement.WebElement (session=\"5011d29245dfaa68dee5bbe5f6193285\", element=\"8becbf01-e97a-4303-a749-008cf5781358\")>,\n",
       " <selenium.webdriver.remote.webelement.WebElement (session=\"5011d29245dfaa68dee5bbe5f6193285\", element=\"e90838d7-f943-4a0c-a07a-848b3e3e7a86\")>,\n",
       " <selenium.webdriver.remote.webelement.WebElement (session=\"5011d29245dfaa68dee5bbe5f6193285\", element=\"5a240851-9772-4591-a127-439dcac1e7c2\")>,\n",
       " <selenium.webdriver.remote.webelement.WebElement (session=\"5011d29245dfaa68dee5bbe5f6193285\", element=\"0b849301-de62-4d49-b01f-020f7b98e9d3\")>,\n",
       " <selenium.webdriver.remote.webelement.WebElement (session=\"5011d29245dfaa68dee5bbe5f6193285\", element=\"92fa80de-809f-4767-bfeb-9b4350c06eff\")>,\n",
       " <selenium.webdriver.remote.webelement.WebElement (session=\"5011d29245dfaa68dee5bbe5f6193285\", element=\"76ce9bc5-e2f7-4862-a273-adb093ae7424\")>,\n",
       " <selenium.webdriver.remote.webelement.WebElement (session=\"5011d29245dfaa68dee5bbe5f6193285\", element=\"9b779756-649d-454b-9e1b-bf4d1e0c24c2\")>,\n",
       " <selenium.webdriver.remote.webelement.WebElement (session=\"5011d29245dfaa68dee5bbe5f6193285\", element=\"ec9cafb2-296c-45e4-a9b0-17955233c7a3\")>,\n",
       " <selenium.webdriver.remote.webelement.WebElement (session=\"5011d29245dfaa68dee5bbe5f6193285\", element=\"b34d9176-d96a-4e8c-b54d-ab434930e715\")>,\n",
       " <selenium.webdriver.remote.webelement.WebElement (session=\"5011d29245dfaa68dee5bbe5f6193285\", element=\"2f1197a6-9cbf-4b15-84a7-c2a017782735\")>,\n",
       " <selenium.webdriver.remote.webelement.WebElement (session=\"5011d29245dfaa68dee5bbe5f6193285\", element=\"2dbc1496-48c5-4a6d-ad1c-2e4a54d11f13\")>,\n",
       " <selenium.webdriver.remote.webelement.WebElement (session=\"5011d29245dfaa68dee5bbe5f6193285\", element=\"8ec32dd7-e478-4411-8991-539a9cdb9b41\")>,\n",
       " <selenium.webdriver.remote.webelement.WebElement (session=\"5011d29245dfaa68dee5bbe5f6193285\", element=\"e4b078ad-4541-4c10-92da-5a1ef5f04dc4\")>,\n",
       " <selenium.webdriver.remote.webelement.WebElement (session=\"5011d29245dfaa68dee5bbe5f6193285\", element=\"8f6d0986-ae5f-4049-a5d9-162b72af4f48\")>,\n",
       " <selenium.webdriver.remote.webelement.WebElement (session=\"5011d29245dfaa68dee5bbe5f6193285\", element=\"1891c78a-995a-4b7a-9581-ee4c90006fd2\")>,\n",
       " <selenium.webdriver.remote.webelement.WebElement (session=\"5011d29245dfaa68dee5bbe5f6193285\", element=\"932fdcf4-6ec4-4fb5-ac04-23f16a0f4355\")>,\n",
       " <selenium.webdriver.remote.webelement.WebElement (session=\"5011d29245dfaa68dee5bbe5f6193285\", element=\"b1518c43-3038-45cc-95fd-dcf945d03aaa\")>,\n",
       " <selenium.webdriver.remote.webelement.WebElement (session=\"5011d29245dfaa68dee5bbe5f6193285\", element=\"c26225e5-9a41-4030-b086-9203a8c9da22\")>,\n",
       " <selenium.webdriver.remote.webelement.WebElement (session=\"5011d29245dfaa68dee5bbe5f6193285\", element=\"ce484064-3eaa-4629-ba42-cf1f60448620\")>,\n",
       " <selenium.webdriver.remote.webelement.WebElement (session=\"5011d29245dfaa68dee5bbe5f6193285\", element=\"34605fe6-dfa4-41a9-8902-0dca01d60e79\")>,\n",
       " <selenium.webdriver.remote.webelement.WebElement (session=\"5011d29245dfaa68dee5bbe5f6193285\", element=\"eba85e4b-538c-45da-ba13-096b5dcca584\")>,\n",
       " <selenium.webdriver.remote.webelement.WebElement (session=\"5011d29245dfaa68dee5bbe5f6193285\", element=\"4b1c86d1-c238-4c0f-ae30-1f91e3ac3748\")>]"
      ]
     },
     "execution_count": 278,
     "metadata": {},
     "output_type": "execute_result"
    }
   ],
   "source": [
    "brandsk2=driver.find_elements_by_class_name('_2WkVRV')\n",
    "brandsk2"
   ]
  },
  {
   "cell_type": "code",
   "execution_count": 279,
   "id": "a2522a19",
   "metadata": {},
   "outputs": [
    {
     "data": {
      "text/plain": [
       "40"
      ]
     },
     "execution_count": 279,
     "metadata": {},
     "output_type": "execute_result"
    }
   ],
   "source": [
    "len(brandsk2)"
   ]
  },
  {
   "cell_type": "code",
   "execution_count": 280,
   "id": "d030de11",
   "metadata": {
    "collapsed": true
   },
   "outputs": [
    {
     "data": {
      "text/plain": [
       "['Stinson',\n",
       " 'Chevit',\n",
       " 'World Wear Footwear',\n",
       " 'Echor',\n",
       " 'Echor',\n",
       " 'World Wear Footwear',\n",
       " 'Kzaara',\n",
       " 'HIGHLANDER',\n",
       " 'India hub',\n",
       " 'Magnolia',\n",
       " 'Xtoon',\n",
       " 'RapidBox',\n",
       " 'India hub',\n",
       " 'Kraasa',\n",
       " 'Chevit',\n",
       " 'HIGHLANDER',\n",
       " 'luxury fashion',\n",
       " 'D-SNEAKERZ',\n",
       " 'RANZAG',\n",
       " 'EMPTILE',\n",
       " 'BRUTON',\n",
       " 'BRUTON',\n",
       " 'BIRDE',\n",
       " 'RapidBox',\n",
       " 'Robbie jones',\n",
       " 'Chevit',\n",
       " 'Bretton',\n",
       " 'HIGHLANDER',\n",
       " 'CLYMB',\n",
       " 'Vellinto',\n",
       " 'Elevarse',\n",
       " 'HIGHLANDER',\n",
       " 'Dizzler',\n",
       " 'Brainer',\n",
       " 'Echor',\n",
       " 'HIGHLANDER',\n",
       " 'LE GREEM',\n",
       " 'Rzisbo',\n",
       " 'Ktiz',\n",
       " 'HIGHLANDER']"
      ]
     },
     "execution_count": 280,
     "metadata": {},
     "output_type": "execute_result"
    }
   ],
   "source": [
    "brandsk_2=[]\n",
    "\n",
    "for i in brandsk2:\n",
    "    brandsk_2.append(i.text)\n",
    "    \n",
    "brandsk_2[0:40]"
   ]
  },
  {
   "cell_type": "code",
   "execution_count": 284,
   "id": "42b342fc",
   "metadata": {},
   "outputs": [
    {
     "data": {
      "text/plain": [
       "[<selenium.webdriver.remote.webelement.WebElement (session=\"5011d29245dfaa68dee5bbe5f6193285\", element=\"33d78ffe-b26f-4ff3-861c-7ca407c15870\")>,\n",
       " <selenium.webdriver.remote.webelement.WebElement (session=\"5011d29245dfaa68dee5bbe5f6193285\", element=\"e3e8bc00-d7d1-41f7-96ff-754f92c0ec7b\")>,\n",
       " <selenium.webdriver.remote.webelement.WebElement (session=\"5011d29245dfaa68dee5bbe5f6193285\", element=\"c58c3211-af90-4c53-95e6-7e779bd39084\")>,\n",
       " <selenium.webdriver.remote.webelement.WebElement (session=\"5011d29245dfaa68dee5bbe5f6193285\", element=\"c0b4ee5a-daea-4f48-b521-d6ff48f7b480\")>,\n",
       " <selenium.webdriver.remote.webelement.WebElement (session=\"5011d29245dfaa68dee5bbe5f6193285\", element=\"d27a7ee5-21ca-44be-a1e1-019215c36582\")>,\n",
       " <selenium.webdriver.remote.webelement.WebElement (session=\"5011d29245dfaa68dee5bbe5f6193285\", element=\"e79b65af-de94-49d8-aa22-9a380fb85599\")>,\n",
       " <selenium.webdriver.remote.webelement.WebElement (session=\"5011d29245dfaa68dee5bbe5f6193285\", element=\"49b97e5d-82a8-4510-98f1-401fcb5cbdea\")>,\n",
       " <selenium.webdriver.remote.webelement.WebElement (session=\"5011d29245dfaa68dee5bbe5f6193285\", element=\"86873898-f288-456a-95f5-256594f85540\")>,\n",
       " <selenium.webdriver.remote.webelement.WebElement (session=\"5011d29245dfaa68dee5bbe5f6193285\", element=\"b90f24ad-8af2-4dd6-be1e-b4cfb65aa188\")>,\n",
       " <selenium.webdriver.remote.webelement.WebElement (session=\"5011d29245dfaa68dee5bbe5f6193285\", element=\"ef8e9e9a-7bd3-40c5-a301-30e72d1b7dda\")>,\n",
       " <selenium.webdriver.remote.webelement.WebElement (session=\"5011d29245dfaa68dee5bbe5f6193285\", element=\"02d36199-e4fe-46f5-9593-5d20fdc850c1\")>,\n",
       " <selenium.webdriver.remote.webelement.WebElement (session=\"5011d29245dfaa68dee5bbe5f6193285\", element=\"82397dd4-1ee1-428c-a12e-9ab67ef4dd16\")>,\n",
       " <selenium.webdriver.remote.webelement.WebElement (session=\"5011d29245dfaa68dee5bbe5f6193285\", element=\"2a1e67cc-e6b9-4a07-89e2-2ca0775d4372\")>,\n",
       " <selenium.webdriver.remote.webelement.WebElement (session=\"5011d29245dfaa68dee5bbe5f6193285\", element=\"bcc41bb0-797f-4b06-89eb-714bda72b1f8\")>,\n",
       " <selenium.webdriver.remote.webelement.WebElement (session=\"5011d29245dfaa68dee5bbe5f6193285\", element=\"51e67e1c-e5d9-4de0-96b1-cc2ccad73ab3\")>,\n",
       " <selenium.webdriver.remote.webelement.WebElement (session=\"5011d29245dfaa68dee5bbe5f6193285\", element=\"1c89e3ff-ade4-4939-9903-6d62cac817cd\")>,\n",
       " <selenium.webdriver.remote.webelement.WebElement (session=\"5011d29245dfaa68dee5bbe5f6193285\", element=\"53010575-ddbb-420d-b1bd-955f2f0c8c7a\")>,\n",
       " <selenium.webdriver.remote.webelement.WebElement (session=\"5011d29245dfaa68dee5bbe5f6193285\", element=\"a46a6297-e5cc-4a56-97c2-3c92e8c1ec8f\")>,\n",
       " <selenium.webdriver.remote.webelement.WebElement (session=\"5011d29245dfaa68dee5bbe5f6193285\", element=\"4a47440e-184e-4f11-b236-c0d4c7b810be\")>,\n",
       " <selenium.webdriver.remote.webelement.WebElement (session=\"5011d29245dfaa68dee5bbe5f6193285\", element=\"89f56567-18aa-447f-878e-a4f84f88c367\")>,\n",
       " <selenium.webdriver.remote.webelement.WebElement (session=\"5011d29245dfaa68dee5bbe5f6193285\", element=\"de3ffea0-bf67-43c4-8a31-5389189b8234\")>,\n",
       " <selenium.webdriver.remote.webelement.WebElement (session=\"5011d29245dfaa68dee5bbe5f6193285\", element=\"2e67edf8-0a5f-4c27-b85d-71f5c7a0fee8\")>,\n",
       " <selenium.webdriver.remote.webelement.WebElement (session=\"5011d29245dfaa68dee5bbe5f6193285\", element=\"ad87198b-ca48-4dce-813e-94a6b892ceb6\")>,\n",
       " <selenium.webdriver.remote.webelement.WebElement (session=\"5011d29245dfaa68dee5bbe5f6193285\", element=\"318d26b3-da60-4878-a1a1-fea220b5b8b3\")>,\n",
       " <selenium.webdriver.remote.webelement.WebElement (session=\"5011d29245dfaa68dee5bbe5f6193285\", element=\"f0da5fdc-1c84-451e-aef9-6269173114b3\")>,\n",
       " <selenium.webdriver.remote.webelement.WebElement (session=\"5011d29245dfaa68dee5bbe5f6193285\", element=\"1c429b73-10cc-44c8-82c5-116004315eb8\")>,\n",
       " <selenium.webdriver.remote.webelement.WebElement (session=\"5011d29245dfaa68dee5bbe5f6193285\", element=\"17719189-9d82-4a1d-b302-2d60d681be5e\")>,\n",
       " <selenium.webdriver.remote.webelement.WebElement (session=\"5011d29245dfaa68dee5bbe5f6193285\", element=\"293191a2-8624-452b-9439-9d5af5f88944\")>,\n",
       " <selenium.webdriver.remote.webelement.WebElement (session=\"5011d29245dfaa68dee5bbe5f6193285\", element=\"fd51e4f1-2d0e-4d1b-831b-a86ff2d55ed1\")>,\n",
       " <selenium.webdriver.remote.webelement.WebElement (session=\"5011d29245dfaa68dee5bbe5f6193285\", element=\"e252a87c-9193-44a7-9842-594bb782f73a\")>,\n",
       " <selenium.webdriver.remote.webelement.WebElement (session=\"5011d29245dfaa68dee5bbe5f6193285\", element=\"0f3e5ad5-e41d-454f-ade0-0b7ace37e1a3\")>,\n",
       " <selenium.webdriver.remote.webelement.WebElement (session=\"5011d29245dfaa68dee5bbe5f6193285\", element=\"099150ab-dcf8-4232-80e9-a8b211aceff6\")>,\n",
       " <selenium.webdriver.remote.webelement.WebElement (session=\"5011d29245dfaa68dee5bbe5f6193285\", element=\"f9928145-97c7-4be1-a108-7ba121f56b50\")>,\n",
       " <selenium.webdriver.remote.webelement.WebElement (session=\"5011d29245dfaa68dee5bbe5f6193285\", element=\"0dd6c194-0abb-4510-967c-9116cde54d4b\")>,\n",
       " <selenium.webdriver.remote.webelement.WebElement (session=\"5011d29245dfaa68dee5bbe5f6193285\", element=\"155f5806-72a3-4a32-b38a-0ddda8f066af\")>,\n",
       " <selenium.webdriver.remote.webelement.WebElement (session=\"5011d29245dfaa68dee5bbe5f6193285\", element=\"2d6b5ce4-58f4-4d9b-b703-1718e61a8380\")>,\n",
       " <selenium.webdriver.remote.webelement.WebElement (session=\"5011d29245dfaa68dee5bbe5f6193285\", element=\"4171357c-aad1-45b2-b7ed-bc70d57eda87\")>,\n",
       " <selenium.webdriver.remote.webelement.WebElement (session=\"5011d29245dfaa68dee5bbe5f6193285\", element=\"c1d3f2d9-f1b2-4e73-a2bf-774bd037bd63\")>,\n",
       " <selenium.webdriver.remote.webelement.WebElement (session=\"5011d29245dfaa68dee5bbe5f6193285\", element=\"098f794a-85da-4efb-9bf2-ac62ff090329\")>,\n",
       " <selenium.webdriver.remote.webelement.WebElement (session=\"5011d29245dfaa68dee5bbe5f6193285\", element=\"000ca79a-75ce-40b2-8418-d68b9cdcd514\")>]"
      ]
     },
     "execution_count": 284,
     "metadata": {},
     "output_type": "execute_result"
    }
   ],
   "source": [
    "descsk2=driver.find_elements_by_class_name('IRpwTa')\n",
    "descsk2"
   ]
  },
  {
   "cell_type": "code",
   "execution_count": null,
   "id": "d7a04d88",
   "metadata": {},
   "outputs": [],
   "source": []
  },
  {
   "cell_type": "code",
   "execution_count": 285,
   "id": "19695a2f",
   "metadata": {},
   "outputs": [
    {
     "data": {
      "text/plain": [
       "40"
      ]
     },
     "execution_count": 285,
     "metadata": {},
     "output_type": "execute_result"
    }
   ],
   "source": [
    "len(descsk2)"
   ]
  },
  {
   "cell_type": "code",
   "execution_count": null,
   "id": "dff3ece7",
   "metadata": {},
   "outputs": [],
   "source": []
  },
  {
   "cell_type": "code",
   "execution_count": 286,
   "id": "83b1c3ab",
   "metadata": {
    "collapsed": true
   },
   "outputs": [
    {
     "data": {
      "text/plain": [
       "['Sneakers For Men',\n",
       " '516 Trendy Star Perfect Sneakers For Men',\n",
       " 'Men 5014 Latest Collection Stylish Casual Sports Loafer...',\n",
       " \"Men's casual shoe Black sneaker shoe for men Sneakers F...\",\n",
       " \"Men's Sneakers Fashion Lightweight Running Shoes Tennis...\",\n",
       " 'Latest Collection-1227 Stylish Casual Sports Sneakers F...',\n",
       " 'Sneakers For Men',\n",
       " 'Sneakers For Men',\n",
       " 'Luxury Fashionable casual sneaker shoes Sneakers For Me...',\n",
       " 'Sneakers For Men',\n",
       " \"white Casual shoes,Sneakers for men's Sneakers For Men\",\n",
       " 'Sneakers For Men',\n",
       " 'casual sneaker shoes for men kardam&sons Sneakers For M...',\n",
       " 'Shark-41 Sneakers For Men',\n",
       " 'Unique & Perfect Collection Combo Pack of 02 Shoes for ...',\n",
       " 'Sneakers For Men',\n",
       " 'Luxury Fashionable casual shoes Sneakers For Men',\n",
       " \"Casual , Partywear Sneakers Shoes For Men's And Boys Wh...\",\n",
       " 'Running Shoes Stylish Comfortable Shoes For Men Sneaker...',\n",
       " 'all white heartbeat casual shoe Sneakers For Men',\n",
       " 'Combo Pack Of 2 Latest Stylish Casual Shoes for Men Lac...',\n",
       " 'Combo Pack Of 4 Casual Shoes Loafer Shoes Sneakers For ...',\n",
       " 'Sports Running Shoes Sneakers For Men',\n",
       " 'Sneakers For Men',\n",
       " 'Sneakers For Men',\n",
       " 'Perfect & Affordable Combo Pack of 02 Pairs Sneakers Ou...',\n",
       " 'Classy Stylish Ayasa Sneakers Sneakers For Men',\n",
       " 'Sneakers For Men',\n",
       " \"Perfect Sports Shoes for Men's Running ,Cycling & Trekk...\",\n",
       " 'Casual Sneakrs For Men Sneakers For Men',\n",
       " 'Sneakers For Men',\n",
       " 'Sneakers For Men',\n",
       " 'Sneakers For Men',\n",
       " 'Sneakers For Men',\n",
       " 'Sneakers For Men',\n",
       " 'Sneakers For Men',\n",
       " 'Comfortable & Ultra Light Weight Sneaker Sneakers For M...',\n",
       " 'Sneakers For Men',\n",
       " 'Sneakers For Men',\n",
       " 'Sneakers For Men']"
      ]
     },
     "execution_count": 286,
     "metadata": {},
     "output_type": "execute_result"
    }
   ],
   "source": [
    "descsk_2=[]\n",
    "\n",
    "for i in descsk2:\n",
    "    descsk_2.append(i.text)\n",
    "    \n",
    "descsk_2[0:40]"
   ]
  },
  {
   "cell_type": "code",
   "execution_count": 287,
   "id": "71a0df26",
   "metadata": {
    "collapsed": true
   },
   "outputs": [
    {
     "data": {
      "text/plain": [
       "[<selenium.webdriver.remote.webelement.WebElement (session=\"5011d29245dfaa68dee5bbe5f6193285\", element=\"120c03ec-b67c-425d-bc3b-c6943eac304c\")>,\n",
       " <selenium.webdriver.remote.webelement.WebElement (session=\"5011d29245dfaa68dee5bbe5f6193285\", element=\"5f3a22ab-e83d-4c9b-8626-efea23956b90\")>,\n",
       " <selenium.webdriver.remote.webelement.WebElement (session=\"5011d29245dfaa68dee5bbe5f6193285\", element=\"cf5f7919-da0f-49be-8e0f-07ef68d14cab\")>,\n",
       " <selenium.webdriver.remote.webelement.WebElement (session=\"5011d29245dfaa68dee5bbe5f6193285\", element=\"60cb6292-3f22-4ff2-a91c-1659705e9bc8\")>,\n",
       " <selenium.webdriver.remote.webelement.WebElement (session=\"5011d29245dfaa68dee5bbe5f6193285\", element=\"f251ad0c-bc93-445b-8a47-1177d30223a6\")>,\n",
       " <selenium.webdriver.remote.webelement.WebElement (session=\"5011d29245dfaa68dee5bbe5f6193285\", element=\"70332ef1-e207-49c4-b069-a485a8f6e060\")>,\n",
       " <selenium.webdriver.remote.webelement.WebElement (session=\"5011d29245dfaa68dee5bbe5f6193285\", element=\"09d8a812-2543-421c-b6a8-83f9e6466142\")>,\n",
       " <selenium.webdriver.remote.webelement.WebElement (session=\"5011d29245dfaa68dee5bbe5f6193285\", element=\"8da7367b-6f80-460c-b3ea-044166457432\")>,\n",
       " <selenium.webdriver.remote.webelement.WebElement (session=\"5011d29245dfaa68dee5bbe5f6193285\", element=\"10a7315c-7ab1-491f-a6f9-0452a4be235c\")>,\n",
       " <selenium.webdriver.remote.webelement.WebElement (session=\"5011d29245dfaa68dee5bbe5f6193285\", element=\"f428dee9-db2c-4ad6-a7de-d0391280483f\")>,\n",
       " <selenium.webdriver.remote.webelement.WebElement (session=\"5011d29245dfaa68dee5bbe5f6193285\", element=\"684ad0af-01ab-45ac-a96d-3fa9fe1e744c\")>,\n",
       " <selenium.webdriver.remote.webelement.WebElement (session=\"5011d29245dfaa68dee5bbe5f6193285\", element=\"7614e239-1687-4419-8057-356ab97425ac\")>,\n",
       " <selenium.webdriver.remote.webelement.WebElement (session=\"5011d29245dfaa68dee5bbe5f6193285\", element=\"851a090d-584f-42cd-8e20-29aaf3397ca2\")>,\n",
       " <selenium.webdriver.remote.webelement.WebElement (session=\"5011d29245dfaa68dee5bbe5f6193285\", element=\"8d11a905-dc53-4b7a-8aaf-cf3df1694052\")>,\n",
       " <selenium.webdriver.remote.webelement.WebElement (session=\"5011d29245dfaa68dee5bbe5f6193285\", element=\"9c24c56f-224c-44fd-b75a-ee2cdbb72802\")>,\n",
       " <selenium.webdriver.remote.webelement.WebElement (session=\"5011d29245dfaa68dee5bbe5f6193285\", element=\"cb46a0ec-44cc-4b24-9aec-023e6902fb92\")>,\n",
       " <selenium.webdriver.remote.webelement.WebElement (session=\"5011d29245dfaa68dee5bbe5f6193285\", element=\"cda04196-1cd7-47e7-9da0-685c495373c2\")>,\n",
       " <selenium.webdriver.remote.webelement.WebElement (session=\"5011d29245dfaa68dee5bbe5f6193285\", element=\"8ce01dd9-9df5-4ae2-9f5d-8652ddf28b08\")>,\n",
       " <selenium.webdriver.remote.webelement.WebElement (session=\"5011d29245dfaa68dee5bbe5f6193285\", element=\"7f72784c-bcfe-4c20-bcae-1a5932e1db86\")>,\n",
       " <selenium.webdriver.remote.webelement.WebElement (session=\"5011d29245dfaa68dee5bbe5f6193285\", element=\"52aef421-3217-41c9-b16c-ed1608465534\")>,\n",
       " <selenium.webdriver.remote.webelement.WebElement (session=\"5011d29245dfaa68dee5bbe5f6193285\", element=\"3678d3c7-90e8-4c8e-8616-fd12e5d36750\")>,\n",
       " <selenium.webdriver.remote.webelement.WebElement (session=\"5011d29245dfaa68dee5bbe5f6193285\", element=\"21f9a756-18a7-42d7-bf6b-906b6469cae9\")>,\n",
       " <selenium.webdriver.remote.webelement.WebElement (session=\"5011d29245dfaa68dee5bbe5f6193285\", element=\"4a4a4d7f-044b-42c3-a5b8-d21c0383e948\")>,\n",
       " <selenium.webdriver.remote.webelement.WebElement (session=\"5011d29245dfaa68dee5bbe5f6193285\", element=\"165c575d-9850-4a3f-88b2-ff92947926a9\")>,\n",
       " <selenium.webdriver.remote.webelement.WebElement (session=\"5011d29245dfaa68dee5bbe5f6193285\", element=\"e708a1e9-dd37-4378-a15f-4d0623674e2a\")>,\n",
       " <selenium.webdriver.remote.webelement.WebElement (session=\"5011d29245dfaa68dee5bbe5f6193285\", element=\"4c45da0d-cf47-42f9-be69-54cb5b9e58bf\")>,\n",
       " <selenium.webdriver.remote.webelement.WebElement (session=\"5011d29245dfaa68dee5bbe5f6193285\", element=\"9184fecc-e68e-4b49-988c-fd54210e1c1d\")>,\n",
       " <selenium.webdriver.remote.webelement.WebElement (session=\"5011d29245dfaa68dee5bbe5f6193285\", element=\"18d07706-bdb4-4c71-a3af-7ca27f493994\")>,\n",
       " <selenium.webdriver.remote.webelement.WebElement (session=\"5011d29245dfaa68dee5bbe5f6193285\", element=\"da9bfe16-9df6-435e-a14a-a6e556a38a54\")>,\n",
       " <selenium.webdriver.remote.webelement.WebElement (session=\"5011d29245dfaa68dee5bbe5f6193285\", element=\"ddd0d6b8-8f63-4a75-9348-af01095ef9e9\")>,\n",
       " <selenium.webdriver.remote.webelement.WebElement (session=\"5011d29245dfaa68dee5bbe5f6193285\", element=\"7b1c19b9-162a-4b94-adf0-e5ad2b96b9b7\")>,\n",
       " <selenium.webdriver.remote.webelement.WebElement (session=\"5011d29245dfaa68dee5bbe5f6193285\", element=\"1652e439-91cc-40ff-b8b6-9a470577af4f\")>,\n",
       " <selenium.webdriver.remote.webelement.WebElement (session=\"5011d29245dfaa68dee5bbe5f6193285\", element=\"4484e99c-1087-4a9a-8cd6-238b50d9ae72\")>,\n",
       " <selenium.webdriver.remote.webelement.WebElement (session=\"5011d29245dfaa68dee5bbe5f6193285\", element=\"7296a860-6a94-41f1-902f-18148f49f80f\")>,\n",
       " <selenium.webdriver.remote.webelement.WebElement (session=\"5011d29245dfaa68dee5bbe5f6193285\", element=\"c70bed90-aafd-4c22-9a06-fa2de4b8cf4f\")>,\n",
       " <selenium.webdriver.remote.webelement.WebElement (session=\"5011d29245dfaa68dee5bbe5f6193285\", element=\"8bba2f70-5847-47c5-934b-664ab343402d\")>,\n",
       " <selenium.webdriver.remote.webelement.WebElement (session=\"5011d29245dfaa68dee5bbe5f6193285\", element=\"9463330e-c292-4873-93b8-51aced8d15cd\")>,\n",
       " <selenium.webdriver.remote.webelement.WebElement (session=\"5011d29245dfaa68dee5bbe5f6193285\", element=\"8aa111ba-8204-4aef-b5ae-c8e55eb38548\")>,\n",
       " <selenium.webdriver.remote.webelement.WebElement (session=\"5011d29245dfaa68dee5bbe5f6193285\", element=\"fab83fca-e00a-4ad3-9253-a24aab5c4732\")>,\n",
       " <selenium.webdriver.remote.webelement.WebElement (session=\"5011d29245dfaa68dee5bbe5f6193285\", element=\"79698417-6967-4222-be21-aa8bf128a197\")>,\n",
       " <selenium.webdriver.remote.webelement.WebElement (session=\"5011d29245dfaa68dee5bbe5f6193285\", element=\"cf81633c-9b1f-4510-82cc-abef292804be\")>,\n",
       " <selenium.webdriver.remote.webelement.WebElement (session=\"5011d29245dfaa68dee5bbe5f6193285\", element=\"7945080e-afb2-4dfe-9b21-87e4d477cd02\")>,\n",
       " <selenium.webdriver.remote.webelement.WebElement (session=\"5011d29245dfaa68dee5bbe5f6193285\", element=\"a51d300a-03be-46f1-ad02-bcfdd110a0d3\")>,\n",
       " <selenium.webdriver.remote.webelement.WebElement (session=\"5011d29245dfaa68dee5bbe5f6193285\", element=\"14fbffd1-5a29-4ee2-86aa-8b77c043391e\")>,\n",
       " <selenium.webdriver.remote.webelement.WebElement (session=\"5011d29245dfaa68dee5bbe5f6193285\", element=\"641e6182-5444-4a2e-a9b7-024f43384dee\")>]"
      ]
     },
     "execution_count": 287,
     "metadata": {},
     "output_type": "execute_result"
    }
   ],
   "source": [
    "discsk2=driver.find_elements_by_class_name('_3Ay6Sb')\n",
    "discsk2"
   ]
  },
  {
   "cell_type": "code",
   "execution_count": 288,
   "id": "e42c4750",
   "metadata": {},
   "outputs": [
    {
     "data": {
      "text/plain": [
       "45"
      ]
     },
     "execution_count": 288,
     "metadata": {},
     "output_type": "execute_result"
    }
   ],
   "source": [
    "len(discsk2)"
   ]
  },
  {
   "cell_type": "code",
   "execution_count": 289,
   "id": "a6fe4597",
   "metadata": {},
   "outputs": [],
   "source": [
    "discsk_2=[]\n",
    "\n",
    "for i in discsk2:\n",
    "    discsk_2.append(i.text)\n",
    "    \n",
    "discountsk_2=discsk_2[0:40]"
   ]
  },
  {
   "cell_type": "code",
   "execution_count": 290,
   "id": "4f4455ae",
   "metadata": {
    "collapsed": true
   },
   "outputs": [
    {
     "data": {
      "text/plain": [
       "[<selenium.webdriver.remote.webelement.WebElement (session=\"5011d29245dfaa68dee5bbe5f6193285\", element=\"5151208b-df70-432b-8460-26da256cf0c6\")>,\n",
       " <selenium.webdriver.remote.webelement.WebElement (session=\"5011d29245dfaa68dee5bbe5f6193285\", element=\"968b0190-6c04-4021-98f0-a69f80df7727\")>,\n",
       " <selenium.webdriver.remote.webelement.WebElement (session=\"5011d29245dfaa68dee5bbe5f6193285\", element=\"e8c39f4b-1fc4-4bff-9000-da35d6a17dad\")>,\n",
       " <selenium.webdriver.remote.webelement.WebElement (session=\"5011d29245dfaa68dee5bbe5f6193285\", element=\"0035c3d8-8ff7-4384-a365-ccc740d0126d\")>,\n",
       " <selenium.webdriver.remote.webelement.WebElement (session=\"5011d29245dfaa68dee5bbe5f6193285\", element=\"34df9c69-04fe-486a-9ebc-25c91d53364d\")>,\n",
       " <selenium.webdriver.remote.webelement.WebElement (session=\"5011d29245dfaa68dee5bbe5f6193285\", element=\"8e167f7e-a8db-4b02-bf72-456c2e20e3f0\")>,\n",
       " <selenium.webdriver.remote.webelement.WebElement (session=\"5011d29245dfaa68dee5bbe5f6193285\", element=\"2d981771-6711-46b6-9f59-73583a9c6254\")>,\n",
       " <selenium.webdriver.remote.webelement.WebElement (session=\"5011d29245dfaa68dee5bbe5f6193285\", element=\"fed85efa-7ee7-4206-a090-9096dde1f5c1\")>,\n",
       " <selenium.webdriver.remote.webelement.WebElement (session=\"5011d29245dfaa68dee5bbe5f6193285\", element=\"7c899898-2794-40d0-b74f-543a788704f3\")>,\n",
       " <selenium.webdriver.remote.webelement.WebElement (session=\"5011d29245dfaa68dee5bbe5f6193285\", element=\"48648083-6f5f-40e4-a8ad-636f7ccc9354\")>,\n",
       " <selenium.webdriver.remote.webelement.WebElement (session=\"5011d29245dfaa68dee5bbe5f6193285\", element=\"9976052d-976b-476e-9e23-d068bc682308\")>,\n",
       " <selenium.webdriver.remote.webelement.WebElement (session=\"5011d29245dfaa68dee5bbe5f6193285\", element=\"cd415a6a-0e15-451c-9fc6-439bc1e0a9fa\")>,\n",
       " <selenium.webdriver.remote.webelement.WebElement (session=\"5011d29245dfaa68dee5bbe5f6193285\", element=\"44b1356a-4b61-4186-b23e-adce8ca43b73\")>,\n",
       " <selenium.webdriver.remote.webelement.WebElement (session=\"5011d29245dfaa68dee5bbe5f6193285\", element=\"e7d29a28-72f2-4877-b618-7aef79eda7e0\")>,\n",
       " <selenium.webdriver.remote.webelement.WebElement (session=\"5011d29245dfaa68dee5bbe5f6193285\", element=\"08ac6093-13ed-4bfc-99ff-bbb18981da80\")>,\n",
       " <selenium.webdriver.remote.webelement.WebElement (session=\"5011d29245dfaa68dee5bbe5f6193285\", element=\"ec89ebb4-23ba-4cac-a1ae-edb2417712ad\")>,\n",
       " <selenium.webdriver.remote.webelement.WebElement (session=\"5011d29245dfaa68dee5bbe5f6193285\", element=\"b6454276-ed66-4884-9401-2e575193e45a\")>,\n",
       " <selenium.webdriver.remote.webelement.WebElement (session=\"5011d29245dfaa68dee5bbe5f6193285\", element=\"e92adf3d-e8b4-4a81-acc8-2f5a274b1469\")>,\n",
       " <selenium.webdriver.remote.webelement.WebElement (session=\"5011d29245dfaa68dee5bbe5f6193285\", element=\"715783fc-075e-4b41-914d-cc309f844293\")>,\n",
       " <selenium.webdriver.remote.webelement.WebElement (session=\"5011d29245dfaa68dee5bbe5f6193285\", element=\"6c404479-99ae-4bb3-b2b5-06e446b5cbf8\")>,\n",
       " <selenium.webdriver.remote.webelement.WebElement (session=\"5011d29245dfaa68dee5bbe5f6193285\", element=\"29f60188-2f6f-4fc9-beb0-8c8e39397fbb\")>,\n",
       " <selenium.webdriver.remote.webelement.WebElement (session=\"5011d29245dfaa68dee5bbe5f6193285\", element=\"6ab4fc97-dcb0-4d58-8d0b-38d9dfdc4783\")>,\n",
       " <selenium.webdriver.remote.webelement.WebElement (session=\"5011d29245dfaa68dee5bbe5f6193285\", element=\"8920d1a3-8f37-4d2c-8f69-ebbd0f0d29c1\")>,\n",
       " <selenium.webdriver.remote.webelement.WebElement (session=\"5011d29245dfaa68dee5bbe5f6193285\", element=\"0c6c7363-6f21-4fe2-a133-f79db468d9f6\")>,\n",
       " <selenium.webdriver.remote.webelement.WebElement (session=\"5011d29245dfaa68dee5bbe5f6193285\", element=\"d53139dc-389c-4d2f-94fa-c1afcf32f53f\")>,\n",
       " <selenium.webdriver.remote.webelement.WebElement (session=\"5011d29245dfaa68dee5bbe5f6193285\", element=\"a6a9f739-a6a2-40b4-bbc0-ec70b6c73006\")>,\n",
       " <selenium.webdriver.remote.webelement.WebElement (session=\"5011d29245dfaa68dee5bbe5f6193285\", element=\"387d5368-5454-4acc-a9df-3b0f34c75c35\")>,\n",
       " <selenium.webdriver.remote.webelement.WebElement (session=\"5011d29245dfaa68dee5bbe5f6193285\", element=\"2cc5b63b-a5c0-478a-892a-ad280b1ff0e4\")>,\n",
       " <selenium.webdriver.remote.webelement.WebElement (session=\"5011d29245dfaa68dee5bbe5f6193285\", element=\"91d6672d-add2-44a2-8fe8-0d10a4202e5b\")>,\n",
       " <selenium.webdriver.remote.webelement.WebElement (session=\"5011d29245dfaa68dee5bbe5f6193285\", element=\"923bef33-4b8e-4035-907e-7471518cd87d\")>,\n",
       " <selenium.webdriver.remote.webelement.WebElement (session=\"5011d29245dfaa68dee5bbe5f6193285\", element=\"6d37d126-272a-4daa-876e-a5b5e9771e35\")>,\n",
       " <selenium.webdriver.remote.webelement.WebElement (session=\"5011d29245dfaa68dee5bbe5f6193285\", element=\"97fd9b5e-6119-4322-a2aa-9a039d5042d6\")>,\n",
       " <selenium.webdriver.remote.webelement.WebElement (session=\"5011d29245dfaa68dee5bbe5f6193285\", element=\"096229c1-5b7a-451b-ad2a-0f287a5f841d\")>,\n",
       " <selenium.webdriver.remote.webelement.WebElement (session=\"5011d29245dfaa68dee5bbe5f6193285\", element=\"ac9cb60e-bec5-493b-bc68-3b7f98d7a3ea\")>,\n",
       " <selenium.webdriver.remote.webelement.WebElement (session=\"5011d29245dfaa68dee5bbe5f6193285\", element=\"7f806eef-9588-4c59-8070-64f497b04f3d\")>,\n",
       " <selenium.webdriver.remote.webelement.WebElement (session=\"5011d29245dfaa68dee5bbe5f6193285\", element=\"2266eeca-372e-4cd3-b657-b437b69e4b24\")>,\n",
       " <selenium.webdriver.remote.webelement.WebElement (session=\"5011d29245dfaa68dee5bbe5f6193285\", element=\"95fd3756-a197-4652-8fdc-9e5a41c4b3f5\")>,\n",
       " <selenium.webdriver.remote.webelement.WebElement (session=\"5011d29245dfaa68dee5bbe5f6193285\", element=\"94aea4a3-fd23-498c-9011-0187cd7c2b9e\")>,\n",
       " <selenium.webdriver.remote.webelement.WebElement (session=\"5011d29245dfaa68dee5bbe5f6193285\", element=\"16d48373-5aec-47e3-b506-78e787bf35d7\")>,\n",
       " <selenium.webdriver.remote.webelement.WebElement (session=\"5011d29245dfaa68dee5bbe5f6193285\", element=\"3d0edcac-2ec5-454e-8ad3-8b8658ab475f\")>,\n",
       " <selenium.webdriver.remote.webelement.WebElement (session=\"5011d29245dfaa68dee5bbe5f6193285\", element=\"9ad5a15d-35f2-4aa5-b695-a97d9bd6b176\")>,\n",
       " <selenium.webdriver.remote.webelement.WebElement (session=\"5011d29245dfaa68dee5bbe5f6193285\", element=\"0f86b77a-9a16-4dc2-8ac1-68047fad1f59\")>,\n",
       " <selenium.webdriver.remote.webelement.WebElement (session=\"5011d29245dfaa68dee5bbe5f6193285\", element=\"0154a89e-7827-4976-a234-d8ef9d17f48d\")>,\n",
       " <selenium.webdriver.remote.webelement.WebElement (session=\"5011d29245dfaa68dee5bbe5f6193285\", element=\"a038334d-e7de-4097-9d13-a488b519c48a\")>,\n",
       " <selenium.webdriver.remote.webelement.WebElement (session=\"5011d29245dfaa68dee5bbe5f6193285\", element=\"e8b40ca1-46fe-42cd-979a-e3887abf2053\")>]"
      ]
     },
     "execution_count": 290,
     "metadata": {},
     "output_type": "execute_result"
    }
   ],
   "source": [
    "pricesk2=driver.find_elements_by_class_name('_30jeq3')\n",
    "pricesk2"
   ]
  },
  {
   "cell_type": "code",
   "execution_count": 291,
   "id": "3623e1f9",
   "metadata": {},
   "outputs": [
    {
     "data": {
      "text/plain": [
       "45"
      ]
     },
     "execution_count": 291,
     "metadata": {},
     "output_type": "execute_result"
    }
   ],
   "source": [
    "len(pricesk2)"
   ]
  },
  {
   "cell_type": "code",
   "execution_count": 292,
   "id": "ae0e0e9b",
   "metadata": {},
   "outputs": [],
   "source": [
    "prcsk_2=[]\n",
    "\n",
    "for i in pricesk2:\n",
    "    prcsk_2.append(i.text)\n",
    "    \n",
    "pricesk_2=prcsk_2[0:40]"
   ]
  },
  {
   "cell_type": "code",
   "execution_count": 294,
   "id": "25980695",
   "metadata": {
    "collapsed": true
   },
   "outputs": [
    {
     "data": {
      "text/html": [
       "<div>\n",
       "<style scoped>\n",
       "    .dataframe tbody tr th:only-of-type {\n",
       "        vertical-align: middle;\n",
       "    }\n",
       "\n",
       "    .dataframe tbody tr th {\n",
       "        vertical-align: top;\n",
       "    }\n",
       "\n",
       "    .dataframe thead th {\n",
       "        text-align: right;\n",
       "    }\n",
       "</style>\n",
       "<table border=\"1\" class=\"dataframe\">\n",
       "  <thead>\n",
       "    <tr style=\"text-align: right;\">\n",
       "      <th></th>\n",
       "      <th>Brand</th>\n",
       "      <th>Product Description</th>\n",
       "      <th>Discount</th>\n",
       "      <th>Price</th>\n",
       "    </tr>\n",
       "  </thead>\n",
       "  <tbody>\n",
       "    <tr>\n",
       "      <th>0</th>\n",
       "      <td>Stinson</td>\n",
       "      <td>Sneakers For Men</td>\n",
       "      <td>48% off</td>\n",
       "      <td>₹259</td>\n",
       "    </tr>\n",
       "    <tr>\n",
       "      <th>1</th>\n",
       "      <td>Chevit</td>\n",
       "      <td>516 Trendy Star Perfect Sneakers For Men</td>\n",
       "      <td>67% off</td>\n",
       "      <td>₹259</td>\n",
       "    </tr>\n",
       "    <tr>\n",
       "      <th>2</th>\n",
       "      <td>World Wear Footwear</td>\n",
       "      <td>Men 5014 Latest Collection Stylish Casual Spor...</td>\n",
       "      <td>48% off</td>\n",
       "      <td>₹259</td>\n",
       "    </tr>\n",
       "    <tr>\n",
       "      <th>3</th>\n",
       "      <td>Echor</td>\n",
       "      <td>Men's casual shoe Black sneaker shoe for men S...</td>\n",
       "      <td>66% off</td>\n",
       "      <td>₹499</td>\n",
       "    </tr>\n",
       "    <tr>\n",
       "      <th>4</th>\n",
       "      <td>Echor</td>\n",
       "      <td>Men's Sneakers Fashion Lightweight Running Sho...</td>\n",
       "      <td>50% off</td>\n",
       "      <td>₹499</td>\n",
       "    </tr>\n",
       "    <tr>\n",
       "      <th>5</th>\n",
       "      <td>World Wear Footwear</td>\n",
       "      <td>Latest Collection-1227 Stylish Casual Sports S...</td>\n",
       "      <td>48% off</td>\n",
       "      <td>₹259</td>\n",
       "    </tr>\n",
       "    <tr>\n",
       "      <th>6</th>\n",
       "      <td>Kzaara</td>\n",
       "      <td>Sneakers For Men</td>\n",
       "      <td>74% off</td>\n",
       "      <td>₹259</td>\n",
       "    </tr>\n",
       "    <tr>\n",
       "      <th>7</th>\n",
       "      <td>HIGHLANDER</td>\n",
       "      <td>Sneakers For Men</td>\n",
       "      <td>50% off</td>\n",
       "      <td>₹995</td>\n",
       "    </tr>\n",
       "    <tr>\n",
       "      <th>8</th>\n",
       "      <td>India hub</td>\n",
       "      <td>Luxury Fashionable casual sneaker shoes Sneake...</td>\n",
       "      <td>80% off</td>\n",
       "      <td>₹383</td>\n",
       "    </tr>\n",
       "    <tr>\n",
       "      <th>9</th>\n",
       "      <td>Magnolia</td>\n",
       "      <td>Sneakers For Men</td>\n",
       "      <td>55% off</td>\n",
       "      <td>₹448</td>\n",
       "    </tr>\n",
       "    <tr>\n",
       "      <th>10</th>\n",
       "      <td>Xtoon</td>\n",
       "      <td>white Casual shoes,Sneakers for men's Sneakers...</td>\n",
       "      <td>68% off</td>\n",
       "      <td>₹479</td>\n",
       "    </tr>\n",
       "    <tr>\n",
       "      <th>11</th>\n",
       "      <td>RapidBox</td>\n",
       "      <td>Sneakers For Men</td>\n",
       "      <td>35% off</td>\n",
       "      <td>₹640</td>\n",
       "    </tr>\n",
       "    <tr>\n",
       "      <th>12</th>\n",
       "      <td>India hub</td>\n",
       "      <td>casual sneaker shoes for men kardam&amp;sons Sneak...</td>\n",
       "      <td>65% off</td>\n",
       "      <td>₹449</td>\n",
       "    </tr>\n",
       "    <tr>\n",
       "      <th>13</th>\n",
       "      <td>Kraasa</td>\n",
       "      <td>Shark-41 Sneakers For Men</td>\n",
       "      <td>55% off</td>\n",
       "      <td>₹444</td>\n",
       "    </tr>\n",
       "    <tr>\n",
       "      <th>14</th>\n",
       "      <td>Chevit</td>\n",
       "      <td>Unique &amp; Perfect Collection Combo Pack of 02 S...</td>\n",
       "      <td>66% off</td>\n",
       "      <td>₹499</td>\n",
       "    </tr>\n",
       "    <tr>\n",
       "      <th>15</th>\n",
       "      <td>HIGHLANDER</td>\n",
       "      <td>Sneakers For Men</td>\n",
       "      <td>39% off</td>\n",
       "      <td>₹719</td>\n",
       "    </tr>\n",
       "    <tr>\n",
       "      <th>16</th>\n",
       "      <td>luxury fashion</td>\n",
       "      <td>Luxury Fashionable casual shoes Sneakers For Men</td>\n",
       "      <td>68% off</td>\n",
       "      <td>₹407</td>\n",
       "    </tr>\n",
       "    <tr>\n",
       "      <th>17</th>\n",
       "      <td>D-SNEAKERZ</td>\n",
       "      <td>Casual , Partywear Sneakers Shoes For Men's An...</td>\n",
       "      <td>61% off</td>\n",
       "      <td>₹384</td>\n",
       "    </tr>\n",
       "    <tr>\n",
       "      <th>18</th>\n",
       "      <td>RANZAG</td>\n",
       "      <td>Running Shoes Stylish Comfortable Shoes For Me...</td>\n",
       "      <td>60% off</td>\n",
       "      <td>₹399</td>\n",
       "    </tr>\n",
       "    <tr>\n",
       "      <th>19</th>\n",
       "      <td>EMPTILE</td>\n",
       "      <td>all white heartbeat casual shoe Sneakers For Men</td>\n",
       "      <td>60% off</td>\n",
       "      <td>₹397</td>\n",
       "    </tr>\n",
       "    <tr>\n",
       "      <th>20</th>\n",
       "      <td>BRUTON</td>\n",
       "      <td>Combo Pack Of 2 Latest Stylish Casual Shoes fo...</td>\n",
       "      <td>78% off</td>\n",
       "      <td>₹530</td>\n",
       "    </tr>\n",
       "    <tr>\n",
       "      <th>21</th>\n",
       "      <td>BRUTON</td>\n",
       "      <td>Combo Pack Of 4 Casual Shoes Loafer Shoes Snea...</td>\n",
       "      <td>85% off</td>\n",
       "      <td>₹499</td>\n",
       "    </tr>\n",
       "    <tr>\n",
       "      <th>22</th>\n",
       "      <td>BIRDE</td>\n",
       "      <td>Sports Running Shoes Sneakers For Men</td>\n",
       "      <td>40% off</td>\n",
       "      <td>₹299</td>\n",
       "    </tr>\n",
       "    <tr>\n",
       "      <th>23</th>\n",
       "      <td>RapidBox</td>\n",
       "      <td>Sneakers For Men</td>\n",
       "      <td>36% off</td>\n",
       "      <td>₹630</td>\n",
       "    </tr>\n",
       "    <tr>\n",
       "      <th>24</th>\n",
       "      <td>Robbie jones</td>\n",
       "      <td>Sneakers For Men</td>\n",
       "      <td>50% off</td>\n",
       "      <td>₹499</td>\n",
       "    </tr>\n",
       "    <tr>\n",
       "      <th>25</th>\n",
       "      <td>Chevit</td>\n",
       "      <td>Perfect &amp; Affordable Combo Pack of 02 Pairs Sn...</td>\n",
       "      <td>69% off</td>\n",
       "      <td>₹549</td>\n",
       "    </tr>\n",
       "    <tr>\n",
       "      <th>26</th>\n",
       "      <td>Bretton</td>\n",
       "      <td>Classy Stylish Ayasa Sneakers Sneakers For Men</td>\n",
       "      <td>87% off</td>\n",
       "      <td>₹251</td>\n",
       "    </tr>\n",
       "    <tr>\n",
       "      <th>27</th>\n",
       "      <td>HIGHLANDER</td>\n",
       "      <td>Sneakers For Men</td>\n",
       "      <td>39% off</td>\n",
       "      <td>₹719</td>\n",
       "    </tr>\n",
       "    <tr>\n",
       "      <th>28</th>\n",
       "      <td>CLYMB</td>\n",
       "      <td>Perfect Sports Shoes for Men's Running ,Cyclin...</td>\n",
       "      <td>75% off</td>\n",
       "      <td>₹249</td>\n",
       "    </tr>\n",
       "    <tr>\n",
       "      <th>29</th>\n",
       "      <td>Vellinto</td>\n",
       "      <td>Casual Sneakrs For Men Sneakers For Men</td>\n",
       "      <td>51% off</td>\n",
       "      <td>₹636</td>\n",
       "    </tr>\n",
       "    <tr>\n",
       "      <th>30</th>\n",
       "      <td>Elevarse</td>\n",
       "      <td>Sneakers For Men</td>\n",
       "      <td>60% off</td>\n",
       "      <td>₹399</td>\n",
       "    </tr>\n",
       "    <tr>\n",
       "      <th>31</th>\n",
       "      <td>HIGHLANDER</td>\n",
       "      <td>Sneakers For Men</td>\n",
       "      <td>50% off</td>\n",
       "      <td>₹995</td>\n",
       "    </tr>\n",
       "    <tr>\n",
       "      <th>32</th>\n",
       "      <td>Dizzler</td>\n",
       "      <td>Sneakers For Men</td>\n",
       "      <td>31% off</td>\n",
       "      <td>₹495</td>\n",
       "    </tr>\n",
       "    <tr>\n",
       "      <th>33</th>\n",
       "      <td>Brainer</td>\n",
       "      <td>Sneakers For Men</td>\n",
       "      <td>61% off</td>\n",
       "      <td>₹499</td>\n",
       "    </tr>\n",
       "    <tr>\n",
       "      <th>34</th>\n",
       "      <td>Echor</td>\n",
       "      <td>Sneakers For Men</td>\n",
       "      <td>66% off</td>\n",
       "      <td>₹499</td>\n",
       "    </tr>\n",
       "    <tr>\n",
       "      <th>35</th>\n",
       "      <td>HIGHLANDER</td>\n",
       "      <td>Sneakers For Men</td>\n",
       "      <td>60% off</td>\n",
       "      <td>₹796</td>\n",
       "    </tr>\n",
       "    <tr>\n",
       "      <th>36</th>\n",
       "      <td>LE GREEM</td>\n",
       "      <td>Comfortable &amp; Ultra Light Weight Sneaker Sneak...</td>\n",
       "      <td>55% off</td>\n",
       "      <td>₹449</td>\n",
       "    </tr>\n",
       "    <tr>\n",
       "      <th>37</th>\n",
       "      <td>Rzisbo</td>\n",
       "      <td>Sneakers For Men</td>\n",
       "      <td>46% off</td>\n",
       "      <td>₹539</td>\n",
       "    </tr>\n",
       "    <tr>\n",
       "      <th>38</th>\n",
       "      <td>Ktiz</td>\n",
       "      <td>Sneakers For Men</td>\n",
       "      <td>55% off</td>\n",
       "      <td>₹448</td>\n",
       "    </tr>\n",
       "    <tr>\n",
       "      <th>39</th>\n",
       "      <td>HIGHLANDER</td>\n",
       "      <td>Sneakers For Men</td>\n",
       "      <td>39% off</td>\n",
       "      <td>₹719</td>\n",
       "    </tr>\n",
       "  </tbody>\n",
       "</table>\n",
       "</div>"
      ],
      "text/plain": [
       "                  Brand                                Product Description  \\\n",
       "0               Stinson                                   Sneakers For Men   \n",
       "1                Chevit           516 Trendy Star Perfect Sneakers For Men   \n",
       "2   World Wear Footwear  Men 5014 Latest Collection Stylish Casual Spor...   \n",
       "3                 Echor  Men's casual shoe Black sneaker shoe for men S...   \n",
       "4                 Echor  Men's Sneakers Fashion Lightweight Running Sho...   \n",
       "5   World Wear Footwear  Latest Collection-1227 Stylish Casual Sports S...   \n",
       "6                Kzaara                                   Sneakers For Men   \n",
       "7            HIGHLANDER                                   Sneakers For Men   \n",
       "8             India hub  Luxury Fashionable casual sneaker shoes Sneake...   \n",
       "9              Magnolia                                   Sneakers For Men   \n",
       "10                Xtoon  white Casual shoes,Sneakers for men's Sneakers...   \n",
       "11             RapidBox                                   Sneakers For Men   \n",
       "12            India hub  casual sneaker shoes for men kardam&sons Sneak...   \n",
       "13               Kraasa                          Shark-41 Sneakers For Men   \n",
       "14               Chevit  Unique & Perfect Collection Combo Pack of 02 S...   \n",
       "15           HIGHLANDER                                   Sneakers For Men   \n",
       "16       luxury fashion   Luxury Fashionable casual shoes Sneakers For Men   \n",
       "17           D-SNEAKERZ  Casual , Partywear Sneakers Shoes For Men's An...   \n",
       "18               RANZAG  Running Shoes Stylish Comfortable Shoes For Me...   \n",
       "19              EMPTILE   all white heartbeat casual shoe Sneakers For Men   \n",
       "20               BRUTON  Combo Pack Of 2 Latest Stylish Casual Shoes fo...   \n",
       "21               BRUTON  Combo Pack Of 4 Casual Shoes Loafer Shoes Snea...   \n",
       "22                BIRDE              Sports Running Shoes Sneakers For Men   \n",
       "23             RapidBox                                   Sneakers For Men   \n",
       "24         Robbie jones                                   Sneakers For Men   \n",
       "25               Chevit  Perfect & Affordable Combo Pack of 02 Pairs Sn...   \n",
       "26              Bretton     Classy Stylish Ayasa Sneakers Sneakers For Men   \n",
       "27           HIGHLANDER                                   Sneakers For Men   \n",
       "28                CLYMB  Perfect Sports Shoes for Men's Running ,Cyclin...   \n",
       "29             Vellinto            Casual Sneakrs For Men Sneakers For Men   \n",
       "30             Elevarse                                   Sneakers For Men   \n",
       "31           HIGHLANDER                                   Sneakers For Men   \n",
       "32              Dizzler                                   Sneakers For Men   \n",
       "33              Brainer                                   Sneakers For Men   \n",
       "34                Echor                                   Sneakers For Men   \n",
       "35           HIGHLANDER                                   Sneakers For Men   \n",
       "36             LE GREEM  Comfortable & Ultra Light Weight Sneaker Sneak...   \n",
       "37               Rzisbo                                   Sneakers For Men   \n",
       "38                 Ktiz                                   Sneakers For Men   \n",
       "39           HIGHLANDER                                   Sneakers For Men   \n",
       "\n",
       "   Discount Price  \n",
       "0   48% off  ₹259  \n",
       "1   67% off  ₹259  \n",
       "2   48% off  ₹259  \n",
       "3   66% off  ₹499  \n",
       "4   50% off  ₹499  \n",
       "5   48% off  ₹259  \n",
       "6   74% off  ₹259  \n",
       "7   50% off  ₹995  \n",
       "8   80% off  ₹383  \n",
       "9   55% off  ₹448  \n",
       "10  68% off  ₹479  \n",
       "11  35% off  ₹640  \n",
       "12  65% off  ₹449  \n",
       "13  55% off  ₹444  \n",
       "14  66% off  ₹499  \n",
       "15  39% off  ₹719  \n",
       "16  68% off  ₹407  \n",
       "17  61% off  ₹384  \n",
       "18  60% off  ₹399  \n",
       "19  60% off  ₹397  \n",
       "20  78% off  ₹530  \n",
       "21  85% off  ₹499  \n",
       "22  40% off  ₹299  \n",
       "23  36% off  ₹630  \n",
       "24  50% off  ₹499  \n",
       "25  69% off  ₹549  \n",
       "26  87% off  ₹251  \n",
       "27  39% off  ₹719  \n",
       "28  75% off  ₹249  \n",
       "29  51% off  ₹636  \n",
       "30  60% off  ₹399  \n",
       "31  50% off  ₹995  \n",
       "32  31% off  ₹495  \n",
       "33  61% off  ₹499  \n",
       "34  66% off  ₹499  \n",
       "35  60% off  ₹796  \n",
       "36  55% off  ₹449  \n",
       "37  46% off  ₹539  \n",
       "38  55% off  ₹448  \n",
       "39  39% off  ₹719  "
      ]
     },
     "execution_count": 294,
     "metadata": {},
     "output_type": "execute_result"
    }
   ],
   "source": [
    "sneakers2data=pd.DataFrame()\n",
    "sneakers2data['Brand']=brandsk_2\n",
    "sneakers2data['Product Description']=descsk_2\n",
    "sneakers2data['Discount']=discountsk_2\n",
    "sneakers2data['Price']=pricesk_2\n",
    "\n",
    "sneakers2data"
   ]
  },
  {
   "cell_type": "code",
   "execution_count": 297,
   "id": "9484b4ee",
   "metadata": {},
   "outputs": [],
   "source": [
    "driver.execute_script(\"window.scrollBy(0,1000)\",\"\")"
   ]
  },
  {
   "cell_type": "code",
   "execution_count": 298,
   "id": "6f7ef889",
   "metadata": {},
   "outputs": [
    {
     "data": {
      "text/plain": [
       "<selenium.webdriver.remote.webelement.WebElement (session=\"5011d29245dfaa68dee5bbe5f6193285\", element=\"5f021882-b833-4726-96af-8f2d19edf28c\")>"
      ]
     },
     "execution_count": 298,
     "metadata": {},
     "output_type": "execute_result"
    }
   ],
   "source": [
    "sk_page3=driver.find_element_by_xpath('/html/body/div[1]/div/div[3]/div[1]/div[2]/div[12]/div/div/nav/a[4]')\n",
    "sk_page3"
   ]
  },
  {
   "cell_type": "code",
   "execution_count": 299,
   "id": "f1eee146",
   "metadata": {},
   "outputs": [],
   "source": [
    "sk_page3.click()"
   ]
  },
  {
   "cell_type": "code",
   "execution_count": 300,
   "id": "86229f77",
   "metadata": {
    "collapsed": true
   },
   "outputs": [
    {
     "data": {
      "text/plain": [
       "[<selenium.webdriver.remote.webelement.WebElement (session=\"5011d29245dfaa68dee5bbe5f6193285\", element=\"50c9a272-46c7-4792-a9ef-c68346bf3813\")>,\n",
       " <selenium.webdriver.remote.webelement.WebElement (session=\"5011d29245dfaa68dee5bbe5f6193285\", element=\"25bb3fea-c0e8-4613-b19d-8e07f1399617\")>,\n",
       " <selenium.webdriver.remote.webelement.WebElement (session=\"5011d29245dfaa68dee5bbe5f6193285\", element=\"1e3d7dbd-af56-4444-b3c6-6a892ed8eeaf\")>,\n",
       " <selenium.webdriver.remote.webelement.WebElement (session=\"5011d29245dfaa68dee5bbe5f6193285\", element=\"12f2424b-ec6b-43a0-88c4-2216f5329738\")>,\n",
       " <selenium.webdriver.remote.webelement.WebElement (session=\"5011d29245dfaa68dee5bbe5f6193285\", element=\"4934b01f-52c3-43fb-838c-1a000b22a686\")>,\n",
       " <selenium.webdriver.remote.webelement.WebElement (session=\"5011d29245dfaa68dee5bbe5f6193285\", element=\"49cc6baa-2b69-4d03-a881-e1f1a109d119\")>,\n",
       " <selenium.webdriver.remote.webelement.WebElement (session=\"5011d29245dfaa68dee5bbe5f6193285\", element=\"ab8a4b26-f42f-4106-9b3a-c91b0e9e21ae\")>,\n",
       " <selenium.webdriver.remote.webelement.WebElement (session=\"5011d29245dfaa68dee5bbe5f6193285\", element=\"fdeab69c-a852-4bd6-89cc-884a74cbb771\")>,\n",
       " <selenium.webdriver.remote.webelement.WebElement (session=\"5011d29245dfaa68dee5bbe5f6193285\", element=\"fd633a8b-67aa-44b2-8cfe-f3a174ca8ba1\")>,\n",
       " <selenium.webdriver.remote.webelement.WebElement (session=\"5011d29245dfaa68dee5bbe5f6193285\", element=\"0de4ed4b-ba4d-4c63-be2a-f4f75d3a8c64\")>,\n",
       " <selenium.webdriver.remote.webelement.WebElement (session=\"5011d29245dfaa68dee5bbe5f6193285\", element=\"1691e0e5-e5d8-4f6d-b59e-19eb8c9eda0e\")>,\n",
       " <selenium.webdriver.remote.webelement.WebElement (session=\"5011d29245dfaa68dee5bbe5f6193285\", element=\"10fa8789-e9a1-44f1-82a7-f88d847d539a\")>,\n",
       " <selenium.webdriver.remote.webelement.WebElement (session=\"5011d29245dfaa68dee5bbe5f6193285\", element=\"f3aa486a-211c-4c80-940f-12625db26b37\")>,\n",
       " <selenium.webdriver.remote.webelement.WebElement (session=\"5011d29245dfaa68dee5bbe5f6193285\", element=\"ed93bbce-5d85-430e-a949-a77cf4ce1acf\")>,\n",
       " <selenium.webdriver.remote.webelement.WebElement (session=\"5011d29245dfaa68dee5bbe5f6193285\", element=\"31e76726-d3f0-4300-b02b-6fbe60ddc7b6\")>,\n",
       " <selenium.webdriver.remote.webelement.WebElement (session=\"5011d29245dfaa68dee5bbe5f6193285\", element=\"ecf62cf5-eefe-4301-9237-7ad164effa19\")>,\n",
       " <selenium.webdriver.remote.webelement.WebElement (session=\"5011d29245dfaa68dee5bbe5f6193285\", element=\"44f8b960-3e35-43ad-97bc-dd03b71aa0b6\")>,\n",
       " <selenium.webdriver.remote.webelement.WebElement (session=\"5011d29245dfaa68dee5bbe5f6193285\", element=\"4724f9eb-6dea-416c-b9d2-97e8af7d81c3\")>,\n",
       " <selenium.webdriver.remote.webelement.WebElement (session=\"5011d29245dfaa68dee5bbe5f6193285\", element=\"f285d51f-fdd5-45cc-8834-159b0fcd80c9\")>,\n",
       " <selenium.webdriver.remote.webelement.WebElement (session=\"5011d29245dfaa68dee5bbe5f6193285\", element=\"57f14193-59f0-4ee0-8fb4-b247fe962dbb\")>,\n",
       " <selenium.webdriver.remote.webelement.WebElement (session=\"5011d29245dfaa68dee5bbe5f6193285\", element=\"55979cc8-4031-411f-9067-7e2ce3abb89e\")>,\n",
       " <selenium.webdriver.remote.webelement.WebElement (session=\"5011d29245dfaa68dee5bbe5f6193285\", element=\"c62e305c-30ce-40f1-bf1a-9f8c60096d46\")>,\n",
       " <selenium.webdriver.remote.webelement.WebElement (session=\"5011d29245dfaa68dee5bbe5f6193285\", element=\"cd060681-71c9-4973-8f5a-dc8bd24475c2\")>,\n",
       " <selenium.webdriver.remote.webelement.WebElement (session=\"5011d29245dfaa68dee5bbe5f6193285\", element=\"5fca5f28-15a3-467a-801e-9ce2039ebdc4\")>,\n",
       " <selenium.webdriver.remote.webelement.WebElement (session=\"5011d29245dfaa68dee5bbe5f6193285\", element=\"5cec53d8-9b45-414a-bb78-ee6106a8ba40\")>,\n",
       " <selenium.webdriver.remote.webelement.WebElement (session=\"5011d29245dfaa68dee5bbe5f6193285\", element=\"cda2bb02-77f7-4c2a-aec6-718f641a07a9\")>,\n",
       " <selenium.webdriver.remote.webelement.WebElement (session=\"5011d29245dfaa68dee5bbe5f6193285\", element=\"c94e8ae4-ce7c-4a06-a615-2ae2ff270029\")>,\n",
       " <selenium.webdriver.remote.webelement.WebElement (session=\"5011d29245dfaa68dee5bbe5f6193285\", element=\"bb8cbaa2-8a41-4f97-a24d-fa4eb701036b\")>,\n",
       " <selenium.webdriver.remote.webelement.WebElement (session=\"5011d29245dfaa68dee5bbe5f6193285\", element=\"afa128c0-ffbb-4d12-9b61-f544a78b3b89\")>,\n",
       " <selenium.webdriver.remote.webelement.WebElement (session=\"5011d29245dfaa68dee5bbe5f6193285\", element=\"0a9281df-ebf2-4252-abdf-161f70cd9eb2\")>,\n",
       " <selenium.webdriver.remote.webelement.WebElement (session=\"5011d29245dfaa68dee5bbe5f6193285\", element=\"cbb19ad1-8abe-4e3e-8ec6-6158500bf8d5\")>,\n",
       " <selenium.webdriver.remote.webelement.WebElement (session=\"5011d29245dfaa68dee5bbe5f6193285\", element=\"9335b9bb-8074-4899-b671-20187214d938\")>,\n",
       " <selenium.webdriver.remote.webelement.WebElement (session=\"5011d29245dfaa68dee5bbe5f6193285\", element=\"36cdf956-bdad-4bfc-b23c-a49e83ddb7be\")>,\n",
       " <selenium.webdriver.remote.webelement.WebElement (session=\"5011d29245dfaa68dee5bbe5f6193285\", element=\"d8fc065c-ced6-43a5-96da-77d77967f58d\")>,\n",
       " <selenium.webdriver.remote.webelement.WebElement (session=\"5011d29245dfaa68dee5bbe5f6193285\", element=\"7d744d8c-17b6-4f07-afb2-4405762dfaab\")>,\n",
       " <selenium.webdriver.remote.webelement.WebElement (session=\"5011d29245dfaa68dee5bbe5f6193285\", element=\"d394fe29-518b-4479-b041-70d4948d14df\")>,\n",
       " <selenium.webdriver.remote.webelement.WebElement (session=\"5011d29245dfaa68dee5bbe5f6193285\", element=\"680238b8-2a01-4903-9bb3-bab7f7235eec\")>,\n",
       " <selenium.webdriver.remote.webelement.WebElement (session=\"5011d29245dfaa68dee5bbe5f6193285\", element=\"a08c2931-cd71-46f4-944b-d68dc7c68648\")>,\n",
       " <selenium.webdriver.remote.webelement.WebElement (session=\"5011d29245dfaa68dee5bbe5f6193285\", element=\"89b6f050-f612-4d92-ba10-dfe09baeacd0\")>,\n",
       " <selenium.webdriver.remote.webelement.WebElement (session=\"5011d29245dfaa68dee5bbe5f6193285\", element=\"e96e2ea4-3926-484b-919f-395864be77d4\")>]"
      ]
     },
     "execution_count": 300,
     "metadata": {},
     "output_type": "execute_result"
    }
   ],
   "source": [
    "brandsk3=driver.find_elements_by_class_name('_2WkVRV')\n",
    "brandsk3"
   ]
  },
  {
   "cell_type": "code",
   "execution_count": 301,
   "id": "1ad4d4b3",
   "metadata": {},
   "outputs": [
    {
     "data": {
      "text/plain": [
       "40"
      ]
     },
     "execution_count": 301,
     "metadata": {},
     "output_type": "execute_result"
    }
   ],
   "source": [
    "len(brandsk3)"
   ]
  },
  {
   "cell_type": "code",
   "execution_count": 302,
   "id": "a40e7032",
   "metadata": {},
   "outputs": [],
   "source": [
    "brand_sk3=[]\n",
    "\n",
    "for i in brandsk3:\n",
    "    brand_sk3.append(i.text)\n",
    "    \n",
    "brandsk_3=brand_sk3[0:20]"
   ]
  },
  {
   "cell_type": "code",
   "execution_count": 303,
   "id": "8c8cc38f",
   "metadata": {
    "collapsed": true
   },
   "outputs": [
    {
     "data": {
      "text/plain": [
       "[<selenium.webdriver.remote.webelement.WebElement (session=\"5011d29245dfaa68dee5bbe5f6193285\", element=\"5a58d081-0a7d-420c-adac-0e69e1eb8c18\")>,\n",
       " <selenium.webdriver.remote.webelement.WebElement (session=\"5011d29245dfaa68dee5bbe5f6193285\", element=\"c6e362d6-bfc9-405f-878f-33905ab79e10\")>,\n",
       " <selenium.webdriver.remote.webelement.WebElement (session=\"5011d29245dfaa68dee5bbe5f6193285\", element=\"57b6f16b-0138-493f-b331-753512855089\")>,\n",
       " <selenium.webdriver.remote.webelement.WebElement (session=\"5011d29245dfaa68dee5bbe5f6193285\", element=\"4d948066-8d43-4631-9f59-398458085b8d\")>,\n",
       " <selenium.webdriver.remote.webelement.WebElement (session=\"5011d29245dfaa68dee5bbe5f6193285\", element=\"2c8d091f-475b-41a0-9362-cc2044b76009\")>,\n",
       " <selenium.webdriver.remote.webelement.WebElement (session=\"5011d29245dfaa68dee5bbe5f6193285\", element=\"7db73fde-f03d-4ee6-915c-0ae8d2e3a59e\")>,\n",
       " <selenium.webdriver.remote.webelement.WebElement (session=\"5011d29245dfaa68dee5bbe5f6193285\", element=\"4238b11f-f3da-49e0-b695-9e1dfc229596\")>,\n",
       " <selenium.webdriver.remote.webelement.WebElement (session=\"5011d29245dfaa68dee5bbe5f6193285\", element=\"e61089a1-e32d-410b-aa99-d8cb79dd6b26\")>,\n",
       " <selenium.webdriver.remote.webelement.WebElement (session=\"5011d29245dfaa68dee5bbe5f6193285\", element=\"6edecffc-9a86-43c7-85a2-f3bfbf4e769d\")>,\n",
       " <selenium.webdriver.remote.webelement.WebElement (session=\"5011d29245dfaa68dee5bbe5f6193285\", element=\"435515dd-37ee-4f29-89ae-212008f515c9\")>,\n",
       " <selenium.webdriver.remote.webelement.WebElement (session=\"5011d29245dfaa68dee5bbe5f6193285\", element=\"0da9f4ff-7f75-4b8f-9746-40eaa52181ec\")>,\n",
       " <selenium.webdriver.remote.webelement.WebElement (session=\"5011d29245dfaa68dee5bbe5f6193285\", element=\"79bc8793-04aa-4aa2-a3cf-bda929e96e0b\")>,\n",
       " <selenium.webdriver.remote.webelement.WebElement (session=\"5011d29245dfaa68dee5bbe5f6193285\", element=\"4b72abf4-0ba6-4302-90ae-7f0e8563ae3e\")>,\n",
       " <selenium.webdriver.remote.webelement.WebElement (session=\"5011d29245dfaa68dee5bbe5f6193285\", element=\"c1025f21-6212-437b-b985-97f41f6bd277\")>,\n",
       " <selenium.webdriver.remote.webelement.WebElement (session=\"5011d29245dfaa68dee5bbe5f6193285\", element=\"749d91c5-0c2d-49f4-9559-3acc01d3fdee\")>,\n",
       " <selenium.webdriver.remote.webelement.WebElement (session=\"5011d29245dfaa68dee5bbe5f6193285\", element=\"1c3c8362-03b2-4336-b63a-671676b34348\")>,\n",
       " <selenium.webdriver.remote.webelement.WebElement (session=\"5011d29245dfaa68dee5bbe5f6193285\", element=\"de2f3251-4d33-41d7-a042-1b9b06b797ad\")>,\n",
       " <selenium.webdriver.remote.webelement.WebElement (session=\"5011d29245dfaa68dee5bbe5f6193285\", element=\"98adf2f8-079b-438f-83d9-14e8d0d201d8\")>,\n",
       " <selenium.webdriver.remote.webelement.WebElement (session=\"5011d29245dfaa68dee5bbe5f6193285\", element=\"725f0c07-69c3-4404-81af-0c9e62621a7b\")>,\n",
       " <selenium.webdriver.remote.webelement.WebElement (session=\"5011d29245dfaa68dee5bbe5f6193285\", element=\"f0209e46-148e-4d2e-91c2-3d1c2def7eac\")>,\n",
       " <selenium.webdriver.remote.webelement.WebElement (session=\"5011d29245dfaa68dee5bbe5f6193285\", element=\"11f5f97c-544f-42a2-a052-af3d9f8b072b\")>,\n",
       " <selenium.webdriver.remote.webelement.WebElement (session=\"5011d29245dfaa68dee5bbe5f6193285\", element=\"fb87ddbe-75ff-45de-9b5d-97e03d4a8f27\")>,\n",
       " <selenium.webdriver.remote.webelement.WebElement (session=\"5011d29245dfaa68dee5bbe5f6193285\", element=\"7afb4f23-bf9e-4ce4-8170-7dc79f6969e5\")>,\n",
       " <selenium.webdriver.remote.webelement.WebElement (session=\"5011d29245dfaa68dee5bbe5f6193285\", element=\"17ad838f-71de-4405-bc82-66f39f103ea3\")>,\n",
       " <selenium.webdriver.remote.webelement.WebElement (session=\"5011d29245dfaa68dee5bbe5f6193285\", element=\"32943476-be99-4e24-b083-fc1ae422d129\")>,\n",
       " <selenium.webdriver.remote.webelement.WebElement (session=\"5011d29245dfaa68dee5bbe5f6193285\", element=\"6e986c27-de10-4e41-9112-ce70a746ea9e\")>,\n",
       " <selenium.webdriver.remote.webelement.WebElement (session=\"5011d29245dfaa68dee5bbe5f6193285\", element=\"631c7295-03bf-4eda-b0c0-49e0c50023d1\")>,\n",
       " <selenium.webdriver.remote.webelement.WebElement (session=\"5011d29245dfaa68dee5bbe5f6193285\", element=\"ab1459fc-ca5a-40da-9ef5-b02bee7c9f63\")>,\n",
       " <selenium.webdriver.remote.webelement.WebElement (session=\"5011d29245dfaa68dee5bbe5f6193285\", element=\"4d60763f-0537-4957-bb5f-85b2020d60fd\")>,\n",
       " <selenium.webdriver.remote.webelement.WebElement (session=\"5011d29245dfaa68dee5bbe5f6193285\", element=\"566de38b-3dbc-4f08-b195-66352fe2e0c0\")>,\n",
       " <selenium.webdriver.remote.webelement.WebElement (session=\"5011d29245dfaa68dee5bbe5f6193285\", element=\"83259129-316d-4749-83a0-745dee311686\")>,\n",
       " <selenium.webdriver.remote.webelement.WebElement (session=\"5011d29245dfaa68dee5bbe5f6193285\", element=\"fa5d8219-1c79-462b-b337-7a9e8cede07c\")>,\n",
       " <selenium.webdriver.remote.webelement.WebElement (session=\"5011d29245dfaa68dee5bbe5f6193285\", element=\"a38a248e-52c5-407d-b3b5-71d128521416\")>,\n",
       " <selenium.webdriver.remote.webelement.WebElement (session=\"5011d29245dfaa68dee5bbe5f6193285\", element=\"928960be-6a5c-481a-92ce-556b44349fd2\")>,\n",
       " <selenium.webdriver.remote.webelement.WebElement (session=\"5011d29245dfaa68dee5bbe5f6193285\", element=\"8d2d92bc-c932-4a77-a7ce-5c81b16cfcaf\")>,\n",
       " <selenium.webdriver.remote.webelement.WebElement (session=\"5011d29245dfaa68dee5bbe5f6193285\", element=\"5032e528-d51f-44a4-b864-6dcbcd0c01a3\")>,\n",
       " <selenium.webdriver.remote.webelement.WebElement (session=\"5011d29245dfaa68dee5bbe5f6193285\", element=\"ab192f28-c9fa-4891-bf42-43a12aa89821\")>,\n",
       " <selenium.webdriver.remote.webelement.WebElement (session=\"5011d29245dfaa68dee5bbe5f6193285\", element=\"e0e2c049-96d0-4cfb-a075-89f92d5ff3f3\")>,\n",
       " <selenium.webdriver.remote.webelement.WebElement (session=\"5011d29245dfaa68dee5bbe5f6193285\", element=\"1e3c43b6-918d-4894-bdc9-b579109c5a08\")>,\n",
       " <selenium.webdriver.remote.webelement.WebElement (session=\"5011d29245dfaa68dee5bbe5f6193285\", element=\"dcd4c5f7-6b21-4006-b399-357e845036b2\")>]"
      ]
     },
     "execution_count": 303,
     "metadata": {},
     "output_type": "execute_result"
    }
   ],
   "source": [
    "descsk3=driver.find_elements_by_class_name('IRpwTa')\n",
    "descsk3"
   ]
  },
  {
   "cell_type": "code",
   "execution_count": 304,
   "id": "0b16d898",
   "metadata": {},
   "outputs": [
    {
     "data": {
      "text/plain": [
       "40"
      ]
     },
     "execution_count": 304,
     "metadata": {},
     "output_type": "execute_result"
    }
   ],
   "source": [
    "len(descsk3)"
   ]
  },
  {
   "cell_type": "code",
   "execution_count": 305,
   "id": "84a81907",
   "metadata": {},
   "outputs": [],
   "source": [
    "desc_sk3=[]\n",
    "\n",
    "for i in descsk3:\n",
    "    desc_sk3.append(i.text)\n",
    "    \n",
    "descsk_3=desc_sk3[0:20]"
   ]
  },
  {
   "cell_type": "code",
   "execution_count": 306,
   "id": "06f38520",
   "metadata": {
    "collapsed": true
   },
   "outputs": [
    {
     "data": {
      "text/plain": [
       "[<selenium.webdriver.remote.webelement.WebElement (session=\"5011d29245dfaa68dee5bbe5f6193285\", element=\"72f0a417-7249-4443-8e2e-c3aab85ceeac\")>,\n",
       " <selenium.webdriver.remote.webelement.WebElement (session=\"5011d29245dfaa68dee5bbe5f6193285\", element=\"1d60b0eb-0a85-41e8-b34f-312d23318bed\")>,\n",
       " <selenium.webdriver.remote.webelement.WebElement (session=\"5011d29245dfaa68dee5bbe5f6193285\", element=\"f6741779-7bec-4bc0-81ca-b319634e137a\")>,\n",
       " <selenium.webdriver.remote.webelement.WebElement (session=\"5011d29245dfaa68dee5bbe5f6193285\", element=\"638ec2da-8908-48e4-a50d-67b8bec05c30\")>,\n",
       " <selenium.webdriver.remote.webelement.WebElement (session=\"5011d29245dfaa68dee5bbe5f6193285\", element=\"8395ae60-0100-402b-96f9-5104ccfcff5c\")>,\n",
       " <selenium.webdriver.remote.webelement.WebElement (session=\"5011d29245dfaa68dee5bbe5f6193285\", element=\"90700d5b-9ec9-4b07-a73b-4ef786a933b8\")>,\n",
       " <selenium.webdriver.remote.webelement.WebElement (session=\"5011d29245dfaa68dee5bbe5f6193285\", element=\"dab94e5c-d0df-45a0-bfe5-02d9947c9ccf\")>,\n",
       " <selenium.webdriver.remote.webelement.WebElement (session=\"5011d29245dfaa68dee5bbe5f6193285\", element=\"c70232bf-5b4a-4329-9e2d-008cac174220\")>,\n",
       " <selenium.webdriver.remote.webelement.WebElement (session=\"5011d29245dfaa68dee5bbe5f6193285\", element=\"154e895f-fe28-4bd5-b4fe-d524e065f688\")>,\n",
       " <selenium.webdriver.remote.webelement.WebElement (session=\"5011d29245dfaa68dee5bbe5f6193285\", element=\"ebeb5e1e-8942-4a51-ad37-9966c8cf2bd0\")>,\n",
       " <selenium.webdriver.remote.webelement.WebElement (session=\"5011d29245dfaa68dee5bbe5f6193285\", element=\"06300e3a-c300-4719-be99-6dcb9282b5dc\")>,\n",
       " <selenium.webdriver.remote.webelement.WebElement (session=\"5011d29245dfaa68dee5bbe5f6193285\", element=\"c8966972-9327-4587-a7b6-ca728a8857a3\")>,\n",
       " <selenium.webdriver.remote.webelement.WebElement (session=\"5011d29245dfaa68dee5bbe5f6193285\", element=\"54967703-6aba-44b1-b31d-08b3cca5cac9\")>,\n",
       " <selenium.webdriver.remote.webelement.WebElement (session=\"5011d29245dfaa68dee5bbe5f6193285\", element=\"71599021-7ebc-4055-b6f8-66f292c37b79\")>,\n",
       " <selenium.webdriver.remote.webelement.WebElement (session=\"5011d29245dfaa68dee5bbe5f6193285\", element=\"ba8ad1d2-dd5e-4b80-a42a-dee436830f89\")>,\n",
       " <selenium.webdriver.remote.webelement.WebElement (session=\"5011d29245dfaa68dee5bbe5f6193285\", element=\"753dbe3e-b803-4fff-bbf9-281ca9e38a18\")>,\n",
       " <selenium.webdriver.remote.webelement.WebElement (session=\"5011d29245dfaa68dee5bbe5f6193285\", element=\"b544048a-471c-4f36-93ca-89e94770b45f\")>,\n",
       " <selenium.webdriver.remote.webelement.WebElement (session=\"5011d29245dfaa68dee5bbe5f6193285\", element=\"58f8c991-9a05-4ae2-9e62-1acbb00b9f18\")>,\n",
       " <selenium.webdriver.remote.webelement.WebElement (session=\"5011d29245dfaa68dee5bbe5f6193285\", element=\"8a3291e8-89f8-4769-9e0c-6c0b5edffcc4\")>,\n",
       " <selenium.webdriver.remote.webelement.WebElement (session=\"5011d29245dfaa68dee5bbe5f6193285\", element=\"95f7a67d-97d4-448f-b544-842d16881282\")>,\n",
       " <selenium.webdriver.remote.webelement.WebElement (session=\"5011d29245dfaa68dee5bbe5f6193285\", element=\"fa615a0e-588d-46e9-bd87-305b23d48c24\")>,\n",
       " <selenium.webdriver.remote.webelement.WebElement (session=\"5011d29245dfaa68dee5bbe5f6193285\", element=\"96adc4a0-f6c5-4136-8221-7809eddf9b63\")>,\n",
       " <selenium.webdriver.remote.webelement.WebElement (session=\"5011d29245dfaa68dee5bbe5f6193285\", element=\"33d5e48d-5315-4940-b3af-9f7644b22d17\")>,\n",
       " <selenium.webdriver.remote.webelement.WebElement (session=\"5011d29245dfaa68dee5bbe5f6193285\", element=\"9e489eed-3ce4-4785-b4a7-24905e5e2148\")>,\n",
       " <selenium.webdriver.remote.webelement.WebElement (session=\"5011d29245dfaa68dee5bbe5f6193285\", element=\"2dea0f7a-8ff6-4e7b-b2a5-a051a3161de5\")>,\n",
       " <selenium.webdriver.remote.webelement.WebElement (session=\"5011d29245dfaa68dee5bbe5f6193285\", element=\"afcf7ded-a481-47c1-be2d-3c5ce2b034b9\")>,\n",
       " <selenium.webdriver.remote.webelement.WebElement (session=\"5011d29245dfaa68dee5bbe5f6193285\", element=\"99884dfa-2a2d-4561-84b4-aad7d6b6fcb5\")>,\n",
       " <selenium.webdriver.remote.webelement.WebElement (session=\"5011d29245dfaa68dee5bbe5f6193285\", element=\"d0e3c1a0-9999-4d15-802d-13eaf8d64c33\")>,\n",
       " <selenium.webdriver.remote.webelement.WebElement (session=\"5011d29245dfaa68dee5bbe5f6193285\", element=\"db38cea7-c628-4988-9610-57bdb0458759\")>,\n",
       " <selenium.webdriver.remote.webelement.WebElement (session=\"5011d29245dfaa68dee5bbe5f6193285\", element=\"f4438892-706c-4cf8-9feb-c7cafcb1ea17\")>,\n",
       " <selenium.webdriver.remote.webelement.WebElement (session=\"5011d29245dfaa68dee5bbe5f6193285\", element=\"049a5b93-8297-4399-a644-3868fa552733\")>,\n",
       " <selenium.webdriver.remote.webelement.WebElement (session=\"5011d29245dfaa68dee5bbe5f6193285\", element=\"2b0527d7-fa19-4d4d-b16a-c8cfb06518f0\")>,\n",
       " <selenium.webdriver.remote.webelement.WebElement (session=\"5011d29245dfaa68dee5bbe5f6193285\", element=\"769e44d0-c12b-4214-83f4-d90db9234672\")>,\n",
       " <selenium.webdriver.remote.webelement.WebElement (session=\"5011d29245dfaa68dee5bbe5f6193285\", element=\"0bdbd672-2ce0-4222-a289-39644678c674\")>,\n",
       " <selenium.webdriver.remote.webelement.WebElement (session=\"5011d29245dfaa68dee5bbe5f6193285\", element=\"d0a5e975-8be9-42c3-84cc-82413836cc76\")>,\n",
       " <selenium.webdriver.remote.webelement.WebElement (session=\"5011d29245dfaa68dee5bbe5f6193285\", element=\"02a4ae1c-7c89-48db-999a-a5535555ee8c\")>,\n",
       " <selenium.webdriver.remote.webelement.WebElement (session=\"5011d29245dfaa68dee5bbe5f6193285\", element=\"77d8587d-0416-4793-a2b1-71d477936ed6\")>,\n",
       " <selenium.webdriver.remote.webelement.WebElement (session=\"5011d29245dfaa68dee5bbe5f6193285\", element=\"d2144d2c-8eb4-4f66-8c36-408536b795ca\")>,\n",
       " <selenium.webdriver.remote.webelement.WebElement (session=\"5011d29245dfaa68dee5bbe5f6193285\", element=\"aba3f12a-b1a7-46a3-aa87-e89f388ae9f6\")>,\n",
       " <selenium.webdriver.remote.webelement.WebElement (session=\"5011d29245dfaa68dee5bbe5f6193285\", element=\"3e56c84d-fdd3-480d-8a1a-301c006775a1\")>,\n",
       " <selenium.webdriver.remote.webelement.WebElement (session=\"5011d29245dfaa68dee5bbe5f6193285\", element=\"cf81633c-9b1f-4510-82cc-abef292804be\")>,\n",
       " <selenium.webdriver.remote.webelement.WebElement (session=\"5011d29245dfaa68dee5bbe5f6193285\", element=\"7945080e-afb2-4dfe-9b21-87e4d477cd02\")>,\n",
       " <selenium.webdriver.remote.webelement.WebElement (session=\"5011d29245dfaa68dee5bbe5f6193285\", element=\"a51d300a-03be-46f1-ad02-bcfdd110a0d3\")>,\n",
       " <selenium.webdriver.remote.webelement.WebElement (session=\"5011d29245dfaa68dee5bbe5f6193285\", element=\"14fbffd1-5a29-4ee2-86aa-8b77c043391e\")>,\n",
       " <selenium.webdriver.remote.webelement.WebElement (session=\"5011d29245dfaa68dee5bbe5f6193285\", element=\"641e6182-5444-4a2e-a9b7-024f43384dee\")>]"
      ]
     },
     "execution_count": 306,
     "metadata": {},
     "output_type": "execute_result"
    }
   ],
   "source": [
    "discsk3=driver.find_elements_by_class_name('_3Ay6Sb')\n",
    "discsk3"
   ]
  },
  {
   "cell_type": "code",
   "execution_count": 307,
   "id": "9c3a988b",
   "metadata": {},
   "outputs": [
    {
     "data": {
      "text/plain": [
       "45"
      ]
     },
     "execution_count": 307,
     "metadata": {},
     "output_type": "execute_result"
    }
   ],
   "source": [
    "len(discsk3)"
   ]
  },
  {
   "cell_type": "code",
   "execution_count": 308,
   "id": "fc245b99",
   "metadata": {},
   "outputs": [],
   "source": [
    "disc_sk3=[]\n",
    "\n",
    "for i in discsk3:\n",
    "    disc_sk3.append(i.text)\n",
    "    \n",
    "discsk_3=disc_sk3[0:20]"
   ]
  },
  {
   "cell_type": "code",
   "execution_count": 309,
   "id": "7bf1afe6",
   "metadata": {
    "collapsed": true
   },
   "outputs": [
    {
     "data": {
      "text/plain": [
       "[<selenium.webdriver.remote.webelement.WebElement (session=\"5011d29245dfaa68dee5bbe5f6193285\", element=\"9a38f096-f1c8-4aaa-b011-d70fdcda0322\")>,\n",
       " <selenium.webdriver.remote.webelement.WebElement (session=\"5011d29245dfaa68dee5bbe5f6193285\", element=\"0c1f809b-f238-4119-b21f-c6644414a996\")>,\n",
       " <selenium.webdriver.remote.webelement.WebElement (session=\"5011d29245dfaa68dee5bbe5f6193285\", element=\"de0eb70b-f6e9-4025-97fd-4fb794f94515\")>,\n",
       " <selenium.webdriver.remote.webelement.WebElement (session=\"5011d29245dfaa68dee5bbe5f6193285\", element=\"5c4fe9f6-6e1f-4c6c-a7d3-c74398ca7ac0\")>,\n",
       " <selenium.webdriver.remote.webelement.WebElement (session=\"5011d29245dfaa68dee5bbe5f6193285\", element=\"bbf217e0-5e33-431b-a9f1-382be6efa5ed\")>,\n",
       " <selenium.webdriver.remote.webelement.WebElement (session=\"5011d29245dfaa68dee5bbe5f6193285\", element=\"6db8c5dc-72d3-43df-b0f0-eeaf85798665\")>,\n",
       " <selenium.webdriver.remote.webelement.WebElement (session=\"5011d29245dfaa68dee5bbe5f6193285\", element=\"454c12ec-cd33-4947-a0ca-74ab121f45be\")>,\n",
       " <selenium.webdriver.remote.webelement.WebElement (session=\"5011d29245dfaa68dee5bbe5f6193285\", element=\"d96c3491-8167-4fe7-861e-41da245a53d5\")>,\n",
       " <selenium.webdriver.remote.webelement.WebElement (session=\"5011d29245dfaa68dee5bbe5f6193285\", element=\"9a5bb947-9a6f-49bc-bbc4-071b996492fc\")>,\n",
       " <selenium.webdriver.remote.webelement.WebElement (session=\"5011d29245dfaa68dee5bbe5f6193285\", element=\"5bec9d59-da6c-40be-943a-2a75abef18e0\")>,\n",
       " <selenium.webdriver.remote.webelement.WebElement (session=\"5011d29245dfaa68dee5bbe5f6193285\", element=\"d479e7cf-3eaf-4cde-a09a-71f1a9965a16\")>,\n",
       " <selenium.webdriver.remote.webelement.WebElement (session=\"5011d29245dfaa68dee5bbe5f6193285\", element=\"c764c2d7-1ba9-4ef1-9ee7-f39e2234b767\")>,\n",
       " <selenium.webdriver.remote.webelement.WebElement (session=\"5011d29245dfaa68dee5bbe5f6193285\", element=\"c290ef1d-07f1-4456-b37b-d0a4e913021d\")>,\n",
       " <selenium.webdriver.remote.webelement.WebElement (session=\"5011d29245dfaa68dee5bbe5f6193285\", element=\"fc5fa69e-754a-4d48-b8b4-79c599c35b10\")>,\n",
       " <selenium.webdriver.remote.webelement.WebElement (session=\"5011d29245dfaa68dee5bbe5f6193285\", element=\"76f7a1ba-60ff-4d7b-87c1-8280508cd933\")>,\n",
       " <selenium.webdriver.remote.webelement.WebElement (session=\"5011d29245dfaa68dee5bbe5f6193285\", element=\"a1b9b8e4-7f72-4ba5-8508-d73a65886151\")>,\n",
       " <selenium.webdriver.remote.webelement.WebElement (session=\"5011d29245dfaa68dee5bbe5f6193285\", element=\"b7e05845-f4f3-4362-a2ed-bab5ad47213e\")>,\n",
       " <selenium.webdriver.remote.webelement.WebElement (session=\"5011d29245dfaa68dee5bbe5f6193285\", element=\"5166970d-3ecd-409b-bbb9-de689f7e1896\")>,\n",
       " <selenium.webdriver.remote.webelement.WebElement (session=\"5011d29245dfaa68dee5bbe5f6193285\", element=\"b916ab86-9ab4-4637-ab07-2bc97f9b758e\")>,\n",
       " <selenium.webdriver.remote.webelement.WebElement (session=\"5011d29245dfaa68dee5bbe5f6193285\", element=\"9eeebdb5-34be-442c-9942-3b6497d329d4\")>,\n",
       " <selenium.webdriver.remote.webelement.WebElement (session=\"5011d29245dfaa68dee5bbe5f6193285\", element=\"22f23a47-0e3f-4de5-b40f-695bb4da5134\")>,\n",
       " <selenium.webdriver.remote.webelement.WebElement (session=\"5011d29245dfaa68dee5bbe5f6193285\", element=\"99775a0c-7322-4e52-b66e-81e7b87abe60\")>,\n",
       " <selenium.webdriver.remote.webelement.WebElement (session=\"5011d29245dfaa68dee5bbe5f6193285\", element=\"d74ba765-34d8-4dfe-bc30-af4c8b6c4c0f\")>,\n",
       " <selenium.webdriver.remote.webelement.WebElement (session=\"5011d29245dfaa68dee5bbe5f6193285\", element=\"dd3265f8-a3a3-4b19-b1fa-b733bd1a63d6\")>,\n",
       " <selenium.webdriver.remote.webelement.WebElement (session=\"5011d29245dfaa68dee5bbe5f6193285\", element=\"e0f0bd79-62ce-47ce-877a-68317728dcc8\")>,\n",
       " <selenium.webdriver.remote.webelement.WebElement (session=\"5011d29245dfaa68dee5bbe5f6193285\", element=\"0250bc96-28bc-4f5f-999b-985659a62409\")>,\n",
       " <selenium.webdriver.remote.webelement.WebElement (session=\"5011d29245dfaa68dee5bbe5f6193285\", element=\"202e5469-6b32-40cc-96ec-c0c7e30a97b5\")>,\n",
       " <selenium.webdriver.remote.webelement.WebElement (session=\"5011d29245dfaa68dee5bbe5f6193285\", element=\"23657c3b-12b7-4dd2-a0e8-83ead8a6642b\")>,\n",
       " <selenium.webdriver.remote.webelement.WebElement (session=\"5011d29245dfaa68dee5bbe5f6193285\", element=\"90b5f41a-84e6-4e92-a4bd-25c7c4d3e14d\")>,\n",
       " <selenium.webdriver.remote.webelement.WebElement (session=\"5011d29245dfaa68dee5bbe5f6193285\", element=\"eb5e3229-fe07-4388-8253-ad21e28b99c4\")>,\n",
       " <selenium.webdriver.remote.webelement.WebElement (session=\"5011d29245dfaa68dee5bbe5f6193285\", element=\"f8962705-6df2-4008-8f87-53662756ef96\")>,\n",
       " <selenium.webdriver.remote.webelement.WebElement (session=\"5011d29245dfaa68dee5bbe5f6193285\", element=\"9cc5f1f5-0f10-4787-bf21-d4088129ba86\")>,\n",
       " <selenium.webdriver.remote.webelement.WebElement (session=\"5011d29245dfaa68dee5bbe5f6193285\", element=\"b0672454-8a90-447d-9e18-82c9d63735be\")>,\n",
       " <selenium.webdriver.remote.webelement.WebElement (session=\"5011d29245dfaa68dee5bbe5f6193285\", element=\"75123c28-4255-4602-b054-0d29f308928d\")>,\n",
       " <selenium.webdriver.remote.webelement.WebElement (session=\"5011d29245dfaa68dee5bbe5f6193285\", element=\"7a57b31d-4946-46a5-b7d2-e63fd3b23ce4\")>,\n",
       " <selenium.webdriver.remote.webelement.WebElement (session=\"5011d29245dfaa68dee5bbe5f6193285\", element=\"f7cac7be-3027-4bc0-8bdd-9ec0e995a115\")>,\n",
       " <selenium.webdriver.remote.webelement.WebElement (session=\"5011d29245dfaa68dee5bbe5f6193285\", element=\"d0ecbf57-2e16-4d2c-8f7c-dfd2f2c9729e\")>,\n",
       " <selenium.webdriver.remote.webelement.WebElement (session=\"5011d29245dfaa68dee5bbe5f6193285\", element=\"c201f9f7-7c86-4599-8219-ce743999be44\")>,\n",
       " <selenium.webdriver.remote.webelement.WebElement (session=\"5011d29245dfaa68dee5bbe5f6193285\", element=\"75a53d4a-dcc2-4a9c-88c8-80ae338516b8\")>,\n",
       " <selenium.webdriver.remote.webelement.WebElement (session=\"5011d29245dfaa68dee5bbe5f6193285\", element=\"88106578-7e71-4571-ad3a-acb5eb66591f\")>,\n",
       " <selenium.webdriver.remote.webelement.WebElement (session=\"5011d29245dfaa68dee5bbe5f6193285\", element=\"9ad5a15d-35f2-4aa5-b695-a97d9bd6b176\")>,\n",
       " <selenium.webdriver.remote.webelement.WebElement (session=\"5011d29245dfaa68dee5bbe5f6193285\", element=\"0f86b77a-9a16-4dc2-8ac1-68047fad1f59\")>,\n",
       " <selenium.webdriver.remote.webelement.WebElement (session=\"5011d29245dfaa68dee5bbe5f6193285\", element=\"0154a89e-7827-4976-a234-d8ef9d17f48d\")>,\n",
       " <selenium.webdriver.remote.webelement.WebElement (session=\"5011d29245dfaa68dee5bbe5f6193285\", element=\"a038334d-e7de-4097-9d13-a488b519c48a\")>,\n",
       " <selenium.webdriver.remote.webelement.WebElement (session=\"5011d29245dfaa68dee5bbe5f6193285\", element=\"e8b40ca1-46fe-42cd-979a-e3887abf2053\")>]"
      ]
     },
     "execution_count": 309,
     "metadata": {},
     "output_type": "execute_result"
    }
   ],
   "source": [
    "pricesk3=driver.find_elements_by_class_name('_30jeq3')\n",
    "pricesk3"
   ]
  },
  {
   "cell_type": "code",
   "execution_count": 310,
   "id": "63265fea",
   "metadata": {},
   "outputs": [
    {
     "data": {
      "text/plain": [
       "45"
      ]
     },
     "execution_count": 310,
     "metadata": {},
     "output_type": "execute_result"
    }
   ],
   "source": [
    "len(pricesk3)"
   ]
  },
  {
   "cell_type": "code",
   "execution_count": 312,
   "id": "30eedec2",
   "metadata": {},
   "outputs": [],
   "source": [
    "price_sk3=[]\n",
    "\n",
    "for i in pricesk3:\n",
    "    price_sk3.append(i.text)\n",
    "\n",
    "pricesk_3=price_sk3[0:20]"
   ]
  },
  {
   "cell_type": "code",
   "execution_count": 313,
   "id": "910c927f",
   "metadata": {},
   "outputs": [
    {
     "data": {
      "text/html": [
       "<div>\n",
       "<style scoped>\n",
       "    .dataframe tbody tr th:only-of-type {\n",
       "        vertical-align: middle;\n",
       "    }\n",
       "\n",
       "    .dataframe tbody tr th {\n",
       "        vertical-align: top;\n",
       "    }\n",
       "\n",
       "    .dataframe thead th {\n",
       "        text-align: right;\n",
       "    }\n",
       "</style>\n",
       "<table border=\"1\" class=\"dataframe\">\n",
       "  <thead>\n",
       "    <tr style=\"text-align: right;\">\n",
       "      <th></th>\n",
       "      <th>Brand</th>\n",
       "      <th>Product Description</th>\n",
       "      <th>Discount</th>\n",
       "      <th>Price</th>\n",
       "    </tr>\n",
       "  </thead>\n",
       "  <tbody>\n",
       "    <tr>\n",
       "      <th>0</th>\n",
       "      <td>ASIAN</td>\n",
       "      <td>Skypy-31 Walking Shoes,Training Shoes,Sneakers...</td>\n",
       "      <td>37% off</td>\n",
       "      <td>₹498</td>\n",
       "    </tr>\n",
       "    <tr>\n",
       "      <th>1</th>\n",
       "      <td>Zixer</td>\n",
       "      <td>Men High Top Fashion Sneakers/sports/Ankle cas...</td>\n",
       "      <td>65% off</td>\n",
       "      <td>₹699</td>\n",
       "    </tr>\n",
       "    <tr>\n",
       "      <th>2</th>\n",
       "      <td>Robbie jones</td>\n",
       "      <td>Casual Sneakers White Shoes For Men Sneakers F...</td>\n",
       "      <td>50% off</td>\n",
       "      <td>₹499</td>\n",
       "    </tr>\n",
       "    <tr>\n",
       "      <th>3</th>\n",
       "      <td>Echor</td>\n",
       "      <td>Men's casual shoe Black sneaker shoe for men S...</td>\n",
       "      <td>66% off</td>\n",
       "      <td>₹499</td>\n",
       "    </tr>\n",
       "    <tr>\n",
       "      <th>4</th>\n",
       "      <td>Robbie jones</td>\n",
       "      <td>Sneakers For Men</td>\n",
       "      <td>50% off</td>\n",
       "      <td>₹499</td>\n",
       "    </tr>\n",
       "    <tr>\n",
       "      <th>5</th>\n",
       "      <td>WHITE WALKERS</td>\n",
       "      <td>Stylish &amp; Trending Outdoor Walking Comfortable...</td>\n",
       "      <td>50% off</td>\n",
       "      <td>₹599</td>\n",
       "    </tr>\n",
       "    <tr>\n",
       "      <th>6</th>\n",
       "      <td>RapidBox</td>\n",
       "      <td>Sneakers For Men</td>\n",
       "      <td>31% off</td>\n",
       "      <td>₹680</td>\n",
       "    </tr>\n",
       "    <tr>\n",
       "      <th>7</th>\n",
       "      <td>HIGHLANDER</td>\n",
       "      <td>Sneakers For Men</td>\n",
       "      <td>39% off</td>\n",
       "      <td>₹719</td>\n",
       "    </tr>\n",
       "    <tr>\n",
       "      <th>8</th>\n",
       "      <td>Zorth</td>\n",
       "      <td>Sneakers For Men</td>\n",
       "      <td>55% off</td>\n",
       "      <td>₹447</td>\n",
       "    </tr>\n",
       "    <tr>\n",
       "      <th>9</th>\n",
       "      <td>Noztile</td>\n",
       "      <td>Sneakers For Men</td>\n",
       "      <td>80% off</td>\n",
       "      <td>₹399</td>\n",
       "    </tr>\n",
       "    <tr>\n",
       "      <th>10</th>\n",
       "      <td>Trendmode</td>\n",
       "      <td>Sneakers For Men</td>\n",
       "      <td>62% off</td>\n",
       "      <td>₹259</td>\n",
       "    </tr>\n",
       "    <tr>\n",
       "      <th>11</th>\n",
       "      <td>HIGHLANDER</td>\n",
       "      <td>Sneakers For Men</td>\n",
       "      <td>39% off</td>\n",
       "      <td>₹719</td>\n",
       "    </tr>\n",
       "    <tr>\n",
       "      <th>12</th>\n",
       "      <td>bluemaker</td>\n",
       "      <td>casual for men Sneakers For Men</td>\n",
       "      <td>50% off</td>\n",
       "      <td>₹499</td>\n",
       "    </tr>\n",
       "    <tr>\n",
       "      <th>13</th>\n",
       "      <td>Chevit</td>\n",
       "      <td>Modern Stylish Combo Pack of 3 Jogging, Walkin...</td>\n",
       "      <td>73% off</td>\n",
       "      <td>₹624</td>\n",
       "    </tr>\n",
       "    <tr>\n",
       "      <th>14</th>\n",
       "      <td>CLYMB</td>\n",
       "      <td>Sneakers For Men</td>\n",
       "      <td>58% off</td>\n",
       "      <td>₹616</td>\n",
       "    </tr>\n",
       "    <tr>\n",
       "      <th>15</th>\n",
       "      <td>HIGHLANDER</td>\n",
       "      <td>Sneakers For Men</td>\n",
       "      <td>50% off</td>\n",
       "      <td>₹995</td>\n",
       "    </tr>\n",
       "    <tr>\n",
       "      <th>16</th>\n",
       "      <td>aadi</td>\n",
       "      <td>Sneakers For Men</td>\n",
       "      <td>64% off</td>\n",
       "      <td>₹359</td>\n",
       "    </tr>\n",
       "    <tr>\n",
       "      <th>17</th>\n",
       "      <td>Chevit</td>\n",
       "      <td>494 Perfect Sports Shoes for Running Training ...</td>\n",
       "      <td>70% off</td>\n",
       "      <td>₹299</td>\n",
       "    </tr>\n",
       "    <tr>\n",
       "      <th>18</th>\n",
       "      <td>Numenzo</td>\n",
       "      <td>411 Casual Sneakers For Men</td>\n",
       "      <td>76% off</td>\n",
       "      <td>₹474</td>\n",
       "    </tr>\n",
       "    <tr>\n",
       "      <th>19</th>\n",
       "      <td>HIGHLANDER</td>\n",
       "      <td>Sneakers For Men</td>\n",
       "      <td>60% off</td>\n",
       "      <td>₹796</td>\n",
       "    </tr>\n",
       "  </tbody>\n",
       "</table>\n",
       "</div>"
      ],
      "text/plain": [
       "            Brand                                Product Description Discount  \\\n",
       "0           ASIAN  Skypy-31 Walking Shoes,Training Shoes,Sneakers...  37% off   \n",
       "1           Zixer  Men High Top Fashion Sneakers/sports/Ankle cas...  65% off   \n",
       "2    Robbie jones  Casual Sneakers White Shoes For Men Sneakers F...  50% off   \n",
       "3           Echor  Men's casual shoe Black sneaker shoe for men S...  66% off   \n",
       "4    Robbie jones                                   Sneakers For Men  50% off   \n",
       "5   WHITE WALKERS  Stylish & Trending Outdoor Walking Comfortable...  50% off   \n",
       "6        RapidBox                                   Sneakers For Men  31% off   \n",
       "7      HIGHLANDER                                   Sneakers For Men  39% off   \n",
       "8           Zorth                                   Sneakers For Men  55% off   \n",
       "9         Noztile                                   Sneakers For Men  80% off   \n",
       "10      Trendmode                                   Sneakers For Men  62% off   \n",
       "11     HIGHLANDER                                   Sneakers For Men  39% off   \n",
       "12      bluemaker                    casual for men Sneakers For Men  50% off   \n",
       "13         Chevit  Modern Stylish Combo Pack of 3 Jogging, Walkin...  73% off   \n",
       "14          CLYMB                                   Sneakers For Men  58% off   \n",
       "15     HIGHLANDER                                   Sneakers For Men  50% off   \n",
       "16           aadi                                   Sneakers For Men  64% off   \n",
       "17         Chevit  494 Perfect Sports Shoes for Running Training ...  70% off   \n",
       "18        Numenzo                        411 Casual Sneakers For Men  76% off   \n",
       "19     HIGHLANDER                                   Sneakers For Men  60% off   \n",
       "\n",
       "   Price  \n",
       "0   ₹498  \n",
       "1   ₹699  \n",
       "2   ₹499  \n",
       "3   ₹499  \n",
       "4   ₹499  \n",
       "5   ₹599  \n",
       "6   ₹680  \n",
       "7   ₹719  \n",
       "8   ₹447  \n",
       "9   ₹399  \n",
       "10  ₹259  \n",
       "11  ₹719  \n",
       "12  ₹499  \n",
       "13  ₹624  \n",
       "14  ₹616  \n",
       "15  ₹995  \n",
       "16  ₹359  \n",
       "17  ₹299  \n",
       "18  ₹474  \n",
       "19  ₹796  "
      ]
     },
     "execution_count": 313,
     "metadata": {},
     "output_type": "execute_result"
    }
   ],
   "source": [
    "sneakers3data=pd.DataFrame()\n",
    "sneakers3data['Brand']=brandsk_3\n",
    "sneakers3data['Product Description']=descsk_3\n",
    "sneakers3data['Discount']=discsk_3\n",
    "sneakers3data['Price']=pricesk_3\n",
    "\n",
    "sneakers3data"
   ]
  },
  {
   "cell_type": "code",
   "execution_count": 314,
   "id": "01ab5296",
   "metadata": {},
   "outputs": [],
   "source": [
    "snk_data=sneakers1data.append(sneakers2data)"
   ]
  },
  {
   "cell_type": "code",
   "execution_count": 315,
   "id": "88d6f1ee",
   "metadata": {},
   "outputs": [],
   "source": [
    "sneakers_data=snk_data.append(sneakers3data)"
   ]
  },
  {
   "cell_type": "code",
   "execution_count": 316,
   "id": "35e2cee8",
   "metadata": {
    "collapsed": true
   },
   "outputs": [
    {
     "data": {
      "text/html": [
       "<div>\n",
       "<style scoped>\n",
       "    .dataframe tbody tr th:only-of-type {\n",
       "        vertical-align: middle;\n",
       "    }\n",
       "\n",
       "    .dataframe tbody tr th {\n",
       "        vertical-align: top;\n",
       "    }\n",
       "\n",
       "    .dataframe thead th {\n",
       "        text-align: right;\n",
       "    }\n",
       "</style>\n",
       "<table border=\"1\" class=\"dataframe\">\n",
       "  <thead>\n",
       "    <tr style=\"text-align: right;\">\n",
       "      <th></th>\n",
       "      <th>Brand</th>\n",
       "      <th>Product Description</th>\n",
       "      <th>Discount</th>\n",
       "      <th>Price</th>\n",
       "    </tr>\n",
       "  </thead>\n",
       "  <tbody>\n",
       "    <tr>\n",
       "      <th>0</th>\n",
       "      <td>HIGHLANDER</td>\n",
       "      <td>Sneakers For Men</td>\n",
       "      <td>50% off</td>\n",
       "      <td>₹995</td>\n",
       "    </tr>\n",
       "    <tr>\n",
       "      <th>1</th>\n",
       "      <td>HIGHLANDER</td>\n",
       "      <td>Sneakers For Men</td>\n",
       "      <td>39% off</td>\n",
       "      <td>₹719</td>\n",
       "    </tr>\n",
       "    <tr>\n",
       "      <th>2</th>\n",
       "      <td>DUNKASTON</td>\n",
       "      <td>Sneakers For Men</td>\n",
       "      <td>77% off</td>\n",
       "      <td>₹343</td>\n",
       "    </tr>\n",
       "    <tr>\n",
       "      <th>3</th>\n",
       "      <td>BRUTON</td>\n",
       "      <td>Modern Trendy Sneakers Shoes Sneakers For Men</td>\n",
       "      <td>80% off</td>\n",
       "      <td>₹259</td>\n",
       "    </tr>\n",
       "    <tr>\n",
       "      <th>4</th>\n",
       "      <td>World Wear Footwear</td>\n",
       "      <td>Sneakers For Men</td>\n",
       "      <td>60% off</td>\n",
       "      <td>₹199</td>\n",
       "    </tr>\n",
       "    <tr>\n",
       "      <th>...</th>\n",
       "      <td>...</td>\n",
       "      <td>...</td>\n",
       "      <td>...</td>\n",
       "      <td>...</td>\n",
       "    </tr>\n",
       "    <tr>\n",
       "      <th>15</th>\n",
       "      <td>HIGHLANDER</td>\n",
       "      <td>Sneakers For Men</td>\n",
       "      <td>50% off</td>\n",
       "      <td>₹995</td>\n",
       "    </tr>\n",
       "    <tr>\n",
       "      <th>16</th>\n",
       "      <td>aadi</td>\n",
       "      <td>Sneakers For Men</td>\n",
       "      <td>64% off</td>\n",
       "      <td>₹359</td>\n",
       "    </tr>\n",
       "    <tr>\n",
       "      <th>17</th>\n",
       "      <td>Chevit</td>\n",
       "      <td>494 Perfect Sports Shoes for Running Training ...</td>\n",
       "      <td>70% off</td>\n",
       "      <td>₹299</td>\n",
       "    </tr>\n",
       "    <tr>\n",
       "      <th>18</th>\n",
       "      <td>Numenzo</td>\n",
       "      <td>411 Casual Sneakers For Men</td>\n",
       "      <td>76% off</td>\n",
       "      <td>₹474</td>\n",
       "    </tr>\n",
       "    <tr>\n",
       "      <th>19</th>\n",
       "      <td>HIGHLANDER</td>\n",
       "      <td>Sneakers For Men</td>\n",
       "      <td>60% off</td>\n",
       "      <td>₹796</td>\n",
       "    </tr>\n",
       "  </tbody>\n",
       "</table>\n",
       "<p>100 rows × 4 columns</p>\n",
       "</div>"
      ],
      "text/plain": [
       "                  Brand                                Product Description  \\\n",
       "0            HIGHLANDER                                   Sneakers For Men   \n",
       "1            HIGHLANDER                                   Sneakers For Men   \n",
       "2             DUNKASTON                                   Sneakers For Men   \n",
       "3                BRUTON      Modern Trendy Sneakers Shoes Sneakers For Men   \n",
       "4   World Wear Footwear                                   Sneakers For Men   \n",
       "..                  ...                                                ...   \n",
       "15           HIGHLANDER                                   Sneakers For Men   \n",
       "16                 aadi                                   Sneakers For Men   \n",
       "17               Chevit  494 Perfect Sports Shoes for Running Training ...   \n",
       "18              Numenzo                        411 Casual Sneakers For Men   \n",
       "19           HIGHLANDER                                   Sneakers For Men   \n",
       "\n",
       "   Discount Price  \n",
       "0   50% off  ₹995  \n",
       "1   39% off  ₹719  \n",
       "2   77% off  ₹343  \n",
       "3   80% off  ₹259  \n",
       "4   60% off  ₹199  \n",
       "..      ...   ...  \n",
       "15  50% off  ₹995  \n",
       "16  64% off  ₹359  \n",
       "17  70% off  ₹299  \n",
       "18  76% off  ₹474  \n",
       "19  60% off  ₹796  \n",
       "\n",
       "[100 rows x 4 columns]"
      ]
     },
     "execution_count": 316,
     "metadata": {},
     "output_type": "execute_result"
    }
   ],
   "source": [
    "sneakers_data"
   ]
  },
  {
   "cell_type": "code",
   "execution_count": 317,
   "id": "0f6e5df8",
   "metadata": {},
   "outputs": [],
   "source": [
    "#7. Scrape first 100 shoes from myntra.com within price range 7149-14099, and color black. Scrape Brand name, short shoe description and price."
   ]
  },
  {
   "cell_type": "code",
   "execution_count": 351,
   "id": "32138fa2",
   "metadata": {},
   "outputs": [],
   "source": [
    "driver=webdriver.Chrome(r'C:/Users/Dell/Downloads/chromedriver_win32 (1)/chromedriver.exe')"
   ]
  },
  {
   "cell_type": "code",
   "execution_count": 352,
   "id": "458db0b0",
   "metadata": {},
   "outputs": [],
   "source": [
    "url7='https://www.myntra.com/shoes'\n",
    "driver.get(url7)"
   ]
  },
  {
   "cell_type": "code",
   "execution_count": 353,
   "id": "72be51ab",
   "metadata": {},
   "outputs": [],
   "source": [
    "driver.execute_script(\"window.scrollBy(0,500)\",\"\")"
   ]
  },
  {
   "cell_type": "code",
   "execution_count": 354,
   "id": "fe6b2f65",
   "metadata": {},
   "outputs": [
    {
     "data": {
      "text/plain": [
       "<selenium.webdriver.remote.webelement.WebElement (session=\"83c20fd79ca48ac45e24a5fddd18a07b\", element=\"68f7707c-d350-420b-b907-185391cc3cee\")>"
      ]
     },
     "execution_count": 354,
     "metadata": {},
     "output_type": "execute_result"
    }
   ],
   "source": [
    "checkprice=driver.find_element_by_xpath('/html/body/div[2]/div/div[1]/main/div[3]/div[1]/section/div/div[5]/ul/li[2]/label/div')\n",
    "checkprice"
   ]
  },
  {
   "cell_type": "code",
   "execution_count": null,
   "id": "1b6a5d5a",
   "metadata": {},
   "outputs": [],
   "source": []
  },
  {
   "cell_type": "code",
   "execution_count": 355,
   "id": "ac814b13",
   "metadata": {},
   "outputs": [],
   "source": [
    "checkprice.click()"
   ]
  },
  {
   "cell_type": "code",
   "execution_count": null,
   "id": "f6361374",
   "metadata": {},
   "outputs": [],
   "source": []
  },
  {
   "cell_type": "code",
   "execution_count": 356,
   "id": "0185a155",
   "metadata": {},
   "outputs": [],
   "source": [
    "driver.execute_script(\"window.scrollBy(0,500)\",\"\")"
   ]
  },
  {
   "cell_type": "code",
   "execution_count": null,
   "id": "b2440937",
   "metadata": {},
   "outputs": [],
   "source": []
  },
  {
   "cell_type": "code",
   "execution_count": 357,
   "id": "83b65d2d",
   "metadata": {},
   "outputs": [
    {
     "data": {
      "text/plain": [
       "<selenium.webdriver.remote.webelement.WebElement (session=\"83c20fd79ca48ac45e24a5fddd18a07b\", element=\"65dabb2b-024e-4c3d-92ff-55dab619b80e\")>"
      ]
     },
     "execution_count": 357,
     "metadata": {},
     "output_type": "execute_result"
    }
   ],
   "source": [
    "checkcolor=driver.find_element_by_xpath('/html/body/div[2]/div/div[1]/main/div[3]/div[1]/section/div/div[6]/ul/li[1]/label/div')\n",
    "checkcolor"
   ]
  },
  {
   "cell_type": "code",
   "execution_count": null,
   "id": "b63f0555",
   "metadata": {},
   "outputs": [],
   "source": []
  },
  {
   "cell_type": "code",
   "execution_count": 358,
   "id": "d8d44e1c",
   "metadata": {},
   "outputs": [],
   "source": [
    "checkcolor.click()"
   ]
  },
  {
   "cell_type": "code",
   "execution_count": null,
   "id": "82b1b532",
   "metadata": {},
   "outputs": [],
   "source": []
  },
  {
   "cell_type": "code",
   "execution_count": 359,
   "id": "55c0899b",
   "metadata": {},
   "outputs": [],
   "source": [
    "driver.execute_script(\"window.scrollBy(0,200)\",\"\")"
   ]
  },
  {
   "cell_type": "code",
   "execution_count": null,
   "id": "c5ddf399",
   "metadata": {},
   "outputs": [],
   "source": []
  },
  {
   "cell_type": "code",
   "execution_count": 360,
   "id": "09b87fa8",
   "metadata": {},
   "outputs": [
    {
     "data": {
      "text/plain": [
       "[<selenium.webdriver.remote.webelement.WebElement (session=\"83c20fd79ca48ac45e24a5fddd18a07b\", element=\"78e929d6-4cda-4f60-a672-ff1f4df85e41\")>,\n",
       " <selenium.webdriver.remote.webelement.WebElement (session=\"83c20fd79ca48ac45e24a5fddd18a07b\", element=\"183ef5e7-8594-4180-aad2-3926fdf1c24e\")>,\n",
       " <selenium.webdriver.remote.webelement.WebElement (session=\"83c20fd79ca48ac45e24a5fddd18a07b\", element=\"db196a5d-5420-4374-baa4-39f4dcb7c9da\")>,\n",
       " <selenium.webdriver.remote.webelement.WebElement (session=\"83c20fd79ca48ac45e24a5fddd18a07b\", element=\"84369249-5c0e-4b98-b797-6b7ff58a9a69\")>,\n",
       " <selenium.webdriver.remote.webelement.WebElement (session=\"83c20fd79ca48ac45e24a5fddd18a07b\", element=\"e3a46225-dcb6-425e-b142-20c25dda53d9\")>,\n",
       " <selenium.webdriver.remote.webelement.WebElement (session=\"83c20fd79ca48ac45e24a5fddd18a07b\", element=\"f1f865ff-2934-4fd8-960a-b632ff37668e\")>,\n",
       " <selenium.webdriver.remote.webelement.WebElement (session=\"83c20fd79ca48ac45e24a5fddd18a07b\", element=\"07115665-e082-42cc-9c35-6667fb13762c\")>,\n",
       " <selenium.webdriver.remote.webelement.WebElement (session=\"83c20fd79ca48ac45e24a5fddd18a07b\", element=\"081d1466-8371-49be-a2d3-8271d44f06a1\")>,\n",
       " <selenium.webdriver.remote.webelement.WebElement (session=\"83c20fd79ca48ac45e24a5fddd18a07b\", element=\"81b9c8b4-3b66-4cdd-8e40-25976bfdd9f8\")>,\n",
       " <selenium.webdriver.remote.webelement.WebElement (session=\"83c20fd79ca48ac45e24a5fddd18a07b\", element=\"7b6edb2e-c389-4b96-8e8f-027c8c677657\")>,\n",
       " <selenium.webdriver.remote.webelement.WebElement (session=\"83c20fd79ca48ac45e24a5fddd18a07b\", element=\"5116b0b4-a6d1-417c-8f66-d259aa60f52d\")>,\n",
       " <selenium.webdriver.remote.webelement.WebElement (session=\"83c20fd79ca48ac45e24a5fddd18a07b\", element=\"2dfeb909-b009-49b6-a501-6ba1f5a1f0ae\")>,\n",
       " <selenium.webdriver.remote.webelement.WebElement (session=\"83c20fd79ca48ac45e24a5fddd18a07b\", element=\"640b0240-5ed5-4fb1-aab4-1599f55eb828\")>,\n",
       " <selenium.webdriver.remote.webelement.WebElement (session=\"83c20fd79ca48ac45e24a5fddd18a07b\", element=\"d9066f03-1407-4e68-933e-6d49e1a7b7dc\")>,\n",
       " <selenium.webdriver.remote.webelement.WebElement (session=\"83c20fd79ca48ac45e24a5fddd18a07b\", element=\"a3fa341f-0bb6-4b24-9a41-e1dfa08e8817\")>,\n",
       " <selenium.webdriver.remote.webelement.WebElement (session=\"83c20fd79ca48ac45e24a5fddd18a07b\", element=\"0d80a107-7b55-4066-ac11-88c0b410458f\")>,\n",
       " <selenium.webdriver.remote.webelement.WebElement (session=\"83c20fd79ca48ac45e24a5fddd18a07b\", element=\"4e306396-497c-41be-af86-68f9bfb35e0f\")>,\n",
       " <selenium.webdriver.remote.webelement.WebElement (session=\"83c20fd79ca48ac45e24a5fddd18a07b\", element=\"c9143df7-4a90-4a92-8956-20188f24da05\")>,\n",
       " <selenium.webdriver.remote.webelement.WebElement (session=\"83c20fd79ca48ac45e24a5fddd18a07b\", element=\"749a7714-bb8a-4640-b0cd-254583ada29d\")>,\n",
       " <selenium.webdriver.remote.webelement.WebElement (session=\"83c20fd79ca48ac45e24a5fddd18a07b\", element=\"b0963103-8b5f-40c4-b002-9938fecc3c05\")>,\n",
       " <selenium.webdriver.remote.webelement.WebElement (session=\"83c20fd79ca48ac45e24a5fddd18a07b\", element=\"4e5636eb-df13-4a97-95eb-5e6132da1517\")>,\n",
       " <selenium.webdriver.remote.webelement.WebElement (session=\"83c20fd79ca48ac45e24a5fddd18a07b\", element=\"ca8a8c26-cc86-4b9e-9d2f-7bd03e22164c\")>,\n",
       " <selenium.webdriver.remote.webelement.WebElement (session=\"83c20fd79ca48ac45e24a5fddd18a07b\", element=\"61585d9e-d032-46eb-a50b-039aa3d0b737\")>,\n",
       " <selenium.webdriver.remote.webelement.WebElement (session=\"83c20fd79ca48ac45e24a5fddd18a07b\", element=\"3aaf5b9a-a2e4-44c5-a2eb-f2a2669eb0f7\")>,\n",
       " <selenium.webdriver.remote.webelement.WebElement (session=\"83c20fd79ca48ac45e24a5fddd18a07b\", element=\"94237eb8-c401-4e79-bf7b-aea0b013d314\")>,\n",
       " <selenium.webdriver.remote.webelement.WebElement (session=\"83c20fd79ca48ac45e24a5fddd18a07b\", element=\"c3f76f19-138b-4516-9e32-0ad03b1037f5\")>,\n",
       " <selenium.webdriver.remote.webelement.WebElement (session=\"83c20fd79ca48ac45e24a5fddd18a07b\", element=\"fa3c17e7-76cf-4ab7-afb3-b210e8601700\")>,\n",
       " <selenium.webdriver.remote.webelement.WebElement (session=\"83c20fd79ca48ac45e24a5fddd18a07b\", element=\"dd339a48-1a49-4c58-89f6-4038a3ea568a\")>,\n",
       " <selenium.webdriver.remote.webelement.WebElement (session=\"83c20fd79ca48ac45e24a5fddd18a07b\", element=\"c066164b-9f84-4305-a894-65e428e472dc\")>,\n",
       " <selenium.webdriver.remote.webelement.WebElement (session=\"83c20fd79ca48ac45e24a5fddd18a07b\", element=\"5ca0e881-c617-4ba2-a982-6776c321ba1e\")>,\n",
       " <selenium.webdriver.remote.webelement.WebElement (session=\"83c20fd79ca48ac45e24a5fddd18a07b\", element=\"215e97ec-2e7d-4eec-930c-122f4449fdfe\")>,\n",
       " <selenium.webdriver.remote.webelement.WebElement (session=\"83c20fd79ca48ac45e24a5fddd18a07b\", element=\"240dad73-ac6e-4d29-ba5a-791f42f0ce0b\")>,\n",
       " <selenium.webdriver.remote.webelement.WebElement (session=\"83c20fd79ca48ac45e24a5fddd18a07b\", element=\"5be08a13-3bf7-4b76-9175-35c46a55d88d\")>,\n",
       " <selenium.webdriver.remote.webelement.WebElement (session=\"83c20fd79ca48ac45e24a5fddd18a07b\", element=\"2f3eed9f-4b49-42a6-999c-58ab714f03e1\")>,\n",
       " <selenium.webdriver.remote.webelement.WebElement (session=\"83c20fd79ca48ac45e24a5fddd18a07b\", element=\"6478b238-d5b5-4043-b2df-a66a476a6040\")>,\n",
       " <selenium.webdriver.remote.webelement.WebElement (session=\"83c20fd79ca48ac45e24a5fddd18a07b\", element=\"9781153f-ad7f-41ed-9545-4df64ccd021c\")>,\n",
       " <selenium.webdriver.remote.webelement.WebElement (session=\"83c20fd79ca48ac45e24a5fddd18a07b\", element=\"140d9a6b-96b9-4830-b063-3a2731414c0f\")>,\n",
       " <selenium.webdriver.remote.webelement.WebElement (session=\"83c20fd79ca48ac45e24a5fddd18a07b\", element=\"fdbffd5d-0d5b-47bf-b070-02f51372b80c\")>,\n",
       " <selenium.webdriver.remote.webelement.WebElement (session=\"83c20fd79ca48ac45e24a5fddd18a07b\", element=\"45b0df80-a24d-4dc1-89b2-6b37f8f094d6\")>,\n",
       " <selenium.webdriver.remote.webelement.WebElement (session=\"83c20fd79ca48ac45e24a5fddd18a07b\", element=\"72a4329b-754b-434e-91b5-eed900c227cf\")>,\n",
       " <selenium.webdriver.remote.webelement.WebElement (session=\"83c20fd79ca48ac45e24a5fddd18a07b\", element=\"76f7c219-654a-4a3e-a1f9-eaf376327702\")>,\n",
       " <selenium.webdriver.remote.webelement.WebElement (session=\"83c20fd79ca48ac45e24a5fddd18a07b\", element=\"63b030b9-aac4-4d52-881c-6c345c892b12\")>,\n",
       " <selenium.webdriver.remote.webelement.WebElement (session=\"83c20fd79ca48ac45e24a5fddd18a07b\", element=\"ed45807a-1a94-4949-a61b-d39d919ccec4\")>,\n",
       " <selenium.webdriver.remote.webelement.WebElement (session=\"83c20fd79ca48ac45e24a5fddd18a07b\", element=\"9bc9605b-9b41-4cc5-b47b-991836f31bf7\")>,\n",
       " <selenium.webdriver.remote.webelement.WebElement (session=\"83c20fd79ca48ac45e24a5fddd18a07b\", element=\"5df85faf-3593-4de5-9b58-1b32089c0521\")>,\n",
       " <selenium.webdriver.remote.webelement.WebElement (session=\"83c20fd79ca48ac45e24a5fddd18a07b\", element=\"f880bb4c-ee7c-4d1a-af17-5c2c273fc49b\")>,\n",
       " <selenium.webdriver.remote.webelement.WebElement (session=\"83c20fd79ca48ac45e24a5fddd18a07b\", element=\"780671a8-6269-42b4-bfdb-0e72783f6d52\")>,\n",
       " <selenium.webdriver.remote.webelement.WebElement (session=\"83c20fd79ca48ac45e24a5fddd18a07b\", element=\"b39763c0-12ad-4e75-b98a-6ed7bfcb2b36\")>,\n",
       " <selenium.webdriver.remote.webelement.WebElement (session=\"83c20fd79ca48ac45e24a5fddd18a07b\", element=\"2d920f6b-d34e-4b49-85ba-723603a0d90e\")>,\n",
       " <selenium.webdriver.remote.webelement.WebElement (session=\"83c20fd79ca48ac45e24a5fddd18a07b\", element=\"dc6e927e-8ad2-4f06-aa5c-ef076fdaecdf\")>]"
      ]
     },
     "execution_count": 360,
     "metadata": {},
     "output_type": "execute_result"
    }
   ],
   "source": [
    "shoe_brand1=driver.find_elements_by_class_name('product-brand')\n",
    "shoe_brand1"
   ]
  },
  {
   "cell_type": "code",
   "execution_count": null,
   "id": "e82cb987",
   "metadata": {},
   "outputs": [],
   "source": []
  },
  {
   "cell_type": "code",
   "execution_count": 361,
   "id": "7b772387",
   "metadata": {},
   "outputs": [
    {
     "data": {
      "text/plain": [
       "50"
      ]
     },
     "execution_count": 361,
     "metadata": {},
     "output_type": "execute_result"
    }
   ],
   "source": [
    "len(shoe_brand1)"
   ]
  },
  {
   "cell_type": "code",
   "execution_count": null,
   "id": "7712c98a",
   "metadata": {},
   "outputs": [],
   "source": []
  },
  {
   "cell_type": "code",
   "execution_count": 362,
   "id": "dba162d7",
   "metadata": {},
   "outputs": [
    {
     "data": {
      "text/plain": [
       "['ALDO',\n",
       " 'Reebok',\n",
       " 'Nike',\n",
       " 'ALDO',\n",
       " 'Tommy Hilfiger',\n",
       " 'ALDO',\n",
       " 'Puma',\n",
       " 'Puma',\n",
       " 'Puma',\n",
       " 'Hush Puppies',\n",
       " 'Nike',\n",
       " 'Puma',\n",
       " 'Puma',\n",
       " 'ASICS',\n",
       " 'Skechers',\n",
       " 'Hush Puppies',\n",
       " 'Hush Puppies',\n",
       " 'Saint G',\n",
       " 'Bugatti',\n",
       " 'Puma',\n",
       " 'Hush Puppies',\n",
       " 'J.FONTINI',\n",
       " 'Saint G',\n",
       " 'TRIBAN By Decathlon',\n",
       " 'Hush Puppies',\n",
       " 'Columbia',\n",
       " 'Sole To Soul',\n",
       " 'Tommy Hilfiger',\n",
       " 'Tommy Hilfiger',\n",
       " 'MANGO',\n",
       " 'Puma',\n",
       " 'Heel & Buckle London',\n",
       " 'Geox',\n",
       " 'Geox',\n",
       " 'ALDO',\n",
       " 'ALDO',\n",
       " 'ALDO',\n",
       " 'J.FONTINI',\n",
       " 'Bugatti',\n",
       " 'J.FONTINI',\n",
       " 'Saint G',\n",
       " 'DAVINCHI',\n",
       " 'MANGO',\n",
       " 'Sole To Soul',\n",
       " 'Geox',\n",
       " 'Sole To Soul',\n",
       " 'Sole To Soul',\n",
       " 'ROSSO BRUNELLO',\n",
       " 'Heel & Buckle London',\n",
       " 'DAVINCHI']"
      ]
     },
     "execution_count": 362,
     "metadata": {},
     "output_type": "execute_result"
    }
   ],
   "source": [
    "brandshoe_1=[]\n",
    "\n",
    "for i in shoe_brand1:\n",
    "    brandshoe_1.append(i.text)\n",
    "    \n",
    "brandshoe_1[0:50]"
   ]
  },
  {
   "cell_type": "code",
   "execution_count": null,
   "id": "ae5f02b5",
   "metadata": {},
   "outputs": [],
   "source": []
  },
  {
   "cell_type": "code",
   "execution_count": 363,
   "id": "4a8cae2a",
   "metadata": {},
   "outputs": [
    {
     "data": {
      "text/plain": [
       "[<selenium.webdriver.remote.webelement.WebElement (session=\"83c20fd79ca48ac45e24a5fddd18a07b\", element=\"40bfe31c-b869-4969-821c-17d1c00b7ef5\")>,\n",
       " <selenium.webdriver.remote.webelement.WebElement (session=\"83c20fd79ca48ac45e24a5fddd18a07b\", element=\"28c7dceb-ac67-4990-8a5b-33992d38d353\")>,\n",
       " <selenium.webdriver.remote.webelement.WebElement (session=\"83c20fd79ca48ac45e24a5fddd18a07b\", element=\"3125f422-4700-4988-afc4-2d6e86e1bc74\")>,\n",
       " <selenium.webdriver.remote.webelement.WebElement (session=\"83c20fd79ca48ac45e24a5fddd18a07b\", element=\"41194d3d-4c34-4a21-8e91-5f1767c2d8b4\")>,\n",
       " <selenium.webdriver.remote.webelement.WebElement (session=\"83c20fd79ca48ac45e24a5fddd18a07b\", element=\"58a957a3-feda-4573-ac59-114969e8014a\")>,\n",
       " <selenium.webdriver.remote.webelement.WebElement (session=\"83c20fd79ca48ac45e24a5fddd18a07b\", element=\"25618037-b4fd-4f6e-b740-580805a873df\")>,\n",
       " <selenium.webdriver.remote.webelement.WebElement (session=\"83c20fd79ca48ac45e24a5fddd18a07b\", element=\"e2a8031e-88d2-437c-a0ef-32aab8d95fd8\")>,\n",
       " <selenium.webdriver.remote.webelement.WebElement (session=\"83c20fd79ca48ac45e24a5fddd18a07b\", element=\"de7c451e-7874-4b10-bb0b-c1f7b97dc97a\")>,\n",
       " <selenium.webdriver.remote.webelement.WebElement (session=\"83c20fd79ca48ac45e24a5fddd18a07b\", element=\"4f802ee4-7648-41f0-9add-15f4191efe10\")>,\n",
       " <selenium.webdriver.remote.webelement.WebElement (session=\"83c20fd79ca48ac45e24a5fddd18a07b\", element=\"bdeea83f-51e0-43f8-9c4f-11cb7f25c7bf\")>,\n",
       " <selenium.webdriver.remote.webelement.WebElement (session=\"83c20fd79ca48ac45e24a5fddd18a07b\", element=\"df324183-b1bc-42c4-8881-1864d5aedd49\")>,\n",
       " <selenium.webdriver.remote.webelement.WebElement (session=\"83c20fd79ca48ac45e24a5fddd18a07b\", element=\"7f040425-061b-42f8-ab65-f380098efdcd\")>,\n",
       " <selenium.webdriver.remote.webelement.WebElement (session=\"83c20fd79ca48ac45e24a5fddd18a07b\", element=\"d9f2ed9f-2afd-42f6-ad26-d5428f1c28fc\")>,\n",
       " <selenium.webdriver.remote.webelement.WebElement (session=\"83c20fd79ca48ac45e24a5fddd18a07b\", element=\"e2ff2e30-6705-4055-9f7b-5f83e5f98052\")>,\n",
       " <selenium.webdriver.remote.webelement.WebElement (session=\"83c20fd79ca48ac45e24a5fddd18a07b\", element=\"0af81c70-2676-4e43-a167-ee1097c331f8\")>,\n",
       " <selenium.webdriver.remote.webelement.WebElement (session=\"83c20fd79ca48ac45e24a5fddd18a07b\", element=\"d57b1a2d-a4a1-4637-b66c-e663bfd74d3a\")>,\n",
       " <selenium.webdriver.remote.webelement.WebElement (session=\"83c20fd79ca48ac45e24a5fddd18a07b\", element=\"57b82ff4-8218-4dbe-b150-1fccba855a36\")>,\n",
       " <selenium.webdriver.remote.webelement.WebElement (session=\"83c20fd79ca48ac45e24a5fddd18a07b\", element=\"f006276e-c64f-4c84-a71f-e97f7e0f2f1f\")>,\n",
       " <selenium.webdriver.remote.webelement.WebElement (session=\"83c20fd79ca48ac45e24a5fddd18a07b\", element=\"710d7a6d-71dc-4aed-9676-1cc23da86234\")>,\n",
       " <selenium.webdriver.remote.webelement.WebElement (session=\"83c20fd79ca48ac45e24a5fddd18a07b\", element=\"44bbd63a-db07-4581-a0da-86598f51d643\")>,\n",
       " <selenium.webdriver.remote.webelement.WebElement (session=\"83c20fd79ca48ac45e24a5fddd18a07b\", element=\"470e5d94-cdd9-4c06-9fa3-43db454e763a\")>,\n",
       " <selenium.webdriver.remote.webelement.WebElement (session=\"83c20fd79ca48ac45e24a5fddd18a07b\", element=\"9179419a-98fc-4c13-a824-24362e6fcce2\")>,\n",
       " <selenium.webdriver.remote.webelement.WebElement (session=\"83c20fd79ca48ac45e24a5fddd18a07b\", element=\"66e41a74-ac4e-48d5-b692-691292125352\")>,\n",
       " <selenium.webdriver.remote.webelement.WebElement (session=\"83c20fd79ca48ac45e24a5fddd18a07b\", element=\"d0d70fe6-d4ed-475f-9297-d8bbac4d3d5e\")>,\n",
       " <selenium.webdriver.remote.webelement.WebElement (session=\"83c20fd79ca48ac45e24a5fddd18a07b\", element=\"43061b9b-5fa6-47ed-ab72-b79d3d4b49f9\")>,\n",
       " <selenium.webdriver.remote.webelement.WebElement (session=\"83c20fd79ca48ac45e24a5fddd18a07b\", element=\"afc2b4e0-d5f3-49de-bdca-5ddd23cea2fe\")>,\n",
       " <selenium.webdriver.remote.webelement.WebElement (session=\"83c20fd79ca48ac45e24a5fddd18a07b\", element=\"818105d7-dfdb-4935-b3a0-68e6a1321e28\")>,\n",
       " <selenium.webdriver.remote.webelement.WebElement (session=\"83c20fd79ca48ac45e24a5fddd18a07b\", element=\"19bbef26-1571-4349-957f-aa985950563d\")>,\n",
       " <selenium.webdriver.remote.webelement.WebElement (session=\"83c20fd79ca48ac45e24a5fddd18a07b\", element=\"e7e29ae0-fa54-4957-a02c-d963744624ad\")>,\n",
       " <selenium.webdriver.remote.webelement.WebElement (session=\"83c20fd79ca48ac45e24a5fddd18a07b\", element=\"793ef556-4da7-4997-b9f2-c0c46df4d2cf\")>,\n",
       " <selenium.webdriver.remote.webelement.WebElement (session=\"83c20fd79ca48ac45e24a5fddd18a07b\", element=\"7703d54c-38c9-4eba-b5c2-a73ccdc40bbc\")>,\n",
       " <selenium.webdriver.remote.webelement.WebElement (session=\"83c20fd79ca48ac45e24a5fddd18a07b\", element=\"500fcf01-8fb6-4367-b4c3-0247fa8dca63\")>,\n",
       " <selenium.webdriver.remote.webelement.WebElement (session=\"83c20fd79ca48ac45e24a5fddd18a07b\", element=\"99430bee-7a72-4865-a6bb-68cb4bee93b3\")>,\n",
       " <selenium.webdriver.remote.webelement.WebElement (session=\"83c20fd79ca48ac45e24a5fddd18a07b\", element=\"d539e102-538c-4c70-8d07-1c9f02874617\")>,\n",
       " <selenium.webdriver.remote.webelement.WebElement (session=\"83c20fd79ca48ac45e24a5fddd18a07b\", element=\"d260ebe4-3937-4ca6-bffd-d475a9cc1050\")>,\n",
       " <selenium.webdriver.remote.webelement.WebElement (session=\"83c20fd79ca48ac45e24a5fddd18a07b\", element=\"34395b8f-66ea-408c-85ec-1d1eef490217\")>,\n",
       " <selenium.webdriver.remote.webelement.WebElement (session=\"83c20fd79ca48ac45e24a5fddd18a07b\", element=\"cd2137ee-f2d4-44d9-8ba1-c2fff73f440b\")>,\n",
       " <selenium.webdriver.remote.webelement.WebElement (session=\"83c20fd79ca48ac45e24a5fddd18a07b\", element=\"76399a03-957b-43d7-abf8-a2342592fa92\")>,\n",
       " <selenium.webdriver.remote.webelement.WebElement (session=\"83c20fd79ca48ac45e24a5fddd18a07b\", element=\"cd9808e8-fcf7-40b3-b0b8-b005b90731eb\")>,\n",
       " <selenium.webdriver.remote.webelement.WebElement (session=\"83c20fd79ca48ac45e24a5fddd18a07b\", element=\"53224e53-7a23-49b2-bb10-5e8df43cb0f9\")>,\n",
       " <selenium.webdriver.remote.webelement.WebElement (session=\"83c20fd79ca48ac45e24a5fddd18a07b\", element=\"dc94fe90-7010-4b64-872d-0aa4bc32656e\")>,\n",
       " <selenium.webdriver.remote.webelement.WebElement (session=\"83c20fd79ca48ac45e24a5fddd18a07b\", element=\"91a796c2-e975-4d8b-a049-e83ebcd8aeb5\")>,\n",
       " <selenium.webdriver.remote.webelement.WebElement (session=\"83c20fd79ca48ac45e24a5fddd18a07b\", element=\"521f3c6b-53ad-4d46-b439-b744952a4fca\")>,\n",
       " <selenium.webdriver.remote.webelement.WebElement (session=\"83c20fd79ca48ac45e24a5fddd18a07b\", element=\"694cf4c5-0514-48b3-a8fb-fef9a1e34ab6\")>,\n",
       " <selenium.webdriver.remote.webelement.WebElement (session=\"83c20fd79ca48ac45e24a5fddd18a07b\", element=\"53715aff-711a-476f-8936-0096fa40554e\")>,\n",
       " <selenium.webdriver.remote.webelement.WebElement (session=\"83c20fd79ca48ac45e24a5fddd18a07b\", element=\"68829355-820f-4b36-88ff-b373967c715f\")>,\n",
       " <selenium.webdriver.remote.webelement.WebElement (session=\"83c20fd79ca48ac45e24a5fddd18a07b\", element=\"30b422ed-60aa-4147-97e8-49a4d59ff54c\")>,\n",
       " <selenium.webdriver.remote.webelement.WebElement (session=\"83c20fd79ca48ac45e24a5fddd18a07b\", element=\"fae3b7b1-ffbc-417d-996a-233ae39161f4\")>,\n",
       " <selenium.webdriver.remote.webelement.WebElement (session=\"83c20fd79ca48ac45e24a5fddd18a07b\", element=\"263b3265-f897-48d0-8255-2300c390ac2f\")>,\n",
       " <selenium.webdriver.remote.webelement.WebElement (session=\"83c20fd79ca48ac45e24a5fddd18a07b\", element=\"aebfe69d-ab90-4d8d-8eec-1bca5751a34c\")>]"
      ]
     },
     "execution_count": 363,
     "metadata": {},
     "output_type": "execute_result"
    }
   ],
   "source": [
    "shoedesc_1=driver.find_elements_by_class_name('product-product')\n",
    "shoedesc_1"
   ]
  },
  {
   "cell_type": "code",
   "execution_count": null,
   "id": "6d2602ba",
   "metadata": {},
   "outputs": [],
   "source": []
  },
  {
   "cell_type": "code",
   "execution_count": 364,
   "id": "4e7af97f",
   "metadata": {},
   "outputs": [
    {
     "data": {
      "text/plain": [
       "50"
      ]
     },
     "execution_count": 364,
     "metadata": {},
     "output_type": "execute_result"
    }
   ],
   "source": [
    "len(shoedesc_1)"
   ]
  },
  {
   "cell_type": "code",
   "execution_count": null,
   "id": "12b4a0a3",
   "metadata": {},
   "outputs": [],
   "source": []
  },
  {
   "cell_type": "code",
   "execution_count": 365,
   "id": "be26b592",
   "metadata": {},
   "outputs": [
    {
     "data": {
      "text/plain": [
       "['Men Leather Driving Shoes',\n",
       " 'Men Zig Dynamica 2.0 Running',\n",
       " 'Men Winflo 7 Running Shoes',\n",
       " 'Men Printed Sneakers',\n",
       " 'Men Cleated Leather Sneakers',\n",
       " 'Men Woven Design Sneakers',\n",
       " 'Men Jamming 2.0 Running Shoes',\n",
       " 'Eternity Nitro Running Shoes',\n",
       " 'Electrify Nitro Running Shoes',\n",
       " 'Men Solid Leather Formal Slip-Ons',\n",
       " 'Men Air Max Dawn Sneakers',\n",
       " 'Men FUSE Training Shoes',\n",
       " 'Men Training or Gym Shoes',\n",
       " 'Women Running Shoes',\n",
       " 'Men Go Run Hyper Burst Running',\n",
       " 'Men Solid Leather Formal Slip-Ons',\n",
       " 'Men Formal Derbys',\n",
       " 'Men Mid-Top Chelsea Boots',\n",
       " 'Men Solid Leather Formal Derbys',\n",
       " 'Women Velocity NITRO Runners',\n",
       " 'Men Solid Formal Slip-Ons',\n",
       " 'Men Black Leather Loafers',\n",
       " 'Women Leather Block Heels',\n",
       " 'Unisex Training or Gym Shoes',\n",
       " 'Men Solid Leather Formal Derbys',\n",
       " 'Men FACET OUTDRY Trekking Shoe',\n",
       " 'Women Block Heeled Boots',\n",
       " 'Women CLEAT Textured Sneakers',\n",
       " 'Leather Sandals',\n",
       " 'Women Solid Sneakers',\n",
       " 'Women Eternity NITRO Shoes',\n",
       " 'Men Suede Loafers',\n",
       " 'Men Striped Leather Sneakers',\n",
       " 'Men Leather Driving Shoes',\n",
       " 'Wedge Sandals',\n",
       " 'Leather Slim Heels',\n",
       " 'Wedge Sandals',\n",
       " 'Men Textured Leather Loafers',\n",
       " 'Men Textured Leather High-Top Flat Boots',\n",
       " 'Men Textured Leather Loafers',\n",
       " 'Leather High-Top Heeled Boots',\n",
       " 'Men Textured Formal Leather Loafers',\n",
       " 'Women Heeled Leather Loafers',\n",
       " 'High-Top Block Heeled Boots',\n",
       " 'Women Leather Pumps',\n",
       " 'High-Top Platform Heeled Boots',\n",
       " 'Suede High-Top Block Heeled Boots',\n",
       " 'Printed PU Kitten Sandals',\n",
       " 'Men Formal Leather Derby',\n",
       " 'Solid Slip On Shoes']"
      ]
     },
     "execution_count": 365,
     "metadata": {},
     "output_type": "execute_result"
    }
   ],
   "source": [
    "descshoe_1=[]\n",
    "\n",
    "for i in shoedesc_1:\n",
    "    descshoe_1.append(i.text)\n",
    "    \n",
    "descshoe_1[0:50]"
   ]
  },
  {
   "cell_type": "code",
   "execution_count": null,
   "id": "4a476520",
   "metadata": {},
   "outputs": [],
   "source": []
  },
  {
   "cell_type": "code",
   "execution_count": 366,
   "id": "511c1d07",
   "metadata": {},
   "outputs": [
    {
     "data": {
      "text/plain": [
       "[<selenium.webdriver.remote.webelement.WebElement (session=\"83c20fd79ca48ac45e24a5fddd18a07b\", element=\"4ef61a54-164d-4ce2-9fb5-9297fdffdbc6\")>,\n",
       " <selenium.webdriver.remote.webelement.WebElement (session=\"83c20fd79ca48ac45e24a5fddd18a07b\", element=\"f951f53a-8dd9-458a-bedb-a4bb793ad1df\")>,\n",
       " <selenium.webdriver.remote.webelement.WebElement (session=\"83c20fd79ca48ac45e24a5fddd18a07b\", element=\"70cd0da7-f160-4018-b874-eec7ea3588ed\")>,\n",
       " <selenium.webdriver.remote.webelement.WebElement (session=\"83c20fd79ca48ac45e24a5fddd18a07b\", element=\"81a3a8f4-10f4-4550-8df3-0860741db76e\")>,\n",
       " <selenium.webdriver.remote.webelement.WebElement (session=\"83c20fd79ca48ac45e24a5fddd18a07b\", element=\"4a9cf232-79fa-488c-b3b8-26159b9995b5\")>,\n",
       " <selenium.webdriver.remote.webelement.WebElement (session=\"83c20fd79ca48ac45e24a5fddd18a07b\", element=\"50bcfc5b-445f-4189-8bd8-6ae72abfd926\")>,\n",
       " <selenium.webdriver.remote.webelement.WebElement (session=\"83c20fd79ca48ac45e24a5fddd18a07b\", element=\"c8de4cd2-38d0-4a4f-ba19-0732ddc5efec\")>,\n",
       " <selenium.webdriver.remote.webelement.WebElement (session=\"83c20fd79ca48ac45e24a5fddd18a07b\", element=\"eeebc492-3dc0-4273-a6e0-397bdd0398ae\")>,\n",
       " <selenium.webdriver.remote.webelement.WebElement (session=\"83c20fd79ca48ac45e24a5fddd18a07b\", element=\"0e38a1f5-29bc-4ebd-8fd6-2bcdd330f7ec\")>,\n",
       " <selenium.webdriver.remote.webelement.WebElement (session=\"83c20fd79ca48ac45e24a5fddd18a07b\", element=\"887a3851-ad8f-48a3-90cb-a6c197956ef6\")>,\n",
       " <selenium.webdriver.remote.webelement.WebElement (session=\"83c20fd79ca48ac45e24a5fddd18a07b\", element=\"2d67e069-4863-4650-ac36-c96c5208cbfe\")>,\n",
       " <selenium.webdriver.remote.webelement.WebElement (session=\"83c20fd79ca48ac45e24a5fddd18a07b\", element=\"7005d520-9388-4cce-a19c-ff18f288bd4c\")>,\n",
       " <selenium.webdriver.remote.webelement.WebElement (session=\"83c20fd79ca48ac45e24a5fddd18a07b\", element=\"2acc302b-454b-46ea-ad09-d3715e63fb81\")>,\n",
       " <selenium.webdriver.remote.webelement.WebElement (session=\"83c20fd79ca48ac45e24a5fddd18a07b\", element=\"b947cb39-e9f3-49b2-b708-0e979daa422f\")>,\n",
       " <selenium.webdriver.remote.webelement.WebElement (session=\"83c20fd79ca48ac45e24a5fddd18a07b\", element=\"dbdbc0b9-caa2-483e-ab52-4423ec3f97ca\")>,\n",
       " <selenium.webdriver.remote.webelement.WebElement (session=\"83c20fd79ca48ac45e24a5fddd18a07b\", element=\"d11338f6-d226-4f03-9130-bda37aeeeb46\")>,\n",
       " <selenium.webdriver.remote.webelement.WebElement (session=\"83c20fd79ca48ac45e24a5fddd18a07b\", element=\"4c118c2d-317d-4300-9b59-00dc9aa1d8cd\")>,\n",
       " <selenium.webdriver.remote.webelement.WebElement (session=\"83c20fd79ca48ac45e24a5fddd18a07b\", element=\"f25564c7-f1d7-4e78-8474-eacc85cc1984\")>,\n",
       " <selenium.webdriver.remote.webelement.WebElement (session=\"83c20fd79ca48ac45e24a5fddd18a07b\", element=\"10abbe9a-8055-4b48-9464-9e80b9bd2f3b\")>,\n",
       " <selenium.webdriver.remote.webelement.WebElement (session=\"83c20fd79ca48ac45e24a5fddd18a07b\", element=\"0a1d8850-0e01-43f3-b08d-e0985333a62e\")>,\n",
       " <selenium.webdriver.remote.webelement.WebElement (session=\"83c20fd79ca48ac45e24a5fddd18a07b\", element=\"e2728e16-eb69-4900-adb1-56e5fd3c8514\")>,\n",
       " <selenium.webdriver.remote.webelement.WebElement (session=\"83c20fd79ca48ac45e24a5fddd18a07b\", element=\"9765ebcc-ee99-4962-bf9b-a0d6028ae737\")>,\n",
       " <selenium.webdriver.remote.webelement.WebElement (session=\"83c20fd79ca48ac45e24a5fddd18a07b\", element=\"9acc8ebb-f8c8-44db-83a6-e0bc84ef98ef\")>,\n",
       " <selenium.webdriver.remote.webelement.WebElement (session=\"83c20fd79ca48ac45e24a5fddd18a07b\", element=\"efacddb1-a12e-41b3-b5f2-66ddde17edc1\")>,\n",
       " <selenium.webdriver.remote.webelement.WebElement (session=\"83c20fd79ca48ac45e24a5fddd18a07b\", element=\"1f9f4bcf-9384-46ae-be24-8af65305b362\")>,\n",
       " <selenium.webdriver.remote.webelement.WebElement (session=\"83c20fd79ca48ac45e24a5fddd18a07b\", element=\"e54e7e37-b928-4125-8489-4e9fa23d0f8e\")>,\n",
       " <selenium.webdriver.remote.webelement.WebElement (session=\"83c20fd79ca48ac45e24a5fddd18a07b\", element=\"848289a3-6441-4b27-bf24-e294c4d1af12\")>,\n",
       " <selenium.webdriver.remote.webelement.WebElement (session=\"83c20fd79ca48ac45e24a5fddd18a07b\", element=\"0a52af39-57cc-4464-b40a-8ff01abcc4b6\")>,\n",
       " <selenium.webdriver.remote.webelement.WebElement (session=\"83c20fd79ca48ac45e24a5fddd18a07b\", element=\"5ba308b7-6b04-48a2-a5f1-c9fc0fb83df1\")>,\n",
       " <selenium.webdriver.remote.webelement.WebElement (session=\"83c20fd79ca48ac45e24a5fddd18a07b\", element=\"79c184e2-5b31-4386-bc4e-a527dbc3c7d6\")>,\n",
       " <selenium.webdriver.remote.webelement.WebElement (session=\"83c20fd79ca48ac45e24a5fddd18a07b\", element=\"6afdb70f-f177-45bf-95db-3458f32b050d\")>,\n",
       " <selenium.webdriver.remote.webelement.WebElement (session=\"83c20fd79ca48ac45e24a5fddd18a07b\", element=\"02a2a5b4-f360-4afc-80a1-2e9ff10f0967\")>,\n",
       " <selenium.webdriver.remote.webelement.WebElement (session=\"83c20fd79ca48ac45e24a5fddd18a07b\", element=\"a517aa54-482f-4604-b559-0c237db4362e\")>,\n",
       " <selenium.webdriver.remote.webelement.WebElement (session=\"83c20fd79ca48ac45e24a5fddd18a07b\", element=\"dcfd9885-0026-4e36-a7b0-0b1739f62808\")>,\n",
       " <selenium.webdriver.remote.webelement.WebElement (session=\"83c20fd79ca48ac45e24a5fddd18a07b\", element=\"4a644b75-cc8c-42be-9e52-aee46b3323f1\")>,\n",
       " <selenium.webdriver.remote.webelement.WebElement (session=\"83c20fd79ca48ac45e24a5fddd18a07b\", element=\"060a5da1-477a-4c27-8e72-3d77008b13c0\")>,\n",
       " <selenium.webdriver.remote.webelement.WebElement (session=\"83c20fd79ca48ac45e24a5fddd18a07b\", element=\"0a5f43d9-f783-45c3-b05c-daf87c4d2c5c\")>,\n",
       " <selenium.webdriver.remote.webelement.WebElement (session=\"83c20fd79ca48ac45e24a5fddd18a07b\", element=\"d5e999c9-c0c2-4c8d-be39-6d89d1704f87\")>,\n",
       " <selenium.webdriver.remote.webelement.WebElement (session=\"83c20fd79ca48ac45e24a5fddd18a07b\", element=\"9d67448b-3070-4a49-a2e2-a00229d0b160\")>,\n",
       " <selenium.webdriver.remote.webelement.WebElement (session=\"83c20fd79ca48ac45e24a5fddd18a07b\", element=\"85f6fb94-e90d-4780-8dbd-398ebefdc0e4\")>,\n",
       " <selenium.webdriver.remote.webelement.WebElement (session=\"83c20fd79ca48ac45e24a5fddd18a07b\", element=\"c698b25d-4291-4b83-9cbd-310f6b4d68d7\")>,\n",
       " <selenium.webdriver.remote.webelement.WebElement (session=\"83c20fd79ca48ac45e24a5fddd18a07b\", element=\"dbc60675-3574-462e-b410-f1a834e8c1a2\")>,\n",
       " <selenium.webdriver.remote.webelement.WebElement (session=\"83c20fd79ca48ac45e24a5fddd18a07b\", element=\"365c5a07-5357-4acb-a81b-16c7bf185a87\")>,\n",
       " <selenium.webdriver.remote.webelement.WebElement (session=\"83c20fd79ca48ac45e24a5fddd18a07b\", element=\"687201da-b85f-4d67-8971-5ef344a52317\")>,\n",
       " <selenium.webdriver.remote.webelement.WebElement (session=\"83c20fd79ca48ac45e24a5fddd18a07b\", element=\"b49c095d-0df4-4371-a11b-21d8736a2d9b\")>,\n",
       " <selenium.webdriver.remote.webelement.WebElement (session=\"83c20fd79ca48ac45e24a5fddd18a07b\", element=\"3f3502d7-6350-4ae9-8638-c21034f01bbd\")>,\n",
       " <selenium.webdriver.remote.webelement.WebElement (session=\"83c20fd79ca48ac45e24a5fddd18a07b\", element=\"0ad069ed-3c64-4dc8-9f79-a06e996f02ff\")>,\n",
       " <selenium.webdriver.remote.webelement.WebElement (session=\"83c20fd79ca48ac45e24a5fddd18a07b\", element=\"52269838-a5a7-4a0f-8a20-c990f93d08df\")>,\n",
       " <selenium.webdriver.remote.webelement.WebElement (session=\"83c20fd79ca48ac45e24a5fddd18a07b\", element=\"13c78a38-fba0-4e88-9c9f-57a02eb50319\")>,\n",
       " <selenium.webdriver.remote.webelement.WebElement (session=\"83c20fd79ca48ac45e24a5fddd18a07b\", element=\"ff18a67c-c680-449c-bf9f-74673c238461\")>]"
      ]
     },
     "execution_count": 366,
     "metadata": {},
     "output_type": "execute_result"
    }
   ],
   "source": [
    "shoeprice_1=driver.find_elements_by_class_name('product-price')\n",
    "shoeprice_1"
   ]
  },
  {
   "cell_type": "code",
   "execution_count": null,
   "id": "846671b4",
   "metadata": {},
   "outputs": [],
   "source": []
  },
  {
   "cell_type": "code",
   "execution_count": 367,
   "id": "6f1913c7",
   "metadata": {},
   "outputs": [
    {
     "data": {
      "text/plain": [
       "50"
      ]
     },
     "execution_count": 367,
     "metadata": {},
     "output_type": "execute_result"
    }
   ],
   "source": [
    "len(shoeprice_1)"
   ]
  },
  {
   "cell_type": "code",
   "execution_count": null,
   "id": "ea9b8339",
   "metadata": {},
   "outputs": [],
   "source": []
  },
  {
   "cell_type": "code",
   "execution_count": 368,
   "id": "bf5e5b7d",
   "metadata": {
    "scrolled": true
   },
   "outputs": [
    {
     "data": {
      "text/plain": [
       "['Rs. 12999',\n",
       " 'Rs. 7999',\n",
       " 'Rs. 7995',\n",
       " 'Rs. 9099Rs. 12999(30% OFF)',\n",
       " 'Rs. 7739Rs. 8599(10% OFF)',\n",
       " 'Rs. 13999',\n",
       " 'Rs. 12999',\n",
       " 'Rs. 12999',\n",
       " 'Rs. 9999',\n",
       " 'Rs. 7649Rs. 8999(15% OFF)',\n",
       " 'Rs. 10995',\n",
       " 'Rs. 7999',\n",
       " 'Rs. 7999',\n",
       " 'Rs. 7999',\n",
       " 'Rs. 7224Rs. 8499(15% OFF)',\n",
       " 'Rs. 8499Rs. 9999(15% OFF)',\n",
       " 'Rs. 8499Rs. 9999(15% OFF)',\n",
       " 'Rs. 10500Rs. 10900(Rs. 400 OFF)',\n",
       " 'Rs. 9499',\n",
       " 'Rs. 8249Rs. 10999(25% OFF)',\n",
       " 'Rs. 8499Rs. 9999(15% OFF)',\n",
       " 'Rs. 8490',\n",
       " 'Rs. 9500',\n",
       " 'Rs. 8579Rs. 10999(22% OFF)',\n",
       " 'Rs. 8499Rs. 9999(15% OFF)',\n",
       " 'Rs. 12999',\n",
       " 'Rs. 8900',\n",
       " 'Rs. 7739Rs. 8599(10% OFF)',\n",
       " 'Rs. 7599',\n",
       " 'Rs. 8990',\n",
       " 'Rs. 9099Rs. 12999(30% OFF)',\n",
       " 'Rs. 12990',\n",
       " 'Rs. 9990',\n",
       " 'Rs. 9499',\n",
       " 'Rs. 7999',\n",
       " 'Rs. 8399Rs. 11999(30% OFF)',\n",
       " 'Rs. 7999',\n",
       " 'Rs. 8490',\n",
       " 'Rs. 8399Rs. 11999(30% OFF)',\n",
       " 'Rs. 7990',\n",
       " 'Rs. 10625Rs. 12500(15% OFF)',\n",
       " 'Rs. 8990',\n",
       " 'Rs. 7990',\n",
       " 'Rs. 7900',\n",
       " 'Rs. 8999',\n",
       " 'Rs. 8900',\n",
       " 'Rs. 9500',\n",
       " 'Rs. 8499',\n",
       " 'Rs. 7990',\n",
       " 'Rs. 7990']"
      ]
     },
     "execution_count": 368,
     "metadata": {},
     "output_type": "execute_result"
    }
   ],
   "source": [
    "priceshoe_1=[]\n",
    "\n",
    "for i in shoeprice_1:\n",
    "    priceshoe_1.append(i.text)\n",
    "\n",
    "priceshoe_1[0:50]"
   ]
  },
  {
   "cell_type": "code",
   "execution_count": null,
   "id": "fce32807",
   "metadata": {},
   "outputs": [],
   "source": []
  },
  {
   "cell_type": "code",
   "execution_count": 369,
   "id": "52574401",
   "metadata": {},
   "outputs": [
    {
     "data": {
      "text/html": [
       "<div>\n",
       "<style scoped>\n",
       "    .dataframe tbody tr th:only-of-type {\n",
       "        vertical-align: middle;\n",
       "    }\n",
       "\n",
       "    .dataframe tbody tr th {\n",
       "        vertical-align: top;\n",
       "    }\n",
       "\n",
       "    .dataframe thead th {\n",
       "        text-align: right;\n",
       "    }\n",
       "</style>\n",
       "<table border=\"1\" class=\"dataframe\">\n",
       "  <thead>\n",
       "    <tr style=\"text-align: right;\">\n",
       "      <th></th>\n",
       "      <th>Brand</th>\n",
       "      <th>Short Description</th>\n",
       "      <th>Price</th>\n",
       "    </tr>\n",
       "  </thead>\n",
       "  <tbody>\n",
       "    <tr>\n",
       "      <th>0</th>\n",
       "      <td>ALDO</td>\n",
       "      <td>Men Leather Driving Shoes</td>\n",
       "      <td>Rs. 12999</td>\n",
       "    </tr>\n",
       "    <tr>\n",
       "      <th>1</th>\n",
       "      <td>Reebok</td>\n",
       "      <td>Men Zig Dynamica 2.0 Running</td>\n",
       "      <td>Rs. 7999</td>\n",
       "    </tr>\n",
       "    <tr>\n",
       "      <th>2</th>\n",
       "      <td>Nike</td>\n",
       "      <td>Men Winflo 7 Running Shoes</td>\n",
       "      <td>Rs. 7995</td>\n",
       "    </tr>\n",
       "    <tr>\n",
       "      <th>3</th>\n",
       "      <td>ALDO</td>\n",
       "      <td>Men Printed Sneakers</td>\n",
       "      <td>Rs. 9099Rs. 12999(30% OFF)</td>\n",
       "    </tr>\n",
       "    <tr>\n",
       "      <th>4</th>\n",
       "      <td>Tommy Hilfiger</td>\n",
       "      <td>Men Cleated Leather Sneakers</td>\n",
       "      <td>Rs. 7739Rs. 8599(10% OFF)</td>\n",
       "    </tr>\n",
       "    <tr>\n",
       "      <th>5</th>\n",
       "      <td>ALDO</td>\n",
       "      <td>Men Woven Design Sneakers</td>\n",
       "      <td>Rs. 13999</td>\n",
       "    </tr>\n",
       "    <tr>\n",
       "      <th>6</th>\n",
       "      <td>Puma</td>\n",
       "      <td>Men Jamming 2.0 Running Shoes</td>\n",
       "      <td>Rs. 12999</td>\n",
       "    </tr>\n",
       "    <tr>\n",
       "      <th>7</th>\n",
       "      <td>Puma</td>\n",
       "      <td>Eternity Nitro Running Shoes</td>\n",
       "      <td>Rs. 12999</td>\n",
       "    </tr>\n",
       "    <tr>\n",
       "      <th>8</th>\n",
       "      <td>Puma</td>\n",
       "      <td>Electrify Nitro Running Shoes</td>\n",
       "      <td>Rs. 9999</td>\n",
       "    </tr>\n",
       "    <tr>\n",
       "      <th>9</th>\n",
       "      <td>Hush Puppies</td>\n",
       "      <td>Men Solid Leather Formal Slip-Ons</td>\n",
       "      <td>Rs. 7649Rs. 8999(15% OFF)</td>\n",
       "    </tr>\n",
       "    <tr>\n",
       "      <th>10</th>\n",
       "      <td>Nike</td>\n",
       "      <td>Men Air Max Dawn Sneakers</td>\n",
       "      <td>Rs. 10995</td>\n",
       "    </tr>\n",
       "    <tr>\n",
       "      <th>11</th>\n",
       "      <td>Puma</td>\n",
       "      <td>Men FUSE Training Shoes</td>\n",
       "      <td>Rs. 7999</td>\n",
       "    </tr>\n",
       "    <tr>\n",
       "      <th>12</th>\n",
       "      <td>Puma</td>\n",
       "      <td>Men Training or Gym Shoes</td>\n",
       "      <td>Rs. 7999</td>\n",
       "    </tr>\n",
       "    <tr>\n",
       "      <th>13</th>\n",
       "      <td>ASICS</td>\n",
       "      <td>Women Running Shoes</td>\n",
       "      <td>Rs. 7999</td>\n",
       "    </tr>\n",
       "    <tr>\n",
       "      <th>14</th>\n",
       "      <td>Skechers</td>\n",
       "      <td>Men Go Run Hyper Burst Running</td>\n",
       "      <td>Rs. 7224Rs. 8499(15% OFF)</td>\n",
       "    </tr>\n",
       "    <tr>\n",
       "      <th>15</th>\n",
       "      <td>Hush Puppies</td>\n",
       "      <td>Men Solid Leather Formal Slip-Ons</td>\n",
       "      <td>Rs. 8499Rs. 9999(15% OFF)</td>\n",
       "    </tr>\n",
       "    <tr>\n",
       "      <th>16</th>\n",
       "      <td>Hush Puppies</td>\n",
       "      <td>Men Formal Derbys</td>\n",
       "      <td>Rs. 8499Rs. 9999(15% OFF)</td>\n",
       "    </tr>\n",
       "    <tr>\n",
       "      <th>17</th>\n",
       "      <td>Saint G</td>\n",
       "      <td>Men Mid-Top Chelsea Boots</td>\n",
       "      <td>Rs. 10500Rs. 10900(Rs. 400 OFF)</td>\n",
       "    </tr>\n",
       "    <tr>\n",
       "      <th>18</th>\n",
       "      <td>Bugatti</td>\n",
       "      <td>Men Solid Leather Formal Derbys</td>\n",
       "      <td>Rs. 9499</td>\n",
       "    </tr>\n",
       "    <tr>\n",
       "      <th>19</th>\n",
       "      <td>Puma</td>\n",
       "      <td>Women Velocity NITRO Runners</td>\n",
       "      <td>Rs. 8249Rs. 10999(25% OFF)</td>\n",
       "    </tr>\n",
       "    <tr>\n",
       "      <th>20</th>\n",
       "      <td>Hush Puppies</td>\n",
       "      <td>Men Solid Formal Slip-Ons</td>\n",
       "      <td>Rs. 8499Rs. 9999(15% OFF)</td>\n",
       "    </tr>\n",
       "    <tr>\n",
       "      <th>21</th>\n",
       "      <td>J.FONTINI</td>\n",
       "      <td>Men Black Leather Loafers</td>\n",
       "      <td>Rs. 8490</td>\n",
       "    </tr>\n",
       "    <tr>\n",
       "      <th>22</th>\n",
       "      <td>Saint G</td>\n",
       "      <td>Women Leather Block Heels</td>\n",
       "      <td>Rs. 9500</td>\n",
       "    </tr>\n",
       "    <tr>\n",
       "      <th>23</th>\n",
       "      <td>TRIBAN By Decathlon</td>\n",
       "      <td>Unisex Training or Gym Shoes</td>\n",
       "      <td>Rs. 8579Rs. 10999(22% OFF)</td>\n",
       "    </tr>\n",
       "    <tr>\n",
       "      <th>24</th>\n",
       "      <td>Hush Puppies</td>\n",
       "      <td>Men Solid Leather Formal Derbys</td>\n",
       "      <td>Rs. 8499Rs. 9999(15% OFF)</td>\n",
       "    </tr>\n",
       "    <tr>\n",
       "      <th>25</th>\n",
       "      <td>Columbia</td>\n",
       "      <td>Men FACET OUTDRY Trekking Shoe</td>\n",
       "      <td>Rs. 12999</td>\n",
       "    </tr>\n",
       "    <tr>\n",
       "      <th>26</th>\n",
       "      <td>Sole To Soul</td>\n",
       "      <td>Women Block Heeled Boots</td>\n",
       "      <td>Rs. 8900</td>\n",
       "    </tr>\n",
       "    <tr>\n",
       "      <th>27</th>\n",
       "      <td>Tommy Hilfiger</td>\n",
       "      <td>Women CLEAT Textured Sneakers</td>\n",
       "      <td>Rs. 7739Rs. 8599(10% OFF)</td>\n",
       "    </tr>\n",
       "    <tr>\n",
       "      <th>28</th>\n",
       "      <td>Tommy Hilfiger</td>\n",
       "      <td>Leather Sandals</td>\n",
       "      <td>Rs. 7599</td>\n",
       "    </tr>\n",
       "    <tr>\n",
       "      <th>29</th>\n",
       "      <td>MANGO</td>\n",
       "      <td>Women Solid Sneakers</td>\n",
       "      <td>Rs. 8990</td>\n",
       "    </tr>\n",
       "    <tr>\n",
       "      <th>30</th>\n",
       "      <td>Puma</td>\n",
       "      <td>Women Eternity NITRO Shoes</td>\n",
       "      <td>Rs. 9099Rs. 12999(30% OFF)</td>\n",
       "    </tr>\n",
       "    <tr>\n",
       "      <th>31</th>\n",
       "      <td>Heel &amp; Buckle London</td>\n",
       "      <td>Men Suede Loafers</td>\n",
       "      <td>Rs. 12990</td>\n",
       "    </tr>\n",
       "    <tr>\n",
       "      <th>32</th>\n",
       "      <td>Geox</td>\n",
       "      <td>Men Striped Leather Sneakers</td>\n",
       "      <td>Rs. 9990</td>\n",
       "    </tr>\n",
       "    <tr>\n",
       "      <th>33</th>\n",
       "      <td>Geox</td>\n",
       "      <td>Men Leather Driving Shoes</td>\n",
       "      <td>Rs. 9499</td>\n",
       "    </tr>\n",
       "    <tr>\n",
       "      <th>34</th>\n",
       "      <td>ALDO</td>\n",
       "      <td>Wedge Sandals</td>\n",
       "      <td>Rs. 7999</td>\n",
       "    </tr>\n",
       "    <tr>\n",
       "      <th>35</th>\n",
       "      <td>ALDO</td>\n",
       "      <td>Leather Slim Heels</td>\n",
       "      <td>Rs. 8399Rs. 11999(30% OFF)</td>\n",
       "    </tr>\n",
       "    <tr>\n",
       "      <th>36</th>\n",
       "      <td>ALDO</td>\n",
       "      <td>Wedge Sandals</td>\n",
       "      <td>Rs. 7999</td>\n",
       "    </tr>\n",
       "    <tr>\n",
       "      <th>37</th>\n",
       "      <td>J.FONTINI</td>\n",
       "      <td>Men Textured Leather Loafers</td>\n",
       "      <td>Rs. 8490</td>\n",
       "    </tr>\n",
       "    <tr>\n",
       "      <th>38</th>\n",
       "      <td>Bugatti</td>\n",
       "      <td>Men Textured Leather High-Top Flat Boots</td>\n",
       "      <td>Rs. 8399Rs. 11999(30% OFF)</td>\n",
       "    </tr>\n",
       "    <tr>\n",
       "      <th>39</th>\n",
       "      <td>J.FONTINI</td>\n",
       "      <td>Men Textured Leather Loafers</td>\n",
       "      <td>Rs. 7990</td>\n",
       "    </tr>\n",
       "    <tr>\n",
       "      <th>40</th>\n",
       "      <td>Saint G</td>\n",
       "      <td>Leather High-Top Heeled Boots</td>\n",
       "      <td>Rs. 10625Rs. 12500(15% OFF)</td>\n",
       "    </tr>\n",
       "    <tr>\n",
       "      <th>41</th>\n",
       "      <td>DAVINCHI</td>\n",
       "      <td>Men Textured Formal Leather Loafers</td>\n",
       "      <td>Rs. 8990</td>\n",
       "    </tr>\n",
       "    <tr>\n",
       "      <th>42</th>\n",
       "      <td>MANGO</td>\n",
       "      <td>Women Heeled Leather Loafers</td>\n",
       "      <td>Rs. 7990</td>\n",
       "    </tr>\n",
       "    <tr>\n",
       "      <th>43</th>\n",
       "      <td>Sole To Soul</td>\n",
       "      <td>High-Top Block Heeled Boots</td>\n",
       "      <td>Rs. 7900</td>\n",
       "    </tr>\n",
       "    <tr>\n",
       "      <th>44</th>\n",
       "      <td>Geox</td>\n",
       "      <td>Women Leather Pumps</td>\n",
       "      <td>Rs. 8999</td>\n",
       "    </tr>\n",
       "    <tr>\n",
       "      <th>45</th>\n",
       "      <td>Sole To Soul</td>\n",
       "      <td>High-Top Platform Heeled Boots</td>\n",
       "      <td>Rs. 8900</td>\n",
       "    </tr>\n",
       "    <tr>\n",
       "      <th>46</th>\n",
       "      <td>Sole To Soul</td>\n",
       "      <td>Suede High-Top Block Heeled Boots</td>\n",
       "      <td>Rs. 9500</td>\n",
       "    </tr>\n",
       "    <tr>\n",
       "      <th>47</th>\n",
       "      <td>ROSSO BRUNELLO</td>\n",
       "      <td>Printed PU Kitten Sandals</td>\n",
       "      <td>Rs. 8499</td>\n",
       "    </tr>\n",
       "    <tr>\n",
       "      <th>48</th>\n",
       "      <td>Heel &amp; Buckle London</td>\n",
       "      <td>Men Formal Leather Derby</td>\n",
       "      <td>Rs. 7990</td>\n",
       "    </tr>\n",
       "    <tr>\n",
       "      <th>49</th>\n",
       "      <td>DAVINCHI</td>\n",
       "      <td>Solid Slip On Shoes</td>\n",
       "      <td>Rs. 7990</td>\n",
       "    </tr>\n",
       "  </tbody>\n",
       "</table>\n",
       "</div>"
      ],
      "text/plain": [
       "                   Brand                         Short Description  \\\n",
       "0                   ALDO                 Men Leather Driving Shoes   \n",
       "1                 Reebok              Men Zig Dynamica 2.0 Running   \n",
       "2                   Nike                Men Winflo 7 Running Shoes   \n",
       "3                   ALDO                      Men Printed Sneakers   \n",
       "4         Tommy Hilfiger              Men Cleated Leather Sneakers   \n",
       "5                   ALDO                 Men Woven Design Sneakers   \n",
       "6                   Puma             Men Jamming 2.0 Running Shoes   \n",
       "7                   Puma              Eternity Nitro Running Shoes   \n",
       "8                   Puma             Electrify Nitro Running Shoes   \n",
       "9           Hush Puppies         Men Solid Leather Formal Slip-Ons   \n",
       "10                  Nike                 Men Air Max Dawn Sneakers   \n",
       "11                  Puma                   Men FUSE Training Shoes   \n",
       "12                  Puma                 Men Training or Gym Shoes   \n",
       "13                 ASICS                       Women Running Shoes   \n",
       "14              Skechers            Men Go Run Hyper Burst Running   \n",
       "15          Hush Puppies         Men Solid Leather Formal Slip-Ons   \n",
       "16          Hush Puppies                         Men Formal Derbys   \n",
       "17               Saint G                 Men Mid-Top Chelsea Boots   \n",
       "18               Bugatti           Men Solid Leather Formal Derbys   \n",
       "19                  Puma              Women Velocity NITRO Runners   \n",
       "20          Hush Puppies                 Men Solid Formal Slip-Ons   \n",
       "21             J.FONTINI                 Men Black Leather Loafers   \n",
       "22               Saint G                 Women Leather Block Heels   \n",
       "23   TRIBAN By Decathlon              Unisex Training or Gym Shoes   \n",
       "24          Hush Puppies           Men Solid Leather Formal Derbys   \n",
       "25              Columbia            Men FACET OUTDRY Trekking Shoe   \n",
       "26          Sole To Soul                  Women Block Heeled Boots   \n",
       "27        Tommy Hilfiger             Women CLEAT Textured Sneakers   \n",
       "28        Tommy Hilfiger                           Leather Sandals   \n",
       "29                 MANGO                      Women Solid Sneakers   \n",
       "30                  Puma                Women Eternity NITRO Shoes   \n",
       "31  Heel & Buckle London                         Men Suede Loafers   \n",
       "32                  Geox              Men Striped Leather Sneakers   \n",
       "33                  Geox                 Men Leather Driving Shoes   \n",
       "34                  ALDO                             Wedge Sandals   \n",
       "35                  ALDO                        Leather Slim Heels   \n",
       "36                  ALDO                             Wedge Sandals   \n",
       "37             J.FONTINI              Men Textured Leather Loafers   \n",
       "38               Bugatti  Men Textured Leather High-Top Flat Boots   \n",
       "39             J.FONTINI              Men Textured Leather Loafers   \n",
       "40               Saint G             Leather High-Top Heeled Boots   \n",
       "41              DAVINCHI       Men Textured Formal Leather Loafers   \n",
       "42                 MANGO              Women Heeled Leather Loafers   \n",
       "43          Sole To Soul               High-Top Block Heeled Boots   \n",
       "44                  Geox                       Women Leather Pumps   \n",
       "45          Sole To Soul            High-Top Platform Heeled Boots   \n",
       "46          Sole To Soul         Suede High-Top Block Heeled Boots   \n",
       "47        ROSSO BRUNELLO                 Printed PU Kitten Sandals   \n",
       "48  Heel & Buckle London                  Men Formal Leather Derby   \n",
       "49              DAVINCHI                       Solid Slip On Shoes   \n",
       "\n",
       "                              Price  \n",
       "0                         Rs. 12999  \n",
       "1                          Rs. 7999  \n",
       "2                          Rs. 7995  \n",
       "3        Rs. 9099Rs. 12999(30% OFF)  \n",
       "4         Rs. 7739Rs. 8599(10% OFF)  \n",
       "5                         Rs. 13999  \n",
       "6                         Rs. 12999  \n",
       "7                         Rs. 12999  \n",
       "8                          Rs. 9999  \n",
       "9         Rs. 7649Rs. 8999(15% OFF)  \n",
       "10                        Rs. 10995  \n",
       "11                         Rs. 7999  \n",
       "12                         Rs. 7999  \n",
       "13                         Rs. 7999  \n",
       "14        Rs. 7224Rs. 8499(15% OFF)  \n",
       "15        Rs. 8499Rs. 9999(15% OFF)  \n",
       "16        Rs. 8499Rs. 9999(15% OFF)  \n",
       "17  Rs. 10500Rs. 10900(Rs. 400 OFF)  \n",
       "18                         Rs. 9499  \n",
       "19       Rs. 8249Rs. 10999(25% OFF)  \n",
       "20        Rs. 8499Rs. 9999(15% OFF)  \n",
       "21                         Rs. 8490  \n",
       "22                         Rs. 9500  \n",
       "23       Rs. 8579Rs. 10999(22% OFF)  \n",
       "24        Rs. 8499Rs. 9999(15% OFF)  \n",
       "25                        Rs. 12999  \n",
       "26                         Rs. 8900  \n",
       "27        Rs. 7739Rs. 8599(10% OFF)  \n",
       "28                         Rs. 7599  \n",
       "29                         Rs. 8990  \n",
       "30       Rs. 9099Rs. 12999(30% OFF)  \n",
       "31                        Rs. 12990  \n",
       "32                         Rs. 9990  \n",
       "33                         Rs. 9499  \n",
       "34                         Rs. 7999  \n",
       "35       Rs. 8399Rs. 11999(30% OFF)  \n",
       "36                         Rs. 7999  \n",
       "37                         Rs. 8490  \n",
       "38       Rs. 8399Rs. 11999(30% OFF)  \n",
       "39                         Rs. 7990  \n",
       "40      Rs. 10625Rs. 12500(15% OFF)  \n",
       "41                         Rs. 8990  \n",
       "42                         Rs. 7990  \n",
       "43                         Rs. 7900  \n",
       "44                         Rs. 8999  \n",
       "45                         Rs. 8900  \n",
       "46                         Rs. 9500  \n",
       "47                         Rs. 8499  \n",
       "48                         Rs. 7990  \n",
       "49                         Rs. 7990  "
      ]
     },
     "execution_count": 369,
     "metadata": {},
     "output_type": "execute_result"
    }
   ],
   "source": [
    "shoes1data=pd.DataFrame()\n",
    "shoes1data['Brand']=brandshoe_1\n",
    "shoes1data['Short Description']=descshoe_1\n",
    "shoes1data['Price']=priceshoe_1\n",
    "\n",
    "shoes1data"
   ]
  },
  {
   "cell_type": "code",
   "execution_count": null,
   "id": "60088ac5",
   "metadata": {},
   "outputs": [],
   "source": []
  },
  {
   "cell_type": "code",
   "execution_count": 376,
   "id": "67e7b379",
   "metadata": {},
   "outputs": [],
   "source": [
    "driver.execute_script(\"window.scrollBy(0,1000)\",\"\")"
   ]
  },
  {
   "cell_type": "code",
   "execution_count": 399,
   "id": "4cdc57a6",
   "metadata": {},
   "outputs": [],
   "source": [
    "driver.execute_script(\"window.scrollBy(0,200)\",\"\")"
   ]
  },
  {
   "cell_type": "code",
   "execution_count": 400,
   "id": "c4b8ca4b",
   "metadata": {},
   "outputs": [
    {
     "data": {
      "text/plain": [
       "<selenium.webdriver.remote.webelement.WebElement (session=\"83c20fd79ca48ac45e24a5fddd18a07b\", element=\"621cb68b-b665-4b44-98b8-bcb305ad6311\")>"
      ]
     },
     "execution_count": 400,
     "metadata": {},
     "output_type": "execute_result"
    }
   ],
   "source": [
    "shoes_p2=driver.find_element_by_xpath('/html/body/div[2]/div/div[1]/main/div[3]/div[2]/div/div[2]/section/div[2]/ul/li[3]/a')\n",
    "shoes_p2"
   ]
  },
  {
   "cell_type": "code",
   "execution_count": 401,
   "id": "ea08b423",
   "metadata": {},
   "outputs": [],
   "source": [
    "shoes_p2.click()"
   ]
  },
  {
   "cell_type": "code",
   "execution_count": 402,
   "id": "d817103a",
   "metadata": {
    "collapsed": true
   },
   "outputs": [
    {
     "data": {
      "text/plain": [
       "[<selenium.webdriver.remote.webelement.WebElement (session=\"83c20fd79ca48ac45e24a5fddd18a07b\", element=\"dc6e927e-8ad2-4f06-aa5c-ef076fdaecdf\")>,\n",
       " <selenium.webdriver.remote.webelement.WebElement (session=\"83c20fd79ca48ac45e24a5fddd18a07b\", element=\"04485725-b21f-4325-a357-4967534642ce\")>,\n",
       " <selenium.webdriver.remote.webelement.WebElement (session=\"83c20fd79ca48ac45e24a5fddd18a07b\", element=\"2af75364-6060-4cea-b4e7-ebcd9ed57a30\")>,\n",
       " <selenium.webdriver.remote.webelement.WebElement (session=\"83c20fd79ca48ac45e24a5fddd18a07b\", element=\"e218175e-c3c7-4da7-b612-5df1e3a08a22\")>,\n",
       " <selenium.webdriver.remote.webelement.WebElement (session=\"83c20fd79ca48ac45e24a5fddd18a07b\", element=\"688abec1-0458-4355-adcf-fe8bd2a8b6c2\")>,\n",
       " <selenium.webdriver.remote.webelement.WebElement (session=\"83c20fd79ca48ac45e24a5fddd18a07b\", element=\"cb9d1f79-3009-43bb-8707-c373bad39ee5\")>,\n",
       " <selenium.webdriver.remote.webelement.WebElement (session=\"83c20fd79ca48ac45e24a5fddd18a07b\", element=\"c5f0f186-5858-47ec-84b1-55759cf944c2\")>,\n",
       " <selenium.webdriver.remote.webelement.WebElement (session=\"83c20fd79ca48ac45e24a5fddd18a07b\", element=\"f174b388-c548-4dcf-9774-6ed212e39069\")>,\n",
       " <selenium.webdriver.remote.webelement.WebElement (session=\"83c20fd79ca48ac45e24a5fddd18a07b\", element=\"64016d34-ddf3-4347-bb0f-48890556fda6\")>,\n",
       " <selenium.webdriver.remote.webelement.WebElement (session=\"83c20fd79ca48ac45e24a5fddd18a07b\", element=\"aec78b80-b384-4682-9b41-8e8fb82487f3\")>,\n",
       " <selenium.webdriver.remote.webelement.WebElement (session=\"83c20fd79ca48ac45e24a5fddd18a07b\", element=\"342a9fe2-4068-4b20-876a-68dd6f200253\")>,\n",
       " <selenium.webdriver.remote.webelement.WebElement (session=\"83c20fd79ca48ac45e24a5fddd18a07b\", element=\"36937182-f902-4b88-b0c1-9160e36900c5\")>,\n",
       " <selenium.webdriver.remote.webelement.WebElement (session=\"83c20fd79ca48ac45e24a5fddd18a07b\", element=\"65a70763-fbff-438b-b184-36c2744c19a4\")>,\n",
       " <selenium.webdriver.remote.webelement.WebElement (session=\"83c20fd79ca48ac45e24a5fddd18a07b\", element=\"d77133bd-4714-49b1-8911-92101366e785\")>,\n",
       " <selenium.webdriver.remote.webelement.WebElement (session=\"83c20fd79ca48ac45e24a5fddd18a07b\", element=\"5b4b1e3e-ea77-45e5-bbaf-453f0da030e3\")>,\n",
       " <selenium.webdriver.remote.webelement.WebElement (session=\"83c20fd79ca48ac45e24a5fddd18a07b\", element=\"f50589e3-4b92-4283-b2b6-8f8226ded380\")>,\n",
       " <selenium.webdriver.remote.webelement.WebElement (session=\"83c20fd79ca48ac45e24a5fddd18a07b\", element=\"4222c698-fe31-42f5-9966-2f1ef069b78c\")>,\n",
       " <selenium.webdriver.remote.webelement.WebElement (session=\"83c20fd79ca48ac45e24a5fddd18a07b\", element=\"c08aa8bb-9651-409c-b318-0b18838197d9\")>,\n",
       " <selenium.webdriver.remote.webelement.WebElement (session=\"83c20fd79ca48ac45e24a5fddd18a07b\", element=\"140d44f2-edc8-4863-b8ea-ed91c5241fe6\")>,\n",
       " <selenium.webdriver.remote.webelement.WebElement (session=\"83c20fd79ca48ac45e24a5fddd18a07b\", element=\"00852abe-2fbb-4e56-8cd1-eba207957248\")>,\n",
       " <selenium.webdriver.remote.webelement.WebElement (session=\"83c20fd79ca48ac45e24a5fddd18a07b\", element=\"2c736d01-aa60-4c6b-9c8b-860352238357\")>,\n",
       " <selenium.webdriver.remote.webelement.WebElement (session=\"83c20fd79ca48ac45e24a5fddd18a07b\", element=\"c1102567-6966-4be4-9c9e-d4a3c4019b05\")>,\n",
       " <selenium.webdriver.remote.webelement.WebElement (session=\"83c20fd79ca48ac45e24a5fddd18a07b\", element=\"552744e8-b655-4383-a227-6fac5d9ed204\")>,\n",
       " <selenium.webdriver.remote.webelement.WebElement (session=\"83c20fd79ca48ac45e24a5fddd18a07b\", element=\"e924a1cf-6008-4173-a7a6-edeb99cec4ff\")>,\n",
       " <selenium.webdriver.remote.webelement.WebElement (session=\"83c20fd79ca48ac45e24a5fddd18a07b\", element=\"d7779778-cd5c-4266-bada-060b5e246fa0\")>,\n",
       " <selenium.webdriver.remote.webelement.WebElement (session=\"83c20fd79ca48ac45e24a5fddd18a07b\", element=\"9ac37bb8-8409-4905-b439-1847e7858eb2\")>,\n",
       " <selenium.webdriver.remote.webelement.WebElement (session=\"83c20fd79ca48ac45e24a5fddd18a07b\", element=\"8ec82c59-0c01-4b38-8f48-b8174cc8915f\")>,\n",
       " <selenium.webdriver.remote.webelement.WebElement (session=\"83c20fd79ca48ac45e24a5fddd18a07b\", element=\"63b5d38d-a96c-4527-a2e4-3bf475b55863\")>,\n",
       " <selenium.webdriver.remote.webelement.WebElement (session=\"83c20fd79ca48ac45e24a5fddd18a07b\", element=\"25a6f0a3-62ad-464f-89e6-57ada542373f\")>,\n",
       " <selenium.webdriver.remote.webelement.WebElement (session=\"83c20fd79ca48ac45e24a5fddd18a07b\", element=\"c6f084c8-5160-4461-a9bc-2efae10845df\")>,\n",
       " <selenium.webdriver.remote.webelement.WebElement (session=\"83c20fd79ca48ac45e24a5fddd18a07b\", element=\"8fd99c23-fb4d-47e7-870d-17c412545b9e\")>,\n",
       " <selenium.webdriver.remote.webelement.WebElement (session=\"83c20fd79ca48ac45e24a5fddd18a07b\", element=\"709d44bc-0cdf-4236-b28b-0fb639eadc48\")>,\n",
       " <selenium.webdriver.remote.webelement.WebElement (session=\"83c20fd79ca48ac45e24a5fddd18a07b\", element=\"311e3dbc-059a-473e-894e-13da5e6e1f05\")>,\n",
       " <selenium.webdriver.remote.webelement.WebElement (session=\"83c20fd79ca48ac45e24a5fddd18a07b\", element=\"950fd6e1-9edb-4dad-8c94-4f14ced2f459\")>,\n",
       " <selenium.webdriver.remote.webelement.WebElement (session=\"83c20fd79ca48ac45e24a5fddd18a07b\", element=\"77195619-ee5b-43d4-9e54-619975368171\")>,\n",
       " <selenium.webdriver.remote.webelement.WebElement (session=\"83c20fd79ca48ac45e24a5fddd18a07b\", element=\"5edfbc89-415b-450c-a7be-2d0bf73f7eee\")>,\n",
       " <selenium.webdriver.remote.webelement.WebElement (session=\"83c20fd79ca48ac45e24a5fddd18a07b\", element=\"4078c804-f1b3-48c3-939b-589b96ad6ac7\")>,\n",
       " <selenium.webdriver.remote.webelement.WebElement (session=\"83c20fd79ca48ac45e24a5fddd18a07b\", element=\"468e17ad-3a19-4985-b2e7-6cca22475ea8\")>,\n",
       " <selenium.webdriver.remote.webelement.WebElement (session=\"83c20fd79ca48ac45e24a5fddd18a07b\", element=\"f5499dd3-14e0-44e5-af3a-0f5528fe7bad\")>,\n",
       " <selenium.webdriver.remote.webelement.WebElement (session=\"83c20fd79ca48ac45e24a5fddd18a07b\", element=\"86be667b-f8a5-49c6-b09f-e424c7af4694\")>,\n",
       " <selenium.webdriver.remote.webelement.WebElement (session=\"83c20fd79ca48ac45e24a5fddd18a07b\", element=\"ddb03513-8823-420c-994e-42932a1d391a\")>,\n",
       " <selenium.webdriver.remote.webelement.WebElement (session=\"83c20fd79ca48ac45e24a5fddd18a07b\", element=\"340137bf-551a-40f6-8b79-295a2bd535ea\")>,\n",
       " <selenium.webdriver.remote.webelement.WebElement (session=\"83c20fd79ca48ac45e24a5fddd18a07b\", element=\"09e175be-de5a-4f6d-9ad9-34bc2a75714a\")>,\n",
       " <selenium.webdriver.remote.webelement.WebElement (session=\"83c20fd79ca48ac45e24a5fddd18a07b\", element=\"b25547fe-882a-4318-bfd4-cb536da73558\")>,\n",
       " <selenium.webdriver.remote.webelement.WebElement (session=\"83c20fd79ca48ac45e24a5fddd18a07b\", element=\"d3e505de-5ad6-442f-8f89-eac8343e3259\")>,\n",
       " <selenium.webdriver.remote.webelement.WebElement (session=\"83c20fd79ca48ac45e24a5fddd18a07b\", element=\"cf35095c-18f7-43bd-b583-5824b194a53e\")>,\n",
       " <selenium.webdriver.remote.webelement.WebElement (session=\"83c20fd79ca48ac45e24a5fddd18a07b\", element=\"e8a42e90-31f6-49b6-a455-8825ac8b526e\")>,\n",
       " <selenium.webdriver.remote.webelement.WebElement (session=\"83c20fd79ca48ac45e24a5fddd18a07b\", element=\"6f5c9309-25a7-4080-bcb5-28cd6a6f0c46\")>,\n",
       " <selenium.webdriver.remote.webelement.WebElement (session=\"83c20fd79ca48ac45e24a5fddd18a07b\", element=\"bd8c6454-d84d-424c-ab1a-67a3d5300fec\")>,\n",
       " <selenium.webdriver.remote.webelement.WebElement (session=\"83c20fd79ca48ac45e24a5fddd18a07b\", element=\"888de42d-3a7a-45ac-a053-925ac0674349\")>]"
      ]
     },
     "execution_count": 402,
     "metadata": {},
     "output_type": "execute_result"
    }
   ],
   "source": [
    "shoebrand2=driver.find_elements_by_class_name('product-brand')\n",
    "shoebrand2"
   ]
  },
  {
   "cell_type": "code",
   "execution_count": 403,
   "id": "33ef00c5",
   "metadata": {},
   "outputs": [
    {
     "data": {
      "text/plain": [
       "50"
      ]
     },
     "execution_count": 403,
     "metadata": {},
     "output_type": "execute_result"
    }
   ],
   "source": [
    "len(shoebrand2)"
   ]
  },
  {
   "cell_type": "code",
   "execution_count": 404,
   "id": "c592786b",
   "metadata": {
    "collapsed": true
   },
   "outputs": [
    {
     "data": {
      "text/plain": [
       "['DAVINCHI',\n",
       " 'ROSSO BRUNELLO',\n",
       " 'fitflop',\n",
       " 'Saint G',\n",
       " 'Bugatti',\n",
       " 'Cobblerz',\n",
       " 'New Balance',\n",
       " 'Columbia',\n",
       " 'Columbia',\n",
       " 'Cole Haan',\n",
       " 'J.FONTINI',\n",
       " 'Saint G',\n",
       " 'Geox',\n",
       " 'Xtep',\n",
       " 'Geox',\n",
       " 'Cole Haan',\n",
       " 'Cole Haan',\n",
       " 'Geox',\n",
       " 'Geox',\n",
       " 'Cole Haan',\n",
       " 'Saint G',\n",
       " 'Saint G',\n",
       " 'Saint G',\n",
       " 'Royal Enfield',\n",
       " 'Sole To Soul',\n",
       " 'ASICS',\n",
       " 'J.FONTINI',\n",
       " 'J.FONTINI',\n",
       " 'Nike',\n",
       " 'Pavers England',\n",
       " 'Saint G',\n",
       " 'Saint G',\n",
       " 'Saint G',\n",
       " 'Saint G',\n",
       " 'Saint G',\n",
       " 'Saint G',\n",
       " 'J.FONTINI',\n",
       " 'DAVINCHI',\n",
       " 'DAVINCHI',\n",
       " 'Saint G',\n",
       " 'Saint G',\n",
       " 'J.FONTINI',\n",
       " 'Saint G',\n",
       " 'Saint G',\n",
       " 'Saint G',\n",
       " 'Saint G',\n",
       " 'Saint G',\n",
       " 'Saint G',\n",
       " 'ROSSO BRUNELLO',\n",
       " 'DAVINCHI']"
      ]
     },
     "execution_count": 404,
     "metadata": {},
     "output_type": "execute_result"
    }
   ],
   "source": [
    "shoebrand_2=[]\n",
    "\n",
    "for i in shoebrand2:\n",
    "    shoebrand_2.append(i.text)\n",
    "    \n",
    "shoebrand_2[0:50]"
   ]
  },
  {
   "cell_type": "code",
   "execution_count": 405,
   "id": "3a4142f8",
   "metadata": {
    "collapsed": true
   },
   "outputs": [
    {
     "data": {
      "text/plain": [
       "[<selenium.webdriver.remote.webelement.WebElement (session=\"83c20fd79ca48ac45e24a5fddd18a07b\", element=\"aebfe69d-ab90-4d8d-8eec-1bca5751a34c\")>,\n",
       " <selenium.webdriver.remote.webelement.WebElement (session=\"83c20fd79ca48ac45e24a5fddd18a07b\", element=\"4b057c46-d807-49d4-bfc4-15bb94eb704f\")>,\n",
       " <selenium.webdriver.remote.webelement.WebElement (session=\"83c20fd79ca48ac45e24a5fddd18a07b\", element=\"1e646941-2c9a-4bcd-ba30-bdc9cfc7115e\")>,\n",
       " <selenium.webdriver.remote.webelement.WebElement (session=\"83c20fd79ca48ac45e24a5fddd18a07b\", element=\"198a20ca-aebd-4a7f-8b81-a669ab02b654\")>,\n",
       " <selenium.webdriver.remote.webelement.WebElement (session=\"83c20fd79ca48ac45e24a5fddd18a07b\", element=\"6fc8cc55-0936-4798-9f26-ef174cbb425e\")>,\n",
       " <selenium.webdriver.remote.webelement.WebElement (session=\"83c20fd79ca48ac45e24a5fddd18a07b\", element=\"845cf29e-74d2-4bb8-ab4f-e9ce4853381c\")>,\n",
       " <selenium.webdriver.remote.webelement.WebElement (session=\"83c20fd79ca48ac45e24a5fddd18a07b\", element=\"250aa1ed-1ec6-4757-9aa8-94cf38a5e6ae\")>,\n",
       " <selenium.webdriver.remote.webelement.WebElement (session=\"83c20fd79ca48ac45e24a5fddd18a07b\", element=\"64603bcc-b569-4133-8120-7a33601b30db\")>,\n",
       " <selenium.webdriver.remote.webelement.WebElement (session=\"83c20fd79ca48ac45e24a5fddd18a07b\", element=\"8c868727-ba11-4cc3-ba22-ce386b4ff079\")>,\n",
       " <selenium.webdriver.remote.webelement.WebElement (session=\"83c20fd79ca48ac45e24a5fddd18a07b\", element=\"036b8ddc-f1e2-4482-af82-95b7561472cb\")>,\n",
       " <selenium.webdriver.remote.webelement.WebElement (session=\"83c20fd79ca48ac45e24a5fddd18a07b\", element=\"89f138b1-7eb5-453e-8c0e-e1922d27416c\")>,\n",
       " <selenium.webdriver.remote.webelement.WebElement (session=\"83c20fd79ca48ac45e24a5fddd18a07b\", element=\"77c52f92-25ea-4919-bb10-f1295ce98b8b\")>,\n",
       " <selenium.webdriver.remote.webelement.WebElement (session=\"83c20fd79ca48ac45e24a5fddd18a07b\", element=\"df5118d7-6081-4059-b4e7-093bd070624c\")>,\n",
       " <selenium.webdriver.remote.webelement.WebElement (session=\"83c20fd79ca48ac45e24a5fddd18a07b\", element=\"0938b08f-3b9e-46a3-9a26-a3c4d08900c7\")>,\n",
       " <selenium.webdriver.remote.webelement.WebElement (session=\"83c20fd79ca48ac45e24a5fddd18a07b\", element=\"0714174a-d7d6-4805-a639-58f75745dd10\")>,\n",
       " <selenium.webdriver.remote.webelement.WebElement (session=\"83c20fd79ca48ac45e24a5fddd18a07b\", element=\"ae9dc95e-6f0f-41ec-a724-709623ab58cd\")>,\n",
       " <selenium.webdriver.remote.webelement.WebElement (session=\"83c20fd79ca48ac45e24a5fddd18a07b\", element=\"8cae39e6-b8d4-4709-8e2a-b0e491ab388a\")>,\n",
       " <selenium.webdriver.remote.webelement.WebElement (session=\"83c20fd79ca48ac45e24a5fddd18a07b\", element=\"9c0dc0a9-40b6-443f-93a0-6699de621c2a\")>,\n",
       " <selenium.webdriver.remote.webelement.WebElement (session=\"83c20fd79ca48ac45e24a5fddd18a07b\", element=\"01f920b3-702b-421d-bed5-118acf22e400\")>,\n",
       " <selenium.webdriver.remote.webelement.WebElement (session=\"83c20fd79ca48ac45e24a5fddd18a07b\", element=\"618ccf1f-a748-423b-8463-713dc662e324\")>,\n",
       " <selenium.webdriver.remote.webelement.WebElement (session=\"83c20fd79ca48ac45e24a5fddd18a07b\", element=\"392805ca-0baf-4fc8-bd32-7d18b895fd8a\")>,\n",
       " <selenium.webdriver.remote.webelement.WebElement (session=\"83c20fd79ca48ac45e24a5fddd18a07b\", element=\"ba2ace46-9d2c-4623-b71e-500d379bb737\")>,\n",
       " <selenium.webdriver.remote.webelement.WebElement (session=\"83c20fd79ca48ac45e24a5fddd18a07b\", element=\"0ce53638-0927-4518-8130-53927479729d\")>,\n",
       " <selenium.webdriver.remote.webelement.WebElement (session=\"83c20fd79ca48ac45e24a5fddd18a07b\", element=\"b47d0ee8-2a51-43d0-85c8-f8a086c9e1e3\")>,\n",
       " <selenium.webdriver.remote.webelement.WebElement (session=\"83c20fd79ca48ac45e24a5fddd18a07b\", element=\"2fdbb4a3-0704-43c5-ba3a-eb25881d721c\")>,\n",
       " <selenium.webdriver.remote.webelement.WebElement (session=\"83c20fd79ca48ac45e24a5fddd18a07b\", element=\"1488bfd7-a4f5-4baa-9e29-f3b3e2a06fc2\")>,\n",
       " <selenium.webdriver.remote.webelement.WebElement (session=\"83c20fd79ca48ac45e24a5fddd18a07b\", element=\"360054ef-a9c1-4bd1-8f4d-5dcffa42a9dd\")>,\n",
       " <selenium.webdriver.remote.webelement.WebElement (session=\"83c20fd79ca48ac45e24a5fddd18a07b\", element=\"d61874a2-ef09-4919-926d-65ce17917fb0\")>,\n",
       " <selenium.webdriver.remote.webelement.WebElement (session=\"83c20fd79ca48ac45e24a5fddd18a07b\", element=\"19874faa-95c3-48e3-a1d4-f9371d4b4475\")>,\n",
       " <selenium.webdriver.remote.webelement.WebElement (session=\"83c20fd79ca48ac45e24a5fddd18a07b\", element=\"ff6eb199-0876-4346-b3a3-dfca88baaa4a\")>,\n",
       " <selenium.webdriver.remote.webelement.WebElement (session=\"83c20fd79ca48ac45e24a5fddd18a07b\", element=\"4f1ed772-5ef7-49a3-b7c4-80c51a9f6d8c\")>,\n",
       " <selenium.webdriver.remote.webelement.WebElement (session=\"83c20fd79ca48ac45e24a5fddd18a07b\", element=\"35d24228-412c-4968-8415-7b41d42d261b\")>,\n",
       " <selenium.webdriver.remote.webelement.WebElement (session=\"83c20fd79ca48ac45e24a5fddd18a07b\", element=\"e8d293e2-1e32-45a5-bfa6-2677212f5720\")>,\n",
       " <selenium.webdriver.remote.webelement.WebElement (session=\"83c20fd79ca48ac45e24a5fddd18a07b\", element=\"2176ac3a-6916-44a3-987a-646c78e7429d\")>,\n",
       " <selenium.webdriver.remote.webelement.WebElement (session=\"83c20fd79ca48ac45e24a5fddd18a07b\", element=\"866c192f-d85b-4448-9765-072c7670fc96\")>,\n",
       " <selenium.webdriver.remote.webelement.WebElement (session=\"83c20fd79ca48ac45e24a5fddd18a07b\", element=\"2455b7df-18ec-43bd-a3dc-560d94038c11\")>,\n",
       " <selenium.webdriver.remote.webelement.WebElement (session=\"83c20fd79ca48ac45e24a5fddd18a07b\", element=\"056a4216-6003-497f-8cfb-6bc5bed02a97\")>,\n",
       " <selenium.webdriver.remote.webelement.WebElement (session=\"83c20fd79ca48ac45e24a5fddd18a07b\", element=\"1529f5a3-ce5f-43a9-83bb-1bc24275ba29\")>,\n",
       " <selenium.webdriver.remote.webelement.WebElement (session=\"83c20fd79ca48ac45e24a5fddd18a07b\", element=\"57f8bb86-9bbb-43fa-97b4-35f6b9980956\")>,\n",
       " <selenium.webdriver.remote.webelement.WebElement (session=\"83c20fd79ca48ac45e24a5fddd18a07b\", element=\"b8783edd-64c9-4a1e-860f-a4027c7670f0\")>,\n",
       " <selenium.webdriver.remote.webelement.WebElement (session=\"83c20fd79ca48ac45e24a5fddd18a07b\", element=\"c31bb2b8-9258-4da4-840f-72500bd717c9\")>,\n",
       " <selenium.webdriver.remote.webelement.WebElement (session=\"83c20fd79ca48ac45e24a5fddd18a07b\", element=\"63ff8290-1c97-4aa7-8225-1933836dec5a\")>,\n",
       " <selenium.webdriver.remote.webelement.WebElement (session=\"83c20fd79ca48ac45e24a5fddd18a07b\", element=\"d53c74c2-6aa9-43f5-947a-466c7c9b7bb1\")>,\n",
       " <selenium.webdriver.remote.webelement.WebElement (session=\"83c20fd79ca48ac45e24a5fddd18a07b\", element=\"5ee87136-119c-4be4-bbab-c4c634b6316c\")>,\n",
       " <selenium.webdriver.remote.webelement.WebElement (session=\"83c20fd79ca48ac45e24a5fddd18a07b\", element=\"28fc320b-3272-4832-b688-70371699e379\")>,\n",
       " <selenium.webdriver.remote.webelement.WebElement (session=\"83c20fd79ca48ac45e24a5fddd18a07b\", element=\"e8ad5af7-38e9-4b10-b285-0fbe932c4f83\")>,\n",
       " <selenium.webdriver.remote.webelement.WebElement (session=\"83c20fd79ca48ac45e24a5fddd18a07b\", element=\"6edebebc-a4b3-44bc-a2b3-5b98603121e8\")>,\n",
       " <selenium.webdriver.remote.webelement.WebElement (session=\"83c20fd79ca48ac45e24a5fddd18a07b\", element=\"71c57d86-cdc7-4b17-81ec-3454f897fea8\")>,\n",
       " <selenium.webdriver.remote.webelement.WebElement (session=\"83c20fd79ca48ac45e24a5fddd18a07b\", element=\"4d92b895-cb7f-4010-95dc-120b192a0d63\")>,\n",
       " <selenium.webdriver.remote.webelement.WebElement (session=\"83c20fd79ca48ac45e24a5fddd18a07b\", element=\"3efb4d8a-5e42-4f2e-abb5-ef26ffa465ee\")>]"
      ]
     },
     "execution_count": 405,
     "metadata": {},
     "output_type": "execute_result"
    }
   ],
   "source": [
    "shoedesc2=driver.find_elements_by_class_name('product-product')\n",
    "shoedesc2"
   ]
  },
  {
   "cell_type": "code",
   "execution_count": 406,
   "id": "37407192",
   "metadata": {},
   "outputs": [
    {
     "data": {
      "text/plain": [
       "50"
      ]
     },
     "execution_count": 406,
     "metadata": {},
     "output_type": "execute_result"
    }
   ],
   "source": [
    "len(shoedesc2)"
   ]
  },
  {
   "cell_type": "code",
   "execution_count": 407,
   "id": "c34bf182",
   "metadata": {
    "collapsed": true
   },
   "outputs": [
    {
     "data": {
      "text/plain": [
       "['Solid Slip On Shoes',\n",
       " 'PU Block Pumps with Buckles',\n",
       " 'Embellished Leather Flatform Sandals',\n",
       " 'Leather Party Block Mules',\n",
       " 'Men Solid Formal Oxfords',\n",
       " 'Men Textured Leather Formal Derbys',\n",
       " 'Women Woven Running Shoes',\n",
       " 'Women REDMOND V2 TrekkingShoe',\n",
       " 'PEAKFREAK OUTDRY Trekking Shoe',\n",
       " 'Men GENERATION ZEROGRAND STITCHLITE',\n",
       " 'Men Solid Loafers',\n",
       " 'Women Leather Mules',\n",
       " 'Women Solid Leather Pumps',\n",
       " 'Men Running Shoes',\n",
       " 'Women Solid Leather Pumps',\n",
       " 'Women Open Toe Flats',\n",
       " 'Women Sneakers',\n",
       " 'Women Solid Leather Ballerinas',\n",
       " 'Men Leather Loafers',\n",
       " 'Women Solid Leather Ballerinas',\n",
       " 'Women Leather Heeled Boots',\n",
       " 'Leather Heeled Knee High Boots',\n",
       " 'Women Leather Knee High Boots',\n",
       " 'Cabo WP Riding Boots',\n",
       " 'Platform Peep Toes with Buckles',\n",
       " 'Men Colourblocked PU Sneakers',\n",
       " 'Men Leather Formal Loafers',\n",
       " 'Men Leather Formal Loafers',\n",
       " 'Women WINFLO 7 Running Shoes',\n",
       " 'Men Leather Driving Shoes',\n",
       " 'Leather Wedge Heeled Boots with Buckles',\n",
       " 'Leather High-Top Block Heeled Boots',\n",
       " 'Leather Kitten Heeled Boots',\n",
       " 'Printed Flatform Heeled Boots with Buckles',\n",
       " 'Leather Platform Heeled Boots',\n",
       " 'Leather Block Heeled Boots with Bows',\n",
       " 'Men Solid Leather Formal Loafers',\n",
       " 'Men Formal Leather Slip-Ons',\n",
       " 'Ustraa black',\n",
       " 'Suede Party High-Top Block Heeled Boots',\n",
       " 'Suede High-Top Flatform Heeled Boots',\n",
       " 'Men Textured Leather Formal Loafers',\n",
       " 'Leather Boots with Buckles',\n",
       " 'High-Top Block Heeled Boots',\n",
       " 'Embellished Leather Block Heeled Boots',\n",
       " 'Women High-Top Heeled Boots',\n",
       " 'Leather Block Heeled Boots with Buckles',\n",
       " 'Embellished Flatform Boots',\n",
       " 'High-Top Block Heeled Boots',\n",
       " 'Men Textured Formal Leather Loafers']"
      ]
     },
     "execution_count": 407,
     "metadata": {},
     "output_type": "execute_result"
    }
   ],
   "source": [
    "shoedesc_2=[]\n",
    "\n",
    "for i in shoedesc2:\n",
    "    shoedesc_2.append(i.text)\n",
    "    \n",
    "shoedesc_2[0:50]"
   ]
  },
  {
   "cell_type": "code",
   "execution_count": 408,
   "id": "aab383db",
   "metadata": {
    "collapsed": true
   },
   "outputs": [
    {
     "data": {
      "text/plain": [
       "[<selenium.webdriver.remote.webelement.WebElement (session=\"83c20fd79ca48ac45e24a5fddd18a07b\", element=\"ff18a67c-c680-449c-bf9f-74673c238461\")>,\n",
       " <selenium.webdriver.remote.webelement.WebElement (session=\"83c20fd79ca48ac45e24a5fddd18a07b\", element=\"ace56ef6-61e5-4c41-a3d3-ae2e166ba85d\")>,\n",
       " <selenium.webdriver.remote.webelement.WebElement (session=\"83c20fd79ca48ac45e24a5fddd18a07b\", element=\"98f96a8c-97b6-4044-a37c-820b70a941f3\")>,\n",
       " <selenium.webdriver.remote.webelement.WebElement (session=\"83c20fd79ca48ac45e24a5fddd18a07b\", element=\"10f43648-cb80-4bc3-b8fd-a9b551356418\")>,\n",
       " <selenium.webdriver.remote.webelement.WebElement (session=\"83c20fd79ca48ac45e24a5fddd18a07b\", element=\"33575da5-cbab-4ddd-9ca3-8d035723acb9\")>,\n",
       " <selenium.webdriver.remote.webelement.WebElement (session=\"83c20fd79ca48ac45e24a5fddd18a07b\", element=\"335ee15f-389d-47f2-8b7b-d3daa20126f9\")>,\n",
       " <selenium.webdriver.remote.webelement.WebElement (session=\"83c20fd79ca48ac45e24a5fddd18a07b\", element=\"18380e2c-1fde-42ad-9746-ee53014e1d4e\")>,\n",
       " <selenium.webdriver.remote.webelement.WebElement (session=\"83c20fd79ca48ac45e24a5fddd18a07b\", element=\"2bb133cf-d924-4712-a204-663dd5cbeced\")>,\n",
       " <selenium.webdriver.remote.webelement.WebElement (session=\"83c20fd79ca48ac45e24a5fddd18a07b\", element=\"5422ded5-00d6-4739-8105-37b9909b4f99\")>,\n",
       " <selenium.webdriver.remote.webelement.WebElement (session=\"83c20fd79ca48ac45e24a5fddd18a07b\", element=\"b5453d99-c50c-4a75-90c4-90881ba58a77\")>,\n",
       " <selenium.webdriver.remote.webelement.WebElement (session=\"83c20fd79ca48ac45e24a5fddd18a07b\", element=\"d8748615-bf33-4c4a-97b7-41a56136e676\")>,\n",
       " <selenium.webdriver.remote.webelement.WebElement (session=\"83c20fd79ca48ac45e24a5fddd18a07b\", element=\"ff58674e-c047-4551-bcc4-62c516a17aed\")>,\n",
       " <selenium.webdriver.remote.webelement.WebElement (session=\"83c20fd79ca48ac45e24a5fddd18a07b\", element=\"112d9409-d2b9-4dca-9e38-1c77093285ca\")>,\n",
       " <selenium.webdriver.remote.webelement.WebElement (session=\"83c20fd79ca48ac45e24a5fddd18a07b\", element=\"6f551f83-1720-4e8c-90dc-154205d65673\")>,\n",
       " <selenium.webdriver.remote.webelement.WebElement (session=\"83c20fd79ca48ac45e24a5fddd18a07b\", element=\"7374939c-5487-4fbb-820e-1331e0024f98\")>,\n",
       " <selenium.webdriver.remote.webelement.WebElement (session=\"83c20fd79ca48ac45e24a5fddd18a07b\", element=\"96d5553b-e64f-42db-9fb3-0f52f05a05ab\")>,\n",
       " <selenium.webdriver.remote.webelement.WebElement (session=\"83c20fd79ca48ac45e24a5fddd18a07b\", element=\"9b5a4e39-02d6-4c3d-9b1a-639b5ab2c10f\")>,\n",
       " <selenium.webdriver.remote.webelement.WebElement (session=\"83c20fd79ca48ac45e24a5fddd18a07b\", element=\"0f215ea1-9dab-45e9-a4b7-3459101d2574\")>,\n",
       " <selenium.webdriver.remote.webelement.WebElement (session=\"83c20fd79ca48ac45e24a5fddd18a07b\", element=\"7782bd5c-c57e-44b9-9b3a-258d49dfe432\")>,\n",
       " <selenium.webdriver.remote.webelement.WebElement (session=\"83c20fd79ca48ac45e24a5fddd18a07b\", element=\"9bacf50e-2604-4558-9c5b-79e4605df82a\")>,\n",
       " <selenium.webdriver.remote.webelement.WebElement (session=\"83c20fd79ca48ac45e24a5fddd18a07b\", element=\"99b4d0a0-81ec-4d3b-8152-da82464ffcff\")>,\n",
       " <selenium.webdriver.remote.webelement.WebElement (session=\"83c20fd79ca48ac45e24a5fddd18a07b\", element=\"2f085278-f3b2-43a9-b16d-21b78433d889\")>,\n",
       " <selenium.webdriver.remote.webelement.WebElement (session=\"83c20fd79ca48ac45e24a5fddd18a07b\", element=\"fd77e3f6-ea0f-4ff0-acae-07e802b0f581\")>,\n",
       " <selenium.webdriver.remote.webelement.WebElement (session=\"83c20fd79ca48ac45e24a5fddd18a07b\", element=\"f3c37dd6-1cb1-4cf0-8cca-e6e3c4d4704a\")>,\n",
       " <selenium.webdriver.remote.webelement.WebElement (session=\"83c20fd79ca48ac45e24a5fddd18a07b\", element=\"9d6efd04-5c75-4b29-bf6b-737a89a1ba0b\")>,\n",
       " <selenium.webdriver.remote.webelement.WebElement (session=\"83c20fd79ca48ac45e24a5fddd18a07b\", element=\"03ad5bc0-aeef-4f6d-a44b-9b124be77658\")>,\n",
       " <selenium.webdriver.remote.webelement.WebElement (session=\"83c20fd79ca48ac45e24a5fddd18a07b\", element=\"1cd6bf08-852a-4d7a-b788-5fc68570f32b\")>,\n",
       " <selenium.webdriver.remote.webelement.WebElement (session=\"83c20fd79ca48ac45e24a5fddd18a07b\", element=\"44255c24-2c4f-49f0-8014-6398f19bf167\")>,\n",
       " <selenium.webdriver.remote.webelement.WebElement (session=\"83c20fd79ca48ac45e24a5fddd18a07b\", element=\"c03aa490-a78f-41d2-95b6-b92be18db732\")>,\n",
       " <selenium.webdriver.remote.webelement.WebElement (session=\"83c20fd79ca48ac45e24a5fddd18a07b\", element=\"d77421cf-6f9b-4e02-af16-5ea2f0d9710f\")>,\n",
       " <selenium.webdriver.remote.webelement.WebElement (session=\"83c20fd79ca48ac45e24a5fddd18a07b\", element=\"163ffbf4-15bf-4501-9850-94d990591d49\")>,\n",
       " <selenium.webdriver.remote.webelement.WebElement (session=\"83c20fd79ca48ac45e24a5fddd18a07b\", element=\"2d1b1e50-9df9-4b44-b08d-385abbf9bb4e\")>,\n",
       " <selenium.webdriver.remote.webelement.WebElement (session=\"83c20fd79ca48ac45e24a5fddd18a07b\", element=\"c479ace2-0866-457a-93e2-15ef7a61254f\")>,\n",
       " <selenium.webdriver.remote.webelement.WebElement (session=\"83c20fd79ca48ac45e24a5fddd18a07b\", element=\"7ad90cbd-2169-498c-97c6-43ade8f8c4f7\")>,\n",
       " <selenium.webdriver.remote.webelement.WebElement (session=\"83c20fd79ca48ac45e24a5fddd18a07b\", element=\"19e404d4-055f-483c-825b-4054bf588b53\")>,\n",
       " <selenium.webdriver.remote.webelement.WebElement (session=\"83c20fd79ca48ac45e24a5fddd18a07b\", element=\"33dba8ad-d26a-4e3f-ad2e-eb679489dba5\")>,\n",
       " <selenium.webdriver.remote.webelement.WebElement (session=\"83c20fd79ca48ac45e24a5fddd18a07b\", element=\"35346f06-c96e-43df-8c94-9cbb476e45d2\")>,\n",
       " <selenium.webdriver.remote.webelement.WebElement (session=\"83c20fd79ca48ac45e24a5fddd18a07b\", element=\"d5e6905d-7b77-4d02-99fa-f1f376cf1aa1\")>,\n",
       " <selenium.webdriver.remote.webelement.WebElement (session=\"83c20fd79ca48ac45e24a5fddd18a07b\", element=\"e8cd98f9-fac9-450c-bbdc-67ef6ac195c2\")>,\n",
       " <selenium.webdriver.remote.webelement.WebElement (session=\"83c20fd79ca48ac45e24a5fddd18a07b\", element=\"f91627f2-0262-4726-a01d-9ed517b480db\")>,\n",
       " <selenium.webdriver.remote.webelement.WebElement (session=\"83c20fd79ca48ac45e24a5fddd18a07b\", element=\"ef1feeb5-5444-4783-b54d-4cc96bbc88b7\")>,\n",
       " <selenium.webdriver.remote.webelement.WebElement (session=\"83c20fd79ca48ac45e24a5fddd18a07b\", element=\"679755de-0217-4397-b37c-3dde725b5d82\")>,\n",
       " <selenium.webdriver.remote.webelement.WebElement (session=\"83c20fd79ca48ac45e24a5fddd18a07b\", element=\"71ed4e5d-a171-4940-909a-38dd20c60bf3\")>,\n",
       " <selenium.webdriver.remote.webelement.WebElement (session=\"83c20fd79ca48ac45e24a5fddd18a07b\", element=\"c8b970da-0cd3-472b-9e3e-4aac18a33979\")>,\n",
       " <selenium.webdriver.remote.webelement.WebElement (session=\"83c20fd79ca48ac45e24a5fddd18a07b\", element=\"3bf68980-0c0d-4a89-a66d-d6451fdc8cb6\")>,\n",
       " <selenium.webdriver.remote.webelement.WebElement (session=\"83c20fd79ca48ac45e24a5fddd18a07b\", element=\"470be846-9b35-4780-8ed3-5ed4c37c927f\")>,\n",
       " <selenium.webdriver.remote.webelement.WebElement (session=\"83c20fd79ca48ac45e24a5fddd18a07b\", element=\"305d86a4-964b-4f8d-9941-3a2cddaade6c\")>,\n",
       " <selenium.webdriver.remote.webelement.WebElement (session=\"83c20fd79ca48ac45e24a5fddd18a07b\", element=\"52669e54-c72b-4e4d-80d1-c5642dc5eee5\")>,\n",
       " <selenium.webdriver.remote.webelement.WebElement (session=\"83c20fd79ca48ac45e24a5fddd18a07b\", element=\"aea93293-bb6c-408c-9cc9-a435ea11f13e\")>,\n",
       " <selenium.webdriver.remote.webelement.WebElement (session=\"83c20fd79ca48ac45e24a5fddd18a07b\", element=\"e0f5a01c-4c70-4247-8296-acc3b9751b0b\")>]"
      ]
     },
     "execution_count": 408,
     "metadata": {},
     "output_type": "execute_result"
    }
   ],
   "source": [
    "shoeprice2=driver.find_elements_by_class_name('product-price')\n",
    "shoeprice2"
   ]
  },
  {
   "cell_type": "code",
   "execution_count": 409,
   "id": "27903753",
   "metadata": {},
   "outputs": [
    {
     "data": {
      "text/plain": [
       "50"
      ]
     },
     "execution_count": 409,
     "metadata": {},
     "output_type": "execute_result"
    }
   ],
   "source": [
    "len(shoeprice2)"
   ]
  },
  {
   "cell_type": "code",
   "execution_count": 412,
   "id": "b9ab413c",
   "metadata": {
    "collapsed": true
   },
   "outputs": [
    {
     "data": {
      "text/plain": [
       "['Rs. 7990',\n",
       " 'Rs. 7999',\n",
       " 'Rs. 8299',\n",
       " 'Rs. 7380Rs. 8200(10% OFF)',\n",
       " 'Rs. 8999',\n",
       " 'Rs. 8999Rs. 9999(Rs. 1000 OFF)',\n",
       " 'Rs. 7799Rs. 12999( 40 % OFF)',\n",
       " 'Rs. 7999',\n",
       " 'Rs. 9999',\n",
       " 'Rs. 11999',\n",
       " 'Rs. 8990',\n",
       " 'Rs. 7216Rs. 8200(12% OFF)',\n",
       " 'Rs. 7999',\n",
       " 'Rs. 7699',\n",
       " 'Rs. 10990',\n",
       " 'Rs. 11999',\n",
       " 'Rs. 12999',\n",
       " 'Rs. 8999',\n",
       " 'Rs. 9999',\n",
       " 'Rs. 13999',\n",
       " 'Rs. 14025Rs. 16500(15% OFF)',\n",
       " 'Rs. 12325Rs. 14500(15% OFF)',\n",
       " 'Rs. 11815Rs. 13900(15% OFF)',\n",
       " 'Rs. 8500',\n",
       " 'Rs. 7690',\n",
       " 'Rs. 9999',\n",
       " 'Rs. 7490',\n",
       " 'Rs. 7490',\n",
       " 'Rs. 7195Rs. 7995(10% OFF)',\n",
       " 'Rs. 7499',\n",
       " 'Rs. 12665Rs. 14900(15% OFF)',\n",
       " 'Rs. 14025Rs. 16500(15% OFF)',\n",
       " 'Rs. 9900',\n",
       " 'Rs. 8415Rs. 9900(15% OFF)',\n",
       " 'Rs. 9810Rs. 10900(10% OFF)',\n",
       " 'Rs. 12510Rs. 13900(10% OFF)',\n",
       " 'Rs. 9990',\n",
       " 'Rs. 8990',\n",
       " 'Rs. 8990',\n",
       " 'Rs. 8925Rs. 10500(15% OFF)',\n",
       " 'Rs. 11475Rs. 13500(15% OFF)',\n",
       " 'Rs. 8990',\n",
       " 'Rs. 8925Rs. 10500(15% OFF)',\n",
       " 'Rs. 10625Rs. 12500(15% OFF)',\n",
       " 'Rs. 7869Rs. 12900(39% OFF)',\n",
       " 'Rs. 12093Rs. 13900(13% OFF)',\n",
       " 'Rs. 9810Rs. 10900(10% OFF)',\n",
       " 'Rs. 8925Rs. 10500(15% OFF)',\n",
       " 'Rs. 9449Rs. 13499(30% OFF)',\n",
       " 'Rs. 8990']"
      ]
     },
     "execution_count": 412,
     "metadata": {},
     "output_type": "execute_result"
    }
   ],
   "source": [
    "shoeprice_2=[]\n",
    "\n",
    "for i in shoeprice2:\n",
    "    shoeprice_2.append(i.text)\n",
    "    \n",
    "shoeprice_2[0:50]"
   ]
  },
  {
   "cell_type": "code",
   "execution_count": 413,
   "id": "8f33b20a",
   "metadata": {},
   "outputs": [
    {
     "data": {
      "text/html": [
       "<div>\n",
       "<style scoped>\n",
       "    .dataframe tbody tr th:only-of-type {\n",
       "        vertical-align: middle;\n",
       "    }\n",
       "\n",
       "    .dataframe tbody tr th {\n",
       "        vertical-align: top;\n",
       "    }\n",
       "\n",
       "    .dataframe thead th {\n",
       "        text-align: right;\n",
       "    }\n",
       "</style>\n",
       "<table border=\"1\" class=\"dataframe\">\n",
       "  <thead>\n",
       "    <tr style=\"text-align: right;\">\n",
       "      <th></th>\n",
       "      <th>Brand</th>\n",
       "      <th>Short Description</th>\n",
       "      <th>Price</th>\n",
       "    </tr>\n",
       "  </thead>\n",
       "  <tbody>\n",
       "    <tr>\n",
       "      <th>0</th>\n",
       "      <td>DAVINCHI</td>\n",
       "      <td>Solid Slip On Shoes</td>\n",
       "      <td>Rs. 7990</td>\n",
       "    </tr>\n",
       "    <tr>\n",
       "      <th>1</th>\n",
       "      <td>ROSSO BRUNELLO</td>\n",
       "      <td>PU Block Pumps with Buckles</td>\n",
       "      <td>Rs. 7999</td>\n",
       "    </tr>\n",
       "    <tr>\n",
       "      <th>2</th>\n",
       "      <td>fitflop</td>\n",
       "      <td>Embellished Leather Flatform Sandals</td>\n",
       "      <td>Rs. 8299</td>\n",
       "    </tr>\n",
       "    <tr>\n",
       "      <th>3</th>\n",
       "      <td>Saint G</td>\n",
       "      <td>Leather Party Block Mules</td>\n",
       "      <td>Rs. 7380Rs. 8200(10% OFF)</td>\n",
       "    </tr>\n",
       "    <tr>\n",
       "      <th>4</th>\n",
       "      <td>Bugatti</td>\n",
       "      <td>Men Solid Formal Oxfords</td>\n",
       "      <td>Rs. 8999</td>\n",
       "    </tr>\n",
       "    <tr>\n",
       "      <th>5</th>\n",
       "      <td>Cobblerz</td>\n",
       "      <td>Men Textured Leather Formal Derbys</td>\n",
       "      <td>Rs. 8999Rs. 9999(Rs. 1000 OFF)</td>\n",
       "    </tr>\n",
       "    <tr>\n",
       "      <th>6</th>\n",
       "      <td>New Balance</td>\n",
       "      <td>Women Woven Running Shoes</td>\n",
       "      <td>Rs. 7799Rs. 12999( 40 % OFF)</td>\n",
       "    </tr>\n",
       "    <tr>\n",
       "      <th>7</th>\n",
       "      <td>Columbia</td>\n",
       "      <td>Women REDMOND V2 TrekkingShoe</td>\n",
       "      <td>Rs. 7999</td>\n",
       "    </tr>\n",
       "    <tr>\n",
       "      <th>8</th>\n",
       "      <td>Columbia</td>\n",
       "      <td>PEAKFREAK OUTDRY Trekking Shoe</td>\n",
       "      <td>Rs. 9999</td>\n",
       "    </tr>\n",
       "    <tr>\n",
       "      <th>9</th>\n",
       "      <td>Cole Haan</td>\n",
       "      <td>Men GENERATION ZEROGRAND STITCHLITE</td>\n",
       "      <td>Rs. 11999</td>\n",
       "    </tr>\n",
       "    <tr>\n",
       "      <th>10</th>\n",
       "      <td>J.FONTINI</td>\n",
       "      <td>Men Solid Loafers</td>\n",
       "      <td>Rs. 8990</td>\n",
       "    </tr>\n",
       "    <tr>\n",
       "      <th>11</th>\n",
       "      <td>Saint G</td>\n",
       "      <td>Women Leather Mules</td>\n",
       "      <td>Rs. 7216Rs. 8200(12% OFF)</td>\n",
       "    </tr>\n",
       "    <tr>\n",
       "      <th>12</th>\n",
       "      <td>Geox</td>\n",
       "      <td>Women Solid Leather Pumps</td>\n",
       "      <td>Rs. 7999</td>\n",
       "    </tr>\n",
       "    <tr>\n",
       "      <th>13</th>\n",
       "      <td>Xtep</td>\n",
       "      <td>Men Running Shoes</td>\n",
       "      <td>Rs. 7699</td>\n",
       "    </tr>\n",
       "    <tr>\n",
       "      <th>14</th>\n",
       "      <td>Geox</td>\n",
       "      <td>Women Solid Leather Pumps</td>\n",
       "      <td>Rs. 10990</td>\n",
       "    </tr>\n",
       "    <tr>\n",
       "      <th>15</th>\n",
       "      <td>Cole Haan</td>\n",
       "      <td>Women Open Toe Flats</td>\n",
       "      <td>Rs. 11999</td>\n",
       "    </tr>\n",
       "    <tr>\n",
       "      <th>16</th>\n",
       "      <td>Cole Haan</td>\n",
       "      <td>Women Sneakers</td>\n",
       "      <td>Rs. 12999</td>\n",
       "    </tr>\n",
       "    <tr>\n",
       "      <th>17</th>\n",
       "      <td>Geox</td>\n",
       "      <td>Women Solid Leather Ballerinas</td>\n",
       "      <td>Rs. 8999</td>\n",
       "    </tr>\n",
       "    <tr>\n",
       "      <th>18</th>\n",
       "      <td>Geox</td>\n",
       "      <td>Men Leather Loafers</td>\n",
       "      <td>Rs. 9999</td>\n",
       "    </tr>\n",
       "    <tr>\n",
       "      <th>19</th>\n",
       "      <td>Cole Haan</td>\n",
       "      <td>Women Solid Leather Ballerinas</td>\n",
       "      <td>Rs. 13999</td>\n",
       "    </tr>\n",
       "    <tr>\n",
       "      <th>20</th>\n",
       "      <td>Saint G</td>\n",
       "      <td>Women Leather Heeled Boots</td>\n",
       "      <td>Rs. 14025Rs. 16500(15% OFF)</td>\n",
       "    </tr>\n",
       "    <tr>\n",
       "      <th>21</th>\n",
       "      <td>Saint G</td>\n",
       "      <td>Leather Heeled Knee High Boots</td>\n",
       "      <td>Rs. 12325Rs. 14500(15% OFF)</td>\n",
       "    </tr>\n",
       "    <tr>\n",
       "      <th>22</th>\n",
       "      <td>Saint G</td>\n",
       "      <td>Women Leather Knee High Boots</td>\n",
       "      <td>Rs. 11815Rs. 13900(15% OFF)</td>\n",
       "    </tr>\n",
       "    <tr>\n",
       "      <th>23</th>\n",
       "      <td>Royal Enfield</td>\n",
       "      <td>Cabo WP Riding Boots</td>\n",
       "      <td>Rs. 8500</td>\n",
       "    </tr>\n",
       "    <tr>\n",
       "      <th>24</th>\n",
       "      <td>Sole To Soul</td>\n",
       "      <td>Platform Peep Toes with Buckles</td>\n",
       "      <td>Rs. 7690</td>\n",
       "    </tr>\n",
       "    <tr>\n",
       "      <th>25</th>\n",
       "      <td>ASICS</td>\n",
       "      <td>Men Colourblocked PU Sneakers</td>\n",
       "      <td>Rs. 9999</td>\n",
       "    </tr>\n",
       "    <tr>\n",
       "      <th>26</th>\n",
       "      <td>J.FONTINI</td>\n",
       "      <td>Men Leather Formal Loafers</td>\n",
       "      <td>Rs. 7490</td>\n",
       "    </tr>\n",
       "    <tr>\n",
       "      <th>27</th>\n",
       "      <td>J.FONTINI</td>\n",
       "      <td>Men Leather Formal Loafers</td>\n",
       "      <td>Rs. 7490</td>\n",
       "    </tr>\n",
       "    <tr>\n",
       "      <th>28</th>\n",
       "      <td>Nike</td>\n",
       "      <td>Women WINFLO 7 Running Shoes</td>\n",
       "      <td>Rs. 7195Rs. 7995(10% OFF)</td>\n",
       "    </tr>\n",
       "    <tr>\n",
       "      <th>29</th>\n",
       "      <td>Pavers England</td>\n",
       "      <td>Men Leather Driving Shoes</td>\n",
       "      <td>Rs. 7499</td>\n",
       "    </tr>\n",
       "    <tr>\n",
       "      <th>30</th>\n",
       "      <td>Saint G</td>\n",
       "      <td>Leather Wedge Heeled Boots with Buckles</td>\n",
       "      <td>Rs. 12665Rs. 14900(15% OFF)</td>\n",
       "    </tr>\n",
       "    <tr>\n",
       "      <th>31</th>\n",
       "      <td>Saint G</td>\n",
       "      <td>Leather High-Top Block Heeled Boots</td>\n",
       "      <td>Rs. 14025Rs. 16500(15% OFF)</td>\n",
       "    </tr>\n",
       "    <tr>\n",
       "      <th>32</th>\n",
       "      <td>Saint G</td>\n",
       "      <td>Leather Kitten Heeled Boots</td>\n",
       "      <td>Rs. 9900</td>\n",
       "    </tr>\n",
       "    <tr>\n",
       "      <th>33</th>\n",
       "      <td>Saint G</td>\n",
       "      <td>Printed Flatform Heeled Boots with Buckles</td>\n",
       "      <td>Rs. 8415Rs. 9900(15% OFF)</td>\n",
       "    </tr>\n",
       "    <tr>\n",
       "      <th>34</th>\n",
       "      <td>Saint G</td>\n",
       "      <td>Leather Platform Heeled Boots</td>\n",
       "      <td>Rs. 9810Rs. 10900(10% OFF)</td>\n",
       "    </tr>\n",
       "    <tr>\n",
       "      <th>35</th>\n",
       "      <td>Saint G</td>\n",
       "      <td>Leather Block Heeled Boots with Bows</td>\n",
       "      <td>Rs. 12510Rs. 13900(10% OFF)</td>\n",
       "    </tr>\n",
       "    <tr>\n",
       "      <th>36</th>\n",
       "      <td>J.FONTINI</td>\n",
       "      <td>Men Solid Leather Formal Loafers</td>\n",
       "      <td>Rs. 9990</td>\n",
       "    </tr>\n",
       "    <tr>\n",
       "      <th>37</th>\n",
       "      <td>DAVINCHI</td>\n",
       "      <td>Men Formal Leather Slip-Ons</td>\n",
       "      <td>Rs. 8990</td>\n",
       "    </tr>\n",
       "    <tr>\n",
       "      <th>38</th>\n",
       "      <td>DAVINCHI</td>\n",
       "      <td>Ustraa black</td>\n",
       "      <td>Rs. 8990</td>\n",
       "    </tr>\n",
       "    <tr>\n",
       "      <th>39</th>\n",
       "      <td>Saint G</td>\n",
       "      <td>Suede Party High-Top Block Heeled Boots</td>\n",
       "      <td>Rs. 8925Rs. 10500(15% OFF)</td>\n",
       "    </tr>\n",
       "    <tr>\n",
       "      <th>40</th>\n",
       "      <td>Saint G</td>\n",
       "      <td>Suede High-Top Flatform Heeled Boots</td>\n",
       "      <td>Rs. 11475Rs. 13500(15% OFF)</td>\n",
       "    </tr>\n",
       "    <tr>\n",
       "      <th>41</th>\n",
       "      <td>J.FONTINI</td>\n",
       "      <td>Men Textured Leather Formal Loafers</td>\n",
       "      <td>Rs. 8990</td>\n",
       "    </tr>\n",
       "    <tr>\n",
       "      <th>42</th>\n",
       "      <td>Saint G</td>\n",
       "      <td>Leather Boots with Buckles</td>\n",
       "      <td>Rs. 8925Rs. 10500(15% OFF)</td>\n",
       "    </tr>\n",
       "    <tr>\n",
       "      <th>43</th>\n",
       "      <td>Saint G</td>\n",
       "      <td>High-Top Block Heeled Boots</td>\n",
       "      <td>Rs. 10625Rs. 12500(15% OFF)</td>\n",
       "    </tr>\n",
       "    <tr>\n",
       "      <th>44</th>\n",
       "      <td>Saint G</td>\n",
       "      <td>Embellished Leather Block Heeled Boots</td>\n",
       "      <td>Rs. 7869Rs. 12900(39% OFF)</td>\n",
       "    </tr>\n",
       "    <tr>\n",
       "      <th>45</th>\n",
       "      <td>Saint G</td>\n",
       "      <td>Women High-Top Heeled Boots</td>\n",
       "      <td>Rs. 12093Rs. 13900(13% OFF)</td>\n",
       "    </tr>\n",
       "    <tr>\n",
       "      <th>46</th>\n",
       "      <td>Saint G</td>\n",
       "      <td>Leather Block Heeled Boots with Buckles</td>\n",
       "      <td>Rs. 9810Rs. 10900(10% OFF)</td>\n",
       "    </tr>\n",
       "    <tr>\n",
       "      <th>47</th>\n",
       "      <td>Saint G</td>\n",
       "      <td>Embellished Flatform Boots</td>\n",
       "      <td>Rs. 8925Rs. 10500(15% OFF)</td>\n",
       "    </tr>\n",
       "    <tr>\n",
       "      <th>48</th>\n",
       "      <td>ROSSO BRUNELLO</td>\n",
       "      <td>High-Top Block Heeled Boots</td>\n",
       "      <td>Rs. 9449Rs. 13499(30% OFF)</td>\n",
       "    </tr>\n",
       "    <tr>\n",
       "      <th>49</th>\n",
       "      <td>DAVINCHI</td>\n",
       "      <td>Men Textured Formal Leather Loafers</td>\n",
       "      <td>Rs. 8990</td>\n",
       "    </tr>\n",
       "  </tbody>\n",
       "</table>\n",
       "</div>"
      ],
      "text/plain": [
       "             Brand                           Short Description  \\\n",
       "0         DAVINCHI                         Solid Slip On Shoes   \n",
       "1   ROSSO BRUNELLO                 PU Block Pumps with Buckles   \n",
       "2          fitflop        Embellished Leather Flatform Sandals   \n",
       "3          Saint G                   Leather Party Block Mules   \n",
       "4          Bugatti                    Men Solid Formal Oxfords   \n",
       "5         Cobblerz          Men Textured Leather Formal Derbys   \n",
       "6      New Balance                   Women Woven Running Shoes   \n",
       "7         Columbia               Women REDMOND V2 TrekkingShoe   \n",
       "8         Columbia              PEAKFREAK OUTDRY Trekking Shoe   \n",
       "9        Cole Haan         Men GENERATION ZEROGRAND STITCHLITE   \n",
       "10       J.FONTINI                           Men Solid Loafers   \n",
       "11         Saint G                         Women Leather Mules   \n",
       "12            Geox                   Women Solid Leather Pumps   \n",
       "13            Xtep                           Men Running Shoes   \n",
       "14            Geox                   Women Solid Leather Pumps   \n",
       "15       Cole Haan                        Women Open Toe Flats   \n",
       "16       Cole Haan                              Women Sneakers   \n",
       "17            Geox              Women Solid Leather Ballerinas   \n",
       "18            Geox                         Men Leather Loafers   \n",
       "19       Cole Haan              Women Solid Leather Ballerinas   \n",
       "20         Saint G                  Women Leather Heeled Boots   \n",
       "21         Saint G              Leather Heeled Knee High Boots   \n",
       "22         Saint G               Women Leather Knee High Boots   \n",
       "23   Royal Enfield                        Cabo WP Riding Boots   \n",
       "24    Sole To Soul             Platform Peep Toes with Buckles   \n",
       "25           ASICS               Men Colourblocked PU Sneakers   \n",
       "26       J.FONTINI                  Men Leather Formal Loafers   \n",
       "27       J.FONTINI                  Men Leather Formal Loafers   \n",
       "28            Nike                Women WINFLO 7 Running Shoes   \n",
       "29  Pavers England                   Men Leather Driving Shoes   \n",
       "30         Saint G     Leather Wedge Heeled Boots with Buckles   \n",
       "31         Saint G         Leather High-Top Block Heeled Boots   \n",
       "32         Saint G                 Leather Kitten Heeled Boots   \n",
       "33         Saint G  Printed Flatform Heeled Boots with Buckles   \n",
       "34         Saint G               Leather Platform Heeled Boots   \n",
       "35         Saint G        Leather Block Heeled Boots with Bows   \n",
       "36       J.FONTINI            Men Solid Leather Formal Loafers   \n",
       "37        DAVINCHI                 Men Formal Leather Slip-Ons   \n",
       "38        DAVINCHI                                Ustraa black   \n",
       "39         Saint G     Suede Party High-Top Block Heeled Boots   \n",
       "40         Saint G        Suede High-Top Flatform Heeled Boots   \n",
       "41       J.FONTINI         Men Textured Leather Formal Loafers   \n",
       "42         Saint G                  Leather Boots with Buckles   \n",
       "43         Saint G                 High-Top Block Heeled Boots   \n",
       "44         Saint G      Embellished Leather Block Heeled Boots   \n",
       "45         Saint G                 Women High-Top Heeled Boots   \n",
       "46         Saint G     Leather Block Heeled Boots with Buckles   \n",
       "47         Saint G                  Embellished Flatform Boots   \n",
       "48  ROSSO BRUNELLO                 High-Top Block Heeled Boots   \n",
       "49        DAVINCHI         Men Textured Formal Leather Loafers   \n",
       "\n",
       "                             Price  \n",
       "0                         Rs. 7990  \n",
       "1                         Rs. 7999  \n",
       "2                         Rs. 8299  \n",
       "3        Rs. 7380Rs. 8200(10% OFF)  \n",
       "4                         Rs. 8999  \n",
       "5   Rs. 8999Rs. 9999(Rs. 1000 OFF)  \n",
       "6     Rs. 7799Rs. 12999( 40 % OFF)  \n",
       "7                         Rs. 7999  \n",
       "8                         Rs. 9999  \n",
       "9                        Rs. 11999  \n",
       "10                        Rs. 8990  \n",
       "11       Rs. 7216Rs. 8200(12% OFF)  \n",
       "12                        Rs. 7999  \n",
       "13                        Rs. 7699  \n",
       "14                       Rs. 10990  \n",
       "15                       Rs. 11999  \n",
       "16                       Rs. 12999  \n",
       "17                        Rs. 8999  \n",
       "18                        Rs. 9999  \n",
       "19                       Rs. 13999  \n",
       "20     Rs. 14025Rs. 16500(15% OFF)  \n",
       "21     Rs. 12325Rs. 14500(15% OFF)  \n",
       "22     Rs. 11815Rs. 13900(15% OFF)  \n",
       "23                        Rs. 8500  \n",
       "24                        Rs. 7690  \n",
       "25                        Rs. 9999  \n",
       "26                        Rs. 7490  \n",
       "27                        Rs. 7490  \n",
       "28       Rs. 7195Rs. 7995(10% OFF)  \n",
       "29                        Rs. 7499  \n",
       "30     Rs. 12665Rs. 14900(15% OFF)  \n",
       "31     Rs. 14025Rs. 16500(15% OFF)  \n",
       "32                        Rs. 9900  \n",
       "33       Rs. 8415Rs. 9900(15% OFF)  \n",
       "34      Rs. 9810Rs. 10900(10% OFF)  \n",
       "35     Rs. 12510Rs. 13900(10% OFF)  \n",
       "36                        Rs. 9990  \n",
       "37                        Rs. 8990  \n",
       "38                        Rs. 8990  \n",
       "39      Rs. 8925Rs. 10500(15% OFF)  \n",
       "40     Rs. 11475Rs. 13500(15% OFF)  \n",
       "41                        Rs. 8990  \n",
       "42      Rs. 8925Rs. 10500(15% OFF)  \n",
       "43     Rs. 10625Rs. 12500(15% OFF)  \n",
       "44      Rs. 7869Rs. 12900(39% OFF)  \n",
       "45     Rs. 12093Rs. 13900(13% OFF)  \n",
       "46      Rs. 9810Rs. 10900(10% OFF)  \n",
       "47      Rs. 8925Rs. 10500(15% OFF)  \n",
       "48      Rs. 9449Rs. 13499(30% OFF)  \n",
       "49                        Rs. 8990  "
      ]
     },
     "execution_count": 413,
     "metadata": {},
     "output_type": "execute_result"
    }
   ],
   "source": [
    "shoes2data=pd.DataFrame()\n",
    "shoes2data['Brand']=shoebrand_2\n",
    "shoes2data['Short Description']=shoedesc_2\n",
    "shoes2data['Price']=shoeprice_2\n",
    "\n",
    "shoes2data"
   ]
  },
  {
   "cell_type": "code",
   "execution_count": 414,
   "id": "6de7c8c4",
   "metadata": {},
   "outputs": [
    {
     "data": {
      "text/html": [
       "<div>\n",
       "<style scoped>\n",
       "    .dataframe tbody tr th:only-of-type {\n",
       "        vertical-align: middle;\n",
       "    }\n",
       "\n",
       "    .dataframe tbody tr th {\n",
       "        vertical-align: top;\n",
       "    }\n",
       "\n",
       "    .dataframe thead th {\n",
       "        text-align: right;\n",
       "    }\n",
       "</style>\n",
       "<table border=\"1\" class=\"dataframe\">\n",
       "  <thead>\n",
       "    <tr style=\"text-align: right;\">\n",
       "      <th></th>\n",
       "      <th>Brand</th>\n",
       "      <th>Short Description</th>\n",
       "      <th>Price</th>\n",
       "    </tr>\n",
       "  </thead>\n",
       "  <tbody>\n",
       "    <tr>\n",
       "      <th>0</th>\n",
       "      <td>ALDO</td>\n",
       "      <td>Men Leather Driving Shoes</td>\n",
       "      <td>Rs. 12999</td>\n",
       "    </tr>\n",
       "    <tr>\n",
       "      <th>1</th>\n",
       "      <td>Reebok</td>\n",
       "      <td>Men Zig Dynamica 2.0 Running</td>\n",
       "      <td>Rs. 7999</td>\n",
       "    </tr>\n",
       "    <tr>\n",
       "      <th>2</th>\n",
       "      <td>Nike</td>\n",
       "      <td>Men Winflo 7 Running Shoes</td>\n",
       "      <td>Rs. 7995</td>\n",
       "    </tr>\n",
       "    <tr>\n",
       "      <th>3</th>\n",
       "      <td>ALDO</td>\n",
       "      <td>Men Printed Sneakers</td>\n",
       "      <td>Rs. 9099Rs. 12999(30% OFF)</td>\n",
       "    </tr>\n",
       "    <tr>\n",
       "      <th>4</th>\n",
       "      <td>Tommy Hilfiger</td>\n",
       "      <td>Men Cleated Leather Sneakers</td>\n",
       "      <td>Rs. 7739Rs. 8599(10% OFF)</td>\n",
       "    </tr>\n",
       "    <tr>\n",
       "      <th>...</th>\n",
       "      <td>...</td>\n",
       "      <td>...</td>\n",
       "      <td>...</td>\n",
       "    </tr>\n",
       "    <tr>\n",
       "      <th>45</th>\n",
       "      <td>Saint G</td>\n",
       "      <td>Women High-Top Heeled Boots</td>\n",
       "      <td>Rs. 12093Rs. 13900(13% OFF)</td>\n",
       "    </tr>\n",
       "    <tr>\n",
       "      <th>46</th>\n",
       "      <td>Saint G</td>\n",
       "      <td>Leather Block Heeled Boots with Buckles</td>\n",
       "      <td>Rs. 9810Rs. 10900(10% OFF)</td>\n",
       "    </tr>\n",
       "    <tr>\n",
       "      <th>47</th>\n",
       "      <td>Saint G</td>\n",
       "      <td>Embellished Flatform Boots</td>\n",
       "      <td>Rs. 8925Rs. 10500(15% OFF)</td>\n",
       "    </tr>\n",
       "    <tr>\n",
       "      <th>48</th>\n",
       "      <td>ROSSO BRUNELLO</td>\n",
       "      <td>High-Top Block Heeled Boots</td>\n",
       "      <td>Rs. 9449Rs. 13499(30% OFF)</td>\n",
       "    </tr>\n",
       "    <tr>\n",
       "      <th>49</th>\n",
       "      <td>DAVINCHI</td>\n",
       "      <td>Men Textured Formal Leather Loafers</td>\n",
       "      <td>Rs. 8990</td>\n",
       "    </tr>\n",
       "  </tbody>\n",
       "</table>\n",
       "<p>100 rows × 3 columns</p>\n",
       "</div>"
      ],
      "text/plain": [
       "             Brand                        Short Description  \\\n",
       "0             ALDO                Men Leather Driving Shoes   \n",
       "1           Reebok             Men Zig Dynamica 2.0 Running   \n",
       "2             Nike               Men Winflo 7 Running Shoes   \n",
       "3             ALDO                     Men Printed Sneakers   \n",
       "4   Tommy Hilfiger             Men Cleated Leather Sneakers   \n",
       "..             ...                                      ...   \n",
       "45         Saint G              Women High-Top Heeled Boots   \n",
       "46         Saint G  Leather Block Heeled Boots with Buckles   \n",
       "47         Saint G               Embellished Flatform Boots   \n",
       "48  ROSSO BRUNELLO              High-Top Block Heeled Boots   \n",
       "49        DAVINCHI      Men Textured Formal Leather Loafers   \n",
       "\n",
       "                          Price  \n",
       "0                     Rs. 12999  \n",
       "1                      Rs. 7999  \n",
       "2                      Rs. 7995  \n",
       "3    Rs. 9099Rs. 12999(30% OFF)  \n",
       "4     Rs. 7739Rs. 8599(10% OFF)  \n",
       "..                          ...  \n",
       "45  Rs. 12093Rs. 13900(13% OFF)  \n",
       "46   Rs. 9810Rs. 10900(10% OFF)  \n",
       "47   Rs. 8925Rs. 10500(15% OFF)  \n",
       "48   Rs. 9449Rs. 13499(30% OFF)  \n",
       "49                     Rs. 8990  \n",
       "\n",
       "[100 rows x 3 columns]"
      ]
     },
     "execution_count": 414,
     "metadata": {},
     "output_type": "execute_result"
    }
   ],
   "source": [
    "shoedata=shoes1data.append(shoes2data)\n",
    "shoedata"
   ]
  },
  {
   "cell_type": "code",
   "execution_count": 415,
   "id": "4c1355ea",
   "metadata": {},
   "outputs": [],
   "source": [
    "#8. Enter \"Laptop\" in the search field of amazon.com and search. Then set the CPU type filter to \"Intel Core i7\" and \"Intel Core i9\". Scrape the first 10 laptops data. You have to scrape3 attributes for each laptopn: 1. title, 2. ratings, 3. price."
   ]
  },
  {
   "cell_type": "code",
   "execution_count": 434,
   "id": "b870fe06",
   "metadata": {},
   "outputs": [],
   "source": [
    "driver=webdriver.Chrome(r'C:/Users/Dell/Downloads/chromedriver_win32 (1)/chromedriver.exe')"
   ]
  },
  {
   "cell_type": "code",
   "execution_count": 435,
   "id": "5f8497b5",
   "metadata": {},
   "outputs": [],
   "source": [
    "url8='https://www.amazon.in/'\n",
    "driver.get(url8)"
   ]
  },
  {
   "cell_type": "code",
   "execution_count": 436,
   "id": "7b860bf5",
   "metadata": {},
   "outputs": [
    {
     "data": {
      "text/plain": [
       "<selenium.webdriver.remote.webelement.WebElement (session=\"f3da313c8d79d1057236293082132296\", element=\"6364148f-4e54-4eff-a9f9-8b21990c30b2\")>"
      ]
     },
     "execution_count": 436,
     "metadata": {},
     "output_type": "execute_result"
    }
   ],
   "source": [
    "search_spc=driver.find_element_by_xpath('/html/body/div[1]/header/div/div[1]/div[2]/div/form/div[2]/div[1]/input')\n",
    "search_spc"
   ]
  },
  {
   "cell_type": "code",
   "execution_count": 437,
   "id": "2da10434",
   "metadata": {},
   "outputs": [],
   "source": [
    "search_spc.send_keys(\"Laptop\")"
   ]
  },
  {
   "cell_type": "code",
   "execution_count": 438,
   "id": "d402022e",
   "metadata": {},
   "outputs": [
    {
     "data": {
      "text/plain": [
       "<selenium.webdriver.remote.webelement.WebElement (session=\"f3da313c8d79d1057236293082132296\", element=\"08aea630-9028-442f-bb80-1a97cc3c0c3e\")>"
      ]
     },
     "execution_count": 438,
     "metadata": {},
     "output_type": "execute_result"
    }
   ],
   "source": [
    "search_btn_spc=driver.find_element_by_xpath('/html/body/div[1]/header/div/div[1]/div[2]/div/form/div[3]/div/span/input')\n",
    "search_btn_spc"
   ]
  },
  {
   "cell_type": "code",
   "execution_count": 439,
   "id": "36cda80d",
   "metadata": {},
   "outputs": [],
   "source": [
    "search_btn_spc.click()"
   ]
  },
  {
   "cell_type": "code",
   "execution_count": 444,
   "id": "e6fed3b5",
   "metadata": {},
   "outputs": [],
   "source": [
    "driver.execute_script(\"window.scrollBy(0,200)\",\"\")"
   ]
  },
  {
   "cell_type": "code",
   "execution_count": 445,
   "id": "4a57ebfa",
   "metadata": {},
   "outputs": [
    {
     "data": {
      "text/plain": [
       "<selenium.webdriver.remote.webelement.WebElement (session=\"f3da313c8d79d1057236293082132296\", element=\"d1e269bd-5a30-4ab0-b069-066073370b94\")>"
      ]
     },
     "execution_count": 445,
     "metadata": {},
     "output_type": "execute_result"
    }
   ],
   "source": [
    "cputype1=driver.find_element_by_xpath('/html/body/div[1]/div[2]/div[1]/div[2]/div/div[3]/span/div[1]/div/div/div[6]/ul[5]/li[12]/span/a/div/label/i')\n",
    "cputype1"
   ]
  },
  {
   "cell_type": "code",
   "execution_count": 446,
   "id": "411ca9ae",
   "metadata": {},
   "outputs": [],
   "source": [
    "cputype1.click()"
   ]
  },
  {
   "cell_type": "code",
   "execution_count": 456,
   "id": "8957e4e1",
   "metadata": {},
   "outputs": [
    {
     "data": {
      "text/plain": [
       "[<selenium.webdriver.remote.webelement.WebElement (session=\"f3da313c8d79d1057236293082132296\", element=\"a984ca7c-232c-4b2a-81d3-df5fb2638bc3\")>,\n",
       " <selenium.webdriver.remote.webelement.WebElement (session=\"f3da313c8d79d1057236293082132296\", element=\"f8bc6f29-7e17-402e-97f5-44b645b893f3\")>,\n",
       " <selenium.webdriver.remote.webelement.WebElement (session=\"f3da313c8d79d1057236293082132296\", element=\"5da3f9e0-fbd3-4e91-8dbb-052fc04a05bf\")>,\n",
       " <selenium.webdriver.remote.webelement.WebElement (session=\"f3da313c8d79d1057236293082132296\", element=\"cc956feb-4bb3-4b6e-a6cf-8d8a5c5fc3b4\")>,\n",
       " <selenium.webdriver.remote.webelement.WebElement (session=\"f3da313c8d79d1057236293082132296\", element=\"bb506b73-e321-4458-ba86-8465996d5586\")>,\n",
       " <selenium.webdriver.remote.webelement.WebElement (session=\"f3da313c8d79d1057236293082132296\", element=\"0043da59-1faf-485a-b360-e0a37a149107\")>,\n",
       " <selenium.webdriver.remote.webelement.WebElement (session=\"f3da313c8d79d1057236293082132296\", element=\"1a3b571b-9a15-48f2-bc90-890f9a5504f5\")>,\n",
       " <selenium.webdriver.remote.webelement.WebElement (session=\"f3da313c8d79d1057236293082132296\", element=\"8c8b89b4-da40-4ecb-b4c2-7c9806770816\")>,\n",
       " <selenium.webdriver.remote.webelement.WebElement (session=\"f3da313c8d79d1057236293082132296\", element=\"63f306ec-95f6-45bd-8b03-34e41e565c39\")>,\n",
       " <selenium.webdriver.remote.webelement.WebElement (session=\"f3da313c8d79d1057236293082132296\", element=\"b97881ae-a0a7-4055-80a8-22eb95a59c44\")>,\n",
       " <selenium.webdriver.remote.webelement.WebElement (session=\"f3da313c8d79d1057236293082132296\", element=\"95afdcf5-6c69-4dee-87a3-ee4f719a9d03\")>,\n",
       " <selenium.webdriver.remote.webelement.WebElement (session=\"f3da313c8d79d1057236293082132296\", element=\"e1ab6149-a2e3-4c03-ad8d-c2c0745cc836\")>,\n",
       " <selenium.webdriver.remote.webelement.WebElement (session=\"f3da313c8d79d1057236293082132296\", element=\"a5fc497f-307b-48be-8900-95ea08dbc35a\")>,\n",
       " <selenium.webdriver.remote.webelement.WebElement (session=\"f3da313c8d79d1057236293082132296\", element=\"3cbbb8e0-acd0-4454-b412-e015860c6302\")>,\n",
       " <selenium.webdriver.remote.webelement.WebElement (session=\"f3da313c8d79d1057236293082132296\", element=\"f1ea122d-4444-4451-99dc-922d6dd250cf\")>,\n",
       " <selenium.webdriver.remote.webelement.WebElement (session=\"f3da313c8d79d1057236293082132296\", element=\"21f0c0e7-ac5f-4a57-9354-87b1a5c00412\")>,\n",
       " <selenium.webdriver.remote.webelement.WebElement (session=\"f3da313c8d79d1057236293082132296\", element=\"7256dcbd-4802-4f9e-81ea-eb1c07065492\")>,\n",
       " <selenium.webdriver.remote.webelement.WebElement (session=\"f3da313c8d79d1057236293082132296\", element=\"dd5ab5f9-10fe-435f-8522-18553eb69b75\")>,\n",
       " <selenium.webdriver.remote.webelement.WebElement (session=\"f3da313c8d79d1057236293082132296\", element=\"7df231b0-a394-4558-afde-96c5a6a7ce38\")>,\n",
       " <selenium.webdriver.remote.webelement.WebElement (session=\"f3da313c8d79d1057236293082132296\", element=\"89d382e2-12be-44f4-b2d5-915f5dc3b917\")>,\n",
       " <selenium.webdriver.remote.webelement.WebElement (session=\"f3da313c8d79d1057236293082132296\", element=\"d67923a3-6552-4d74-886d-4fc1fc1d5963\")>,\n",
       " <selenium.webdriver.remote.webelement.WebElement (session=\"f3da313c8d79d1057236293082132296\", element=\"81a85975-f697-44ab-96af-f40ed0ed0640\")>,\n",
       " <selenium.webdriver.remote.webelement.WebElement (session=\"f3da313c8d79d1057236293082132296\", element=\"f5e942b4-d6e8-46b7-b41e-e92d637c9f3f\")>,\n",
       " <selenium.webdriver.remote.webelement.WebElement (session=\"f3da313c8d79d1057236293082132296\", element=\"65ac3aaa-a8bc-4018-9e82-e92a6d89efbd\")>,\n",
       " <selenium.webdriver.remote.webelement.WebElement (session=\"f3da313c8d79d1057236293082132296\", element=\"aeb4b75c-8aea-4534-8eeb-7e0791ada0ce\")>,\n",
       " <selenium.webdriver.remote.webelement.WebElement (session=\"f3da313c8d79d1057236293082132296\", element=\"7d07969b-2ea1-4409-8616-993d2e320df7\")>,\n",
       " <selenium.webdriver.remote.webelement.WebElement (session=\"f3da313c8d79d1057236293082132296\", element=\"233ecc35-7656-4160-aa16-bbf5e8d743ec\")>,\n",
       " <selenium.webdriver.remote.webelement.WebElement (session=\"f3da313c8d79d1057236293082132296\", element=\"d1e86ad6-77ce-47df-8715-3f652616857f\")>,\n",
       " <selenium.webdriver.remote.webelement.WebElement (session=\"f3da313c8d79d1057236293082132296\", element=\"44fc0f99-51cb-428b-a0d4-26e927a2e1f8\")>,\n",
       " <selenium.webdriver.remote.webelement.WebElement (session=\"f3da313c8d79d1057236293082132296\", element=\"bce65370-5320-4749-ac44-8a50c787c57b\")>,\n",
       " <selenium.webdriver.remote.webelement.WebElement (session=\"f3da313c8d79d1057236293082132296\", element=\"3e09092b-3a63-4b36-a0c5-6672424f1e41\")>,\n",
       " <selenium.webdriver.remote.webelement.WebElement (session=\"f3da313c8d79d1057236293082132296\", element=\"a6ea414d-0621-43d7-87df-25eb30cd8280\")>,\n",
       " <selenium.webdriver.remote.webelement.WebElement (session=\"f3da313c8d79d1057236293082132296\", element=\"1ae48b5d-a768-42c2-add4-d4a83984ad40\")>,\n",
       " <selenium.webdriver.remote.webelement.WebElement (session=\"f3da313c8d79d1057236293082132296\", element=\"d557aad7-5dfc-4409-a0c9-0378e839cb6d\")>,\n",
       " <selenium.webdriver.remote.webelement.WebElement (session=\"f3da313c8d79d1057236293082132296\", element=\"44558811-7d62-4dbc-91d2-5039f8e6da8c\")>,\n",
       " <selenium.webdriver.remote.webelement.WebElement (session=\"f3da313c8d79d1057236293082132296\", element=\"8ac5eae8-139a-46fe-bdf8-d999dcba5df5\")>]"
      ]
     },
     "execution_count": 456,
     "metadata": {},
     "output_type": "execute_result"
    }
   ],
   "source": [
    "core7title=driver.find_elements_by_class_name('s-line-clamp-2')\n",
    "core7title"
   ]
  },
  {
   "cell_type": "code",
   "execution_count": 457,
   "id": "c5c278d8",
   "metadata": {},
   "outputs": [
    {
     "data": {
      "text/plain": [
       "36"
      ]
     },
     "execution_count": 457,
     "metadata": {},
     "output_type": "execute_result"
    }
   ],
   "source": [
    "len(core7title)"
   ]
  },
  {
   "cell_type": "code",
   "execution_count": 458,
   "id": "2567e7c7",
   "metadata": {
    "scrolled": true
   },
   "outputs": [
    {
     "data": {
      "text/plain": [
       "['Fujitsu UH-X 11th Gen Intel Core i7 13.3” FHD IPS 400Nits Thin & Light Laptop(16GB/512GB SSD/Windows 11/Office 2021/Iris Xe Graphics/Backlit Kb/Fingerprint Reader/2Yr Warranty/Black/878gms),4ZR1F38024',\n",
       " 'MSI Modern 14, Intel i7-1195G7, 14\" FHD IPS-Level 60Hz Panel Laptop (8GB/512GB NVMe SSD/Windows 10 Home/Nvidia MX450 2GB Graphics/Carbon Grey/1.3Kg), B11SBU-688IN',\n",
       " 'Mi Notebook Ultra 3.2K Resolution Display Intel Core i7-11370H 11th Gen 15.6-inch(39.62 cm) Thin and Light Laptop (16GB/512GB SSD/Iris Xe Graphic/Win 10/MS Office/Backlit KB/Fingerprint Sensor/1.7Kg)',\n",
       " 'ASUS VivoBook 14 (2021), 14-inch (35.56 cms) FHD, Intel Core i7-1065G7 10th Gen, Thin and Light Laptop (16GB/512GB SSD/Integrated Graphics/Office 2021/Windows 11/Silver/1.6 Kg), X415JA-EK701WS',\n",
       " 'ASUS TUF Gaming F15 (2021), 15.6\" (39.62 cms) FHD 144Hz, Intel Core i7-11600H 11th Gen, 4GB RTX 3050 Graphics, Gaming Laptop (16GB/512GB SSD/Windows 10/Office 2019/Gray/2.3 Kg), FX566HCB-HN299TS',\n",
       " 'LG Gram 14 Intel Evo 11th Gen Core i7 14 inches Ultralight Laptop (16 GB RAM, 512 GB SSD, Windows 10, Iris Xe Graphics Thunderbolt 4, USC -Cx2 (with Power), 0.999kg, 14Z90P, Black)',\n",
       " 'Fujitsu UH-X 11th Gen Intel Core i7 13.3\" FHD IPS 400Nits 2-in1 Touch Convertible Laptop (16GB/1TB SSD/Windows 11/MS Office 2021/Iris Xe Graphics/2 Yr Warranty/Backlit Kb/Black/0.997 kg, 4ZR1F38027)',\n",
       " 'Lenovo ThinkBook 15 Intel 11th Gen Core i7 15.6\"(39.62 cm)FHD Thin and Light Laptop (16GB/512GB SSD/Windows 11 Home/MS Office H&S 2021/Iris® Xe Graphics/Backlit/Mineral Grey/1.7 Kg) 20VE00W4IH',\n",
       " 'Fujitsu UH-X 11th Gen Intel Core i7 13.3” FHD IPS 400Nits Thin & Light Laptop(16GB/512GB SSD/Windows 11/Office 2021/Iris Xe Graphics/Backlit Kb/Fingerprint Reader/2Yr Warranty/Black/878gms),4ZR1F38024',\n",
       " 'ASUS VivoBook K15 OLED (2021), 15.6-inch (39.62 cms) FHD OLED, Intel Core i7-1165G7 11th Gen, Thin and Light Laptop (16GB/512GB SSD/Iris Xe Graphics/Office 2021/Windows 11/Silver/1.8 Kg) K513EA-L712WS']"
      ]
     },
     "execution_count": 458,
     "metadata": {},
     "output_type": "execute_result"
    }
   ],
   "source": [
    "c7title=[]\n",
    "\n",
    "for i in core7title:\n",
    "    c7title.append(i.text)\n",
    "    \n",
    "c7title[0:10]"
   ]
  },
  {
   "cell_type": "code",
   "execution_count": 477,
   "id": "3ce28f28",
   "metadata": {},
   "outputs": [
    {
     "data": {
      "text/plain": [
       "[<selenium.webdriver.remote.webelement.WebElement (session=\"f3da313c8d79d1057236293082132296\", element=\"968a0733-452d-48b4-a5f2-322bd25d5f62\")>]"
      ]
     },
     "execution_count": 477,
     "metadata": {},
     "output_type": "execute_result"
    }
   ],
   "source": [
    "core7rating=driver.find_elements_by_xpath('/html/body/div[1]/div[2]/div[1]/div[1]/div/span[3]/div[2]/div[3]/div/div/div/div/div/div/div/div[2]/div/div/div[2]/div/span[1]')\n",
    "core7rating"
   ]
  },
  {
   "cell_type": "code",
   "execution_count": null,
   "id": "c20a255f",
   "metadata": {},
   "outputs": [],
   "source": []
  },
  {
   "cell_type": "code",
   "execution_count": null,
   "id": "6d88df40",
   "metadata": {},
   "outputs": [],
   "source": []
  },
  {
   "cell_type": "code",
   "execution_count": null,
   "id": "8e1d4ae3",
   "metadata": {},
   "outputs": [],
   "source": []
  },
  {
   "cell_type": "code",
   "execution_count": null,
   "id": "89ae3464",
   "metadata": {},
   "outputs": [],
   "source": []
  },
  {
   "cell_type": "code",
   "execution_count": null,
   "id": "e0802ffe",
   "metadata": {},
   "outputs": [],
   "source": []
  },
  {
   "cell_type": "code",
   "execution_count": null,
   "id": "cd9d95c4",
   "metadata": {},
   "outputs": [],
   "source": []
  },
  {
   "cell_type": "code",
   "execution_count": 475,
   "id": "8b3e00c7",
   "metadata": {},
   "outputs": [
    {
     "data": {
      "text/plain": [
       "59"
      ]
     },
     "execution_count": 475,
     "metadata": {},
     "output_type": "execute_result"
    }
   ],
   "source": [
    "len(core7rating)"
   ]
  },
  {
   "cell_type": "code",
   "execution_count": null,
   "id": "955fb6da",
   "metadata": {},
   "outputs": [],
   "source": []
  },
  {
   "cell_type": "code",
   "execution_count": null,
   "id": "7325b185",
   "metadata": {},
   "outputs": [],
   "source": []
  },
  {
   "cell_type": "code",
   "execution_count": null,
   "id": "e9ff74ea",
   "metadata": {},
   "outputs": [],
   "source": []
  },
  {
   "cell_type": "code",
   "execution_count": null,
   "id": "51344fec",
   "metadata": {},
   "outputs": [],
   "source": []
  },
  {
   "cell_type": "code",
   "execution_count": null,
   "id": "40297e66",
   "metadata": {},
   "outputs": [],
   "source": []
  },
  {
   "cell_type": "code",
   "execution_count": 478,
   "id": "3058781e",
   "metadata": {},
   "outputs": [
    {
     "data": {
      "text/plain": [
       "['']"
      ]
     },
     "execution_count": 478,
     "metadata": {},
     "output_type": "execute_result"
    }
   ],
   "source": [
    "c7rating=[]\n",
    "\n",
    "for i in core7rating:\n",
    "    c7rating.append(i.text)\n",
    "    \n",
    "c7rating[0:10]"
   ]
  },
  {
   "cell_type": "code",
   "execution_count": null,
   "id": "064d6e12",
   "metadata": {},
   "outputs": [],
   "source": []
  },
  {
   "cell_type": "code",
   "execution_count": null,
   "id": "15d80611",
   "metadata": {},
   "outputs": [],
   "source": []
  },
  {
   "cell_type": "code",
   "execution_count": 479,
   "id": "d1f15d84",
   "metadata": {},
   "outputs": [],
   "source": [
    "#9. Write a python program to scrape data for first 10 job results for Data Scientist designation in Noida"
   ]
  },
  {
   "cell_type": "code",
   "execution_count": 481,
   "id": "e70ff038",
   "metadata": {},
   "outputs": [],
   "source": [
    "driver=webdriver.Chrome(r'C:/Users/Dell/Downloads/chromedriver_win32 (1)/chromedriver.exe')"
   ]
  },
  {
   "cell_type": "code",
   "execution_count": null,
   "id": "1caccf74",
   "metadata": {},
   "outputs": [],
   "source": []
  },
  {
   "cell_type": "code",
   "execution_count": 482,
   "id": "45623580",
   "metadata": {},
   "outputs": [],
   "source": [
    "url9='https://www.ambitionbox.com/'\n",
    "driver.get(url9)"
   ]
  },
  {
   "cell_type": "code",
   "execution_count": 483,
   "id": "7c46bf11",
   "metadata": {},
   "outputs": [
    {
     "data": {
      "text/plain": [
       "<selenium.webdriver.remote.webelement.WebElement (session=\"d5f0c1cc19293cb54a17834319301bc5\", element=\"35940d45-e48a-40c4-871d-2dbc9f4e833b\")>"
      ]
     },
     "execution_count": 483,
     "metadata": {},
     "output_type": "execute_result"
    }
   ],
   "source": [
    "jobs_option=driver.find_element_by_xpath('/html/body/div[1]/nav/nav/a[6]')\n",
    "jobs_option"
   ]
  },
  {
   "cell_type": "code",
   "execution_count": 484,
   "id": "3b0481d4",
   "metadata": {},
   "outputs": [],
   "source": [
    "jobs_option.click()"
   ]
  },
  {
   "cell_type": "code",
   "execution_count": 485,
   "id": "c85de05f",
   "metadata": {},
   "outputs": [
    {
     "data": {
      "text/plain": [
       "<selenium.webdriver.remote.webelement.WebElement (session=\"d5f0c1cc19293cb54a17834319301bc5\", element=\"27b7d143-4305-4f3f-acb1-92a266230116\")>"
      ]
     },
     "execution_count": 485,
     "metadata": {},
     "output_type": "execute_result"
    }
   ],
   "source": [
    "job_searchsp=driver.find_element_by_xpath('/html/body/div/div/div/div[2]/div[1]/div/div/div/div/span/input')\n",
    "job_searchsp"
   ]
  },
  {
   "cell_type": "code",
   "execution_count": 486,
   "id": "ece18eee",
   "metadata": {},
   "outputs": [],
   "source": [
    "job_searchsp.send_keys(\"Data Scientist\")"
   ]
  },
  {
   "cell_type": "code",
   "execution_count": 487,
   "id": "cc63b83b",
   "metadata": {},
   "outputs": [
    {
     "data": {
      "text/plain": [
       "<selenium.webdriver.remote.webelement.WebElement (session=\"d5f0c1cc19293cb54a17834319301bc5\", element=\"0dfb35a2-fb2e-4c25-b765-bd6cc4318886\")>"
      ]
     },
     "execution_count": 487,
     "metadata": {},
     "output_type": "execute_result"
    }
   ],
   "source": [
    "jobsearchbtn=driver.find_element_by_xpath('/html/body/div/div/div/div[2]/div[1]/div/div/div/button/span')\n",
    "jobsearchbtn"
   ]
  },
  {
   "cell_type": "code",
   "execution_count": 488,
   "id": "6c043b05",
   "metadata": {},
   "outputs": [],
   "source": [
    "jobsearchbtn.click()"
   ]
  },
  {
   "cell_type": "code",
   "execution_count": 489,
   "id": "ab1d80d5",
   "metadata": {},
   "outputs": [
    {
     "data": {
      "text/plain": [
       "<selenium.webdriver.remote.webelement.WebElement (session=\"d5f0c1cc19293cb54a17834319301bc5\", element=\"e67ebc69-a3f1-490b-8b45-d8e7d29fbfe4\")>"
      ]
     },
     "execution_count": 489,
     "metadata": {},
     "output_type": "execute_result"
    }
   ],
   "source": [
    "select_location=driver.find_element_by_xpath('/html/body/div/div/div/div[2]/div[2]/div[1]/div/div/div/div[2]/div[1]/p')\n",
    "select_location"
   ]
  },
  {
   "cell_type": "code",
   "execution_count": 490,
   "id": "45a692a6",
   "metadata": {},
   "outputs": [],
   "source": [
    "select_location.click()"
   ]
  },
  {
   "cell_type": "code",
   "execution_count": 491,
   "id": "114df905",
   "metadata": {},
   "outputs": [
    {
     "data": {
      "text/plain": [
       "<selenium.webdriver.remote.webelement.WebElement (session=\"d5f0c1cc19293cb54a17834319301bc5\", element=\"ecf86fa0-1d80-4f09-94e4-f0df08aeb7ce\")>"
      ]
     },
     "execution_count": 491,
     "metadata": {},
     "output_type": "execute_result"
    }
   ],
   "source": [
    "location_searchsp=driver.find_element_by_xpath('/html/body/div/div/div/div[2]/div[2]/div[1]/div/div/div/div[2]/div[2]/div/div[2]/input')\n",
    "location_searchsp"
   ]
  },
  {
   "cell_type": "code",
   "execution_count": 492,
   "id": "dc3a62f3",
   "metadata": {},
   "outputs": [],
   "source": [
    "location_searchsp.send_keys(\"Noida\")"
   ]
  },
  {
   "cell_type": "code",
   "execution_count": 493,
   "id": "8a542974",
   "metadata": {},
   "outputs": [
    {
     "data": {
      "text/plain": [
       "<selenium.webdriver.remote.webelement.WebElement (session=\"d5f0c1cc19293cb54a17834319301bc5\", element=\"79ca0b0d-242d-4e31-b263-ae460c6521ea\")>"
      ]
     },
     "execution_count": 493,
     "metadata": {},
     "output_type": "execute_result"
    }
   ],
   "source": [
    "select_loc=driver.find_element_by_xpath('/html/body/div/div/div/div[2]/div[2]/div[1]/div/div/div/div[2]/div[2]/div/div[3]/div[1]/div[1]/div/label')\n",
    "select_loc"
   ]
  },
  {
   "cell_type": "code",
   "execution_count": 494,
   "id": "a1ffd2ea",
   "metadata": {},
   "outputs": [],
   "source": [
    "select_loc.click()"
   ]
  },
  {
   "cell_type": "code",
   "execution_count": 497,
   "id": "1da81639",
   "metadata": {},
   "outputs": [],
   "source": [
    "driver.execute_script(\"window.scrollBy(0,500)\",\"\")"
   ]
  },
  {
   "cell_type": "code",
   "execution_count": 520,
   "id": "3cdeb095",
   "metadata": {},
   "outputs": [
    {
     "data": {
      "text/plain": [
       "[]"
      ]
     },
     "execution_count": 520,
     "metadata": {},
     "output_type": "execute_result"
    }
   ],
   "source": [
    "companyname=driver.find_elements_by_xpath('')\n",
    "companyname"
   ]
  },
  {
   "cell_type": "code",
   "execution_count": null,
   "id": "6741d2a4",
   "metadata": {},
   "outputs": [],
   "source": []
  },
  {
   "cell_type": "code",
   "execution_count": null,
   "id": "a199de56",
   "metadata": {},
   "outputs": [],
   "source": []
  },
  {
   "cell_type": "code",
   "execution_count": null,
   "id": "daeb09c2",
   "metadata": {},
   "outputs": [],
   "source": []
  },
  {
   "cell_type": "code",
   "execution_count": null,
   "id": "d630695a",
   "metadata": {},
   "outputs": [],
   "source": []
  },
  {
   "cell_type": "code",
   "execution_count": null,
   "id": "4e9c9783",
   "metadata": {},
   "outputs": [],
   "source": []
  },
  {
   "cell_type": "code",
   "execution_count": null,
   "id": "f49521ea",
   "metadata": {},
   "outputs": [],
   "source": []
  },
  {
   "cell_type": "code",
   "execution_count": null,
   "id": "96ee0f15",
   "metadata": {},
   "outputs": [],
   "source": []
  },
  {
   "cell_type": "code",
   "execution_count": null,
   "id": "59b3bdc6",
   "metadata": {},
   "outputs": [],
   "source": []
  },
  {
   "cell_type": "code",
   "execution_count": null,
   "id": "c4267839",
   "metadata": {},
   "outputs": [],
   "source": []
  },
  {
   "cell_type": "code",
   "execution_count": null,
   "id": "1d15c666",
   "metadata": {},
   "outputs": [],
   "source": []
  },
  {
   "cell_type": "code",
   "execution_count": null,
   "id": "1387975d",
   "metadata": {},
   "outputs": [],
   "source": []
  },
  {
   "cell_type": "code",
   "execution_count": null,
   "id": "603547bb",
   "metadata": {},
   "outputs": [],
   "source": []
  },
  {
   "cell_type": "code",
   "execution_count": null,
   "id": "c2c83320",
   "metadata": {},
   "outputs": [],
   "source": []
  },
  {
   "cell_type": "code",
   "execution_count": null,
   "id": "bf4433c0",
   "metadata": {},
   "outputs": [],
   "source": []
  },
  {
   "cell_type": "code",
   "execution_count": null,
   "id": "a5001d5b",
   "metadata": {},
   "outputs": [],
   "source": []
  },
  {
   "cell_type": "code",
   "execution_count": null,
   "id": "fb3d11f1",
   "metadata": {},
   "outputs": [],
   "source": []
  },
  {
   "cell_type": "code",
   "execution_count": null,
   "id": "39ab5a3f",
   "metadata": {},
   "outputs": [],
   "source": []
  },
  {
   "cell_type": "code",
   "execution_count": null,
   "id": "b3bd9e77",
   "metadata": {},
   "outputs": [],
   "source": []
  },
  {
   "cell_type": "code",
   "execution_count": null,
   "id": "0f1d208b",
   "metadata": {},
   "outputs": [],
   "source": []
  },
  {
   "cell_type": "code",
   "execution_count": null,
   "id": "580dcc62",
   "metadata": {},
   "outputs": [],
   "source": []
  },
  {
   "cell_type": "code",
   "execution_count": null,
   "id": "c40d2be4",
   "metadata": {},
   "outputs": [],
   "source": []
  },
  {
   "cell_type": "code",
   "execution_count": null,
   "id": "262e1bf0",
   "metadata": {},
   "outputs": [],
   "source": []
  },
  {
   "cell_type": "code",
   "execution_count": null,
   "id": "49399c3b",
   "metadata": {},
   "outputs": [],
   "source": []
  },
  {
   "cell_type": "code",
   "execution_count": null,
   "id": "fd695866",
   "metadata": {},
   "outputs": [],
   "source": []
  },
  {
   "cell_type": "code",
   "execution_count": null,
   "id": "65311ed8",
   "metadata": {},
   "outputs": [],
   "source": []
  },
  {
   "cell_type": "code",
   "execution_count": null,
   "id": "5f035417",
   "metadata": {},
   "outputs": [],
   "source": []
  },
  {
   "cell_type": "code",
   "execution_count": null,
   "id": "881239b0",
   "metadata": {},
   "outputs": [],
   "source": []
  },
  {
   "cell_type": "code",
   "execution_count": null,
   "id": "7645851f",
   "metadata": {},
   "outputs": [],
   "source": []
  },
  {
   "cell_type": "code",
   "execution_count": null,
   "id": "87ff282f",
   "metadata": {},
   "outputs": [],
   "source": []
  },
  {
   "cell_type": "code",
   "execution_count": null,
   "id": "8680b5fc",
   "metadata": {},
   "outputs": [],
   "source": []
  },
  {
   "cell_type": "code",
   "execution_count": null,
   "id": "9f523c42",
   "metadata": {},
   "outputs": [],
   "source": []
  },
  {
   "cell_type": "code",
   "execution_count": null,
   "id": "840f9854",
   "metadata": {},
   "outputs": [],
   "source": []
  },
  {
   "cell_type": "code",
   "execution_count": null,
   "id": "958e357a",
   "metadata": {},
   "outputs": [],
   "source": []
  },
  {
   "cell_type": "code",
   "execution_count": null,
   "id": "503fb986",
   "metadata": {},
   "outputs": [],
   "source": []
  },
  {
   "cell_type": "code",
   "execution_count": null,
   "id": "0288ffab",
   "metadata": {},
   "outputs": [],
   "source": []
  },
  {
   "cell_type": "code",
   "execution_count": null,
   "id": "63eac039",
   "metadata": {},
   "outputs": [],
   "source": []
  },
  {
   "cell_type": "code",
   "execution_count": null,
   "id": "af5694dc",
   "metadata": {},
   "outputs": [],
   "source": []
  },
  {
   "cell_type": "code",
   "execution_count": null,
   "id": "2e9b5036",
   "metadata": {},
   "outputs": [],
   "source": []
  },
  {
   "cell_type": "code",
   "execution_count": null,
   "id": "781d6ce0",
   "metadata": {},
   "outputs": [],
   "source": []
  },
  {
   "cell_type": "code",
   "execution_count": null,
   "id": "40dd9821",
   "metadata": {},
   "outputs": [],
   "source": []
  },
  {
   "cell_type": "code",
   "execution_count": null,
   "id": "684d1f52",
   "metadata": {},
   "outputs": [],
   "source": []
  },
  {
   "cell_type": "code",
   "execution_count": null,
   "id": "a6183d80",
   "metadata": {},
   "outputs": [],
   "source": []
  },
  {
   "cell_type": "code",
   "execution_count": null,
   "id": "4b7f66df",
   "metadata": {},
   "outputs": [],
   "source": []
  },
  {
   "cell_type": "code",
   "execution_count": null,
   "id": "d34b915b",
   "metadata": {},
   "outputs": [],
   "source": []
  },
  {
   "cell_type": "code",
   "execution_count": null,
   "id": "ff5562dd",
   "metadata": {},
   "outputs": [],
   "source": []
  },
  {
   "cell_type": "code",
   "execution_count": null,
   "id": "8a5c417f",
   "metadata": {},
   "outputs": [],
   "source": []
  },
  {
   "cell_type": "code",
   "execution_count": null,
   "id": "40ab6c98",
   "metadata": {},
   "outputs": [],
   "source": []
  },
  {
   "cell_type": "code",
   "execution_count": null,
   "id": "1c7927c7",
   "metadata": {},
   "outputs": [],
   "source": []
  },
  {
   "cell_type": "code",
   "execution_count": null,
   "id": "7bcc0e0b",
   "metadata": {},
   "outputs": [],
   "source": []
  },
  {
   "cell_type": "code",
   "execution_count": null,
   "id": "5a1fbc32",
   "metadata": {},
   "outputs": [],
   "source": []
  },
  {
   "cell_type": "code",
   "execution_count": null,
   "id": "0d5af3ea",
   "metadata": {},
   "outputs": [],
   "source": []
  },
  {
   "cell_type": "code",
   "execution_count": null,
   "id": "f32c58fc",
   "metadata": {},
   "outputs": [],
   "source": []
  },
  {
   "cell_type": "code",
   "execution_count": null,
   "id": "4c5d1efd",
   "metadata": {},
   "outputs": [],
   "source": []
  },
  {
   "cell_type": "code",
   "execution_count": null,
   "id": "a29248bf",
   "metadata": {},
   "outputs": [],
   "source": []
  },
  {
   "cell_type": "code",
   "execution_count": null,
   "id": "bec390db",
   "metadata": {},
   "outputs": [],
   "source": []
  },
  {
   "cell_type": "code",
   "execution_count": null,
   "id": "49ac2d52",
   "metadata": {},
   "outputs": [],
   "source": []
  },
  {
   "cell_type": "code",
   "execution_count": null,
   "id": "58be40a6",
   "metadata": {},
   "outputs": [],
   "source": []
  },
  {
   "cell_type": "code",
   "execution_count": null,
   "id": "a47d9644",
   "metadata": {},
   "outputs": [],
   "source": []
  },
  {
   "cell_type": "code",
   "execution_count": null,
   "id": "76c75e22",
   "metadata": {},
   "outputs": [],
   "source": []
  },
  {
   "cell_type": "code",
   "execution_count": null,
   "id": "225a9289",
   "metadata": {},
   "outputs": [],
   "source": []
  },
  {
   "cell_type": "code",
   "execution_count": null,
   "id": "3a56640d",
   "metadata": {},
   "outputs": [],
   "source": []
  },
  {
   "cell_type": "code",
   "execution_count": null,
   "id": "875814c7",
   "metadata": {},
   "outputs": [],
   "source": []
  },
  {
   "cell_type": "code",
   "execution_count": null,
   "id": "4f118ccd",
   "metadata": {},
   "outputs": [],
   "source": []
  },
  {
   "cell_type": "code",
   "execution_count": null,
   "id": "bee2a3a6",
   "metadata": {},
   "outputs": [],
   "source": []
  },
  {
   "cell_type": "code",
   "execution_count": null,
   "id": "495fd966",
   "metadata": {},
   "outputs": [],
   "source": []
  },
  {
   "cell_type": "code",
   "execution_count": null,
   "id": "50841cf7",
   "metadata": {},
   "outputs": [],
   "source": []
  },
  {
   "cell_type": "code",
   "execution_count": null,
   "id": "7295169c",
   "metadata": {},
   "outputs": [],
   "source": []
  },
  {
   "cell_type": "code",
   "execution_count": null,
   "id": "85ab454a",
   "metadata": {},
   "outputs": [],
   "source": []
  },
  {
   "cell_type": "code",
   "execution_count": null,
   "id": "5e46d3c7",
   "metadata": {},
   "outputs": [],
   "source": []
  },
  {
   "cell_type": "code",
   "execution_count": null,
   "id": "183df82b",
   "metadata": {},
   "outputs": [],
   "source": []
  },
  {
   "cell_type": "code",
   "execution_count": null,
   "id": "cf4cec93",
   "metadata": {},
   "outputs": [],
   "source": []
  },
  {
   "cell_type": "code",
   "execution_count": null,
   "id": "1c9b49d2",
   "metadata": {},
   "outputs": [],
   "source": []
  },
  {
   "cell_type": "code",
   "execution_count": null,
   "id": "7a877260",
   "metadata": {},
   "outputs": [],
   "source": []
  },
  {
   "cell_type": "code",
   "execution_count": null,
   "id": "78afc784",
   "metadata": {},
   "outputs": [],
   "source": []
  },
  {
   "cell_type": "code",
   "execution_count": null,
   "id": "22311cd8",
   "metadata": {},
   "outputs": [],
   "source": []
  },
  {
   "cell_type": "code",
   "execution_count": null,
   "id": "d8cd9b62",
   "metadata": {},
   "outputs": [],
   "source": []
  },
  {
   "cell_type": "code",
   "execution_count": null,
   "id": "1584577f",
   "metadata": {},
   "outputs": [],
   "source": []
  },
  {
   "cell_type": "code",
   "execution_count": null,
   "id": "969a4e66",
   "metadata": {},
   "outputs": [],
   "source": []
  },
  {
   "cell_type": "code",
   "execution_count": null,
   "id": "a5959600",
   "metadata": {},
   "outputs": [],
   "source": []
  },
  {
   "cell_type": "code",
   "execution_count": null,
   "id": "0756020c",
   "metadata": {},
   "outputs": [],
   "source": []
  },
  {
   "cell_type": "code",
   "execution_count": null,
   "id": "bbca852b",
   "metadata": {},
   "outputs": [],
   "source": []
  },
  {
   "cell_type": "code",
   "execution_count": null,
   "id": "020c2bee",
   "metadata": {},
   "outputs": [],
   "source": []
  },
  {
   "cell_type": "code",
   "execution_count": null,
   "id": "cdc1e25c",
   "metadata": {},
   "outputs": [],
   "source": []
  },
  {
   "cell_type": "code",
   "execution_count": null,
   "id": "ca901398",
   "metadata": {},
   "outputs": [],
   "source": []
  },
  {
   "cell_type": "code",
   "execution_count": null,
   "id": "71eb86e4",
   "metadata": {},
   "outputs": [],
   "source": []
  },
  {
   "cell_type": "code",
   "execution_count": null,
   "id": "bee1e96a",
   "metadata": {},
   "outputs": [],
   "source": []
  },
  {
   "cell_type": "code",
   "execution_count": null,
   "id": "90e9ca36",
   "metadata": {},
   "outputs": [],
   "source": []
  },
  {
   "cell_type": "code",
   "execution_count": null,
   "id": "6c79b18e",
   "metadata": {},
   "outputs": [],
   "source": []
  },
  {
   "cell_type": "code",
   "execution_count": null,
   "id": "1c02b865",
   "metadata": {},
   "outputs": [],
   "source": []
  },
  {
   "cell_type": "code",
   "execution_count": null,
   "id": "0a1115af",
   "metadata": {},
   "outputs": [],
   "source": []
  },
  {
   "cell_type": "code",
   "execution_count": null,
   "id": "d4ff7e68",
   "metadata": {},
   "outputs": [],
   "source": []
  },
  {
   "cell_type": "code",
   "execution_count": null,
   "id": "b898581c",
   "metadata": {},
   "outputs": [],
   "source": []
  },
  {
   "cell_type": "code",
   "execution_count": null,
   "id": "065c2490",
   "metadata": {},
   "outputs": [],
   "source": []
  },
  {
   "cell_type": "code",
   "execution_count": null,
   "id": "c5b4aed9",
   "metadata": {},
   "outputs": [],
   "source": []
  },
  {
   "cell_type": "code",
   "execution_count": null,
   "id": "e999f2a0",
   "metadata": {},
   "outputs": [],
   "source": []
  },
  {
   "cell_type": "code",
   "execution_count": null,
   "id": "b11e0c40",
   "metadata": {},
   "outputs": [],
   "source": []
  },
  {
   "cell_type": "code",
   "execution_count": null,
   "id": "c2ebd9b5",
   "metadata": {},
   "outputs": [],
   "source": []
  },
  {
   "cell_type": "code",
   "execution_count": null,
   "id": "155a5238",
   "metadata": {},
   "outputs": [],
   "source": []
  },
  {
   "cell_type": "code",
   "execution_count": null,
   "id": "d33ce70b",
   "metadata": {},
   "outputs": [],
   "source": []
  },
  {
   "cell_type": "code",
   "execution_count": null,
   "id": "d678fe06",
   "metadata": {},
   "outputs": [],
   "source": []
  },
  {
   "cell_type": "code",
   "execution_count": null,
   "id": "45a919e2",
   "metadata": {},
   "outputs": [],
   "source": []
  },
  {
   "cell_type": "code",
   "execution_count": null,
   "id": "8a15299b",
   "metadata": {},
   "outputs": [],
   "source": []
  }
 ],
 "metadata": {
  "kernelspec": {
   "display_name": "Python 3",
   "language": "python",
   "name": "python3"
  },
  "language_info": {
   "codemirror_mode": {
    "name": "ipython",
    "version": 3
   },
   "file_extension": ".py",
   "mimetype": "text/x-python",
   "name": "python",
   "nbconvert_exporter": "python",
   "pygments_lexer": "ipython3",
   "version": "3.8.8"
  }
 },
 "nbformat": 4,
 "nbformat_minor": 5
}
