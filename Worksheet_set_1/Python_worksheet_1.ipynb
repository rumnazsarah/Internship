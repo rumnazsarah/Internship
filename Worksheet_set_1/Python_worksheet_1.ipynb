{
 "cells": [
  {
   "cell_type": "code",
   "execution_count": 1,
   "id": "10b0795a",
   "metadata": {},
   "outputs": [
    {
     "data": {
      "text/plain": [
       "1"
      ]
     },
     "execution_count": 1,
     "metadata": {},
     "output_type": "execute_result"
    }
   ],
   "source": [
    "#1. Which of the following operators is used to calculate a remainder in division?\n",
    "#Ans. C\n",
    "\n",
    "9%2"
   ]
  },
  {
   "cell_type": "code",
   "execution_count": 2,
   "id": "5394a2e7",
   "metadata": {},
   "outputs": [
    {
     "data": {
      "text/plain": [
       "0"
      ]
     },
     "execution_count": 2,
     "metadata": {},
     "output_type": "execute_result"
    }
   ],
   "source": [
    "#2. In python, 2//3 is equal to?\n",
    "#Ans. B\n",
    "\n",
    "2//3"
   ]
  },
  {
   "cell_type": "code",
   "execution_count": 3,
   "id": "78e4ac41",
   "metadata": {},
   "outputs": [
    {
     "data": {
      "text/plain": [
       "24"
      ]
     },
     "execution_count": 3,
     "metadata": {},
     "output_type": "execute_result"
    }
   ],
   "source": [
    "#3. In python, 6<<2 is equal to?\n",
    "#Ans. C\n",
    "\n",
    "6<<2"
   ]
  },
  {
   "cell_type": "code",
   "execution_count": 4,
   "id": "fd9a68e5",
   "metadata": {},
   "outputs": [
    {
     "data": {
      "text/plain": [
       "2"
      ]
     },
     "execution_count": 4,
     "metadata": {},
     "output_type": "execute_result"
    }
   ],
   "source": [
    "#4. In python, 6&2 will give which of the following as output?\n",
    "#Ans. A\n",
    "\n",
    "6&2"
   ]
  },
  {
   "cell_type": "code",
   "execution_count": 5,
   "id": "da7beb4a",
   "metadata": {},
   "outputs": [
    {
     "data": {
      "text/plain": [
       "6"
      ]
     },
     "execution_count": 5,
     "metadata": {},
     "output_type": "execute_result"
    }
   ],
   "source": [
    "#5. In python, 6|2 will give which of the following as output?\n",
    "#Ans. D\n",
    "\n",
    "6|2"
   ]
  },
  {
   "cell_type": "code",
   "execution_count": 1,
   "id": "7bcb9bd9",
   "metadata": {},
   "outputs": [],
   "source": [
    "#6. What does the finally keyword denotes in python?\n",
    "#Ans. C"
   ]
  },
  {
   "cell_type": "code",
   "execution_count": null,
   "id": "555eb0fd",
   "metadata": {},
   "outputs": [],
   "source": [
    "#7. What does raise keyword is used for in python?\n",
    "#Ans.a"
   ]
  },
  {
   "cell_type": "code",
   "execution_count": 2,
   "id": "de022745",
   "metadata": {},
   "outputs": [],
   "source": [
    "#8. Which of the following is a common use case of  yield keyword in python?\n",
    "#Ans. c"
   ]
  },
  {
   "cell_type": "code",
   "execution_count": 3,
   "id": "85cfc8b0",
   "metadata": {},
   "outputs": [
    {
     "name": "stdout",
     "output_type": "stream",
     "text": [
      "468\n",
      "chicken\n"
     ]
    }
   ],
   "source": [
    "#9. Which of the following are valid variable names?\n",
    "#Ans. A & C\n",
    "\n",
    "_abc='468'\n",
    "abc2='chicken'\n",
    "print (_abc)\n",
    "print (abc2)\n"
   ]
  },
  {
   "cell_type": "code",
   "execution_count": 4,
   "id": "fdd05885",
   "metadata": {},
   "outputs": [],
   "source": [
    "#10. Which of the following are the keywords in python?\n",
    "#Ans. A and B"
   ]
  },
  {
   "cell_type": "code",
   "execution_count": 5,
   "id": "e71865ef",
   "metadata": {},
   "outputs": [
    {
     "name": "stdout",
     "output_type": "stream",
     "text": [
      "2432902008176640000\n"
     ]
    }
   ],
   "source": [
    "#11. Write a python program to find the factorial of a number.\n",
    "#Ans.\n",
    "\n",
    "import math\n",
    "def factorial(x):\n",
    "    return math.factorial(x)\n",
    "print(factorial(20))"
   ]
  },
  {
   "cell_type": "code",
   "execution_count": 6,
   "id": "6cc3f2a9",
   "metadata": {},
   "outputs": [
    {
     "name": "stdout",
     "output_type": "stream",
     "text": [
      "Please enter a number47\n",
      "47 is a prime number\n"
     ]
    }
   ],
   "source": [
    "#12. Write a python program to find whether a number is prime or composite.\n",
    "#Ans. \n",
    "\n",
    "k=int(input(\"Please enter a number\"))\n",
    "if k<1:\n",
    "    print(\"k must be greater than 1\")\n",
    "elif k==1:\n",
    "    print(k, \"is neither prime nor composite\")\n",
    "else:\n",
    "    for divisor in range(2, (k//2)+1):\n",
    "        if (k%divisor)==0:\n",
    "            print(k,\"is a composite number\")\n",
    "            break\n",
    "    else:\n",
    "        print(k,\"is a prime number\")"
   ]
  },
  {
   "cell_type": "code",
   "execution_count": 7,
   "id": "f2ec46ad",
   "metadata": {},
   "outputs": [
    {
     "name": "stdout",
     "output_type": "stream",
     "text": [
      "Enter a string:weather\n",
      "Not Palindrome\n"
     ]
    }
   ],
   "source": [
    "#13. Write a python program to check whether the given string is a palindrome or not.\n",
    "#Ans.\n",
    "\n",
    "s=input(\"Enter a string:\")\n",
    "revs=(s[::-1])\n",
    "if revs==s:\n",
    "    print(\"Palindrome\")\n",
    "else:\n",
    "    print(\"Not Palindrome\")"
   ]
  },
  {
   "cell_type": "code",
   "execution_count": 9,
   "id": "96fdc36e",
   "metadata": {},
   "outputs": [
    {
     "name": "stdout",
     "output_type": "stream",
     "text": [
      "Enter length of side a=12\n",
      "Enter length of side b=8\n",
      "Length of side c= 14.42\n",
      "Enter value of side c=14.42\n",
      "Enter value of side b=8\n",
      "Length of side a= 12.0\n"
     ]
    }
   ],
   "source": [
    "#14. Write a python program to get the third side of right-angled triangle from two given sides.\n",
    "#Ans.\n",
    "\n",
    "#c**2=a**2+b**2\n",
    "a=float(input(\"Enter length of side a=\"))\n",
    "b=float(input(\"Enter length of side b=\"))\n",
    "csq=a**2+b**2\n",
    "c=csq**0.5\n",
    "print(\"Length of side c=\", round(c,2))\n",
    "\n",
    "#a_**2=c_**2-b_**2\n",
    "c_=float(input(\"Enter value of side c=\"))\n",
    "b_=float(input(\"Enter value of side b=\"))\n",
    "a_sq=c_**2-b_**2\n",
    "a_=a_sq**0.5\n",
    "print(\"Length of side a=\", round(a_,2))"
   ]
  },
  {
   "cell_type": "code",
   "execution_count": 10,
   "id": "49712429",
   "metadata": {},
   "outputs": [
    {
     "name": "stdout",
     "output_type": "stream",
     "text": [
      "Enter a string:temple\n",
      "6\n"
     ]
    }
   ],
   "source": [
    "#15. Write a python program to print the frequency of each of the characters present in a given string.\n",
    "#Ans.\n",
    "\n",
    "s1=input(\"Enter a string:\")\n",
    "print (len(s1))\n"
   ]
  },
  {
   "cell_type": "code",
   "execution_count": null,
   "id": "3e0f6bdb",
   "metadata": {},
   "outputs": [],
   "source": []
  },
  {
   "cell_type": "code",
   "execution_count": null,
   "id": "d46b5951",
   "metadata": {},
   "outputs": [],
   "source": []
  }
 ],
 "metadata": {
  "kernelspec": {
   "display_name": "Python 3",
   "language": "python",
   "name": "python3"
  },
  "language_info": {
   "codemirror_mode": {
    "name": "ipython",
    "version": 3
   },
   "file_extension": ".py",
   "mimetype": "text/x-python",
   "name": "python",
   "nbconvert_exporter": "python",
   "pygments_lexer": "ipython3",
   "version": "3.8.8"
  }
 },
 "nbformat": 4,
 "nbformat_minor": 5
}
