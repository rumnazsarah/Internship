{
 "cells": [
  {
   "cell_type": "code",
   "execution_count": 152,
   "id": "93d2003c",
   "metadata": {},
   "outputs": [],
   "source": [
    "#Importing libraries\n",
    "import selenium\n",
    "import pandas as pd\n",
    "import time\n",
    "\n",
    "import warnings\n",
    "warnings.filterwarnings(\"ignore\")\n",
    "\n",
    "#importing selenium webdriver\n",
    "from selenium import webdriver\n",
    "\n",
    "#importing required exceptions which needs to be handled\n",
    "from selenium.common.exceptions import StaleElementReferenceException\n",
    "from selenium.webdriver.support.ui import WebDriverWait\n",
    "from selenium.webdriver.support import expected_conditions as EC\n",
    "from selenium.webdriver.common.by import By\n",
    "\n",
    "#importing requests\n",
    "import requests\n",
    "\n",
    "#importing regex\n",
    "import re\n"
   ]
  },
  {
   "cell_type": "code",
   "execution_count": 153,
   "id": "03969efb",
   "metadata": {},
   "outputs": [],
   "source": [
    "#extracting path of the webdriver\n",
    "driver=webdriver.Chrome(r'C:/Users/Dell/Downloads/chromedriver_win32 (1)/chromedriver.exe')"
   ]
  },
  {
   "cell_type": "markdown",
   "id": "7032e99c",
   "metadata": {},
   "source": [
    "1. Write a python program which searches all the product under a particular product from www.amazon.in. The product to be searched will be taken as input from user. For e.g. If user input is ‘guitar’. Then search for guitars."
   ]
  },
  {
   "cell_type": "code",
   "execution_count": 154,
   "id": "2e040dde",
   "metadata": {},
   "outputs": [
    {
     "name": "stdout",
     "output_type": "stream",
     "text": [
      "Enter a keyword: guitar\n"
     ]
    }
   ],
   "source": [
    "#getting the webpage\n",
    "url1='https://www.amazon.in'\n",
    "driver.get(url1)\n",
    "time.sleep(5) #using time.sleep to add delay so that the search process is smooth\n",
    "\n",
    "#inspecting the search field element\n",
    "search_field=driver.find_element_by_xpath('/html/body/div[1]/header/div/div[1]/div[2]/div/form/div[2]/div[1]/input')\n",
    "search_field\n",
    "\n",
    "#entering the user input method \n",
    "search_item=input('Enter a keyword: ')\n",
    "search_item\n",
    "time.sleep(5)\n",
    "\n",
    "#to generate the user input in the search field\n",
    "search_field.send_keys(search_item)\n",
    "\n",
    "#inspecting the search button element\n",
    "search_btn=driver.find_element_by_xpath('/html/body/div[1]/header/div/div[1]/div[2]/div/form/div[3]/div/span/input')\n",
    "#clicking on search_button\n",
    "search_btn.click()"
   ]
  },
  {
   "cell_type": "code",
   "execution_count": 158,
   "id": "860b96f8",
   "metadata": {},
   "outputs": [
    {
     "ename": "AttributeError",
     "evalue": "'str' object has no attribute 'content'",
     "output_type": "error",
     "traceback": [
      "\u001b[1;31m---------------------------------------------------------------------------\u001b[0m",
      "\u001b[1;31mAttributeError\u001b[0m                            Traceback (most recent call last)",
      "\u001b[1;32m<ipython-input-158-72d554ba8fce>\u001b[0m in \u001b[0;36m<module>\u001b[1;34m\u001b[0m\n\u001b[0;32m      3\u001b[0m \u001b[0mtime\u001b[0m\u001b[1;33m.\u001b[0m\u001b[0msleep\u001b[0m\u001b[1;33m(\u001b[0m\u001b[1;36m3\u001b[0m\u001b[1;33m)\u001b[0m\u001b[1;33m\u001b[0m\u001b[1;33m\u001b[0m\u001b[0m\n\u001b[0;32m      4\u001b[0m \u001b[0mpage1\u001b[0m\u001b[1;33m=\u001b[0m\u001b[1;33m(\u001b[0m\u001b[0murl1\u001b[0m\u001b[1;33m)\u001b[0m\u001b[1;33m\u001b[0m\u001b[1;33m\u001b[0m\u001b[0m\n\u001b[1;32m----> 5\u001b[1;33m \u001b[0msoup1\u001b[0m\u001b[1;33m=\u001b[0m\u001b[0mBeautifulSoup\u001b[0m\u001b[1;33m(\u001b[0m\u001b[0mpage1\u001b[0m\u001b[1;33m.\u001b[0m\u001b[0mcontent\u001b[0m\u001b[1;33m)\u001b[0m\u001b[1;33m\u001b[0m\u001b[1;33m\u001b[0m\u001b[0m\n\u001b[0m\u001b[0;32m      6\u001b[0m \u001b[0msoup1\u001b[0m\u001b[1;33m\u001b[0m\u001b[1;33m\u001b[0m\u001b[0m\n\u001b[0;32m      7\u001b[0m \u001b[1;33m\u001b[0m\u001b[0m\n",
      "\u001b[1;31mAttributeError\u001b[0m: 'str' object has no attribute 'content'"
     ]
    }
   ],
   "source": [
    "\n",
    "from bs4 import BeautifulSoup\n",
    "\n",
    "time.sleep(3)\n",
    "page1=(url1)\n",
    "soup1=BeautifulSoup(page1.content)\n",
    "soup1\n",
    "\n"
   ]
  },
  {
   "cell_type": "code",
   "execution_count": null,
   "id": "4c723bef",
   "metadata": {},
   "outputs": [],
   "source": []
  },
  {
   "cell_type": "code",
   "execution_count": null,
   "id": "1e7898c6",
   "metadata": {},
   "outputs": [],
   "source": []
  },
  {
   "cell_type": "code",
   "execution_count": null,
   "id": "0a3626df",
   "metadata": {},
   "outputs": [],
   "source": []
  },
  {
   "cell_type": "code",
   "execution_count": null,
   "id": "dac9ace7",
   "metadata": {},
   "outputs": [],
   "source": []
  },
  {
   "cell_type": "code",
   "execution_count": null,
   "id": "8883b2a9",
   "metadata": {},
   "outputs": [],
   "source": [
    "results=soup1.find_all"
   ]
  },
  {
   "cell_type": "code",
   "execution_count": 148,
   "id": "4f636606",
   "metadata": {},
   "outputs": [
    {
     "ename": "WebDriverException",
     "evalue": "Message: chrome not reachable\n  (Session info: chrome=99.0.4844.84)\nStacktrace:\nBacktrace:\n\tOrdinal0 [0x00689943+2595139]\n\tOrdinal0 [0x0061C9F1+2148849]\n\tOrdinal0 [0x005143F0+1065968]\n\tOrdinal0 [0x005087C2+1017794]\n\tOrdinal0 [0x00508FF8+1019896]\n\tOrdinal0 [0x0050A892+1026194]\n\tOrdinal0 [0x00504219+999961]\n\tOrdinal0 [0x00515860+1071200]\n\tOrdinal0 [0x0056B2D2+1422034]\n\tOrdinal0 [0x0055B806+1357830]\n\tOrdinal0 [0x00536086+1204358]\n\tOrdinal0 [0x00536F96+1208214]\n\tGetHandleVerifier [0x0082B232+1658114]\n\tGetHandleVerifier [0x008E312C+2411516]\n\tGetHandleVerifier [0x0071F261+560433]\n\tGetHandleVerifier [0x0071E366+556598]\n\tOrdinal0 [0x0062286B+2173035]\n\tOrdinal0 [0x006275F8+2192888]\n\tOrdinal0 [0x006276E5+2193125]\n\tOrdinal0 [0x006311FC+2232828]\n\tBaseThreadInitThunk [0x753CFA29+25]\n\tRtlGetAppContainerNamedObjectPath [0x77207A7E+286]\n\tRtlGetAppContainerNamedObjectPath [0x77207A4E+238]\n",
     "output_type": "error",
     "traceback": [
      "\u001b[1;31m---------------------------------------------------------------------------\u001b[0m",
      "\u001b[1;31mWebDriverException\u001b[0m                        Traceback (most recent call last)",
      "\u001b[1;32m<ipython-input-148-697a73987547>\u001b[0m in \u001b[0;36m<module>\u001b[1;34m\u001b[0m\n\u001b[0;32m      1\u001b[0m \u001b[1;31m#inspecting the search field element\u001b[0m\u001b[1;33m\u001b[0m\u001b[1;33m\u001b[0m\u001b[1;33m\u001b[0m\u001b[0m\n\u001b[1;32m----> 2\u001b[1;33m \u001b[0msearch_field\u001b[0m\u001b[1;33m=\u001b[0m\u001b[0mdriver\u001b[0m\u001b[1;33m.\u001b[0m\u001b[0mfind_element_by_xpath\u001b[0m\u001b[1;33m(\u001b[0m\u001b[1;34m'/html/body/div[1]/header/div/div[1]/div[2]/div/form/div[2]/div[1]/input'\u001b[0m\u001b[1;33m)\u001b[0m\u001b[1;33m\u001b[0m\u001b[1;33m\u001b[0m\u001b[0m\n\u001b[0m\u001b[0;32m      3\u001b[0m \u001b[0msearch_field\u001b[0m\u001b[1;33m\u001b[0m\u001b[1;33m\u001b[0m\u001b[0m\n\u001b[0;32m      4\u001b[0m \u001b[1;33m\u001b[0m\u001b[0m\n\u001b[0;32m      5\u001b[0m \u001b[1;31m#entering the user input method\u001b[0m\u001b[1;33m\u001b[0m\u001b[1;33m\u001b[0m\u001b[1;33m\u001b[0m\u001b[0m\n",
      "\u001b[1;32m~\\anaconda3\\lib\\site-packages\\selenium\\webdriver\\remote\\webdriver.py\u001b[0m in \u001b[0;36mfind_element_by_xpath\u001b[1;34m(self, xpath)\u001b[0m\n\u001b[0;32m    519\u001b[0m             \u001b[0mstacklevel\u001b[0m\u001b[1;33m=\u001b[0m\u001b[1;36m2\u001b[0m\u001b[1;33m,\u001b[0m\u001b[1;33m\u001b[0m\u001b[1;33m\u001b[0m\u001b[0m\n\u001b[0;32m    520\u001b[0m         )\n\u001b[1;32m--> 521\u001b[1;33m         \u001b[1;32mreturn\u001b[0m \u001b[0mself\u001b[0m\u001b[1;33m.\u001b[0m\u001b[0mfind_element\u001b[0m\u001b[1;33m(\u001b[0m\u001b[0mby\u001b[0m\u001b[1;33m=\u001b[0m\u001b[0mBy\u001b[0m\u001b[1;33m.\u001b[0m\u001b[0mXPATH\u001b[0m\u001b[1;33m,\u001b[0m \u001b[0mvalue\u001b[0m\u001b[1;33m=\u001b[0m\u001b[0mxpath\u001b[0m\u001b[1;33m)\u001b[0m\u001b[1;33m\u001b[0m\u001b[1;33m\u001b[0m\u001b[0m\n\u001b[0m\u001b[0;32m    522\u001b[0m \u001b[1;33m\u001b[0m\u001b[0m\n\u001b[0;32m    523\u001b[0m     \u001b[1;32mdef\u001b[0m \u001b[0mfind_elements_by_xpath\u001b[0m\u001b[1;33m(\u001b[0m\u001b[0mself\u001b[0m\u001b[1;33m,\u001b[0m \u001b[0mxpath\u001b[0m\u001b[1;33m)\u001b[0m \u001b[1;33m->\u001b[0m \u001b[0mList\u001b[0m\u001b[1;33m[\u001b[0m\u001b[0mWebElement\u001b[0m\u001b[1;33m]\u001b[0m\u001b[1;33m:\u001b[0m\u001b[1;33m\u001b[0m\u001b[1;33m\u001b[0m\u001b[0m\n",
      "\u001b[1;32m~\\anaconda3\\lib\\site-packages\\selenium\\webdriver\\remote\\webdriver.py\u001b[0m in \u001b[0;36mfind_element\u001b[1;34m(self, by, value)\u001b[0m\n\u001b[0;32m   1246\u001b[0m             \u001b[0mvalue\u001b[0m \u001b[1;33m=\u001b[0m \u001b[1;34m'[name=\"%s\"]'\u001b[0m \u001b[1;33m%\u001b[0m \u001b[0mvalue\u001b[0m\u001b[1;33m\u001b[0m\u001b[1;33m\u001b[0m\u001b[0m\n\u001b[0;32m   1247\u001b[0m \u001b[1;33m\u001b[0m\u001b[0m\n\u001b[1;32m-> 1248\u001b[1;33m         return self.execute(Command.FIND_ELEMENT, {\n\u001b[0m\u001b[0;32m   1249\u001b[0m             \u001b[1;34m'using'\u001b[0m\u001b[1;33m:\u001b[0m \u001b[0mby\u001b[0m\u001b[1;33m,\u001b[0m\u001b[1;33m\u001b[0m\u001b[1;33m\u001b[0m\u001b[0m\n\u001b[0;32m   1250\u001b[0m             'value': value})['value']\n",
      "\u001b[1;32m~\\anaconda3\\lib\\site-packages\\selenium\\webdriver\\remote\\webdriver.py\u001b[0m in \u001b[0;36mexecute\u001b[1;34m(self, driver_command, params)\u001b[0m\n\u001b[0;32m    423\u001b[0m         \u001b[0mresponse\u001b[0m \u001b[1;33m=\u001b[0m \u001b[0mself\u001b[0m\u001b[1;33m.\u001b[0m\u001b[0mcommand_executor\u001b[0m\u001b[1;33m.\u001b[0m\u001b[0mexecute\u001b[0m\u001b[1;33m(\u001b[0m\u001b[0mdriver_command\u001b[0m\u001b[1;33m,\u001b[0m \u001b[0mparams\u001b[0m\u001b[1;33m)\u001b[0m\u001b[1;33m\u001b[0m\u001b[1;33m\u001b[0m\u001b[0m\n\u001b[0;32m    424\u001b[0m         \u001b[1;32mif\u001b[0m \u001b[0mresponse\u001b[0m\u001b[1;33m:\u001b[0m\u001b[1;33m\u001b[0m\u001b[1;33m\u001b[0m\u001b[0m\n\u001b[1;32m--> 425\u001b[1;33m             \u001b[0mself\u001b[0m\u001b[1;33m.\u001b[0m\u001b[0merror_handler\u001b[0m\u001b[1;33m.\u001b[0m\u001b[0mcheck_response\u001b[0m\u001b[1;33m(\u001b[0m\u001b[0mresponse\u001b[0m\u001b[1;33m)\u001b[0m\u001b[1;33m\u001b[0m\u001b[1;33m\u001b[0m\u001b[0m\n\u001b[0m\u001b[0;32m    426\u001b[0m             response['value'] = self._unwrap_value(\n\u001b[0;32m    427\u001b[0m                 response.get('value', None))\n",
      "\u001b[1;32m~\\anaconda3\\lib\\site-packages\\selenium\\webdriver\\remote\\errorhandler.py\u001b[0m in \u001b[0;36mcheck_response\u001b[1;34m(self, response)\u001b[0m\n\u001b[0;32m    245\u001b[0m                 \u001b[0malert_text\u001b[0m \u001b[1;33m=\u001b[0m \u001b[0mvalue\u001b[0m\u001b[1;33m[\u001b[0m\u001b[1;34m'alert'\u001b[0m\u001b[1;33m]\u001b[0m\u001b[1;33m.\u001b[0m\u001b[0mget\u001b[0m\u001b[1;33m(\u001b[0m\u001b[1;34m'text'\u001b[0m\u001b[1;33m)\u001b[0m\u001b[1;33m\u001b[0m\u001b[1;33m\u001b[0m\u001b[0m\n\u001b[0;32m    246\u001b[0m             \u001b[1;32mraise\u001b[0m \u001b[0mexception_class\u001b[0m\u001b[1;33m(\u001b[0m\u001b[0mmessage\u001b[0m\u001b[1;33m,\u001b[0m \u001b[0mscreen\u001b[0m\u001b[1;33m,\u001b[0m \u001b[0mstacktrace\u001b[0m\u001b[1;33m,\u001b[0m \u001b[0malert_text\u001b[0m\u001b[1;33m)\u001b[0m  \u001b[1;31m# type: ignore[call-arg]  # mypy is not smart enough here\u001b[0m\u001b[1;33m\u001b[0m\u001b[1;33m\u001b[0m\u001b[0m\n\u001b[1;32m--> 247\u001b[1;33m         \u001b[1;32mraise\u001b[0m \u001b[0mexception_class\u001b[0m\u001b[1;33m(\u001b[0m\u001b[0mmessage\u001b[0m\u001b[1;33m,\u001b[0m \u001b[0mscreen\u001b[0m\u001b[1;33m,\u001b[0m \u001b[0mstacktrace\u001b[0m\u001b[1;33m)\u001b[0m\u001b[1;33m\u001b[0m\u001b[1;33m\u001b[0m\u001b[0m\n\u001b[0m\u001b[0;32m    248\u001b[0m \u001b[1;33m\u001b[0m\u001b[0m\n\u001b[0;32m    249\u001b[0m     \u001b[1;32mdef\u001b[0m \u001b[0m_value_or_default\u001b[0m\u001b[1;33m(\u001b[0m\u001b[0mself\u001b[0m\u001b[1;33m,\u001b[0m \u001b[0mobj\u001b[0m\u001b[1;33m:\u001b[0m \u001b[0mMapping\u001b[0m\u001b[1;33m[\u001b[0m\u001b[0m_KT\u001b[0m\u001b[1;33m,\u001b[0m \u001b[0m_VT\u001b[0m\u001b[1;33m]\u001b[0m\u001b[1;33m,\u001b[0m \u001b[0mkey\u001b[0m\u001b[1;33m:\u001b[0m \u001b[0m_KT\u001b[0m\u001b[1;33m,\u001b[0m \u001b[0mdefault\u001b[0m\u001b[1;33m:\u001b[0m \u001b[0m_VT\u001b[0m\u001b[1;33m)\u001b[0m \u001b[1;33m->\u001b[0m \u001b[0m_VT\u001b[0m\u001b[1;33m:\u001b[0m\u001b[1;33m\u001b[0m\u001b[1;33m\u001b[0m\u001b[0m\n",
      "\u001b[1;31mWebDriverException\u001b[0m: Message: chrome not reachable\n  (Session info: chrome=99.0.4844.84)\nStacktrace:\nBacktrace:\n\tOrdinal0 [0x00689943+2595139]\n\tOrdinal0 [0x0061C9F1+2148849]\n\tOrdinal0 [0x005143F0+1065968]\n\tOrdinal0 [0x005087C2+1017794]\n\tOrdinal0 [0x00508FF8+1019896]\n\tOrdinal0 [0x0050A892+1026194]\n\tOrdinal0 [0x00504219+999961]\n\tOrdinal0 [0x00515860+1071200]\n\tOrdinal0 [0x0056B2D2+1422034]\n\tOrdinal0 [0x0055B806+1357830]\n\tOrdinal0 [0x00536086+1204358]\n\tOrdinal0 [0x00536F96+1208214]\n\tGetHandleVerifier [0x0082B232+1658114]\n\tGetHandleVerifier [0x008E312C+2411516]\n\tGetHandleVerifier [0x0071F261+560433]\n\tGetHandleVerifier [0x0071E366+556598]\n\tOrdinal0 [0x0062286B+2173035]\n\tOrdinal0 [0x006275F8+2192888]\n\tOrdinal0 [0x006276E5+2193125]\n\tOrdinal0 [0x006311FC+2232828]\n\tBaseThreadInitThunk [0x753CFA29+25]\n\tRtlGetAppContainerNamedObjectPath [0x77207A7E+286]\n\tRtlGetAppContainerNamedObjectPath [0x77207A4E+238]\n"
     ]
    }
   ],
   "source": [
    "#inspecting the search field element\n",
    "search_field=driver.find_element_by_xpath('/html/body/div[1]/header/div/div[1]/div[2]/div/form/div[2]/div[1]/input')\n",
    "search_field\n",
    "\n",
    "#entering the user input method \n",
    "search_item=input('Enter a keyword: ')\n",
    "search_item\n",
    "time.sleep(5)\n",
    "\n",
    "#to generate the user input in the search field\n",
    "search_field.send_keys(search_item)\n",
    "\n",
    "#inspecting the search button element\n",
    "search_btn=driver.find_element_by_xpath('/html/body/div[1]/header/div/div[1]/div[2]/div/form/div[3]/div/span/input')\n",
    "#clicking on search_button\n",
    "search_btn.click()"
   ]
  },
  {
   "cell_type": "code",
   "execution_count": null,
   "id": "bcf32418",
   "metadata": {},
   "outputs": [],
   "source": []
  },
  {
   "cell_type": "code",
   "execution_count": 149,
   "id": "b5100d09",
   "metadata": {},
   "outputs": [],
   "source": [
    "#Importing libraries\n",
    "import selenium\n",
    "import pandas as pd\n",
    "import time\n",
    "\n",
    "import warnings\n",
    "warnings.filterwarnings(\"ignore\")\n",
    "\n",
    "#importing selenium webdriver\n",
    "from selenium import webdriver\n",
    "\n",
    "#importing required exceptions which needs to be handled\n",
    "from selenium.common.exceptions import StaleElementReferenceException\n",
    "from selenium.webdriver.support.ui import WebDriverWait\n",
    "from selenium.webdriver.support import expected_conditions as EC\n",
    "from selenium.webdriver.common.by import By\n",
    "\n",
    "#importing requests\n",
    "import requests\n",
    "\n",
    "#importing regex\n",
    "import re\n"
   ]
  },
  {
   "cell_type": "code",
   "execution_count": null,
   "id": "937324f2",
   "metadata": {},
   "outputs": [],
   "source": []
  },
  {
   "cell_type": "markdown",
   "id": "e8e1368f",
   "metadata": {},
   "source": []
  },
  {
   "cell_type": "code",
   "execution_count": 151,
   "id": "bfe290c8",
   "metadata": {},
   "outputs": [
    {
     "ename": "WebDriverException",
     "evalue": "Message: chrome not reachable\n  (Session info: chrome=99.0.4844.84)\nStacktrace:\nBacktrace:\n\tOrdinal0 [0x00689943+2595139]\n\tOrdinal0 [0x0061C9F1+2148849]\n\tOrdinal0 [0x005143F0+1065968]\n\tOrdinal0 [0x005087C2+1017794]\n\tOrdinal0 [0x00508FF8+1019896]\n\tOrdinal0 [0x0050A892+1026194]\n\tOrdinal0 [0x00504219+999961]\n\tOrdinal0 [0x00515860+1071200]\n\tOrdinal0 [0x0056B2D2+1422034]\n\tOrdinal0 [0x0055B806+1357830]\n\tOrdinal0 [0x00536086+1204358]\n\tOrdinal0 [0x00536F96+1208214]\n\tGetHandleVerifier [0x0082B232+1658114]\n\tGetHandleVerifier [0x008E312C+2411516]\n\tGetHandleVerifier [0x0071F261+560433]\n\tGetHandleVerifier [0x0071E366+556598]\n\tOrdinal0 [0x0062286B+2173035]\n\tOrdinal0 [0x006275F8+2192888]\n\tOrdinal0 [0x006276E5+2193125]\n\tOrdinal0 [0x006311FC+2232828]\n\tBaseThreadInitThunk [0x753CFA29+25]\n\tRtlGetAppContainerNamedObjectPath [0x77207A7E+286]\n\tRtlGetAppContainerNamedObjectPath [0x77207A4E+238]\n",
     "output_type": "error",
     "traceback": [
      "\u001b[1;31m---------------------------------------------------------------------------\u001b[0m",
      "\u001b[1;31mWebDriverException\u001b[0m                        Traceback (most recent call last)",
      "\u001b[1;32m<ipython-input-151-2335a6200525>\u001b[0m in \u001b[0;36m<module>\u001b[1;34m\u001b[0m\n\u001b[0;32m      1\u001b[0m \u001b[1;31m#getting the webpage\u001b[0m\u001b[1;33m\u001b[0m\u001b[1;33m\u001b[0m\u001b[1;33m\u001b[0m\u001b[0m\n\u001b[0;32m      2\u001b[0m \u001b[0murl1\u001b[0m\u001b[1;33m=\u001b[0m\u001b[1;34m'https://www.amazon.in'\u001b[0m\u001b[1;33m\u001b[0m\u001b[1;33m\u001b[0m\u001b[0m\n\u001b[1;32m----> 3\u001b[1;33m \u001b[0mdriver\u001b[0m\u001b[1;33m.\u001b[0m\u001b[0mget\u001b[0m\u001b[1;33m(\u001b[0m\u001b[0murl1\u001b[0m\u001b[1;33m)\u001b[0m\u001b[1;33m\u001b[0m\u001b[1;33m\u001b[0m\u001b[0m\n\u001b[0m\u001b[0;32m      4\u001b[0m \u001b[0mtime\u001b[0m\u001b[1;33m.\u001b[0m\u001b[0msleep\u001b[0m\u001b[1;33m(\u001b[0m\u001b[1;36m5\u001b[0m\u001b[1;33m)\u001b[0m \u001b[1;31m#using time.sleep to add delay so that the search process is smooth\u001b[0m\u001b[1;33m\u001b[0m\u001b[1;33m\u001b[0m\u001b[0m\n\u001b[0;32m      5\u001b[0m \u001b[1;33m\u001b[0m\u001b[0m\n",
      "\u001b[1;32m~\\anaconda3\\lib\\site-packages\\selenium\\webdriver\\remote\\webdriver.py\u001b[0m in \u001b[0;36mget\u001b[1;34m(self, url)\u001b[0m\n\u001b[0;32m    435\u001b[0m         \u001b[0mLoads\u001b[0m \u001b[0ma\u001b[0m \u001b[0mweb\u001b[0m \u001b[0mpage\u001b[0m \u001b[1;32min\u001b[0m \u001b[0mthe\u001b[0m \u001b[0mcurrent\u001b[0m \u001b[0mbrowser\u001b[0m \u001b[0msession\u001b[0m\u001b[1;33m.\u001b[0m\u001b[1;33m\u001b[0m\u001b[1;33m\u001b[0m\u001b[0m\n\u001b[0;32m    436\u001b[0m         \"\"\"\n\u001b[1;32m--> 437\u001b[1;33m         \u001b[0mself\u001b[0m\u001b[1;33m.\u001b[0m\u001b[0mexecute\u001b[0m\u001b[1;33m(\u001b[0m\u001b[0mCommand\u001b[0m\u001b[1;33m.\u001b[0m\u001b[0mGET\u001b[0m\u001b[1;33m,\u001b[0m \u001b[1;33m{\u001b[0m\u001b[1;34m'url'\u001b[0m\u001b[1;33m:\u001b[0m \u001b[0murl\u001b[0m\u001b[1;33m}\u001b[0m\u001b[1;33m)\u001b[0m\u001b[1;33m\u001b[0m\u001b[1;33m\u001b[0m\u001b[0m\n\u001b[0m\u001b[0;32m    438\u001b[0m \u001b[1;33m\u001b[0m\u001b[0m\n\u001b[0;32m    439\u001b[0m     \u001b[1;33m@\u001b[0m\u001b[0mproperty\u001b[0m\u001b[1;33m\u001b[0m\u001b[1;33m\u001b[0m\u001b[0m\n",
      "\u001b[1;32m~\\anaconda3\\lib\\site-packages\\selenium\\webdriver\\remote\\webdriver.py\u001b[0m in \u001b[0;36mexecute\u001b[1;34m(self, driver_command, params)\u001b[0m\n\u001b[0;32m    423\u001b[0m         \u001b[0mresponse\u001b[0m \u001b[1;33m=\u001b[0m \u001b[0mself\u001b[0m\u001b[1;33m.\u001b[0m\u001b[0mcommand_executor\u001b[0m\u001b[1;33m.\u001b[0m\u001b[0mexecute\u001b[0m\u001b[1;33m(\u001b[0m\u001b[0mdriver_command\u001b[0m\u001b[1;33m,\u001b[0m \u001b[0mparams\u001b[0m\u001b[1;33m)\u001b[0m\u001b[1;33m\u001b[0m\u001b[1;33m\u001b[0m\u001b[0m\n\u001b[0;32m    424\u001b[0m         \u001b[1;32mif\u001b[0m \u001b[0mresponse\u001b[0m\u001b[1;33m:\u001b[0m\u001b[1;33m\u001b[0m\u001b[1;33m\u001b[0m\u001b[0m\n\u001b[1;32m--> 425\u001b[1;33m             \u001b[0mself\u001b[0m\u001b[1;33m.\u001b[0m\u001b[0merror_handler\u001b[0m\u001b[1;33m.\u001b[0m\u001b[0mcheck_response\u001b[0m\u001b[1;33m(\u001b[0m\u001b[0mresponse\u001b[0m\u001b[1;33m)\u001b[0m\u001b[1;33m\u001b[0m\u001b[1;33m\u001b[0m\u001b[0m\n\u001b[0m\u001b[0;32m    426\u001b[0m             response['value'] = self._unwrap_value(\n\u001b[0;32m    427\u001b[0m                 response.get('value', None))\n",
      "\u001b[1;32m~\\anaconda3\\lib\\site-packages\\selenium\\webdriver\\remote\\errorhandler.py\u001b[0m in \u001b[0;36mcheck_response\u001b[1;34m(self, response)\u001b[0m\n\u001b[0;32m    245\u001b[0m                 \u001b[0malert_text\u001b[0m \u001b[1;33m=\u001b[0m \u001b[0mvalue\u001b[0m\u001b[1;33m[\u001b[0m\u001b[1;34m'alert'\u001b[0m\u001b[1;33m]\u001b[0m\u001b[1;33m.\u001b[0m\u001b[0mget\u001b[0m\u001b[1;33m(\u001b[0m\u001b[1;34m'text'\u001b[0m\u001b[1;33m)\u001b[0m\u001b[1;33m\u001b[0m\u001b[1;33m\u001b[0m\u001b[0m\n\u001b[0;32m    246\u001b[0m             \u001b[1;32mraise\u001b[0m \u001b[0mexception_class\u001b[0m\u001b[1;33m(\u001b[0m\u001b[0mmessage\u001b[0m\u001b[1;33m,\u001b[0m \u001b[0mscreen\u001b[0m\u001b[1;33m,\u001b[0m \u001b[0mstacktrace\u001b[0m\u001b[1;33m,\u001b[0m \u001b[0malert_text\u001b[0m\u001b[1;33m)\u001b[0m  \u001b[1;31m# type: ignore[call-arg]  # mypy is not smart enough here\u001b[0m\u001b[1;33m\u001b[0m\u001b[1;33m\u001b[0m\u001b[0m\n\u001b[1;32m--> 247\u001b[1;33m         \u001b[1;32mraise\u001b[0m \u001b[0mexception_class\u001b[0m\u001b[1;33m(\u001b[0m\u001b[0mmessage\u001b[0m\u001b[1;33m,\u001b[0m \u001b[0mscreen\u001b[0m\u001b[1;33m,\u001b[0m \u001b[0mstacktrace\u001b[0m\u001b[1;33m)\u001b[0m\u001b[1;33m\u001b[0m\u001b[1;33m\u001b[0m\u001b[0m\n\u001b[0m\u001b[0;32m    248\u001b[0m \u001b[1;33m\u001b[0m\u001b[0m\n\u001b[0;32m    249\u001b[0m     \u001b[1;32mdef\u001b[0m \u001b[0m_value_or_default\u001b[0m\u001b[1;33m(\u001b[0m\u001b[0mself\u001b[0m\u001b[1;33m,\u001b[0m \u001b[0mobj\u001b[0m\u001b[1;33m:\u001b[0m \u001b[0mMapping\u001b[0m\u001b[1;33m[\u001b[0m\u001b[0m_KT\u001b[0m\u001b[1;33m,\u001b[0m \u001b[0m_VT\u001b[0m\u001b[1;33m]\u001b[0m\u001b[1;33m,\u001b[0m \u001b[0mkey\u001b[0m\u001b[1;33m:\u001b[0m \u001b[0m_KT\u001b[0m\u001b[1;33m,\u001b[0m \u001b[0mdefault\u001b[0m\u001b[1;33m:\u001b[0m \u001b[0m_VT\u001b[0m\u001b[1;33m)\u001b[0m \u001b[1;33m->\u001b[0m \u001b[0m_VT\u001b[0m\u001b[1;33m:\u001b[0m\u001b[1;33m\u001b[0m\u001b[1;33m\u001b[0m\u001b[0m\n",
      "\u001b[1;31mWebDriverException\u001b[0m: Message: chrome not reachable\n  (Session info: chrome=99.0.4844.84)\nStacktrace:\nBacktrace:\n\tOrdinal0 [0x00689943+2595139]\n\tOrdinal0 [0x0061C9F1+2148849]\n\tOrdinal0 [0x005143F0+1065968]\n\tOrdinal0 [0x005087C2+1017794]\n\tOrdinal0 [0x00508FF8+1019896]\n\tOrdinal0 [0x0050A892+1026194]\n\tOrdinal0 [0x00504219+999961]\n\tOrdinal0 [0x00515860+1071200]\n\tOrdinal0 [0x0056B2D2+1422034]\n\tOrdinal0 [0x0055B806+1357830]\n\tOrdinal0 [0x00536086+1204358]\n\tOrdinal0 [0x00536F96+1208214]\n\tGetHandleVerifier [0x0082B232+1658114]\n\tGetHandleVerifier [0x008E312C+2411516]\n\tGetHandleVerifier [0x0071F261+560433]\n\tGetHandleVerifier [0x0071E366+556598]\n\tOrdinal0 [0x0062286B+2173035]\n\tOrdinal0 [0x006275F8+2192888]\n\tOrdinal0 [0x006276E5+2193125]\n\tOrdinal0 [0x006311FC+2232828]\n\tBaseThreadInitThunk [0x753CFA29+25]\n\tRtlGetAppContainerNamedObjectPath [0x77207A7E+286]\n\tRtlGetAppContainerNamedObjectPath [0x77207A4E+238]\n"
     ]
    }
   ],
   "source": []
  },
  {
   "cell_type": "code",
   "execution_count": null,
   "id": "07e59366",
   "metadata": {},
   "outputs": [],
   "source": []
  },
  {
   "cell_type": "code",
   "execution_count": null,
   "id": "f57b9aa0",
   "metadata": {},
   "outputs": [],
   "source": []
  },
  {
   "cell_type": "code",
   "execution_count": null,
   "id": "55b0dad5",
   "metadata": {},
   "outputs": [],
   "source": []
  },
  {
   "cell_type": "markdown",
   "id": "08559187",
   "metadata": {},
   "source": [
    "2. In the above question, now scrape the following details of each product listed in first 3 pages of your search results and save it in a data frame and csv. In case if any product has less than 3 pages in search results then scrape all the products available under that product name. Details to be scraped are: \"Brand Name\", \"Name of the Product\", \"Price\", \"Return/Exchange\", \"Expected Delivery\", \"Availability\" and “Product URL”. In case, if any of the details are missing for any of the product then replace it by “-“."
   ]
  },
  {
   "cell_type": "code",
   "execution_count": 118,
   "id": "baf9205e",
   "metadata": {},
   "outputs": [],
   "source": [
    "driver.execute_script(\"window.scrollBy(0,500)\",\"\")"
   ]
  },
  {
   "cell_type": "code",
   "execution_count": 123,
   "id": "a4d9b191",
   "metadata": {},
   "outputs": [],
   "source": [
    "title=driver.find_elements_by_class_name('s-line-clamp-4')"
   ]
  },
  {
   "cell_type": "code",
   "execution_count": null,
   "id": "7d4f8a4f",
   "metadata": {},
   "outputs": [],
   "source": []
  },
  {
   "cell_type": "code",
   "execution_count": 124,
   "id": "f26e0e3b",
   "metadata": {},
   "outputs": [],
   "source": [
    "titles=[]\n",
    "\n",
    "for i in title:\n",
    "    if i.text is None:\n",
    "        titles.append('-')\n",
    "    else:\n",
    "        titles.append(i.text.strip())"
   ]
  },
  {
   "cell_type": "code",
   "execution_count": 125,
   "id": "bb5097a0",
   "metadata": {
    "collapsed": true
   },
   "outputs": [
    {
     "data": {
      "text/plain": [
       "['Intern INT-38C Acoustic Guitar Kit (Sunburst) with Carry bag, Picks, Strings set and Guitar Strap, Small',\n",
       " 'Kadence Frontier Jumbo Semi Acoustic Guitar With Die Cast Keys Super Combo (Bag, 1 pack Strings, Strap, Picks, Capo, Tuner (natural)',\n",
       " 'Belear MJT 38 Inch Black, Acoustic Guitar, With Dual Action Truss Rod',\n",
       " 'Photron Acoustic Guitar, 38 Inch Cutaway, PH38C/BK with Picks Only, Black (Without Bag, Strap and Extra Strings)',\n",
       " 'Intern INT-38C Acoustic Guitar Kit, With Bag, Strings, Pick And Strap, Black',\n",
       " 'Juarez Acoustic Guitar, 38 Inch Curved Body Cutaway, 38CUR with Bag, Strings, Pick and Strap, Black',\n",
       " 'Intern INT-38C Acoustic Guitar Kit, With Bag, Strings, Pick And Strap, Blue',\n",
       " 'Juârez Acoustic Guitar, 38 Inch Cutaway, 038C with Bag, Strings, Pick and Strap, Black',\n",
       " 'Intern INT-38C Acoustic Guitar Kit (Sunburst) with Carry bag, Picks, Strings set and Guitar Strap, Small',\n",
       " 'Photron Acoustic Guitar, 38 Inch Cutaway, PH38C/BK with Picks Only, Black (Without Bag, Strap and Extra Strings)',\n",
       " 'Intern 38C Cutaway Design Black Acoustic Guitar with Picks & Carry Bag',\n",
       " 'JUAREZ JRZ38C Right Handed Acoustic Guitar with Bag, Strings, Pick and Strap (Natural, 6 Strings)',\n",
       " 'Intern INT-38C Sunburst Acoustic Guitar kit with carry bag & picks',\n",
       " 'Kadence Frontier Series, Semi Acoustic Guitar With Die Cast Keys (Bag,Strap,Strings And 3 Picks) (Natural)',\n",
       " 'Kadence Guitar Frontier Series, Electric Acoustic Black Guitar With EQ, Die Cast Keys, Set of Strings, Strap, Picks and Bag (Black EQ, Electric Acoustic)',\n",
       " 'Kadence Frontier guitar with Online Guitar learning course, Wine Red Acoustic Guitar with Die Cast Keys, Set of Strings, Strap, Picks and Bag (Wine Red, Acoustic)',\n",
       " 'Intern INT-38C Acoustic Guitar Kit, With Bag, Strings, Pick And Strap, Red',\n",
       " 'Henrix 38 Acoustic Guitar (Black) with Dual-action Truss Rod - Includes Picks, Bag, Strings, Strap & Polishing Cloth',\n",
       " 'Medellin 38\" Carbon Fiber Acoustic Guitar with free specailized learning course- MDCF38BK Heavy Weighted Carbon Fiber Matt White finish Body for beginners with handrest, set of Strings, Strap, Bag, 3 Picks, Capo, Guitar Wall Hanging Stand and Free GUITAR LEARNING COURSE (Special Learning Combo with Guitar)',\n",
       " 'Intern INT-38C-SB-G Cutaway Right Handed Acoustic Guitar Kit, With Bag, Strings, Pick And Strap (Sunburst, 6 Strings)',\n",
       " \"HOMME STORE 4 String Guitar Children's Musical Instrument Educational Toy Guitar Ukulele Instruments Beginner Musical Sound Toys Best Gift for Children\",\n",
       " 'Blueberry 38C IN Acoustic Guitar Kit with Bag,Belt & Picks inbuilt Truss-rod (Blue)',\n",
       " \"MAA Enterprises 4 String Guitar Children's Musical Instrument Educational Toy Guitar Ukulele Instruments Beginner Musical Sound Toys Best Gift for Children\",\n",
       " 'NILL CREATION Natural Wooden Rosewood Fretboard Acoustic Guitar with Bag Strap 1 Set of Extra Strings and 2 Picks (Small Size)- Multi Color, Standard (Guitar_Small)',\n",
       " 'Hovner 215 Black F-Cut Rosewood Fretboard Acoustic Guitar With Bag,Strap,1 Set of Extra Strings and 2 Picks By K-Retail',\n",
       " 'Intern INT-38C Acoustic Guitar Kit, With Bag, Strings, Pick And Strap, Natural',\n",
       " 'Intern INT-38C-BK-G Cutaway Right Handed Acoustic Guitar Kit, With Bag, Strings, Pick And Strap (Black, 6 Strings)',\n",
       " 'Henrix 38C 38 inch Cutaway Acoustic Guitar with Dual Action Truss Rod, Gigbag, Picks, String Set, Strap & Cloth',\n",
       " 'Juarez Acoustic Guitar Kit, 38 Inch Cutaway, 38C with Bag, Strings, Pick and Strap, TBS Transparent Blue Sunburst',\n",
       " 'Medellin 38\" Carbon Fiber Acoustic Guitar with free specailized learning course- MDCF38BK Durable Carbon Fiber Matt Sunburst finish Body for beginners with handrest, set of Strings, Strap, Bag, 3 Picks, Capo, Guitar Wall Hanging Stand and Free GUITAR LEARNING COURSE (Special Learning Combo with Guitar)',\n",
       " 'Juârez Acoustic Guitar, 38 Inch Cutaway, JRZ38C with Bag, Strings, Pick and Strap, Red',\n",
       " 'Juarez Acoustic Guitar Kit, 38 Inch Cutaway, 38C with Bag, Strings, Pick and Strap, 3TS Sunburst',\n",
       " 'JUAREZ JRZ38CTR/BK 38 Inch Acoustic Guitar with Dual Action Truss Rod, Bag, Picks, Allen Key, Extra String Set, Black',\n",
       " 'Giuson Venus Blue Rosewood Fretboard Acoustic Guitar With Bag,Strap,1 Set of Extra Strings and 2 Picks',\n",
       " 'INTERN Cutaway Design Acoustic Guitar Pack -Humidity Proof, Bend resistance, Durable Action, Natural tone & bright resonance. Black Carbon Fibre/Fiber Guitar with Bag, Strap, Strings set & Plectrums.',\n",
       " 'Kadence Slowhand Series Premium Demi Cut Semi Acoustic Guitar with Shutter (Spruce Wood)',\n",
       " 'JUAREZ Arpéggio 104.14 cm (41 Inch) Semi-Acoustic Guitar Kit, Thin Line Body, Spruce Top, with 4 Band EQ, Natural',\n",
       " 'Festra R-34, 34 Inch Acoustic Guitar Kit Inbuilt Truss Rod, with Bag, Belt & One Pack Strings & Picks (Natural)',\n",
       " 'CVANU Guitar Fretboard Sticker Fingerboard Embossed Carved Decals Stickers (Trapezium Design) With Brown Color Size(5cm X 17cm)',\n",
       " 'DEVICE OF URBAN INFOTECH Guitar Tuner 360 degree Digital Tuner Easy to Use Highly Accurate Clip-on Tuner Best for Acoustic and Electric Guitar Bass Violin Ukulele With Capo & 5 Picks(Design may very)',\n",
       " 'Vault EA20 Guitar Kit with Learn to Play Ebook, Bag, Strings, Straps, Picks, String winder & Polishing Cloth - 40 inch Cutaway Acoustic Guitar',\n",
       " 'Intern INT-38C-RD-G Cutaway Right Handed Acoustic Guitar Kit, With Bag, Strings, Pick And Strap (Red, 6 Strings)',\n",
       " 'Juarez Acoustic Guitar, [LEFT HANDED] 96.52 cm (38 Inch) Cutaway, 38CL/3TS with Bag, Strings, Pick and Strap, 3TS Sunburst',\n",
       " 'Blueberry R-34, 34 Inch Acoustic Guitar Kit Inbuilt Truss Rod, with Bag, Belt & One Pack Strings & Picks (Natural)',\n",
       " 'Givson Venus Special Cutaway Rosewood 41 Inch Acoustic Guitar Kit with Bag, Rhythm String Set, Strap and 5 Plectrums, (Sunburst)',\n",
       " 'Intern 38C Acoustic Steel-string Guitar Premium White Cutaway Design with carry bag, strings, guitar strap and plectrums (INT-38C-WH)',\n",
       " 'Intern INT-38C-L-SB Left Hand Acoustic Guitar Kit, With Bag, Strings, Pick And Strap (Sunburst)',\n",
       " 'Festra 38C, 38 Inch Acoustic Guitar Kit with Bag, Strap, One Pack Strings And 2 Picks (Black) (Acoustic 38C (38 Inch) Guitar Kit, Blueburst)',\n",
       " 'Juarez Acoustic Guitar, 38 Inch Cutaway with Pick Guard, 38C/RDS with Bag, Strings, Pick and Strap, Red Sunburst',\n",
       " 'Fender Classic Design CD-60S Dreadnought Acoustic Guitar (Black)',\n",
       " 'Vault ST1 Strat Style 6 String Electric Guitar- Black',\n",
       " 'JUAREZ Arpeggio 39 Inch Acoustic Guitar Kit, Spruce Top, Rosewood Fretboard & Bridge, Truss Rod, Chrome Die Cast Machine Tuners, Sunburst',\n",
       " 'Intern INT-38C Brown Acoustic Guitar kit with carry bag & picks',\n",
       " 'Yamaha FS80C The Ultimate Concert Body Cutaway Acoustic Guitar (Black) With Bajaao Gig-Bag',\n",
       " 'Givsun Lisbon Red 6-String Cut A Way Right Hand Acoustic Semi-Electric Guitar With Bag And Free 1 Set String,2 Picks',\n",
       " 'KREEPO Guitar Fretboard Sticker Fingerboard Frets Note Chart Decals Stickers Beginner Learner Acoustic-Electric Guitar Multicolor(9.1cm X 14.5cm)',\n",
       " 'Samara SA41 CE N2 41-Inch Cutaway Electro-Acoustic Guitar',\n",
       " 'Kajal Enterprise 4-String Acoustic Learning Guitar Toy Musical Instrument Educational Guitar Toy for Beginners Kids Child (Brown)',\n",
       " 'Blueberry B-D38, 38\" Acoustic Guitar Kit inbuilt Truss Rod with Bag, Strap, One Pack Strings And Picks',\n",
       " 'Vault Traveller 34 Inch Acoustic Guitar With Bag, Strap, Strings, Polishing Cloth, String Winder and Picks - Natural Gloss']"
      ]
     },
     "execution_count": 125,
     "metadata": {},
     "output_type": "execute_result"
    }
   ],
   "source": [
    "titles"
   ]
  },
  {
   "cell_type": "code",
   "execution_count": 126,
   "id": "2fc2f671",
   "metadata": {},
   "outputs": [
    {
     "data": {
      "text/plain": [
       "60"
      ]
     },
     "execution_count": 126,
     "metadata": {},
     "output_type": "execute_result"
    }
   ],
   "source": [
    "len(title)"
   ]
  },
  {
   "cell_type": "code",
   "execution_count": 127,
   "id": "184ac9b5",
   "metadata": {},
   "outputs": [],
   "source": [
    "price=driver.find_elements_by_class_name('a-price-whole')"
   ]
  },
  {
   "cell_type": "code",
   "execution_count": 128,
   "id": "f89eac90",
   "metadata": {
    "scrolled": true
   },
   "outputs": [
    {
     "data": {
      "text/plain": [
       "['7,499',\n",
       " '9,999',\n",
       " '2,190',\n",
       " '7,348',\n",
       " '3,049',\n",
       " '1,490',\n",
       " '2,150',\n",
       " '2,520',\n",
       " '7,499',\n",
       " '2,150',\n",
       " '5,299',\n",
       " '',\n",
       " '',\n",
       " '2,095',\n",
       " '2,190',\n",
       " '1,490',\n",
       " '2,090',\n",
       " '2,520',\n",
       " '2,090',\n",
       " '5,799',\n",
       " '5,999',\n",
       " '5,299',\n",
       " '2,699',\n",
       " '2,199',\n",
       " '989',\n",
       " '2,895',\n",
       " '948',\n",
       " '1,019',\n",
       " '4,280',\n",
       " '2,290',\n",
       " '2,699',\n",
       " '2,520',\n",
       " '2,299',\n",
       " '2,649',\n",
       " '2,520',\n",
       " '3,024',\n",
       " '3,850',\n",
       " '2,589',\n",
       " '11,548',\n",
       " '6,335',\n",
       " '2,995',\n",
       " '299',\n",
       " '789',\n",
       " '4,669',\n",
       " '2,690',\n",
       " '2,520',\n",
       " '2,995',\n",
       " '3,999',\n",
       " '2,690',\n",
       " '2,695',\n",
       " '2,520',\n",
       " '18,970',\n",
       " '7,599',\n",
       " '5,687',\n",
       " '9,490',\n",
       " '4,169',\n",
       " '249',\n",
       " '7,400',\n",
       " '939',\n",
       " '2,655',\n",
       " '3,999']"
      ]
     },
     "execution_count": 128,
     "metadata": {},
     "output_type": "execute_result"
    }
   ],
   "source": [
    "prices=[]\n",
    "\n",
    "for i in price:\n",
    "    if i.text is None:\n",
    "        prices.append('-')\n",
    "    else:\n",
    "        prices.append(i.text)\n",
    "prices\n"
   ]
  },
  {
   "cell_type": "code",
   "execution_count": 129,
   "id": "118a5a3b",
   "metadata": {},
   "outputs": [
    {
     "data": {
      "text/plain": [
       "61"
      ]
     },
     "execution_count": 129,
     "metadata": {},
     "output_type": "execute_result"
    }
   ],
   "source": [
    "len(price)"
   ]
  },
  {
   "cell_type": "code",
   "execution_count": 130,
   "id": "4d6502d1",
   "metadata": {},
   "outputs": [],
   "source": [
    "expected_delivery=driver.find_elements_by_class_name('a-text-bold')"
   ]
  },
  {
   "cell_type": "code",
   "execution_count": 131,
   "id": "79d97ba7",
   "metadata": {
    "collapsed": true
   },
   "outputs": [
    {
     "data": {
      "text/plain": [
       "['\"guitar\"',\n",
       " 'Tuesday, April 5',\n",
       " 'Tuesday, April 5',\n",
       " 'Tuesday, April 5',\n",
       " 'Tomorrow, April 4',\n",
       " 'Tomorrow, April 4',\n",
       " 'Tomorrow, April 4',\n",
       " 'Wednesday, April 6',\n",
       " 'Best Electric Guitars For The Rockstar of Tomorrow',\n",
       " 'Glossy Finish',\n",
       " 'Durable Wood',\n",
       " '',\n",
       " '',\n",
       " 'Tomorrow, April 4',\n",
       " 'Tuesday, April 5',\n",
       " 'Tomorrow, April 4',\n",
       " 'Tomorrow, April 4',\n",
       " 'Tomorrow, April 4',\n",
       " 'Tomorrow, April 4',\n",
       " 'Wednesday, April 6',\n",
       " 'Wednesday, April 6',\n",
       " 'Wednesday, April 6',\n",
       " 'Tuesday, April 5',\n",
       " 'Wednesday, April 6',\n",
       " 'Wednesday, April 6',\n",
       " 'Monday, April 11',\n",
       " 'Wednesday, April 6',\n",
       " 'Tuesday, April 5',\n",
       " 'Wednesday, April 6',\n",
       " 'Monday, April 11',\n",
       " 'Thursday, April 7',\n",
       " 'Tomorrow, April 4',\n",
       " 'Tuesday, April 5',\n",
       " 'Tomorrow, April 4',\n",
       " 'Wednesday, April 6',\n",
       " 'Tomorrow, April 4',\n",
       " 'Tomorrow, April 4',\n",
       " 'Tomorrow, April 4',\n",
       " 'Tomorrow, April 4',\n",
       " 'Wednesday, April 6',\n",
       " 'Tomorrow, April 4',\n",
       " 'Wednesday, April 6',\n",
       " 'Thursday, April 7',\n",
       " 'Friday, April 8',\n",
       " 'Tuesday, April 5',\n",
       " 'Tuesday, April 5',\n",
       " 'Tuesday, April 5',\n",
       " 'Wednesday, April 6',\n",
       " 'Saturday, April 9',\n",
       " 'Tomorrow, April 4',\n",
       " 'Wednesday, April 6',\n",
       " 'Thursday, April 7',\n",
       " 'Tuesday, April 5',\n",
       " 'Tuesday, April 5',\n",
       " 'Thursday, April 7',\n",
       " 'Wednesday, April 6',\n",
       " 'Tomorrow, April 4',\n",
       " 'Tomorrow, April 4',\n",
       " 'Thursday, April 7',\n",
       " 'Wednesday, April 6',\n",
       " 'Wednesday, April 6',\n",
       " 'Tuesday, April 5']"
      ]
     },
     "execution_count": 131,
     "metadata": {},
     "output_type": "execute_result"
    }
   ],
   "source": [
    "expected_deliveries=[]\n",
    "\n",
    "for i in expected_delivery:\n",
    "    if i.text is None:\n",
    "        expected_deliveries.append('-')\n",
    "    else:\n",
    "        expected_deliveries.append(i.text)\n",
    "expected_deliveries"
   ]
  },
  {
   "cell_type": "code",
   "execution_count": 132,
   "id": "4f9392e4",
   "metadata": {},
   "outputs": [
    {
     "data": {
      "text/plain": [
       "62"
      ]
     },
     "execution_count": 132,
     "metadata": {},
     "output_type": "execute_result"
    }
   ],
   "source": [
    "len(expected_delivery)"
   ]
  },
  {
   "cell_type": "code",
   "execution_count": 139,
   "id": "48afd1cc",
   "metadata": {},
   "outputs": [],
   "source": [
    "available=driver.find_elements_by_class_name('a-color-price')"
   ]
  },
  {
   "cell_type": "code",
   "execution_count": 141,
   "id": "816b04e4",
   "metadata": {},
   "outputs": [
    {
     "data": {
      "text/plain": [
       "['Only 2 left in stock.',\n",
       " 'Only 2 left in stock.',\n",
       " '₹1,999',\n",
       " '₹5,199',\n",
       " 'Only 2 left in stock (more on the way).',\n",
       " '₹2,290',\n",
       " 'Only 1 left in stock.',\n",
       " 'Only 1 left in stock.',\n",
       " 'Only 1 left in stock (more on the way).',\n",
       " 'Only 1 left in stock.',\n",
       " 'Only 1 left in stock.']"
      ]
     },
     "execution_count": 141,
     "metadata": {},
     "output_type": "execute_result"
    }
   ],
   "source": [
    "availability=[]\n",
    "\n",
    "for i in available:\n",
    "    if i.text is None:\n",
    "        availability.append('-')\n",
    "    else:\n",
    "        availability.append(i.text)\n",
    "        \n",
    "availability"
   ]
  },
  {
   "cell_type": "code",
   "execution_count": 142,
   "id": "dfd9743c",
   "metadata": {},
   "outputs": [],
   "source": [
    "product_url=driver.find_elements_by_class_name('a-text-normal')"
   ]
  },
  {
   "cell_type": "code",
   "execution_count": 143,
   "id": "8ec068da",
   "metadata": {},
   "outputs": [
    {
     "data": {
      "text/plain": [
       "197"
      ]
     },
     "execution_count": 143,
     "metadata": {},
     "output_type": "execute_result"
    }
   ],
   "source": [
    "len(product_url)"
   ]
  },
  {
   "cell_type": "code",
   "execution_count": 10,
   "id": "d6009f60",
   "metadata": {},
   "outputs": [
    {
     "ename": "ValueError",
     "evalue": "Length of values (134) does not match length of index (1)",
     "output_type": "error",
     "traceback": [
      "\u001b[1;31m---------------------------------------------------------------------------\u001b[0m",
      "\u001b[1;31mValueError\u001b[0m                                Traceback (most recent call last)",
      "\u001b[1;32m<ipython-input-10-fefcfe5016fa>\u001b[0m in \u001b[0;36m<module>\u001b[1;34m\u001b[0m\n\u001b[0;32m     59\u001b[0m \u001b[0mguitars\u001b[0m\u001b[1;33m=\u001b[0m\u001b[0mpd\u001b[0m\u001b[1;33m.\u001b[0m\u001b[0mDataFrame\u001b[0m\u001b[1;33m(\u001b[0m\u001b[1;33m)\u001b[0m\u001b[1;33m\u001b[0m\u001b[1;33m\u001b[0m\u001b[0m\n\u001b[0;32m     60\u001b[0m \u001b[0mguitars\u001b[0m\u001b[1;33m[\u001b[0m\u001b[1;34m'Product titles'\u001b[0m\u001b[1;33m]\u001b[0m\u001b[1;33m=\u001b[0m\u001b[0mtitles\u001b[0m\u001b[1;33m\u001b[0m\u001b[1;33m\u001b[0m\u001b[0m\n\u001b[1;32m---> 61\u001b[1;33m \u001b[0mguitars\u001b[0m\u001b[1;33m[\u001b[0m\u001b[1;34m'Prices'\u001b[0m\u001b[1;33m]\u001b[0m\u001b[1;33m=\u001b[0m\u001b[0mprices\u001b[0m\u001b[1;33m\u001b[0m\u001b[1;33m\u001b[0m\u001b[0m\n\u001b[0m\u001b[0;32m     62\u001b[0m \u001b[0mguitars\u001b[0m\u001b[1;33m[\u001b[0m\u001b[1;34m'Expected delivery'\u001b[0m\u001b[1;33m]\u001b[0m\u001b[1;33m=\u001b[0m\u001b[0mexpected_delivery\u001b[0m\u001b[1;33m\u001b[0m\u001b[1;33m\u001b[0m\u001b[0m\n\u001b[0;32m     63\u001b[0m \u001b[0mguitars\u001b[0m\u001b[1;33m[\u001b[0m\u001b[1;34m'Availability'\u001b[0m\u001b[1;33m]\u001b[0m\u001b[1;33m=\u001b[0m\u001b[0mavailability\u001b[0m\u001b[1;33m\u001b[0m\u001b[1;33m\u001b[0m\u001b[0m\n",
      "\u001b[1;32m~\\anaconda3\\lib\\site-packages\\pandas\\core\\frame.py\u001b[0m in \u001b[0;36m__setitem__\u001b[1;34m(self, key, value)\u001b[0m\n\u001b[0;32m   3161\u001b[0m         \u001b[1;32melse\u001b[0m\u001b[1;33m:\u001b[0m\u001b[1;33m\u001b[0m\u001b[1;33m\u001b[0m\u001b[0m\n\u001b[0;32m   3162\u001b[0m             \u001b[1;31m# set column\u001b[0m\u001b[1;33m\u001b[0m\u001b[1;33m\u001b[0m\u001b[1;33m\u001b[0m\u001b[0m\n\u001b[1;32m-> 3163\u001b[1;33m             \u001b[0mself\u001b[0m\u001b[1;33m.\u001b[0m\u001b[0m_set_item\u001b[0m\u001b[1;33m(\u001b[0m\u001b[0mkey\u001b[0m\u001b[1;33m,\u001b[0m \u001b[0mvalue\u001b[0m\u001b[1;33m)\u001b[0m\u001b[1;33m\u001b[0m\u001b[1;33m\u001b[0m\u001b[0m\n\u001b[0m\u001b[0;32m   3164\u001b[0m \u001b[1;33m\u001b[0m\u001b[0m\n\u001b[0;32m   3165\u001b[0m     \u001b[1;32mdef\u001b[0m \u001b[0m_setitem_slice\u001b[0m\u001b[1;33m(\u001b[0m\u001b[0mself\u001b[0m\u001b[1;33m,\u001b[0m \u001b[0mkey\u001b[0m\u001b[1;33m:\u001b[0m \u001b[0mslice\u001b[0m\u001b[1;33m,\u001b[0m \u001b[0mvalue\u001b[0m\u001b[1;33m)\u001b[0m\u001b[1;33m:\u001b[0m\u001b[1;33m\u001b[0m\u001b[1;33m\u001b[0m\u001b[0m\n",
      "\u001b[1;32m~\\anaconda3\\lib\\site-packages\\pandas\\core\\frame.py\u001b[0m in \u001b[0;36m_set_item\u001b[1;34m(self, key, value)\u001b[0m\n\u001b[0;32m   3240\u001b[0m         \"\"\"\n\u001b[0;32m   3241\u001b[0m         \u001b[0mself\u001b[0m\u001b[1;33m.\u001b[0m\u001b[0m_ensure_valid_index\u001b[0m\u001b[1;33m(\u001b[0m\u001b[0mvalue\u001b[0m\u001b[1;33m)\u001b[0m\u001b[1;33m\u001b[0m\u001b[1;33m\u001b[0m\u001b[0m\n\u001b[1;32m-> 3242\u001b[1;33m         \u001b[0mvalue\u001b[0m \u001b[1;33m=\u001b[0m \u001b[0mself\u001b[0m\u001b[1;33m.\u001b[0m\u001b[0m_sanitize_column\u001b[0m\u001b[1;33m(\u001b[0m\u001b[0mkey\u001b[0m\u001b[1;33m,\u001b[0m \u001b[0mvalue\u001b[0m\u001b[1;33m)\u001b[0m\u001b[1;33m\u001b[0m\u001b[1;33m\u001b[0m\u001b[0m\n\u001b[0m\u001b[0;32m   3243\u001b[0m         \u001b[0mNDFrame\u001b[0m\u001b[1;33m.\u001b[0m\u001b[0m_set_item\u001b[0m\u001b[1;33m(\u001b[0m\u001b[0mself\u001b[0m\u001b[1;33m,\u001b[0m \u001b[0mkey\u001b[0m\u001b[1;33m,\u001b[0m \u001b[0mvalue\u001b[0m\u001b[1;33m)\u001b[0m\u001b[1;33m\u001b[0m\u001b[1;33m\u001b[0m\u001b[0m\n\u001b[0;32m   3244\u001b[0m \u001b[1;33m\u001b[0m\u001b[0m\n",
      "\u001b[1;32m~\\anaconda3\\lib\\site-packages\\pandas\\core\\frame.py\u001b[0m in \u001b[0;36m_sanitize_column\u001b[1;34m(self, key, value, broadcast)\u001b[0m\n\u001b[0;32m   3897\u001b[0m \u001b[1;33m\u001b[0m\u001b[0m\n\u001b[0;32m   3898\u001b[0m             \u001b[1;31m# turn me into an ndarray\u001b[0m\u001b[1;33m\u001b[0m\u001b[1;33m\u001b[0m\u001b[1;33m\u001b[0m\u001b[0m\n\u001b[1;32m-> 3899\u001b[1;33m             \u001b[0mvalue\u001b[0m \u001b[1;33m=\u001b[0m \u001b[0msanitize_index\u001b[0m\u001b[1;33m(\u001b[0m\u001b[0mvalue\u001b[0m\u001b[1;33m,\u001b[0m \u001b[0mself\u001b[0m\u001b[1;33m.\u001b[0m\u001b[0mindex\u001b[0m\u001b[1;33m)\u001b[0m\u001b[1;33m\u001b[0m\u001b[1;33m\u001b[0m\u001b[0m\n\u001b[0m\u001b[0;32m   3900\u001b[0m             \u001b[1;32mif\u001b[0m \u001b[1;32mnot\u001b[0m \u001b[0misinstance\u001b[0m\u001b[1;33m(\u001b[0m\u001b[0mvalue\u001b[0m\u001b[1;33m,\u001b[0m \u001b[1;33m(\u001b[0m\u001b[0mnp\u001b[0m\u001b[1;33m.\u001b[0m\u001b[0mndarray\u001b[0m\u001b[1;33m,\u001b[0m \u001b[0mIndex\u001b[0m\u001b[1;33m)\u001b[0m\u001b[1;33m)\u001b[0m\u001b[1;33m:\u001b[0m\u001b[1;33m\u001b[0m\u001b[1;33m\u001b[0m\u001b[0m\n\u001b[0;32m   3901\u001b[0m                 \u001b[1;32mif\u001b[0m \u001b[0misinstance\u001b[0m\u001b[1;33m(\u001b[0m\u001b[0mvalue\u001b[0m\u001b[1;33m,\u001b[0m \u001b[0mlist\u001b[0m\u001b[1;33m)\u001b[0m \u001b[1;32mand\u001b[0m \u001b[0mlen\u001b[0m\u001b[1;33m(\u001b[0m\u001b[0mvalue\u001b[0m\u001b[1;33m)\u001b[0m \u001b[1;33m>\u001b[0m \u001b[1;36m0\u001b[0m\u001b[1;33m:\u001b[0m\u001b[1;33m\u001b[0m\u001b[1;33m\u001b[0m\u001b[0m\n",
      "\u001b[1;32m~\\anaconda3\\lib\\site-packages\\pandas\\core\\internals\\construction.py\u001b[0m in \u001b[0;36msanitize_index\u001b[1;34m(data, index)\u001b[0m\n\u001b[0;32m    749\u001b[0m     \"\"\"\n\u001b[0;32m    750\u001b[0m     \u001b[1;32mif\u001b[0m \u001b[0mlen\u001b[0m\u001b[1;33m(\u001b[0m\u001b[0mdata\u001b[0m\u001b[1;33m)\u001b[0m \u001b[1;33m!=\u001b[0m \u001b[0mlen\u001b[0m\u001b[1;33m(\u001b[0m\u001b[0mindex\u001b[0m\u001b[1;33m)\u001b[0m\u001b[1;33m:\u001b[0m\u001b[1;33m\u001b[0m\u001b[1;33m\u001b[0m\u001b[0m\n\u001b[1;32m--> 751\u001b[1;33m         raise ValueError(\n\u001b[0m\u001b[0;32m    752\u001b[0m             \u001b[1;34m\"Length of values \"\u001b[0m\u001b[1;33m\u001b[0m\u001b[1;33m\u001b[0m\u001b[0m\n\u001b[0;32m    753\u001b[0m             \u001b[1;34mf\"({len(data)}) \"\u001b[0m\u001b[1;33m\u001b[0m\u001b[1;33m\u001b[0m\u001b[0m\n",
      "\u001b[1;31mValueError\u001b[0m: Length of values (134) does not match length of index (1)"
     ]
    }
   ],
   "source": [
    "\n",
    "\n",
    "#creating empty lists for scraping data (not using returns/expected category because this information is unavailable)\n",
    "titles=[]\n",
    "prices=[]\n",
    "expected_delivery=[]\n",
    "availability=[]\n",
    "product_url=[]\n",
    "\n",
    "#scraping product titles(brand names and titles)\n",
    "namelist=driver.find_elements_by_xpath('/html/body/div[1]/div[2]/div[1]/div[1]/div/span[3]/div[2]/div[3]/div/div/div/div/div/div/div[3]/div[1]/h2/a/span')\n",
    "for i in namelist:\n",
    "    if i.text is None:\n",
    "        titles.append('--')\n",
    "    else:\n",
    "        titles.append(i.text)\n",
    "        \n",
    "time.sleep(4)\n",
    "\n",
    "#scraping prices\n",
    "pricelist=driver.find_elements_by_class_name('a-offscreen')\n",
    "for i in pricelist:\n",
    "    if i.text is None:\n",
    "        prices.append=['--']\n",
    "    else:\n",
    "        prices.append(i.text)\n",
    "        \n",
    "time.sleep(4)\n",
    "\n",
    "#scraping expected_delivery\n",
    "dates=driver.find_elements_by_class_name('a-text-bold')\n",
    "for i in dates:\n",
    "    if i.text is None:\n",
    "        expected_delivery.append('--')\n",
    "    else:\n",
    "        expected_delivery.append(i.text)\n",
    "        \n",
    "time.sleep(4)\n",
    "\n",
    "#scraping availability\n",
    "stock=driver.find_elements_by_class_name('a-color-price')\n",
    "for i in stock:\n",
    "    if i.text is None:\n",
    "        availability.append('--')\n",
    "    else:\n",
    "        availability.append(i.text)\n",
    "        \n",
    "time.sleep(4)\n",
    "        \n",
    "#scraping product url\n",
    "link=driver.find_elements_by_class_name('a-text-normal')\n",
    "for i in link:\n",
    "    if i.text is None:\n",
    "        product_url.append('--')\n",
    "    else:\n",
    "        product_url.append(i.text)\n",
    "        \n",
    "time.sleep(4)\n",
    "\n",
    "#creating dataframe\n",
    "guitars=pd.DataFrame()\n",
    "guitars['Product titles']=titles\n",
    "guitars['Prices']=prices \n",
    "guitars['Expected delivery']=expected_delivery \n",
    "guitars['Availability']=availability\n",
    "guitars['Product URL']=product_url\n",
    "\n",
    "guitars"
   ]
  },
  {
   "cell_type": "markdown",
   "id": "5f93cc3a",
   "metadata": {},
   "source": [
    "3. Write a python program to access the search bar and search button on images.google.com and scrape 10 images each for keywords ‘fruits’, ‘cars’ and ‘Machine Learning’, ‘Guitar’, ‘Cakes’."
   ]
  },
  {
   "cell_type": "code",
   "execution_count": 30,
   "id": "4bee3988",
   "metadata": {},
   "outputs": [],
   "source": [
    "#extracting path of the webdriver\n",
    "driver=webdriver.Chrome(r'C:/Users/Dell/Downloads/chromedriver_win32 (1)/chromedriver.exe')\n",
    "\n",
    "#getting the webpage\n",
    "url3='https://images.google.com/'\n",
    "driver.get(url3)\n",
    "time.sleep(3)\n",
    "\n",
    "driver.execute_script('window.scrollBy(0,200)','')"
   ]
  },
  {
   "cell_type": "code",
   "execution_count": 18,
   "id": "d80b2b31",
   "metadata": {},
   "outputs": [],
   "source": [
    "popup_language=driver.find_element_by_class_name('ud1jmf')\n",
    "popup_language.click()"
   ]
  },
  {
   "cell_type": "code",
   "execution_count": 22,
   "id": "cbddcb5b",
   "metadata": {},
   "outputs": [
    {
     "data": {
      "text/plain": [
       "<selenium.webdriver.remote.webelement.WebElement (session=\"a57148b4d435fb35f07ac2f4ea145241\", element=\"cd9c5004-3ac9-460c-998b-5f8d6fa98e98\")>"
      ]
     },
     "execution_count": 22,
     "metadata": {},
     "output_type": "execute_result"
    }
   ],
   "source": [
    "language_window=driver.find_element_by_xpath('/html/body/div[2]/div[2]/div[3]/span/div/div/div/div[1]/div/div/div/div')\n",
    "language_window"
   ]
  },
  {
   "cell_type": "code",
   "execution_count": 24,
   "id": "906917a0",
   "metadata": {},
   "outputs": [],
   "source": [
    "english=driver.find_element_by_xpath('/html/body/div[2]/div[2]/div[3]/span/div/div/div/div[1]/div/div/div/div/div/li[13]')\n",
    "english.click()"
   ]
  },
  {
   "cell_type": "code",
   "execution_count": 29,
   "id": "a98fff60",
   "metadata": {},
   "outputs": [
    {
     "ename": "SyntaxError",
     "evalue": "invalid syntax (<ipython-input-29-22537324a46a>, line 1)",
     "output_type": "error",
     "traceback": [
      "\u001b[1;36m  File \u001b[1;32m\"<ipython-input-29-22537324a46a>\"\u001b[1;36m, line \u001b[1;32m1\u001b[0m\n\u001b[1;33m    EventFiringWebDriver event= new EventFiringWebDriver(driver)\u001b[0m\n\u001b[1;37m                         ^\u001b[0m\n\u001b[1;31mSyntaxError\u001b[0m\u001b[1;31m:\u001b[0m invalid syntax\n"
     ]
    }
   ],
   "source": [
    "EventFiringWebDriver event= new EventFiringWebDriver(driver)"
   ]
  },
  {
   "cell_type": "code",
   "execution_count": 26,
   "id": "75caa4c7",
   "metadata": {},
   "outputs": [],
   "source": [
    "popup_conditions=driver.find_element_by_xpath('/html/body/div[2]/div[2]/div[3]')"
   ]
  },
  {
   "cell_type": "code",
   "execution_count": 28,
   "id": "506a1d62",
   "metadata": {},
   "outputs": [],
   "source": [
    "driver.execute_script('window.scrollBy(0,50)','')"
   ]
  },
  {
   "cell_type": "code",
   "execution_count": null,
   "id": "767f1e49",
   "metadata": {},
   "outputs": [],
   "source": [
    "#accessing the search bar\n",
    "search_bar=driver.find_element_by_xpath('/html/body/div[1]/div[3]/form/div[1]/div[1]/div[1]/div/div[2]/input')\n",
    "search_bar.send_keys('fruits')\n",
    "\n",
    "time.sleep(3)\n",
    "\n",
    "#accessing search button\n",
    "search_button=driver.find_element_by_xpath('/html/body/div[1]/div[3]/form/div[1]/div[1]/div[1]/button/div/span/svg')\n",
    "search_button.click()\n"
   ]
  },
  {
   "cell_type": "code",
   "execution_count": null,
   "id": "b18096a0",
   "metadata": {},
   "outputs": [],
   "source": [
    "try:\n",
    "    conditions_popup=driver.find_element_by_class_name('_2doB4z')\n",
    "    \n",
    "except:\n",
    "    print('No element with this class name.Skipping!')\n"
   ]
  },
  {
   "cell_type": "markdown",
   "id": "6069d169",
   "metadata": {},
   "source": [
    "4. Write a python program to search for a smartphone(e.g.: Oneplus Nord, pixel 4A, etc.) on www.flipkart.com and scrape following details for all the search results displayed on 1st page. Details to be scraped: “Brand Name”, “Smartphone name”, “Colour”, “RAM”, “Storage(ROM)”, “Primary Camera”, “Secondary Camera”, “Display Size”, “Battery Capacity”, “Price”, “Product URL”. Incase if any of the details is missing then replace it by “- “. Save your results in a dataframe and CSV."
   ]
  },
  {
   "cell_type": "code",
   "execution_count": 87,
   "id": "71b26ba6",
   "metadata": {},
   "outputs": [],
   "source": [
    "#extracting path of the webdriver\n",
    "driver=webdriver.Chrome(r'C:/Users/Dell/Downloads/chromedriver_win32 (1)/chromedriver.exe')"
   ]
  },
  {
   "cell_type": "code",
   "execution_count": 88,
   "id": "53d795d6",
   "metadata": {},
   "outputs": [],
   "source": [
    "#getting the webpage\n",
    "url4='https://www.flipkart.com/'\n",
    "driver.get(url4)\n",
    "\n",
    "delay=10\n",
    "#Handling pop up ad\n",
    "WebDriverWait(driver,delay).until(EC.presence_of_element_located((By.CLASS_NAME, '_2doB4z')))\n",
    "\n",
    "try:\n",
    "    ad_cross=driver.find_element_by_class_name('_2doB4z')\n",
    "    ad_cross.click()\n",
    "except:\n",
    "    print('No element with this class name.Skipping!')\n",
    "\n",
    "#accessing search field\n",
    "search_field=driver.find_element_by_xpath('/html/body/div[1]/div/div[1]/div[1]/div[2]/div[2]/form/div/div/input')\n",
    "\n",
    "#searching for smartphone by send keys\n",
    "search_field.send_keys('Redmi Note 11')\n",
    "\n",
    "time.sleep(3)\n",
    "\n",
    "#clicking search button\n",
    "search_btn=driver.find_element_by_class_name('L0Z3Pu')\n",
    "search_btn.click()"
   ]
  },
  {
   "cell_type": "code",
   "execution_count": 89,
   "id": "2353532f",
   "metadata": {
    "scrolled": true
   },
   "outputs": [
    {
     "data": {
      "text/plain": [
       "[<selenium.webdriver.remote.webelement.WebElement (session=\"4a99c87278dbba6f9b09064da5df16da\", element=\"91e99233-e148-4b5f-a1ca-9eb489b84d53\")>,\n",
       " <selenium.webdriver.remote.webelement.WebElement (session=\"4a99c87278dbba6f9b09064da5df16da\", element=\"71040e1b-fa2c-4b25-a4b2-0b568e805497\")>,\n",
       " <selenium.webdriver.remote.webelement.WebElement (session=\"4a99c87278dbba6f9b09064da5df16da\", element=\"06e0bc77-de17-4b9d-833f-1314834f01db\")>,\n",
       " <selenium.webdriver.remote.webelement.WebElement (session=\"4a99c87278dbba6f9b09064da5df16da\", element=\"04843989-ba31-463b-8d3d-dcb28a1d4a41\")>,\n",
       " <selenium.webdriver.remote.webelement.WebElement (session=\"4a99c87278dbba6f9b09064da5df16da\", element=\"b4e8d63f-f6d5-49d0-b52f-1e7beeb36a85\")>,\n",
       " <selenium.webdriver.remote.webelement.WebElement (session=\"4a99c87278dbba6f9b09064da5df16da\", element=\"b3f98aaf-93ed-4e00-8ac8-3d4d6c4c12c5\")>,\n",
       " <selenium.webdriver.remote.webelement.WebElement (session=\"4a99c87278dbba6f9b09064da5df16da\", element=\"e60cb263-c448-41a8-8a54-b1017d2d3e28\")>,\n",
       " <selenium.webdriver.remote.webelement.WebElement (session=\"4a99c87278dbba6f9b09064da5df16da\", element=\"b06c8f06-297c-4dee-b90c-dfdf8bc94dda\")>,\n",
       " <selenium.webdriver.remote.webelement.WebElement (session=\"4a99c87278dbba6f9b09064da5df16da\", element=\"1c831ae8-b964-46f3-99e0-2752e6ecd0e3\")>,\n",
       " <selenium.webdriver.remote.webelement.WebElement (session=\"4a99c87278dbba6f9b09064da5df16da\", element=\"e26ec4ba-d307-43c8-9b11-cab6d2f95eb8\")>,\n",
       " <selenium.webdriver.remote.webelement.WebElement (session=\"4a99c87278dbba6f9b09064da5df16da\", element=\"e56b8a30-5e77-4681-91ad-e388a4f81b2b\")>,\n",
       " <selenium.webdriver.remote.webelement.WebElement (session=\"4a99c87278dbba6f9b09064da5df16da\", element=\"a971c374-31af-4c81-b72b-7c51fd5bf950\")>,\n",
       " <selenium.webdriver.remote.webelement.WebElement (session=\"4a99c87278dbba6f9b09064da5df16da\", element=\"f73773f6-f833-4ab2-8e18-4eecbd605b9d\")>,\n",
       " <selenium.webdriver.remote.webelement.WebElement (session=\"4a99c87278dbba6f9b09064da5df16da\", element=\"bb9aaf59-6e07-437a-9409-22704e5a2d8a\")>,\n",
       " <selenium.webdriver.remote.webelement.WebElement (session=\"4a99c87278dbba6f9b09064da5df16da\", element=\"37494d76-5420-41fc-bf0d-083086743dc4\")>,\n",
       " <selenium.webdriver.remote.webelement.WebElement (session=\"4a99c87278dbba6f9b09064da5df16da\", element=\"c5eaa07c-7ffc-454a-a24e-c6163de7b274\")>,\n",
       " <selenium.webdriver.remote.webelement.WebElement (session=\"4a99c87278dbba6f9b09064da5df16da\", element=\"5f8cabc7-d63a-4c99-8faf-a0146a6463c7\")>,\n",
       " <selenium.webdriver.remote.webelement.WebElement (session=\"4a99c87278dbba6f9b09064da5df16da\", element=\"1c77bc61-0042-4ee6-86e4-2cb0940051e8\")>,\n",
       " <selenium.webdriver.remote.webelement.WebElement (session=\"4a99c87278dbba6f9b09064da5df16da\", element=\"d288bf9f-238f-43e9-beaf-3fbac94b3176\")>,\n",
       " <selenium.webdriver.remote.webelement.WebElement (session=\"4a99c87278dbba6f9b09064da5df16da\", element=\"b5593a74-f175-491b-9346-33270ae05792\")>,\n",
       " <selenium.webdriver.remote.webelement.WebElement (session=\"4a99c87278dbba6f9b09064da5df16da\", element=\"8f3b2db6-3a59-4bc3-a6a8-532d68d40e65\")>,\n",
       " <selenium.webdriver.remote.webelement.WebElement (session=\"4a99c87278dbba6f9b09064da5df16da\", element=\"6e76b5a0-1905-4efc-b23b-71dba6ad3caa\")>,\n",
       " <selenium.webdriver.remote.webelement.WebElement (session=\"4a99c87278dbba6f9b09064da5df16da\", element=\"3592e76e-0423-4278-a83d-9ee6274c56a0\")>,\n",
       " <selenium.webdriver.remote.webelement.WebElement (session=\"4a99c87278dbba6f9b09064da5df16da\", element=\"13ab42ff-de5b-4f7d-a96a-1b586699bfb2\")>]"
      ]
     },
     "execution_count": 89,
     "metadata": {},
     "output_type": "execute_result"
    }
   ],
   "source": [
    "brand=driver.find_elements_by_class_name('_4rR01T')\n",
    "brand"
   ]
  },
  {
   "cell_type": "code",
   "execution_count": null,
   "id": "c553aa3d",
   "metadata": {},
   "outputs": [],
   "source": []
  },
  {
   "cell_type": "code",
   "execution_count": 90,
   "id": "58010e37",
   "metadata": {},
   "outputs": [
    {
     "data": {
      "text/plain": [
       "24"
      ]
     },
     "execution_count": 90,
     "metadata": {},
     "output_type": "execute_result"
    }
   ],
   "source": [
    "len(brand)"
   ]
  },
  {
   "cell_type": "code",
   "execution_count": null,
   "id": "29df9be1",
   "metadata": {},
   "outputs": [],
   "source": []
  },
  {
   "cell_type": "code",
   "execution_count": 91,
   "id": "9a243046",
   "metadata": {
    "collapsed": true
   },
   "outputs": [
    {
     "data": {
      "text/plain": [
       "['Redmi Note 11 (Space Black, 64 GB)',\n",
       " 'Redmi Note 11 (Starburst White, 64 GB)',\n",
       " 'Redmi Note 11 (Horizon Blue, 64 GB)',\n",
       " 'Redmi Note 11 (Space Black, 128 GB)',\n",
       " 'Redmi Note 11 (Starburst White, 128 GB)',\n",
       " 'REDMI Note 11T 5G (Matte black, 128 GB)',\n",
       " 'REDMI Note 11T 5G (Stardust White, 128 GB)',\n",
       " 'Redmi Note 11 (Horizon Blue, 128 GB)',\n",
       " 'REDMI Note 11T 5G (Stardust White, 64 GB)',\n",
       " 'REDMI Note 11T 5G (Stardust White, 128 GB)',\n",
       " 'REDMI Note 11T 5G (Aquamarine Blue, 128 GB)',\n",
       " 'REDMI Note 11T 5G (Aquamarine Blue, 64 GB)',\n",
       " 'REDMI Note 11T 5G (Matte black, 128 GB)',\n",
       " 'Redmi Note 11 (Space Black, 64 GB)',\n",
       " 'REDMI Note 11T 5G (Aquamarine Blue, 128 GB)',\n",
       " 'REDMI Note 10S (Shadow Black, 128 GB)',\n",
       " 'REDMI Note 10S (Frost White, 128 GB)',\n",
       " 'REDMI Note 10 Pro (Dark Night, 128 GB)',\n",
       " 'REDMI Note 10 Pro (Vintage Bronze, 128 GB)',\n",
       " 'REDMI Note 10S (Deep Sea Blue, 128 GB)',\n",
       " 'REDMI Note 10T 5G (Metallic Blue, 64 GB)',\n",
       " 'REDMI Note 10S (Frost White, 128 GB)',\n",
       " 'REDMI Note 10T 5G (Metallic Blue, 128 GB)',\n",
       " 'REDMI Note 10S (Cosmic Purple, 64 GB)']"
      ]
     },
     "execution_count": 91,
     "metadata": {},
     "output_type": "execute_result"
    }
   ],
   "source": [
    "brands=[]\n",
    "\n",
    "for i in brand:\n",
    "    brands.append(i.text)\n",
    "\n",
    "brands"
   ]
  },
  {
   "cell_type": "code",
   "execution_count": 99,
   "id": "7c571be8",
   "metadata": {},
   "outputs": [
    {
     "data": {
      "text/plain": [
       "<selenium.webdriver.remote.webelement.WebElement (session=\"4a99c87278dbba6f9b09064da5df16da\", element=\"729ab351-edd6-4f62-b640-54c70b7768eb\")>"
      ]
     },
     "execution_count": 99,
     "metadata": {},
     "output_type": "execute_result"
    }
   ],
   "source": [
    "RAM=driver.find_element_by_xpath('/html/body/div[1]/div/div[3]/div[1]/div[2]/div[2]/div/div/div/a/div[2]/div[1]/div[3]/ul/li[1]')\n",
    "RAM"
   ]
  },
  {
   "cell_type": "code",
   "execution_count": 102,
   "id": "57ac3fd1",
   "metadata": {},
   "outputs": [],
   "source": [
    "phone_info=driver.find_elements_by_class_name('fMghEO')"
   ]
  },
  {
   "cell_type": "code",
   "execution_count": 97,
   "id": "6ba48b83",
   "metadata": {},
   "outputs": [
    {
     "data": {
      "text/plain": [
       "1"
      ]
     },
     "execution_count": 97,
     "metadata": {},
     "output_type": "execute_result"
    }
   ],
   "source": [
    "len(RAM)"
   ]
  },
  {
   "cell_type": "code",
   "execution_count": 100,
   "id": "957705e2",
   "metadata": {},
   "outputs": [
    {
     "ename": "TypeError",
     "evalue": "'WebElement' object is not iterable",
     "output_type": "error",
     "traceback": [
      "\u001b[1;31m---------------------------------------------------------------------------\u001b[0m",
      "\u001b[1;31mTypeError\u001b[0m                                 Traceback (most recent call last)",
      "\u001b[1;32m<ipython-input-100-dd989d9ac29e>\u001b[0m in \u001b[0;36m<module>\u001b[1;34m\u001b[0m\n\u001b[0;32m      1\u001b[0m \u001b[0mRAM_\u001b[0m\u001b[1;33m=\u001b[0m\u001b[1;33m[\u001b[0m\u001b[1;33m]\u001b[0m\u001b[1;33m\u001b[0m\u001b[1;33m\u001b[0m\u001b[0m\n\u001b[0;32m      2\u001b[0m \u001b[1;33m\u001b[0m\u001b[0m\n\u001b[1;32m----> 3\u001b[1;33m \u001b[1;32mfor\u001b[0m \u001b[0mi\u001b[0m \u001b[1;32min\u001b[0m \u001b[0mRAM\u001b[0m\u001b[1;33m:\u001b[0m\u001b[1;33m\u001b[0m\u001b[1;33m\u001b[0m\u001b[0m\n\u001b[0m\u001b[0;32m      4\u001b[0m     \u001b[0mRAM_\u001b[0m\u001b[1;33m.\u001b[0m\u001b[0mappend\u001b[0m\u001b[1;33m(\u001b[0m\u001b[0mi\u001b[0m\u001b[1;33m.\u001b[0m\u001b[0mtext\u001b[0m\u001b[1;33m)\u001b[0m\u001b[1;33m\u001b[0m\u001b[1;33m\u001b[0m\u001b[0m\n\u001b[0;32m      5\u001b[0m \u001b[1;33m\u001b[0m\u001b[0m\n",
      "\u001b[1;31mTypeError\u001b[0m: 'WebElement' object is not iterable"
     ]
    }
   ],
   "source": [
    "RAM_=[]\n",
    "\n",
    "for i in RAM:\n",
    "    RAM_.append(i.text)\n",
    "    \n",
    "RAM_"
   ]
  },
  {
   "cell_type": "markdown",
   "id": "0e07c4ce",
   "metadata": {},
   "source": [
    "5. Write a program to scrap geospatial coordinates (latitude, longitude) of a city searched on google maps."
   ]
  },
  {
   "cell_type": "code",
   "execution_count": 107,
   "id": "d2a768aa",
   "metadata": {},
   "outputs": [],
   "source": [
    "#extracting path of the webdriver\n",
    "driver=webdriver.Chrome(r'C:/Users/Dell/Downloads/chromedriver_win32 (1)/chromedriver.exe')\n",
    "time.sleep(3)"
   ]
  },
  {
   "cell_type": "code",
   "execution_count": 108,
   "id": "589b75fd",
   "metadata": {},
   "outputs": [],
   "source": [
    "#accessing the webpage\n",
    "url5='https://www.google.com/maps/'\n",
    "driver.get(url5)\n",
    "time.sleep(3)"
   ]
  },
  {
   "cell_type": "code",
   "execution_count": 109,
   "id": "40a3be18",
   "metadata": {},
   "outputs": [],
   "source": [
    "driver.execute_script(\"window.scrollBy(0,500)\",\"\")"
   ]
  },
  {
   "cell_type": "code",
   "execution_count": 117,
   "id": "27cf9857",
   "metadata": {},
   "outputs": [],
   "source": [
    "lang_dropdown=driver.find_element_by_xpath('/html/body/c-wiz/div/div/div/div[2]/div[1]/div[4]/form/div/div/button/span')"
   ]
  },
  {
   "cell_type": "code",
   "execution_count": 118,
   "id": "cca70c6f",
   "metadata": {},
   "outputs": [],
   "source": [
    "lang_dropdown.click()"
   ]
  },
  {
   "cell_type": "code",
   "execution_count": 119,
   "id": "ba08dfb5",
   "metadata": {},
   "outputs": [],
   "source": [
    "#inspecting search field\n",
    "search_field=driver.find_element_by_xpath('/html/body/div[3]/div[9]/div[3]/div[1]/div[1]/div[1]/div[2]/form/div/div[3]/div/input[1]')\n",
    "\n",
    "#searching for city using send keys\n",
    "search_field.send_keys('Helsinki')\n",
    "\n",
    "#inspecting search button then clicking\n",
    "search_button=driver.find_element_by_xpath('/html/body/div[3]/div[9]/div[3]/div[1]/div[1]/div[1]/div[2]/div[1]/button')\n",
    "search_button.click()"
   ]
  },
  {
   "cell_type": "markdown",
   "id": "13b57a4a",
   "metadata": {},
   "source": [
    "6. Write a program to scrap details of all the funding deals for second quarter (i.e Jan 21 – March 21) from trak.in."
   ]
  },
  {
   "cell_type": "code",
   "execution_count": 7,
   "id": "d3ef0c0f",
   "metadata": {},
   "outputs": [],
   "source": [
    "#Importing libraries\n",
    "import selenium\n",
    "import pandas as pd\n",
    "import time\n",
    "\n",
    "import warnings\n",
    "warnings.filterwarnings(\"ignore\")\n",
    "\n",
    "#importing selenium webdriver\n",
    "from selenium import webdriver\n",
    "#importing BeautifulSoup\n",
    "from bs4 import BeautifulSoup\n",
    "\n",
    "options=webdriver.ChromeOptions()\n",
    "options.add_argument('--headless')\n",
    "options.add_argument('--no-sandbox')\n",
    "options.add_argument('--disable-dev-shm-usage')\n",
    "\n",
    "#importing required exceptions which needs to be handled\n",
    "from selenium.common.exceptions import StaleElementReferenceException\n",
    "from selenium.webdriver.support.ui import WebDriverWait\n",
    "from selenium.webdriver.support import expected_conditions as EC\n",
    "from selenium.webdriver.common.by import By\n",
    "\n",
    "#importing requests\n",
    "import requests\n",
    "\n",
    "#importing regex\n",
    "import re"
   ]
  },
  {
   "cell_type": "code",
   "execution_count": null,
   "id": "2900c636",
   "metadata": {},
   "outputs": [],
   "source": []
  },
  {
   "cell_type": "code",
   "execution_count": 9,
   "id": "52488bf6",
   "metadata": {},
   "outputs": [],
   "source": [
    "#getting the webpage\n",
    "url6='https://trak.in/'\n",
    "driver.get(url6)\n",
    "time.sleep(5) #using time.sleep to add delay so that the search process is smooth"
   ]
  },
  {
   "cell_type": "code",
   "execution_count": 15,
   "id": "c05adb35",
   "metadata": {},
   "outputs": [
    {
     "ename": "ElementNotInteractableException",
     "evalue": "Message: element not interactable\n  (Session info: chrome=99.0.4844.84)\nStacktrace:\nBacktrace:\n\tOrdinal0 [0x008F9943+2595139]\n\tOrdinal0 [0x0088C9F1+2148849]\n\tOrdinal0 [0x007843F0+1065968]\n\tOrdinal0 [0x007B1F17+1253143]\n\tOrdinal0 [0x007A7AB3+1211059]\n\tOrdinal0 [0x007CB9EC+1358316]\n\tOrdinal0 [0x007A7474+1209460]\n\tOrdinal0 [0x007CBC04+1358852]\n\tOrdinal0 [0x007DBAF2+1424114]\n\tOrdinal0 [0x007CB806+1357830]\n\tOrdinal0 [0x007A6086+1204358]\n\tOrdinal0 [0x007A6F96+1208214]\n\tGetHandleVerifier [0x00A9B232+1658114]\n\tGetHandleVerifier [0x00B5312C+2411516]\n\tGetHandleVerifier [0x0098F261+560433]\n\tGetHandleVerifier [0x0098E366+556598]\n\tOrdinal0 [0x0089286B+2173035]\n\tOrdinal0 [0x008975F8+2192888]\n\tOrdinal0 [0x008976E5+2193125]\n\tOrdinal0 [0x008A11FC+2232828]\n\tBaseThreadInitThunk [0x753CFA29+25]\n\tRtlGetAppContainerNamedObjectPath [0x77207A7E+286]\n\tRtlGetAppContainerNamedObjectPath [0x77207A4E+238]\n",
     "output_type": "error",
     "traceback": [
      "\u001b[1;31m---------------------------------------------------------------------------\u001b[0m",
      "\u001b[1;31mElementNotInteractableException\u001b[0m           Traceback (most recent call last)",
      "\u001b[1;32m<ipython-input-15-ad17f7bb8705>\u001b[0m in \u001b[0;36m<module>\u001b[1;34m\u001b[0m\n\u001b[0;32m      1\u001b[0m \u001b[1;31m#visit funding deals page\u001b[0m\u001b[1;33m\u001b[0m\u001b[1;33m\u001b[0m\u001b[1;33m\u001b[0m\u001b[0m\n\u001b[0;32m      2\u001b[0m \u001b[0mfunding_deals\u001b[0m\u001b[1;33m=\u001b[0m\u001b[0mdriver\u001b[0m\u001b[1;33m.\u001b[0m\u001b[0mfind_element_by_id\u001b[0m\u001b[1;33m(\u001b[0m\u001b[1;34m'menu-item-51510'\u001b[0m\u001b[1;33m)\u001b[0m\u001b[1;33m\u001b[0m\u001b[1;33m\u001b[0m\u001b[0m\n\u001b[1;32m----> 3\u001b[1;33m \u001b[0mfunding_deals\u001b[0m\u001b[1;33m.\u001b[0m\u001b[0mclick\u001b[0m\u001b[1;33m(\u001b[0m\u001b[1;33m)\u001b[0m\u001b[1;33m\u001b[0m\u001b[1;33m\u001b[0m\u001b[0m\n\u001b[0m",
      "\u001b[1;32m~\\anaconda3\\lib\\site-packages\\selenium\\webdriver\\remote\\webelement.py\u001b[0m in \u001b[0;36mclick\u001b[1;34m(self)\u001b[0m\n\u001b[0;32m     79\u001b[0m     \u001b[1;32mdef\u001b[0m \u001b[0mclick\u001b[0m\u001b[1;33m(\u001b[0m\u001b[0mself\u001b[0m\u001b[1;33m)\u001b[0m \u001b[1;33m->\u001b[0m \u001b[1;32mNone\u001b[0m\u001b[1;33m:\u001b[0m\u001b[1;33m\u001b[0m\u001b[1;33m\u001b[0m\u001b[0m\n\u001b[0;32m     80\u001b[0m         \u001b[1;34m\"\"\"Clicks the element.\"\"\"\u001b[0m\u001b[1;33m\u001b[0m\u001b[1;33m\u001b[0m\u001b[0m\n\u001b[1;32m---> 81\u001b[1;33m         \u001b[0mself\u001b[0m\u001b[1;33m.\u001b[0m\u001b[0m_execute\u001b[0m\u001b[1;33m(\u001b[0m\u001b[0mCommand\u001b[0m\u001b[1;33m.\u001b[0m\u001b[0mCLICK_ELEMENT\u001b[0m\u001b[1;33m)\u001b[0m\u001b[1;33m\u001b[0m\u001b[1;33m\u001b[0m\u001b[0m\n\u001b[0m\u001b[0;32m     82\u001b[0m \u001b[1;33m\u001b[0m\u001b[0m\n\u001b[0;32m     83\u001b[0m     \u001b[1;32mdef\u001b[0m \u001b[0msubmit\u001b[0m\u001b[1;33m(\u001b[0m\u001b[0mself\u001b[0m\u001b[1;33m)\u001b[0m\u001b[1;33m:\u001b[0m\u001b[1;33m\u001b[0m\u001b[1;33m\u001b[0m\u001b[0m\n",
      "\u001b[1;32m~\\anaconda3\\lib\\site-packages\\selenium\\webdriver\\remote\\webelement.py\u001b[0m in \u001b[0;36m_execute\u001b[1;34m(self, command, params)\u001b[0m\n\u001b[0;32m    708\u001b[0m             \u001b[0mparams\u001b[0m \u001b[1;33m=\u001b[0m \u001b[1;33m{\u001b[0m\u001b[1;33m}\u001b[0m\u001b[1;33m\u001b[0m\u001b[1;33m\u001b[0m\u001b[0m\n\u001b[0;32m    709\u001b[0m         \u001b[0mparams\u001b[0m\u001b[1;33m[\u001b[0m\u001b[1;34m'id'\u001b[0m\u001b[1;33m]\u001b[0m \u001b[1;33m=\u001b[0m \u001b[0mself\u001b[0m\u001b[1;33m.\u001b[0m\u001b[0m_id\u001b[0m\u001b[1;33m\u001b[0m\u001b[1;33m\u001b[0m\u001b[0m\n\u001b[1;32m--> 710\u001b[1;33m         \u001b[1;32mreturn\u001b[0m \u001b[0mself\u001b[0m\u001b[1;33m.\u001b[0m\u001b[0m_parent\u001b[0m\u001b[1;33m.\u001b[0m\u001b[0mexecute\u001b[0m\u001b[1;33m(\u001b[0m\u001b[0mcommand\u001b[0m\u001b[1;33m,\u001b[0m \u001b[0mparams\u001b[0m\u001b[1;33m)\u001b[0m\u001b[1;33m\u001b[0m\u001b[1;33m\u001b[0m\u001b[0m\n\u001b[0m\u001b[0;32m    711\u001b[0m \u001b[1;33m\u001b[0m\u001b[0m\n\u001b[0;32m    712\u001b[0m     \u001b[1;32mdef\u001b[0m \u001b[0mfind_element\u001b[0m\u001b[1;33m(\u001b[0m\u001b[0mself\u001b[0m\u001b[1;33m,\u001b[0m \u001b[0mby\u001b[0m\u001b[1;33m=\u001b[0m\u001b[0mBy\u001b[0m\u001b[1;33m.\u001b[0m\u001b[0mID\u001b[0m\u001b[1;33m,\u001b[0m \u001b[0mvalue\u001b[0m\u001b[1;33m=\u001b[0m\u001b[1;32mNone\u001b[0m\u001b[1;33m)\u001b[0m\u001b[1;33m:\u001b[0m\u001b[1;33m\u001b[0m\u001b[1;33m\u001b[0m\u001b[0m\n",
      "\u001b[1;32m~\\anaconda3\\lib\\site-packages\\selenium\\webdriver\\remote\\webdriver.py\u001b[0m in \u001b[0;36mexecute\u001b[1;34m(self, driver_command, params)\u001b[0m\n\u001b[0;32m    423\u001b[0m         \u001b[0mresponse\u001b[0m \u001b[1;33m=\u001b[0m \u001b[0mself\u001b[0m\u001b[1;33m.\u001b[0m\u001b[0mcommand_executor\u001b[0m\u001b[1;33m.\u001b[0m\u001b[0mexecute\u001b[0m\u001b[1;33m(\u001b[0m\u001b[0mdriver_command\u001b[0m\u001b[1;33m,\u001b[0m \u001b[0mparams\u001b[0m\u001b[1;33m)\u001b[0m\u001b[1;33m\u001b[0m\u001b[1;33m\u001b[0m\u001b[0m\n\u001b[0;32m    424\u001b[0m         \u001b[1;32mif\u001b[0m \u001b[0mresponse\u001b[0m\u001b[1;33m:\u001b[0m\u001b[1;33m\u001b[0m\u001b[1;33m\u001b[0m\u001b[0m\n\u001b[1;32m--> 425\u001b[1;33m             \u001b[0mself\u001b[0m\u001b[1;33m.\u001b[0m\u001b[0merror_handler\u001b[0m\u001b[1;33m.\u001b[0m\u001b[0mcheck_response\u001b[0m\u001b[1;33m(\u001b[0m\u001b[0mresponse\u001b[0m\u001b[1;33m)\u001b[0m\u001b[1;33m\u001b[0m\u001b[1;33m\u001b[0m\u001b[0m\n\u001b[0m\u001b[0;32m    426\u001b[0m             response['value'] = self._unwrap_value(\n\u001b[0;32m    427\u001b[0m                 response.get('value', None))\n",
      "\u001b[1;32m~\\anaconda3\\lib\\site-packages\\selenium\\webdriver\\remote\\errorhandler.py\u001b[0m in \u001b[0;36mcheck_response\u001b[1;34m(self, response)\u001b[0m\n\u001b[0;32m    245\u001b[0m                 \u001b[0malert_text\u001b[0m \u001b[1;33m=\u001b[0m \u001b[0mvalue\u001b[0m\u001b[1;33m[\u001b[0m\u001b[1;34m'alert'\u001b[0m\u001b[1;33m]\u001b[0m\u001b[1;33m.\u001b[0m\u001b[0mget\u001b[0m\u001b[1;33m(\u001b[0m\u001b[1;34m'text'\u001b[0m\u001b[1;33m)\u001b[0m\u001b[1;33m\u001b[0m\u001b[1;33m\u001b[0m\u001b[0m\n\u001b[0;32m    246\u001b[0m             \u001b[1;32mraise\u001b[0m \u001b[0mexception_class\u001b[0m\u001b[1;33m(\u001b[0m\u001b[0mmessage\u001b[0m\u001b[1;33m,\u001b[0m \u001b[0mscreen\u001b[0m\u001b[1;33m,\u001b[0m \u001b[0mstacktrace\u001b[0m\u001b[1;33m,\u001b[0m \u001b[0malert_text\u001b[0m\u001b[1;33m)\u001b[0m  \u001b[1;31m# type: ignore[call-arg]  # mypy is not smart enough here\u001b[0m\u001b[1;33m\u001b[0m\u001b[1;33m\u001b[0m\u001b[0m\n\u001b[1;32m--> 247\u001b[1;33m         \u001b[1;32mraise\u001b[0m \u001b[0mexception_class\u001b[0m\u001b[1;33m(\u001b[0m\u001b[0mmessage\u001b[0m\u001b[1;33m,\u001b[0m \u001b[0mscreen\u001b[0m\u001b[1;33m,\u001b[0m \u001b[0mstacktrace\u001b[0m\u001b[1;33m)\u001b[0m\u001b[1;33m\u001b[0m\u001b[1;33m\u001b[0m\u001b[0m\n\u001b[0m\u001b[0;32m    248\u001b[0m \u001b[1;33m\u001b[0m\u001b[0m\n\u001b[0;32m    249\u001b[0m     \u001b[1;32mdef\u001b[0m \u001b[0m_value_or_default\u001b[0m\u001b[1;33m(\u001b[0m\u001b[0mself\u001b[0m\u001b[1;33m,\u001b[0m \u001b[0mobj\u001b[0m\u001b[1;33m:\u001b[0m \u001b[0mMapping\u001b[0m\u001b[1;33m[\u001b[0m\u001b[0m_KT\u001b[0m\u001b[1;33m,\u001b[0m \u001b[0m_VT\u001b[0m\u001b[1;33m]\u001b[0m\u001b[1;33m,\u001b[0m \u001b[0mkey\u001b[0m\u001b[1;33m:\u001b[0m \u001b[0m_KT\u001b[0m\u001b[1;33m,\u001b[0m \u001b[0mdefault\u001b[0m\u001b[1;33m:\u001b[0m \u001b[0m_VT\u001b[0m\u001b[1;33m)\u001b[0m \u001b[1;33m->\u001b[0m \u001b[0m_VT\u001b[0m\u001b[1;33m:\u001b[0m\u001b[1;33m\u001b[0m\u001b[1;33m\u001b[0m\u001b[0m\n",
      "\u001b[1;31mElementNotInteractableException\u001b[0m: Message: element not interactable\n  (Session info: chrome=99.0.4844.84)\nStacktrace:\nBacktrace:\n\tOrdinal0 [0x008F9943+2595139]\n\tOrdinal0 [0x0088C9F1+2148849]\n\tOrdinal0 [0x007843F0+1065968]\n\tOrdinal0 [0x007B1F17+1253143]\n\tOrdinal0 [0x007A7AB3+1211059]\n\tOrdinal0 [0x007CB9EC+1358316]\n\tOrdinal0 [0x007A7474+1209460]\n\tOrdinal0 [0x007CBC04+1358852]\n\tOrdinal0 [0x007DBAF2+1424114]\n\tOrdinal0 [0x007CB806+1357830]\n\tOrdinal0 [0x007A6086+1204358]\n\tOrdinal0 [0x007A6F96+1208214]\n\tGetHandleVerifier [0x00A9B232+1658114]\n\tGetHandleVerifier [0x00B5312C+2411516]\n\tGetHandleVerifier [0x0098F261+560433]\n\tGetHandleVerifier [0x0098E366+556598]\n\tOrdinal0 [0x0089286B+2173035]\n\tOrdinal0 [0x008975F8+2192888]\n\tOrdinal0 [0x008976E5+2193125]\n\tOrdinal0 [0x008A11FC+2232828]\n\tBaseThreadInitThunk [0x753CFA29+25]\n\tRtlGetAppContainerNamedObjectPath [0x77207A7E+286]\n\tRtlGetAppContainerNamedObjectPath [0x77207A4E+238]\n"
     ]
    }
   ],
   "source": [
    "#visit funding deals page\n",
    "funding_deals=driver.find_element_by_id('menu-item-51510')\n",
    "funding_deals.click()"
   ]
  },
  {
   "cell_type": "code",
   "execution_count": null,
   "id": "1dedeccd",
   "metadata": {},
   "outputs": [],
   "source": [
    " "
   ]
  },
  {
   "cell_type": "code",
   "execution_count": null,
   "id": "ad79bafa",
   "metadata": {},
   "outputs": [],
   "source": []
  },
  {
   "cell_type": "code",
   "execution_count": null,
   "id": "0144f82a",
   "metadata": {},
   "outputs": [],
   "source": []
  },
  {
   "cell_type": "code",
   "execution_count": null,
   "id": "33721728",
   "metadata": {},
   "outputs": [],
   "source": []
  },
  {
   "cell_type": "code",
   "execution_count": 10,
   "id": "db27486f",
   "metadata": {},
   "outputs": [],
   "source": [
    "html=driver.page_source"
   ]
  },
  {
   "cell_type": "code",
   "execution_count": 11,
   "id": "240c2894",
   "metadata": {},
   "outputs": [
    {
     "ename": "ValueError",
     "evalue": "No tables found",
     "output_type": "error",
     "traceback": [
      "\u001b[1;31m---------------------------------------------------------------------------\u001b[0m",
      "\u001b[1;31mValueError\u001b[0m                                Traceback (most recent call last)",
      "\u001b[1;32m<ipython-input-11-126af6267178>\u001b[0m in \u001b[0;36m<module>\u001b[1;34m\u001b[0m\n\u001b[0;32m      1\u001b[0m \u001b[1;31m#generating html into a dataframe\u001b[0m\u001b[1;33m\u001b[0m\u001b[1;33m\u001b[0m\u001b[1;33m\u001b[0m\u001b[0m\n\u001b[1;32m----> 2\u001b[1;33m \u001b[0mdf\u001b[0m\u001b[1;33m=\u001b[0m\u001b[0mpd\u001b[0m\u001b[1;33m.\u001b[0m\u001b[0mread_html\u001b[0m\u001b[1;33m(\u001b[0m\u001b[0mhtml\u001b[0m\u001b[1;33m)\u001b[0m\u001b[1;33m\u001b[0m\u001b[1;33m\u001b[0m\u001b[0m\n\u001b[0m",
      "\u001b[1;32m~\\anaconda3\\lib\\site-packages\\pandas\\util\\_decorators.py\u001b[0m in \u001b[0;36mwrapper\u001b[1;34m(*args, **kwargs)\u001b[0m\n\u001b[0;32m    297\u001b[0m                 )\n\u001b[0;32m    298\u001b[0m                 \u001b[0mwarnings\u001b[0m\u001b[1;33m.\u001b[0m\u001b[0mwarn\u001b[0m\u001b[1;33m(\u001b[0m\u001b[0mmsg\u001b[0m\u001b[1;33m,\u001b[0m \u001b[0mFutureWarning\u001b[0m\u001b[1;33m,\u001b[0m \u001b[0mstacklevel\u001b[0m\u001b[1;33m=\u001b[0m\u001b[0mstacklevel\u001b[0m\u001b[1;33m)\u001b[0m\u001b[1;33m\u001b[0m\u001b[1;33m\u001b[0m\u001b[0m\n\u001b[1;32m--> 299\u001b[1;33m             \u001b[1;32mreturn\u001b[0m \u001b[0mfunc\u001b[0m\u001b[1;33m(\u001b[0m\u001b[1;33m*\u001b[0m\u001b[0margs\u001b[0m\u001b[1;33m,\u001b[0m \u001b[1;33m**\u001b[0m\u001b[0mkwargs\u001b[0m\u001b[1;33m)\u001b[0m\u001b[1;33m\u001b[0m\u001b[1;33m\u001b[0m\u001b[0m\n\u001b[0m\u001b[0;32m    300\u001b[0m \u001b[1;33m\u001b[0m\u001b[0m\n\u001b[0;32m    301\u001b[0m         \u001b[1;32mreturn\u001b[0m \u001b[0mwrapper\u001b[0m\u001b[1;33m\u001b[0m\u001b[1;33m\u001b[0m\u001b[0m\n",
      "\u001b[1;32m~\\anaconda3\\lib\\site-packages\\pandas\\io\\html.py\u001b[0m in \u001b[0;36mread_html\u001b[1;34m(io, match, flavor, header, index_col, skiprows, attrs, parse_dates, thousands, encoding, decimal, converters, na_values, keep_default_na, displayed_only)\u001b[0m\n\u001b[0;32m   1083\u001b[0m     \u001b[0mio\u001b[0m \u001b[1;33m=\u001b[0m \u001b[0mstringify_path\u001b[0m\u001b[1;33m(\u001b[0m\u001b[0mio\u001b[0m\u001b[1;33m)\u001b[0m\u001b[1;33m\u001b[0m\u001b[1;33m\u001b[0m\u001b[0m\n\u001b[0;32m   1084\u001b[0m \u001b[1;33m\u001b[0m\u001b[0m\n\u001b[1;32m-> 1085\u001b[1;33m     return _parse(\n\u001b[0m\u001b[0;32m   1086\u001b[0m         \u001b[0mflavor\u001b[0m\u001b[1;33m=\u001b[0m\u001b[0mflavor\u001b[0m\u001b[1;33m,\u001b[0m\u001b[1;33m\u001b[0m\u001b[1;33m\u001b[0m\u001b[0m\n\u001b[0;32m   1087\u001b[0m         \u001b[0mio\u001b[0m\u001b[1;33m=\u001b[0m\u001b[0mio\u001b[0m\u001b[1;33m,\u001b[0m\u001b[1;33m\u001b[0m\u001b[1;33m\u001b[0m\u001b[0m\n",
      "\u001b[1;32m~\\anaconda3\\lib\\site-packages\\pandas\\io\\html.py\u001b[0m in \u001b[0;36m_parse\u001b[1;34m(flavor, io, match, attrs, encoding, displayed_only, **kwargs)\u001b[0m\n\u001b[0;32m    911\u001b[0m     \u001b[1;32melse\u001b[0m\u001b[1;33m:\u001b[0m\u001b[1;33m\u001b[0m\u001b[1;33m\u001b[0m\u001b[0m\n\u001b[0;32m    912\u001b[0m         \u001b[1;32massert\u001b[0m \u001b[0mretained\u001b[0m \u001b[1;32mis\u001b[0m \u001b[1;32mnot\u001b[0m \u001b[1;32mNone\u001b[0m  \u001b[1;31m# for mypy\u001b[0m\u001b[1;33m\u001b[0m\u001b[1;33m\u001b[0m\u001b[0m\n\u001b[1;32m--> 913\u001b[1;33m         \u001b[1;32mraise\u001b[0m \u001b[0mretained\u001b[0m\u001b[1;33m\u001b[0m\u001b[1;33m\u001b[0m\u001b[0m\n\u001b[0m\u001b[0;32m    914\u001b[0m \u001b[1;33m\u001b[0m\u001b[0m\n\u001b[0;32m    915\u001b[0m     \u001b[0mret\u001b[0m \u001b[1;33m=\u001b[0m \u001b[1;33m[\u001b[0m\u001b[1;33m]\u001b[0m\u001b[1;33m\u001b[0m\u001b[1;33m\u001b[0m\u001b[0m\n",
      "\u001b[1;32m~\\anaconda3\\lib\\site-packages\\pandas\\io\\html.py\u001b[0m in \u001b[0;36m_parse\u001b[1;34m(flavor, io, match, attrs, encoding, displayed_only, **kwargs)\u001b[0m\n\u001b[0;32m    891\u001b[0m \u001b[1;33m\u001b[0m\u001b[0m\n\u001b[0;32m    892\u001b[0m         \u001b[1;32mtry\u001b[0m\u001b[1;33m:\u001b[0m\u001b[1;33m\u001b[0m\u001b[1;33m\u001b[0m\u001b[0m\n\u001b[1;32m--> 893\u001b[1;33m             \u001b[0mtables\u001b[0m \u001b[1;33m=\u001b[0m \u001b[0mp\u001b[0m\u001b[1;33m.\u001b[0m\u001b[0mparse_tables\u001b[0m\u001b[1;33m(\u001b[0m\u001b[1;33m)\u001b[0m\u001b[1;33m\u001b[0m\u001b[1;33m\u001b[0m\u001b[0m\n\u001b[0m\u001b[0;32m    894\u001b[0m         \u001b[1;32mexcept\u001b[0m \u001b[0mValueError\u001b[0m \u001b[1;32mas\u001b[0m \u001b[0mcaught\u001b[0m\u001b[1;33m:\u001b[0m\u001b[1;33m\u001b[0m\u001b[1;33m\u001b[0m\u001b[0m\n\u001b[0;32m    895\u001b[0m             \u001b[1;31m# if `io` is an io-like object, check if it's seekable\u001b[0m\u001b[1;33m\u001b[0m\u001b[1;33m\u001b[0m\u001b[1;33m\u001b[0m\u001b[0m\n",
      "\u001b[1;32m~\\anaconda3\\lib\\site-packages\\pandas\\io\\html.py\u001b[0m in \u001b[0;36mparse_tables\u001b[1;34m(self)\u001b[0m\n\u001b[0;32m    211\u001b[0m         \u001b[0mlist\u001b[0m \u001b[0mof\u001b[0m \u001b[0mparsed\u001b[0m \u001b[1;33m(\u001b[0m\u001b[0mheader\u001b[0m\u001b[1;33m,\u001b[0m \u001b[0mbody\u001b[0m\u001b[1;33m,\u001b[0m \u001b[0mfooter\u001b[0m\u001b[1;33m)\u001b[0m \u001b[0mtuples\u001b[0m \u001b[1;32mfrom\u001b[0m \u001b[0mtables\u001b[0m\u001b[1;33m.\u001b[0m\u001b[1;33m\u001b[0m\u001b[1;33m\u001b[0m\u001b[0m\n\u001b[0;32m    212\u001b[0m         \"\"\"\n\u001b[1;32m--> 213\u001b[1;33m         \u001b[0mtables\u001b[0m \u001b[1;33m=\u001b[0m \u001b[0mself\u001b[0m\u001b[1;33m.\u001b[0m\u001b[0m_parse_tables\u001b[0m\u001b[1;33m(\u001b[0m\u001b[0mself\u001b[0m\u001b[1;33m.\u001b[0m\u001b[0m_build_doc\u001b[0m\u001b[1;33m(\u001b[0m\u001b[1;33m)\u001b[0m\u001b[1;33m,\u001b[0m \u001b[0mself\u001b[0m\u001b[1;33m.\u001b[0m\u001b[0mmatch\u001b[0m\u001b[1;33m,\u001b[0m \u001b[0mself\u001b[0m\u001b[1;33m.\u001b[0m\u001b[0mattrs\u001b[0m\u001b[1;33m)\u001b[0m\u001b[1;33m\u001b[0m\u001b[1;33m\u001b[0m\u001b[0m\n\u001b[0m\u001b[0;32m    214\u001b[0m         \u001b[1;32mreturn\u001b[0m \u001b[1;33m(\u001b[0m\u001b[0mself\u001b[0m\u001b[1;33m.\u001b[0m\u001b[0m_parse_thead_tbody_tfoot\u001b[0m\u001b[1;33m(\u001b[0m\u001b[0mtable\u001b[0m\u001b[1;33m)\u001b[0m \u001b[1;32mfor\u001b[0m \u001b[0mtable\u001b[0m \u001b[1;32min\u001b[0m \u001b[0mtables\u001b[0m\u001b[1;33m)\u001b[0m\u001b[1;33m\u001b[0m\u001b[1;33m\u001b[0m\u001b[0m\n\u001b[0;32m    215\u001b[0m \u001b[1;33m\u001b[0m\u001b[0m\n",
      "\u001b[1;32m~\\anaconda3\\lib\\site-packages\\pandas\\io\\html.py\u001b[0m in \u001b[0;36m_parse_tables\u001b[1;34m(self, doc, match, attrs)\u001b[0m\n\u001b[0;32m    541\u001b[0m \u001b[1;33m\u001b[0m\u001b[0m\n\u001b[0;32m    542\u001b[0m         \u001b[1;32mif\u001b[0m \u001b[1;32mnot\u001b[0m \u001b[0mtables\u001b[0m\u001b[1;33m:\u001b[0m\u001b[1;33m\u001b[0m\u001b[1;33m\u001b[0m\u001b[0m\n\u001b[1;32m--> 543\u001b[1;33m             \u001b[1;32mraise\u001b[0m \u001b[0mValueError\u001b[0m\u001b[1;33m(\u001b[0m\u001b[1;34m\"No tables found\"\u001b[0m\u001b[1;33m)\u001b[0m\u001b[1;33m\u001b[0m\u001b[1;33m\u001b[0m\u001b[0m\n\u001b[0m\u001b[0;32m    544\u001b[0m \u001b[1;33m\u001b[0m\u001b[0m\n\u001b[0;32m    545\u001b[0m         \u001b[0mresult\u001b[0m \u001b[1;33m=\u001b[0m \u001b[1;33m[\u001b[0m\u001b[1;33m]\u001b[0m\u001b[1;33m\u001b[0m\u001b[1;33m\u001b[0m\u001b[0m\n",
      "\u001b[1;31mValueError\u001b[0m: No tables found"
     ]
    }
   ],
   "source": [
    "#generating html into a dataframe\n",
    "df=pd.read_html(html)"
   ]
  },
  {
   "cell_type": "code",
   "execution_count": null,
   "id": "29aaafcb",
   "metadata": {},
   "outputs": [],
   "source": []
  },
  {
   "cell_type": "code",
   "execution_count": null,
   "id": "5869bded",
   "metadata": {},
   "outputs": [],
   "source": []
  },
  {
   "cell_type": "code",
   "execution_count": null,
   "id": "644dc93b",
   "metadata": {},
   "outputs": [],
   "source": []
  },
  {
   "cell_type": "code",
   "execution_count": null,
   "id": "a5c6faac",
   "metadata": {},
   "outputs": [],
   "source": []
  },
  {
   "cell_type": "code",
   "execution_count": null,
   "id": "8eeabaee",
   "metadata": {},
   "outputs": [],
   "source": []
  },
  {
   "cell_type": "code",
   "execution_count": null,
   "id": "e4aed7c4",
   "metadata": {},
   "outputs": [],
   "source": []
  },
  {
   "cell_type": "markdown",
   "id": "fc7a3586",
   "metadata": {},
   "source": [
    "7. Write a program to scrape all the available details of best gaming laptops from digit.in."
   ]
  },
  {
   "cell_type": "code",
   "execution_count": 8,
   "id": "236457ad",
   "metadata": {},
   "outputs": [],
   "source": [
    "#Importing libraries\n",
    "import selenium\n",
    "import pandas as pd\n",
    "import time\n",
    "\n",
    "import warnings\n",
    "warnings.filterwarnings(\"ignore\")\n",
    "\n",
    "#importing selenium webdriver\n",
    "from selenium import webdriver\n",
    "\n",
    "#importing required exceptions which needs to be handled\n",
    "from selenium.common.exceptions import StaleElementReferenceException\n",
    "from selenium.webdriver.support.ui import WebDriverWait\n",
    "from selenium.webdriver.support import expected_conditions as EC\n",
    "from selenium.webdriver.common.by import By\n",
    "\n",
    "#importing requests\n",
    "import requests\n",
    "\n",
    "#importing regex\n",
    "import re\n"
   ]
  },
  {
   "cell_type": "code",
   "execution_count": null,
   "id": "aff6fea0",
   "metadata": {},
   "outputs": [],
   "source": []
  },
  {
   "cell_type": "markdown",
   "id": "e2fe6c49",
   "metadata": {},
   "source": [
    "7. Write a program to scrape all the available details of best gaming laptops from digit.in."
   ]
  },
  {
   "cell_type": "code",
   "execution_count": 21,
   "id": "1b19bdeb",
   "metadata": {},
   "outputs": [
    {
     "data": {
      "text/plain": [
       "['ASUS VivoBook 15 (2020) Intel Core i3-1005G1 10th Gen 15.6 inches FHD Thin and Light Business Laptop (8GB/512GB SSD + 32GB Optane Memory/Office 2019/Windows 10/Silver/1.8 Kg), X515JA-EJ362TS\\n42450\\nBUY NOW',\n",
       " 'Lenovo IdeaPad Gaming 3 Intel Core i5 10th Gen |39.62 cm (15.6\") Full HD IPS Gaming Laptop (8GB/1TB HDD/Windows 10/NVIDIA GTX 1650 4GB GDDR6 Graphics/Onyx Black/2.2Kg), 81Y40183IN\\n58990\\nBUY NOW',\n",
       " 'HP Chromebook x360 Intel Celeron N4020 Processor 12 inches Touchscreen Laptop, 4GB/64GB eMMC Storage/Chrome OS/1.35kg (Natural Silver), 12b-ca0010TU\\n37990\\nBUY NOW',\n",
       " 'HP 15s eq0024au 15.6-inch Laptop (3rd Gen Ryzen 5 3500U/8GB/512GB SSD/Windows 10/MS Office 2019/Radeon Vega 8 Graphics), Natural Silver\\n51000\\nBUY NOW',\n",
       " 'Lenovo Ideapad S145 AMD Ryzen 3 3200U 15.6 inch (39.62 cms) Full HD Thin and Light Laptop (4GB/1TB HDD/Windows 10/Platinum Grey/1.85Kg), 81UT00KWIN\\n31990\\nBUY NOW',\n",
       " 'Dell XPS 7590 15.6-inch FHD Laptop (9th Gen Core i7-9750H/16GB/512GB SSD/Windows 10 + MS Office/4GB Nvidia Graphics), Abyss Grey\\n145000\\nBUY NOW',\n",
       " 'HP Pavilion AMD Ryzen 5-4600H, 15.6 inches 144 Hz FHD Screen Gaming Laptop (8 GB RAM, 4 GB NVIDIA 1650ti Graphics, 1TB HDD + 256 GB SSD, Win 10 Home with Advanced Thermal Management, 1.98Kg)\\n68480\\nBUY NOW',\n",
       " 'Lenovo ThinkPad E14 Intel Core i5 10th Gen 14 inches Full HD Business Laptop (8GB RAM/ 1TB HDD + 128GB SSD/ Windows 10 Home/ Microsoft Office Home & Student 2019/ Black/ 1.69 kg), 20RAS0KY00\\n67237\\nBUY NOW',\n",
       " 'Acer Aspire 3 A315-23 15.6 inches Laptop (AMD Ryzen 5-3500U/8GB/512GB SSD/Windows 10, Home, 64Bit/AMD Radeon Vega 8 Mobile Graphics), Silver, 1.9Kg\\n46400\\nBUY NOW',\n",
       " 'HP 10th Gen Intel Core i3 15.6 inches Business Laptop (i3-1005G1/4GB/512GB SSD/Windows 10 Home/MS Office/Natural Silver/1.77kg), 15s fr1004tu\\n53000\\nBUY NOW',\n",
       " 'Lenovo ThinkPad E14 Intel Core i3 10th Gen 14\" (35.56cms) Full HD Thin and Light Laptop (4GB RAM/ 256GB SSD/ Windows 10 Home/ Black/ 1.69 kg), 20RAS1GP00\\n52990\\nBUY NOW',\n",
       " 'ASUS ROG Zephyrus G14, 14\" FHD 120Hz, Ryzen 5 4600HS, GTX 1650 4GB Graphics, Gaming Laptop (8GB/512GB SSD/Office/Windows 10/Gray/Without Anime Matrix/1.6 Kg), GA401IH-HE012TS + Xbox Game Pass for PC\\n97500\\nBUY NOW',\n",
       " 'Lenovo Ideapad Slim 3 10th Gen Intel Core i3 15.6 inches Full HD Thin and Light Business Laptop (8GB/1TB HDD/Windows 10/Platinum Grey/1.85Kg), 81WE00Q5IN\\n39660\\nBUY NOW',\n",
       " 'Life Digital Laptop 15.6-inch (39.62 cms) (Intel Core i7, 4GB RAM, 256GB SSD, Windows 10), ZED AIR CX7\\n32990\\nBUY NOW',\n",
       " 'Dell Inspiron 3505 15.6 inch(39.6 cm) FHD Display Laptop (R5-3450U / 8GB / 256GB SSD / Vega 8 Graphics / Win10 + MSO / Accent Black) D560485WIN9BE\\n46675\\nBUY NOW']"
      ]
     },
     "execution_count": 21,
     "metadata": {},
     "output_type": "execute_result"
    }
   ],
   "source": [
    "#extracting path of the webdriver\n",
    "driver=webdriver.Chrome(r'C:/Users/Dell/Downloads/chromedriver_win32 (1)/chromedriver.exe')\n",
    "time.sleep(4)\n",
    "\n",
    "#accessing the web page\n",
    "url7='https://www.digit.in/'\n",
    "driver.get(url7)\n",
    "time.sleep(5)\n",
    "\n",
    "#going to the specific page for deals only\n",
    "hot_deals=driver.find_element_by_xpath('/html/body/div[1]/div/div[4]/ul/li[9]/a')\n",
    "hot_deals.click()\n",
    "time.sleep(5)\n",
    "\n",
    "#inspecting the dropdown and clicking on it to find laptop deals specifically\n",
    "dropdown=driver.find_element_by_xpath('/html/body/div[6]/div/div[1]/div[2]/div[2]/div[1]/div/a')\n",
    "dropdown.click()\n",
    "time.sleep(5)\n",
    "\n",
    "#selecting laptop deals from the dropdown\n",
    "choosing_laptop=driver.find_element_by_xpath('/html/body/div[6]/div/div[1]/div[2]/div[2]/div[1]/div/div/a[3]')\n",
    "choosing_laptop.click()\n",
    "time.sleep(3)\n",
    "\n",
    "#inspecting web element\n",
    "deals=driver.find_elements_by_class_name('hotdeal-block')\n",
    "time.sleep(2)\n",
    "\n",
    "#Scraping all the deal information by creating this loop\n",
    "laptop_deals=[]\n",
    "\n",
    "for i in deals:\n",
    "    laptop_deals.append(i.text)\n",
    "\n",
    "#printing the scraped data\n",
    "laptop_deals"
   ]
  },
  {
   "cell_type": "code",
   "execution_count": 22,
   "id": "8295a78f",
   "metadata": {},
   "outputs": [],
   "source": [
    "#closing chrome\n",
    "driver.quit()"
   ]
  },
  {
   "cell_type": "markdown",
   "id": "4e09a9af",
   "metadata": {},
   "source": [
    "8. Write a python program to scrape the details for all billionaires from www.forbes.com. Details to be scrapped: “Rank”, “Name”, “Net worth”, “Age”, “Citizenship”, “Source”, “Industry”."
   ]
  },
  {
   "cell_type": "code",
   "execution_count": 45,
   "id": "1b4b5e2e",
   "metadata": {},
   "outputs": [],
   "source": [
    "#using selem=nium for question 8 so not repeating the import processes\n",
    "\n",
    "#extracting path of the webdriver\n",
    "driver=webdriver.Chrome(r'C:/Users/Dell/Downloads/chromedriver_win32 (1)/chromedriver.exe')\n",
    "time.sleep(3)\n",
    "\n",
    "url8='https://www.forbes.com/'\n",
    "driver.get(url8)"
   ]
  },
  {
   "cell_type": "code",
   "execution_count": null,
   "id": "99f1316f",
   "metadata": {},
   "outputs": [],
   "source": []
  },
  {
   "cell_type": "code",
   "execution_count": 47,
   "id": "84629fe3",
   "metadata": {},
   "outputs": [],
   "source": [
    "#cookie popup: accepting all cookies by inspecting and clicking\n",
    "accept_cookies=driver.find_element_by_xpath('/html/body/div[4]/div/div[2]/div[3]/div[2]/button[1]')\n",
    "accept_cookies.click()\n"
   ]
  },
  {
   "cell_type": "code",
   "execution_count": null,
   "id": "6241238f",
   "metadata": {},
   "outputs": [],
   "source": []
  },
  {
   "cell_type": "code",
   "execution_count": null,
   "id": "b6fe82cd",
   "metadata": {},
   "outputs": [],
   "source": []
  },
  {
   "cell_type": "code",
   "execution_count": 48,
   "id": "36cfe562",
   "metadata": {},
   "outputs": [],
   "source": [
    "#selecting billionaires list from the dropdown options\n",
    "options=driver.find_element_by_xpath('/html/body/div[1]/header/nav/div[1]/button[1]')\n",
    "options.click()"
   ]
  },
  {
   "cell_type": "code",
   "execution_count": null,
   "id": "c4bf12b4",
   "metadata": {},
   "outputs": [],
   "source": []
  },
  {
   "cell_type": "code",
   "execution_count": null,
   "id": "1a30d16a",
   "metadata": {},
   "outputs": [],
   "source": []
  },
  {
   "cell_type": "code",
   "execution_count": 54,
   "id": "325740bf",
   "metadata": {},
   "outputs": [],
   "source": [
    "#selecting all billionaires\n",
    "all_bill=driver.find_element_by_class_name('header__section--all')\n"
   ]
  },
  {
   "cell_type": "code",
   "execution_count": null,
   "id": "aa556c99",
   "metadata": {},
   "outputs": [],
   "source": []
  },
  {
   "cell_type": "code",
   "execution_count": null,
   "id": "469df722",
   "metadata": {},
   "outputs": [],
   "source": []
  },
  {
   "cell_type": "code",
   "execution_count": null,
   "id": "3e676c84",
   "metadata": {},
   "outputs": [],
   "source": []
  },
  {
   "cell_type": "code",
   "execution_count": null,
   "id": "dbc9ca34",
   "metadata": {},
   "outputs": [],
   "source": []
  },
  {
   "cell_type": "code",
   "execution_count": null,
   "id": "056845f9",
   "metadata": {},
   "outputs": [],
   "source": []
  },
  {
   "cell_type": "code",
   "execution_count": 55,
   "id": "92b90d3d",
   "metadata": {},
   "outputs": [
    {
     "ename": "ElementNotInteractableException",
     "evalue": "Message: element not interactable\n  (Session info: chrome=99.0.4844.84)\nStacktrace:\nBacktrace:\n\tOrdinal0 [0x00689943+2595139]\n\tOrdinal0 [0x0061C9F1+2148849]\n\tOrdinal0 [0x005143F0+1065968]\n\tOrdinal0 [0x00541F17+1253143]\n\tOrdinal0 [0x00537AB3+1211059]\n\tOrdinal0 [0x0055B9EC+1358316]\n\tOrdinal0 [0x00537474+1209460]\n\tOrdinal0 [0x0055BC04+1358852]\n\tOrdinal0 [0x0056BAF2+1424114]\n\tOrdinal0 [0x0055B806+1357830]\n\tOrdinal0 [0x00536086+1204358]\n\tOrdinal0 [0x00536F96+1208214]\n\tGetHandleVerifier [0x0082B232+1658114]\n\tGetHandleVerifier [0x008E312C+2411516]\n\tGetHandleVerifier [0x0071F261+560433]\n\tGetHandleVerifier [0x0071E366+556598]\n\tOrdinal0 [0x0062286B+2173035]\n\tOrdinal0 [0x006275F8+2192888]\n\tOrdinal0 [0x006276E5+2193125]\n\tOrdinal0 [0x006311FC+2232828]\n\tBaseThreadInitThunk [0x753CFA29+25]\n\tRtlGetAppContainerNamedObjectPath [0x77207A7E+286]\n\tRtlGetAppContainerNamedObjectPath [0x77207A4E+238]\n",
     "output_type": "error",
     "traceback": [
      "\u001b[1;31m---------------------------------------------------------------------------\u001b[0m",
      "\u001b[1;31mElementNotInteractableException\u001b[0m           Traceback (most recent call last)",
      "\u001b[1;32m<ipython-input-55-90a8d338750e>\u001b[0m in \u001b[0;36m<module>\u001b[1;34m\u001b[0m\n\u001b[1;32m----> 1\u001b[1;33m \u001b[0mall_bill\u001b[0m\u001b[1;33m.\u001b[0m\u001b[0mclick\u001b[0m\u001b[1;33m(\u001b[0m\u001b[1;33m)\u001b[0m\u001b[1;33m\u001b[0m\u001b[1;33m\u001b[0m\u001b[0m\n\u001b[0m",
      "\u001b[1;32m~\\anaconda3\\lib\\site-packages\\selenium\\webdriver\\remote\\webelement.py\u001b[0m in \u001b[0;36mclick\u001b[1;34m(self)\u001b[0m\n\u001b[0;32m     79\u001b[0m     \u001b[1;32mdef\u001b[0m \u001b[0mclick\u001b[0m\u001b[1;33m(\u001b[0m\u001b[0mself\u001b[0m\u001b[1;33m)\u001b[0m \u001b[1;33m->\u001b[0m \u001b[1;32mNone\u001b[0m\u001b[1;33m:\u001b[0m\u001b[1;33m\u001b[0m\u001b[1;33m\u001b[0m\u001b[0m\n\u001b[0;32m     80\u001b[0m         \u001b[1;34m\"\"\"Clicks the element.\"\"\"\u001b[0m\u001b[1;33m\u001b[0m\u001b[1;33m\u001b[0m\u001b[0m\n\u001b[1;32m---> 81\u001b[1;33m         \u001b[0mself\u001b[0m\u001b[1;33m.\u001b[0m\u001b[0m_execute\u001b[0m\u001b[1;33m(\u001b[0m\u001b[0mCommand\u001b[0m\u001b[1;33m.\u001b[0m\u001b[0mCLICK_ELEMENT\u001b[0m\u001b[1;33m)\u001b[0m\u001b[1;33m\u001b[0m\u001b[1;33m\u001b[0m\u001b[0m\n\u001b[0m\u001b[0;32m     82\u001b[0m \u001b[1;33m\u001b[0m\u001b[0m\n\u001b[0;32m     83\u001b[0m     \u001b[1;32mdef\u001b[0m \u001b[0msubmit\u001b[0m\u001b[1;33m(\u001b[0m\u001b[0mself\u001b[0m\u001b[1;33m)\u001b[0m\u001b[1;33m:\u001b[0m\u001b[1;33m\u001b[0m\u001b[1;33m\u001b[0m\u001b[0m\n",
      "\u001b[1;32m~\\anaconda3\\lib\\site-packages\\selenium\\webdriver\\remote\\webelement.py\u001b[0m in \u001b[0;36m_execute\u001b[1;34m(self, command, params)\u001b[0m\n\u001b[0;32m    708\u001b[0m             \u001b[0mparams\u001b[0m \u001b[1;33m=\u001b[0m \u001b[1;33m{\u001b[0m\u001b[1;33m}\u001b[0m\u001b[1;33m\u001b[0m\u001b[1;33m\u001b[0m\u001b[0m\n\u001b[0;32m    709\u001b[0m         \u001b[0mparams\u001b[0m\u001b[1;33m[\u001b[0m\u001b[1;34m'id'\u001b[0m\u001b[1;33m]\u001b[0m \u001b[1;33m=\u001b[0m \u001b[0mself\u001b[0m\u001b[1;33m.\u001b[0m\u001b[0m_id\u001b[0m\u001b[1;33m\u001b[0m\u001b[1;33m\u001b[0m\u001b[0m\n\u001b[1;32m--> 710\u001b[1;33m         \u001b[1;32mreturn\u001b[0m \u001b[0mself\u001b[0m\u001b[1;33m.\u001b[0m\u001b[0m_parent\u001b[0m\u001b[1;33m.\u001b[0m\u001b[0mexecute\u001b[0m\u001b[1;33m(\u001b[0m\u001b[0mcommand\u001b[0m\u001b[1;33m,\u001b[0m \u001b[0mparams\u001b[0m\u001b[1;33m)\u001b[0m\u001b[1;33m\u001b[0m\u001b[1;33m\u001b[0m\u001b[0m\n\u001b[0m\u001b[0;32m    711\u001b[0m \u001b[1;33m\u001b[0m\u001b[0m\n\u001b[0;32m    712\u001b[0m     \u001b[1;32mdef\u001b[0m \u001b[0mfind_element\u001b[0m\u001b[1;33m(\u001b[0m\u001b[0mself\u001b[0m\u001b[1;33m,\u001b[0m \u001b[0mby\u001b[0m\u001b[1;33m=\u001b[0m\u001b[0mBy\u001b[0m\u001b[1;33m.\u001b[0m\u001b[0mID\u001b[0m\u001b[1;33m,\u001b[0m \u001b[0mvalue\u001b[0m\u001b[1;33m=\u001b[0m\u001b[1;32mNone\u001b[0m\u001b[1;33m)\u001b[0m\u001b[1;33m:\u001b[0m\u001b[1;33m\u001b[0m\u001b[1;33m\u001b[0m\u001b[0m\n",
      "\u001b[1;32m~\\anaconda3\\lib\\site-packages\\selenium\\webdriver\\remote\\webdriver.py\u001b[0m in \u001b[0;36mexecute\u001b[1;34m(self, driver_command, params)\u001b[0m\n\u001b[0;32m    423\u001b[0m         \u001b[0mresponse\u001b[0m \u001b[1;33m=\u001b[0m \u001b[0mself\u001b[0m\u001b[1;33m.\u001b[0m\u001b[0mcommand_executor\u001b[0m\u001b[1;33m.\u001b[0m\u001b[0mexecute\u001b[0m\u001b[1;33m(\u001b[0m\u001b[0mdriver_command\u001b[0m\u001b[1;33m,\u001b[0m \u001b[0mparams\u001b[0m\u001b[1;33m)\u001b[0m\u001b[1;33m\u001b[0m\u001b[1;33m\u001b[0m\u001b[0m\n\u001b[0;32m    424\u001b[0m         \u001b[1;32mif\u001b[0m \u001b[0mresponse\u001b[0m\u001b[1;33m:\u001b[0m\u001b[1;33m\u001b[0m\u001b[1;33m\u001b[0m\u001b[0m\n\u001b[1;32m--> 425\u001b[1;33m             \u001b[0mself\u001b[0m\u001b[1;33m.\u001b[0m\u001b[0merror_handler\u001b[0m\u001b[1;33m.\u001b[0m\u001b[0mcheck_response\u001b[0m\u001b[1;33m(\u001b[0m\u001b[0mresponse\u001b[0m\u001b[1;33m)\u001b[0m\u001b[1;33m\u001b[0m\u001b[1;33m\u001b[0m\u001b[0m\n\u001b[0m\u001b[0;32m    426\u001b[0m             response['value'] = self._unwrap_value(\n\u001b[0;32m    427\u001b[0m                 response.get('value', None))\n",
      "\u001b[1;32m~\\anaconda3\\lib\\site-packages\\selenium\\webdriver\\remote\\errorhandler.py\u001b[0m in \u001b[0;36mcheck_response\u001b[1;34m(self, response)\u001b[0m\n\u001b[0;32m    245\u001b[0m                 \u001b[0malert_text\u001b[0m \u001b[1;33m=\u001b[0m \u001b[0mvalue\u001b[0m\u001b[1;33m[\u001b[0m\u001b[1;34m'alert'\u001b[0m\u001b[1;33m]\u001b[0m\u001b[1;33m.\u001b[0m\u001b[0mget\u001b[0m\u001b[1;33m(\u001b[0m\u001b[1;34m'text'\u001b[0m\u001b[1;33m)\u001b[0m\u001b[1;33m\u001b[0m\u001b[1;33m\u001b[0m\u001b[0m\n\u001b[0;32m    246\u001b[0m             \u001b[1;32mraise\u001b[0m \u001b[0mexception_class\u001b[0m\u001b[1;33m(\u001b[0m\u001b[0mmessage\u001b[0m\u001b[1;33m,\u001b[0m \u001b[0mscreen\u001b[0m\u001b[1;33m,\u001b[0m \u001b[0mstacktrace\u001b[0m\u001b[1;33m,\u001b[0m \u001b[0malert_text\u001b[0m\u001b[1;33m)\u001b[0m  \u001b[1;31m# type: ignore[call-arg]  # mypy is not smart enough here\u001b[0m\u001b[1;33m\u001b[0m\u001b[1;33m\u001b[0m\u001b[0m\n\u001b[1;32m--> 247\u001b[1;33m         \u001b[1;32mraise\u001b[0m \u001b[0mexception_class\u001b[0m\u001b[1;33m(\u001b[0m\u001b[0mmessage\u001b[0m\u001b[1;33m,\u001b[0m \u001b[0mscreen\u001b[0m\u001b[1;33m,\u001b[0m \u001b[0mstacktrace\u001b[0m\u001b[1;33m)\u001b[0m\u001b[1;33m\u001b[0m\u001b[1;33m\u001b[0m\u001b[0m\n\u001b[0m\u001b[0;32m    248\u001b[0m \u001b[1;33m\u001b[0m\u001b[0m\n\u001b[0;32m    249\u001b[0m     \u001b[1;32mdef\u001b[0m \u001b[0m_value_or_default\u001b[0m\u001b[1;33m(\u001b[0m\u001b[0mself\u001b[0m\u001b[1;33m,\u001b[0m \u001b[0mobj\u001b[0m\u001b[1;33m:\u001b[0m \u001b[0mMapping\u001b[0m\u001b[1;33m[\u001b[0m\u001b[0m_KT\u001b[0m\u001b[1;33m,\u001b[0m \u001b[0m_VT\u001b[0m\u001b[1;33m]\u001b[0m\u001b[1;33m,\u001b[0m \u001b[0mkey\u001b[0m\u001b[1;33m:\u001b[0m \u001b[0m_KT\u001b[0m\u001b[1;33m,\u001b[0m \u001b[0mdefault\u001b[0m\u001b[1;33m:\u001b[0m \u001b[0m_VT\u001b[0m\u001b[1;33m)\u001b[0m \u001b[1;33m->\u001b[0m \u001b[0m_VT\u001b[0m\u001b[1;33m:\u001b[0m\u001b[1;33m\u001b[0m\u001b[1;33m\u001b[0m\u001b[0m\n",
      "\u001b[1;31mElementNotInteractableException\u001b[0m: Message: element not interactable\n  (Session info: chrome=99.0.4844.84)\nStacktrace:\nBacktrace:\n\tOrdinal0 [0x00689943+2595139]\n\tOrdinal0 [0x0061C9F1+2148849]\n\tOrdinal0 [0x005143F0+1065968]\n\tOrdinal0 [0x00541F17+1253143]\n\tOrdinal0 [0x00537AB3+1211059]\n\tOrdinal0 [0x0055B9EC+1358316]\n\tOrdinal0 [0x00537474+1209460]\n\tOrdinal0 [0x0055BC04+1358852]\n\tOrdinal0 [0x0056BAF2+1424114]\n\tOrdinal0 [0x0055B806+1357830]\n\tOrdinal0 [0x00536086+1204358]\n\tOrdinal0 [0x00536F96+1208214]\n\tGetHandleVerifier [0x0082B232+1658114]\n\tGetHandleVerifier [0x008E312C+2411516]\n\tGetHandleVerifier [0x0071F261+560433]\n\tGetHandleVerifier [0x0071E366+556598]\n\tOrdinal0 [0x0062286B+2173035]\n\tOrdinal0 [0x006275F8+2192888]\n\tOrdinal0 [0x006276E5+2193125]\n\tOrdinal0 [0x006311FC+2232828]\n\tBaseThreadInitThunk [0x753CFA29+25]\n\tRtlGetAppContainerNamedObjectPath [0x77207A7E+286]\n\tRtlGetAppContainerNamedObjectPath [0x77207A4E+238]\n"
     ]
    }
   ],
   "source": [
    "all_bill.click()"
   ]
  },
  {
   "cell_type": "markdown",
   "id": "b29f2aa2",
   "metadata": {},
   "source": [
    "9. Write a program to extract at least 500 Comments, Comment upvote and time when comment was posted from any YouTube Video."
   ]
  },
  {
   "cell_type": "code",
   "execution_count": 94,
   "id": "acd11be7",
   "metadata": {
    "collapsed": true
   },
   "outputs": [
    {
     "ename": "ElementNotInteractableException",
     "evalue": "Message: element not interactable\n  (Session info: chrome=99.0.4844.84)\nStacktrace:\nBacktrace:\n\tOrdinal0 [0x00689943+2595139]\n\tOrdinal0 [0x0061C9F1+2148849]\n\tOrdinal0 [0x005143F0+1065968]\n\tOrdinal0 [0x0053C4D3+1230035]\n\tOrdinal0 [0x0053BB8B+1227659]\n\tOrdinal0 [0x0055B9EC+1358316]\n\tOrdinal0 [0x00537474+1209460]\n\tOrdinal0 [0x0055BC04+1358852]\n\tOrdinal0 [0x0056BAF2+1424114]\n\tOrdinal0 [0x0055B806+1357830]\n\tOrdinal0 [0x00536086+1204358]\n\tOrdinal0 [0x00536F96+1208214]\n\tGetHandleVerifier [0x0082B232+1658114]\n\tGetHandleVerifier [0x008E312C+2411516]\n\tGetHandleVerifier [0x0071F261+560433]\n\tGetHandleVerifier [0x0071E366+556598]\n\tOrdinal0 [0x0062286B+2173035]\n\tOrdinal0 [0x006275F8+2192888]\n\tOrdinal0 [0x006276E5+2193125]\n\tOrdinal0 [0x006311FC+2232828]\n\tBaseThreadInitThunk [0x753CFA29+25]\n\tRtlGetAppContainerNamedObjectPath [0x77207A7E+286]\n\tRtlGetAppContainerNamedObjectPath [0x77207A4E+238]\n",
     "output_type": "error",
     "traceback": [
      "\u001b[1;31m---------------------------------------------------------------------------\u001b[0m",
      "\u001b[1;31mElementNotInteractableException\u001b[0m           Traceback (most recent call last)",
      "\u001b[1;32m<ipython-input-94-3e4458440ca1>\u001b[0m in \u001b[0;36m<module>\u001b[1;34m\u001b[0m\n\u001b[0;32m     10\u001b[0m \u001b[1;31m#inspecting search field\u001b[0m\u001b[1;33m\u001b[0m\u001b[1;33m\u001b[0m\u001b[1;33m\u001b[0m\u001b[0m\n\u001b[0;32m     11\u001b[0m \u001b[0msearch_field\u001b[0m\u001b[1;33m=\u001b[0m\u001b[0mdriver\u001b[0m\u001b[1;33m.\u001b[0m\u001b[0mfind_element_by_xpath\u001b[0m\u001b[1;33m(\u001b[0m\u001b[1;34m'/html/body/ytd-app/div[1]/div/ytd-masthead/div[3]/div[2]/ytd-searchbox/form/div[1]/div[1]/input'\u001b[0m\u001b[1;33m)\u001b[0m\u001b[1;33m\u001b[0m\u001b[1;33m\u001b[0m\u001b[0m\n\u001b[1;32m---> 12\u001b[1;33m \u001b[0msearch_field\u001b[0m\u001b[1;33m.\u001b[0m\u001b[0msend_keys\u001b[0m\u001b[1;33m(\u001b[0m\u001b[1;34m'Batman Trailer'\u001b[0m\u001b[1;33m)\u001b[0m\u001b[1;33m\u001b[0m\u001b[1;33m\u001b[0m\u001b[0m\n\u001b[0m\u001b[0;32m     13\u001b[0m \u001b[1;33m\u001b[0m\u001b[0m\n\u001b[0;32m     14\u001b[0m \u001b[1;31m#clicking search button\u001b[0m\u001b[1;33m\u001b[0m\u001b[1;33m\u001b[0m\u001b[1;33m\u001b[0m\u001b[0m\n",
      "\u001b[1;32m~\\anaconda3\\lib\\site-packages\\selenium\\webdriver\\remote\\webelement.py\u001b[0m in \u001b[0;36msend_keys\u001b[1;34m(self, *value)\u001b[0m\n\u001b[0;32m    538\u001b[0m                 \u001b[0mvalue\u001b[0m \u001b[1;33m=\u001b[0m \u001b[1;34m'\\n'\u001b[0m\u001b[1;33m.\u001b[0m\u001b[0mjoin\u001b[0m\u001b[1;33m(\u001b[0m\u001b[0mremote_files\u001b[0m\u001b[1;33m)\u001b[0m\u001b[1;33m\u001b[0m\u001b[1;33m\u001b[0m\u001b[0m\n\u001b[0;32m    539\u001b[0m \u001b[1;33m\u001b[0m\u001b[0m\n\u001b[1;32m--> 540\u001b[1;33m         self._execute(Command.SEND_KEYS_TO_ELEMENT,\n\u001b[0m\u001b[0;32m    541\u001b[0m                       {'text': \"\".join(keys_to_typing(value)),\n\u001b[0;32m    542\u001b[0m                        'value': keys_to_typing(value)})\n",
      "\u001b[1;32m~\\anaconda3\\lib\\site-packages\\selenium\\webdriver\\remote\\webelement.py\u001b[0m in \u001b[0;36m_execute\u001b[1;34m(self, command, params)\u001b[0m\n\u001b[0;32m    708\u001b[0m             \u001b[0mparams\u001b[0m \u001b[1;33m=\u001b[0m \u001b[1;33m{\u001b[0m\u001b[1;33m}\u001b[0m\u001b[1;33m\u001b[0m\u001b[1;33m\u001b[0m\u001b[0m\n\u001b[0;32m    709\u001b[0m         \u001b[0mparams\u001b[0m\u001b[1;33m[\u001b[0m\u001b[1;34m'id'\u001b[0m\u001b[1;33m]\u001b[0m \u001b[1;33m=\u001b[0m \u001b[0mself\u001b[0m\u001b[1;33m.\u001b[0m\u001b[0m_id\u001b[0m\u001b[1;33m\u001b[0m\u001b[1;33m\u001b[0m\u001b[0m\n\u001b[1;32m--> 710\u001b[1;33m         \u001b[1;32mreturn\u001b[0m \u001b[0mself\u001b[0m\u001b[1;33m.\u001b[0m\u001b[0m_parent\u001b[0m\u001b[1;33m.\u001b[0m\u001b[0mexecute\u001b[0m\u001b[1;33m(\u001b[0m\u001b[0mcommand\u001b[0m\u001b[1;33m,\u001b[0m \u001b[0mparams\u001b[0m\u001b[1;33m)\u001b[0m\u001b[1;33m\u001b[0m\u001b[1;33m\u001b[0m\u001b[0m\n\u001b[0m\u001b[0;32m    711\u001b[0m \u001b[1;33m\u001b[0m\u001b[0m\n\u001b[0;32m    712\u001b[0m     \u001b[1;32mdef\u001b[0m \u001b[0mfind_element\u001b[0m\u001b[1;33m(\u001b[0m\u001b[0mself\u001b[0m\u001b[1;33m,\u001b[0m \u001b[0mby\u001b[0m\u001b[1;33m=\u001b[0m\u001b[0mBy\u001b[0m\u001b[1;33m.\u001b[0m\u001b[0mID\u001b[0m\u001b[1;33m,\u001b[0m \u001b[0mvalue\u001b[0m\u001b[1;33m=\u001b[0m\u001b[1;32mNone\u001b[0m\u001b[1;33m)\u001b[0m\u001b[1;33m:\u001b[0m\u001b[1;33m\u001b[0m\u001b[1;33m\u001b[0m\u001b[0m\n",
      "\u001b[1;32m~\\anaconda3\\lib\\site-packages\\selenium\\webdriver\\remote\\webdriver.py\u001b[0m in \u001b[0;36mexecute\u001b[1;34m(self, driver_command, params)\u001b[0m\n\u001b[0;32m    423\u001b[0m         \u001b[0mresponse\u001b[0m \u001b[1;33m=\u001b[0m \u001b[0mself\u001b[0m\u001b[1;33m.\u001b[0m\u001b[0mcommand_executor\u001b[0m\u001b[1;33m.\u001b[0m\u001b[0mexecute\u001b[0m\u001b[1;33m(\u001b[0m\u001b[0mdriver_command\u001b[0m\u001b[1;33m,\u001b[0m \u001b[0mparams\u001b[0m\u001b[1;33m)\u001b[0m\u001b[1;33m\u001b[0m\u001b[1;33m\u001b[0m\u001b[0m\n\u001b[0;32m    424\u001b[0m         \u001b[1;32mif\u001b[0m \u001b[0mresponse\u001b[0m\u001b[1;33m:\u001b[0m\u001b[1;33m\u001b[0m\u001b[1;33m\u001b[0m\u001b[0m\n\u001b[1;32m--> 425\u001b[1;33m             \u001b[0mself\u001b[0m\u001b[1;33m.\u001b[0m\u001b[0merror_handler\u001b[0m\u001b[1;33m.\u001b[0m\u001b[0mcheck_response\u001b[0m\u001b[1;33m(\u001b[0m\u001b[0mresponse\u001b[0m\u001b[1;33m)\u001b[0m\u001b[1;33m\u001b[0m\u001b[1;33m\u001b[0m\u001b[0m\n\u001b[0m\u001b[0;32m    426\u001b[0m             response['value'] = self._unwrap_value(\n\u001b[0;32m    427\u001b[0m                 response.get('value', None))\n",
      "\u001b[1;32m~\\anaconda3\\lib\\site-packages\\selenium\\webdriver\\remote\\errorhandler.py\u001b[0m in \u001b[0;36mcheck_response\u001b[1;34m(self, response)\u001b[0m\n\u001b[0;32m    245\u001b[0m                 \u001b[0malert_text\u001b[0m \u001b[1;33m=\u001b[0m \u001b[0mvalue\u001b[0m\u001b[1;33m[\u001b[0m\u001b[1;34m'alert'\u001b[0m\u001b[1;33m]\u001b[0m\u001b[1;33m.\u001b[0m\u001b[0mget\u001b[0m\u001b[1;33m(\u001b[0m\u001b[1;34m'text'\u001b[0m\u001b[1;33m)\u001b[0m\u001b[1;33m\u001b[0m\u001b[1;33m\u001b[0m\u001b[0m\n\u001b[0;32m    246\u001b[0m             \u001b[1;32mraise\u001b[0m \u001b[0mexception_class\u001b[0m\u001b[1;33m(\u001b[0m\u001b[0mmessage\u001b[0m\u001b[1;33m,\u001b[0m \u001b[0mscreen\u001b[0m\u001b[1;33m,\u001b[0m \u001b[0mstacktrace\u001b[0m\u001b[1;33m,\u001b[0m \u001b[0malert_text\u001b[0m\u001b[1;33m)\u001b[0m  \u001b[1;31m# type: ignore[call-arg]  # mypy is not smart enough here\u001b[0m\u001b[1;33m\u001b[0m\u001b[1;33m\u001b[0m\u001b[0m\n\u001b[1;32m--> 247\u001b[1;33m         \u001b[1;32mraise\u001b[0m \u001b[0mexception_class\u001b[0m\u001b[1;33m(\u001b[0m\u001b[0mmessage\u001b[0m\u001b[1;33m,\u001b[0m \u001b[0mscreen\u001b[0m\u001b[1;33m,\u001b[0m \u001b[0mstacktrace\u001b[0m\u001b[1;33m)\u001b[0m\u001b[1;33m\u001b[0m\u001b[1;33m\u001b[0m\u001b[0m\n\u001b[0m\u001b[0;32m    248\u001b[0m \u001b[1;33m\u001b[0m\u001b[0m\n\u001b[0;32m    249\u001b[0m     \u001b[1;32mdef\u001b[0m \u001b[0m_value_or_default\u001b[0m\u001b[1;33m(\u001b[0m\u001b[0mself\u001b[0m\u001b[1;33m,\u001b[0m \u001b[0mobj\u001b[0m\u001b[1;33m:\u001b[0m \u001b[0mMapping\u001b[0m\u001b[1;33m[\u001b[0m\u001b[0m_KT\u001b[0m\u001b[1;33m,\u001b[0m \u001b[0m_VT\u001b[0m\u001b[1;33m]\u001b[0m\u001b[1;33m,\u001b[0m \u001b[0mkey\u001b[0m\u001b[1;33m:\u001b[0m \u001b[0m_KT\u001b[0m\u001b[1;33m,\u001b[0m \u001b[0mdefault\u001b[0m\u001b[1;33m:\u001b[0m \u001b[0m_VT\u001b[0m\u001b[1;33m)\u001b[0m \u001b[1;33m->\u001b[0m \u001b[0m_VT\u001b[0m\u001b[1;33m:\u001b[0m\u001b[1;33m\u001b[0m\u001b[1;33m\u001b[0m\u001b[0m\n",
      "\u001b[1;31mElementNotInteractableException\u001b[0m: Message: element not interactable\n  (Session info: chrome=99.0.4844.84)\nStacktrace:\nBacktrace:\n\tOrdinal0 [0x00689943+2595139]\n\tOrdinal0 [0x0061C9F1+2148849]\n\tOrdinal0 [0x005143F0+1065968]\n\tOrdinal0 [0x0053C4D3+1230035]\n\tOrdinal0 [0x0053BB8B+1227659]\n\tOrdinal0 [0x0055B9EC+1358316]\n\tOrdinal0 [0x00537474+1209460]\n\tOrdinal0 [0x0055BC04+1358852]\n\tOrdinal0 [0x0056BAF2+1424114]\n\tOrdinal0 [0x0055B806+1357830]\n\tOrdinal0 [0x00536086+1204358]\n\tOrdinal0 [0x00536F96+1208214]\n\tGetHandleVerifier [0x0082B232+1658114]\n\tGetHandleVerifier [0x008E312C+2411516]\n\tGetHandleVerifier [0x0071F261+560433]\n\tGetHandleVerifier [0x0071E366+556598]\n\tOrdinal0 [0x0062286B+2173035]\n\tOrdinal0 [0x006275F8+2192888]\n\tOrdinal0 [0x006276E5+2193125]\n\tOrdinal0 [0x006311FC+2232828]\n\tBaseThreadInitThunk [0x753CFA29+25]\n\tRtlGetAppContainerNamedObjectPath [0x77207A7E+286]\n\tRtlGetAppContainerNamedObjectPath [0x77207A4E+238]\n"
     ]
    }
   ],
   "source": [
    "#extracting path of the webdriver\n",
    "driver=webdriver.Chrome(r'C:/Users/Dell/Downloads/chromedriver_win32 (1)/chromedriver.exe')\n",
    "\n",
    "#accessing the webpage\n",
    "url9='https://www.youtube.com/'\n",
    "driver.get(url9)\n",
    "\n",
    "time.sleep(4)\n",
    "\n",
    "#inspecting search field\n",
    "search_field=driver.find_element_by_xpath('/html/body/ytd-app/div[1]/div/ytd-masthead/div[3]/div[2]/ytd-searchbox/form/div[1]/div[1]/input')\n",
    "search_field.send_keys('Batman Trailer')\n",
    "\n",
    "#clicking search button\n",
    "search_btn=driver.find_element_by_xpath('/html/body/ytd-app/div[1]/div/ytd-masthead/div[3]/div[2]/ytd-searchbox/button')\n",
    "search_btn.click()\n",
    "\n",
    "#selecting the video\n",
    "video=driver.find_element_by_xpath('/html/body/ytd-app/div[1]/div/ytd-masthead/div[3]/div[2]/ytd-searchbox/form/div[1]/div[1]/input')\n",
    "video.click()\n",
    "\n",
    "#scrolling\n",
    "driver.execute_script(\"window.scrollBy(0,100000)\",\"\")\n",
    "time.sleep(3)\n",
    "driver.execute_script(\"window.scrollBy(0,100000)\",\"\")\n",
    "time.sleep(3)\n",
    "driver.execute_script(\"window.scrollBy(0,100000)\",\"\")\n",
    "time.sleep(3)\n",
    "driver.execute_script(\"window.scrollBy(0,100000)\",\"\")\n",
    "time.sleep(3)\n",
    "driver.execute_script(\"window.scrollBy(0,100000)\",\"\")\n",
    "time.sleep(3)\n",
    "driver.execute_script(\"window.scrollBy(0,100000)\",\"\")\n",
    "time.sleep(3)\n",
    "driver.execute_script(\"window.scrollBy(0,100000)\",\"\")\n",
    "time.sleep(3)\n",
    "driver.execute_script(\"window.scrollBy(0,100000)\",\"\")\n",
    "\n",
    "#accessing comments\n",
    "comment=driver.find_elements_by_id('content-text')\n",
    "\n",
    "#scraping comments\n",
    "comments=[]\n",
    "\n",
    "for i in comment:\n",
    "    comments.append(i.text)\n",
    "    \n",
    "comments"
   ]
  },
  {
   "cell_type": "code",
   "execution_count": null,
   "id": "1a2066f0",
   "metadata": {},
   "outputs": [],
   "source": []
  },
  {
   "cell_type": "code",
   "execution_count": null,
   "id": "55295344",
   "metadata": {},
   "outputs": [],
   "source": []
  },
  {
   "cell_type": "code",
   "execution_count": 95,
   "id": "0b784018",
   "metadata": {
    "collapsed": true
   },
   "outputs": [
    {
     "ename": "WebDriverException",
     "evalue": "Message: chrome not reachable\n  (Session info: chrome=99.0.4844.84)\nStacktrace:\nBacktrace:\n\tOrdinal0 [0x00689943+2595139]\n\tOrdinal0 [0x0061C9F1+2148849]\n\tOrdinal0 [0x005143F0+1065968]\n\tOrdinal0 [0x005087C2+1017794]\n\tOrdinal0 [0x00508FF8+1019896]\n\tOrdinal0 [0x0050A892+1026194]\n\tOrdinal0 [0x00504219+999961]\n\tOrdinal0 [0x00515860+1071200]\n\tOrdinal0 [0x0056B2D2+1422034]\n\tOrdinal0 [0x0055B806+1357830]\n\tOrdinal0 [0x00536086+1204358]\n\tOrdinal0 [0x00536F96+1208214]\n\tGetHandleVerifier [0x0082B232+1658114]\n\tGetHandleVerifier [0x008E312C+2411516]\n\tGetHandleVerifier [0x0071F261+560433]\n\tGetHandleVerifier [0x0071E366+556598]\n\tOrdinal0 [0x0062286B+2173035]\n\tOrdinal0 [0x006275F8+2192888]\n\tOrdinal0 [0x006276E5+2193125]\n\tOrdinal0 [0x006311FC+2232828]\n\tBaseThreadInitThunk [0x753CFA29+25]\n\tRtlGetAppContainerNamedObjectPath [0x77207A7E+286]\n\tRtlGetAppContainerNamedObjectPath [0x77207A4E+238]\n",
     "output_type": "error",
     "traceback": [
      "\u001b[1;31m---------------------------------------------------------------------------\u001b[0m",
      "\u001b[1;31mWebDriverException\u001b[0m                        Traceback (most recent call last)",
      "\u001b[1;32m<ipython-input-95-d367125b73db>\u001b[0m in \u001b[0;36m<module>\u001b[1;34m\u001b[0m\n\u001b[1;32m----> 1\u001b[1;33m \u001b[0mcomment_upvote\u001b[0m\u001b[1;33m=\u001b[0m\u001b[0mdriver\u001b[0m\u001b[1;33m.\u001b[0m\u001b[0mfind_elements_by_id\u001b[0m\u001b[1;33m(\u001b[0m\u001b[1;34m'vote-count-middle'\u001b[0m\u001b[1;33m)\u001b[0m\u001b[1;33m\u001b[0m\u001b[1;33m\u001b[0m\u001b[0m\n\u001b[0m",
      "\u001b[1;32m~\\anaconda3\\lib\\site-packages\\selenium\\webdriver\\remote\\webdriver.py\u001b[0m in \u001b[0;36mfind_elements_by_id\u001b[1;34m(self, id_)\u001b[0m\n\u001b[0;32m    494\u001b[0m             \u001b[0mstacklevel\u001b[0m\u001b[1;33m=\u001b[0m\u001b[1;36m2\u001b[0m\u001b[1;33m,\u001b[0m\u001b[1;33m\u001b[0m\u001b[1;33m\u001b[0m\u001b[0m\n\u001b[0;32m    495\u001b[0m         )\n\u001b[1;32m--> 496\u001b[1;33m         \u001b[1;32mreturn\u001b[0m \u001b[0mself\u001b[0m\u001b[1;33m.\u001b[0m\u001b[0mfind_elements\u001b[0m\u001b[1;33m(\u001b[0m\u001b[0mby\u001b[0m\u001b[1;33m=\u001b[0m\u001b[0mBy\u001b[0m\u001b[1;33m.\u001b[0m\u001b[0mID\u001b[0m\u001b[1;33m,\u001b[0m \u001b[0mvalue\u001b[0m\u001b[1;33m=\u001b[0m\u001b[0mid_\u001b[0m\u001b[1;33m)\u001b[0m\u001b[1;33m\u001b[0m\u001b[1;33m\u001b[0m\u001b[0m\n\u001b[0m\u001b[0;32m    497\u001b[0m \u001b[1;33m\u001b[0m\u001b[0m\n\u001b[0;32m    498\u001b[0m     \u001b[1;32mdef\u001b[0m \u001b[0mfind_element_by_xpath\u001b[0m\u001b[1;33m(\u001b[0m\u001b[0mself\u001b[0m\u001b[1;33m,\u001b[0m \u001b[0mxpath\u001b[0m\u001b[1;33m)\u001b[0m \u001b[1;33m->\u001b[0m \u001b[0mWebElement\u001b[0m\u001b[1;33m:\u001b[0m\u001b[1;33m\u001b[0m\u001b[1;33m\u001b[0m\u001b[0m\n",
      "\u001b[1;32m~\\anaconda3\\lib\\site-packages\\selenium\\webdriver\\remote\\webdriver.py\u001b[0m in \u001b[0;36mfind_elements\u001b[1;34m(self, by, value)\u001b[0m\n\u001b[0;32m   1281\u001b[0m         \u001b[1;31m# Return empty list if driver returns null\u001b[0m\u001b[1;33m\u001b[0m\u001b[1;33m\u001b[0m\u001b[1;33m\u001b[0m\u001b[0m\n\u001b[0;32m   1282\u001b[0m         \u001b[1;31m# See https://github.com/SeleniumHQ/selenium/issues/4555\u001b[0m\u001b[1;33m\u001b[0m\u001b[1;33m\u001b[0m\u001b[1;33m\u001b[0m\u001b[0m\n\u001b[1;32m-> 1283\u001b[1;33m         return self.execute(Command.FIND_ELEMENTS, {\n\u001b[0m\u001b[0;32m   1284\u001b[0m             \u001b[1;34m'using'\u001b[0m\u001b[1;33m:\u001b[0m \u001b[0mby\u001b[0m\u001b[1;33m,\u001b[0m\u001b[1;33m\u001b[0m\u001b[1;33m\u001b[0m\u001b[0m\n\u001b[0;32m   1285\u001b[0m             'value': value})['value'] or []\n",
      "\u001b[1;32m~\\anaconda3\\lib\\site-packages\\selenium\\webdriver\\remote\\webdriver.py\u001b[0m in \u001b[0;36mexecute\u001b[1;34m(self, driver_command, params)\u001b[0m\n\u001b[0;32m    423\u001b[0m         \u001b[0mresponse\u001b[0m \u001b[1;33m=\u001b[0m \u001b[0mself\u001b[0m\u001b[1;33m.\u001b[0m\u001b[0mcommand_executor\u001b[0m\u001b[1;33m.\u001b[0m\u001b[0mexecute\u001b[0m\u001b[1;33m(\u001b[0m\u001b[0mdriver_command\u001b[0m\u001b[1;33m,\u001b[0m \u001b[0mparams\u001b[0m\u001b[1;33m)\u001b[0m\u001b[1;33m\u001b[0m\u001b[1;33m\u001b[0m\u001b[0m\n\u001b[0;32m    424\u001b[0m         \u001b[1;32mif\u001b[0m \u001b[0mresponse\u001b[0m\u001b[1;33m:\u001b[0m\u001b[1;33m\u001b[0m\u001b[1;33m\u001b[0m\u001b[0m\n\u001b[1;32m--> 425\u001b[1;33m             \u001b[0mself\u001b[0m\u001b[1;33m.\u001b[0m\u001b[0merror_handler\u001b[0m\u001b[1;33m.\u001b[0m\u001b[0mcheck_response\u001b[0m\u001b[1;33m(\u001b[0m\u001b[0mresponse\u001b[0m\u001b[1;33m)\u001b[0m\u001b[1;33m\u001b[0m\u001b[1;33m\u001b[0m\u001b[0m\n\u001b[0m\u001b[0;32m    426\u001b[0m             response['value'] = self._unwrap_value(\n\u001b[0;32m    427\u001b[0m                 response.get('value', None))\n",
      "\u001b[1;32m~\\anaconda3\\lib\\site-packages\\selenium\\webdriver\\remote\\errorhandler.py\u001b[0m in \u001b[0;36mcheck_response\u001b[1;34m(self, response)\u001b[0m\n\u001b[0;32m    245\u001b[0m                 \u001b[0malert_text\u001b[0m \u001b[1;33m=\u001b[0m \u001b[0mvalue\u001b[0m\u001b[1;33m[\u001b[0m\u001b[1;34m'alert'\u001b[0m\u001b[1;33m]\u001b[0m\u001b[1;33m.\u001b[0m\u001b[0mget\u001b[0m\u001b[1;33m(\u001b[0m\u001b[1;34m'text'\u001b[0m\u001b[1;33m)\u001b[0m\u001b[1;33m\u001b[0m\u001b[1;33m\u001b[0m\u001b[0m\n\u001b[0;32m    246\u001b[0m             \u001b[1;32mraise\u001b[0m \u001b[0mexception_class\u001b[0m\u001b[1;33m(\u001b[0m\u001b[0mmessage\u001b[0m\u001b[1;33m,\u001b[0m \u001b[0mscreen\u001b[0m\u001b[1;33m,\u001b[0m \u001b[0mstacktrace\u001b[0m\u001b[1;33m,\u001b[0m \u001b[0malert_text\u001b[0m\u001b[1;33m)\u001b[0m  \u001b[1;31m# type: ignore[call-arg]  # mypy is not smart enough here\u001b[0m\u001b[1;33m\u001b[0m\u001b[1;33m\u001b[0m\u001b[0m\n\u001b[1;32m--> 247\u001b[1;33m         \u001b[1;32mraise\u001b[0m \u001b[0mexception_class\u001b[0m\u001b[1;33m(\u001b[0m\u001b[0mmessage\u001b[0m\u001b[1;33m,\u001b[0m \u001b[0mscreen\u001b[0m\u001b[1;33m,\u001b[0m \u001b[0mstacktrace\u001b[0m\u001b[1;33m)\u001b[0m\u001b[1;33m\u001b[0m\u001b[1;33m\u001b[0m\u001b[0m\n\u001b[0m\u001b[0;32m    248\u001b[0m \u001b[1;33m\u001b[0m\u001b[0m\n\u001b[0;32m    249\u001b[0m     \u001b[1;32mdef\u001b[0m \u001b[0m_value_or_default\u001b[0m\u001b[1;33m(\u001b[0m\u001b[0mself\u001b[0m\u001b[1;33m,\u001b[0m \u001b[0mobj\u001b[0m\u001b[1;33m:\u001b[0m \u001b[0mMapping\u001b[0m\u001b[1;33m[\u001b[0m\u001b[0m_KT\u001b[0m\u001b[1;33m,\u001b[0m \u001b[0m_VT\u001b[0m\u001b[1;33m]\u001b[0m\u001b[1;33m,\u001b[0m \u001b[0mkey\u001b[0m\u001b[1;33m:\u001b[0m \u001b[0m_KT\u001b[0m\u001b[1;33m,\u001b[0m \u001b[0mdefault\u001b[0m\u001b[1;33m:\u001b[0m \u001b[0m_VT\u001b[0m\u001b[1;33m)\u001b[0m \u001b[1;33m->\u001b[0m \u001b[0m_VT\u001b[0m\u001b[1;33m:\u001b[0m\u001b[1;33m\u001b[0m\u001b[1;33m\u001b[0m\u001b[0m\n",
      "\u001b[1;31mWebDriverException\u001b[0m: Message: chrome not reachable\n  (Session info: chrome=99.0.4844.84)\nStacktrace:\nBacktrace:\n\tOrdinal0 [0x00689943+2595139]\n\tOrdinal0 [0x0061C9F1+2148849]\n\tOrdinal0 [0x005143F0+1065968]\n\tOrdinal0 [0x005087C2+1017794]\n\tOrdinal0 [0x00508FF8+1019896]\n\tOrdinal0 [0x0050A892+1026194]\n\tOrdinal0 [0x00504219+999961]\n\tOrdinal0 [0x00515860+1071200]\n\tOrdinal0 [0x0056B2D2+1422034]\n\tOrdinal0 [0x0055B806+1357830]\n\tOrdinal0 [0x00536086+1204358]\n\tOrdinal0 [0x00536F96+1208214]\n\tGetHandleVerifier [0x0082B232+1658114]\n\tGetHandleVerifier [0x008E312C+2411516]\n\tGetHandleVerifier [0x0071F261+560433]\n\tGetHandleVerifier [0x0071E366+556598]\n\tOrdinal0 [0x0062286B+2173035]\n\tOrdinal0 [0x006275F8+2192888]\n\tOrdinal0 [0x006276E5+2193125]\n\tOrdinal0 [0x006311FC+2232828]\n\tBaseThreadInitThunk [0x753CFA29+25]\n\tRtlGetAppContainerNamedObjectPath [0x77207A7E+286]\n\tRtlGetAppContainerNamedObjectPath [0x77207A4E+238]\n"
     ]
    }
   ],
   "source": [
    "comment=driver.find_elements_by_id('content-text')\n",
    "comment_upvote=driver.find_elements_by_id('vote-count-middle')\n",
    "time=driver.find_elements_by_class_name('yt-simple-endpoint style-scope yt-formatted-string')\n",
    "\n",
    "\n",
    "comments=[]\n",
    "for i in comment:\n",
    "    comments.append(i.text)\n",
    "comments\n",
    "\n",
    "comment_upvotes=[]\n",
    "for i in comment_upvote:\n",
    "    comment_upvotes.append(i.text)\n",
    "comment_upvotes\n",
    "\n",
    "times=[]\n",
    "for i in time:\n",
    "    times.append(i.text)\n",
    "times\n"
   ]
  },
  {
   "cell_type": "code",
   "execution_count": null,
   "id": "211760c8",
   "metadata": {},
   "outputs": [],
   "source": []
  },
  {
   "cell_type": "code",
   "execution_count": 67,
   "id": "d3643eca",
   "metadata": {},
   "outputs": [
    {
     "data": {
      "text/plain": [
       "[<selenium.webdriver.remote.webelement.WebElement (session=\"bd63f1fb658f9f84f4cf95e9ebc9d2f3\", element=\"588ff5e7-7093-4e4f-ab60-86e0488c80c2\")>,\n",
       " <selenium.webdriver.remote.webelement.WebElement (session=\"bd63f1fb658f9f84f4cf95e9ebc9d2f3\", element=\"763a48f3-bace-423e-bd15-44075d5bf31d\")>,\n",
       " <selenium.webdriver.remote.webelement.WebElement (session=\"bd63f1fb658f9f84f4cf95e9ebc9d2f3\", element=\"3a8f6658-bbcf-4d7b-b26c-f6114a4b2ff5\")>,\n",
       " <selenium.webdriver.remote.webelement.WebElement (session=\"bd63f1fb658f9f84f4cf95e9ebc9d2f3\", element=\"392ec7db-6784-400a-9237-8ba24d748772\")>,\n",
       " <selenium.webdriver.remote.webelement.WebElement (session=\"bd63f1fb658f9f84f4cf95e9ebc9d2f3\", element=\"77c75266-898f-42fa-a0b8-27b5660e0c4d\")>,\n",
       " <selenium.webdriver.remote.webelement.WebElement (session=\"bd63f1fb658f9f84f4cf95e9ebc9d2f3\", element=\"511f62a2-de29-4d85-9c73-820c9746cb52\")>,\n",
       " <selenium.webdriver.remote.webelement.WebElement (session=\"bd63f1fb658f9f84f4cf95e9ebc9d2f3\", element=\"e2e1137a-6386-49a6-bc52-d0fa1ec0a6d3\")>,\n",
       " <selenium.webdriver.remote.webelement.WebElement (session=\"bd63f1fb658f9f84f4cf95e9ebc9d2f3\", element=\"4110a587-961f-40a8-a52c-b9e7541ae18d\")>,\n",
       " <selenium.webdriver.remote.webelement.WebElement (session=\"bd63f1fb658f9f84f4cf95e9ebc9d2f3\", element=\"285b7aab-5d54-4654-a6bd-9dd203ff57a9\")>,\n",
       " <selenium.webdriver.remote.webelement.WebElement (session=\"bd63f1fb658f9f84f4cf95e9ebc9d2f3\", element=\"b702b75a-dd19-4389-9717-935eb27896b9\")>,\n",
       " <selenium.webdriver.remote.webelement.WebElement (session=\"bd63f1fb658f9f84f4cf95e9ebc9d2f3\", element=\"43b83e78-5c80-4e2d-81f2-923bba0dffe7\")>,\n",
       " <selenium.webdriver.remote.webelement.WebElement (session=\"bd63f1fb658f9f84f4cf95e9ebc9d2f3\", element=\"6d094cc1-7df7-4172-bbf1-52b37076772f\")>,\n",
       " <selenium.webdriver.remote.webelement.WebElement (session=\"bd63f1fb658f9f84f4cf95e9ebc9d2f3\", element=\"336f0408-2f95-4dcc-9664-b2efcd52f5a9\")>,\n",
       " <selenium.webdriver.remote.webelement.WebElement (session=\"bd63f1fb658f9f84f4cf95e9ebc9d2f3\", element=\"c007f398-b6c2-41d1-90ff-44ae30957b66\")>,\n",
       " <selenium.webdriver.remote.webelement.WebElement (session=\"bd63f1fb658f9f84f4cf95e9ebc9d2f3\", element=\"7c47fb70-b708-45d6-857b-c172e2be303c\")>,\n",
       " <selenium.webdriver.remote.webelement.WebElement (session=\"bd63f1fb658f9f84f4cf95e9ebc9d2f3\", element=\"fa0de4d6-7e09-4c2f-98c6-8886d475fea0\")>,\n",
       " <selenium.webdriver.remote.webelement.WebElement (session=\"bd63f1fb658f9f84f4cf95e9ebc9d2f3\", element=\"c764fc54-37cc-4be6-b0a6-0ba1b726aeba\")>,\n",
       " <selenium.webdriver.remote.webelement.WebElement (session=\"bd63f1fb658f9f84f4cf95e9ebc9d2f3\", element=\"21c02d63-cf6e-4557-acc1-787cc2b0a3df\")>,\n",
       " <selenium.webdriver.remote.webelement.WebElement (session=\"bd63f1fb658f9f84f4cf95e9ebc9d2f3\", element=\"2cde2215-8781-43a1-8a7c-edb7587c9969\")>,\n",
       " <selenium.webdriver.remote.webelement.WebElement (session=\"bd63f1fb658f9f84f4cf95e9ebc9d2f3\", element=\"8f094038-551a-4f81-ac1e-0a83d53b9b6d\")>]"
      ]
     },
     "execution_count": 67,
     "metadata": {},
     "output_type": "execute_result"
    }
   ],
   "source": [
    "comment"
   ]
  },
  {
   "cell_type": "code",
   "execution_count": 68,
   "id": "1066c0eb",
   "metadata": {},
   "outputs": [
    {
     "data": {
      "text/plain": [
       "['The freaking music in this trailer is soo good.\\n\\nI am excited.',\n",
       " '\"It\\'s not just a call. It\\'s a warning. To them.\"\\nOne of the best Batman intros of all time. Perfectly sums up the character.',\n",
       " 'A trailer is meant to hit all the right notes, by getting you intrigued, emotionally invested, pumped up and yet not reveal the story. And boy, does this one do it,  thanks to its incredible cinematography and that amazing theme. So badass.',\n",
       " 'I’m going back to this trailer to reflect on how AMAZING this movie truly is.',\n",
       " 'The fact that the Riddler, when unmasked actually looks like your typical nice guy who walks across you at the street is chilling and is actually a quality most serial killers have.\\nAll I can say is, the reveal of who the Riddler was left me blindsided and this movie is 11/10 in my books. Well done Paul Dano !',\n",
       " 'That shot at 2:23….upside down. The theme music. The slow walk. The silhouette. The fire in the background. The rain. The Title font. Every time I see it the beauty of it all honestly makes me shed a happy tear. As a kid I was a dieharddd Batman fan and this particular 15 seconds captures the essence of the Batman I always imagined as a kid better than any other take ever has. It feels nostalgic. Went to theaters 3x to see it already. This movie has had an impact on me that movies just don’t do for me anymore.',\n",
       " 'The ending shot where Batman walks out of the fire like an immortal madman is just….pure beauty.',\n",
       " 'I just saw it this weekend and I have to say this is an incredible incredible INCREDIBLE movie. I loved that they took your typical super hero movie and made it more into an art/noir film. The shots and the color and the way they decided to film everything, everything was so intentional...it was breathtaking. I also loved how gothic it was with the music and the architecture with the buildings. I felt so much impact from the fight scenes as well and the car, i know men are typical and they say \"hehe i love big fast car that go vroom and violence and punching things\" but this wasn\\'t cheesy it wasn\\'t flashy, it truly truly left and impact and gave me chills at many times. Also the costuming, the way it showed how gritty everything was and low key but also still so fashionable. Bruce still felt like a force outside of the Batman costume, and when he has the boots and the huge sweatshirt and baseball cap, he felt wide and still an intense presence. I also didn\\'t even notice this movie was 3 hours, yes it was long but I was never bored, I was never like \"when is this gonna end i\\'m over it\", I could watch this movie a million times and still find something new to look at. This goes beyond just a superhero movie this again leads more into a work of art.',\n",
       " 'The fact that the shot at the end is practical and not CGI is what makes me love Matt Reeves take on the bat.',\n",
       " 'this movie is absolute perfection. so proud of them for making this one with so much passion and dedication. Matt Reeves is a legend. Robert Pattinson is unbelievably talented and just awesome. 10/10.',\n",
       " \"That was a fantastic movie, Robert Pattinson's Batman was amazing. There was something so deep in Batman's eyes.The dark tone, actors, the way Batman fights, Bat and Cat together, everything in the movie, it was awesome. It gave me chills.(that last scene was so powerful!) He's definitely one of my favorite Batman!\",\n",
       " \"I didn't even watch the trailer before seeing this film. I just wanted to go in with no expectations, and now that I have, Boy oh boy! This movie is a ten out of ten. I can not find any fault in it. I think Robert's portrayal of the Batman is hands down my favorite. I would not mind going back in to the cinema and paying to watch it again. It was so good. 5 stars.\",\n",
       " 'That part where Batman was walking towards Penguin in his flipped car with the fire behind him sent chills down my spine',\n",
       " 'This movie was darker than usual and i LOVED IT. This is how batman should be like. Some of the scenes they shot was amazingly beautifully done im simply blown away',\n",
       " 'I\\'m gonna be honest, after watching this trailer, I thought \"not another batman movie.\" But dang, after seeing it in theaters, it instantly became my favorite. It\\'s definitely one of the best movies I have seen in a while. I was on the edge of my seat the entire time',\n",
       " 'just watched this movie and it exceeded my expectations 10/10',\n",
       " 'Dark, gritty, powerful and a true Batman film that focuses on the Detective element with a Noir style that can only be seen in Gotham City to fully understand and enjoy. Matt Reeves and this cast is amazing.\\nFrom the cinematography to the score, the characters, the action, and the dialogue everything blended together so incredibly. The Batman is the perfect 3 hour POV detective noir movie that is nothing short of a complete and utter masterpiece.',\n",
       " 'This is the dark, broken, obsessive, ptsd-ridden, stalker in the night version of batman, and it’s glorious. Just got back from the movie and it’s everything I expected and more. Cat woman was also phenomenal.',\n",
       " 'Good to see them bring in new villains to this movie, its always been the joker it seems like and i do love joker but mixing it up with new villains make the movies even better',\n",
       " \"I love how dark this version is. To me it feels very grounded and realistic. Also seems like they dive into the psychological aspect of being batman. How the duality splits apart his psyche or how all  the repressed trauma is vented upon the world. I see this as a faithful depiction of what batman stands for. The fragility of morality when it's subjected to the criminality of gotham reminding us that Batman is also human.\"]"
      ]
     },
     "execution_count": 68,
     "metadata": {},
     "output_type": "execute_result"
    }
   ],
   "source": [
    "comments=[]\n",
    "\n",
    "for i in comment:\n",
    "    comments.append(i.text)\n",
    "    \n",
    "comments"
   ]
  },
  {
   "cell_type": "code",
   "execution_count": 69,
   "id": "adef0e2a",
   "metadata": {},
   "outputs": [
    {
     "data": {
      "text/plain": [
       "20"
      ]
     },
     "execution_count": 69,
     "metadata": {},
     "output_type": "execute_result"
    }
   ],
   "source": [
    "len(comment)"
   ]
  },
  {
   "cell_type": "code",
   "execution_count": 76,
   "id": "9c1f1c20",
   "metadata": {},
   "outputs": [],
   "source": [
    "driver.execute_script(\"window.scrollBy(0,100000)\",\"\")"
   ]
  },
  {
   "cell_type": "code",
   "execution_count": 80,
   "id": "74752f8d",
   "metadata": {},
   "outputs": [],
   "source": [
    "time.sleep(3)"
   ]
  },
  {
   "cell_type": "code",
   "execution_count": 81,
   "id": "0f846111",
   "metadata": {},
   "outputs": [],
   "source": [
    "driver.execute_script(\"window.scrollBy(0,100000)\",\"\")"
   ]
  },
  {
   "cell_type": "code",
   "execution_count": 84,
   "id": "e97f0580",
   "metadata": {},
   "outputs": [],
   "source": [
    "time.sleep(3)"
   ]
  },
  {
   "cell_type": "code",
   "execution_count": null,
   "id": "99d0045c",
   "metadata": {},
   "outputs": [],
   "source": []
  },
  {
   "cell_type": "code",
   "execution_count": 85,
   "id": "6b3d0d85",
   "metadata": {},
   "outputs": [],
   "source": [
    "driver.execute_script(\"window.scrollBy(0,100000)\",\"\")"
   ]
  },
  {
   "cell_type": "code",
   "execution_count": 88,
   "id": "93667d85",
   "metadata": {},
   "outputs": [],
   "source": [
    "driver.execute_script(\"window.scrollBy(0,500000)\",\"\")"
   ]
  },
  {
   "cell_type": "code",
   "execution_count": 89,
   "id": "97431b8d",
   "metadata": {},
   "outputs": [],
   "source": [
    "time.sleep(3)"
   ]
  },
  {
   "cell_type": "code",
   "execution_count": 90,
   "id": "bf3aa23c",
   "metadata": {},
   "outputs": [],
   "source": [
    "driver.execute_script(\"window.scrollBy(0,500000)\",\"\")"
   ]
  },
  {
   "cell_type": "code",
   "execution_count": null,
   "id": "fc5a19d9",
   "metadata": {},
   "outputs": [],
   "source": []
  },
  {
   "cell_type": "markdown",
   "id": "62fc6e79",
   "metadata": {},
   "source": [
    "10. Write a python program to scrape a data for all available Hostels from https://www.hostelworld.com/ in “London” location. You have to scrape hostel name, distance from city centre, ratings, total reviews, overall reviews, privates from price, dorms from price, facilities and property description"
   ]
  },
  {
   "cell_type": "code",
   "execution_count": 111,
   "id": "6671406d",
   "metadata": {},
   "outputs": [],
   "source": [
    "#extracting path of the webdriver\n",
    "driver=webdriver.Chrome(r'C:/Users/Dell/Downloads/chromedriver_win32 (1)/chromedriver.exe')\n",
    "time.sleep(3)\n",
    "\n",
    "#accessing webpage\n",
    "url10='https://www.hostelworld.com/'\n",
    "driver.get(url10)\n",
    "time.sleep(3)\n",
    "\n",
    "#accepting cookies\n",
    "cookies=driver.find_element_by_xpath('/html/body/div[3]/div/div/div[2]/div/div/div[2]/div/button')\n",
    "cookies.click()\n",
    "time.sleep(5)\n",
    "\n"
   ]
  },
  {
   "cell_type": "code",
   "execution_count": 114,
   "id": "c3e70eff",
   "metadata": {},
   "outputs": [
    {
     "ename": "NoSuchElementException",
     "evalue": "Message: no such element: Unable to locate element: {\"method\":\"css selector\",\"selector\":\"[id=\"search-input-field\"]\"}\n  (Session info: chrome=99.0.4844.84)\nStacktrace:\nBacktrace:\n\tOrdinal0 [0x00689943+2595139]\n\tOrdinal0 [0x0061C9F1+2148849]\n\tOrdinal0 [0x00514528+1066280]\n\tOrdinal0 [0x00540FD4+1249236]\n\tOrdinal0 [0x005411CB+1249739]\n\tOrdinal0 [0x0056D812+1431570]\n\tOrdinal0 [0x0055BA34+1358388]\n\tOrdinal0 [0x0056BAF2+1424114]\n\tOrdinal0 [0x0055B806+1357830]\n\tOrdinal0 [0x00536086+1204358]\n\tOrdinal0 [0x00536F96+1208214]\n\tGetHandleVerifier [0x0082B232+1658114]\n\tGetHandleVerifier [0x008E312C+2411516]\n\tGetHandleVerifier [0x0071F261+560433]\n\tGetHandleVerifier [0x0071E366+556598]\n\tOrdinal0 [0x0062286B+2173035]\n\tOrdinal0 [0x006275F8+2192888]\n\tOrdinal0 [0x006276E5+2193125]\n\tOrdinal0 [0x006311FC+2232828]\n\tBaseThreadInitThunk [0x753CFA29+25]\n\tRtlGetAppContainerNamedObjectPath [0x77207A7E+286]\n\tRtlGetAppContainerNamedObjectPath [0x77207A4E+238]\n",
     "output_type": "error",
     "traceback": [
      "\u001b[1;31m---------------------------------------------------------------------------\u001b[0m",
      "\u001b[1;31mNoSuchElementException\u001b[0m                    Traceback (most recent call last)",
      "\u001b[1;32m<ipython-input-114-48e445c7be5a>\u001b[0m in \u001b[0;36m<module>\u001b[1;34m\u001b[0m\n\u001b[0;32m      1\u001b[0m \u001b[1;31m#inspecting search field\u001b[0m\u001b[1;33m\u001b[0m\u001b[1;33m\u001b[0m\u001b[1;33m\u001b[0m\u001b[0m\n\u001b[1;32m----> 2\u001b[1;33m \u001b[0msearch_field\u001b[0m\u001b[1;33m=\u001b[0m\u001b[0mdriver\u001b[0m\u001b[1;33m.\u001b[0m\u001b[0mfind_element_by_id\u001b[0m\u001b[1;33m(\u001b[0m\u001b[1;34m'search-input-field'\u001b[0m\u001b[1;33m)\u001b[0m\u001b[1;33m\u001b[0m\u001b[1;33m\u001b[0m\u001b[0m\n\u001b[0m\u001b[0;32m      3\u001b[0m \u001b[0msearch_field\u001b[0m\u001b[1;33m\u001b[0m\u001b[1;33m\u001b[0m\u001b[0m\n\u001b[0;32m      4\u001b[0m \u001b[0msearch_field\u001b[0m\u001b[1;33m.\u001b[0m\u001b[0msend_keys\u001b[0m\u001b[1;33m(\u001b[0m\u001b[1;34m'London, England'\u001b[0m\u001b[1;33m)\u001b[0m\u001b[1;33m\u001b[0m\u001b[1;33m\u001b[0m\u001b[0m\n\u001b[0;32m      5\u001b[0m \u001b[0mtime\u001b[0m\u001b[1;33m.\u001b[0m\u001b[0msleep\u001b[0m\u001b[1;33m(\u001b[0m\u001b[1;36m5\u001b[0m\u001b[1;33m)\u001b[0m\u001b[1;33m\u001b[0m\u001b[1;33m\u001b[0m\u001b[0m\n",
      "\u001b[1;32m~\\anaconda3\\lib\\site-packages\\selenium\\webdriver\\remote\\webdriver.py\u001b[0m in \u001b[0;36mfind_element_by_id\u001b[1;34m(self, id_)\u001b[0m\n\u001b[0;32m    471\u001b[0m             \u001b[0mstacklevel\u001b[0m\u001b[1;33m=\u001b[0m\u001b[1;36m2\u001b[0m\u001b[1;33m,\u001b[0m\u001b[1;33m\u001b[0m\u001b[1;33m\u001b[0m\u001b[0m\n\u001b[0;32m    472\u001b[0m         )\n\u001b[1;32m--> 473\u001b[1;33m         \u001b[1;32mreturn\u001b[0m \u001b[0mself\u001b[0m\u001b[1;33m.\u001b[0m\u001b[0mfind_element\u001b[0m\u001b[1;33m(\u001b[0m\u001b[0mby\u001b[0m\u001b[1;33m=\u001b[0m\u001b[0mBy\u001b[0m\u001b[1;33m.\u001b[0m\u001b[0mID\u001b[0m\u001b[1;33m,\u001b[0m \u001b[0mvalue\u001b[0m\u001b[1;33m=\u001b[0m\u001b[0mid_\u001b[0m\u001b[1;33m)\u001b[0m\u001b[1;33m\u001b[0m\u001b[1;33m\u001b[0m\u001b[0m\n\u001b[0m\u001b[0;32m    474\u001b[0m \u001b[1;33m\u001b[0m\u001b[0m\n\u001b[0;32m    475\u001b[0m     \u001b[1;32mdef\u001b[0m \u001b[0mfind_elements_by_id\u001b[0m\u001b[1;33m(\u001b[0m\u001b[0mself\u001b[0m\u001b[1;33m,\u001b[0m \u001b[0mid_\u001b[0m\u001b[1;33m)\u001b[0m \u001b[1;33m->\u001b[0m \u001b[0mList\u001b[0m\u001b[1;33m[\u001b[0m\u001b[0mWebElement\u001b[0m\u001b[1;33m]\u001b[0m\u001b[1;33m:\u001b[0m\u001b[1;33m\u001b[0m\u001b[1;33m\u001b[0m\u001b[0m\n",
      "\u001b[1;32m~\\anaconda3\\lib\\site-packages\\selenium\\webdriver\\remote\\webdriver.py\u001b[0m in \u001b[0;36mfind_element\u001b[1;34m(self, by, value)\u001b[0m\n\u001b[0;32m   1246\u001b[0m             \u001b[0mvalue\u001b[0m \u001b[1;33m=\u001b[0m \u001b[1;34m'[name=\"%s\"]'\u001b[0m \u001b[1;33m%\u001b[0m \u001b[0mvalue\u001b[0m\u001b[1;33m\u001b[0m\u001b[1;33m\u001b[0m\u001b[0m\n\u001b[0;32m   1247\u001b[0m \u001b[1;33m\u001b[0m\u001b[0m\n\u001b[1;32m-> 1248\u001b[1;33m         return self.execute(Command.FIND_ELEMENT, {\n\u001b[0m\u001b[0;32m   1249\u001b[0m             \u001b[1;34m'using'\u001b[0m\u001b[1;33m:\u001b[0m \u001b[0mby\u001b[0m\u001b[1;33m,\u001b[0m\u001b[1;33m\u001b[0m\u001b[1;33m\u001b[0m\u001b[0m\n\u001b[0;32m   1250\u001b[0m             'value': value})['value']\n",
      "\u001b[1;32m~\\anaconda3\\lib\\site-packages\\selenium\\webdriver\\remote\\webdriver.py\u001b[0m in \u001b[0;36mexecute\u001b[1;34m(self, driver_command, params)\u001b[0m\n\u001b[0;32m    423\u001b[0m         \u001b[0mresponse\u001b[0m \u001b[1;33m=\u001b[0m \u001b[0mself\u001b[0m\u001b[1;33m.\u001b[0m\u001b[0mcommand_executor\u001b[0m\u001b[1;33m.\u001b[0m\u001b[0mexecute\u001b[0m\u001b[1;33m(\u001b[0m\u001b[0mdriver_command\u001b[0m\u001b[1;33m,\u001b[0m \u001b[0mparams\u001b[0m\u001b[1;33m)\u001b[0m\u001b[1;33m\u001b[0m\u001b[1;33m\u001b[0m\u001b[0m\n\u001b[0;32m    424\u001b[0m         \u001b[1;32mif\u001b[0m \u001b[0mresponse\u001b[0m\u001b[1;33m:\u001b[0m\u001b[1;33m\u001b[0m\u001b[1;33m\u001b[0m\u001b[0m\n\u001b[1;32m--> 425\u001b[1;33m             \u001b[0mself\u001b[0m\u001b[1;33m.\u001b[0m\u001b[0merror_handler\u001b[0m\u001b[1;33m.\u001b[0m\u001b[0mcheck_response\u001b[0m\u001b[1;33m(\u001b[0m\u001b[0mresponse\u001b[0m\u001b[1;33m)\u001b[0m\u001b[1;33m\u001b[0m\u001b[1;33m\u001b[0m\u001b[0m\n\u001b[0m\u001b[0;32m    426\u001b[0m             response['value'] = self._unwrap_value(\n\u001b[0;32m    427\u001b[0m                 response.get('value', None))\n",
      "\u001b[1;32m~\\anaconda3\\lib\\site-packages\\selenium\\webdriver\\remote\\errorhandler.py\u001b[0m in \u001b[0;36mcheck_response\u001b[1;34m(self, response)\u001b[0m\n\u001b[0;32m    245\u001b[0m                 \u001b[0malert_text\u001b[0m \u001b[1;33m=\u001b[0m \u001b[0mvalue\u001b[0m\u001b[1;33m[\u001b[0m\u001b[1;34m'alert'\u001b[0m\u001b[1;33m]\u001b[0m\u001b[1;33m.\u001b[0m\u001b[0mget\u001b[0m\u001b[1;33m(\u001b[0m\u001b[1;34m'text'\u001b[0m\u001b[1;33m)\u001b[0m\u001b[1;33m\u001b[0m\u001b[1;33m\u001b[0m\u001b[0m\n\u001b[0;32m    246\u001b[0m             \u001b[1;32mraise\u001b[0m \u001b[0mexception_class\u001b[0m\u001b[1;33m(\u001b[0m\u001b[0mmessage\u001b[0m\u001b[1;33m,\u001b[0m \u001b[0mscreen\u001b[0m\u001b[1;33m,\u001b[0m \u001b[0mstacktrace\u001b[0m\u001b[1;33m,\u001b[0m \u001b[0malert_text\u001b[0m\u001b[1;33m)\u001b[0m  \u001b[1;31m# type: ignore[call-arg]  # mypy is not smart enough here\u001b[0m\u001b[1;33m\u001b[0m\u001b[1;33m\u001b[0m\u001b[0m\n\u001b[1;32m--> 247\u001b[1;33m         \u001b[1;32mraise\u001b[0m \u001b[0mexception_class\u001b[0m\u001b[1;33m(\u001b[0m\u001b[0mmessage\u001b[0m\u001b[1;33m,\u001b[0m \u001b[0mscreen\u001b[0m\u001b[1;33m,\u001b[0m \u001b[0mstacktrace\u001b[0m\u001b[1;33m)\u001b[0m\u001b[1;33m\u001b[0m\u001b[1;33m\u001b[0m\u001b[0m\n\u001b[0m\u001b[0;32m    248\u001b[0m \u001b[1;33m\u001b[0m\u001b[0m\n\u001b[0;32m    249\u001b[0m     \u001b[1;32mdef\u001b[0m \u001b[0m_value_or_default\u001b[0m\u001b[1;33m(\u001b[0m\u001b[0mself\u001b[0m\u001b[1;33m,\u001b[0m \u001b[0mobj\u001b[0m\u001b[1;33m:\u001b[0m \u001b[0mMapping\u001b[0m\u001b[1;33m[\u001b[0m\u001b[0m_KT\u001b[0m\u001b[1;33m,\u001b[0m \u001b[0m_VT\u001b[0m\u001b[1;33m]\u001b[0m\u001b[1;33m,\u001b[0m \u001b[0mkey\u001b[0m\u001b[1;33m:\u001b[0m \u001b[0m_KT\u001b[0m\u001b[1;33m,\u001b[0m \u001b[0mdefault\u001b[0m\u001b[1;33m:\u001b[0m \u001b[0m_VT\u001b[0m\u001b[1;33m)\u001b[0m \u001b[1;33m->\u001b[0m \u001b[0m_VT\u001b[0m\u001b[1;33m:\u001b[0m\u001b[1;33m\u001b[0m\u001b[1;33m\u001b[0m\u001b[0m\n",
      "\u001b[1;31mNoSuchElementException\u001b[0m: Message: no such element: Unable to locate element: {\"method\":\"css selector\",\"selector\":\"[id=\"search-input-field\"]\"}\n  (Session info: chrome=99.0.4844.84)\nStacktrace:\nBacktrace:\n\tOrdinal0 [0x00689943+2595139]\n\tOrdinal0 [0x0061C9F1+2148849]\n\tOrdinal0 [0x00514528+1066280]\n\tOrdinal0 [0x00540FD4+1249236]\n\tOrdinal0 [0x005411CB+1249739]\n\tOrdinal0 [0x0056D812+1431570]\n\tOrdinal0 [0x0055BA34+1358388]\n\tOrdinal0 [0x0056BAF2+1424114]\n\tOrdinal0 [0x0055B806+1357830]\n\tOrdinal0 [0x00536086+1204358]\n\tOrdinal0 [0x00536F96+1208214]\n\tGetHandleVerifier [0x0082B232+1658114]\n\tGetHandleVerifier [0x008E312C+2411516]\n\tGetHandleVerifier [0x0071F261+560433]\n\tGetHandleVerifier [0x0071E366+556598]\n\tOrdinal0 [0x0062286B+2173035]\n\tOrdinal0 [0x006275F8+2192888]\n\tOrdinal0 [0x006276E5+2193125]\n\tOrdinal0 [0x006311FC+2232828]\n\tBaseThreadInitThunk [0x753CFA29+25]\n\tRtlGetAppContainerNamedObjectPath [0x77207A7E+286]\n\tRtlGetAppContainerNamedObjectPath [0x77207A4E+238]\n"
     ]
    }
   ],
   "source": [
    "#inspecting search field\n",
    "search_field=driver.find_element_by_id('search-input-field')\n",
    "search_field\n",
    "search_field.send_keys('London, England')\n",
    "time.sleep(5)\n",
    "\n",
    "#clicking search button\n",
    "go=driver.find_element_by_id('search-button')\n",
    "go.click()"
   ]
  },
  {
   "cell_type": "code",
   "execution_count": null,
   "id": "d82601a3",
   "metadata": {},
   "outputs": [],
   "source": []
  },
  {
   "cell_type": "code",
   "execution_count": null,
   "id": "e7782600",
   "metadata": {},
   "outputs": [],
   "source": []
  },
  {
   "cell_type": "code",
   "execution_count": null,
   "id": "0385c047",
   "metadata": {},
   "outputs": [],
   "source": []
  },
  {
   "cell_type": "code",
   "execution_count": null,
   "id": "3cba20d1",
   "metadata": {},
   "outputs": [],
   "source": []
  },
  {
   "cell_type": "code",
   "execution_count": null,
   "id": "eb434c07",
   "metadata": {},
   "outputs": [],
   "source": []
  },
  {
   "cell_type": "code",
   "execution_count": null,
   "id": "c9b8d4f8",
   "metadata": {},
   "outputs": [],
   "source": []
  },
  {
   "cell_type": "code",
   "execution_count": null,
   "id": "11a6a465",
   "metadata": {},
   "outputs": [],
   "source": []
  },
  {
   "cell_type": "code",
   "execution_count": 110,
   "id": "e9a60eb2",
   "metadata": {},
   "outputs": [],
   "source": []
  },
  {
   "cell_type": "code",
   "execution_count": null,
   "id": "0640d5c1",
   "metadata": {},
   "outputs": [],
   "source": []
  },
  {
   "cell_type": "code",
   "execution_count": null,
   "id": "e97f52b3",
   "metadata": {},
   "outputs": [],
   "source": []
  },
  {
   "cell_type": "code",
   "execution_count": null,
   "id": "ec315be3",
   "metadata": {},
   "outputs": [],
   "source": []
  },
  {
   "cell_type": "code",
   "execution_count": null,
   "id": "ef5c7dd3",
   "metadata": {},
   "outputs": [],
   "source": []
  },
  {
   "cell_type": "code",
   "execution_count": null,
   "id": "cd5b462a",
   "metadata": {},
   "outputs": [],
   "source": []
  },
  {
   "cell_type": "code",
   "execution_count": null,
   "id": "b6fe3c3b",
   "metadata": {},
   "outputs": [],
   "source": []
  },
  {
   "cell_type": "code",
   "execution_count": null,
   "id": "8637cd9c",
   "metadata": {},
   "outputs": [],
   "source": []
  },
  {
   "cell_type": "code",
   "execution_count": 98,
   "id": "22429923",
   "metadata": {},
   "outputs": [
    {
     "ename": "NoSuchElementException",
     "evalue": "Message: no such element: Unable to locate element: {\"method\":\"xpath\",\"selector\":\"/html/body/div[3]/div/div/div[1]/div[2]/div/div[2]/div[4]/div/div[2]/div/div[2]/button\"}\n  (Session info: chrome=99.0.4844.84)\nStacktrace:\nBacktrace:\n\tOrdinal0 [0x00689943+2595139]\n\tOrdinal0 [0x0061C9F1+2148849]\n\tOrdinal0 [0x00514528+1066280]\n\tOrdinal0 [0x00540FD4+1249236]\n\tOrdinal0 [0x005411CB+1249739]\n\tOrdinal0 [0x0056D812+1431570]\n\tOrdinal0 [0x0055BA34+1358388]\n\tOrdinal0 [0x0056BAF2+1424114]\n\tOrdinal0 [0x0055B806+1357830]\n\tOrdinal0 [0x00536086+1204358]\n\tOrdinal0 [0x00536F96+1208214]\n\tGetHandleVerifier [0x0082B232+1658114]\n\tGetHandleVerifier [0x008E312C+2411516]\n\tGetHandleVerifier [0x0071F261+560433]\n\tGetHandleVerifier [0x0071E366+556598]\n\tOrdinal0 [0x0062286B+2173035]\n\tOrdinal0 [0x006275F8+2192888]\n\tOrdinal0 [0x006276E5+2193125]\n\tOrdinal0 [0x006311FC+2232828]\n\tBaseThreadInitThunk [0x753CFA29+25]\n\tRtlGetAppContainerNamedObjectPath [0x77207A7E+286]\n\tRtlGetAppContainerNamedObjectPath [0x77207A4E+238]\n",
     "output_type": "error",
     "traceback": [
      "\u001b[1;31m---------------------------------------------------------------------------\u001b[0m",
      "\u001b[1;31mNoSuchElementException\u001b[0m                    Traceback (most recent call last)",
      "\u001b[1;32m<ipython-input-98-89f1075adc1a>\u001b[0m in \u001b[0;36m<module>\u001b[1;34m\u001b[0m\n\u001b[0;32m      4\u001b[0m \u001b[1;33m\u001b[0m\u001b[0m\n\u001b[0;32m      5\u001b[0m \u001b[1;31m#clicking search button\u001b[0m\u001b[1;33m\u001b[0m\u001b[1;33m\u001b[0m\u001b[1;33m\u001b[0m\u001b[0m\n\u001b[1;32m----> 6\u001b[1;33m \u001b[0mgo\u001b[0m\u001b[1;33m=\u001b[0m\u001b[0mdriver\u001b[0m\u001b[1;33m.\u001b[0m\u001b[0mfind_element_by_xpath\u001b[0m\u001b[1;33m(\u001b[0m\u001b[1;34m'/html/body/div[3]/div/div/div[1]/div[2]/div/div[2]/div[4]/div/div[2]/div/div[2]/button'\u001b[0m\u001b[1;33m)\u001b[0m\u001b[1;33m\u001b[0m\u001b[1;33m\u001b[0m\u001b[0m\n\u001b[0m\u001b[0;32m      7\u001b[0m \u001b[0mgo\u001b[0m\u001b[1;33m.\u001b[0m\u001b[0mclick\u001b[0m\u001b[1;33m(\u001b[0m\u001b[1;33m)\u001b[0m\u001b[1;33m\u001b[0m\u001b[1;33m\u001b[0m\u001b[0m\n",
      "\u001b[1;32m~\\anaconda3\\lib\\site-packages\\selenium\\webdriver\\remote\\webdriver.py\u001b[0m in \u001b[0;36mfind_element_by_xpath\u001b[1;34m(self, xpath)\u001b[0m\n\u001b[0;32m    519\u001b[0m             \u001b[0mstacklevel\u001b[0m\u001b[1;33m=\u001b[0m\u001b[1;36m2\u001b[0m\u001b[1;33m,\u001b[0m\u001b[1;33m\u001b[0m\u001b[1;33m\u001b[0m\u001b[0m\n\u001b[0;32m    520\u001b[0m         )\n\u001b[1;32m--> 521\u001b[1;33m         \u001b[1;32mreturn\u001b[0m \u001b[0mself\u001b[0m\u001b[1;33m.\u001b[0m\u001b[0mfind_element\u001b[0m\u001b[1;33m(\u001b[0m\u001b[0mby\u001b[0m\u001b[1;33m=\u001b[0m\u001b[0mBy\u001b[0m\u001b[1;33m.\u001b[0m\u001b[0mXPATH\u001b[0m\u001b[1;33m,\u001b[0m \u001b[0mvalue\u001b[0m\u001b[1;33m=\u001b[0m\u001b[0mxpath\u001b[0m\u001b[1;33m)\u001b[0m\u001b[1;33m\u001b[0m\u001b[1;33m\u001b[0m\u001b[0m\n\u001b[0m\u001b[0;32m    522\u001b[0m \u001b[1;33m\u001b[0m\u001b[0m\n\u001b[0;32m    523\u001b[0m     \u001b[1;32mdef\u001b[0m \u001b[0mfind_elements_by_xpath\u001b[0m\u001b[1;33m(\u001b[0m\u001b[0mself\u001b[0m\u001b[1;33m,\u001b[0m \u001b[0mxpath\u001b[0m\u001b[1;33m)\u001b[0m \u001b[1;33m->\u001b[0m \u001b[0mList\u001b[0m\u001b[1;33m[\u001b[0m\u001b[0mWebElement\u001b[0m\u001b[1;33m]\u001b[0m\u001b[1;33m:\u001b[0m\u001b[1;33m\u001b[0m\u001b[1;33m\u001b[0m\u001b[0m\n",
      "\u001b[1;32m~\\anaconda3\\lib\\site-packages\\selenium\\webdriver\\remote\\webdriver.py\u001b[0m in \u001b[0;36mfind_element\u001b[1;34m(self, by, value)\u001b[0m\n\u001b[0;32m   1246\u001b[0m             \u001b[0mvalue\u001b[0m \u001b[1;33m=\u001b[0m \u001b[1;34m'[name=\"%s\"]'\u001b[0m \u001b[1;33m%\u001b[0m \u001b[0mvalue\u001b[0m\u001b[1;33m\u001b[0m\u001b[1;33m\u001b[0m\u001b[0m\n\u001b[0;32m   1247\u001b[0m \u001b[1;33m\u001b[0m\u001b[0m\n\u001b[1;32m-> 1248\u001b[1;33m         return self.execute(Command.FIND_ELEMENT, {\n\u001b[0m\u001b[0;32m   1249\u001b[0m             \u001b[1;34m'using'\u001b[0m\u001b[1;33m:\u001b[0m \u001b[0mby\u001b[0m\u001b[1;33m,\u001b[0m\u001b[1;33m\u001b[0m\u001b[1;33m\u001b[0m\u001b[0m\n\u001b[0;32m   1250\u001b[0m             'value': value})['value']\n",
      "\u001b[1;32m~\\anaconda3\\lib\\site-packages\\selenium\\webdriver\\remote\\webdriver.py\u001b[0m in \u001b[0;36mexecute\u001b[1;34m(self, driver_command, params)\u001b[0m\n\u001b[0;32m    423\u001b[0m         \u001b[0mresponse\u001b[0m \u001b[1;33m=\u001b[0m \u001b[0mself\u001b[0m\u001b[1;33m.\u001b[0m\u001b[0mcommand_executor\u001b[0m\u001b[1;33m.\u001b[0m\u001b[0mexecute\u001b[0m\u001b[1;33m(\u001b[0m\u001b[0mdriver_command\u001b[0m\u001b[1;33m,\u001b[0m \u001b[0mparams\u001b[0m\u001b[1;33m)\u001b[0m\u001b[1;33m\u001b[0m\u001b[1;33m\u001b[0m\u001b[0m\n\u001b[0;32m    424\u001b[0m         \u001b[1;32mif\u001b[0m \u001b[0mresponse\u001b[0m\u001b[1;33m:\u001b[0m\u001b[1;33m\u001b[0m\u001b[1;33m\u001b[0m\u001b[0m\n\u001b[1;32m--> 425\u001b[1;33m             \u001b[0mself\u001b[0m\u001b[1;33m.\u001b[0m\u001b[0merror_handler\u001b[0m\u001b[1;33m.\u001b[0m\u001b[0mcheck_response\u001b[0m\u001b[1;33m(\u001b[0m\u001b[0mresponse\u001b[0m\u001b[1;33m)\u001b[0m\u001b[1;33m\u001b[0m\u001b[1;33m\u001b[0m\u001b[0m\n\u001b[0m\u001b[0;32m    426\u001b[0m             response['value'] = self._unwrap_value(\n\u001b[0;32m    427\u001b[0m                 response.get('value', None))\n",
      "\u001b[1;32m~\\anaconda3\\lib\\site-packages\\selenium\\webdriver\\remote\\errorhandler.py\u001b[0m in \u001b[0;36mcheck_response\u001b[1;34m(self, response)\u001b[0m\n\u001b[0;32m    245\u001b[0m                 \u001b[0malert_text\u001b[0m \u001b[1;33m=\u001b[0m \u001b[0mvalue\u001b[0m\u001b[1;33m[\u001b[0m\u001b[1;34m'alert'\u001b[0m\u001b[1;33m]\u001b[0m\u001b[1;33m.\u001b[0m\u001b[0mget\u001b[0m\u001b[1;33m(\u001b[0m\u001b[1;34m'text'\u001b[0m\u001b[1;33m)\u001b[0m\u001b[1;33m\u001b[0m\u001b[1;33m\u001b[0m\u001b[0m\n\u001b[0;32m    246\u001b[0m             \u001b[1;32mraise\u001b[0m \u001b[0mexception_class\u001b[0m\u001b[1;33m(\u001b[0m\u001b[0mmessage\u001b[0m\u001b[1;33m,\u001b[0m \u001b[0mscreen\u001b[0m\u001b[1;33m,\u001b[0m \u001b[0mstacktrace\u001b[0m\u001b[1;33m,\u001b[0m \u001b[0malert_text\u001b[0m\u001b[1;33m)\u001b[0m  \u001b[1;31m# type: ignore[call-arg]  # mypy is not smart enough here\u001b[0m\u001b[1;33m\u001b[0m\u001b[1;33m\u001b[0m\u001b[0m\n\u001b[1;32m--> 247\u001b[1;33m         \u001b[1;32mraise\u001b[0m \u001b[0mexception_class\u001b[0m\u001b[1;33m(\u001b[0m\u001b[0mmessage\u001b[0m\u001b[1;33m,\u001b[0m \u001b[0mscreen\u001b[0m\u001b[1;33m,\u001b[0m \u001b[0mstacktrace\u001b[0m\u001b[1;33m)\u001b[0m\u001b[1;33m\u001b[0m\u001b[1;33m\u001b[0m\u001b[0m\n\u001b[0m\u001b[0;32m    248\u001b[0m \u001b[1;33m\u001b[0m\u001b[0m\n\u001b[0;32m    249\u001b[0m     \u001b[1;32mdef\u001b[0m \u001b[0m_value_or_default\u001b[0m\u001b[1;33m(\u001b[0m\u001b[0mself\u001b[0m\u001b[1;33m,\u001b[0m \u001b[0mobj\u001b[0m\u001b[1;33m:\u001b[0m \u001b[0mMapping\u001b[0m\u001b[1;33m[\u001b[0m\u001b[0m_KT\u001b[0m\u001b[1;33m,\u001b[0m \u001b[0m_VT\u001b[0m\u001b[1;33m]\u001b[0m\u001b[1;33m,\u001b[0m \u001b[0mkey\u001b[0m\u001b[1;33m:\u001b[0m \u001b[0m_KT\u001b[0m\u001b[1;33m,\u001b[0m \u001b[0mdefault\u001b[0m\u001b[1;33m:\u001b[0m \u001b[0m_VT\u001b[0m\u001b[1;33m)\u001b[0m \u001b[1;33m->\u001b[0m \u001b[0m_VT\u001b[0m\u001b[1;33m:\u001b[0m\u001b[1;33m\u001b[0m\u001b[1;33m\u001b[0m\u001b[0m\n",
      "\u001b[1;31mNoSuchElementException\u001b[0m: Message: no such element: Unable to locate element: {\"method\":\"xpath\",\"selector\":\"/html/body/div[3]/div/div/div[1]/div[2]/div/div[2]/div[4]/div/div[2]/div/div[2]/button\"}\n  (Session info: chrome=99.0.4844.84)\nStacktrace:\nBacktrace:\n\tOrdinal0 [0x00689943+2595139]\n\tOrdinal0 [0x0061C9F1+2148849]\n\tOrdinal0 [0x00514528+1066280]\n\tOrdinal0 [0x00540FD4+1249236]\n\tOrdinal0 [0x005411CB+1249739]\n\tOrdinal0 [0x0056D812+1431570]\n\tOrdinal0 [0x0055BA34+1358388]\n\tOrdinal0 [0x0056BAF2+1424114]\n\tOrdinal0 [0x0055B806+1357830]\n\tOrdinal0 [0x00536086+1204358]\n\tOrdinal0 [0x00536F96+1208214]\n\tGetHandleVerifier [0x0082B232+1658114]\n\tGetHandleVerifier [0x008E312C+2411516]\n\tGetHandleVerifier [0x0071F261+560433]\n\tGetHandleVerifier [0x0071E366+556598]\n\tOrdinal0 [0x0062286B+2173035]\n\tOrdinal0 [0x006275F8+2192888]\n\tOrdinal0 [0x006276E5+2193125]\n\tOrdinal0 [0x006311FC+2232828]\n\tBaseThreadInitThunk [0x753CFA29+25]\n\tRtlGetAppContainerNamedObjectPath [0x77207A7E+286]\n\tRtlGetAppContainerNamedObjectPath [0x77207A4E+238]\n"
     ]
    }
   ],
   "source": [
    "#inspecting search field\n",
    "search_field=driver.find_element_by_xpath('/html/body/div[3]/div/div/div[1]/div[2]/div/div[2]/div[4]/div/div[2]/div/div[1]/div/div/div/input')\n",
    "search_field.send_keys('London')\n",
    "\n"
   ]
  },
  {
   "cell_type": "code",
   "execution_count": null,
   "id": "df34b82e",
   "metadata": {},
   "outputs": [],
   "source": []
  },
  {
   "cell_type": "code",
   "execution_count": null,
   "id": "ce1184cd",
   "metadata": {},
   "outputs": [],
   "source": []
  },
  {
   "cell_type": "code",
   "execution_count": null,
   "id": "a0f6d3cd",
   "metadata": {},
   "outputs": [],
   "source": []
  },
  {
   "cell_type": "code",
   "execution_count": null,
   "id": "c689f87f",
   "metadata": {},
   "outputs": [],
   "source": []
  },
  {
   "cell_type": "code",
   "execution_count": null,
   "id": "0810ba35",
   "metadata": {},
   "outputs": [],
   "source": []
  },
  {
   "cell_type": "code",
   "execution_count": null,
   "id": "c327ca92",
   "metadata": {},
   "outputs": [],
   "source": []
  },
  {
   "cell_type": "code",
   "execution_count": null,
   "id": "2c19a5ad",
   "metadata": {},
   "outputs": [],
   "source": []
  },
  {
   "cell_type": "code",
   "execution_count": null,
   "id": "7e58b9ba",
   "metadata": {},
   "outputs": [],
   "source": []
  },
  {
   "cell_type": "code",
   "execution_count": null,
   "id": "a946ee16",
   "metadata": {},
   "outputs": [],
   "source": []
  },
  {
   "cell_type": "code",
   "execution_count": null,
   "id": "e33961d4",
   "metadata": {},
   "outputs": [],
   "source": []
  },
  {
   "cell_type": "code",
   "execution_count": null,
   "id": "7f286a6f",
   "metadata": {},
   "outputs": [],
   "source": []
  },
  {
   "cell_type": "code",
   "execution_count": null,
   "id": "4be11b22",
   "metadata": {},
   "outputs": [],
   "source": []
  },
  {
   "cell_type": "code",
   "execution_count": null,
   "id": "de47b7af",
   "metadata": {},
   "outputs": [],
   "source": []
  },
  {
   "cell_type": "code",
   "execution_count": null,
   "id": "9e2f2517",
   "metadata": {},
   "outputs": [],
   "source": []
  },
  {
   "cell_type": "code",
   "execution_count": null,
   "id": "87999c05",
   "metadata": {},
   "outputs": [],
   "source": []
  },
  {
   "cell_type": "code",
   "execution_count": null,
   "id": "5986ac40",
   "metadata": {},
   "outputs": [],
   "source": []
  },
  {
   "cell_type": "code",
   "execution_count": null,
   "id": "c8d7af70",
   "metadata": {},
   "outputs": [],
   "source": []
  },
  {
   "cell_type": "code",
   "execution_count": null,
   "id": "5435c70e",
   "metadata": {},
   "outputs": [],
   "source": []
  },
  {
   "cell_type": "code",
   "execution_count": null,
   "id": "a5b0b1b0",
   "metadata": {},
   "outputs": [],
   "source": []
  },
  {
   "cell_type": "code",
   "execution_count": null,
   "id": "5cf8c2a9",
   "metadata": {},
   "outputs": [],
   "source": []
  },
  {
   "cell_type": "code",
   "execution_count": 17,
   "id": "1d88092f",
   "metadata": {},
   "outputs": [],
   "source": [
    "driver.quit()"
   ]
  }
 ],
 "metadata": {
  "kernelspec": {
   "display_name": "Python 3",
   "language": "python",
   "name": "python3"
  },
  "language_info": {
   "codemirror_mode": {
    "name": "ipython",
    "version": 3
   },
   "file_extension": ".py",
   "mimetype": "text/x-python",
   "name": "python",
   "nbconvert_exporter": "python",
   "pygments_lexer": "ipython3",
   "version": "3.8.8"
  }
 },
 "nbformat": 4,
 "nbformat_minor": 5
}
